{
 "cells": [
  {
   "cell_type": "code",
   "execution_count": 1,
   "id": "1e6f9c59",
   "metadata": {},
   "outputs": [],
   "source": [
    "import pandas as pd\n",
    "import numpy as np\n",
    "import os\n",
    "import matplotlib.pyplot as plt\n",
    "from sklearn.linear_model import Ridge\n",
    "from sklearn.model_selection import cross_val_score\n",
    "from sklearn.model_selection import train_test_split\n",
    "from sklearn.metrics import r2_score\n",
    "from sklearn.metrics import mean_absolute_percentage_error as MAPE"
   ]
  },
  {
   "cell_type": "code",
   "execution_count": 2,
   "id": "2958d288",
   "metadata": {},
   "outputs": [],
   "source": [
    "df = pd.read_csv(\"../../../../main/sub_data/single_variant/median/train/train_median.csv\",index_col=\"Date\",parse_dates=True)\n",
    "df_test = pd.read_csv(\"../../../../main/sub_data/single_variant/median/test/test_median.csv\",index_col=\"Date\",parse_dates=True)"
   ]
  },
  {
   "cell_type": "code",
   "execution_count": 3,
   "id": "394e26d3",
   "metadata": {},
   "outputs": [
    {
     "data": {
      "text/html": [
       "<div>\n",
       "<style scoped>\n",
       "    .dataframe tbody tr th:only-of-type {\n",
       "        vertical-align: middle;\n",
       "    }\n",
       "\n",
       "    .dataframe tbody tr th {\n",
       "        vertical-align: top;\n",
       "    }\n",
       "\n",
       "    .dataframe thead th {\n",
       "        text-align: right;\n",
       "    }\n",
       "</style>\n",
       "<table border=\"1\" class=\"dataframe\">\n",
       "  <thead>\n",
       "    <tr style=\"text-align: right;\">\n",
       "      <th></th>\n",
       "      <th>Max.Demand met during the day (MW)</th>\n",
       "    </tr>\n",
       "    <tr>\n",
       "      <th>Date</th>\n",
       "      <th></th>\n",
       "    </tr>\n",
       "  </thead>\n",
       "  <tbody>\n",
       "    <tr>\n",
       "      <th>2013-04-01</th>\n",
       "      <td>2776.0</td>\n",
       "    </tr>\n",
       "    <tr>\n",
       "      <th>2013-04-02</th>\n",
       "      <td>3034.0</td>\n",
       "    </tr>\n",
       "    <tr>\n",
       "      <th>2013-04-03</th>\n",
       "      <td>2991.0</td>\n",
       "    </tr>\n",
       "    <tr>\n",
       "      <th>2013-04-04</th>\n",
       "      <td>3125.0</td>\n",
       "    </tr>\n",
       "    <tr>\n",
       "      <th>2013-04-05</th>\n",
       "      <td>3160.0</td>\n",
       "    </tr>\n",
       "    <tr>\n",
       "      <th>...</th>\n",
       "      <td>...</td>\n",
       "    </tr>\n",
       "    <tr>\n",
       "      <th>2023-04-26</th>\n",
       "      <td>4445.0</td>\n",
       "    </tr>\n",
       "    <tr>\n",
       "      <th>2023-04-27</th>\n",
       "      <td>4626.0</td>\n",
       "    </tr>\n",
       "    <tr>\n",
       "      <th>2023-04-28</th>\n",
       "      <td>4395.0</td>\n",
       "    </tr>\n",
       "    <tr>\n",
       "      <th>2023-04-29</th>\n",
       "      <td>4048.0</td>\n",
       "    </tr>\n",
       "    <tr>\n",
       "      <th>2023-04-30</th>\n",
       "      <td>3791.0</td>\n",
       "    </tr>\n",
       "  </tbody>\n",
       "</table>\n",
       "<p>3682 rows × 1 columns</p>\n",
       "</div>"
      ],
      "text/plain": [
       "            Max.Demand met during the day (MW)\n",
       "Date                                          \n",
       "2013-04-01                              2776.0\n",
       "2013-04-02                              3034.0\n",
       "2013-04-03                              2991.0\n",
       "2013-04-04                              3125.0\n",
       "2013-04-05                              3160.0\n",
       "...                                        ...\n",
       "2023-04-26                              4445.0\n",
       "2023-04-27                              4626.0\n",
       "2023-04-28                              4395.0\n",
       "2023-04-29                              4048.0\n",
       "2023-04-30                              3791.0\n",
       "\n",
       "[3682 rows x 1 columns]"
      ]
     },
     "execution_count": 3,
     "metadata": {},
     "output_type": "execute_result"
    }
   ],
   "source": [
    "df"
   ]
  },
  {
   "cell_type": "markdown",
   "id": "a715e6ef",
   "metadata": {},
   "source": [
    "## Transforming Data\n",
    "    \n",
    "    The Steps adopted for Transformation are\n",
    "<ul>\n",
    "    <li>Rolling Window</li>\n",
    "    <li>Outliers Replacement</li>\n",
    "</ul>"
   ]
  },
  {
   "cell_type": "code",
   "execution_count": 4,
   "id": "a3d56169",
   "metadata": {},
   "outputs": [],
   "source": [
    "# We use Aggregate method (for this, we need a function)\n",
    "def percent_change(series):\n",
    "    prev = series[:-1]\n",
    "    last = series[-1:]\n",
    "    change = (last-np.sum(prev))/np.sum(prev)\n",
    "    return change\n",
    "\n",
    "def replace_outliers(series):\n",
    "    mean_diff = np.abs(series - np.mean(series))\n",
    "    # Criteria for detecting outliers\n",
    "    this_mask = mean_diff > (np.std(series) * 3)\n",
    "    # replace it with median\n",
    "    series[this_mask] = np.nanmedian(series)\n",
    "    return series"
   ]
  },
  {
   "cell_type": "code",
   "execution_count": 5,
   "id": "e58dbb29",
   "metadata": {},
   "outputs": [
    {
     "name": "stderr",
     "output_type": "stream",
     "text": [
      "/var/folders/l2/_mks1sd56yjdxq9514qt1fnh0000gn/T/ipykernel_10595/676245622.py:6: FutureWarning: Calling float on a single element Series is deprecated and will raise a TypeError in the future. Use float(ser.iloc[0]) instead\n",
      "  df_per_ch = df.rolling(10).aggregate(percent_change).dropna()\n"
     ]
    }
   ],
   "source": [
    "'''\n",
    "    Rolling : A rolling window of every size (n) is applied to every column\n",
    "    After applying an n size NaN Values will be available\n",
    "    \n",
    "'''\n",
    "df_per_ch = df.rolling(10).aggregate(percent_change).dropna()"
   ]
  },
  {
   "cell_type": "code",
   "execution_count": 6,
   "id": "2cb72a95",
   "metadata": {},
   "outputs": [
    {
     "data": {
      "text/html": [
       "<div>\n",
       "<style scoped>\n",
       "    .dataframe tbody tr th:only-of-type {\n",
       "        vertical-align: middle;\n",
       "    }\n",
       "\n",
       "    .dataframe tbody tr th {\n",
       "        vertical-align: top;\n",
       "    }\n",
       "\n",
       "    .dataframe thead th {\n",
       "        text-align: right;\n",
       "    }\n",
       "</style>\n",
       "<table border=\"1\" class=\"dataframe\">\n",
       "  <thead>\n",
       "    <tr style=\"text-align: right;\">\n",
       "      <th></th>\n",
       "      <th>Max.Demand met during the day (MW)</th>\n",
       "    </tr>\n",
       "    <tr>\n",
       "      <th>Date</th>\n",
       "      <th></th>\n",
       "    </tr>\n",
       "  </thead>\n",
       "  <tbody>\n",
       "    <tr>\n",
       "      <th>2013-04-10</th>\n",
       "      <td>-0.879993</td>\n",
       "    </tr>\n",
       "    <tr>\n",
       "      <th>2013-04-11</th>\n",
       "      <td>-0.875218</td>\n",
       "    </tr>\n",
       "    <tr>\n",
       "      <th>2013-04-12</th>\n",
       "      <td>-0.878073</td>\n",
       "    </tr>\n",
       "    <tr>\n",
       "      <th>2013-04-13</th>\n",
       "      <td>-0.879480</td>\n",
       "    </tr>\n",
       "    <tr>\n",
       "      <th>2013-04-14</th>\n",
       "      <td>-0.893184</td>\n",
       "    </tr>\n",
       "    <tr>\n",
       "      <th>...</th>\n",
       "      <td>...</td>\n",
       "    </tr>\n",
       "    <tr>\n",
       "      <th>2023-04-26</th>\n",
       "      <td>-0.893719</td>\n",
       "    </tr>\n",
       "    <tr>\n",
       "      <th>2023-04-27</th>\n",
       "      <td>-0.887743</td>\n",
       "    </tr>\n",
       "    <tr>\n",
       "      <th>2023-04-28</th>\n",
       "      <td>-0.891511</td>\n",
       "    </tr>\n",
       "    <tr>\n",
       "      <th>2023-04-29</th>\n",
       "      <td>-0.897968</td>\n",
       "    </tr>\n",
       "    <tr>\n",
       "      <th>2023-04-30</th>\n",
       "      <td>-0.902026</td>\n",
       "    </tr>\n",
       "  </tbody>\n",
       "</table>\n",
       "<p>3673 rows × 1 columns</p>\n",
       "</div>"
      ],
      "text/plain": [
       "            Max.Demand met during the day (MW)\n",
       "Date                                          \n",
       "2013-04-10                           -0.879993\n",
       "2013-04-11                           -0.875218\n",
       "2013-04-12                           -0.878073\n",
       "2013-04-13                           -0.879480\n",
       "2013-04-14                           -0.893184\n",
       "...                                        ...\n",
       "2023-04-26                           -0.893719\n",
       "2023-04-27                           -0.887743\n",
       "2023-04-28                           -0.891511\n",
       "2023-04-29                           -0.897968\n",
       "2023-04-30                           -0.902026\n",
       "\n",
       "[3673 rows x 1 columns]"
      ]
     },
     "execution_count": 6,
     "metadata": {},
     "output_type": "execute_result"
    }
   ],
   "source": [
    "df_per_ch"
   ]
  },
  {
   "cell_type": "code",
   "execution_count": 7,
   "id": "49d0be7d",
   "metadata": {},
   "outputs": [
    {
     "data": {
      "image/png": "[encoded data removed]",
      "text/plain": [
       "<Figure size 640x480 with 1 Axes>"
      ]
     },
     "metadata": {},
     "output_type": "display_data"
    }
   ],
   "source": [
    "# Now Visualize it\n",
    "df_per_ch.loc[:\"2014\"].plot()\n",
    "plt.show()"
   ]
  },
  {
   "cell_type": "code",
   "execution_count": 8,
   "id": "cc82c94c",
   "metadata": {},
   "outputs": [],
   "source": [
    "df_per_ch = df_per_ch.apply(lambda col : replace_outliers(col))"
   ]
  },
  {
   "cell_type": "code",
   "execution_count": 9,
   "id": "07727ad5",
   "metadata": {},
   "outputs": [
    {
     "data": {
      "image/png": "[encoded data removed]",
      "text/plain": [
       "<Figure size 640x480 with 1 Axes>"
      ]
     },
     "metadata": {},
     "output_type": "display_data"
    }
   ],
   "source": [
    "# Now Visualize it\n",
    "df_per_ch.loc[:\"2014\"].plot()\n",
    "plt.show()"
   ]
  },
  {
   "cell_type": "code",
   "execution_count": 10,
   "id": "66c65e96",
   "metadata": {},
   "outputs": [],
   "source": [
    "features_basic = df_per_ch.rolling(30,min_periods=5, closed='right').aggregate([np.max,np.min,np.mean,np.std]).dropna()"
   ]
  },
  {
   "cell_type": "code",
   "execution_count": 11,
   "id": "ae59dbdc",
   "metadata": {},
   "outputs": [
    {
     "name": "stderr",
     "output_type": "stream",
     "text": [
      "/var/folders/l2/_mks1sd56yjdxq9514qt1fnh0000gn/T/ipykernel_10595/2807689738.py:1: FutureWarning: Calling float on a single element Series is deprecated and will raise a TypeError in the future. Use float(ser.iloc[0]) instead\n",
      "  df_test1 = df_test.rolling(10).aggregate(percent_change).dropna()\n"
     ]
    },
    {
     "data": {
      "text/html": [
       "<div>\n",
       "<style scoped>\n",
       "    .dataframe tbody tr th:only-of-type {\n",
       "        vertical-align: middle;\n",
       "    }\n",
       "\n",
       "    .dataframe tbody tr th {\n",
       "        vertical-align: top;\n",
       "    }\n",
       "\n",
       "    .dataframe thead tr th {\n",
       "        text-align: left;\n",
       "    }\n",
       "\n",
       "    .dataframe thead tr:last-of-type th {\n",
       "        text-align: right;\n",
       "    }\n",
       "</style>\n",
       "<table border=\"1\" class=\"dataframe\">\n",
       "  <thead>\n",
       "    <tr>\n",
       "      <th></th>\n",
       "      <th colspan=\"4\" halign=\"left\">Max.Demand met during the day (MW)</th>\n",
       "    </tr>\n",
       "    <tr>\n",
       "      <th></th>\n",
       "      <th>amax</th>\n",
       "      <th>amin</th>\n",
       "      <th>mean</th>\n",
       "      <th>std</th>\n",
       "    </tr>\n",
       "    <tr>\n",
       "      <th>Date</th>\n",
       "      <th></th>\n",
       "      <th></th>\n",
       "      <th></th>\n",
       "      <th></th>\n",
       "    </tr>\n",
       "  </thead>\n",
       "  <tbody>\n",
       "    <tr>\n",
       "      <th>2023-05-14</th>\n",
       "      <td>-0.863081</td>\n",
       "      <td>-0.871281</td>\n",
       "      <td>-0.867774</td>\n",
       "      <td>0.003343</td>\n",
       "    </tr>\n",
       "    <tr>\n",
       "      <th>2023-05-15</th>\n",
       "      <td>-0.863081</td>\n",
       "      <td>-0.871281</td>\n",
       "      <td>-0.867105</td>\n",
       "      <td>0.003408</td>\n",
       "    </tr>\n",
       "    <tr>\n",
       "      <th>2023-05-16</th>\n",
       "      <td>-0.863081</td>\n",
       "      <td>-0.871281</td>\n",
       "      <td>-0.867353</td>\n",
       "      <td>0.003179</td>\n",
       "    </tr>\n",
       "    <tr>\n",
       "      <th>2023-05-17</th>\n",
       "      <td>-0.863081</td>\n",
       "      <td>-0.871281</td>\n",
       "      <td>-0.867346</td>\n",
       "      <td>0.003172</td>\n",
       "    </tr>\n",
       "    <tr>\n",
       "      <th>2023-05-18</th>\n",
       "      <td>-0.863081</td>\n",
       "      <td>-0.880159</td>\n",
       "      <td>-0.869069</td>\n",
       "      <td>0.005819</td>\n",
       "    </tr>\n",
       "    <tr>\n",
       "      <th>2023-05-19</th>\n",
       "      <td>-0.863764</td>\n",
       "      <td>-0.885684</td>\n",
       "      <td>-0.872298</td>\n",
       "      <td>0.007857</td>\n",
       "    </tr>\n",
       "    <tr>\n",
       "      <th>2023-05-20</th>\n",
       "      <td>-0.863764</td>\n",
       "      <td>-0.889092</td>\n",
       "      <td>-0.875599</td>\n",
       "      <td>0.009454</td>\n",
       "    </tr>\n",
       "    <tr>\n",
       "      <th>2023-05-21</th>\n",
       "      <td>-0.863764</td>\n",
       "      <td>-0.889092</td>\n",
       "      <td>-0.876714</td>\n",
       "      <td>0.009319</td>\n",
       "    </tr>\n",
       "    <tr>\n",
       "      <th>2023-05-22</th>\n",
       "      <td>-0.868835</td>\n",
       "      <td>-0.889092</td>\n",
       "      <td>-0.877811</td>\n",
       "      <td>0.007882</td>\n",
       "    </tr>\n",
       "    <tr>\n",
       "      <th>2023-05-23</th>\n",
       "      <td>-0.867543</td>\n",
       "      <td>-0.889092</td>\n",
       "      <td>-0.877627</td>\n",
       "      <td>0.008138</td>\n",
       "    </tr>\n",
       "    <tr>\n",
       "      <th>2023-05-24</th>\n",
       "      <td>-0.867543</td>\n",
       "      <td>-0.889092</td>\n",
       "      <td>-0.879532</td>\n",
       "      <td>0.007709</td>\n",
       "    </tr>\n",
       "    <tr>\n",
       "      <th>2023-05-25</th>\n",
       "      <td>-0.867543</td>\n",
       "      <td>-0.895520</td>\n",
       "      <td>-0.881727</td>\n",
       "      <td>0.009815</td>\n",
       "    </tr>\n",
       "    <tr>\n",
       "      <th>2023-05-26</th>\n",
       "      <td>-0.867543</td>\n",
       "      <td>-0.906149</td>\n",
       "      <td>-0.884650</td>\n",
       "      <td>0.013534</td>\n",
       "    </tr>\n",
       "    <tr>\n",
       "      <th>2023-05-27</th>\n",
       "      <td>-0.867543</td>\n",
       "      <td>-0.906149</td>\n",
       "      <td>-0.886699</td>\n",
       "      <td>0.015289</td>\n",
       "    </tr>\n",
       "    <tr>\n",
       "      <th>2023-05-28</th>\n",
       "      <td>-0.867543</td>\n",
       "      <td>-0.907654</td>\n",
       "      <td>-0.890780</td>\n",
       "      <td>0.016669</td>\n",
       "    </tr>\n",
       "    <tr>\n",
       "      <th>2023-05-29</th>\n",
       "      <td>-0.867543</td>\n",
       "      <td>-0.907654</td>\n",
       "      <td>-0.895772</td>\n",
       "      <td>0.015069</td>\n",
       "    </tr>\n",
       "    <tr>\n",
       "      <th>2023-05-30</th>\n",
       "      <td>-0.883720</td>\n",
       "      <td>-0.907654</td>\n",
       "      <td>-0.900909</td>\n",
       "      <td>0.008569</td>\n",
       "    </tr>\n",
       "    <tr>\n",
       "      <th>2023-05-31</th>\n",
       "      <td>-0.895520</td>\n",
       "      <td>-0.909672</td>\n",
       "      <td>-0.904616</td>\n",
       "      <td>0.004577</td>\n",
       "    </tr>\n",
       "  </tbody>\n",
       "</table>\n",
       "</div>"
      ],
      "text/plain": [
       "           Max.Demand met during the day (MW)                              \n",
       "                                         amax      amin      mean       std\n",
       "Date                                                                       \n",
       "2023-05-14                          -0.863081 -0.871281 -0.867774  0.003343\n",
       "2023-05-15                          -0.863081 -0.871281 -0.867105  0.003408\n",
       "2023-05-16                          -0.863081 -0.871281 -0.867353  0.003179\n",
       "2023-05-17                          -0.863081 -0.871281 -0.867346  0.003172\n",
       "2023-05-18                          -0.863081 -0.880159 -0.869069  0.005819\n",
       "2023-05-19                          -0.863764 -0.885684 -0.872298  0.007857\n",
       "2023-05-20                          -0.863764 -0.889092 -0.875599  0.009454\n",
       "2023-05-21                          -0.863764 -0.889092 -0.876714  0.009319\n",
       "2023-05-22                          -0.868835 -0.889092 -0.877811  0.007882\n",
       "2023-05-23                          -0.867543 -0.889092 -0.877627  0.008138\n",
       "2023-05-24                          -0.867543 -0.889092 -0.879532  0.007709\n",
       "2023-05-25                          -0.867543 -0.895520 -0.881727  0.009815\n",
       "2023-05-26                          -0.867543 -0.906149 -0.884650  0.013534\n",
       "2023-05-27                          -0.867543 -0.906149 -0.886699  0.015289\n",
       "2023-05-28                          -0.867543 -0.907654 -0.890780  0.016669\n",
       "2023-05-29                          -0.867543 -0.907654 -0.895772  0.015069\n",
       "2023-05-30                          -0.883720 -0.907654 -0.900909  0.008569\n",
       "2023-05-31                          -0.895520 -0.909672 -0.904616  0.004577"
      ]
     },
     "execution_count": 11,
     "metadata": {},
     "output_type": "execute_result"
    }
   ],
   "source": [
    "df_test1 = df_test.rolling(10).aggregate(percent_change).dropna()\n",
    "features_basic_test1 = df_test1.rolling(7,min_periods=5, closed='right').aggregate([np.max,np.min,np.mean,np.std]).dropna()\n",
    "features_basic_test1.dropna()"
   ]
  },
  {
   "cell_type": "code",
   "execution_count": 12,
   "id": "9dd3d12f",
   "metadata": {},
   "outputs": [],
   "source": [
    "cols = features_basic.columns\n",
    "X_train = features_basic\n",
    "y_train = df.loc[\"2013-04-14\":]\n",
    "X_test = features_basic_test1.dropna()\n",
    "y_test = df_test.loc['2023-05-14':]"
   ]
  },
  {
   "cell_type": "code",
   "execution_count": 13,
   "id": "5c3bd423",
   "metadata": {},
   "outputs": [
    {
     "data": {
      "text/plain": [
       "0.18782494011720532"
      ]
     },
     "execution_count": 13,
     "metadata": {},
     "output_type": "execute_result"
    }
   ],
   "source": [
    "# Fit the Ridge model\n",
    "model = Ridge()\n",
    "model.fit(X_train, y_train)\n",
    "y_pred = model.predict(X_test)\n",
    "MAPE(y_test,y_pred)"
   ]
  },
  {
   "cell_type": "code",
   "execution_count": 14,
   "id": "7c2ab979",
   "metadata": {},
   "outputs": [
    {
     "data": {
      "text/plain": [
       "0.13776003114117324"
      ]
     },
     "execution_count": 14,
     "metadata": {},
     "output_type": "execute_result"
    }
   ],
   "source": [
    "from sklearn.linear_model import Lasso\n",
    "lasso = Lasso(alpha=0.1)\n",
    "lasso.fit(X_train, y_train)\n",
    "y_pred = lasso.predict(X_test)\n",
    "MAPE(y_test,y_pred)"
   ]
  },
  {
   "cell_type": "code",
   "execution_count": 15,
   "id": "64bb0a0c",
   "metadata": {},
   "outputs": [
    {
     "name": "stderr",
     "output_type": "stream",
     "text": [
      "/Users/sujaykumar/miniconda3/envs/tensorflow/lib/python3.10/site-packages/sklearn/ensemble/_gb.py:437: DataConversionWarning: A column-vector y was passed when a 1d array was expected. Please change the shape of y to (n_samples, ), for example using ravel().\n",
      "  y = column_or_1d(y, warn=True)\n"
     ]
    },
    {
     "data": {
      "text/plain": [
       "0.12304632074867415"
      ]
     },
     "execution_count": 15,
     "metadata": {},
     "output_type": "execute_result"
    }
   ],
   "source": [
    "from sklearn.ensemble import GradientBoostingRegressor\n",
    "gbm = GradientBoostingRegressor()\n",
    "gbm.fit(X_train, y_train)\n",
    "y_pred = gbm.predict(X_test)\n",
    "MAPE(y_pred,y_test)"
   ]
  },
  {
   "cell_type": "code",
   "execution_count": 16,
   "id": "3c5e09bd",
   "metadata": {},
   "outputs": [
    {
     "name": "stderr",
     "output_type": "stream",
     "text": [
      "/Users/sujaykumar/miniconda3/envs/tensorflow/lib/python3.10/site-packages/sklearn/utils/validation.py:1143: DataConversionWarning: A column-vector y was passed when a 1d array was expected. Please change the shape of y to (n_samples, ), for example using ravel().\n",
      "  y = column_or_1d(y, warn=True)\n"
     ]
    },
    {
     "data": {
      "text/plain": [
       "0.22380322319925192"
      ]
     },
     "execution_count": 16,
     "metadata": {},
     "output_type": "execute_result"
    }
   ],
   "source": [
    "from sklearn.svm import SVR\n",
    "from sklearn.preprocessing import StandardScaler\n",
    "scaler = StandardScaler()\n",
    "X_train_scaled = scaler.fit_transform(X_train)\n",
    "X_test_scaled = scaler.transform(X_test)\n",
    "svr = SVR()\n",
    "svr.fit(X_train_scaled, y_train)\n",
    "y_pred = svr.predict(X_test_scaled)\n",
    "MAPE(y_test,y_pred)"
   ]
  },
  {
   "cell_type": "code",
   "execution_count": 17,
   "id": "e7259c1f",
   "metadata": {
    "scrolled": true
   },
   "outputs": [
    {
     "name": "stdout",
     "output_type": "stream",
     "text": [
      "Metal device set to: Apple M1\n",
      "Epoch 1/10\n"
     ]
    },
    {
     "name": "stderr",
     "output_type": "stream",
     "text": [
      "2023-07-18 00:03:54.721484: W tensorflow/tsl/platform/profile_utils/cpu_utils.cc:128] Failed to get CPU frequency: 0 Hz\n"
     ]
    },
    {
     "name": "stdout",
     "output_type": "stream",
     "text": [
      "115/115 [==============================] - 2s 8ms/step - loss: 15504522.0000\n",
      "Epoch 2/10\n",
      "115/115 [==============================] - 1s 8ms/step - loss: 1325298.1250\n",
      "Epoch 3/10\n",
      "115/115 [==============================] - 1s 7ms/step - loss: 968540.7500\n",
      "Epoch 4/10\n",
      "115/115 [==============================] - 1s 7ms/step - loss: 969343.6250\n",
      "Epoch 5/10\n",
      "115/115 [==============================] - 1s 7ms/step - loss: 968051.2500\n",
      "Epoch 6/10\n",
      "115/115 [==============================] - 1s 7ms/step - loss: 972278.8125\n",
      "Epoch 7/10\n",
      "115/115 [==============================] - 1s 6ms/step - loss: 969316.3125\n",
      "Epoch 8/10\n",
      "115/115 [==============================] - 1s 7ms/step - loss: 969232.0625\n",
      "Epoch 9/10\n",
      "115/115 [==============================] - 1s 7ms/step - loss: 973014.8125\n",
      "Epoch 10/10\n",
      "115/115 [==============================] - 1s 7ms/step - loss: 969468.2500\n",
      "1/1 [==============================] - 0s 171ms/step\n"
     ]
    },
    {
     "data": {
      "text/plain": [
       "0.2582579353116541"
      ]
     },
     "execution_count": 17,
     "metadata": {},
     "output_type": "execute_result"
    }
   ],
   "source": [
    "from tensorflow.keras.models import Sequential\n",
    "from tensorflow.keras.layers import LSTM, Dense\n",
    "\n",
    "# Assuming X_train and y_train are Pandas DataFrames\n",
    "\n",
    "# Convert to numpy arrays\n",
    "X_train_np = X_train.to_numpy()\n",
    "y_train_np = y_train.to_numpy()\n",
    "X_test_np = X_test.to_numpy()\n",
    "y_test_np = y_test.to_numpy()\n",
    "\n",
    "# Reshape the input data\n",
    "X_train_reshaped = np.reshape(X_train_np, (X_train_np.shape[0], X_train_np.shape[1], 1))\n",
    "\n",
    "# Create an LSTM model\n",
    "model = Sequential()\n",
    "model.add(LSTM(64, input_shape=(X_train_reshaped.shape[1], X_train_reshaped.shape[2])))\n",
    "model.add(Dense(64))\n",
    "model.add(Dense(64))\n",
    "model.add(Dense(1))\n",
    "\n",
    "# Compile and train the model\n",
    "model.compile(loss='mean_squared_error', optimizer='adam')\n",
    "model.fit(X_train_reshaped, y_train_np, epochs=10, batch_size=32)\n",
    "\n",
    "# Make predictions on the training set\n",
    "y_pred_train = model.predict(np.reshape(X_test_np, (X_test_np.shape[0], X_test_np.shape[1], 1)))\n",
    "MAPE(y_pred_train,y_test_np)"
   ]
  },
  {
   "cell_type": "markdown",
   "id": "fb910fc1",
   "metadata": {},
   "source": [
    "## Without Rolling"
   ]
  },
  {
   "cell_type": "code",
   "execution_count": 18,
   "id": "88232ee0",
   "metadata": {},
   "outputs": [],
   "source": [
    "features_basic_no = df.rolling(30,min_periods=5, closed='right').aggregate([np.max,np.min,np.mean,np.std])"
   ]
  },
  {
   "cell_type": "code",
   "execution_count": 19,
   "id": "9d0d5941",
   "metadata": {},
   "outputs": [
    {
     "data": {
      "text/html": [
       "<div>\n",
       "<style scoped>\n",
       "    .dataframe tbody tr th:only-of-type {\n",
       "        vertical-align: middle;\n",
       "    }\n",
       "\n",
       "    .dataframe tbody tr th {\n",
       "        vertical-align: top;\n",
       "    }\n",
       "\n",
       "    .dataframe thead tr th {\n",
       "        text-align: left;\n",
       "    }\n",
       "\n",
       "    .dataframe thead tr:last-of-type th {\n",
       "        text-align: right;\n",
       "    }\n",
       "</style>\n",
       "<table border=\"1\" class=\"dataframe\">\n",
       "  <thead>\n",
       "    <tr>\n",
       "      <th></th>\n",
       "      <th colspan=\"4\" halign=\"left\">Max.Demand met during the day (MW)</th>\n",
       "    </tr>\n",
       "    <tr>\n",
       "      <th></th>\n",
       "      <th>amax</th>\n",
       "      <th>amin</th>\n",
       "      <th>mean</th>\n",
       "      <th>std</th>\n",
       "    </tr>\n",
       "    <tr>\n",
       "      <th>Date</th>\n",
       "      <th></th>\n",
       "      <th></th>\n",
       "      <th></th>\n",
       "      <th></th>\n",
       "    </tr>\n",
       "  </thead>\n",
       "  <tbody>\n",
       "    <tr>\n",
       "      <th>2023-05-05</th>\n",
       "      <td>3944.0</td>\n",
       "      <td>3607.0</td>\n",
       "      <td>3768.600000</td>\n",
       "      <td>160.840915</td>\n",
       "    </tr>\n",
       "    <tr>\n",
       "      <th>2023-05-06</th>\n",
       "      <td>3944.0</td>\n",
       "      <td>3607.0</td>\n",
       "      <td>3778.166667</td>\n",
       "      <td>145.756532</td>\n",
       "    </tr>\n",
       "    <tr>\n",
       "      <th>2023-05-07</th>\n",
       "      <td>3944.0</td>\n",
       "      <td>3607.0</td>\n",
       "      <td>3783.571429</td>\n",
       "      <td>133.823089</td>\n",
       "    </tr>\n",
       "    <tr>\n",
       "      <th>2023-05-08</th>\n",
       "      <td>4460.0</td>\n",
       "      <td>3607.0</td>\n",
       "      <td>3868.125000</td>\n",
       "      <td>269.341227</td>\n",
       "    </tr>\n",
       "    <tr>\n",
       "      <th>2023-05-09</th>\n",
       "      <td>4518.0</td>\n",
       "      <td>3607.0</td>\n",
       "      <td>3940.333333</td>\n",
       "      <td>332.269469</td>\n",
       "    </tr>\n",
       "    <tr>\n",
       "      <th>2023-05-10</th>\n",
       "      <td>4595.0</td>\n",
       "      <td>3607.0</td>\n",
       "      <td>4005.800000</td>\n",
       "      <td>375.492802</td>\n",
       "    </tr>\n",
       "    <tr>\n",
       "      <th>2023-05-11</th>\n",
       "      <td>4808.0</td>\n",
       "      <td>3607.0</td>\n",
       "      <td>4078.727273</td>\n",
       "      <td>430.578237</td>\n",
       "    </tr>\n",
       "    <tr>\n",
       "      <th>2023-05-12</th>\n",
       "      <td>5145.0</td>\n",
       "      <td>3607.0</td>\n",
       "      <td>4167.583333</td>\n",
       "      <td>513.116053</td>\n",
       "    </tr>\n",
       "    <tr>\n",
       "      <th>2023-05-13</th>\n",
       "      <td>5197.0</td>\n",
       "      <td>3607.0</td>\n",
       "      <td>4246.769231</td>\n",
       "      <td>568.210078</td>\n",
       "    </tr>\n",
       "    <tr>\n",
       "      <th>2023-05-14</th>\n",
       "      <td>5197.0</td>\n",
       "      <td>3607.0</td>\n",
       "      <td>4314.000000</td>\n",
       "      <td>601.087988</td>\n",
       "    </tr>\n",
       "    <tr>\n",
       "      <th>2023-05-15</th>\n",
       "      <td>5661.0</td>\n",
       "      <td>3607.0</td>\n",
       "      <td>4403.800000</td>\n",
       "      <td>675.618045</td>\n",
       "    </tr>\n",
       "    <tr>\n",
       "      <th>2023-05-16</th>\n",
       "      <td>5691.0</td>\n",
       "      <td>3607.0</td>\n",
       "      <td>4484.250000</td>\n",
       "      <td>727.725452</td>\n",
       "    </tr>\n",
       "    <tr>\n",
       "      <th>2023-05-17</th>\n",
       "      <td>5867.0</td>\n",
       "      <td>3607.0</td>\n",
       "      <td>4565.588235</td>\n",
       "      <td>780.356173</td>\n",
       "    </tr>\n",
       "    <tr>\n",
       "      <th>2023-05-18</th>\n",
       "      <td>5867.0</td>\n",
       "      <td>3607.0</td>\n",
       "      <td>4622.666667</td>\n",
       "      <td>794.844565</td>\n",
       "    </tr>\n",
       "    <tr>\n",
       "      <th>2023-05-19</th>\n",
       "      <td>5867.0</td>\n",
       "      <td>3607.0</td>\n",
       "      <td>4666.631579</td>\n",
       "      <td>795.867117</td>\n",
       "    </tr>\n",
       "    <tr>\n",
       "      <th>2023-05-20</th>\n",
       "      <td>5867.0</td>\n",
       "      <td>3607.0</td>\n",
       "      <td>4702.850000</td>\n",
       "      <td>791.392994</td>\n",
       "    </tr>\n",
       "    <tr>\n",
       "      <th>2023-05-21</th>\n",
       "      <td>5948.0</td>\n",
       "      <td>3607.0</td>\n",
       "      <td>4762.142857</td>\n",
       "      <td>817.811854</td>\n",
       "    </tr>\n",
       "    <tr>\n",
       "      <th>2023-05-22</th>\n",
       "      <td>6427.0</td>\n",
       "      <td>3607.0</td>\n",
       "      <td>4837.818182</td>\n",
       "      <td>873.473778</td>\n",
       "    </tr>\n",
       "    <tr>\n",
       "      <th>2023-05-23</th>\n",
       "      <td>6785.0</td>\n",
       "      <td>3607.0</td>\n",
       "      <td>4922.478261</td>\n",
       "      <td>945.052998</td>\n",
       "    </tr>\n",
       "    <tr>\n",
       "      <th>2023-05-24</th>\n",
       "      <td>6785.0</td>\n",
       "      <td>3607.0</td>\n",
       "      <td>4973.291667</td>\n",
       "      <td>957.215594</td>\n",
       "    </tr>\n",
       "    <tr>\n",
       "      <th>2023-05-25</th>\n",
       "      <td>6785.0</td>\n",
       "      <td>3607.0</td>\n",
       "      <td>4997.120000</td>\n",
       "      <td>944.605134</td>\n",
       "    </tr>\n",
       "    <tr>\n",
       "      <th>2023-05-26</th>\n",
       "      <td>6785.0</td>\n",
       "      <td>3607.0</td>\n",
       "      <td>4996.884615</td>\n",
       "      <td>925.521013</td>\n",
       "    </tr>\n",
       "    <tr>\n",
       "      <th>2023-05-27</th>\n",
       "      <td>6785.0</td>\n",
       "      <td>3607.0</td>\n",
       "      <td>4998.888889</td>\n",
       "      <td>907.607774</td>\n",
       "    </tr>\n",
       "    <tr>\n",
       "      <th>2023-05-28</th>\n",
       "      <td>6785.0</td>\n",
       "      <td>3607.0</td>\n",
       "      <td>4991.071429</td>\n",
       "      <td>891.601760</td>\n",
       "    </tr>\n",
       "    <tr>\n",
       "      <th>2023-05-29</th>\n",
       "      <td>6785.0</td>\n",
       "      <td>3607.0</td>\n",
       "      <td>4983.862069</td>\n",
       "      <td>876.395896</td>\n",
       "    </tr>\n",
       "    <tr>\n",
       "      <th>2023-05-30</th>\n",
       "      <td>6785.0</td>\n",
       "      <td>3607.0</td>\n",
       "      <td>4980.100000</td>\n",
       "      <td>861.399557</td>\n",
       "    </tr>\n",
       "    <tr>\n",
       "      <th>2023-05-31</th>\n",
       "      <td>6785.0</td>\n",
       "      <td>3670.0</td>\n",
       "      <td>5008.600000</td>\n",
       "      <td>827.895612</td>\n",
       "    </tr>\n",
       "  </tbody>\n",
       "</table>\n",
       "</div>"
      ],
      "text/plain": [
       "           Max.Demand met during the day (MW)                                 \n",
       "                                         amax    amin         mean         std\n",
       "Date                                                                          \n",
       "2023-05-05                             3944.0  3607.0  3768.600000  160.840915\n",
       "2023-05-06                             3944.0  3607.0  3778.166667  145.756532\n",
       "2023-05-07                             3944.0  3607.0  3783.571429  133.823089\n",
       "2023-05-08                             4460.0  3607.0  3868.125000  269.341227\n",
       "2023-05-09                             4518.0  3607.0  3940.333333  332.269469\n",
       "2023-05-10                             4595.0  3607.0  4005.800000  375.492802\n",
       "2023-05-11                             4808.0  3607.0  4078.727273  430.578237\n",
       "2023-05-12                             5145.0  3607.0  4167.583333  513.116053\n",
       "2023-05-13                             5197.0  3607.0  4246.769231  568.210078\n",
       "2023-05-14                             5197.0  3607.0  4314.000000  601.087988\n",
       "2023-05-15                             5661.0  3607.0  4403.800000  675.618045\n",
       "2023-05-16                             5691.0  3607.0  4484.250000  727.725452\n",
       "2023-05-17                             5867.0  3607.0  4565.588235  780.356173\n",
       "2023-05-18                             5867.0  3607.0  4622.666667  794.844565\n",
       "2023-05-19                             5867.0  3607.0  4666.631579  795.867117\n",
       "2023-05-20                             5867.0  3607.0  4702.850000  791.392994\n",
       "2023-05-21                             5948.0  3607.0  4762.142857  817.811854\n",
       "2023-05-22                             6427.0  3607.0  4837.818182  873.473778\n",
       "2023-05-23                             6785.0  3607.0  4922.478261  945.052998\n",
       "2023-05-24                             6785.0  3607.0  4973.291667  957.215594\n",
       "2023-05-25                             6785.0  3607.0  4997.120000  944.605134\n",
       "2023-05-26                             6785.0  3607.0  4996.884615  925.521013\n",
       "2023-05-27                             6785.0  3607.0  4998.888889  907.607774\n",
       "2023-05-28                             6785.0  3607.0  4991.071429  891.601760\n",
       "2023-05-29                             6785.0  3607.0  4983.862069  876.395896\n",
       "2023-05-30                             6785.0  3607.0  4980.100000  861.399557\n",
       "2023-05-31                             6785.0  3670.0  5008.600000  827.895612"
      ]
     },
     "execution_count": 19,
     "metadata": {},
     "output_type": "execute_result"
    }
   ],
   "source": [
    "features_basic_no = features_basic_no.dropna()\n",
    "features_basic_test2 = df_test.rolling(30,min_periods=5, closed='right').aggregate([np.max,np.min,np.mean,np.std])\n",
    "features_basic_test2.dropna()"
   ]
  },
  {
   "cell_type": "code",
   "execution_count": 20,
   "id": "9e1cc88d",
   "metadata": {},
   "outputs": [],
   "source": [
    "cols = features_basic.columns\n",
    "X_train_no = features_basic\n",
    "y_train_no = df.loc['2013-04-05':]\n",
    "X_test_no = features_basic_test2.dropna()\n",
    "y_test_no =df_test.loc['2023-05-05':]"
   ]
  },
  {
   "cell_type": "code",
   "execution_count": 21,
   "id": "70e6822b",
   "metadata": {},
   "outputs": [
    {
     "data": {
      "text/plain": [
       "0.18782494011720532"
      ]
     },
     "execution_count": 21,
     "metadata": {},
     "output_type": "execute_result"
    }
   ],
   "source": [
    "# Fit the Ridge model\n",
    "model = Ridge()\n",
    "model.fit(X_train, y_train)\n",
    "y_pred = model.predict(X_test)\n",
    "MAPE(y_test,y_pred)"
   ]
  },
  {
   "cell_type": "code",
   "execution_count": 22,
   "id": "fcb36392",
   "metadata": {},
   "outputs": [
    {
     "data": {
      "text/plain": [
       "0.13776003114117324"
      ]
     },
     "execution_count": 22,
     "metadata": {},
     "output_type": "execute_result"
    }
   ],
   "source": [
    "from sklearn.linear_model import Lasso\n",
    "lasso = Lasso(alpha=0.1)\n",
    "lasso.fit(X_train, y_train)\n",
    "y_pred = lasso.predict(X_test)\n",
    "MAPE(y_test,y_pred)"
   ]
  },
  {
   "cell_type": "code",
   "execution_count": 23,
   "id": "9e6a7152",
   "metadata": {},
   "outputs": [
    {
     "name": "stderr",
     "output_type": "stream",
     "text": [
      "/Users/sujaykumar/miniconda3/envs/tensorflow/lib/python3.10/site-packages/sklearn/ensemble/_gb.py:437: DataConversionWarning: A column-vector y was passed when a 1d array was expected. Please change the shape of y to (n_samples, ), for example using ravel().\n",
      "  y = column_or_1d(y, warn=True)\n"
     ]
    },
    {
     "data": {
      "text/plain": [
       "0.12304632074867398"
      ]
     },
     "execution_count": 23,
     "metadata": {},
     "output_type": "execute_result"
    }
   ],
   "source": [
    "from sklearn.ensemble import GradientBoostingRegressor\n",
    "gbm = GradientBoostingRegressor()\n",
    "gbm.fit(X_train, y_train)\n",
    "y_pred = gbm.predict(X_test)\n",
    "MAPE(y_pred,y_test)"
   ]
  },
  {
   "cell_type": "code",
   "execution_count": 24,
   "id": "71bc5728",
   "metadata": {},
   "outputs": [
    {
     "name": "stderr",
     "output_type": "stream",
     "text": [
      "/Users/sujaykumar/miniconda3/envs/tensorflow/lib/python3.10/site-packages/sklearn/utils/validation.py:1143: DataConversionWarning: A column-vector y was passed when a 1d array was expected. Please change the shape of y to (n_samples, ), for example using ravel().\n",
      "  y = column_or_1d(y, warn=True)\n"
     ]
    },
    {
     "data": {
      "text/plain": [
       "0.22380322319925192"
      ]
     },
     "execution_count": 24,
     "metadata": {},
     "output_type": "execute_result"
    }
   ],
   "source": [
    "from sklearn.svm import SVR\n",
    "from sklearn.preprocessing import StandardScaler\n",
    "scaler = StandardScaler()\n",
    "X_train_scaled = scaler.fit_transform(X_train)\n",
    "X_test_scaled = scaler.transform(X_test)\n",
    "svr = SVR()\n",
    "svr.fit(X_train_scaled, y_train)\n",
    "y_pred = svr.predict(X_test_scaled)\n",
    "MAPE(y_test,y_pred)"
   ]
  },
  {
   "cell_type": "code",
   "execution_count": null,
   "id": "640d2175",
   "metadata": {},
   "outputs": [],
   "source": []
  }
 ],
 "metadata": {
  "kernelspec": {
   "display_name": "Python 3.10 (tensorflow)",
   "language": "python",
   "name": "tensorflow"
  },
  "language_info": {
   "codemirror_mode": {
    "name": "ipython",
    "version": 3
   },
   "file_extension": ".py",
   "mimetype": "text/x-python",
   "name": "python",
   "nbconvert_exporter": "python",
   "pygments_lexer": "ipython3",
   "version": "3.10.11"
  }
 },
 "nbformat": 4,
 "nbformat_minor": 5
}
