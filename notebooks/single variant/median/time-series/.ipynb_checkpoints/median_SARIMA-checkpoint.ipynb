{
 "cells": [
  {
   "cell_type": "markdown",
   "id": "40002108",
   "metadata": {},
   "source": [
    "## Results of the No null and No Imputation Data\n",
    "<hr/>\n",
    "\n",
    "</h3>We considered the data which has no null values and no imputation techniques used where all the values are dropped off....</h3>\n",
    "\n",
    "\n",
    "<h4>        Aims and Goals of this Experiment</h4>\n",
    "<ul>\n",
    "    <li> What are MAPE and MAE scores of train and test data </li>\n",
    "    <li> Levraging SARIMA models to capture seasonal difference </li>\n",
    "</ul>\n",
    "    "
   ]
  },
  {
   "cell_type": "code",
   "execution_count": 1,
   "id": "e00fc5af",
   "metadata": {},
   "outputs": [],
   "source": [
    "import pandas as pd\n",
    "import numpy as np\n",
    "import joblib\n",
    "import pmdarima as pm\n",
    "import matplotlib.pyplot as plt\n",
    "from statsmodels.tsa.statespace.sarimax import SARIMAX\n",
    "from statsmodels.graphics.tsaplots import plot_acf, plot_pacf"
   ]
  },
  {
   "cell_type": "code",
   "execution_count": 2,
   "id": "0f5cee08",
   "metadata": {},
   "outputs": [],
   "source": [
    "df1_train = pd.read_csv(\"../../../../main/sub_data/single_variant/median/train/train_median.csv\",index_col='Date',parse_dates=True)\n",
    "df1_test = pd.read_csv(\"../../../../main/sub_data/single_variant/median/test/test_median.csv\",index_col='Date',parse_dates=True)"
   ]
  },
  {
   "cell_type": "code",
   "execution_count": 3,
   "id": "81325e64",
   "metadata": {},
   "outputs": [
    {
     "data": {
      "text/html": [
       "<div>\n",
       "<style scoped>\n",
       "    .dataframe tbody tr th:only-of-type {\n",
       "        vertical-align: middle;\n",
       "    }\n",
       "\n",
       "    .dataframe tbody tr th {\n",
       "        vertical-align: top;\n",
       "    }\n",
       "\n",
       "    .dataframe thead th {\n",
       "        text-align: right;\n",
       "    }\n",
       "</style>\n",
       "<table border=\"1\" class=\"dataframe\">\n",
       "  <thead>\n",
       "    <tr style=\"text-align: right;\">\n",
       "      <th></th>\n",
       "      <th>Max.Demand met during the day (MW)</th>\n",
       "    </tr>\n",
       "    <tr>\n",
       "      <th>Date</th>\n",
       "      <th></th>\n",
       "    </tr>\n",
       "  </thead>\n",
       "  <tbody>\n",
       "    <tr>\n",
       "      <th>2013-04-01</th>\n",
       "      <td>2776.0</td>\n",
       "    </tr>\n",
       "    <tr>\n",
       "      <th>2013-04-02</th>\n",
       "      <td>3034.0</td>\n",
       "    </tr>\n",
       "    <tr>\n",
       "      <th>2013-04-03</th>\n",
       "      <td>2991.0</td>\n",
       "    </tr>\n",
       "    <tr>\n",
       "      <th>2013-04-04</th>\n",
       "      <td>3125.0</td>\n",
       "    </tr>\n",
       "    <tr>\n",
       "      <th>2013-04-05</th>\n",
       "      <td>3160.0</td>\n",
       "    </tr>\n",
       "    <tr>\n",
       "      <th>...</th>\n",
       "      <td>...</td>\n",
       "    </tr>\n",
       "    <tr>\n",
       "      <th>2023-04-26</th>\n",
       "      <td>4445.0</td>\n",
       "    </tr>\n",
       "    <tr>\n",
       "      <th>2023-04-27</th>\n",
       "      <td>4626.0</td>\n",
       "    </tr>\n",
       "    <tr>\n",
       "      <th>2023-04-28</th>\n",
       "      <td>4395.0</td>\n",
       "    </tr>\n",
       "    <tr>\n",
       "      <th>2023-04-29</th>\n",
       "      <td>4048.0</td>\n",
       "    </tr>\n",
       "    <tr>\n",
       "      <th>2023-04-30</th>\n",
       "      <td>3791.0</td>\n",
       "    </tr>\n",
       "  </tbody>\n",
       "</table>\n",
       "<p>3682 rows × 1 columns</p>\n",
       "</div>"
      ],
      "text/plain": [
       "            Max.Demand met during the day (MW)\n",
       "Date                                          \n",
       "2013-04-01                              2776.0\n",
       "2013-04-02                              3034.0\n",
       "2013-04-03                              2991.0\n",
       "2013-04-04                              3125.0\n",
       "2013-04-05                              3160.0\n",
       "...                                        ...\n",
       "2023-04-26                              4445.0\n",
       "2023-04-27                              4626.0\n",
       "2023-04-28                              4395.0\n",
       "2023-04-29                              4048.0\n",
       "2023-04-30                              3791.0\n",
       "\n",
       "[3682 rows x 1 columns]"
      ]
     },
     "execution_count": 3,
     "metadata": {},
     "output_type": "execute_result"
    }
   ],
   "source": [
    "df1_train"
   ]
  },
  {
   "cell_type": "code",
   "execution_count": 4,
   "id": "6c4e1703",
   "metadata": {},
   "outputs": [],
   "source": [
    "def get_MAPE_MAE_test(dataframe,results):\n",
    "    actual_values = np.array(dataframe)\n",
    "    predicted_values = np.array(pd.DataFrame(results.forecast(len(actual_values)))[\"predicted_mean\"])\n",
    "    APE = np.abs((actual_values - predicted_values) / actual_values) * 100\n",
    "    MAPE = np.mean(APE)\n",
    "    MAE = np.mean(np.abs(results.resid))\n",
    "    print(\"The MAPE Score is : \",MAPE)\n",
    "    print(\"The MAE Score is :\", MAE)\n",
    "    return MAPE, MAE\n",
    "\n",
    "def get_MAPE_MAE(dataframe,results):\n",
    "    actual_values = np.array(dataframe)\n",
    "    predicted_values = np.array(results.fittedvalues)\n",
    "    APE = np.abs((actual_values - predicted_values) / actual_values) * 100\n",
    "    MAPE = np.mean(APE)\n",
    "    MAE = np.mean(np.abs(results.resid))\n",
    "    print(\"The MAPE Score is : \",MAPE)\n",
    "    print(\"The MAE Score is :\", MAE)\n",
    "    return MAPE, MAE\n",
    "\n"
   ]
  },
  {
   "cell_type": "code",
   "execution_count": 5,
   "id": "2c24ba53",
   "metadata": {},
   "outputs": [
    {
     "name": "stderr",
     "output_type": "stream",
     "text": [
      "/Users/sujaykumar/miniconda3/lib/python3.10/site-packages/statsmodels/tsa/base/tsa_model.py:473: ValueWarning: No frequency information was provided, so inferred frequency D will be used.\n",
      "  self._init_dates(dates, freq)\n",
      "/Users/sujaykumar/miniconda3/lib/python3.10/site-packages/statsmodels/tsa/base/tsa_model.py:473: ValueWarning: No frequency information was provided, so inferred frequency D will be used.\n",
      "  self._init_dates(dates, freq)\n"
     ]
    },
    {
     "name": "stdout",
     "output_type": "stream",
     "text": [
      "RUNNING THE L-BFGS-B CODE\n",
      "\n",
      "           * * *\n",
      "\n",
      "Machine precision = 2.220D-16\n",
      " N =            3     M =           10\n",
      "\n",
      "At X0         0 variables are exactly at the bounds\n",
      "\n",
      "At iterate    0    f=  7.65295D+00    |proj g|=  2.35685D-01\n",
      "\n",
      "At iterate    5    f=  7.62448D+00    |proj g|=  6.03322D-04\n",
      "\n",
      "At iterate   10    f=  7.62445D+00    |proj g|=  5.92780D-03\n"
     ]
    },
    {
     "name": "stderr",
     "output_type": "stream",
     "text": [
      " This problem is unconstrained.\n"
     ]
    },
    {
     "name": "stdout",
     "output_type": "stream",
     "text": [
      "\n",
      "At iterate   15    f=  7.62441D+00    |proj g|=  2.56483D-05\n",
      "\n",
      "           * * *\n",
      "\n",
      "Tit   = total number of iterations\n",
      "Tnf   = total number of function evaluations\n",
      "Tnint = total number of segments explored during Cauchy searches\n",
      "Skip  = number of BFGS updates skipped\n",
      "Nact  = number of active bounds at final generalized Cauchy point\n",
      "Projg = norm of the final projected gradient\n",
      "F     = final function value\n",
      "\n",
      "           * * *\n",
      "\n",
      "   N    Tit     Tnf  Tnint  Skip  Nact     Projg        F\n",
      "    3     16     18      1     0     0   2.565D-05   7.624D+00\n",
      "  F =   7.6244077205792395     \n",
      "\n",
      "CONVERGENCE: REL_REDUCTION_OF_F_<=_FACTR*EPSMCH             \n",
      "                                       SARIMAX Results                                        \n",
      "==============================================================================================\n",
      "Dep. Variable:     Max.Demand met during the day (MW)   No. Observations:                 3682\n",
      "Model:                          SARIMAX(1, 0, [1], 7)   Log Likelihood              -28073.069\n",
      "Date:                                Fri, 21 Jul 2023   AIC                          56152.138\n",
      "Time:                                        11:32:57   BIC                          56170.772\n",
      "Sample:                                    04-01-2013   HQIC                         56158.771\n",
      "                                         - 04-30-2023                                         \n",
      "Covariance Type:                                  opg                                         \n",
      "==============================================================================\n",
      "                 coef    std err          z      P>|z|      [0.025      0.975]\n",
      "------------------------------------------------------------------------------\n",
      "ar.S.L7        0.9963      0.001    816.161      0.000       0.994       0.999\n",
      "ma.S.L7       -0.2573      0.014    -18.910      0.000      -0.284      -0.231\n",
      "sigma2      2.466e+05   4441.878     55.508      0.000    2.38e+05    2.55e+05\n",
      "===================================================================================\n",
      "Ljung-Box (L1) (Q):                2174.42   Jarque-Bera (JB):               492.50\n",
      "Prob(Q):                              0.00   Prob(JB):                         0.00\n",
      "Heteroskedasticity (H):               2.17   Skew:                            -0.08\n",
      "Prob(H) (two-sided):                  0.00   Kurtosis:                         4.78\n",
      "===================================================================================\n",
      "\n",
      "Warnings:\n",
      "[1] Covariance matrix calculated using the outer product of gradients (complex-step).\n"
     ]
    }
   ],
   "source": [
    "sarima_1 = SARIMAX(df1_train,order=(0,0,0),seasonal_order=(1,0,1,7)).fit()\n",
    "print(sarima_1.summary())"
   ]
  },
  {
   "cell_type": "code",
   "execution_count": 6,
   "id": "604342fb",
   "metadata": {},
   "outputs": [
    {
     "name": "stdout",
     "output_type": "stream",
     "text": [
      "The MAPE Score is :  25.965991050911292\n",
      "The MAE Score is : 368.3306705397312\n",
      "--------------------------------------------------------------------\n",
      "The MAPE Score is :  17.379576970239203\n",
      "The MAE Score is : 368.3306705397312\n"
     ]
    },
    {
     "data": {
      "text/plain": [
       "(17.379576970239203, 368.3306705397312)"
      ]
     },
     "execution_count": 6,
     "metadata": {},
     "output_type": "execute_result"
    }
   ],
   "source": [
    "get_MAPE_MAE(df1_train,sarima_1)\n",
    "print(\"--------------------------------------------------------------------\")\n",
    "get_MAPE_MAE_test(df1_test,sarima_1)"
   ]
  },
  {
   "cell_type": "code",
   "execution_count": 7,
   "id": "f4bffd13",
   "metadata": {},
   "outputs": [
    {
     "name": "stderr",
     "output_type": "stream",
     "text": [
      "/Users/sujaykumar/miniconda3/lib/python3.10/site-packages/statsmodels/tsa/base/tsa_model.py:473: ValueWarning: No frequency information was provided, so inferred frequency D will be used.\n",
      "  self._init_dates(dates, freq)\n",
      "/Users/sujaykumar/miniconda3/lib/python3.10/site-packages/statsmodels/tsa/base/tsa_model.py:473: ValueWarning: No frequency information was provided, so inferred frequency D will be used.\n",
      "  self._init_dates(dates, freq)\n"
     ]
    },
    {
     "name": "stdout",
     "output_type": "stream",
     "text": [
      "RUNNING THE L-BFGS-B CODE\n",
      "\n",
      "           * * *\n",
      "\n",
      "Machine precision = 2.220D-16\n",
      " N =            3     M =           10\n",
      "\n",
      "At X0         0 variables are exactly at the bounds\n",
      "\n",
      "At iterate    0    f=  7.61328D+00    |proj g|=  1.17676D-01\n",
      "\n",
      "           * * *\n",
      "\n",
      "Tit   = total number of iterations\n",
      "Tnf   = total number of function evaluations\n",
      "Tnint = total number of segments explored during Cauchy searches\n",
      "Skip  = number of BFGS updates skipped\n",
      "Nact  = number of active bounds at final generalized Cauchy point\n",
      "Projg = norm of the final projected gradient\n",
      "F     = final function value\n",
      "\n",
      "           * * *\n",
      "\n",
      "   N    Tit     Tnf  Tnint  Skip  Nact     Projg        F\n",
      "    3      4      7      1     0     0   2.605D-05   7.606D+00\n",
      "  F =   7.6062452453168365     \n",
      "\n",
      "CONVERGENCE: REL_REDUCTION_OF_F_<=_FACTR*EPSMCH             \n"
     ]
    },
    {
     "name": "stderr",
     "output_type": "stream",
     "text": [
      " This problem is unconstrained.\n"
     ]
    },
    {
     "name": "stdout",
     "output_type": "stream",
     "text": [
      "                                       SARIMAX Results                                        \n",
      "==============================================================================================\n",
      "Dep. Variable:     Max.Demand met during the day (MW)   No. Observations:                 3682\n",
      "Model:                          SARIMAX(1, 1, [1], 7)   Log Likelihood              -28006.195\n",
      "Date:                                Fri, 21 Jul 2023   AIC                          56018.390\n",
      "Time:                                        11:32:58   BIC                          56037.018\n",
      "Sample:                                    04-01-2013   HQIC                         56025.022\n",
      "                                         - 04-30-2023                                         \n",
      "Covariance Type:                                  opg                                         \n",
      "==============================================================================\n",
      "                 coef    std err          z      P>|z|      [0.025      0.975]\n",
      "------------------------------------------------------------------------------\n",
      "ar.S.L7       -0.1404      0.048     -2.934      0.003      -0.234      -0.047\n",
      "ma.S.L7       -0.1330      0.050     -2.660      0.008      -0.231      -0.035\n",
      "sigma2      2.426e+05   4276.195     56.744      0.000    2.34e+05    2.51e+05\n",
      "===================================================================================\n",
      "Ljung-Box (L1) (Q):                2169.07   Jarque-Bera (JB):               509.37\n",
      "Prob(Q):                              0.00   Prob(JB):                         0.00\n",
      "Heteroskedasticity (H):               2.19   Skew:                            -0.12\n",
      "Prob(H) (two-sided):                  0.00   Kurtosis:                         4.81\n",
      "===================================================================================\n",
      "\n",
      "Warnings:\n",
      "[1] Covariance matrix calculated using the outer product of gradients (complex-step).\n"
     ]
    }
   ],
   "source": [
    "sarima_2 = SARIMAX(df1_train,order=(0,0,0),seasonal_order=(1,1,1,7)).fit()\n",
    "print(sarima_2.summary())"
   ]
  },
  {
   "cell_type": "code",
   "execution_count": 8,
   "id": "34eac336",
   "metadata": {},
   "outputs": [
    {
     "name": "stdout",
     "output_type": "stream",
     "text": [
      "The MAPE Score is :  26.13271982219971\n",
      "The MAE Score is : 367.3616982316946\n",
      "--------------------------------------------------------------------\n",
      "The MAPE Score is :  16.830077207706218\n",
      "The MAE Score is : 367.3616982316946\n"
     ]
    },
    {
     "data": {
      "text/plain": [
       "(16.830077207706218, 367.3616982316946)"
      ]
     },
     "execution_count": 8,
     "metadata": {},
     "output_type": "execute_result"
    }
   ],
   "source": [
    "get_MAPE_MAE(df1_train,sarima_2)\n",
    "print(\"--------------------------------------------------------------------\")\n",
    "get_MAPE_MAE_test(df1_test,sarima_2)"
   ]
  },
  {
   "cell_type": "markdown",
   "id": "eb8c16ef",
   "metadata": {},
   "source": [
    "## Brute Force Approach without the non-seasonal Component\n",
    "\n",
    "<p>This experiment only captures the non-seasonal component for the original df with the length of Seasonal Cycle 7</p>\n",
    "\n",
    "    Inference Results\n",
    "<ul>\n",
    "<li>SARIMA(0,0,0)(3,0,6,7) has the highest and lowest AIC and BIC</li>\n",
    "</ul>"
   ]
  },
  {
   "cell_type": "code",
   "execution_count": 9,
   "id": "78a9e3d0",
   "metadata": {},
   "outputs": [
    {
     "name": "stdout",
     "output_type": "stream",
     "text": [
      "RUNNING THE L-BFGS-B CODE\n",
      "\n",
      "           * * *\n",
      "\n",
      "Machine precision = 2.220D-16\n",
      " N =            1     M =           10\n",
      "\n",
      "At X0         0 variables are exactly at the bounds\n",
      "\n",
      "At iterate    0    f=  9.82141D+00    |proj g|=  0.00000D+00\n",
      "\n",
      "           * * *\n",
      "\n",
      "Tit   = total number of iterations\n",
      "Tnf   = total number of function evaluations\n",
      "Tnint = total number of segments explored during Cauchy searches\n",
      "Skip  = number of BFGS updates skipped\n",
      "Nact  = number of active bounds at final generalized Cauchy point\n",
      "Projg = norm of the final projected gradient\n",
      "F     = final function value\n",
      "\n",
      "           * * *\n",
      "\n",
      "   N    Tit     Tnf  Tnint  Skip  Nact     Projg        F\n",
      "    1      0      1      0     0     0   0.000D+00   9.821D+00\n",
      "  F =   9.8214052088540988     \n",
      "\n",
      "CONVERGENCE: NORM_OF_PROJECTED_GRADIENT_<=_PGTOL            \n"
     ]
    },
    {
     "name": "stderr",
     "output_type": "stream",
     "text": [
      "/Users/sujaykumar/miniconda3/lib/python3.10/site-packages/statsmodels/tsa/base/tsa_model.py:473: ValueWarning: No frequency information was provided, so inferred frequency D will be used.\n",
      "  self._init_dates(dates, freq)\n",
      "/Users/sujaykumar/miniconda3/lib/python3.10/site-packages/statsmodels/tsa/base/tsa_model.py:473: ValueWarning: No frequency information was provided, so inferred frequency D will be used.\n",
      "  self._init_dates(dates, freq)\n",
      " This problem is unconstrained.\n",
      "/Users/sujaykumar/miniconda3/lib/python3.10/site-packages/statsmodels/tsa/base/tsa_model.py:473: ValueWarning: No frequency information was provided, so inferred frequency D will be used.\n",
      "  self._init_dates(dates, freq)\n",
      "/Users/sujaykumar/miniconda3/lib/python3.10/site-packages/statsmodels/tsa/base/tsa_model.py:473: ValueWarning: No frequency information was provided, so inferred frequency D will be used.\n",
      "  self._init_dates(dates, freq)\n",
      " This problem is unconstrained.\n"
     ]
    },
    {
     "name": "stdout",
     "output_type": "stream",
     "text": [
      "RUNNING THE L-BFGS-B CODE\n",
      "\n",
      "           * * *\n",
      "\n",
      "Machine precision = 2.220D-16\n",
      " N =            2     M =           10\n",
      "\n",
      "At X0         0 variables are exactly at the bounds\n",
      "\n",
      "At iterate    0    f=  9.53233D+00    |proj g|=  1.48450D-01\n",
      "\n",
      "At iterate    5    f=  9.47653D+00    |proj g|=  1.55634D-04\n",
      "\n",
      "At iterate   10    f=  9.47632D+00    |proj g|=  2.61174D-03\n",
      "\n",
      "At iterate   15    f=  9.45840D+00    |proj g|=  2.21625D-02\n",
      "\n",
      "At iterate   20    f=  9.24039D+00    |proj g|=  6.37930D-03\n",
      "\n",
      "At iterate   25    f=  9.23104D+00    |proj g|=  5.22729D-06\n",
      "\n",
      "           * * *\n",
      "\n",
      "Tit   = total number of iterations\n",
      "Tnf   = total number of function evaluations\n",
      "Tnint = total number of segments explored during Cauchy searches\n",
      "Skip  = number of BFGS updates skipped\n",
      "Nact  = number of active bounds at final generalized Cauchy point\n",
      "Projg = norm of the final projected gradient\n",
      "F     = final function value\n",
      "\n",
      "           * * *\n",
      "\n",
      "   N    Tit     Tnf  Tnint  Skip  Nact     Projg        F\n",
      "    2     25     28      1     0     0   5.227D-06   9.231D+00\n",
      "  F =   9.2310394300435288     \n",
      "\n",
      "CONVERGENCE: NORM_OF_PROJECTED_GRADIENT_<=_PGTOL            \n"
     ]
    },
    {
     "name": "stderr",
     "output_type": "stream",
     "text": [
      "/Users/sujaykumar/miniconda3/lib/python3.10/site-packages/statsmodels/tsa/base/tsa_model.py:473: ValueWarning: No frequency information was provided, so inferred frequency D will be used.\n",
      "  self._init_dates(dates, freq)\n",
      "/Users/sujaykumar/miniconda3/lib/python3.10/site-packages/statsmodels/tsa/base/tsa_model.py:473: ValueWarning: No frequency information was provided, so inferred frequency D will be used.\n",
      "  self._init_dates(dates, freq)\n"
     ]
    },
    {
     "name": "stdout",
     "output_type": "stream",
     "text": [
      "RUNNING THE L-BFGS-B CODE\n",
      "\n",
      "           * * *\n",
      "\n",
      "Machine precision = 2.220D-16\n",
      " N =            3     M =           10\n",
      "\n",
      "At X0         0 variables are exactly at the bounds\n",
      "\n",
      "At iterate    0    f=  9.43701D+00    |proj g|=  1.31871D-01\n"
     ]
    },
    {
     "name": "stderr",
     "output_type": "stream",
     "text": [
      " This problem is unconstrained.\n"
     ]
    },
    {
     "name": "stdout",
     "output_type": "stream",
     "text": [
      "\n",
      "At iterate    5    f=  9.38969D+00    |proj g|=  5.72688D-04\n",
      "\n",
      "At iterate   10    f=  9.38635D+00    |proj g|=  1.13002D-02\n",
      "\n",
      "At iterate   15    f=  9.30704D+00    |proj g|=  5.17467D-02\n",
      "\n",
      "At iterate   20    f=  8.81226D+00    |proj g|=  5.96749D-02\n",
      "\n",
      "At iterate   25    f=  8.80397D+00    |proj g|=  7.87889D-05\n",
      "\n",
      "           * * *\n",
      "\n",
      "Tit   = total number of iterations\n",
      "Tnf   = total number of function evaluations\n",
      "Tnint = total number of segments explored during Cauchy searches\n",
      "Skip  = number of BFGS updates skipped\n",
      "Nact  = number of active bounds at final generalized Cauchy point\n",
      "Projg = norm of the final projected gradient\n",
      "F     = final function value\n",
      "\n",
      "           * * *\n",
      "\n",
      "   N    Tit     Tnf  Tnint  Skip  Nact     Projg        F\n",
      "    3     26     37      1     0     0   2.367D-06   8.804D+00\n",
      "  F =   8.8039714159889115     \n",
      "\n",
      "CONVERGENCE: NORM_OF_PROJECTED_GRADIENT_<=_PGTOL            \n"
     ]
    },
    {
     "name": "stderr",
     "output_type": "stream",
     "text": [
      "/Users/sujaykumar/miniconda3/lib/python3.10/site-packages/statsmodels/tsa/base/tsa_model.py:473: ValueWarning: No frequency information was provided, so inferred frequency D will be used.\n",
      "  self._init_dates(dates, freq)\n",
      "/Users/sujaykumar/miniconda3/lib/python3.10/site-packages/statsmodels/tsa/base/tsa_model.py:473: ValueWarning: No frequency information was provided, so inferred frequency D will be used.\n",
      "  self._init_dates(dates, freq)\n"
     ]
    },
    {
     "name": "stdout",
     "output_type": "stream",
     "text": [
      "RUNNING THE L-BFGS-B CODE\n",
      "\n",
      "           * * *\n",
      "\n",
      "Machine precision = 2.220D-16\n",
      " N =            4     M =           10\n",
      "\n",
      "At X0         0 variables are exactly at the bounds\n",
      "\n",
      "At iterate    0    f=  9.39963D+00    |proj g|=  1.08251D-01\n"
     ]
    },
    {
     "name": "stderr",
     "output_type": "stream",
     "text": [
      " This problem is unconstrained.\n"
     ]
    },
    {
     "name": "stdout",
     "output_type": "stream",
     "text": [
      "\n",
      "At iterate    5    f=  9.36385D+00    |proj g|=  2.06524D-04\n",
      "\n",
      "At iterate   10    f=  9.35923D+00    |proj g|=  1.57025D-02\n",
      "\n",
      "At iterate   15    f=  9.14695D+00    |proj g|=  3.38180D-01\n",
      "\n",
      "At iterate   20    f=  9.03668D+00    |proj g|=  1.19669D-02\n",
      "\n",
      "At iterate   25    f=  8.98829D+00    |proj g|=  1.95108D-01\n",
      "\n",
      "At iterate   30    f=  8.88365D+00    |proj g|=  3.81906D-01\n",
      "\n",
      "At iterate   35    f=  8.74496D+00    |proj g|=  9.82927D-02\n",
      "\n",
      "At iterate   40    f=  8.58661D+00    |proj g|=  2.21901D-01\n",
      "\n",
      "At iterate   45    f=  8.55651D+00    |proj g|=  1.19477D-03\n",
      "\n",
      "           * * *\n",
      "\n",
      "Tit   = total number of iterations\n",
      "Tnf   = total number of function evaluations\n",
      "Tnint = total number of segments explored during Cauchy searches\n",
      "Skip  = number of BFGS updates skipped\n",
      "Nact  = number of active bounds at final generalized Cauchy point\n",
      "Projg = norm of the final projected gradient\n",
      "F     = final function value\n",
      "\n",
      "           * * *\n",
      "\n",
      "   N    Tit     Tnf  Tnint  Skip  Nact     Projg        F\n",
      "    4     48     88      1     0     0   6.183D-06   8.557D+00\n",
      "  F =   8.5565064833726261     \n",
      "\n",
      "CONVERGENCE: NORM_OF_PROJECTED_GRADIENT_<=_PGTOL            \n"
     ]
    },
    {
     "name": "stderr",
     "output_type": "stream",
     "text": [
      "/Users/sujaykumar/miniconda3/lib/python3.10/site-packages/statsmodels/tsa/base/tsa_model.py:473: ValueWarning: No frequency information was provided, so inferred frequency D will be used.\n",
      "  self._init_dates(dates, freq)\n",
      "/Users/sujaykumar/miniconda3/lib/python3.10/site-packages/statsmodels/tsa/base/tsa_model.py:473: ValueWarning: No frequency information was provided, so inferred frequency D will be used.\n",
      "  self._init_dates(dates, freq)\n",
      " This problem is unconstrained.\n"
     ]
    },
    {
     "name": "stdout",
     "output_type": "stream",
     "text": [
      "RUNNING THE L-BFGS-B CODE\n",
      "\n",
      "           * * *\n",
      "\n",
      "Machine precision = 2.220D-16\n",
      " N =            5     M =           10\n",
      "\n",
      "At X0         0 variables are exactly at the bounds\n",
      "\n",
      "At iterate    0    f=  9.37430D+00    |proj g|=  7.05975D-02\n",
      "\n",
      "At iterate    5    f=  9.34982D+00    |proj g|=  8.76843D-04\n",
      "\n",
      "At iterate   10    f=  9.34978D+00    |proj g|=  6.73728D-04\n",
      "\n",
      "At iterate   15    f=  9.34600D+00    |proj g|=  8.93864D-03\n",
      "\n",
      "At iterate   20    f=  8.91892D+00    |proj g|=  1.42294D-01\n",
      "\n",
      "At iterate   25    f=  8.53507D+00    |proj g|=  8.30865D-01\n",
      "\n",
      "At iterate   30    f=  8.35249D+00    |proj g|=  2.85976D-02\n",
      "\n",
      "At iterate   35    f=  8.35123D+00    |proj g|=  4.56563D-04\n",
      "\n",
      "           * * *\n",
      "\n",
      "Tit   = total number of iterations\n",
      "Tnf   = total number of function evaluations\n",
      "Tnint = total number of segments explored during Cauchy searches\n",
      "Skip  = number of BFGS updates skipped\n",
      "Nact  = number of active bounds at final generalized Cauchy point\n",
      "Projg = norm of the final projected gradient\n",
      "F     = final function value\n",
      "\n",
      "           * * *\n",
      "\n",
      "   N    Tit     Tnf  Tnint  Skip  Nact     Projg        F\n",
      "    5     37     51      1     0     0   2.911D-05   8.351D+00\n",
      "  F =   8.3512340795023583     \n",
      "\n",
      "CONVERGENCE: REL_REDUCTION_OF_F_<=_FACTR*EPSMCH             \n"
     ]
    },
    {
     "name": "stderr",
     "output_type": "stream",
     "text": [
      "/Users/sujaykumar/miniconda3/lib/python3.10/site-packages/statsmodels/tsa/base/tsa_model.py:473: ValueWarning: No frequency information was provided, so inferred frequency D will be used.\n",
      "  self._init_dates(dates, freq)\n",
      "/Users/sujaykumar/miniconda3/lib/python3.10/site-packages/statsmodels/tsa/base/tsa_model.py:473: ValueWarning: No frequency information was provided, so inferred frequency D will be used.\n",
      "  self._init_dates(dates, freq)\n"
     ]
    },
    {
     "name": "stdout",
     "output_type": "stream",
     "text": [
      "RUNNING THE L-BFGS-B CODE\n",
      "\n",
      "           * * *\n",
      "\n",
      "Machine precision = 2.220D-16\n",
      " N =            6     M =           10\n",
      "\n",
      "At X0         0 variables are exactly at the bounds\n",
      "\n",
      "At iterate    0    f=  9.36310D+00    |proj g|=  7.93026D-02\n"
     ]
    },
    {
     "name": "stderr",
     "output_type": "stream",
     "text": [
      " This problem is unconstrained.\n"
     ]
    },
    {
     "name": "stdout",
     "output_type": "stream",
     "text": [
      "\n",
      "At iterate    5    f=  9.34345D+00    |proj g|=  7.81417D-04\n",
      "\n",
      "At iterate   10    f=  9.34342D+00    |proj g|=  7.94590D-04\n",
      "\n",
      "At iterate   15    f=  9.34123D+00    |proj g|=  9.04386D-03\n",
      "\n",
      "At iterate   20    f=  9.09638D+00    |proj g|=  8.38370D-01\n",
      "\n",
      "At iterate   25    f=  8.83010D+00    |proj g|=  2.02021D+00\n",
      "\n",
      "At iterate   30    f=  8.82453D+00    |proj g|=  5.79440D-01\n",
      "\n",
      "At iterate   35    f=  8.82334D+00    |proj g|=  1.47422D-02\n",
      "\n",
      "At iterate   40    f=  8.82330D+00    |proj g|=  1.31456D-01\n",
      "\n",
      "At iterate   45    f=  8.82194D+00    |proj g|=  8.66818D-01\n",
      "\n",
      "At iterate   50    f=  8.81945D+00    |proj g|=  2.84597D-01\n",
      "\n",
      "           * * *\n",
      "\n",
      "Tit   = total number of iterations\n",
      "Tnf   = total number of function evaluations\n",
      "Tnint = total number of segments explored during Cauchy searches\n",
      "Skip  = number of BFGS updates skipped\n",
      "Nact  = number of active bounds at final generalized Cauchy point\n",
      "Projg = norm of the final projected gradient\n",
      "F     = final function value\n",
      "\n",
      "           * * *\n",
      "\n",
      "   N    Tit     Tnf  Tnint  Skip  Nact     Projg        F\n",
      "    6     50     71      1     0     0   2.846D-01   8.819D+00\n",
      "  F =   8.8194522533775821     \n",
      "\n",
      "STOP: TOTAL NO. of ITERATIONS REACHED LIMIT                 \n"
     ]
    },
    {
     "name": "stderr",
     "output_type": "stream",
     "text": [
      "/Users/sujaykumar/miniconda3/lib/python3.10/site-packages/statsmodels/base/model.py:607: ConvergenceWarning: Maximum Likelihood optimization failed to converge. Check mle_retvals\n",
      "  warnings.warn(\"Maximum Likelihood optimization failed to \"\n",
      "/Users/sujaykumar/miniconda3/lib/python3.10/site-packages/statsmodels/tsa/base/tsa_model.py:473: ValueWarning: No frequency information was provided, so inferred frequency D will be used.\n",
      "  self._init_dates(dates, freq)\n",
      "/Users/sujaykumar/miniconda3/lib/python3.10/site-packages/statsmodels/tsa/base/tsa_model.py:473: ValueWarning: No frequency information was provided, so inferred frequency D will be used.\n",
      "  self._init_dates(dates, freq)\n"
     ]
    },
    {
     "name": "stdout",
     "output_type": "stream",
     "text": [
      "RUNNING THE L-BFGS-B CODE\n",
      "\n",
      "           * * *\n",
      "\n",
      "Machine precision = 2.220D-16\n",
      " N =            7     M =           10\n",
      "\n",
      "At X0         0 variables are exactly at the bounds\n",
      "\n",
      "At iterate    0    f=  9.36086D+00    |proj g|=  7.78728D-02\n"
     ]
    },
    {
     "name": "stderr",
     "output_type": "stream",
     "text": [
      " This problem is unconstrained.\n"
     ]
    },
    {
     "name": "stdout",
     "output_type": "stream",
     "text": [
      "\n",
      "At iterate    5    f=  9.33883D+00    |proj g|=  1.38998D-03\n",
      "\n",
      "At iterate   10    f=  9.33872D+00    |proj g|=  7.72429D-04\n",
      "\n",
      "At iterate   15    f=  9.33374D+00    |proj g|=  1.14224D-02\n",
      "\n",
      "At iterate   20    f=  8.94324D+00    |proj g|=  4.59891D-01\n",
      "\n",
      "At iterate   25    f=  8.66973D+00    |proj g|=  6.01634D-01\n",
      "\n",
      "At iterate   30    f=  8.62229D+00    |proj g|=  7.71208D-02\n",
      "\n",
      "At iterate   35    f=  8.62109D+00    |proj g|=  7.43918D-03\n",
      "\n",
      "           * * *\n",
      "\n",
      "Tit   = total number of iterations\n",
      "Tnf   = total number of function evaluations\n",
      "Tnint = total number of segments explored during Cauchy searches\n",
      "Skip  = number of BFGS updates skipped\n",
      "Nact  = number of active bounds at final generalized Cauchy point\n",
      "Projg = norm of the final projected gradient\n",
      "F     = final function value\n",
      "\n",
      "           * * *\n",
      "\n",
      "   N    Tit     Tnf  Tnint  Skip  Nact     Projg        F\n",
      "    7     39     54      1     0     0   8.639D-06   8.621D+00\n",
      "  F =   8.6210389035386594     \n",
      "\n",
      "CONVERGENCE: NORM_OF_PROJECTED_GRADIENT_<=_PGTOL            \n"
     ]
    },
    {
     "name": "stderr",
     "output_type": "stream",
     "text": [
      "/Users/sujaykumar/miniconda3/lib/python3.10/site-packages/statsmodels/tsa/base/tsa_model.py:473: ValueWarning: No frequency information was provided, so inferred frequency D will be used.\n",
      "  self._init_dates(dates, freq)\n",
      "/Users/sujaykumar/miniconda3/lib/python3.10/site-packages/statsmodels/tsa/base/tsa_model.py:473: ValueWarning: No frequency information was provided, so inferred frequency D will be used.\n",
      "  self._init_dates(dates, freq)\n",
      " This problem is unconstrained.\n",
      "/Users/sujaykumar/miniconda3/lib/python3.10/site-packages/statsmodels/tsa/base/tsa_model.py:473: ValueWarning: No frequency information was provided, so inferred frequency D will be used.\n",
      "  self._init_dates(dates, freq)\n",
      "/Users/sujaykumar/miniconda3/lib/python3.10/site-packages/statsmodels/tsa/base/tsa_model.py:473: ValueWarning: No frequency information was provided, so inferred frequency D will be used.\n",
      "  self._init_dates(dates, freq)\n"
     ]
    },
    {
     "name": "stdout",
     "output_type": "stream",
     "text": [
      "RUNNING THE L-BFGS-B CODE\n",
      "\n",
      "           * * *\n",
      "\n",
      "Machine precision = 2.220D-16\n",
      " N =            2     M =           10\n",
      "\n",
      "At X0         0 variables are exactly at the bounds\n",
      "\n",
      "At iterate    0    f=  7.65969D+00    |proj g|=  1.18113D-04\n",
      "\n",
      "           * * *\n",
      "\n",
      "Tit   = total number of iterations\n",
      "Tnf   = total number of function evaluations\n",
      "Tnint = total number of segments explored during Cauchy searches\n",
      "Skip  = number of BFGS updates skipped\n",
      "Nact  = number of active bounds at final generalized Cauchy point\n",
      "Projg = norm of the final projected gradient\n",
      "F     = final function value\n",
      "\n",
      "           * * *\n",
      "\n",
      "   N    Tit     Tnf  Tnint  Skip  Nact     Projg        F\n",
      "    2      3      5      1     0     0   1.570D-06   7.660D+00\n",
      "  F =   7.6596537666368754     \n",
      "\n",
      "CONVERGENCE: NORM_OF_PROJECTED_GRADIENT_<=_PGTOL            \n",
      "RUNNING THE L-BFGS-B CODE\n",
      "\n",
      "           * * *\n",
      "\n",
      "Machine precision = 2.220D-16\n",
      " N =            3     M =           10\n",
      "\n",
      "At X0         0 variables are exactly at the bounds\n",
      "\n",
      "At iterate    0    f=  7.65295D+00    |proj g|=  2.35685D-01\n",
      "\n",
      "At iterate    5    f=  7.62448D+00    |proj g|=  6.03322D-04\n",
      "\n",
      "At iterate   10    f=  7.62445D+00    |proj g|=  5.92780D-03\n"
     ]
    },
    {
     "name": "stderr",
     "output_type": "stream",
     "text": [
      " This problem is unconstrained.\n"
     ]
    },
    {
     "name": "stdout",
     "output_type": "stream",
     "text": [
      "\n",
      "At iterate   15    f=  7.62441D+00    |proj g|=  2.56483D-05\n",
      "\n",
      "           * * *\n",
      "\n",
      "Tit   = total number of iterations\n",
      "Tnf   = total number of function evaluations\n",
      "Tnint = total number of segments explored during Cauchy searches\n",
      "Skip  = number of BFGS updates skipped\n",
      "Nact  = number of active bounds at final generalized Cauchy point\n",
      "Projg = norm of the final projected gradient\n",
      "F     = final function value\n",
      "\n",
      "           * * *\n",
      "\n",
      "   N    Tit     Tnf  Tnint  Skip  Nact     Projg        F\n",
      "    3     16     18      1     0     0   2.565D-05   7.624D+00\n",
      "  F =   7.6244077205792395     \n",
      "\n",
      "CONVERGENCE: REL_REDUCTION_OF_F_<=_FACTR*EPSMCH             \n"
     ]
    },
    {
     "name": "stderr",
     "output_type": "stream",
     "text": [
      "/Users/sujaykumar/miniconda3/lib/python3.10/site-packages/statsmodels/tsa/base/tsa_model.py:473: ValueWarning: No frequency information was provided, so inferred frequency D will be used.\n",
      "  self._init_dates(dates, freq)\n",
      "/Users/sujaykumar/miniconda3/lib/python3.10/site-packages/statsmodels/tsa/base/tsa_model.py:473: ValueWarning: No frequency information was provided, so inferred frequency D will be used.\n",
      "  self._init_dates(dates, freq)\n",
      " This problem is unconstrained.\n"
     ]
    },
    {
     "name": "stdout",
     "output_type": "stream",
     "text": [
      "RUNNING THE L-BFGS-B CODE\n",
      "\n",
      "           * * *\n",
      "\n",
      "Machine precision = 2.220D-16\n",
      " N =            4     M =           10\n",
      "\n",
      "At X0         0 variables are exactly at the bounds\n",
      "\n",
      "At iterate    0    f=  7.64696D+00    |proj g|=  2.18035D-01\n",
      "\n",
      "At iterate    5    f=  7.62279D+00    |proj g|=  1.68067D-04\n",
      "\n",
      "At iterate   10    f=  7.62277D+00    |proj g|=  3.74058D-03\n",
      "\n",
      "At iterate   15    f=  7.62270D+00    |proj g|=  2.71277D-04\n",
      "\n",
      "           * * *\n",
      "\n",
      "Tit   = total number of iterations\n",
      "Tnf   = total number of function evaluations\n",
      "Tnint = total number of segments explored during Cauchy searches\n",
      "Skip  = number of BFGS updates skipped\n",
      "Nact  = number of active bounds at final generalized Cauchy point\n",
      "Projg = norm of the final projected gradient\n",
      "F     = final function value\n",
      "\n",
      "           * * *\n",
      "\n",
      "   N    Tit     Tnf  Tnint  Skip  Nact     Projg        F\n",
      "    4     18     21      1     0     0   3.646D-05   7.623D+00\n",
      "  F =   7.6226967470771356     \n",
      "\n",
      "CONVERGENCE: REL_REDUCTION_OF_F_<=_FACTR*EPSMCH             \n"
     ]
    },
    {
     "name": "stderr",
     "output_type": "stream",
     "text": [
      "/Users/sujaykumar/miniconda3/lib/python3.10/site-packages/statsmodels/tsa/base/tsa_model.py:473: ValueWarning: No frequency information was provided, so inferred frequency D will be used.\n",
      "  self._init_dates(dates, freq)\n",
      "/Users/sujaykumar/miniconda3/lib/python3.10/site-packages/statsmodels/tsa/base/tsa_model.py:473: ValueWarning: No frequency information was provided, so inferred frequency D will be used.\n",
      "  self._init_dates(dates, freq)\n",
      " This problem is unconstrained.\n"
     ]
    },
    {
     "name": "stdout",
     "output_type": "stream",
     "text": [
      "RUNNING THE L-BFGS-B CODE\n",
      "\n",
      "           * * *\n",
      "\n",
      "Machine precision = 2.220D-16\n",
      " N =            5     M =           10\n",
      "\n",
      "At X0         0 variables are exactly at the bounds\n",
      "\n",
      "At iterate    0    f=  7.64842D+00    |proj g|=  2.30257D-01\n",
      "\n",
      "At iterate    5    f=  7.61845D+00    |proj g|=  8.93677D-05\n",
      "\n",
      "           * * *\n",
      "\n",
      "Tit   = total number of iterations\n",
      "Tnf   = total number of function evaluations\n",
      "Tnint = total number of segments explored during Cauchy searches\n",
      "Skip  = number of BFGS updates skipped\n",
      "Nact  = number of active bounds at final generalized Cauchy point\n",
      "Projg = norm of the final projected gradient\n",
      "F     = final function value\n",
      "\n",
      "           * * *\n",
      "\n",
      "   N    Tit     Tnf  Tnint  Skip  Nact     Projg        F\n",
      "    5      5      7      1     0     0   8.937D-05   7.618D+00\n",
      "  F =   7.6184469497469856     \n",
      "\n",
      "CONVERGENCE: REL_REDUCTION_OF_F_<=_FACTR*EPSMCH             \n"
     ]
    },
    {
     "name": "stderr",
     "output_type": "stream",
     "text": [
      "/Users/sujaykumar/miniconda3/lib/python3.10/site-packages/statsmodels/tsa/base/tsa_model.py:473: ValueWarning: No frequency information was provided, so inferred frequency D will be used.\n",
      "  self._init_dates(dates, freq)\n",
      "/Users/sujaykumar/miniconda3/lib/python3.10/site-packages/statsmodels/tsa/base/tsa_model.py:473: ValueWarning: No frequency information was provided, so inferred frequency D will be used.\n",
      "  self._init_dates(dates, freq)\n"
     ]
    },
    {
     "name": "stdout",
     "output_type": "stream",
     "text": [
      "RUNNING THE L-BFGS-B CODE\n",
      "\n",
      "           * * *\n",
      "\n",
      "Machine precision = 2.220D-16\n",
      " N =            6     M =           10\n",
      "\n",
      "At X0         0 variables are exactly at the bounds\n",
      "\n",
      "At iterate    0    f=  7.64251D+00    |proj g|=  2.41343D-01\n"
     ]
    },
    {
     "name": "stderr",
     "output_type": "stream",
     "text": [
      " This problem is unconstrained.\n"
     ]
    },
    {
     "name": "stdout",
     "output_type": "stream",
     "text": [
      "\n",
      "At iterate    5    f=  7.61340D+00    |proj g|=  6.97093D-05\n",
      "\n",
      "At iterate   10    f=  7.61340D+00    |proj g|=  1.86088D-03\n",
      "\n",
      "At iterate   15    f=  7.61337D+00    |proj g|=  1.45971D-03\n",
      "\n",
      "           * * *\n",
      "\n",
      "Tit   = total number of iterations\n",
      "Tnf   = total number of function evaluations\n",
      "Tnint = total number of segments explored during Cauchy searches\n",
      "Skip  = number of BFGS updates skipped\n",
      "Nact  = number of active bounds at final generalized Cauchy point\n",
      "Projg = norm of the final projected gradient\n",
      "F     = final function value\n",
      "\n",
      "           * * *\n",
      "\n",
      "   N    Tit     Tnf  Tnint  Skip  Nact     Projg        F\n",
      "    6     17     21      1     0     0   4.426D-05   7.613D+00\n",
      "  F =   7.6133644363669779     \n",
      "\n",
      "CONVERGENCE: REL_REDUCTION_OF_F_<=_FACTR*EPSMCH             \n"
     ]
    },
    {
     "name": "stderr",
     "output_type": "stream",
     "text": [
      "/Users/sujaykumar/miniconda3/lib/python3.10/site-packages/statsmodels/tsa/base/tsa_model.py:473: ValueWarning: No frequency information was provided, so inferred frequency D will be used.\n",
      "  self._init_dates(dates, freq)\n",
      "/Users/sujaykumar/miniconda3/lib/python3.10/site-packages/statsmodels/tsa/base/tsa_model.py:473: ValueWarning: No frequency information was provided, so inferred frequency D will be used.\n",
      "  self._init_dates(dates, freq)\n"
     ]
    },
    {
     "name": "stdout",
     "output_type": "stream",
     "text": [
      "RUNNING THE L-BFGS-B CODE\n",
      "\n",
      "           * * *\n",
      "\n",
      "Machine precision = 2.220D-16\n",
      " N =            7     M =           10\n",
      "\n",
      "At X0         0 variables are exactly at the bounds\n",
      "\n",
      "At iterate    0    f=  7.64321D+00    |proj g|=  2.39776D-01\n"
     ]
    },
    {
     "name": "stderr",
     "output_type": "stream",
     "text": [
      " This problem is unconstrained.\n"
     ]
    },
    {
     "name": "stdout",
     "output_type": "stream",
     "text": [
      "\n",
      "At iterate    5    f=  7.61333D+00    |proj g|=  5.35757D-05\n",
      "\n",
      "           * * *\n",
      "\n",
      "Tit   = total number of iterations\n",
      "Tnf   = total number of function evaluations\n",
      "Tnint = total number of segments explored during Cauchy searches\n",
      "Skip  = number of BFGS updates skipped\n",
      "Nact  = number of active bounds at final generalized Cauchy point\n",
      "Projg = norm of the final projected gradient\n",
      "F     = final function value\n",
      "\n",
      "           * * *\n",
      "\n",
      "   N    Tit     Tnf  Tnint  Skip  Nact     Projg        F\n",
      "    7      6      9      1     0     0   5.357D-05   7.613D+00\n",
      "  F =   7.6133316666026953     \n",
      "\n",
      "CONVERGENCE: REL_REDUCTION_OF_F_<=_FACTR*EPSMCH             \n"
     ]
    },
    {
     "name": "stderr",
     "output_type": "stream",
     "text": [
      "/Users/sujaykumar/miniconda3/lib/python3.10/site-packages/statsmodels/tsa/base/tsa_model.py:473: ValueWarning: No frequency information was provided, so inferred frequency D will be used.\n",
      "  self._init_dates(dates, freq)\n",
      "/Users/sujaykumar/miniconda3/lib/python3.10/site-packages/statsmodels/tsa/base/tsa_model.py:473: ValueWarning: No frequency information was provided, so inferred frequency D will be used.\n",
      "  self._init_dates(dates, freq)\n",
      " This problem is unconstrained.\n"
     ]
    },
    {
     "name": "stdout",
     "output_type": "stream",
     "text": [
      "RUNNING THE L-BFGS-B CODE\n",
      "\n",
      "           * * *\n",
      "\n",
      "Machine precision = 2.220D-16\n",
      " N =            8     M =           10\n",
      "\n",
      "At X0         0 variables are exactly at the bounds\n",
      "\n",
      "At iterate    0    f=  7.64820D+00    |proj g|=  2.67321D-01\n",
      "\n",
      "At iterate    5    f=  7.61310D+00    |proj g|=  8.09980D-05\n",
      "\n",
      "           * * *\n",
      "\n",
      "Tit   = total number of iterations\n",
      "Tnf   = total number of function evaluations\n",
      "Tnint = total number of segments explored during Cauchy searches\n",
      "Skip  = number of BFGS updates skipped\n",
      "Nact  = number of active bounds at final generalized Cauchy point\n",
      "Projg = norm of the final projected gradient\n",
      "F     = final function value\n",
      "\n",
      "           * * *\n",
      "\n",
      "   N    Tit     Tnf  Tnint  Skip  Nact     Projg        F\n",
      "    8      6      8      1     0     0   5.781D-05   7.613D+00\n",
      "  F =   7.6131001374964749     \n",
      "\n",
      "CONVERGENCE: REL_REDUCTION_OF_F_<=_FACTR*EPSMCH             \n"
     ]
    },
    {
     "name": "stderr",
     "output_type": "stream",
     "text": [
      "/Users/sujaykumar/miniconda3/lib/python3.10/site-packages/statsmodels/tsa/base/tsa_model.py:473: ValueWarning: No frequency information was provided, so inferred frequency D will be used.\n",
      "  self._init_dates(dates, freq)\n",
      "/Users/sujaykumar/miniconda3/lib/python3.10/site-packages/statsmodels/tsa/base/tsa_model.py:473: ValueWarning: No frequency information was provided, so inferred frequency D will be used.\n",
      "  self._init_dates(dates, freq)\n",
      " This problem is unconstrained.\n"
     ]
    },
    {
     "name": "stdout",
     "output_type": "stream",
     "text": [
      "RUNNING THE L-BFGS-B CODE\n",
      "\n",
      "           * * *\n",
      "\n",
      "Machine precision = 2.220D-16\n",
      " N =            3     M =           10\n",
      "\n",
      "At X0         0 variables are exactly at the bounds\n",
      "\n",
      "At iterate    0    f=  7.62421D+00    |proj g|=  5.71280D-04\n",
      "\n",
      "At iterate    5    f=  7.62421D+00    |proj g|=  6.89605D-04\n",
      "\n",
      "At iterate   10    f=  7.62417D+00    |proj g|=  5.28526D-03\n",
      "\n",
      "           * * *\n",
      "\n",
      "Tit   = total number of iterations\n",
      "Tnf   = total number of function evaluations\n",
      "Tnint = total number of segments explored during Cauchy searches\n",
      "Skip  = number of BFGS updates skipped\n",
      "Nact  = number of active bounds at final generalized Cauchy point\n",
      "Projg = norm of the final projected gradient\n",
      "F     = final function value\n",
      "\n",
      "           * * *\n",
      "\n",
      "   N    Tit     Tnf  Tnint  Skip  Nact     Projg        F\n",
      "    3     13     15      1     0     0   3.757D-06   7.624D+00\n",
      "  F =   7.6241524907091431     \n",
      "\n",
      "CONVERGENCE: NORM_OF_PROJECTED_GRADIENT_<=_PGTOL            \n"
     ]
    },
    {
     "name": "stderr",
     "output_type": "stream",
     "text": [
      "/Users/sujaykumar/miniconda3/lib/python3.10/site-packages/statsmodels/tsa/base/tsa_model.py:473: ValueWarning: No frequency information was provided, so inferred frequency D will be used.\n",
      "  self._init_dates(dates, freq)\n",
      "/Users/sujaykumar/miniconda3/lib/python3.10/site-packages/statsmodels/tsa/base/tsa_model.py:473: ValueWarning: No frequency information was provided, so inferred frequency D will be used.\n",
      "  self._init_dates(dates, freq)\n",
      " This problem is unconstrained.\n"
     ]
    },
    {
     "name": "stdout",
     "output_type": "stream",
     "text": [
      "RUNNING THE L-BFGS-B CODE\n",
      "\n",
      "           * * *\n",
      "\n",
      "Machine precision = 2.220D-16\n",
      " N =            4     M =           10\n",
      "\n",
      "At X0         0 variables are exactly at the bounds\n",
      "\n",
      "At iterate    0    f=  7.64045D+00    |proj g|=  1.88774D-01\n",
      "\n",
      "At iterate    5    f=  7.62328D+00    |proj g|=  1.95399D-04\n",
      "\n",
      "           * * *\n",
      "\n",
      "Tit   = total number of iterations\n",
      "Tnf   = total number of function evaluations\n",
      "Tnint = total number of segments explored during Cauchy searches\n",
      "Skip  = number of BFGS updates skipped\n",
      "Nact  = number of active bounds at final generalized Cauchy point\n",
      "Projg = norm of the final projected gradient\n",
      "F     = final function value\n",
      "\n",
      "           * * *\n",
      "\n",
      "   N    Tit     Tnf  Tnint  Skip  Nact     Projg        F\n",
      "    4      7     10      1     0     0   2.681D-05   7.623D+00\n",
      "  F =   7.6232765304102443     \n",
      "\n",
      "CONVERGENCE: REL_REDUCTION_OF_F_<=_FACTR*EPSMCH             \n"
     ]
    },
    {
     "name": "stderr",
     "output_type": "stream",
     "text": [
      "/Users/sujaykumar/miniconda3/lib/python3.10/site-packages/statsmodels/tsa/base/tsa_model.py:473: ValueWarning: No frequency information was provided, so inferred frequency D will be used.\n",
      "  self._init_dates(dates, freq)\n",
      "/Users/sujaykumar/miniconda3/lib/python3.10/site-packages/statsmodels/tsa/base/tsa_model.py:473: ValueWarning: No frequency information was provided, so inferred frequency D will be used.\n",
      "  self._init_dates(dates, freq)\n"
     ]
    },
    {
     "name": "stdout",
     "output_type": "stream",
     "text": [
      "RUNNING THE L-BFGS-B CODE\n",
      "\n",
      "           * * *\n",
      "\n",
      "Machine precision = 2.220D-16\n",
      " N =            5     M =           10\n",
      "\n",
      "At X0         0 variables are exactly at the bounds\n",
      "\n",
      "At iterate    0    f=  7.64828D+00    |proj g|=  2.25910D-01\n"
     ]
    },
    {
     "name": "stderr",
     "output_type": "stream",
     "text": [
      " This problem is unconstrained.\n"
     ]
    },
    {
     "name": "stdout",
     "output_type": "stream",
     "text": [
      "\n",
      "At iterate    5    f=  7.62298D+00    |proj g|=  9.08105D-03\n",
      "\n",
      "At iterate   10    f=  7.62207D+00    |proj g|=  4.56335D-03\n",
      "\n",
      "At iterate   15    f=  7.62084D+00    |proj g|=  3.31493D-02\n",
      "\n",
      "At iterate   20    f=  7.61818D+00    |proj g|=  1.55768D-03\n",
      "\n",
      "At iterate   25    f=  7.61812D+00    |proj g|=  7.50102D-06\n",
      "\n",
      "           * * *\n",
      "\n",
      "Tit   = total number of iterations\n",
      "Tnf   = total number of function evaluations\n",
      "Tnint = total number of segments explored during Cauchy searches\n",
      "Skip  = number of BFGS updates skipped\n",
      "Nact  = number of active bounds at final generalized Cauchy point\n",
      "Projg = norm of the final projected gradient\n",
      "F     = final function value\n",
      "\n",
      "           * * *\n",
      "\n",
      "   N    Tit     Tnf  Tnint  Skip  Nact     Projg        F\n",
      "    5     25     30      1     0     0   7.501D-06   7.618D+00\n",
      "  F =   7.6181246140770957     \n",
      "\n",
      "CONVERGENCE: NORM_OF_PROJECTED_GRADIENT_<=_PGTOL            \n"
     ]
    },
    {
     "name": "stderr",
     "output_type": "stream",
     "text": [
      "/Users/sujaykumar/miniconda3/lib/python3.10/site-packages/statsmodels/tsa/base/tsa_model.py:473: ValueWarning: No frequency information was provided, so inferred frequency D will be used.\n",
      "  self._init_dates(dates, freq)\n",
      "/Users/sujaykumar/miniconda3/lib/python3.10/site-packages/statsmodels/tsa/base/tsa_model.py:473: ValueWarning: No frequency information was provided, so inferred frequency D will be used.\n",
      "  self._init_dates(dates, freq)\n"
     ]
    },
    {
     "name": "stdout",
     "output_type": "stream",
     "text": [
      "RUNNING THE L-BFGS-B CODE\n",
      "\n",
      "           * * *\n",
      "\n",
      "Machine precision = 2.220D-16\n",
      " N =            6     M =           10\n",
      "\n",
      "At X0         0 variables are exactly at the bounds\n",
      "\n",
      "At iterate    0    f=  7.64863D+00    |proj g|=  2.36018D-01\n"
     ]
    },
    {
     "name": "stderr",
     "output_type": "stream",
     "text": [
      " This problem is unconstrained.\n"
     ]
    },
    {
     "name": "stdout",
     "output_type": "stream",
     "text": [
      "\n",
      "At iterate    5    f=  7.61873D+00    |proj g|=  1.42458D-02\n",
      "\n",
      "At iterate   10    f=  7.61715D+00    |proj g|=  8.72244D-04\n",
      "\n",
      "At iterate   15    f=  7.61654D+00    |proj g|=  1.92530D-02\n",
      "\n",
      "At iterate   20    f=  7.61535D+00    |proj g|=  5.79933D-04\n",
      "\n",
      "At iterate   25    f=  7.61535D+00    |proj g|=  1.24197D-05\n",
      "\n",
      "           * * *\n",
      "\n",
      "Tit   = total number of iterations\n",
      "Tnf   = total number of function evaluations\n",
      "Tnint = total number of segments explored during Cauchy searches\n",
      "Skip  = number of BFGS updates skipped\n",
      "Nact  = number of active bounds at final generalized Cauchy point\n",
      "Projg = norm of the final projected gradient\n",
      "F     = final function value\n",
      "\n",
      "           * * *\n",
      "\n",
      "   N    Tit     Tnf  Tnint  Skip  Nact     Projg        F\n",
      "    6     25     28      1     0     0   1.242D-05   7.615D+00\n",
      "  F =   7.6153524838874063     \n",
      "\n",
      "CONVERGENCE: REL_REDUCTION_OF_F_<=_FACTR*EPSMCH             \n"
     ]
    },
    {
     "name": "stderr",
     "output_type": "stream",
     "text": [
      "/Users/sujaykumar/miniconda3/lib/python3.10/site-packages/statsmodels/tsa/base/tsa_model.py:473: ValueWarning: No frequency information was provided, so inferred frequency D will be used.\n",
      "  self._init_dates(dates, freq)\n",
      "/Users/sujaykumar/miniconda3/lib/python3.10/site-packages/statsmodels/tsa/base/tsa_model.py:473: ValueWarning: No frequency information was provided, so inferred frequency D will be used.\n",
      "  self._init_dates(dates, freq)\n"
     ]
    },
    {
     "name": "stdout",
     "output_type": "stream",
     "text": [
      "RUNNING THE L-BFGS-B CODE\n",
      "\n",
      "           * * *\n",
      "\n",
      "Machine precision = 2.220D-16\n",
      " N =            7     M =           10\n",
      "\n",
      "At X0         0 variables are exactly at the bounds\n",
      "\n",
      "At iterate    0    f=  7.64261D+00    |proj g|=  2.45793D-01\n"
     ]
    },
    {
     "name": "stderr",
     "output_type": "stream",
     "text": [
      " This problem is unconstrained.\n"
     ]
    },
    {
     "name": "stdout",
     "output_type": "stream",
     "text": [
      "\n",
      "At iterate    5    f=  7.61321D+00    |proj g|=  3.27701D-04\n",
      "\n",
      "At iterate   10    f=  7.61320D+00    |proj g|=  3.99766D-04\n",
      "\n",
      "           * * *\n",
      "\n",
      "Tit   = total number of iterations\n",
      "Tnf   = total number of function evaluations\n",
      "Tnint = total number of segments explored during Cauchy searches\n",
      "Skip  = number of BFGS updates skipped\n",
      "Nact  = number of active bounds at final generalized Cauchy point\n",
      "Projg = norm of the final projected gradient\n",
      "F     = final function value\n",
      "\n",
      "           * * *\n",
      "\n",
      "   N    Tit     Tnf  Tnint  Skip  Nact     Projg        F\n",
      "    7     12     16      1     0     0   1.032D-04   7.613D+00\n",
      "  F =   7.6132048105060131     \n",
      "\n",
      "CONVERGENCE: REL_REDUCTION_OF_F_<=_FACTR*EPSMCH             \n"
     ]
    },
    {
     "name": "stderr",
     "output_type": "stream",
     "text": [
      "/Users/sujaykumar/miniconda3/lib/python3.10/site-packages/statsmodels/tsa/base/tsa_model.py:473: ValueWarning: No frequency information was provided, so inferred frequency D will be used.\n",
      "  self._init_dates(dates, freq)\n",
      "/Users/sujaykumar/miniconda3/lib/python3.10/site-packages/statsmodels/tsa/base/tsa_model.py:473: ValueWarning: No frequency information was provided, so inferred frequency D will be used.\n",
      "  self._init_dates(dates, freq)\n",
      " This problem is unconstrained.\n"
     ]
    },
    {
     "name": "stdout",
     "output_type": "stream",
     "text": [
      "RUNNING THE L-BFGS-B CODE\n",
      "\n",
      "           * * *\n",
      "\n",
      "Machine precision = 2.220D-16\n",
      " N =            8     M =           10\n",
      "\n",
      "At X0         0 variables are exactly at the bounds\n",
      "\n",
      "At iterate    0    f=  7.64364D+00    |proj g|=  2.47790D-01\n",
      "\n",
      "At iterate    5    f=  7.61316D+00    |proj g|=  2.33374D-04\n",
      "\n",
      "At iterate   10    f=  7.61314D+00    |proj g|=  1.83019D-03\n",
      "\n",
      "           * * *\n",
      "\n",
      "Tit   = total number of iterations\n",
      "Tnf   = total number of function evaluations\n",
      "Tnint = total number of segments explored during Cauchy searches\n",
      "Skip  = number of BFGS updates skipped\n",
      "Nact  = number of active bounds at final generalized Cauchy point\n",
      "Projg = norm of the final projected gradient\n",
      "F     = final function value\n",
      "\n",
      "           * * *\n",
      "\n",
      "   N    Tit     Tnf  Tnint  Skip  Nact     Projg        F\n",
      "    8     14     18      1     0     0   3.737D-05   7.613D+00\n",
      "  F =   7.6131415350801186     \n",
      "\n",
      "CONVERGENCE: REL_REDUCTION_OF_F_<=_FACTR*EPSMCH             \n"
     ]
    },
    {
     "name": "stderr",
     "output_type": "stream",
     "text": [
      "/Users/sujaykumar/miniconda3/lib/python3.10/site-packages/statsmodels/tsa/base/tsa_model.py:473: ValueWarning: No frequency information was provided, so inferred frequency D will be used.\n",
      "  self._init_dates(dates, freq)\n",
      "/Users/sujaykumar/miniconda3/lib/python3.10/site-packages/statsmodels/tsa/base/tsa_model.py:473: ValueWarning: No frequency information was provided, so inferred frequency D will be used.\n",
      "  self._init_dates(dates, freq)\n",
      " This problem is unconstrained.\n"
     ]
    },
    {
     "name": "stdout",
     "output_type": "stream",
     "text": [
      "RUNNING THE L-BFGS-B CODE\n",
      "\n",
      "           * * *\n",
      "\n",
      "Machine precision = 2.220D-16\n",
      " N =            9     M =           10\n",
      "\n",
      "At X0         0 variables are exactly at the bounds\n",
      "\n",
      "At iterate    0    f=  7.64774D+00    |proj g|=  2.71689D-01\n",
      "\n",
      "At iterate    5    f=  7.61287D+00    |proj g|=  1.46239D-04\n",
      "\n",
      "At iterate   10    f=  7.61287D+00    |proj g|=  1.16020D-03\n",
      "\n",
      "At iterate   15    f=  7.61284D+00    |proj g|=  3.93490D-03\n",
      "\n",
      "At iterate   20    f=  7.61280D+00    |proj g|=  3.46008D-03\n",
      "\n",
      "At iterate   25    f=  7.61241D+00    |proj g|=  1.31498D-02\n",
      "\n",
      "At iterate   30    f=  7.61216D+00    |proj g|=  1.33748D-03\n",
      "\n",
      "At iterate   35    f=  7.61215D+00    |proj g|=  3.67281D-05\n",
      "\n",
      "           * * *\n",
      "\n",
      "Tit   = total number of iterations\n",
      "Tnf   = total number of function evaluations\n",
      "Tnint = total number of segments explored during Cauchy searches\n",
      "Skip  = number of BFGS updates skipped\n",
      "Nact  = number of active bounds at final generalized Cauchy point\n",
      "Projg = norm of the final projected gradient\n",
      "F     = final function value\n",
      "\n",
      "           * * *\n",
      "\n",
      "   N    Tit     Tnf  Tnint  Skip  Nact     Projg        F\n",
      "    9     35     43      1     0     0   3.673D-05   7.612D+00\n",
      "  F =   7.6121508231216986     \n",
      "\n",
      "CONVERGENCE: REL_REDUCTION_OF_F_<=_FACTR*EPSMCH             \n"
     ]
    },
    {
     "name": "stderr",
     "output_type": "stream",
     "text": [
      "/Users/sujaykumar/miniconda3/lib/python3.10/site-packages/statsmodels/tsa/base/tsa_model.py:473: ValueWarning: No frequency information was provided, so inferred frequency D will be used.\n",
      "  self._init_dates(dates, freq)\n",
      "/Users/sujaykumar/miniconda3/lib/python3.10/site-packages/statsmodels/tsa/base/tsa_model.py:473: ValueWarning: No frequency information was provided, so inferred frequency D will be used.\n",
      "  self._init_dates(dates, freq)\n"
     ]
    },
    {
     "name": "stdout",
     "output_type": "stream",
     "text": [
      "RUNNING THE L-BFGS-B CODE\n",
      "\n",
      "           * * *\n",
      "\n",
      "Machine precision = 2.220D-16\n",
      " N =            4     M =           10\n",
      "\n",
      "At X0         0 variables are exactly at the bounds\n",
      "\n",
      "At iterate    0    f=  7.62296D+00    |proj g|=  1.13082D-03\n"
     ]
    },
    {
     "name": "stderr",
     "output_type": "stream",
     "text": [
      " This problem is unconstrained.\n"
     ]
    },
    {
     "name": "stdout",
     "output_type": "stream",
     "text": [
      "\n",
      "At iterate    5    f=  7.62296D+00    |proj g|=  9.99411D-04\n",
      "\n",
      "At iterate   10    f=  7.62292D+00    |proj g|=  3.68382D-03\n",
      "\n",
      "           * * *\n",
      "\n",
      "Tit   = total number of iterations\n",
      "Tnf   = total number of function evaluations\n",
      "Tnint = total number of segments explored during Cauchy searches\n",
      "Skip  = number of BFGS updates skipped\n",
      "Nact  = number of active bounds at final generalized Cauchy point\n",
      "Projg = norm of the final projected gradient\n",
      "F     = final function value\n",
      "\n",
      "           * * *\n",
      "\n",
      "   N    Tit     Tnf  Tnint  Skip  Nact     Projg        F\n",
      "    4     13     16      1     0     0   5.635D-06   7.623D+00\n",
      "  F =   7.6229120824897620     \n",
      "\n",
      "CONVERGENCE: NORM_OF_PROJECTED_GRADIENT_<=_PGTOL            \n"
     ]
    },
    {
     "name": "stderr",
     "output_type": "stream",
     "text": [
      "/Users/sujaykumar/miniconda3/lib/python3.10/site-packages/statsmodels/tsa/base/tsa_model.py:473: ValueWarning: No frequency information was provided, so inferred frequency D will be used.\n",
      "  self._init_dates(dates, freq)\n",
      "/Users/sujaykumar/miniconda3/lib/python3.10/site-packages/statsmodels/tsa/base/tsa_model.py:473: ValueWarning: No frequency information was provided, so inferred frequency D will be used.\n",
      "  self._init_dates(dates, freq)\n",
      " This problem is unconstrained.\n"
     ]
    },
    {
     "name": "stdout",
     "output_type": "stream",
     "text": [
      "RUNNING THE L-BFGS-B CODE\n",
      "\n",
      "           * * *\n",
      "\n",
      "Machine precision = 2.220D-16\n",
      " N =            5     M =           10\n",
      "\n",
      "At X0         0 variables are exactly at the bounds\n",
      "\n",
      "At iterate    0    f=  7.64151D+00    |proj g|=  2.00899D-01\n",
      "\n",
      "At iterate    5    f=  7.62327D+00    |proj g|=  4.65157D-03\n",
      "\n",
      "At iterate   10    f=  7.62311D+00    |proj g|=  1.38162D-04\n",
      "\n",
      "At iterate   15    f=  7.62310D+00    |proj g|=  1.44887D-03\n",
      "\n",
      "At iterate   20    f=  7.62297D+00    |proj g|=  1.06318D-02\n",
      "\n",
      "At iterate   25    f=  7.62286D+00    |proj g|=  6.87137D-05\n",
      "\n",
      "           * * *\n",
      "\n",
      "Tit   = total number of iterations\n",
      "Tnf   = total number of function evaluations\n",
      "Tnint = total number of segments explored during Cauchy searches\n",
      "Skip  = number of BFGS updates skipped\n",
      "Nact  = number of active bounds at final generalized Cauchy point\n",
      "Projg = norm of the final projected gradient\n",
      "F     = final function value\n",
      "\n",
      "           * * *\n",
      "\n",
      "   N    Tit     Tnf  Tnint  Skip  Nact     Projg        F\n",
      "    5     26     29      1     0     0   1.788D-05   7.623D+00\n",
      "  F =   7.6228558769338353     \n",
      "\n",
      "CONVERGENCE: REL_REDUCTION_OF_F_<=_FACTR*EPSMCH             \n"
     ]
    },
    {
     "name": "stderr",
     "output_type": "stream",
     "text": [
      "/Users/sujaykumar/miniconda3/lib/python3.10/site-packages/statsmodels/tsa/base/tsa_model.py:473: ValueWarning: No frequency information was provided, so inferred frequency D will be used.\n",
      "  self._init_dates(dates, freq)\n",
      "/Users/sujaykumar/miniconda3/lib/python3.10/site-packages/statsmodels/tsa/base/tsa_model.py:473: ValueWarning: No frequency information was provided, so inferred frequency D will be used.\n",
      "  self._init_dates(dates, freq)\n"
     ]
    },
    {
     "name": "stdout",
     "output_type": "stream",
     "text": [
      "RUNNING THE L-BFGS-B CODE\n",
      "\n",
      "           * * *\n",
      "\n",
      "Machine precision = 2.220D-16\n",
      " N =            6     M =           10\n",
      "\n",
      "At X0         0 variables are exactly at the bounds\n",
      "\n",
      "At iterate    0    f=  7.64662D+00    |proj g|=  2.23875D-01\n"
     ]
    },
    {
     "name": "stderr",
     "output_type": "stream",
     "text": [
      " This problem is unconstrained.\n"
     ]
    },
    {
     "name": "stdout",
     "output_type": "stream",
     "text": [
      "\n",
      "At iterate    5    f=  7.62233D+00    |proj g|=  3.54470D-02\n",
      "\n",
      "At iterate   10    f=  7.61653D+00    |proj g|=  2.17598D-02\n",
      "\n",
      "At iterate   15    f=  7.61520D+00    |proj g|=  5.34944D-04\n",
      "\n",
      "At iterate   20    f=  7.61518D+00    |proj g|=  3.68586D-03\n",
      "\n",
      "At iterate   25    f=  7.61465D+00    |proj g|=  1.30676D-02\n",
      "\n",
      "At iterate   30    f=  7.61413D+00    |proj g|=  8.57056D-04\n",
      "\n",
      "           * * *\n",
      "\n",
      "Tit   = total number of iterations\n",
      "Tnf   = total number of function evaluations\n",
      "Tnint = total number of segments explored during Cauchy searches\n",
      "Skip  = number of BFGS updates skipped\n",
      "Nact  = number of active bounds at final generalized Cauchy point\n",
      "Projg = norm of the final projected gradient\n",
      "F     = final function value\n",
      "\n",
      "           * * *\n",
      "\n",
      "   N    Tit     Tnf  Tnint  Skip  Nact     Projg        F\n",
      "    6     33     40      1     0     0   1.691D-05   7.614D+00\n",
      "  F =   7.6141303525145876     \n",
      "\n",
      "CONVERGENCE: REL_REDUCTION_OF_F_<=_FACTR*EPSMCH             \n"
     ]
    },
    {
     "name": "stderr",
     "output_type": "stream",
     "text": [
      "/Users/sujaykumar/miniconda3/lib/python3.10/site-packages/statsmodels/tsa/base/tsa_model.py:473: ValueWarning: No frequency information was provided, so inferred frequency D will be used.\n",
      "  self._init_dates(dates, freq)\n",
      "/Users/sujaykumar/miniconda3/lib/python3.10/site-packages/statsmodels/tsa/base/tsa_model.py:473: ValueWarning: No frequency information was provided, so inferred frequency D will be used.\n",
      "  self._init_dates(dates, freq)\n"
     ]
    },
    {
     "name": "stdout",
     "output_type": "stream",
     "text": [
      "RUNNING THE L-BFGS-B CODE\n",
      "\n",
      "           * * *\n",
      "\n",
      "Machine precision = 2.220D-16\n",
      " N =            7     M =           10\n",
      "\n",
      "At X0         0 variables are exactly at the bounds\n",
      "\n",
      "At iterate    0    f=  7.64878D+00    |proj g|=  2.38111D-01\n"
     ]
    },
    {
     "name": "stderr",
     "output_type": "stream",
     "text": [
      " This problem is unconstrained.\n"
     ]
    },
    {
     "name": "stdout",
     "output_type": "stream",
     "text": [
      "\n",
      "At iterate    5    f=  7.61896D+00    |proj g|=  5.96304D-03\n",
      "\n",
      "At iterate   10    f=  7.61789D+00    |proj g|=  4.67251D-03\n",
      "\n",
      "At iterate   15    f=  7.61554D+00    |proj g|=  1.00100D-02\n",
      "\n",
      "At iterate   20    f=  7.61511D+00    |proj g|=  5.08659D-04\n",
      "\n",
      "At iterate   25    f=  7.61493D+00    |proj g|=  7.45305D-03\n",
      "\n",
      "At iterate   30    f=  7.61175D+00    |proj g|=  2.29263D-02\n",
      "\n",
      "At iterate   35    f=  7.60512D+00    |proj g|=  8.60444D-03\n",
      "\n",
      "At iterate   40    f=  7.60226D+00    |proj g|=  2.15987D-02\n",
      "\n",
      "At iterate   45    f=  7.60023D+00    |proj g|=  1.04069D-02\n"
     ]
    },
    {
     "name": "stderr",
     "output_type": "stream",
     "text": [
      "/Users/sujaykumar/miniconda3/lib/python3.10/site-packages/statsmodels/base/model.py:607: ConvergenceWarning: Maximum Likelihood optimization failed to converge. Check mle_retvals\n",
      "  warnings.warn(\"Maximum Likelihood optimization failed to \"\n"
     ]
    },
    {
     "name": "stdout",
     "output_type": "stream",
     "text": [
      "\n",
      "At iterate   50    f=  7.59666D+00    |proj g|=  2.87698D-02\n",
      "\n",
      "           * * *\n",
      "\n",
      "Tit   = total number of iterations\n",
      "Tnf   = total number of function evaluations\n",
      "Tnint = total number of segments explored during Cauchy searches\n",
      "Skip  = number of BFGS updates skipped\n",
      "Nact  = number of active bounds at final generalized Cauchy point\n",
      "Projg = norm of the final projected gradient\n",
      "F     = final function value\n",
      "\n",
      "           * * *\n",
      "\n",
      "   N    Tit     Tnf  Tnint  Skip  Nact     Projg        F\n",
      "    7     50     67      1     0     0   2.877D-02   7.597D+00\n",
      "  F =   7.5966618100975980     \n",
      "\n",
      "STOP: TOTAL NO. of ITERATIONS REACHED LIMIT                 \n"
     ]
    },
    {
     "name": "stderr",
     "output_type": "stream",
     "text": [
      "/Users/sujaykumar/miniconda3/lib/python3.10/site-packages/statsmodels/tsa/base/tsa_model.py:473: ValueWarning: No frequency information was provided, so inferred frequency D will be used.\n",
      "  self._init_dates(dates, freq)\n",
      "/Users/sujaykumar/miniconda3/lib/python3.10/site-packages/statsmodels/tsa/base/tsa_model.py:473: ValueWarning: No frequency information was provided, so inferred frequency D will be used.\n",
      "  self._init_dates(dates, freq)\n"
     ]
    },
    {
     "name": "stdout",
     "output_type": "stream",
     "text": [
      "RUNNING THE L-BFGS-B CODE\n",
      "\n",
      "           * * *\n",
      "\n",
      "Machine precision = 2.220D-16\n",
      " N =            8     M =           10\n",
      "\n",
      "At X0         0 variables are exactly at the bounds\n",
      "\n",
      "At iterate    0    f=  7.64260D+00    |proj g|=  2.47583D-01\n"
     ]
    },
    {
     "name": "stderr",
     "output_type": "stream",
     "text": [
      " This problem is unconstrained.\n"
     ]
    },
    {
     "name": "stdout",
     "output_type": "stream",
     "text": [
      "\n",
      "At iterate    5    f=  7.61315D+00    |proj g|=  1.67911D-03\n",
      "\n",
      "At iterate   10    f=  7.61302D+00    |proj g|=  1.24100D-03\n",
      "\n",
      "At iterate   15    f=  7.61290D+00    |proj g|=  1.03140D-02\n",
      "\n",
      "At iterate   20    f=  7.61274D+00    |proj g|=  4.02241D-04\n",
      "\n",
      "At iterate   25    f=  7.61272D+00    |proj g|=  2.89606D-03\n",
      "\n",
      "At iterate   30    f=  7.61242D+00    |proj g|=  1.76895D-03\n",
      "\n",
      "At iterate   35    f=  7.61235D+00    |proj g|=  2.76699D-04\n",
      "\n",
      "           * * *\n",
      "\n",
      "Tit   = total number of iterations\n",
      "Tnf   = total number of function evaluations\n",
      "Tnint = total number of segments explored during Cauchy searches\n",
      "Skip  = number of BFGS updates skipped\n",
      "Nact  = number of active bounds at final generalized Cauchy point\n",
      "Projg = norm of the final projected gradient\n",
      "F     = final function value\n",
      "\n",
      "           * * *\n",
      "\n",
      "   N    Tit     Tnf  Tnint  Skip  Nact     Projg        F\n",
      "    8     37     41      1     0     0   2.085D-05   7.612D+00\n",
      "  F =   7.6123481375729600     \n",
      "\n",
      "CONVERGENCE: REL_REDUCTION_OF_F_<=_FACTR*EPSMCH             \n"
     ]
    },
    {
     "name": "stderr",
     "output_type": "stream",
     "text": [
      "/Users/sujaykumar/miniconda3/lib/python3.10/site-packages/statsmodels/tsa/base/tsa_model.py:473: ValueWarning: No frequency information was provided, so inferred frequency D will be used.\n",
      "  self._init_dates(dates, freq)\n",
      "/Users/sujaykumar/miniconda3/lib/python3.10/site-packages/statsmodels/tsa/base/tsa_model.py:473: ValueWarning: No frequency information was provided, so inferred frequency D will be used.\n",
      "  self._init_dates(dates, freq)\n"
     ]
    },
    {
     "name": "stdout",
     "output_type": "stream",
     "text": [
      "RUNNING THE L-BFGS-B CODE\n",
      "\n",
      "           * * *\n",
      "\n",
      "Machine precision = 2.220D-16\n",
      " N =            9     M =           10\n",
      "\n",
      "At X0         0 variables are exactly at the bounds\n",
      "\n",
      "At iterate    0    f=  7.64364D+00    |proj g|=  2.49327D-01\n"
     ]
    },
    {
     "name": "stderr",
     "output_type": "stream",
     "text": [
      " This problem is unconstrained.\n"
     ]
    },
    {
     "name": "stdout",
     "output_type": "stream",
     "text": [
      "\n",
      "At iterate    5    f=  7.61306D+00    |proj g|=  2.14343D-03\n",
      "\n",
      "At iterate   10    f=  7.61279D+00    |proj g|=  3.26431D-03\n",
      "\n",
      "At iterate   15    f=  7.61262D+00    |proj g|=  6.72925D-03\n",
      "\n",
      "At iterate   20    f=  7.61250D+00    |proj g|=  7.30490D-05\n",
      "\n",
      "           * * *\n",
      "\n",
      "Tit   = total number of iterations\n",
      "Tnf   = total number of function evaluations\n",
      "Tnint = total number of segments explored during Cauchy searches\n",
      "Skip  = number of BFGS updates skipped\n",
      "Nact  = number of active bounds at final generalized Cauchy point\n",
      "Projg = norm of the final projected gradient\n",
      "F     = final function value\n",
      "\n",
      "           * * *\n",
      "\n",
      "   N    Tit     Tnf  Tnint  Skip  Nact     Projg        F\n",
      "    9     21     23      1     0     0   6.995D-05   7.612D+00\n",
      "  F =   7.6124977646996239     \n",
      "\n",
      "CONVERGENCE: REL_REDUCTION_OF_F_<=_FACTR*EPSMCH             \n"
     ]
    },
    {
     "name": "stderr",
     "output_type": "stream",
     "text": [
      "/Users/sujaykumar/miniconda3/lib/python3.10/site-packages/statsmodels/tsa/base/tsa_model.py:473: ValueWarning: No frequency information was provided, so inferred frequency D will be used.\n",
      "  self._init_dates(dates, freq)\n",
      "/Users/sujaykumar/miniconda3/lib/python3.10/site-packages/statsmodels/tsa/base/tsa_model.py:473: ValueWarning: No frequency information was provided, so inferred frequency D will be used.\n",
      "  self._init_dates(dates, freq)\n"
     ]
    },
    {
     "name": "stdout",
     "output_type": "stream",
     "text": [
      "RUNNING THE L-BFGS-B CODE\n",
      "\n",
      "           * * *\n",
      "\n",
      "Machine precision = 2.220D-16\n",
      " N =           10     M =           10\n",
      "\n",
      "At X0         0 variables are exactly at the bounds\n",
      "\n",
      "At iterate    0    f=  7.64770D+00    |proj g|=  2.73674D-01\n"
     ]
    },
    {
     "name": "stderr",
     "output_type": "stream",
     "text": [
      " This problem is unconstrained.\n"
     ]
    },
    {
     "name": "stdout",
     "output_type": "stream",
     "text": [
      "\n",
      "At iterate    5    f=  7.61283D+00    |proj g|=  1.03004D-03\n",
      "\n",
      "At iterate   10    f=  7.61276D+00    |proj g|=  4.45898D-03\n",
      "\n",
      "At iterate   15    f=  7.61269D+00    |proj g|=  2.58544D-03\n",
      "\n",
      "At iterate   20    f=  7.61244D+00    |proj g|=  1.41646D-03\n",
      "\n",
      "At iterate   25    f=  7.61229D+00    |proj g|=  1.93352D-02\n",
      "\n",
      "At iterate   30    f=  7.60557D+00    |proj g|=  2.08377D-02\n",
      "\n",
      "At iterate   35    f=  7.59754D+00    |proj g|=  4.07147D-02\n",
      "\n",
      "At iterate   40    f=  7.59554D+00    |proj g|=  4.80009D-03\n",
      "\n",
      "At iterate   45    f=  7.59333D+00    |proj g|=  8.19115D-03\n"
     ]
    },
    {
     "name": "stderr",
     "output_type": "stream",
     "text": [
      "/Users/sujaykumar/miniconda3/lib/python3.10/site-packages/statsmodels/base/model.py:607: ConvergenceWarning: Maximum Likelihood optimization failed to converge. Check mle_retvals\n",
      "  warnings.warn(\"Maximum Likelihood optimization failed to \"\n"
     ]
    },
    {
     "name": "stdout",
     "output_type": "stream",
     "text": [
      "\n",
      "At iterate   50    f=  7.59154D+00    |proj g|=  2.56439D-03\n",
      "\n",
      "           * * *\n",
      "\n",
      "Tit   = total number of iterations\n",
      "Tnf   = total number of function evaluations\n",
      "Tnint = total number of segments explored during Cauchy searches\n",
      "Skip  = number of BFGS updates skipped\n",
      "Nact  = number of active bounds at final generalized Cauchy point\n",
      "Projg = norm of the final projected gradient\n",
      "F     = final function value\n",
      "\n",
      "           * * *\n",
      "\n",
      "   N    Tit     Tnf  Tnint  Skip  Nact     Projg        F\n",
      "   10     50     67      1     0     0   2.564D-03   7.592D+00\n",
      "  F =   7.5915362914235649     \n",
      "\n",
      "STOP: TOTAL NO. of ITERATIONS REACHED LIMIT                 \n"
     ]
    },
    {
     "name": "stderr",
     "output_type": "stream",
     "text": [
      "/Users/sujaykumar/miniconda3/lib/python3.10/site-packages/statsmodels/tsa/base/tsa_model.py:473: ValueWarning: No frequency information was provided, so inferred frequency D will be used.\n",
      "  self._init_dates(dates, freq)\n",
      "/Users/sujaykumar/miniconda3/lib/python3.10/site-packages/statsmodels/tsa/base/tsa_model.py:473: ValueWarning: No frequency information was provided, so inferred frequency D will be used.\n",
      "  self._init_dates(dates, freq)\n"
     ]
    },
    {
     "name": "stdout",
     "output_type": "stream",
     "text": [
      "RUNNING THE L-BFGS-B CODE\n",
      "\n",
      "           * * *\n",
      "\n",
      "Machine precision = 2.220D-16\n",
      " N =            5     M =           10\n",
      "\n",
      "At X0         0 variables are exactly at the bounds\n",
      "\n",
      "At iterate    0    f=  7.62253D+00    |proj g|=  1.33523D-03\n"
     ]
    },
    {
     "name": "stderr",
     "output_type": "stream",
     "text": [
      " This problem is unconstrained.\n"
     ]
    },
    {
     "name": "stdout",
     "output_type": "stream",
     "text": [
      "\n",
      "At iterate    5    f=  7.62253D+00    |proj g|=  4.15429D-04\n",
      "\n",
      "At iterate   10    f=  7.62251D+00    |proj g|=  3.48535D-03\n",
      "\n",
      "           * * *\n",
      "\n",
      "Tit   = total number of iterations\n",
      "Tnf   = total number of function evaluations\n",
      "Tnint = total number of segments explored during Cauchy searches\n",
      "Skip  = number of BFGS updates skipped\n",
      "Nact  = number of active bounds at final generalized Cauchy point\n",
      "Projg = norm of the final projected gradient\n",
      "F     = final function value\n",
      "\n",
      "           * * *\n",
      "\n",
      "   N    Tit     Tnf  Tnint  Skip  Nact     Projg        F\n",
      "    5     14     16      1     0     0   8.998D-06   7.622D+00\n",
      "  F =   7.6224918182578314     \n",
      "\n",
      "CONVERGENCE: NORM_OF_PROJECTED_GRADIENT_<=_PGTOL            \n"
     ]
    },
    {
     "name": "stderr",
     "output_type": "stream",
     "text": [
      "/Users/sujaykumar/miniconda3/lib/python3.10/site-packages/statsmodels/tsa/base/tsa_model.py:473: ValueWarning: No frequency information was provided, so inferred frequency D will be used.\n",
      "  self._init_dates(dates, freq)\n",
      "/Users/sujaykumar/miniconda3/lib/python3.10/site-packages/statsmodels/tsa/base/tsa_model.py:473: ValueWarning: No frequency information was provided, so inferred frequency D will be used.\n",
      "  self._init_dates(dates, freq)\n"
     ]
    },
    {
     "name": "stdout",
     "output_type": "stream",
     "text": [
      "RUNNING THE L-BFGS-B CODE\n",
      "\n",
      "           * * *\n",
      "\n",
      "Machine precision = 2.220D-16\n",
      " N =            6     M =           10\n",
      "\n",
      "At X0         0 variables are exactly at the bounds\n",
      "\n",
      "At iterate    0    f=  7.63906D+00    |proj g|=  1.88245D-01\n"
     ]
    },
    {
     "name": "stderr",
     "output_type": "stream",
     "text": [
      " This problem is unconstrained.\n"
     ]
    },
    {
     "name": "stdout",
     "output_type": "stream",
     "text": [
      "\n",
      "At iterate    5    f=  7.62165D+00    |proj g|=  4.98584D-03\n",
      "\n",
      "At iterate   10    f=  7.62125D+00    |proj g|=  4.88694D-04\n",
      "\n",
      "At iterate   15    f=  7.62122D+00    |proj g|=  5.88071D-03\n",
      "\n",
      "At iterate   20    f=  7.62019D+00    |proj g|=  1.58835D-02\n",
      "\n",
      "At iterate   25    f=  7.61966D+00    |proj g|=  1.46712D-03\n",
      "\n",
      "           * * *\n",
      "\n",
      "Tit   = total number of iterations\n",
      "Tnf   = total number of function evaluations\n",
      "Tnint = total number of segments explored during Cauchy searches\n",
      "Skip  = number of BFGS updates skipped\n",
      "Nact  = number of active bounds at final generalized Cauchy point\n",
      "Projg = norm of the final projected gradient\n",
      "F     = final function value\n",
      "\n",
      "           * * *\n",
      "\n",
      "   N    Tit     Tnf  Tnint  Skip  Nact     Projg        F\n",
      "    6     28     30      1     0     0   4.768D-06   7.620D+00\n",
      "  F =   7.6196576756874359     \n",
      "\n",
      "CONVERGENCE: NORM_OF_PROJECTED_GRADIENT_<=_PGTOL            \n"
     ]
    },
    {
     "name": "stderr",
     "output_type": "stream",
     "text": [
      "/Users/sujaykumar/miniconda3/lib/python3.10/site-packages/statsmodels/tsa/base/tsa_model.py:473: ValueWarning: No frequency information was provided, so inferred frequency D will be used.\n",
      "  self._init_dates(dates, freq)\n",
      "/Users/sujaykumar/miniconda3/lib/python3.10/site-packages/statsmodels/tsa/base/tsa_model.py:473: ValueWarning: No frequency information was provided, so inferred frequency D will be used.\n",
      "  self._init_dates(dates, freq)\n",
      " This problem is unconstrained.\n"
     ]
    },
    {
     "name": "stdout",
     "output_type": "stream",
     "text": [
      "RUNNING THE L-BFGS-B CODE\n",
      "\n",
      "           * * *\n",
      "\n",
      "Machine precision = 2.220D-16\n",
      " N =            7     M =           10\n",
      "\n",
      "At X0         0 variables are exactly at the bounds\n",
      "\n",
      "At iterate    0    f=  7.64484D+00    |proj g|=  2.13915D-01\n",
      "\n",
      "At iterate    5    f=  7.62166D+00    |proj g|=  8.36650D-03\n",
      "\n",
      "At iterate   10    f=  7.61567D+00    |proj g|=  1.69009D-02\n",
      "\n",
      "At iterate   15    f=  7.61506D+00    |proj g|=  4.39629D-03\n",
      "\n",
      "At iterate   20    f=  7.61480D+00    |proj g|=  9.47829D-04\n",
      "\n",
      "At iterate   25    f=  7.61473D+00    |proj g|=  5.01324D-03\n",
      "\n",
      "At iterate   30    f=  7.61323D+00    |proj g|=  1.38902D-02\n",
      "\n",
      "At iterate   35    f=  7.61101D+00    |proj g|=  6.95229D-03\n",
      "\n",
      "At iterate   40    f=  7.60813D+00    |proj g|=  1.46112D-02\n",
      "\n",
      "At iterate   45    f=  7.60689D+00    |proj g|=  2.17596D-03\n"
     ]
    },
    {
     "name": "stderr",
     "output_type": "stream",
     "text": [
      "/Users/sujaykumar/miniconda3/lib/python3.10/site-packages/statsmodels/base/model.py:607: ConvergenceWarning: Maximum Likelihood optimization failed to converge. Check mle_retvals\n",
      "  warnings.warn(\"Maximum Likelihood optimization failed to \"\n"
     ]
    },
    {
     "name": "stdout",
     "output_type": "stream",
     "text": [
      "\n",
      "At iterate   50    f=  7.60689D+00    |proj g|=  1.29374D-04\n",
      "\n",
      "           * * *\n",
      "\n",
      "Tit   = total number of iterations\n",
      "Tnf   = total number of function evaluations\n",
      "Tnint = total number of segments explored during Cauchy searches\n",
      "Skip  = number of BFGS updates skipped\n",
      "Nact  = number of active bounds at final generalized Cauchy point\n",
      "Projg = norm of the final projected gradient\n",
      "F     = final function value\n",
      "\n",
      "           * * *\n",
      "\n",
      "   N    Tit     Tnf  Tnint  Skip  Nact     Projg        F\n",
      "    7     50     64      1     0     0   1.294D-04   7.607D+00\n",
      "  F =   7.6068866601526892     \n",
      "\n",
      "STOP: TOTAL NO. of ITERATIONS REACHED LIMIT                 \n"
     ]
    },
    {
     "name": "stderr",
     "output_type": "stream",
     "text": [
      "/Users/sujaykumar/miniconda3/lib/python3.10/site-packages/statsmodels/tsa/base/tsa_model.py:473: ValueWarning: No frequency information was provided, so inferred frequency D will be used.\n",
      "  self._init_dates(dates, freq)\n",
      "/Users/sujaykumar/miniconda3/lib/python3.10/site-packages/statsmodels/tsa/base/tsa_model.py:473: ValueWarning: No frequency information was provided, so inferred frequency D will be used.\n",
      "  self._init_dates(dates, freq)\n",
      " This problem is unconstrained.\n"
     ]
    },
    {
     "name": "stdout",
     "output_type": "stream",
     "text": [
      "RUNNING THE L-BFGS-B CODE\n",
      "\n",
      "           * * *\n",
      "\n",
      "Machine precision = 2.220D-16\n",
      " N =            8     M =           10\n",
      "\n",
      "At X0         0 variables are exactly at the bounds\n",
      "\n",
      "At iterate    0    f=  7.65151D+00    |proj g|=  2.37420D-01\n",
      "\n",
      "At iterate    5    f=  7.61800D+00    |proj g|=  4.56932D-02\n",
      "\n",
      "At iterate   10    f=  7.61368D+00    |proj g|=  3.61681D-03\n",
      "\n",
      "At iterate   15    f=  7.61298D+00    |proj g|=  8.34379D-03\n",
      "\n",
      "At iterate   20    f=  7.61288D+00    |proj g|=  1.90338D-03\n",
      "\n",
      "At iterate   25    f=  7.61277D+00    |proj g|=  2.88332D-03\n",
      "\n",
      "           * * *\n",
      "\n",
      "Tit   = total number of iterations\n",
      "Tnf   = total number of function evaluations\n",
      "Tnint = total number of segments explored during Cauchy searches\n",
      "Skip  = number of BFGS updates skipped\n",
      "Nact  = number of active bounds at final generalized Cauchy point\n",
      "Projg = norm of the final projected gradient\n",
      "F     = final function value\n",
      "\n",
      "           * * *\n",
      "\n",
      "   N    Tit     Tnf  Tnint  Skip  Nact     Projg        F\n",
      "    8     28     32      1     0     0   3.728D-05   7.613D+00\n",
      "  F =   7.6127642745399413     \n",
      "\n",
      "CONVERGENCE: REL_REDUCTION_OF_F_<=_FACTR*EPSMCH             \n"
     ]
    },
    {
     "name": "stderr",
     "output_type": "stream",
     "text": [
      "/Users/sujaykumar/miniconda3/lib/python3.10/site-packages/statsmodels/tsa/base/tsa_model.py:473: ValueWarning: No frequency information was provided, so inferred frequency D will be used.\n",
      "  self._init_dates(dates, freq)\n",
      "/Users/sujaykumar/miniconda3/lib/python3.10/site-packages/statsmodels/tsa/base/tsa_model.py:473: ValueWarning: No frequency information was provided, so inferred frequency D will be used.\n",
      "  self._init_dates(dates, freq)\n",
      " This problem is unconstrained.\n"
     ]
    },
    {
     "name": "stdout",
     "output_type": "stream",
     "text": [
      "RUNNING THE L-BFGS-B CODE\n",
      "\n",
      "           * * *\n",
      "\n",
      "Machine precision = 2.220D-16\n",
      " N =            9     M =           10\n",
      "\n",
      "At X0         0 variables are exactly at the bounds\n",
      "\n",
      "At iterate    0    f=  7.64320D+00    |proj g|=  2.44229D-01\n",
      "\n",
      "At iterate    5    f=  7.61350D+00    |proj g|=  4.48533D-03\n",
      "\n",
      "At iterate   10    f=  7.61313D+00    |proj g|=  2.77502D-03\n",
      "\n",
      "At iterate   15    f=  7.61265D+00    |proj g|=  4.76965D-03\n",
      "\n",
      "At iterate   20    f=  7.61258D+00    |proj g|=  4.73500D-04\n",
      "\n",
      "At iterate   25    f=  7.61254D+00    |proj g|=  1.10510D-03\n",
      "\n",
      "At iterate   30    f=  7.61254D+00    |proj g|=  2.15673D-04\n",
      "\n",
      "At iterate   35    f=  7.61253D+00    |proj g|=  1.09559D-03\n",
      "\n",
      "At iterate   40    f=  7.61236D+00    |proj g|=  7.27842D-03\n",
      "\n",
      "At iterate   45    f=  7.61230D+00    |proj g|=  4.06373D-04\n"
     ]
    },
    {
     "name": "stderr",
     "output_type": "stream",
     "text": [
      "/Users/sujaykumar/miniconda3/lib/python3.10/site-packages/statsmodels/base/model.py:607: ConvergenceWarning: Maximum Likelihood optimization failed to converge. Check mle_retvals\n",
      "  warnings.warn(\"Maximum Likelihood optimization failed to \"\n"
     ]
    },
    {
     "name": "stdout",
     "output_type": "stream",
     "text": [
      "\n",
      "At iterate   50    f=  7.61230D+00    |proj g|=  3.13269D-05\n",
      "\n",
      "           * * *\n",
      "\n",
      "Tit   = total number of iterations\n",
      "Tnf   = total number of function evaluations\n",
      "Tnint = total number of segments explored during Cauchy searches\n",
      "Skip  = number of BFGS updates skipped\n",
      "Nact  = number of active bounds at final generalized Cauchy point\n",
      "Projg = norm of the final projected gradient\n",
      "F     = final function value\n",
      "\n",
      "           * * *\n",
      "\n",
      "   N    Tit     Tnf  Tnint  Skip  Nact     Projg        F\n",
      "    9     50     56      1     0     0   3.133D-05   7.612D+00\n",
      "  F =   7.6122966955366902     \n",
      "\n",
      "STOP: TOTAL NO. of ITERATIONS REACHED LIMIT                 \n"
     ]
    },
    {
     "name": "stderr",
     "output_type": "stream",
     "text": [
      "/Users/sujaykumar/miniconda3/lib/python3.10/site-packages/statsmodels/tsa/base/tsa_model.py:473: ValueWarning: No frequency information was provided, so inferred frequency D will be used.\n",
      "  self._init_dates(dates, freq)\n",
      "/Users/sujaykumar/miniconda3/lib/python3.10/site-packages/statsmodels/tsa/base/tsa_model.py:473: ValueWarning: No frequency information was provided, so inferred frequency D will be used.\n",
      "  self._init_dates(dates, freq)\n",
      " This problem is unconstrained.\n"
     ]
    },
    {
     "name": "stdout",
     "output_type": "stream",
     "text": [
      "RUNNING THE L-BFGS-B CODE\n",
      "\n",
      "           * * *\n",
      "\n",
      "Machine precision = 2.220D-16\n",
      " N =           10     M =           10\n",
      "\n",
      "At X0         0 variables are exactly at the bounds\n",
      "\n",
      "At iterate    0    f=  7.64414D+00    |proj g|=  2.44635D-01\n",
      "\n",
      "At iterate    5    f=  7.61344D+00    |proj g|=  4.91597D-03\n",
      "\n",
      "At iterate   10    f=  7.61292D+00    |proj g|=  3.72767D-03\n",
      "\n",
      "At iterate   15    f=  7.61230D+00    |proj g|=  8.12532D-03\n",
      "\n",
      "At iterate   20    f=  7.61216D+00    |proj g|=  2.26100D-04\n",
      "\n",
      "At iterate   25    f=  7.61216D+00    |proj g|=  6.15965D-04\n",
      "\n",
      "At iterate   30    f=  7.61216D+00    |proj g|=  2.99762D-04\n",
      "\n",
      "           * * *\n",
      "\n",
      "Tit   = total number of iterations\n",
      "Tnf   = total number of function evaluations\n",
      "Tnint = total number of segments explored during Cauchy searches\n",
      "Skip  = number of BFGS updates skipped\n",
      "Nact  = number of active bounds at final generalized Cauchy point\n",
      "Projg = norm of the final projected gradient\n",
      "F     = final function value\n",
      "\n",
      "           * * *\n",
      "\n",
      "   N    Tit     Tnf  Tnint  Skip  Nact     Projg        F\n",
      "   10     32     35      1     0     0   9.916D-05   7.612D+00\n",
      "  F =   7.6121602537015782     \n",
      "\n",
      "CONVERGENCE: REL_REDUCTION_OF_F_<=_FACTR*EPSMCH             \n"
     ]
    },
    {
     "name": "stderr",
     "output_type": "stream",
     "text": [
      "/Users/sujaykumar/miniconda3/lib/python3.10/site-packages/statsmodels/tsa/base/tsa_model.py:473: ValueWarning: No frequency information was provided, so inferred frequency D will be used.\n",
      "  self._init_dates(dates, freq)\n",
      "/Users/sujaykumar/miniconda3/lib/python3.10/site-packages/statsmodels/tsa/base/tsa_model.py:473: ValueWarning: No frequency information was provided, so inferred frequency D will be used.\n",
      "  self._init_dates(dates, freq)\n"
     ]
    },
    {
     "name": "stdout",
     "output_type": "stream",
     "text": [
      "RUNNING THE L-BFGS-B CODE\n",
      "\n",
      "           * * *\n",
      "\n",
      "Machine precision = 2.220D-16\n",
      " N =           11     M =           10\n",
      "\n",
      "At X0         0 variables are exactly at the bounds\n",
      "\n",
      "At iterate    0    f=  7.64879D+00    |proj g|=  2.70078D-01\n"
     ]
    },
    {
     "name": "stderr",
     "output_type": "stream",
     "text": [
      " This problem is unconstrained.\n"
     ]
    },
    {
     "name": "stdout",
     "output_type": "stream",
     "text": [
      "\n",
      "At iterate    5    f=  7.61335D+00    |proj g|=  5.12904D-03\n",
      "\n",
      "At iterate   10    f=  7.61260D+00    |proj g|=  2.01191D-03\n",
      "\n",
      "At iterate   15    f=  7.61229D+00    |proj g|=  9.30966D-03\n",
      "\n",
      "At iterate   20    f=  7.61209D+00    |proj g|=  4.94393D-04\n",
      "\n",
      "At iterate   25    f=  7.61209D+00    |proj g|=  7.67339D-04\n",
      "\n",
      "At iterate   30    f=  7.61207D+00    |proj g|=  1.52641D-03\n",
      "\n",
      "At iterate   35    f=  7.61207D+00    |proj g|=  6.09213D-05\n",
      "\n",
      "           * * *\n",
      "\n",
      "Tit   = total number of iterations\n",
      "Tnf   = total number of function evaluations\n",
      "Tnint = total number of segments explored during Cauchy searches\n",
      "Skip  = number of BFGS updates skipped\n",
      "Nact  = number of active bounds at final generalized Cauchy point\n",
      "Projg = norm of the final projected gradient\n",
      "F     = final function value\n",
      "\n",
      "           * * *\n",
      "\n",
      "   N    Tit     Tnf  Tnint  Skip  Nact     Projg        F\n",
      "   11     35     39      1     0     0   6.092D-05   7.612D+00\n",
      "  F =   7.6120702200925292     \n",
      "\n",
      "CONVERGENCE: REL_REDUCTION_OF_F_<=_FACTR*EPSMCH             \n"
     ]
    },
    {
     "name": "stderr",
     "output_type": "stream",
     "text": [
      "/Users/sujaykumar/miniconda3/lib/python3.10/site-packages/statsmodels/tsa/base/tsa_model.py:473: ValueWarning: No frequency information was provided, so inferred frequency D will be used.\n",
      "  self._init_dates(dates, freq)\n",
      "/Users/sujaykumar/miniconda3/lib/python3.10/site-packages/statsmodels/tsa/base/tsa_model.py:473: ValueWarning: No frequency information was provided, so inferred frequency D will be used.\n",
      "  self._init_dates(dates, freq)\n"
     ]
    },
    {
     "name": "stdout",
     "output_type": "stream",
     "text": [
      "RUNNING THE L-BFGS-B CODE\n",
      "\n",
      "           * * *\n",
      "\n",
      "Machine precision = 2.220D-16\n",
      " N =            6     M =           10\n",
      "\n",
      "At X0         0 variables are exactly at the bounds\n",
      "\n",
      "At iterate    0    f=  7.61506D+00    |proj g|=  1.31961D-03\n"
     ]
    },
    {
     "name": "stderr",
     "output_type": "stream",
     "text": [
      " This problem is unconstrained.\n"
     ]
    },
    {
     "name": "stdout",
     "output_type": "stream",
     "text": [
      "\n",
      "           * * *\n",
      "\n",
      "Tit   = total number of iterations\n",
      "Tnf   = total number of function evaluations\n",
      "Tnint = total number of segments explored during Cauchy searches\n",
      "Skip  = number of BFGS updates skipped\n",
      "Nact  = number of active bounds at final generalized Cauchy point\n",
      "Projg = norm of the final projected gradient\n",
      "F     = final function value\n",
      "\n",
      "           * * *\n",
      "\n",
      "   N    Tit     Tnf  Tnint  Skip  Nact     Projg        F\n",
      "    6      3      5      1     0     0   8.654D-05   7.615D+00\n",
      "  F =   7.6150564429934589     \n",
      "\n",
      "CONVERGENCE: REL_REDUCTION_OF_F_<=_FACTR*EPSMCH             \n"
     ]
    },
    {
     "name": "stderr",
     "output_type": "stream",
     "text": [
      "/Users/sujaykumar/miniconda3/lib/python3.10/site-packages/statsmodels/tsa/base/tsa_model.py:473: ValueWarning: No frequency information was provided, so inferred frequency D will be used.\n",
      "  self._init_dates(dates, freq)\n",
      "/Users/sujaykumar/miniconda3/lib/python3.10/site-packages/statsmodels/tsa/base/tsa_model.py:473: ValueWarning: No frequency information was provided, so inferred frequency D will be used.\n",
      "  self._init_dates(dates, freq)\n",
      " This problem is unconstrained.\n"
     ]
    },
    {
     "name": "stdout",
     "output_type": "stream",
     "text": [
      "RUNNING THE L-BFGS-B CODE\n",
      "\n",
      "           * * *\n",
      "\n",
      "Machine precision = 2.220D-16\n",
      " N =            7     M =           10\n",
      "\n",
      "At X0         0 variables are exactly at the bounds\n",
      "\n",
      "At iterate    0    f=  7.63114D+00    |proj g|=  1.79241D-01\n",
      "\n",
      "At iterate    5    f=  7.61471D+00    |proj g|=  3.33547D-04\n",
      "\n",
      "At iterate   10    f=  7.61470D+00    |proj g|=  7.21558D-05\n",
      "\n",
      "           * * *\n",
      "\n",
      "Tit   = total number of iterations\n",
      "Tnf   = total number of function evaluations\n",
      "Tnint = total number of segments explored during Cauchy searches\n",
      "Skip  = number of BFGS updates skipped\n",
      "Nact  = number of active bounds at final generalized Cauchy point\n",
      "Projg = norm of the final projected gradient\n",
      "F     = final function value\n",
      "\n",
      "           * * *\n",
      "\n",
      "   N    Tit     Tnf  Tnint  Skip  Nact     Projg        F\n",
      "    7     11     14      1     0     0   7.254D-05   7.615D+00\n",
      "  F =   7.6147030652833605     \n",
      "\n",
      "CONVERGENCE: REL_REDUCTION_OF_F_<=_FACTR*EPSMCH             \n"
     ]
    },
    {
     "name": "stderr",
     "output_type": "stream",
     "text": [
      "/Users/sujaykumar/miniconda3/lib/python3.10/site-packages/statsmodels/tsa/base/tsa_model.py:473: ValueWarning: No frequency information was provided, so inferred frequency D will be used.\n",
      "  self._init_dates(dates, freq)\n",
      "/Users/sujaykumar/miniconda3/lib/python3.10/site-packages/statsmodels/tsa/base/tsa_model.py:473: ValueWarning: No frequency information was provided, so inferred frequency D will be used.\n",
      "  self._init_dates(dates, freq)\n"
     ]
    },
    {
     "name": "stdout",
     "output_type": "stream",
     "text": [
      "RUNNING THE L-BFGS-B CODE\n",
      "\n",
      "           * * *\n",
      "\n",
      "Machine precision = 2.220D-16\n",
      " N =            8     M =           10\n",
      "\n",
      "At X0         0 variables are exactly at the bounds\n",
      "\n",
      "At iterate    0    f=  7.63498D+00    |proj g|=  1.94149D-01\n"
     ]
    },
    {
     "name": "stderr",
     "output_type": "stream",
     "text": [
      " This problem is unconstrained.\n"
     ]
    },
    {
     "name": "stdout",
     "output_type": "stream",
     "text": [
      "\n",
      "At iterate    5    f=  7.61475D+00    |proj g|=  2.68565D-03\n",
      "\n",
      "At iterate   10    f=  7.61471D+00    |proj g|=  2.71054D-04\n",
      "\n",
      "At iterate   15    f=  7.61466D+00    |proj g|=  1.29787D-02\n",
      "\n",
      "At iterate   20    f=  7.61406D+00    |proj g|=  6.79556D-03\n",
      "\n",
      "At iterate   25    f=  7.61398D+00    |proj g|=  2.36580D-04\n",
      "\n",
      "At iterate   30    f=  7.61397D+00    |proj g|=  1.38937D-03\n",
      "\n",
      "At iterate   35    f=  7.61378D+00    |proj g|=  2.50937D-03\n",
      "\n",
      "At iterate   40    f=  7.61378D+00    |proj g|=  1.69855D-04\n",
      "\n",
      "           * * *\n",
      "\n",
      "Tit   = total number of iterations\n",
      "Tnf   = total number of function evaluations\n",
      "Tnint = total number of segments explored during Cauchy searches\n",
      "Skip  = number of BFGS updates skipped\n",
      "Nact  = number of active bounds at final generalized Cauchy point\n",
      "Projg = norm of the final projected gradient\n",
      "F     = final function value\n",
      "\n",
      "           * * *\n",
      "\n",
      "   N    Tit     Tnf  Tnint  Skip  Nact     Projg        F\n",
      "    8     43     49      1     0     0   2.013D-05   7.614D+00\n",
      "  F =   7.6137782434680616     \n",
      "\n",
      "CONVERGENCE: REL_REDUCTION_OF_F_<=_FACTR*EPSMCH             \n"
     ]
    },
    {
     "name": "stderr",
     "output_type": "stream",
     "text": [
      "/Users/sujaykumar/miniconda3/lib/python3.10/site-packages/statsmodels/tsa/base/tsa_model.py:473: ValueWarning: No frequency information was provided, so inferred frequency D will be used.\n",
      "  self._init_dates(dates, freq)\n",
      "/Users/sujaykumar/miniconda3/lib/python3.10/site-packages/statsmodels/tsa/base/tsa_model.py:473: ValueWarning: No frequency information was provided, so inferred frequency D will be used.\n",
      "  self._init_dates(dates, freq)\n"
     ]
    },
    {
     "name": "stdout",
     "output_type": "stream",
     "text": [
      "RUNNING THE L-BFGS-B CODE\n",
      "\n",
      "           * * *\n",
      "\n",
      "Machine precision = 2.220D-16\n",
      " N =            9     M =           10\n",
      "\n",
      "At X0         0 variables are exactly at the bounds\n",
      "\n",
      "At iterate    0    f=  7.64313D+00    |proj g|=  2.15848D-01\n"
     ]
    },
    {
     "name": "stderr",
     "output_type": "stream",
     "text": [
      " This problem is unconstrained.\n"
     ]
    },
    {
     "name": "stdout",
     "output_type": "stream",
     "text": [
      "\n",
      "At iterate    5    f=  7.61443D+00    |proj g|=  1.54942D-02\n",
      "\n",
      "At iterate   10    f=  7.61324D+00    |proj g|=  6.33105D-03\n",
      "\n",
      "At iterate   15    f=  7.61256D+00    |proj g|=  2.66411D-03\n",
      "\n",
      "At iterate   20    f=  7.61254D+00    |proj g|=  2.01984D-03\n",
      "\n",
      "At iterate   25    f=  7.61250D+00    |proj g|=  5.76925D-04\n",
      "\n",
      "           * * *\n",
      "\n",
      "Tit   = total number of iterations\n",
      "Tnf   = total number of function evaluations\n",
      "Tnint = total number of segments explored during Cauchy searches\n",
      "Skip  = number of BFGS updates skipped\n",
      "Nact  = number of active bounds at final generalized Cauchy point\n",
      "Projg = norm of the final projected gradient\n",
      "F     = final function value\n",
      "\n",
      "           * * *\n",
      "\n",
      "   N    Tit     Tnf  Tnint  Skip  Nact     Projg        F\n",
      "    9     28     30      1     0     0   6.450D-05   7.613D+00\n",
      "  F =   7.6125046230637130     \n",
      "\n",
      "CONVERGENCE: REL_REDUCTION_OF_F_<=_FACTR*EPSMCH             \n"
     ]
    },
    {
     "name": "stderr",
     "output_type": "stream",
     "text": [
      "/Users/sujaykumar/miniconda3/lib/python3.10/site-packages/statsmodels/tsa/base/tsa_model.py:473: ValueWarning: No frequency information was provided, so inferred frequency D will be used.\n",
      "  self._init_dates(dates, freq)\n",
      "/Users/sujaykumar/miniconda3/lib/python3.10/site-packages/statsmodels/tsa/base/tsa_model.py:473: ValueWarning: No frequency information was provided, so inferred frequency D will be used.\n",
      "  self._init_dates(dates, freq)\n",
      " This problem is unconstrained.\n"
     ]
    },
    {
     "name": "stdout",
     "output_type": "stream",
     "text": [
      "RUNNING THE L-BFGS-B CODE\n",
      "\n",
      "           * * *\n",
      "\n",
      "Machine precision = 2.220D-16\n",
      " N =           10     M =           10\n",
      "\n",
      "At X0         0 variables are exactly at the bounds\n",
      "\n",
      "At iterate    0    f=  7.64544D+00    |proj g|=  2.22166D-01\n",
      "\n",
      "At iterate    5    f=  7.61371D+00    |proj g|=  1.76250D-02\n",
      "\n",
      "At iterate   10    f=  7.61326D+00    |proj g|=  3.73378D-03\n",
      "\n",
      "At iterate   15    f=  7.61269D+00    |proj g|=  3.70989D-03\n",
      "\n",
      "At iterate   20    f=  7.61259D+00    |proj g|=  1.72659D-03\n",
      "\n",
      "           * * *\n",
      "\n",
      "Tit   = total number of iterations\n",
      "Tnf   = total number of function evaluations\n",
      "Tnint = total number of segments explored during Cauchy searches\n",
      "Skip  = number of BFGS updates skipped\n",
      "Nact  = number of active bounds at final generalized Cauchy point\n",
      "Projg = norm of the final projected gradient\n",
      "F     = final function value\n",
      "\n",
      "           * * *\n",
      "\n",
      "   N    Tit     Tnf  Tnint  Skip  Nact     Projg        F\n",
      "   10     24     28      1     0     0   8.994D-05   7.613D+00\n",
      "  F =   7.6125838273279927     \n",
      "\n",
      "CONVERGENCE: REL_REDUCTION_OF_F_<=_FACTR*EPSMCH             \n"
     ]
    },
    {
     "name": "stderr",
     "output_type": "stream",
     "text": [
      "/Users/sujaykumar/miniconda3/lib/python3.10/site-packages/statsmodels/tsa/base/tsa_model.py:473: ValueWarning: No frequency information was provided, so inferred frequency D will be used.\n",
      "  self._init_dates(dates, freq)\n",
      "/Users/sujaykumar/miniconda3/lib/python3.10/site-packages/statsmodels/tsa/base/tsa_model.py:473: ValueWarning: No frequency information was provided, so inferred frequency D will be used.\n",
      "  self._init_dates(dates, freq)\n"
     ]
    },
    {
     "name": "stdout",
     "output_type": "stream",
     "text": [
      "RUNNING THE L-BFGS-B CODE\n",
      "\n",
      "           * * *\n",
      "\n",
      "Machine precision = 2.220D-16\n",
      " N =           11     M =           10\n",
      "\n",
      "At X0         0 variables are exactly at the bounds\n",
      "\n",
      "At iterate    0    f=  7.64720D+00    |proj g|=  2.30501D-01\n"
     ]
    },
    {
     "name": "stderr",
     "output_type": "stream",
     "text": [
      " This problem is unconstrained.\n"
     ]
    },
    {
     "name": "stdout",
     "output_type": "stream",
     "text": [
      "\n",
      "At iterate    5    f=  7.61405D+00    |proj g|=  1.52665D-02\n",
      "\n",
      "At iterate   10    f=  7.61327D+00    |proj g|=  4.88565D-03\n",
      "\n",
      "At iterate   15    f=  7.60924D+00    |proj g|=  2.62358D-02\n",
      "\n",
      "At iterate   20    f=  7.60389D+00    |proj g|=  3.61078D-03\n",
      "\n",
      "At iterate   25    f=  7.60272D+00    |proj g|=  7.33199D-03\n",
      "\n",
      "At iterate   30    f=  7.59816D+00    |proj g|=  6.40032D-02\n",
      "\n",
      "At iterate   35    f=  7.59460D+00    |proj g|=  1.10028D-02\n",
      "\n",
      "At iterate   40    f=  7.59374D+00    |proj g|=  6.06652D-04\n",
      "\n",
      "At iterate   45    f=  7.59362D+00    |proj g|=  1.20045D-02\n"
     ]
    },
    {
     "name": "stderr",
     "output_type": "stream",
     "text": [
      "/Users/sujaykumar/miniconda3/lib/python3.10/site-packages/statsmodels/base/model.py:607: ConvergenceWarning: Maximum Likelihood optimization failed to converge. Check mle_retvals\n",
      "  warnings.warn(\"Maximum Likelihood optimization failed to \"\n"
     ]
    },
    {
     "name": "stdout",
     "output_type": "stream",
     "text": [
      "\n",
      "At iterate   50    f=  7.59288D+00    |proj g|=  1.64223D-02\n",
      "\n",
      "           * * *\n",
      "\n",
      "Tit   = total number of iterations\n",
      "Tnf   = total number of function evaluations\n",
      "Tnint = total number of segments explored during Cauchy searches\n",
      "Skip  = number of BFGS updates skipped\n",
      "Nact  = number of active bounds at final generalized Cauchy point\n",
      "Projg = norm of the final projected gradient\n",
      "F     = final function value\n",
      "\n",
      "           * * *\n",
      "\n",
      "   N    Tit     Tnf  Tnint  Skip  Nact     Projg        F\n",
      "   11     50     72      1     0     0   1.642D-02   7.593D+00\n",
      "  F =   7.5928845382533234     \n",
      "\n",
      "STOP: TOTAL NO. of ITERATIONS REACHED LIMIT                 \n"
     ]
    },
    {
     "name": "stderr",
     "output_type": "stream",
     "text": [
      "/Users/sujaykumar/miniconda3/lib/python3.10/site-packages/statsmodels/tsa/base/tsa_model.py:473: ValueWarning: No frequency information was provided, so inferred frequency D will be used.\n",
      "  self._init_dates(dates, freq)\n",
      "/Users/sujaykumar/miniconda3/lib/python3.10/site-packages/statsmodels/tsa/base/tsa_model.py:473: ValueWarning: No frequency information was provided, so inferred frequency D will be used.\n",
      "  self._init_dates(dates, freq)\n",
      " This problem is unconstrained.\n"
     ]
    },
    {
     "name": "stdout",
     "output_type": "stream",
     "text": [
      "RUNNING THE L-BFGS-B CODE\n",
      "\n",
      "           * * *\n",
      "\n",
      "Machine precision = 2.220D-16\n",
      " N =           12     M =           10\n",
      "\n",
      "At X0         0 variables are exactly at the bounds\n",
      "\n",
      "At iterate    0    f=  7.65266D+00    |proj g|=  2.54510D-01\n",
      "\n",
      "At iterate    5    f=  7.61429D+00    |proj g|=  1.51314D-02\n",
      "\n",
      "At iterate   10    f=  7.61285D+00    |proj g|=  1.98038D-03\n",
      "\n",
      "At iterate   15    f=  7.61204D+00    |proj g|=  1.69908D-02\n",
      "\n",
      "At iterate   20    f=  7.60794D+00    |proj g|=  6.03057D-02\n",
      "\n",
      "At iterate   25    f=  7.60330D+00    |proj g|=  5.61095D-03\n",
      "\n",
      "At iterate   30    f=  7.60271D+00    |proj g|=  5.78970D-03\n",
      "\n",
      "At iterate   35    f=  7.59747D+00    |proj g|=  6.62137D-02\n",
      "\n",
      "At iterate   40    f=  7.59450D+00    |proj g|=  3.22407D-02\n",
      "\n",
      "At iterate   45    f=  7.59417D+00    |proj g|=  2.09841D-03\n"
     ]
    },
    {
     "name": "stderr",
     "output_type": "stream",
     "text": [
      "/Users/sujaykumar/miniconda3/lib/python3.10/site-packages/statsmodels/base/model.py:607: ConvergenceWarning: Maximum Likelihood optimization failed to converge. Check mle_retvals\n",
      "  warnings.warn(\"Maximum Likelihood optimization failed to \"\n"
     ]
    },
    {
     "name": "stdout",
     "output_type": "stream",
     "text": [
      "\n",
      "At iterate   50    f=  7.59385D+00    |proj g|=  1.42836D-02\n",
      "\n",
      "           * * *\n",
      "\n",
      "Tit   = total number of iterations\n",
      "Tnf   = total number of function evaluations\n",
      "Tnint = total number of segments explored during Cauchy searches\n",
      "Skip  = number of BFGS updates skipped\n",
      "Nact  = number of active bounds at final generalized Cauchy point\n",
      "Projg = norm of the final projected gradient\n",
      "F     = final function value\n",
      "\n",
      "           * * *\n",
      "\n",
      "   N    Tit     Tnf  Tnint  Skip  Nact     Projg        F\n",
      "   12     50     62      1     0     0   1.428D-02   7.594D+00\n",
      "  F =   7.5938491248537954     \n",
      "\n",
      "STOP: TOTAL NO. of ITERATIONS REACHED LIMIT                 \n"
     ]
    },
    {
     "name": "stderr",
     "output_type": "stream",
     "text": [
      "/Users/sujaykumar/miniconda3/lib/python3.10/site-packages/statsmodels/tsa/base/tsa_model.py:473: ValueWarning: No frequency information was provided, so inferred frequency D will be used.\n",
      "  self._init_dates(dates, freq)\n",
      "/Users/sujaykumar/miniconda3/lib/python3.10/site-packages/statsmodels/tsa/base/tsa_model.py:473: ValueWarning: No frequency information was provided, so inferred frequency D will be used.\n",
      "  self._init_dates(dates, freq)\n",
      " This problem is unconstrained.\n"
     ]
    },
    {
     "name": "stdout",
     "output_type": "stream",
     "text": [
      "RUNNING THE L-BFGS-B CODE\n",
      "\n",
      "           * * *\n",
      "\n",
      "Machine precision = 2.220D-16\n",
      " N =            7     M =           10\n",
      "\n",
      "At X0         0 variables are exactly at the bounds\n",
      "\n",
      "At iterate    0    f=  7.61472D+00    |proj g|=  1.89003D-03\n",
      "\n",
      "           * * *\n",
      "\n",
      "Tit   = total number of iterations\n",
      "Tnf   = total number of function evaluations\n",
      "Tnint = total number of segments explored during Cauchy searches\n",
      "Skip  = number of BFGS updates skipped\n",
      "Nact  = number of active bounds at final generalized Cauchy point\n",
      "Projg = norm of the final projected gradient\n",
      "F     = final function value\n",
      "\n",
      "           * * *\n",
      "\n",
      "   N    Tit     Tnf  Tnint  Skip  Nact     Projg        F\n",
      "    7      4      7      1     0     0   6.361D-05   7.615D+00\n",
      "  F =   7.6147178356437868     \n",
      "\n",
      "CONVERGENCE: REL_REDUCTION_OF_F_<=_FACTR*EPSMCH             \n"
     ]
    },
    {
     "name": "stderr",
     "output_type": "stream",
     "text": [
      "/Users/sujaykumar/miniconda3/lib/python3.10/site-packages/statsmodels/tsa/base/tsa_model.py:473: ValueWarning: No frequency information was provided, so inferred frequency D will be used.\n",
      "  self._init_dates(dates, freq)\n",
      "/Users/sujaykumar/miniconda3/lib/python3.10/site-packages/statsmodels/tsa/base/tsa_model.py:473: ValueWarning: No frequency information was provided, so inferred frequency D will be used.\n",
      "  self._init_dates(dates, freq)\n"
     ]
    },
    {
     "name": "stdout",
     "output_type": "stream",
     "text": [
      "RUNNING THE L-BFGS-B CODE\n",
      "\n",
      "           * * *\n",
      "\n",
      "Machine precision = 2.220D-16\n",
      " N =            8     M =           10\n",
      "\n",
      "At X0         0 variables are exactly at the bounds\n",
      "\n",
      "At iterate    0    f=  7.63180D+00    |proj g|=  1.84052D-01\n"
     ]
    },
    {
     "name": "stderr",
     "output_type": "stream",
     "text": [
      " This problem is unconstrained.\n"
     ]
    },
    {
     "name": "stdout",
     "output_type": "stream",
     "text": [
      "\n",
      "At iterate    5    f=  7.61468D+00    |proj g|=  1.91266D-03\n",
      "\n",
      "At iterate   10    f=  7.61466D+00    |proj g|=  1.77641D-05\n",
      "\n",
      "           * * *\n",
      "\n",
      "Tit   = total number of iterations\n",
      "Tnf   = total number of function evaluations\n",
      "Tnint = total number of segments explored during Cauchy searches\n",
      "Skip  = number of BFGS updates skipped\n",
      "Nact  = number of active bounds at final generalized Cauchy point\n",
      "Projg = norm of the final projected gradient\n",
      "F     = final function value\n",
      "\n",
      "           * * *\n",
      "\n",
      "   N    Tit     Tnf  Tnint  Skip  Nact     Projg        F\n",
      "    8     10     13      1     0     0   1.776D-05   7.615D+00\n",
      "  F =   7.6146610005236521     \n",
      "\n",
      "CONVERGENCE: REL_REDUCTION_OF_F_<=_FACTR*EPSMCH             \n"
     ]
    },
    {
     "name": "stderr",
     "output_type": "stream",
     "text": [
      "/Users/sujaykumar/miniconda3/lib/python3.10/site-packages/statsmodels/tsa/base/tsa_model.py:473: ValueWarning: No frequency information was provided, so inferred frequency D will be used.\n",
      "  self._init_dates(dates, freq)\n",
      "/Users/sujaykumar/miniconda3/lib/python3.10/site-packages/statsmodels/tsa/base/tsa_model.py:473: ValueWarning: No frequency information was provided, so inferred frequency D will be used.\n",
      "  self._init_dates(dates, freq)\n"
     ]
    },
    {
     "name": "stdout",
     "output_type": "stream",
     "text": [
      "RUNNING THE L-BFGS-B CODE\n",
      "\n",
      "           * * *\n",
      "\n",
      "Machine precision = 2.220D-16\n",
      " N =            9     M =           10\n",
      "\n",
      "At X0         0 variables are exactly at the bounds\n",
      "\n",
      "At iterate    0    f=  7.63520D+00    |proj g|=  1.95430D-01\n"
     ]
    },
    {
     "name": "stderr",
     "output_type": "stream",
     "text": [
      " This problem is unconstrained.\n"
     ]
    },
    {
     "name": "stdout",
     "output_type": "stream",
     "text": [
      "\n",
      "At iterate    5    f=  7.61473D+00    |proj g|=  3.77449D-03\n",
      "\n",
      "At iterate   10    f=  7.61465D+00    |proj g|=  1.94369D-04\n",
      "\n",
      "At iterate   15    f=  7.61459D+00    |proj g|=  1.13495D-02\n",
      "\n",
      "At iterate   20    f=  7.61399D+00    |proj g|=  9.07413D-04\n",
      "\n",
      "At iterate   25    f=  7.61399D+00    |proj g|=  5.18815D-04\n",
      "\n",
      "At iterate   30    f=  7.61380D+00    |proj g|=  1.47298D-02\n",
      "\n",
      "At iterate   35    f=  7.60848D+00    |proj g|=  4.47053D-02\n",
      "\n",
      "At iterate   40    f=  7.60542D+00    |proj g|=  1.13962D-02\n",
      "\n",
      "At iterate   45    f=  7.60381D+00    |proj g|=  1.20922D-02\n"
     ]
    },
    {
     "name": "stderr",
     "output_type": "stream",
     "text": [
      "/Users/sujaykumar/miniconda3/lib/python3.10/site-packages/statsmodels/base/model.py:607: ConvergenceWarning: Maximum Likelihood optimization failed to converge. Check mle_retvals\n",
      "  warnings.warn(\"Maximum Likelihood optimization failed to \"\n"
     ]
    },
    {
     "name": "stdout",
     "output_type": "stream",
     "text": [
      "\n",
      "At iterate   50    f=  7.60263D+00    |proj g|=  2.85569D-02\n",
      "\n",
      "           * * *\n",
      "\n",
      "Tit   = total number of iterations\n",
      "Tnf   = total number of function evaluations\n",
      "Tnint = total number of segments explored during Cauchy searches\n",
      "Skip  = number of BFGS updates skipped\n",
      "Nact  = number of active bounds at final generalized Cauchy point\n",
      "Projg = norm of the final projected gradient\n",
      "F     = final function value\n",
      "\n",
      "           * * *\n",
      "\n",
      "   N    Tit     Tnf  Tnint  Skip  Nact     Projg        F\n",
      "    9     50     64      1     0     0   2.856D-02   7.603D+00\n",
      "  F =   7.6026264493485307     \n",
      "\n",
      "STOP: TOTAL NO. of ITERATIONS REACHED LIMIT                 \n"
     ]
    },
    {
     "name": "stderr",
     "output_type": "stream",
     "text": [
      "/Users/sujaykumar/miniconda3/lib/python3.10/site-packages/statsmodels/tsa/base/tsa_model.py:473: ValueWarning: No frequency information was provided, so inferred frequency D will be used.\n",
      "  self._init_dates(dates, freq)\n",
      "/Users/sujaykumar/miniconda3/lib/python3.10/site-packages/statsmodels/tsa/base/tsa_model.py:473: ValueWarning: No frequency information was provided, so inferred frequency D will be used.\n",
      "  self._init_dates(dates, freq)\n"
     ]
    },
    {
     "name": "stdout",
     "output_type": "stream",
     "text": [
      "RUNNING THE L-BFGS-B CODE\n",
      "\n",
      "           * * *\n",
      "\n",
      "Machine precision = 2.220D-16\n",
      " N =           10     M =           10\n",
      "\n",
      "At X0         0 variables are exactly at the bounds\n",
      "\n",
      "At iterate    0    f=  7.64274D+00    |proj g|=  2.13985D-01\n"
     ]
    },
    {
     "name": "stderr",
     "output_type": "stream",
     "text": [
      " This problem is unconstrained.\n"
     ]
    },
    {
     "name": "stdout",
     "output_type": "stream",
     "text": [
      "\n",
      "At iterate    5    f=  7.61426D+00    |proj g|=  1.51950D-02\n",
      "\n",
      "At iterate   10    f=  7.61324D+00    |proj g|=  6.84912D-03\n",
      "\n",
      "At iterate   15    f=  7.61166D+00    |proj g|=  5.84955D-03\n",
      "\n",
      "At iterate   20    f=  7.61020D+00    |proj g|=  3.71025D-02\n",
      "\n",
      "At iterate   25    f=  7.60606D+00    |proj g|=  4.56494D-03\n",
      "\n",
      "At iterate   30    f=  7.60514D+00    |proj g|=  1.69311D-02\n",
      "\n",
      "At iterate   35    f=  7.60427D+00    |proj g|=  2.23797D-02\n",
      "\n",
      "At iterate   40    f=  7.60391D+00    |proj g|=  6.22278D-04\n",
      "\n",
      "At iterate   45    f=  7.60389D+00    |proj g|=  5.00401D-03\n"
     ]
    },
    {
     "name": "stderr",
     "output_type": "stream",
     "text": [
      "/Users/sujaykumar/miniconda3/lib/python3.10/site-packages/statsmodels/base/model.py:607: ConvergenceWarning: Maximum Likelihood optimization failed to converge. Check mle_retvals\n",
      "  warnings.warn(\"Maximum Likelihood optimization failed to \"\n"
     ]
    },
    {
     "name": "stdout",
     "output_type": "stream",
     "text": [
      "\n",
      "At iterate   50    f=  7.60360D+00    |proj g|=  1.12976D-02\n",
      "\n",
      "           * * *\n",
      "\n",
      "Tit   = total number of iterations\n",
      "Tnf   = total number of function evaluations\n",
      "Tnint = total number of segments explored during Cauchy searches\n",
      "Skip  = number of BFGS updates skipped\n",
      "Nact  = number of active bounds at final generalized Cauchy point\n",
      "Projg = norm of the final projected gradient\n",
      "F     = final function value\n",
      "\n",
      "           * * *\n",
      "\n",
      "   N    Tit     Tnf  Tnint  Skip  Nact     Projg        F\n",
      "   10     50     65      1     0     0   1.130D-02   7.604D+00\n",
      "  F =   7.6035981905114358     \n",
      "\n",
      "STOP: TOTAL NO. of ITERATIONS REACHED LIMIT                 \n"
     ]
    },
    {
     "name": "stderr",
     "output_type": "stream",
     "text": [
      "/Users/sujaykumar/miniconda3/lib/python3.10/site-packages/statsmodels/tsa/base/tsa_model.py:473: ValueWarning: No frequency information was provided, so inferred frequency D will be used.\n",
      "  self._init_dates(dates, freq)\n",
      "/Users/sujaykumar/miniconda3/lib/python3.10/site-packages/statsmodels/tsa/base/tsa_model.py:473: ValueWarning: No frequency information was provided, so inferred frequency D will be used.\n",
      "  self._init_dates(dates, freq)\n"
     ]
    },
    {
     "name": "stdout",
     "output_type": "stream",
     "text": [
      "RUNNING THE L-BFGS-B CODE\n",
      "\n",
      "           * * *\n",
      "\n",
      "Machine precision = 2.220D-16\n",
      " N =           11     M =           10\n",
      "\n",
      "At X0         0 variables are exactly at the bounds\n",
      "\n",
      "At iterate    0    f=  7.64519D+00    |proj g|=  2.19776D-01\n"
     ]
    },
    {
     "name": "stderr",
     "output_type": "stream",
     "text": [
      " This problem is unconstrained.\n"
     ]
    },
    {
     "name": "stdout",
     "output_type": "stream",
     "text": [
      "\n",
      "At iterate    5    f=  7.61374D+00    |proj g|=  2.21669D-02\n",
      "\n",
      "At iterate   10    f=  7.61298D+00    |proj g|=  5.88236D-03\n",
      "\n",
      "At iterate   15    f=  7.60988D+00    |proj g|=  2.54362D-02\n",
      "\n",
      "At iterate   20    f=  7.60707D+00    |proj g|=  1.05558D-02\n",
      "\n",
      "At iterate   25    f=  7.60460D+00    |proj g|=  2.06147D-02\n",
      "\n",
      "At iterate   30    f=  7.60428D+00    |proj g|=  3.50524D-03\n",
      "\n",
      "At iterate   35    f=  7.60355D+00    |proj g|=  1.60911D-02\n",
      "\n",
      "At iterate   40    f=  7.60338D+00    |proj g|=  2.33588D-03\n",
      "\n",
      "At iterate   45    f=  7.60315D+00    |proj g|=  1.65568D-02\n"
     ]
    },
    {
     "name": "stderr",
     "output_type": "stream",
     "text": [
      "/Users/sujaykumar/miniconda3/lib/python3.10/site-packages/statsmodels/base/model.py:607: ConvergenceWarning: Maximum Likelihood optimization failed to converge. Check mle_retvals\n",
      "  warnings.warn(\"Maximum Likelihood optimization failed to \"\n"
     ]
    },
    {
     "name": "stdout",
     "output_type": "stream",
     "text": [
      "\n",
      "At iterate   50    f=  7.60210D+00    |proj g|=  4.53228D-03\n",
      "\n",
      "           * * *\n",
      "\n",
      "Tit   = total number of iterations\n",
      "Tnf   = total number of function evaluations\n",
      "Tnint = total number of segments explored during Cauchy searches\n",
      "Skip  = number of BFGS updates skipped\n",
      "Nact  = number of active bounds at final generalized Cauchy point\n",
      "Projg = norm of the final projected gradient\n",
      "F     = final function value\n",
      "\n",
      "           * * *\n",
      "\n",
      "   N    Tit     Tnf  Tnint  Skip  Nact     Projg        F\n",
      "   11     50     64      1     0     0   4.532D-03   7.602D+00\n",
      "  F =   7.6021022274963057     \n",
      "\n",
      "STOP: TOTAL NO. of ITERATIONS REACHED LIMIT                 \n"
     ]
    },
    {
     "name": "stderr",
     "output_type": "stream",
     "text": [
      "/Users/sujaykumar/miniconda3/lib/python3.10/site-packages/statsmodels/tsa/base/tsa_model.py:473: ValueWarning: No frequency information was provided, so inferred frequency D will be used.\n",
      "  self._init_dates(dates, freq)\n",
      "/Users/sujaykumar/miniconda3/lib/python3.10/site-packages/statsmodels/tsa/base/tsa_model.py:473: ValueWarning: No frequency information was provided, so inferred frequency D will be used.\n",
      "  self._init_dates(dates, freq)\n"
     ]
    },
    {
     "name": "stdout",
     "output_type": "stream",
     "text": [
      "RUNNING THE L-BFGS-B CODE\n",
      "\n",
      "           * * *\n",
      "\n",
      "Machine precision = 2.220D-16\n",
      " N =           12     M =           10\n",
      "\n",
      "At X0         0 variables are exactly at the bounds\n",
      "\n",
      "At iterate    0    f=  7.64721D+00    |proj g|=  2.31054D-01\n"
     ]
    },
    {
     "name": "stderr",
     "output_type": "stream",
     "text": [
      " This problem is unconstrained.\n"
     ]
    },
    {
     "name": "stdout",
     "output_type": "stream",
     "text": [
      "\n",
      "At iterate    5    f=  7.61318D+00    |proj g|=  2.28995D-02\n",
      "\n",
      "At iterate   10    f=  7.61261D+00    |proj g|=  2.92785D-03\n",
      "\n",
      "At iterate   15    f=  7.61160D+00    |proj g|=  3.14762D-02\n",
      "\n",
      "At iterate   20    f=  7.60951D+00    |proj g|=  3.01331D-02\n",
      "\n",
      "At iterate   25    f=  7.60396D+00    |proj g|=  2.67150D-02\n",
      "\n",
      "At iterate   30    f=  7.60232D+00    |proj g|=  3.00231D-03\n",
      "\n",
      "At iterate   35    f=  7.60207D+00    |proj g|=  4.09779D-03\n",
      "\n",
      "At iterate   40    f=  7.60205D+00    |proj g|=  2.70525D-03\n",
      "\n",
      "At iterate   45    f=  7.60200D+00    |proj g|=  2.42487D-03\n"
     ]
    },
    {
     "name": "stderr",
     "output_type": "stream",
     "text": [
      "/Users/sujaykumar/miniconda3/lib/python3.10/site-packages/statsmodels/base/model.py:607: ConvergenceWarning: Maximum Likelihood optimization failed to converge. Check mle_retvals\n",
      "  warnings.warn(\"Maximum Likelihood optimization failed to \"\n"
     ]
    },
    {
     "name": "stdout",
     "output_type": "stream",
     "text": [
      "\n",
      "At iterate   50    f=  7.60199D+00    |proj g|=  2.55105D-03\n",
      "\n",
      "           * * *\n",
      "\n",
      "Tit   = total number of iterations\n",
      "Tnf   = total number of function evaluations\n",
      "Tnint = total number of segments explored during Cauchy searches\n",
      "Skip  = number of BFGS updates skipped\n",
      "Nact  = number of active bounds at final generalized Cauchy point\n",
      "Projg = norm of the final projected gradient\n",
      "F     = final function value\n",
      "\n",
      "           * * *\n",
      "\n",
      "   N    Tit     Tnf  Tnint  Skip  Nact     Projg        F\n",
      "   12     50     60      1     0     0   2.551D-03   7.602D+00\n",
      "  F =   7.6019919527109474     \n",
      "\n",
      "STOP: TOTAL NO. of ITERATIONS REACHED LIMIT                 \n"
     ]
    },
    {
     "name": "stderr",
     "output_type": "stream",
     "text": [
      "/Users/sujaykumar/miniconda3/lib/python3.10/site-packages/statsmodels/tsa/base/tsa_model.py:473: ValueWarning: No frequency information was provided, so inferred frequency D will be used.\n",
      "  self._init_dates(dates, freq)\n",
      "/Users/sujaykumar/miniconda3/lib/python3.10/site-packages/statsmodels/tsa/base/tsa_model.py:473: ValueWarning: No frequency information was provided, so inferred frequency D will be used.\n",
      "  self._init_dates(dates, freq)\n",
      " This problem is unconstrained.\n"
     ]
    },
    {
     "name": "stdout",
     "output_type": "stream",
     "text": [
      "RUNNING THE L-BFGS-B CODE\n",
      "\n",
      "           * * *\n",
      "\n",
      "Machine precision = 2.220D-16\n",
      " N =           13     M =           10\n",
      "\n",
      "At X0         0 variables are exactly at the bounds\n",
      "\n",
      "At iterate    0    f=  7.65268D+00    |proj g|=  2.54446D-01\n",
      "\n",
      "At iterate    5    f=  7.61345D+00    |proj g|=  1.55565D-02\n",
      "\n",
      "At iterate   10    f=  7.61243D+00    |proj g|=  5.12098D-03\n",
      "\n",
      "At iterate   15    f=  7.61095D+00    |proj g|=  6.03288D-02\n",
      "\n",
      "At iterate   20    f=  7.60380D+00    |proj g|=  1.46972D-02\n",
      "\n",
      "At iterate   25    f=  7.60213D+00    |proj g|=  1.76432D-02\n",
      "\n",
      "At iterate   30    f=  7.59838D+00    |proj g|=  8.62363D-02\n",
      "\n",
      "At iterate   35    f=  7.59419D+00    |proj g|=  3.47285D-02\n",
      "\n",
      "At iterate   40    f=  7.59366D+00    |proj g|=  2.34771D-03\n",
      "\n",
      "At iterate   45    f=  7.59337D+00    |proj g|=  5.40889D-03\n"
     ]
    },
    {
     "name": "stderr",
     "output_type": "stream",
     "text": [
      "/Users/sujaykumar/miniconda3/lib/python3.10/site-packages/statsmodels/base/model.py:607: ConvergenceWarning: Maximum Likelihood optimization failed to converge. Check mle_retvals\n",
      "  warnings.warn(\"Maximum Likelihood optimization failed to \"\n"
     ]
    },
    {
     "name": "stdout",
     "output_type": "stream",
     "text": [
      "\n",
      "At iterate   50    f=  7.59304D+00    |proj g|=  8.64757D-03\n",
      "\n",
      "           * * *\n",
      "\n",
      "Tit   = total number of iterations\n",
      "Tnf   = total number of function evaluations\n",
      "Tnint = total number of segments explored during Cauchy searches\n",
      "Skip  = number of BFGS updates skipped\n",
      "Nact  = number of active bounds at final generalized Cauchy point\n",
      "Projg = norm of the final projected gradient\n",
      "F     = final function value\n",
      "\n",
      "           * * *\n",
      "\n",
      "   N    Tit     Tnf  Tnint  Skip  Nact     Projg        F\n",
      "   13     50     69      1     0     0   8.648D-03   7.593D+00\n",
      "  F =   7.5930358131427509     \n",
      "\n",
      "STOP: TOTAL NO. of ITERATIONS REACHED LIMIT                 \n"
     ]
    }
   ],
   "source": [
    "results1 = []\n",
    "for i in range(7):\n",
    "    for j in range(7):\n",
    "        try:\n",
    "            x = SARIMAX(df1_train,order=(0,0,0),seasonal_order=(i,0,j,7)).fit()\n",
    "            results1.append((i,j,x.aic,x.bic))\n",
    "        except:\n",
    "            results1.append(i,j,None,None)\n",
    "results1 = pd.DataFrame(results1,columns=['i','j','AIC','BIC'])\n",
    "results1.to_csv(\"sarima_results1.csv\")"
   ]
  },
  {
   "cell_type": "code",
   "execution_count": 10,
   "id": "57924b55",
   "metadata": {},
   "outputs": [],
   "source": [
    "results1 = pd.read_csv(\"sarima_results1.csv\")"
   ]
  },
  {
   "cell_type": "code",
   "execution_count": 11,
   "id": "fd6f8e9e",
   "metadata": {},
   "outputs": [
    {
     "data": {
      "text/html": [
       "<div>\n",
       "<style scoped>\n",
       "    .dataframe tbody tr th:only-of-type {\n",
       "        vertical-align: middle;\n",
       "    }\n",
       "\n",
       "    .dataframe tbody tr th {\n",
       "        vertical-align: top;\n",
       "    }\n",
       "\n",
       "    .dataframe thead th {\n",
       "        text-align: right;\n",
       "    }\n",
       "</style>\n",
       "<table border=\"1\" class=\"dataframe\">\n",
       "  <thead>\n",
       "    <tr style=\"text-align: right;\">\n",
       "      <th></th>\n",
       "      <th>Unnamed: 0</th>\n",
       "      <th>i</th>\n",
       "      <th>j</th>\n",
       "      <th>AIC</th>\n",
       "      <th>BIC</th>\n",
       "    </tr>\n",
       "  </thead>\n",
       "  <tbody>\n",
       "    <tr>\n",
       "      <th>27</th>\n",
       "      <td>27</td>\n",
       "      <td>3</td>\n",
       "      <td>6</td>\n",
       "      <td>55924.073250</td>\n",
       "      <td>55986.185364</td>\n",
       "    </tr>\n",
       "    <tr>\n",
       "      <th>40</th>\n",
       "      <td>40</td>\n",
       "      <td>5</td>\n",
       "      <td>5</td>\n",
       "      <td>55936.001740</td>\n",
       "      <td>56004.325065</td>\n",
       "    </tr>\n",
       "    <tr>\n",
       "      <th>48</th>\n",
       "      <td>48</td>\n",
       "      <td>6</td>\n",
       "      <td>6</td>\n",
       "      <td>55941.115728</td>\n",
       "      <td>56021.861476</td>\n",
       "    </tr>\n",
       "    <tr>\n",
       "      <th>41</th>\n",
       "      <td>41</td>\n",
       "      <td>5</td>\n",
       "      <td>6</td>\n",
       "      <td>55945.104955</td>\n",
       "      <td>56019.639492</td>\n",
       "    </tr>\n",
       "    <tr>\n",
       "      <th>24</th>\n",
       "      <td>24</td>\n",
       "      <td>3</td>\n",
       "      <td>3</td>\n",
       "      <td>55955.817570</td>\n",
       "      <td>55999.296049</td>\n",
       "    </tr>\n",
       "    <tr>\n",
       "      <th>44</th>\n",
       "      <td>44</td>\n",
       "      <td>6</td>\n",
       "      <td>2</td>\n",
       "      <td>56003.741173</td>\n",
       "      <td>56059.642075</td>\n",
       "    </tr>\n",
       "    <tr>\n",
       "      <th>46</th>\n",
       "      <td>46</td>\n",
       "      <td>6</td>\n",
       "      <td>4</td>\n",
       "      <td>56003.880803</td>\n",
       "      <td>56072.204128</td>\n",
       "    </tr>\n",
       "    <tr>\n",
       "      <th>47</th>\n",
       "      <td>47</td>\n",
       "      <td>6</td>\n",
       "      <td>5</td>\n",
       "      <td>56005.068740</td>\n",
       "      <td>56079.603276</td>\n",
       "    </tr>\n",
       "    <tr>\n",
       "      <th>45</th>\n",
       "      <td>45</td>\n",
       "      <td>6</td>\n",
       "      <td>3</td>\n",
       "      <td>56012.897075</td>\n",
       "      <td>56075.009189</td>\n",
       "    </tr>\n",
       "    <tr>\n",
       "      <th>30</th>\n",
       "      <td>30</td>\n",
       "      <td>4</td>\n",
       "      <td>2</td>\n",
       "      <td>56031.113365</td>\n",
       "      <td>56074.591845</td>\n",
       "    </tr>\n",
       "    <tr>\n",
       "      <th>25</th>\n",
       "      <td>25</td>\n",
       "      <td>3</td>\n",
       "      <td>4</td>\n",
       "      <td>56073.331685</td>\n",
       "      <td>56123.021376</td>\n",
       "    </tr>\n",
       "    <tr>\n",
       "      <th>20</th>\n",
       "      <td>20</td>\n",
       "      <td>2</td>\n",
       "      <td>6</td>\n",
       "      <td>56073.878661</td>\n",
       "      <td>56129.779564</td>\n",
       "    </tr>\n",
       "    <tr>\n",
       "      <th>32</th>\n",
       "      <td>32</td>\n",
       "      <td>4</td>\n",
       "      <td>4</td>\n",
       "      <td>56074.952866</td>\n",
       "      <td>56130.853768</td>\n",
       "    </tr>\n",
       "    <tr>\n",
       "      <th>33</th>\n",
       "      <td>33</td>\n",
       "      <td>4</td>\n",
       "      <td>5</td>\n",
       "      <td>56075.948108</td>\n",
       "      <td>56138.060222</td>\n",
       "    </tr>\n",
       "    <tr>\n",
       "      <th>31</th>\n",
       "      <td>31</td>\n",
       "      <td>4</td>\n",
       "      <td>3</td>\n",
       "      <td>56076.396118</td>\n",
       "      <td>56126.085809</td>\n",
       "    </tr>\n",
       "    <tr>\n",
       "      <th>26</th>\n",
       "      <td>26</td>\n",
       "      <td>3</td>\n",
       "      <td>5</td>\n",
       "      <td>56076.433539</td>\n",
       "      <td>56132.334442</td>\n",
       "    </tr>\n",
       "    <tr>\n",
       "      <th>38</th>\n",
       "      <td>38</td>\n",
       "      <td>5</td>\n",
       "      <td>3</td>\n",
       "      <td>56076.484044</td>\n",
       "      <td>56132.384946</td>\n",
       "    </tr>\n",
       "    <tr>\n",
       "      <th>11</th>\n",
       "      <td>11</td>\n",
       "      <td>1</td>\n",
       "      <td>4</td>\n",
       "      <td>56076.815709</td>\n",
       "      <td>56114.082978</td>\n",
       "    </tr>\n",
       "    <tr>\n",
       "      <th>34</th>\n",
       "      <td>34</td>\n",
       "      <td>4</td>\n",
       "      <td>6</td>\n",
       "      <td>56077.285101</td>\n",
       "      <td>56145.608426</td>\n",
       "    </tr>\n",
       "    <tr>\n",
       "      <th>18</th>\n",
       "      <td>18</td>\n",
       "      <td>2</td>\n",
       "      <td>4</td>\n",
       "      <td>56077.640225</td>\n",
       "      <td>56121.118704</td>\n",
       "    </tr>\n",
       "    <tr>\n",
       "      <th>12</th>\n",
       "      <td>12</td>\n",
       "      <td>1</td>\n",
       "      <td>5</td>\n",
       "      <td>56078.574393</td>\n",
       "      <td>56122.052872</td>\n",
       "    </tr>\n",
       "    <tr>\n",
       "      <th>13</th>\n",
       "      <td>13</td>\n",
       "      <td>1</td>\n",
       "      <td>6</td>\n",
       "      <td>56078.869413</td>\n",
       "      <td>56128.559103</td>\n",
       "    </tr>\n",
       "    <tr>\n",
       "      <th>39</th>\n",
       "      <td>39</td>\n",
       "      <td>5</td>\n",
       "      <td>4</td>\n",
       "      <td>56079.067304</td>\n",
       "      <td>56141.179418</td>\n",
       "    </tr>\n",
       "    <tr>\n",
       "      <th>19</th>\n",
       "      <td>19</td>\n",
       "      <td>2</td>\n",
       "      <td>5</td>\n",
       "      <td>56079.174264</td>\n",
       "      <td>56128.863955</td>\n",
       "    </tr>\n",
       "    <tr>\n",
       "      <th>23</th>\n",
       "      <td>23</td>\n",
       "      <td>3</td>\n",
       "      <td>2</td>\n",
       "      <td>56082.455916</td>\n",
       "      <td>56119.723184</td>\n",
       "    </tr>\n",
       "    <tr>\n",
       "      <th>37</th>\n",
       "      <td>37</td>\n",
       "      <td>5</td>\n",
       "      <td>2</td>\n",
       "      <td>56083.862985</td>\n",
       "      <td>56133.552676</td>\n",
       "    </tr>\n",
       "    <tr>\n",
       "      <th>36</th>\n",
       "      <td>36</td>\n",
       "      <td>5</td>\n",
       "      <td>1</td>\n",
       "      <td>56088.673373</td>\n",
       "      <td>56132.151852</td>\n",
       "    </tr>\n",
       "    <tr>\n",
       "      <th>42</th>\n",
       "      <td>42</td>\n",
       "      <td>6</td>\n",
       "      <td>0</td>\n",
       "      <td>56088.782142</td>\n",
       "      <td>56132.260621</td>\n",
       "    </tr>\n",
       "    <tr>\n",
       "      <th>35</th>\n",
       "      <td>35</td>\n",
       "      <td>5</td>\n",
       "      <td>0</td>\n",
       "      <td>56089.275646</td>\n",
       "      <td>56126.542914</td>\n",
       "    </tr>\n",
       "    <tr>\n",
       "      <th>43</th>\n",
       "      <td>43</td>\n",
       "      <td>6</td>\n",
       "      <td>1</td>\n",
       "      <td>56090.363608</td>\n",
       "      <td>56140.053299</td>\n",
       "    </tr>\n",
       "    <tr>\n",
       "      <th>17</th>\n",
       "      <td>17</td>\n",
       "      <td>2</td>\n",
       "      <td>3</td>\n",
       "      <td>56091.455691</td>\n",
       "      <td>56128.722960</td>\n",
       "    </tr>\n",
       "    <tr>\n",
       "      <th>16</th>\n",
       "      <td>16</td>\n",
       "      <td>2</td>\n",
       "      <td>2</td>\n",
       "      <td>56109.869658</td>\n",
       "      <td>56140.925715</td>\n",
       "    </tr>\n",
       "    <tr>\n",
       "      <th>10</th>\n",
       "      <td>10</td>\n",
       "      <td>1</td>\n",
       "      <td>3</td>\n",
       "      <td>56112.243338</td>\n",
       "      <td>56143.299395</td>\n",
       "    </tr>\n",
       "    <tr>\n",
       "      <th>29</th>\n",
       "      <td>29</td>\n",
       "      <td>4</td>\n",
       "      <td>1</td>\n",
       "      <td>56123.159124</td>\n",
       "      <td>56160.426392</td>\n",
       "    </tr>\n",
       "    <tr>\n",
       "      <th>9</th>\n",
       "      <td>9</td>\n",
       "      <td>1</td>\n",
       "      <td>2</td>\n",
       "      <td>56141.538845</td>\n",
       "      <td>56166.383691</td>\n",
       "    </tr>\n",
       "    <tr>\n",
       "      <th>28</th>\n",
       "      <td>28</td>\n",
       "      <td>4</td>\n",
       "      <td>0</td>\n",
       "      <td>56142.029750</td>\n",
       "      <td>56173.085806</td>\n",
       "    </tr>\n",
       "    <tr>\n",
       "      <th>21</th>\n",
       "      <td>21</td>\n",
       "      <td>3</td>\n",
       "      <td>0</td>\n",
       "      <td>56143.124575</td>\n",
       "      <td>56167.969421</td>\n",
       "    </tr>\n",
       "    <tr>\n",
       "      <th>22</th>\n",
       "      <td>22</td>\n",
       "      <td>3</td>\n",
       "      <td>1</td>\n",
       "      <td>56144.710678</td>\n",
       "      <td>56175.766735</td>\n",
       "    </tr>\n",
       "    <tr>\n",
       "      <th>15</th>\n",
       "      <td>15</td>\n",
       "      <td>2</td>\n",
       "      <td>1</td>\n",
       "      <td>56145.808370</td>\n",
       "      <td>56170.653215</td>\n",
       "    </tr>\n",
       "    <tr>\n",
       "      <th>14</th>\n",
       "      <td>14</td>\n",
       "      <td>2</td>\n",
       "      <td>0</td>\n",
       "      <td>56150.258942</td>\n",
       "      <td>56168.892576</td>\n",
       "    </tr>\n",
       "    <tr>\n",
       "      <th>8</th>\n",
       "      <td>8</td>\n",
       "      <td>1</td>\n",
       "      <td>1</td>\n",
       "      <td>56152.138454</td>\n",
       "      <td>56170.772088</td>\n",
       "    </tr>\n",
       "    <tr>\n",
       "      <th>7</th>\n",
       "      <td>7</td>\n",
       "      <td>1</td>\n",
       "      <td>0</td>\n",
       "      <td>56409.690338</td>\n",
       "      <td>56422.112760</td>\n",
       "    </tr>\n",
       "    <tr>\n",
       "      <th>4</th>\n",
       "      <td>4</td>\n",
       "      <td>0</td>\n",
       "      <td>4</td>\n",
       "      <td>61508.487761</td>\n",
       "      <td>61539.543818</td>\n",
       "    </tr>\n",
       "    <tr>\n",
       "      <th>3</th>\n",
       "      <td>3</td>\n",
       "      <td>0</td>\n",
       "      <td>3</td>\n",
       "      <td>63018.113744</td>\n",
       "      <td>63042.958589</td>\n",
       "    </tr>\n",
       "    <tr>\n",
       "      <th>6</th>\n",
       "      <td>6</td>\n",
       "      <td>0</td>\n",
       "      <td>6</td>\n",
       "      <td>63499.330486</td>\n",
       "      <td>63542.808965</td>\n",
       "    </tr>\n",
       "    <tr>\n",
       "      <th>2</th>\n",
       "      <td>2</td>\n",
       "      <td>0</td>\n",
       "      <td>2</td>\n",
       "      <td>64838.445507</td>\n",
       "      <td>64857.079141</td>\n",
       "    </tr>\n",
       "    <tr>\n",
       "      <th>5</th>\n",
       "      <td>5</td>\n",
       "      <td>0</td>\n",
       "      <td>5</td>\n",
       "      <td>64958.446394</td>\n",
       "      <td>64995.713662</td>\n",
       "    </tr>\n",
       "    <tr>\n",
       "      <th>1</th>\n",
       "      <td>1</td>\n",
       "      <td>0</td>\n",
       "      <td>1</td>\n",
       "      <td>67981.374363</td>\n",
       "      <td>67993.796786</td>\n",
       "    </tr>\n",
       "    <tr>\n",
       "      <th>0</th>\n",
       "      <td>0</td>\n",
       "      <td>0</td>\n",
       "      <td>0</td>\n",
       "      <td>72326.827958</td>\n",
       "      <td>72333.039169</td>\n",
       "    </tr>\n",
       "  </tbody>\n",
       "</table>\n",
       "</div>"
      ],
      "text/plain": [
       "    Unnamed: 0  i  j           AIC           BIC\n",
       "27          27  3  6  55924.073250  55986.185364\n",
       "40          40  5  5  55936.001740  56004.325065\n",
       "48          48  6  6  55941.115728  56021.861476\n",
       "41          41  5  6  55945.104955  56019.639492\n",
       "24          24  3  3  55955.817570  55999.296049\n",
       "44          44  6  2  56003.741173  56059.642075\n",
       "46          46  6  4  56003.880803  56072.204128\n",
       "47          47  6  5  56005.068740  56079.603276\n",
       "45          45  6  3  56012.897075  56075.009189\n",
       "30          30  4  2  56031.113365  56074.591845\n",
       "25          25  3  4  56073.331685  56123.021376\n",
       "20          20  2  6  56073.878661  56129.779564\n",
       "32          32  4  4  56074.952866  56130.853768\n",
       "33          33  4  5  56075.948108  56138.060222\n",
       "31          31  4  3  56076.396118  56126.085809\n",
       "26          26  3  5  56076.433539  56132.334442\n",
       "38          38  5  3  56076.484044  56132.384946\n",
       "11          11  1  4  56076.815709  56114.082978\n",
       "34          34  4  6  56077.285101  56145.608426\n",
       "18          18  2  4  56077.640225  56121.118704\n",
       "12          12  1  5  56078.574393  56122.052872\n",
       "13          13  1  6  56078.869413  56128.559103\n",
       "39          39  5  4  56079.067304  56141.179418\n",
       "19          19  2  5  56079.174264  56128.863955\n",
       "23          23  3  2  56082.455916  56119.723184\n",
       "37          37  5  2  56083.862985  56133.552676\n",
       "36          36  5  1  56088.673373  56132.151852\n",
       "42          42  6  0  56088.782142  56132.260621\n",
       "35          35  5  0  56089.275646  56126.542914\n",
       "43          43  6  1  56090.363608  56140.053299\n",
       "17          17  2  3  56091.455691  56128.722960\n",
       "16          16  2  2  56109.869658  56140.925715\n",
       "10          10  1  3  56112.243338  56143.299395\n",
       "29          29  4  1  56123.159124  56160.426392\n",
       "9            9  1  2  56141.538845  56166.383691\n",
       "28          28  4  0  56142.029750  56173.085806\n",
       "21          21  3  0  56143.124575  56167.969421\n",
       "22          22  3  1  56144.710678  56175.766735\n",
       "15          15  2  1  56145.808370  56170.653215\n",
       "14          14  2  0  56150.258942  56168.892576\n",
       "8            8  1  1  56152.138454  56170.772088\n",
       "7            7  1  0  56409.690338  56422.112760\n",
       "4            4  0  4  61508.487761  61539.543818\n",
       "3            3  0  3  63018.113744  63042.958589\n",
       "6            6  0  6  63499.330486  63542.808965\n",
       "2            2  0  2  64838.445507  64857.079141\n",
       "5            5  0  5  64958.446394  64995.713662\n",
       "1            1  0  1  67981.374363  67993.796786\n",
       "0            0  0  0  72326.827958  72333.039169"
      ]
     },
     "execution_count": 11,
     "metadata": {},
     "output_type": "execute_result"
    }
   ],
   "source": [
    "results1.sort_values('AIC')"
   ]
  },
  {
   "cell_type": "code",
   "execution_count": 12,
   "id": "bfc455f6",
   "metadata": {
    "scrolled": true
   },
   "outputs": [
    {
     "name": "stderr",
     "output_type": "stream",
     "text": [
      "/Users/sujaykumar/miniconda3/lib/python3.10/site-packages/statsmodels/tsa/base/tsa_model.py:473: ValueWarning: No frequency information was provided, so inferred frequency D will be used.\n",
      "  self._init_dates(dates, freq)\n",
      "/Users/sujaykumar/miniconda3/lib/python3.10/site-packages/statsmodels/tsa/base/tsa_model.py:473: ValueWarning: No frequency information was provided, so inferred frequency D will be used.\n",
      "  self._init_dates(dates, freq)\n",
      " This problem is unconstrained.\n"
     ]
    },
    {
     "name": "stdout",
     "output_type": "stream",
     "text": [
      "RUNNING THE L-BFGS-B CODE\n",
      "\n",
      "           * * *\n",
      "\n",
      "Machine precision = 2.220D-16\n",
      " N =           10     M =           10\n",
      "\n",
      "At X0         0 variables are exactly at the bounds\n",
      "\n",
      "At iterate    0    f=  7.64770D+00    |proj g|=  2.73674D-01\n",
      "\n",
      "At iterate    5    f=  7.61283D+00    |proj g|=  1.03004D-03\n",
      "\n",
      "At iterate   10    f=  7.61276D+00    |proj g|=  4.45898D-03\n",
      "\n",
      "At iterate   15    f=  7.61269D+00    |proj g|=  2.58544D-03\n",
      "\n",
      "At iterate   20    f=  7.61244D+00    |proj g|=  1.41646D-03\n",
      "\n",
      "At iterate   25    f=  7.61229D+00    |proj g|=  1.93352D-02\n",
      "\n",
      "At iterate   30    f=  7.60557D+00    |proj g|=  2.08377D-02\n",
      "\n",
      "At iterate   35    f=  7.59754D+00    |proj g|=  4.07147D-02\n",
      "\n",
      "At iterate   40    f=  7.59554D+00    |proj g|=  4.80009D-03\n",
      "\n",
      "At iterate   45    f=  7.59333D+00    |proj g|=  8.19115D-03\n"
     ]
    },
    {
     "name": "stderr",
     "output_type": "stream",
     "text": [
      "/Users/sujaykumar/miniconda3/lib/python3.10/site-packages/statsmodels/base/model.py:607: ConvergenceWarning: Maximum Likelihood optimization failed to converge. Check mle_retvals\n",
      "  warnings.warn(\"Maximum Likelihood optimization failed to \"\n"
     ]
    },
    {
     "name": "stdout",
     "output_type": "stream",
     "text": [
      "\n",
      "At iterate   50    f=  7.59154D+00    |proj g|=  2.56439D-03\n",
      "\n",
      "           * * *\n",
      "\n",
      "Tit   = total number of iterations\n",
      "Tnf   = total number of function evaluations\n",
      "Tnint = total number of segments explored during Cauchy searches\n",
      "Skip  = number of BFGS updates skipped\n",
      "Nact  = number of active bounds at final generalized Cauchy point\n",
      "Projg = norm of the final projected gradient\n",
      "F     = final function value\n",
      "\n",
      "           * * *\n",
      "\n",
      "   N    Tit     Tnf  Tnint  Skip  Nact     Projg        F\n",
      "   10     50     67      1     0     0   2.564D-03   7.592D+00\n",
      "  F =   7.5915362914235649     \n",
      "\n",
      "STOP: TOTAL NO. of ITERATIONS REACHED LIMIT                 \n",
      "                                        SARIMAX Results                                         \n",
      "================================================================================================\n",
      "Dep. Variable:       Max.Demand met during the day (MW)   No. Observations:                 3682\n",
      "Model:             SARIMAX(3, 0, [1, 2, 3, 4, 5, 6], 7)   Log Likelihood              -27952.037\n",
      "Date:                                  Fri, 21 Jul 2023   AIC                          55924.073\n",
      "Time:                                          11:45:49   BIC                          55986.185\n",
      "Sample:                                      04-01-2013   HQIC                         55946.183\n",
      "                                           - 04-30-2023                                         \n",
      "Covariance Type:                                    opg                                         \n",
      "==============================================================================\n",
      "                 coef    std err          z      P>|z|      [0.025      0.975]\n",
      "------------------------------------------------------------------------------\n",
      "ar.S.L7        0.8688      0.022     39.549      0.000       0.826       0.912\n",
      "ar.S.L14       0.9997      0.028     36.353      0.000       0.946       1.054\n",
      "ar.S.L21      -0.8686      0.020    -42.445      0.000      -0.909      -0.828\n",
      "ma.S.L7       -0.2117      0.044     -4.859      0.000      -0.297      -0.126\n",
      "ma.S.L14      -0.9197      0.043    -21.330      0.000      -1.004      -0.835\n",
      "ma.S.L21       0.3235      0.022     14.549      0.000       0.280       0.367\n",
      "ma.S.L28       0.0627      0.020      3.162      0.002       0.024       0.102\n",
      "ma.S.L35      -0.1033      0.015     -6.749      0.000      -0.133      -0.073\n",
      "ma.S.L42      -0.1345      0.018     -7.604      0.000      -0.169      -0.100\n",
      "sigma2      2.383e+05   9.04e-07   2.64e+11      0.000    2.38e+05    2.38e+05\n",
      "===================================================================================\n",
      "Ljung-Box (L1) (Q):                2151.84   Jarque-Bera (JB):               418.87\n",
      "Prob(Q):                              0.00   Prob(JB):                         0.00\n",
      "Heteroskedasticity (H):               2.19   Skew:                             0.07\n",
      "Prob(H) (two-sided):                  0.00   Kurtosis:                         4.65\n",
      "===================================================================================\n",
      "\n",
      "Warnings:\n",
      "[1] Covariance matrix calculated using the outer product of gradients (complex-step).\n",
      "[2] Covariance matrix is singular or near-singular, with condition number 1.8e+26. Standard errors may be unstable.\n"
     ]
    }
   ],
   "source": [
    "sarima_3 = SARIMAX(df1_train,order=(0,0,0),seasonal_order=(3,0,6,7)).fit()\n",
    "print(sarima_3.summary())"
   ]
  },
  {
   "cell_type": "code",
   "execution_count": 13,
   "id": "332fb203",
   "metadata": {},
   "outputs": [
    {
     "name": "stdout",
     "output_type": "stream",
     "text": [
      "The MAPE Score is :  25.11912613218404\n",
      "The MAE Score is : 356.1604427935191\n",
      "--------------------------------------------------------------------\n",
      "The MAPE Score is :  15.717183527745913\n",
      "The MAE Score is : 356.1604427935191\n"
     ]
    },
    {
     "data": {
      "text/plain": [
       "(15.717183527745913, 356.1604427935191)"
      ]
     },
     "execution_count": 13,
     "metadata": {},
     "output_type": "execute_result"
    }
   ],
   "source": [
    "get_MAPE_MAE(df1_train,sarima_3)\n",
    "print(\"--------------------------------------------------------------------\")\n",
    "get_MAPE_MAE_test(df1_test,sarima_3)"
   ]
  },
  {
   "cell_type": "code",
   "execution_count": 14,
   "id": "e624b209",
   "metadata": {
    "scrolled": true
   },
   "outputs": [
    {
     "name": "stderr",
     "output_type": "stream",
     "text": [
      "/Users/sujaykumar/miniconda3/lib/python3.10/site-packages/statsmodels/tsa/base/tsa_model.py:473: ValueWarning: No frequency information was provided, so inferred frequency D will be used.\n",
      "  self._init_dates(dates, freq)\n",
      "/Users/sujaykumar/miniconda3/lib/python3.10/site-packages/statsmodels/tsa/base/tsa_model.py:473: ValueWarning: No frequency information was provided, so inferred frequency D will be used.\n",
      "  self._init_dates(dates, freq)\n"
     ]
    },
    {
     "name": "stdout",
     "output_type": "stream",
     "text": [
      "RUNNING THE L-BFGS-B CODE\n",
      "\n",
      "           * * *\n",
      "\n",
      "Machine precision = 2.220D-16\n",
      " N =           10     M =           10\n",
      "\n",
      "At X0         0 variables are exactly at the bounds\n",
      "\n",
      "At iterate    0    f=  7.62943D+00    |proj g|=  2.55413D-01\n"
     ]
    },
    {
     "name": "stderr",
     "output_type": "stream",
     "text": [
      " This problem is unconstrained.\n"
     ]
    },
    {
     "name": "stdout",
     "output_type": "stream",
     "text": [
      "\n",
      "At iterate    5    f=  7.59654D+00    |proj g|=  5.00593D-03\n",
      "\n",
      "At iterate   10    f=  7.59537D+00    |proj g|=  7.44946D-03\n",
      "\n",
      "At iterate   15    f=  7.59533D+00    |proj g|=  1.90677D-04\n",
      "\n",
      "At iterate   20    f=  7.59532D+00    |proj g|=  1.39118D-03\n",
      "\n",
      "At iterate   25    f=  7.59531D+00    |proj g|=  2.87383D-05\n",
      "\n",
      "           * * *\n",
      "\n",
      "Tit   = total number of iterations\n",
      "Tnf   = total number of function evaluations\n",
      "Tnint = total number of segments explored during Cauchy searches\n",
      "Skip  = number of BFGS updates skipped\n",
      "Nact  = number of active bounds at final generalized Cauchy point\n",
      "Projg = norm of the final projected gradient\n",
      "F     = final function value\n",
      "\n",
      "           * * *\n",
      "\n",
      "   N    Tit     Tnf  Tnint  Skip  Nact     Projg        F\n",
      "   10     26     29      1     0     0   1.675D-05   7.595D+00\n",
      "  F =   7.5953126520872303     \n",
      "\n",
      "CONVERGENCE: REL_REDUCTION_OF_F_<=_FACTR*EPSMCH             \n",
      "                                        SARIMAX Results                                         \n",
      "================================================================================================\n",
      "Dep. Variable:       Max.Demand met during the day (MW)   No. Observations:                 3682\n",
      "Model:             SARIMAX(3, 1, [1, 2, 3, 4, 5, 6], 7)   Log Likelihood              -27965.941\n",
      "Date:                                  Fri, 21 Jul 2023   AIC                          55951.882\n",
      "Time:                                          11:46:06   BIC                          56013.975\n",
      "Sample:                                      04-01-2013   HQIC                         55973.988\n",
      "                                           - 04-30-2023                                         \n",
      "Covariance Type:                                    opg                                         \n",
      "==============================================================================\n",
      "                 coef    std err          z      P>|z|      [0.025      0.975]\n",
      "------------------------------------------------------------------------------\n",
      "ar.S.L7       -0.1970      1.304     -0.151      0.880      -2.754       2.360\n",
      "ar.S.L14       0.0595      0.743      0.080      0.936      -1.397       1.516\n",
      "ar.S.L21      -0.1849      0.316     -0.584      0.559      -0.805       0.435\n",
      "ma.S.L7       -0.0854      1.304     -0.065      0.948      -2.642       2.471\n",
      "ma.S.L14      -0.0767      0.484     -0.159      0.874      -1.025       0.871\n",
      "ma.S.L21       0.2822      0.400      0.706      0.480      -0.502       1.066\n",
      "ma.S.L28       0.0670      0.198      0.338      0.735      -0.321       0.455\n",
      "ma.S.L35       0.0010      0.181      0.006      0.996      -0.354       0.356\n",
      "ma.S.L42       0.0372      0.064      0.586      0.558      -0.087       0.162\n",
      "sigma2      2.386e+05   4285.384     55.689      0.000     2.3e+05    2.47e+05\n",
      "===================================================================================\n",
      "Ljung-Box (L1) (Q):                2133.21   Jarque-Bera (JB):               565.62\n",
      "Prob(Q):                              0.00   Prob(JB):                         0.00\n",
      "Heteroskedasticity (H):               2.24   Skew:                            -0.21\n",
      "Prob(H) (two-sided):                  0.00   Kurtosis:                         4.87\n",
      "===================================================================================\n",
      "\n",
      "Warnings:\n",
      "[1] Covariance matrix calculated using the outer product of gradients (complex-step).\n"
     ]
    }
   ],
   "source": [
    "sarima_4 = SARIMAX(df1_train,order=(0,0,0),seasonal_order=(3,1,6,7)).fit()\n",
    "print(sarima_4.summary())"
   ]
  },
  {
   "cell_type": "code",
   "execution_count": 15,
   "id": "ca7ba1c9",
   "metadata": {},
   "outputs": [
    {
     "name": "stdout",
     "output_type": "stream",
     "text": [
      "The MAPE Score is :  26.43912022985674\n",
      "The MAE Score is : 362.09217106130654\n",
      "--------------------------------------------------------------------\n",
      "The MAPE Score is :  15.950958896192565\n",
      "The MAE Score is : 362.09217106130654\n"
     ]
    },
    {
     "data": {
      "text/plain": [
       "(15.950958896192565, 362.09217106130654)"
      ]
     },
     "execution_count": 15,
     "metadata": {},
     "output_type": "execute_result"
    }
   ],
   "source": [
    "get_MAPE_MAE(df1_train,sarima_4)\n",
    "print(\"--------------------------------------------------------------------\")\n",
    "get_MAPE_MAE_test(df1_test,sarima_4)"
   ]
  },
  {
   "cell_type": "markdown",
   "id": "ec603830",
   "metadata": {},
   "source": [
    "## Find P and Q for S"
   ]
  },
  {
   "cell_type": "code",
   "execution_count": 16,
   "id": "a02eaff7",
   "metadata": {},
   "outputs": [
    {
     "data": {
      "image/png": "[encoded data removed]",
      "text/plain": [
       "<Figure size 1200x800 with 2 Axes>"
      ]
     },
     "metadata": {},
     "output_type": "display_data"
    }
   ],
   "source": [
    "fig, (ax1,ax2) = plt.subplots(2,1,figsize=(12,8))\n",
    "plot_acf(df1_train,lags=[7,14,21,28,35],zero=False,ax=ax1)\n",
    "plot_pacf(df1_train,lags=[7,14,21,28,35],zero=False,ax=ax2)\n",
    "plt.show()"
   ]
  },
  {
   "cell_type": "code",
   "execution_count": 17,
   "id": "f2b93399",
   "metadata": {},
   "outputs": [
    {
     "data": {
      "image/png": "[encoded data removed]",
      "text/plain": [
       "<Figure size 1200x800 with 2 Axes>"
      ]
     },
     "metadata": {},
     "output_type": "display_data"
    }
   ],
   "source": [
    "fig, (ax1,ax2) = plt.subplots(2,1,figsize=(12,8))\n",
    "plot_acf(df1_train,lags=[30,60,90,120,150,180],zero=False,ax=ax1)\n",
    "plot_pacf(df1_train,lags=[30,60,90,120,150,180],zero=False,ax=ax2)\n",
    "plt.show()"
   ]
  },
  {
   "cell_type": "code",
   "execution_count": 18,
   "id": "081e99fd",
   "metadata": {},
   "outputs": [
    {
     "data": {
      "image/png": "[encoded data removed]",
      "text/plain": [
       "<Figure size 1200x800 with 2 Axes>"
      ]
     },
     "metadata": {},
     "output_type": "display_data"
    }
   ],
   "source": [
    "fig, (ax1,ax2) = plt.subplots(2,1,figsize=(12,8))\n",
    "plot_acf(df1_train,lags=[365,730,1095,1460],zero=False,ax=ax1)\n",
    "plot_pacf(df1_train,lags=[365,730,1095,1460],zero=False,ax=ax2)\n",
    "plt.show()"
   ]
  },
  {
   "cell_type": "code",
   "execution_count": 19,
   "id": "c0a53c28",
   "metadata": {},
   "outputs": [
    {
     "name": "stderr",
     "output_type": "stream",
     "text": [
      "/Users/sujaykumar/miniconda3/lib/python3.10/site-packages/statsmodels/tsa/base/tsa_model.py:473: ValueWarning: No frequency information was provided, so inferred frequency D will be used.\n",
      "  self._init_dates(dates, freq)\n",
      "/Users/sujaykumar/miniconda3/lib/python3.10/site-packages/statsmodels/tsa/base/tsa_model.py:473: ValueWarning: No frequency information was provided, so inferred frequency D will be used.\n",
      "  self._init_dates(dates, freq)\n",
      "/Users/sujaykumar/miniconda3/lib/python3.10/site-packages/statsmodels/tsa/statespace/representation.py:374: FutureWarning: Unknown keyword arguments: dict_keys(['orders']).Passing unknown keyword arguments will raise a TypeError beginning in version 0.15.\n",
      "  warnings.warn(msg, FutureWarning)\n"
     ]
    },
    {
     "name": "stdout",
     "output_type": "stream",
     "text": [
      "RUNNING THE L-BFGS-B CODE\n",
      "\n",
      "           * * *\n",
      "\n",
      "Machine precision = 2.220D-16\n",
      " N =           11     M =           10\n",
      "\n",
      "At X0         0 variables are exactly at the bounds\n",
      "\n",
      "At iterate    0    f=  7.17743D+00    |proj g|=  2.67277D-01\n"
     ]
    },
    {
     "name": "stderr",
     "output_type": "stream",
     "text": [
      " This problem is unconstrained.\n"
     ]
    },
    {
     "name": "stdout",
     "output_type": "stream",
     "text": [
      "\n",
      "At iterate    5    f=  7.04046D+00    |proj g|=  1.03930D-02\n",
      "\n",
      "At iterate   10    f=  7.03942D+00    |proj g|=  1.01555D-03\n",
      "\n",
      "At iterate   15    f=  7.03893D+00    |proj g|=  1.52879D-02\n",
      "\n",
      "At iterate   20    f=  7.03839D+00    |proj g|=  4.06640D-04\n",
      "\n",
      "At iterate   25    f=  7.03835D+00    |proj g|=  1.33166D-03\n",
      "\n",
      "At iterate   30    f=  7.03718D+00    |proj g|=  1.62459D-02\n",
      "\n",
      "At iterate   35    f=  7.03646D+00    |proj g|=  4.25312D-03\n",
      "\n",
      "At iterate   40    f=  7.03623D+00    |proj g|=  1.79169D-02\n",
      "\n",
      "At iterate   45    f=  7.03536D+00    |proj g|=  1.20294D-02\n"
     ]
    },
    {
     "name": "stderr",
     "output_type": "stream",
     "text": [
      "/Users/sujaykumar/miniconda3/lib/python3.10/site-packages/statsmodels/base/model.py:607: ConvergenceWarning: Maximum Likelihood optimization failed to converge. Check mle_retvals\n",
      "  warnings.warn(\"Maximum Likelihood optimization failed to \"\n"
     ]
    },
    {
     "name": "stdout",
     "output_type": "stream",
     "text": [
      "\n",
      "At iterate   50    f=  7.03475D+00    |proj g|=  8.11649D-03\n",
      "\n",
      "           * * *\n",
      "\n",
      "Tit   = total number of iterations\n",
      "Tnf   = total number of function evaluations\n",
      "Tnint = total number of segments explored during Cauchy searches\n",
      "Skip  = number of BFGS updates skipped\n",
      "Nact  = number of active bounds at final generalized Cauchy point\n",
      "Projg = norm of the final projected gradient\n",
      "F     = final function value\n",
      "\n",
      "           * * *\n",
      "\n",
      "   N    Tit     Tnf  Tnint  Skip  Nact     Projg        F\n",
      "   11     50     60      1     0     0   8.116D-03   7.035D+00\n",
      "  F =   7.0347538898063853     \n",
      "\n",
      "STOP: TOTAL NO. of ITERATIONS REACHED LIMIT                 \n",
      "The MAPE Score is :  26.316988681319053\n",
      "The MAE Score is : 179.91533241130637\n",
      "The MAPE Score is :  26.316988681319053\n",
      "The MAE Score is : 179.91533241130637\n",
      "The MAPE Score is :  20.491824185795686\n",
      "The MAE Score is : 179.91533241130637\n",
      "The MAPE Score is :  20.491824185795686\n",
      "The MAE Score is : 179.91533241130637\n"
     ]
    },
    {
     "name": "stderr",
     "output_type": "stream",
     "text": [
      "/Users/sujaykumar/miniconda3/lib/python3.10/site-packages/statsmodels/tsa/base/tsa_model.py:473: ValueWarning: No frequency information was provided, so inferred frequency D will be used.\n",
      "  self._init_dates(dates, freq)\n",
      "/Users/sujaykumar/miniconda3/lib/python3.10/site-packages/statsmodels/tsa/base/tsa_model.py:473: ValueWarning: No frequency information was provided, so inferred frequency D will be used.\n",
      "  self._init_dates(dates, freq)\n",
      "/Users/sujaykumar/miniconda3/lib/python3.10/site-packages/statsmodels/tsa/statespace/representation.py:374: FutureWarning: Unknown keyword arguments: dict_keys(['orders']).Passing unknown keyword arguments will raise a TypeError beginning in version 0.15.\n",
      "  warnings.warn(msg, FutureWarning)\n"
     ]
    },
    {
     "name": "stdout",
     "output_type": "stream",
     "text": [
      "RUNNING THE L-BFGS-B CODE\n",
      "\n",
      "           * * *\n",
      "\n",
      "Machine precision = 2.220D-16\n",
      " N =           11     M =           10\n",
      "\n",
      "At X0         0 variables are exactly at the bounds\n",
      "\n",
      "At iterate    0    f=  7.17743D+00    |proj g|=  2.67277D-01\n"
     ]
    },
    {
     "name": "stderr",
     "output_type": "stream",
     "text": [
      " This problem is unconstrained.\n"
     ]
    },
    {
     "name": "stdout",
     "output_type": "stream",
     "text": [
      "\n",
      "At iterate    5    f=  7.04046D+00    |proj g|=  1.03930D-02\n",
      "\n",
      "At iterate   10    f=  7.03942D+00    |proj g|=  1.01555D-03\n",
      "\n",
      "At iterate   15    f=  7.03893D+00    |proj g|=  1.52879D-02\n",
      "\n",
      "At iterate   20    f=  7.03839D+00    |proj g|=  4.06640D-04\n",
      "\n",
      "At iterate   25    f=  7.03835D+00    |proj g|=  1.33166D-03\n",
      "\n",
      "At iterate   30    f=  7.03718D+00    |proj g|=  1.62459D-02\n",
      "\n",
      "At iterate   35    f=  7.03646D+00    |proj g|=  4.25312D-03\n",
      "\n",
      "At iterate   40    f=  7.03623D+00    |proj g|=  1.79169D-02\n",
      "\n",
      "At iterate   45    f=  7.03536D+00    |proj g|=  1.20294D-02\n"
     ]
    },
    {
     "name": "stderr",
     "output_type": "stream",
     "text": [
      "/Users/sujaykumar/miniconda3/lib/python3.10/site-packages/statsmodels/base/model.py:607: ConvergenceWarning: Maximum Likelihood optimization failed to converge. Check mle_retvals\n",
      "  warnings.warn(\"Maximum Likelihood optimization failed to \"\n"
     ]
    },
    {
     "name": "stdout",
     "output_type": "stream",
     "text": [
      "\n",
      "At iterate   50    f=  7.03475D+00    |proj g|=  8.11649D-03\n",
      "\n",
      "           * * *\n",
      "\n",
      "Tit   = total number of iterations\n",
      "Tnf   = total number of function evaluations\n",
      "Tnint = total number of segments explored during Cauchy searches\n",
      "Skip  = number of BFGS updates skipped\n",
      "Nact  = number of active bounds at final generalized Cauchy point\n",
      "Projg = norm of the final projected gradient\n",
      "F     = final function value\n",
      "\n",
      "           * * *\n",
      "\n",
      "   N    Tit     Tnf  Tnint  Skip  Nact     Projg        F\n",
      "   11     50     60      1     0     0   8.116D-03   7.035D+00\n",
      "  F =   7.0347538898063853     \n",
      "\n",
      "STOP: TOTAL NO. of ITERATIONS REACHED LIMIT                 \n",
      "The MAPE Score is :  26.316988681319053\n",
      "The MAE Score is : 179.91533241130637\n",
      "The MAPE Score is :  26.316988681319053\n",
      "The MAE Score is : 179.91533241130637\n",
      "The MAPE Score is :  20.491824185795686\n",
      "The MAE Score is : 179.91533241130637\n",
      "The MAPE Score is :  20.491824185795686\n",
      "The MAE Score is : 179.91533241130637\n"
     ]
    },
    {
     "name": "stderr",
     "output_type": "stream",
     "text": [
      "/Users/sujaykumar/miniconda3/lib/python3.10/site-packages/statsmodels/tsa/base/tsa_model.py:473: ValueWarning: No frequency information was provided, so inferred frequency D will be used.\n",
      "  self._init_dates(dates, freq)\n",
      "/Users/sujaykumar/miniconda3/lib/python3.10/site-packages/statsmodels/tsa/base/tsa_model.py:473: ValueWarning: No frequency information was provided, so inferred frequency D will be used.\n",
      "  self._init_dates(dates, freq)\n",
      "/Users/sujaykumar/miniconda3/lib/python3.10/site-packages/statsmodels/tsa/statespace/representation.py:374: FutureWarning: Unknown keyword arguments: dict_keys(['orders']).Passing unknown keyword arguments will raise a TypeError beginning in version 0.15.\n",
      "  warnings.warn(msg, FutureWarning)\n"
     ]
    },
    {
     "name": "stdout",
     "output_type": "stream",
     "text": [
      "RUNNING THE L-BFGS-B CODE\n",
      "\n",
      "           * * *\n",
      "\n",
      "Machine precision = 2.220D-16\n",
      " N =           11     M =           10\n",
      "\n",
      "At X0         0 variables are exactly at the bounds\n",
      "\n",
      "At iterate    0    f=  7.17743D+00    |proj g|=  2.67277D-01\n"
     ]
    },
    {
     "name": "stderr",
     "output_type": "stream",
     "text": [
      " This problem is unconstrained.\n"
     ]
    },
    {
     "name": "stdout",
     "output_type": "stream",
     "text": [
      "\n",
      "At iterate    5    f=  7.04046D+00    |proj g|=  1.03930D-02\n",
      "\n",
      "At iterate   10    f=  7.03942D+00    |proj g|=  1.01555D-03\n",
      "\n",
      "At iterate   15    f=  7.03893D+00    |proj g|=  1.52879D-02\n",
      "\n",
      "At iterate   20    f=  7.03839D+00    |proj g|=  4.06640D-04\n",
      "\n",
      "At iterate   25    f=  7.03835D+00    |proj g|=  1.33166D-03\n",
      "\n",
      "At iterate   30    f=  7.03718D+00    |proj g|=  1.62459D-02\n",
      "\n",
      "At iterate   35    f=  7.03646D+00    |proj g|=  4.25312D-03\n",
      "\n",
      "At iterate   40    f=  7.03623D+00    |proj g|=  1.79169D-02\n",
      "\n",
      "At iterate   45    f=  7.03536D+00    |proj g|=  1.20294D-02\n"
     ]
    },
    {
     "name": "stderr",
     "output_type": "stream",
     "text": [
      "/Users/sujaykumar/miniconda3/lib/python3.10/site-packages/statsmodels/base/model.py:607: ConvergenceWarning: Maximum Likelihood optimization failed to converge. Check mle_retvals\n",
      "  warnings.warn(\"Maximum Likelihood optimization failed to \"\n"
     ]
    },
    {
     "name": "stdout",
     "output_type": "stream",
     "text": [
      "\n",
      "At iterate   50    f=  7.03475D+00    |proj g|=  8.11649D-03\n",
      "\n",
      "           * * *\n",
      "\n",
      "Tit   = total number of iterations\n",
      "Tnf   = total number of function evaluations\n",
      "Tnint = total number of segments explored during Cauchy searches\n",
      "Skip  = number of BFGS updates skipped\n",
      "Nact  = number of active bounds at final generalized Cauchy point\n",
      "Projg = norm of the final projected gradient\n",
      "F     = final function value\n",
      "\n",
      "           * * *\n",
      "\n",
      "   N    Tit     Tnf  Tnint  Skip  Nact     Projg        F\n",
      "   11     50     60      1     0     0   8.116D-03   7.035D+00\n",
      "  F =   7.0347538898063853     \n",
      "\n",
      "STOP: TOTAL NO. of ITERATIONS REACHED LIMIT                 \n",
      "The MAPE Score is :  26.316988681319053\n",
      "The MAE Score is : 179.91533241130637\n",
      "The MAPE Score is :  26.316988681319053\n",
      "The MAE Score is : 179.91533241130637\n",
      "The MAPE Score is :  20.491824185795686\n",
      "The MAE Score is : 179.91533241130637\n",
      "The MAPE Score is :  20.491824185795686\n",
      "The MAE Score is : 179.91533241130637\n"
     ]
    },
    {
     "name": "stderr",
     "output_type": "stream",
     "text": [
      "/Users/sujaykumar/miniconda3/lib/python3.10/site-packages/statsmodels/tsa/base/tsa_model.py:473: ValueWarning: No frequency information was provided, so inferred frequency D will be used.\n",
      "  self._init_dates(dates, freq)\n",
      "/Users/sujaykumar/miniconda3/lib/python3.10/site-packages/statsmodels/tsa/base/tsa_model.py:473: ValueWarning: No frequency information was provided, so inferred frequency D will be used.\n",
      "  self._init_dates(dates, freq)\n",
      "/Users/sujaykumar/miniconda3/lib/python3.10/site-packages/statsmodels/tsa/statespace/representation.py:374: FutureWarning: Unknown keyword arguments: dict_keys(['orders']).Passing unknown keyword arguments will raise a TypeError beginning in version 0.15.\n",
      "  warnings.warn(msg, FutureWarning)\n",
      " This problem is unconstrained.\n"
     ]
    },
    {
     "name": "stdout",
     "output_type": "stream",
     "text": [
      "RUNNING THE L-BFGS-B CODE\n",
      "\n",
      "           * * *\n",
      "\n",
      "Machine precision = 2.220D-16\n",
      " N =           11     M =           10\n",
      "\n",
      "At X0         0 variables are exactly at the bounds\n",
      "\n",
      "At iterate    0    f=  7.17743D+00    |proj g|=  2.67277D-01\n",
      "\n",
      "At iterate    5    f=  7.04046D+00    |proj g|=  1.03930D-02\n",
      "\n",
      "At iterate   10    f=  7.03942D+00    |proj g|=  1.01555D-03\n",
      "\n",
      "At iterate   15    f=  7.03893D+00    |proj g|=  1.52879D-02\n",
      "\n",
      "At iterate   20    f=  7.03839D+00    |proj g|=  4.06640D-04\n",
      "\n",
      "At iterate   25    f=  7.03835D+00    |proj g|=  1.33166D-03\n",
      "\n",
      "At iterate   30    f=  7.03718D+00    |proj g|=  1.62459D-02\n",
      "\n",
      "At iterate   35    f=  7.03646D+00    |proj g|=  4.25312D-03\n",
      "\n",
      "At iterate   40    f=  7.03623D+00    |proj g|=  1.79169D-02\n",
      "\n",
      "At iterate   45    f=  7.03536D+00    |proj g|=  1.20294D-02\n"
     ]
    },
    {
     "name": "stderr",
     "output_type": "stream",
     "text": [
      "/Users/sujaykumar/miniconda3/lib/python3.10/site-packages/statsmodels/base/model.py:607: ConvergenceWarning: Maximum Likelihood optimization failed to converge. Check mle_retvals\n",
      "  warnings.warn(\"Maximum Likelihood optimization failed to \"\n"
     ]
    },
    {
     "name": "stdout",
     "output_type": "stream",
     "text": [
      "\n",
      "At iterate   50    f=  7.03475D+00    |proj g|=  8.11649D-03\n",
      "\n",
      "           * * *\n",
      "\n",
      "Tit   = total number of iterations\n",
      "Tnf   = total number of function evaluations\n",
      "Tnint = total number of segments explored during Cauchy searches\n",
      "Skip  = number of BFGS updates skipped\n",
      "Nact  = number of active bounds at final generalized Cauchy point\n",
      "Projg = norm of the final projected gradient\n",
      "F     = final function value\n",
      "\n",
      "           * * *\n",
      "\n",
      "   N    Tit     Tnf  Tnint  Skip  Nact     Projg        F\n",
      "   11     50     60      1     0     0   8.116D-03   7.035D+00\n",
      "  F =   7.0347538898063853     \n",
      "\n",
      "STOP: TOTAL NO. of ITERATIONS REACHED LIMIT                 \n",
      "The MAPE Score is :  26.316988681319053\n",
      "The MAE Score is : 179.91533241130637\n",
      "The MAPE Score is :  26.316988681319053\n",
      "The MAE Score is : 179.91533241130637\n",
      "The MAPE Score is :  20.491824185795686\n",
      "The MAE Score is : 179.91533241130637\n",
      "The MAPE Score is :  20.491824185795686\n",
      "The MAE Score is : 179.91533241130637\n"
     ]
    },
    {
     "name": "stderr",
     "output_type": "stream",
     "text": [
      "/Users/sujaykumar/miniconda3/lib/python3.10/site-packages/statsmodels/tsa/base/tsa_model.py:473: ValueWarning: No frequency information was provided, so inferred frequency D will be used.\n",
      "  self._init_dates(dates, freq)\n",
      "/Users/sujaykumar/miniconda3/lib/python3.10/site-packages/statsmodels/tsa/base/tsa_model.py:473: ValueWarning: No frequency information was provided, so inferred frequency D will be used.\n",
      "  self._init_dates(dates, freq)\n",
      "/Users/sujaykumar/miniconda3/lib/python3.10/site-packages/statsmodels/tsa/statespace/representation.py:374: FutureWarning: Unknown keyword arguments: dict_keys(['orders']).Passing unknown keyword arguments will raise a TypeError beginning in version 0.15.\n",
      "  warnings.warn(msg, FutureWarning)\n",
      " This problem is unconstrained.\n"
     ]
    },
    {
     "name": "stdout",
     "output_type": "stream",
     "text": [
      "RUNNING THE L-BFGS-B CODE\n",
      "\n",
      "           * * *\n",
      "\n",
      "Machine precision = 2.220D-16\n",
      " N =           11     M =           10\n",
      "\n",
      "At X0         0 variables are exactly at the bounds\n",
      "\n",
      "At iterate    0    f=  7.17743D+00    |proj g|=  2.67277D-01\n",
      "\n",
      "At iterate    5    f=  7.04046D+00    |proj g|=  1.03930D-02\n",
      "\n",
      "At iterate   10    f=  7.03942D+00    |proj g|=  1.01555D-03\n",
      "\n",
      "At iterate   15    f=  7.03893D+00    |proj g|=  1.52879D-02\n",
      "\n",
      "At iterate   20    f=  7.03839D+00    |proj g|=  4.06640D-04\n",
      "\n",
      "At iterate   25    f=  7.03835D+00    |proj g|=  1.33166D-03\n",
      "\n",
      "At iterate   30    f=  7.03718D+00    |proj g|=  1.62459D-02\n",
      "\n",
      "At iterate   35    f=  7.03646D+00    |proj g|=  4.25312D-03\n",
      "\n",
      "At iterate   40    f=  7.03623D+00    |proj g|=  1.79169D-02\n",
      "\n",
      "At iterate   45    f=  7.03536D+00    |proj g|=  1.20294D-02\n"
     ]
    },
    {
     "name": "stderr",
     "output_type": "stream",
     "text": [
      "/Users/sujaykumar/miniconda3/lib/python3.10/site-packages/statsmodels/base/model.py:607: ConvergenceWarning: Maximum Likelihood optimization failed to converge. Check mle_retvals\n",
      "  warnings.warn(\"Maximum Likelihood optimization failed to \"\n"
     ]
    },
    {
     "name": "stdout",
     "output_type": "stream",
     "text": [
      "\n",
      "At iterate   50    f=  7.03475D+00    |proj g|=  8.11649D-03\n",
      "\n",
      "           * * *\n",
      "\n",
      "Tit   = total number of iterations\n",
      "Tnf   = total number of function evaluations\n",
      "Tnint = total number of segments explored during Cauchy searches\n",
      "Skip  = number of BFGS updates skipped\n",
      "Nact  = number of active bounds at final generalized Cauchy point\n",
      "Projg = norm of the final projected gradient\n",
      "F     = final function value\n",
      "\n",
      "           * * *\n",
      "\n",
      "   N    Tit     Tnf  Tnint  Skip  Nact     Projg        F\n",
      "   11     50     60      1     0     0   8.116D-03   7.035D+00\n",
      "  F =   7.0347538898063853     \n",
      "\n",
      "STOP: TOTAL NO. of ITERATIONS REACHED LIMIT                 \n",
      "The MAPE Score is :  26.316988681319053\n",
      "The MAE Score is : 179.91533241130637\n",
      "The MAPE Score is :  26.316988681319053\n",
      "The MAE Score is : 179.91533241130637\n",
      "The MAPE Score is :  20.491824185795686\n",
      "The MAE Score is : 179.91533241130637\n",
      "The MAPE Score is :  20.491824185795686\n",
      "The MAE Score is : 179.91533241130637\n"
     ]
    },
    {
     "name": "stderr",
     "output_type": "stream",
     "text": [
      "/Users/sujaykumar/miniconda3/lib/python3.10/site-packages/statsmodels/tsa/base/tsa_model.py:473: ValueWarning: No frequency information was provided, so inferred frequency D will be used.\n",
      "  self._init_dates(dates, freq)\n",
      "/Users/sujaykumar/miniconda3/lib/python3.10/site-packages/statsmodels/tsa/base/tsa_model.py:473: ValueWarning: No frequency information was provided, so inferred frequency D will be used.\n",
      "  self._init_dates(dates, freq)\n",
      "/Users/sujaykumar/miniconda3/lib/python3.10/site-packages/statsmodels/tsa/statespace/representation.py:374: FutureWarning: Unknown keyword arguments: dict_keys(['orders']).Passing unknown keyword arguments will raise a TypeError beginning in version 0.15.\n",
      "  warnings.warn(msg, FutureWarning)\n"
     ]
    },
    {
     "name": "stdout",
     "output_type": "stream",
     "text": [
      "RUNNING THE L-BFGS-B CODE\n",
      "\n",
      "           * * *\n",
      "\n",
      "Machine precision = 2.220D-16\n",
      " N =           11     M =           10\n",
      "\n",
      "At X0         0 variables are exactly at the bounds\n",
      "\n",
      "At iterate    0    f=  7.17743D+00    |proj g|=  2.67277D-01\n"
     ]
    },
    {
     "name": "stderr",
     "output_type": "stream",
     "text": [
      " This problem is unconstrained.\n"
     ]
    },
    {
     "name": "stdout",
     "output_type": "stream",
     "text": [
      "\n",
      "At iterate    5    f=  7.04046D+00    |proj g|=  1.03930D-02\n",
      "\n",
      "At iterate   10    f=  7.03942D+00    |proj g|=  1.01555D-03\n",
      "\n",
      "At iterate   15    f=  7.03893D+00    |proj g|=  1.52879D-02\n",
      "\n",
      "At iterate   20    f=  7.03839D+00    |proj g|=  4.06640D-04\n",
      "\n",
      "At iterate   25    f=  7.03835D+00    |proj g|=  1.33166D-03\n",
      "\n",
      "At iterate   30    f=  7.03718D+00    |proj g|=  1.62459D-02\n",
      "\n",
      "At iterate   35    f=  7.03646D+00    |proj g|=  4.25312D-03\n",
      "\n",
      "At iterate   40    f=  7.03623D+00    |proj g|=  1.79169D-02\n",
      "\n",
      "At iterate   45    f=  7.03536D+00    |proj g|=  1.20294D-02\n"
     ]
    },
    {
     "name": "stderr",
     "output_type": "stream",
     "text": [
      "/Users/sujaykumar/miniconda3/lib/python3.10/site-packages/statsmodels/base/model.py:607: ConvergenceWarning: Maximum Likelihood optimization failed to converge. Check mle_retvals\n",
      "  warnings.warn(\"Maximum Likelihood optimization failed to \"\n"
     ]
    },
    {
     "name": "stdout",
     "output_type": "stream",
     "text": [
      "\n",
      "At iterate   50    f=  7.03475D+00    |proj g|=  8.11649D-03\n",
      "\n",
      "           * * *\n",
      "\n",
      "Tit   = total number of iterations\n",
      "Tnf   = total number of function evaluations\n",
      "Tnint = total number of segments explored during Cauchy searches\n",
      "Skip  = number of BFGS updates skipped\n",
      "Nact  = number of active bounds at final generalized Cauchy point\n",
      "Projg = norm of the final projected gradient\n",
      "F     = final function value\n",
      "\n",
      "           * * *\n",
      "\n",
      "   N    Tit     Tnf  Tnint  Skip  Nact     Projg        F\n",
      "   11     50     60      1     0     0   8.116D-03   7.035D+00\n",
      "  F =   7.0347538898063853     \n",
      "\n",
      "STOP: TOTAL NO. of ITERATIONS REACHED LIMIT                 \n",
      "The MAPE Score is :  26.316988681319053\n",
      "The MAE Score is : 179.91533241130637\n",
      "The MAPE Score is :  26.316988681319053\n",
      "The MAE Score is : 179.91533241130637\n",
      "The MAPE Score is :  20.491824185795686\n",
      "The MAE Score is : 179.91533241130637\n",
      "The MAPE Score is :  20.491824185795686\n",
      "The MAE Score is : 179.91533241130637\n"
     ]
    }
   ],
   "source": [
    "orders = [(1,0,0),(2,0,0),(1,1,0),(1,2,0),(0,0,1),(0,1,1)]\n",
    "results2 = []\n",
    "for o in orders:\n",
    "    try:\n",
    "        res = SARIMAX(df1_train,orders=o,seasonal_order=(3,0,6,7)).fit()\n",
    "        results2.append((3,6,res.aic,res.bic,get_MAPE_MAE(df1_train,res)[0],get_MAPE_MAE(df1_train,res)[1],get_MAPE_MAE_test(df1_test,res)[0],get_MAPE_MAE_test(df1_test,res)[1]))\n",
    "    except:\n",
    "        results2.append((3,6,None,None,None,None,None,None))"
   ]
  },
  {
   "cell_type": "code",
   "execution_count": 20,
   "id": "bc37e793",
   "metadata": {
    "scrolled": true
   },
   "outputs": [
    {
     "name": "stderr",
     "output_type": "stream",
     "text": [
      "/Users/sujaykumar/miniconda3/lib/python3.10/site-packages/statsmodels/tsa/base/tsa_model.py:473: ValueWarning: No frequency information was provided, so inferred frequency D will be used.\n",
      "  self._init_dates(dates, freq)\n",
      "/Users/sujaykumar/miniconda3/lib/python3.10/site-packages/statsmodels/tsa/base/tsa_model.py:473: ValueWarning: No frequency information was provided, so inferred frequency D will be used.\n",
      "  self._init_dates(dates, freq)\n",
      "/Users/sujaykumar/miniconda3/lib/python3.10/site-packages/statsmodels/tsa/statespace/representation.py:374: FutureWarning: Unknown keyword arguments: dict_keys(['orders']).Passing unknown keyword arguments will raise a TypeError beginning in version 0.15.\n",
      "  warnings.warn(msg, FutureWarning)\n"
     ]
    },
    {
     "name": "stdout",
     "output_type": "stream",
     "text": [
      "RUNNING THE L-BFGS-B CODE\n",
      "\n",
      "           * * *\n",
      "\n",
      "Machine precision = 2.220D-16\n",
      " N =           11     M =           10\n",
      "\n",
      "At X0         0 variables are exactly at the bounds\n",
      "\n",
      "At iterate    0    f=  7.17743D+00    |proj g|=  2.67277D-01\n"
     ]
    },
    {
     "name": "stderr",
     "output_type": "stream",
     "text": [
      " This problem is unconstrained.\n"
     ]
    },
    {
     "name": "stdout",
     "output_type": "stream",
     "text": [
      "\n",
      "At iterate    5    f=  7.04046D+00    |proj g|=  1.03930D-02\n",
      "\n",
      "At iterate   10    f=  7.03942D+00    |proj g|=  1.01555D-03\n",
      "\n",
      "At iterate   15    f=  7.03893D+00    |proj g|=  1.52879D-02\n",
      "\n",
      "At iterate   20    f=  7.03839D+00    |proj g|=  4.06640D-04\n",
      "\n",
      "At iterate   25    f=  7.03835D+00    |proj g|=  1.33166D-03\n",
      "\n",
      "At iterate   30    f=  7.03718D+00    |proj g|=  1.62459D-02\n",
      "\n",
      "At iterate   35    f=  7.03646D+00    |proj g|=  4.25312D-03\n",
      "\n",
      "At iterate   40    f=  7.03623D+00    |proj g|=  1.79169D-02\n",
      "\n",
      "At iterate   45    f=  7.03536D+00    |proj g|=  1.20294D-02\n"
     ]
    },
    {
     "name": "stderr",
     "output_type": "stream",
     "text": [
      "/Users/sujaykumar/miniconda3/lib/python3.10/site-packages/statsmodels/base/model.py:607: ConvergenceWarning: Maximum Likelihood optimization failed to converge. Check mle_retvals\n",
      "  warnings.warn(\"Maximum Likelihood optimization failed to \"\n"
     ]
    },
    {
     "name": "stdout",
     "output_type": "stream",
     "text": [
      "\n",
      "At iterate   50    f=  7.03475D+00    |proj g|=  8.11649D-03\n",
      "\n",
      "           * * *\n",
      "\n",
      "Tit   = total number of iterations\n",
      "Tnf   = total number of function evaluations\n",
      "Tnint = total number of segments explored during Cauchy searches\n",
      "Skip  = number of BFGS updates skipped\n",
      "Nact  = number of active bounds at final generalized Cauchy point\n",
      "Projg = norm of the final projected gradient\n",
      "F     = final function value\n",
      "\n",
      "           * * *\n",
      "\n",
      "   N    Tit     Tnf  Tnint  Skip  Nact     Projg        F\n",
      "   11     50     60      1     0     0   8.116D-03   7.035D+00\n",
      "  F =   7.0347538898063853     \n",
      "\n",
      "STOP: TOTAL NO. of ITERATIONS REACHED LIMIT                 \n",
      "The MAPE Score is :  26.316988681319053\n",
      "The MAE Score is : 179.91533241130637\n",
      "The MAPE Score is :  26.316988681319053\n",
      "The MAE Score is : 179.91533241130637\n",
      "The MAPE Score is :  20.491824185795686\n",
      "The MAE Score is : 179.91533241130637\n",
      "The MAPE Score is :  20.491824185795686\n",
      "The MAE Score is : 179.91533241130637\n"
     ]
    },
    {
     "name": "stderr",
     "output_type": "stream",
     "text": [
      "/Users/sujaykumar/miniconda3/lib/python3.10/site-packages/statsmodels/tsa/base/tsa_model.py:473: ValueWarning: No frequency information was provided, so inferred frequency D will be used.\n",
      "  self._init_dates(dates, freq)\n",
      "/Users/sujaykumar/miniconda3/lib/python3.10/site-packages/statsmodels/tsa/base/tsa_model.py:473: ValueWarning: No frequency information was provided, so inferred frequency D will be used.\n",
      "  self._init_dates(dates, freq)\n",
      "/Users/sujaykumar/miniconda3/lib/python3.10/site-packages/statsmodels/tsa/statespace/representation.py:374: FutureWarning: Unknown keyword arguments: dict_keys(['orders']).Passing unknown keyword arguments will raise a TypeError beginning in version 0.15.\n",
      "  warnings.warn(msg, FutureWarning)\n"
     ]
    },
    {
     "name": "stdout",
     "output_type": "stream",
     "text": [
      "RUNNING THE L-BFGS-B CODE\n",
      "\n",
      "           * * *\n",
      "\n",
      "Machine precision = 2.220D-16\n",
      " N =           11     M =           10\n",
      "\n",
      "At X0         0 variables are exactly at the bounds\n",
      "\n",
      "At iterate    0    f=  7.17743D+00    |proj g|=  2.67277D-01\n"
     ]
    },
    {
     "name": "stderr",
     "output_type": "stream",
     "text": [
      " This problem is unconstrained.\n"
     ]
    },
    {
     "name": "stdout",
     "output_type": "stream",
     "text": [
      "\n",
      "At iterate    5    f=  7.04046D+00    |proj g|=  1.03930D-02\n",
      "\n",
      "At iterate   10    f=  7.03942D+00    |proj g|=  1.01555D-03\n",
      "\n",
      "At iterate   15    f=  7.03893D+00    |proj g|=  1.52879D-02\n",
      "\n",
      "At iterate   20    f=  7.03839D+00    |proj g|=  4.06640D-04\n",
      "\n",
      "At iterate   25    f=  7.03835D+00    |proj g|=  1.33166D-03\n",
      "\n",
      "At iterate   30    f=  7.03718D+00    |proj g|=  1.62459D-02\n",
      "\n",
      "At iterate   35    f=  7.03646D+00    |proj g|=  4.25312D-03\n",
      "\n",
      "At iterate   40    f=  7.03623D+00    |proj g|=  1.79169D-02\n",
      "\n",
      "At iterate   45    f=  7.03536D+00    |proj g|=  1.20294D-02\n"
     ]
    },
    {
     "name": "stderr",
     "output_type": "stream",
     "text": [
      "/Users/sujaykumar/miniconda3/lib/python3.10/site-packages/statsmodels/base/model.py:607: ConvergenceWarning: Maximum Likelihood optimization failed to converge. Check mle_retvals\n",
      "  warnings.warn(\"Maximum Likelihood optimization failed to \"\n"
     ]
    },
    {
     "name": "stdout",
     "output_type": "stream",
     "text": [
      "\n",
      "At iterate   50    f=  7.03475D+00    |proj g|=  8.11649D-03\n",
      "\n",
      "           * * *\n",
      "\n",
      "Tit   = total number of iterations\n",
      "Tnf   = total number of function evaluations\n",
      "Tnint = total number of segments explored during Cauchy searches\n",
      "Skip  = number of BFGS updates skipped\n",
      "Nact  = number of active bounds at final generalized Cauchy point\n",
      "Projg = norm of the final projected gradient\n",
      "F     = final function value\n",
      "\n",
      "           * * *\n",
      "\n",
      "   N    Tit     Tnf  Tnint  Skip  Nact     Projg        F\n",
      "   11     50     60      1     0     0   8.116D-03   7.035D+00\n",
      "  F =   7.0347538898063853     \n",
      "\n",
      "STOP: TOTAL NO. of ITERATIONS REACHED LIMIT                 \n",
      "The MAPE Score is :  26.316988681319053\n",
      "The MAE Score is : 179.91533241130637\n",
      "The MAPE Score is :  26.316988681319053\n",
      "The MAE Score is : 179.91533241130637\n",
      "The MAPE Score is :  20.491824185795686\n",
      "The MAE Score is : 179.91533241130637\n",
      "The MAPE Score is :  20.491824185795686\n",
      "The MAE Score is : 179.91533241130637\n"
     ]
    },
    {
     "name": "stderr",
     "output_type": "stream",
     "text": [
      "/Users/sujaykumar/miniconda3/lib/python3.10/site-packages/statsmodels/tsa/base/tsa_model.py:473: ValueWarning: No frequency information was provided, so inferred frequency D will be used.\n",
      "  self._init_dates(dates, freq)\n",
      "/Users/sujaykumar/miniconda3/lib/python3.10/site-packages/statsmodels/tsa/base/tsa_model.py:473: ValueWarning: No frequency information was provided, so inferred frequency D will be used.\n",
      "  self._init_dates(dates, freq)\n",
      "/Users/sujaykumar/miniconda3/lib/python3.10/site-packages/statsmodels/tsa/statespace/representation.py:374: FutureWarning: Unknown keyword arguments: dict_keys(['orders']).Passing unknown keyword arguments will raise a TypeError beginning in version 0.15.\n",
      "  warnings.warn(msg, FutureWarning)\n"
     ]
    },
    {
     "name": "stdout",
     "output_type": "stream",
     "text": [
      "RUNNING THE L-BFGS-B CODE\n",
      "\n",
      "           * * *\n",
      "\n",
      "Machine precision = 2.220D-16\n",
      " N =           11     M =           10\n",
      "\n",
      "At X0         0 variables are exactly at the bounds\n",
      "\n",
      "At iterate    0    f=  7.17743D+00    |proj g|=  2.67277D-01\n"
     ]
    },
    {
     "name": "stderr",
     "output_type": "stream",
     "text": [
      " This problem is unconstrained.\n"
     ]
    },
    {
     "name": "stdout",
     "output_type": "stream",
     "text": [
      "\n",
      "At iterate    5    f=  7.04046D+00    |proj g|=  1.03930D-02\n",
      "\n",
      "At iterate   10    f=  7.03942D+00    |proj g|=  1.01555D-03\n",
      "\n",
      "At iterate   15    f=  7.03893D+00    |proj g|=  1.52879D-02\n",
      "\n",
      "At iterate   20    f=  7.03839D+00    |proj g|=  4.06640D-04\n",
      "\n",
      "At iterate   25    f=  7.03835D+00    |proj g|=  1.33166D-03\n",
      "\n",
      "At iterate   30    f=  7.03718D+00    |proj g|=  1.62459D-02\n",
      "\n",
      "At iterate   35    f=  7.03646D+00    |proj g|=  4.25312D-03\n",
      "\n",
      "At iterate   40    f=  7.03623D+00    |proj g|=  1.79169D-02\n",
      "\n",
      "At iterate   45    f=  7.03536D+00    |proj g|=  1.20294D-02\n"
     ]
    },
    {
     "name": "stderr",
     "output_type": "stream",
     "text": [
      "/Users/sujaykumar/miniconda3/lib/python3.10/site-packages/statsmodels/base/model.py:607: ConvergenceWarning: Maximum Likelihood optimization failed to converge. Check mle_retvals\n",
      "  warnings.warn(\"Maximum Likelihood optimization failed to \"\n"
     ]
    },
    {
     "name": "stdout",
     "output_type": "stream",
     "text": [
      "\n",
      "At iterate   50    f=  7.03475D+00    |proj g|=  8.11649D-03\n",
      "\n",
      "           * * *\n",
      "\n",
      "Tit   = total number of iterations\n",
      "Tnf   = total number of function evaluations\n",
      "Tnint = total number of segments explored during Cauchy searches\n",
      "Skip  = number of BFGS updates skipped\n",
      "Nact  = number of active bounds at final generalized Cauchy point\n",
      "Projg = norm of the final projected gradient\n",
      "F     = final function value\n",
      "\n",
      "           * * *\n",
      "\n",
      "   N    Tit     Tnf  Tnint  Skip  Nact     Projg        F\n",
      "   11     50     60      1     0     0   8.116D-03   7.035D+00\n",
      "  F =   7.0347538898063853     \n",
      "\n",
      "STOP: TOTAL NO. of ITERATIONS REACHED LIMIT                 \n",
      "The MAPE Score is :  26.316988681319053\n",
      "The MAE Score is : 179.91533241130637\n",
      "The MAPE Score is :  26.316988681319053\n",
      "The MAE Score is : 179.91533241130637\n",
      "The MAPE Score is :  20.491824185795686\n",
      "The MAE Score is : 179.91533241130637\n",
      "The MAPE Score is :  20.491824185795686\n",
      "The MAE Score is : 179.91533241130637\n"
     ]
    },
    {
     "name": "stderr",
     "output_type": "stream",
     "text": [
      "/Users/sujaykumar/miniconda3/lib/python3.10/site-packages/statsmodels/tsa/base/tsa_model.py:473: ValueWarning: No frequency information was provided, so inferred frequency D will be used.\n",
      "  self._init_dates(dates, freq)\n",
      "/Users/sujaykumar/miniconda3/lib/python3.10/site-packages/statsmodels/tsa/base/tsa_model.py:473: ValueWarning: No frequency information was provided, so inferred frequency D will be used.\n",
      "  self._init_dates(dates, freq)\n",
      "/Users/sujaykumar/miniconda3/lib/python3.10/site-packages/statsmodels/tsa/statespace/representation.py:374: FutureWarning: Unknown keyword arguments: dict_keys(['orders']).Passing unknown keyword arguments will raise a TypeError beginning in version 0.15.\n",
      "  warnings.warn(msg, FutureWarning)\n"
     ]
    },
    {
     "name": "stdout",
     "output_type": "stream",
     "text": [
      "RUNNING THE L-BFGS-B CODE\n",
      "\n",
      "           * * *\n",
      "\n",
      "Machine precision = 2.220D-16\n",
      " N =           11     M =           10\n",
      "\n",
      "At X0         0 variables are exactly at the bounds\n",
      "\n",
      "At iterate    0    f=  7.17743D+00    |proj g|=  2.67277D-01\n"
     ]
    },
    {
     "name": "stderr",
     "output_type": "stream",
     "text": [
      " This problem is unconstrained.\n"
     ]
    },
    {
     "name": "stdout",
     "output_type": "stream",
     "text": [
      "\n",
      "At iterate    5    f=  7.04046D+00    |proj g|=  1.03930D-02\n",
      "\n",
      "At iterate   10    f=  7.03942D+00    |proj g|=  1.01555D-03\n",
      "\n",
      "At iterate   15    f=  7.03893D+00    |proj g|=  1.52879D-02\n",
      "\n",
      "At iterate   20    f=  7.03839D+00    |proj g|=  4.06640D-04\n",
      "\n",
      "At iterate   25    f=  7.03835D+00    |proj g|=  1.33166D-03\n",
      "\n",
      "At iterate   30    f=  7.03718D+00    |proj g|=  1.62459D-02\n",
      "\n",
      "At iterate   35    f=  7.03646D+00    |proj g|=  4.25312D-03\n",
      "\n",
      "At iterate   40    f=  7.03623D+00    |proj g|=  1.79169D-02\n",
      "\n",
      "At iterate   45    f=  7.03536D+00    |proj g|=  1.20294D-02\n"
     ]
    },
    {
     "name": "stderr",
     "output_type": "stream",
     "text": [
      "/Users/sujaykumar/miniconda3/lib/python3.10/site-packages/statsmodels/base/model.py:607: ConvergenceWarning: Maximum Likelihood optimization failed to converge. Check mle_retvals\n",
      "  warnings.warn(\"Maximum Likelihood optimization failed to \"\n"
     ]
    },
    {
     "name": "stdout",
     "output_type": "stream",
     "text": [
      "\n",
      "At iterate   50    f=  7.03475D+00    |proj g|=  8.11649D-03\n",
      "\n",
      "           * * *\n",
      "\n",
      "Tit   = total number of iterations\n",
      "Tnf   = total number of function evaluations\n",
      "Tnint = total number of segments explored during Cauchy searches\n",
      "Skip  = number of BFGS updates skipped\n",
      "Nact  = number of active bounds at final generalized Cauchy point\n",
      "Projg = norm of the final projected gradient\n",
      "F     = final function value\n",
      "\n",
      "           * * *\n",
      "\n",
      "   N    Tit     Tnf  Tnint  Skip  Nact     Projg        F\n",
      "   11     50     60      1     0     0   8.116D-03   7.035D+00\n",
      "  F =   7.0347538898063853     \n",
      "\n",
      "STOP: TOTAL NO. of ITERATIONS REACHED LIMIT                 \n",
      "The MAPE Score is :  26.316988681319053\n",
      "The MAE Score is : 179.91533241130637\n",
      "The MAPE Score is :  26.316988681319053\n",
      "The MAE Score is : 179.91533241130637\n",
      "The MAPE Score is :  20.491824185795686\n",
      "The MAE Score is : 179.91533241130637\n",
      "The MAPE Score is :  20.491824185795686\n",
      "The MAE Score is : 179.91533241130637\n"
     ]
    },
    {
     "name": "stderr",
     "output_type": "stream",
     "text": [
      "/Users/sujaykumar/miniconda3/lib/python3.10/site-packages/statsmodels/tsa/base/tsa_model.py:473: ValueWarning: No frequency information was provided, so inferred frequency D will be used.\n",
      "  self._init_dates(dates, freq)\n",
      "/Users/sujaykumar/miniconda3/lib/python3.10/site-packages/statsmodels/tsa/base/tsa_model.py:473: ValueWarning: No frequency information was provided, so inferred frequency D will be used.\n",
      "  self._init_dates(dates, freq)\n",
      "/Users/sujaykumar/miniconda3/lib/python3.10/site-packages/statsmodels/tsa/statespace/representation.py:374: FutureWarning: Unknown keyword arguments: dict_keys(['orders']).Passing unknown keyword arguments will raise a TypeError beginning in version 0.15.\n",
      "  warnings.warn(msg, FutureWarning)\n"
     ]
    },
    {
     "name": "stdout",
     "output_type": "stream",
     "text": [
      "RUNNING THE L-BFGS-B CODE\n",
      "\n",
      "           * * *\n",
      "\n",
      "Machine precision = 2.220D-16\n",
      " N =           11     M =           10\n",
      "\n",
      "At X0         0 variables are exactly at the bounds\n",
      "\n",
      "At iterate    0    f=  7.17743D+00    |proj g|=  2.67277D-01\n"
     ]
    },
    {
     "name": "stderr",
     "output_type": "stream",
     "text": [
      " This problem is unconstrained.\n"
     ]
    },
    {
     "name": "stdout",
     "output_type": "stream",
     "text": [
      "\n",
      "At iterate    5    f=  7.04046D+00    |proj g|=  1.03930D-02\n",
      "\n",
      "At iterate   10    f=  7.03942D+00    |proj g|=  1.01555D-03\n",
      "\n",
      "At iterate   15    f=  7.03893D+00    |proj g|=  1.52879D-02\n",
      "\n",
      "At iterate   20    f=  7.03839D+00    |proj g|=  4.06640D-04\n",
      "\n",
      "At iterate   25    f=  7.03835D+00    |proj g|=  1.33166D-03\n",
      "\n",
      "At iterate   30    f=  7.03718D+00    |proj g|=  1.62459D-02\n",
      "\n",
      "At iterate   35    f=  7.03646D+00    |proj g|=  4.25312D-03\n",
      "\n",
      "At iterate   40    f=  7.03623D+00    |proj g|=  1.79169D-02\n",
      "\n",
      "At iterate   45    f=  7.03536D+00    |proj g|=  1.20294D-02\n"
     ]
    },
    {
     "name": "stderr",
     "output_type": "stream",
     "text": [
      "/Users/sujaykumar/miniconda3/lib/python3.10/site-packages/statsmodels/base/model.py:607: ConvergenceWarning: Maximum Likelihood optimization failed to converge. Check mle_retvals\n",
      "  warnings.warn(\"Maximum Likelihood optimization failed to \"\n"
     ]
    },
    {
     "name": "stdout",
     "output_type": "stream",
     "text": [
      "\n",
      "At iterate   50    f=  7.03475D+00    |proj g|=  8.11649D-03\n",
      "\n",
      "           * * *\n",
      "\n",
      "Tit   = total number of iterations\n",
      "Tnf   = total number of function evaluations\n",
      "Tnint = total number of segments explored during Cauchy searches\n",
      "Skip  = number of BFGS updates skipped\n",
      "Nact  = number of active bounds at final generalized Cauchy point\n",
      "Projg = norm of the final projected gradient\n",
      "F     = final function value\n",
      "\n",
      "           * * *\n",
      "\n",
      "   N    Tit     Tnf  Tnint  Skip  Nact     Projg        F\n",
      "   11     50     60      1     0     0   8.116D-03   7.035D+00\n",
      "  F =   7.0347538898063853     \n",
      "\n",
      "STOP: TOTAL NO. of ITERATIONS REACHED LIMIT                 \n",
      "The MAPE Score is :  26.316988681319053\n",
      "The MAE Score is : 179.91533241130637\n",
      "The MAPE Score is :  26.316988681319053\n",
      "The MAE Score is : 179.91533241130637\n",
      "The MAPE Score is :  20.491824185795686\n",
      "The MAE Score is : 179.91533241130637\n",
      "The MAPE Score is :  20.491824185795686\n",
      "The MAE Score is : 179.91533241130637\n"
     ]
    },
    {
     "name": "stderr",
     "output_type": "stream",
     "text": [
      "/Users/sujaykumar/miniconda3/lib/python3.10/site-packages/statsmodels/tsa/base/tsa_model.py:473: ValueWarning: No frequency information was provided, so inferred frequency D will be used.\n",
      "  self._init_dates(dates, freq)\n",
      "/Users/sujaykumar/miniconda3/lib/python3.10/site-packages/statsmodels/tsa/base/tsa_model.py:473: ValueWarning: No frequency information was provided, so inferred frequency D will be used.\n",
      "  self._init_dates(dates, freq)\n",
      "/Users/sujaykumar/miniconda3/lib/python3.10/site-packages/statsmodels/tsa/statespace/representation.py:374: FutureWarning: Unknown keyword arguments: dict_keys(['orders']).Passing unknown keyword arguments will raise a TypeError beginning in version 0.15.\n",
      "  warnings.warn(msg, FutureWarning)\n"
     ]
    },
    {
     "name": "stdout",
     "output_type": "stream",
     "text": [
      "RUNNING THE L-BFGS-B CODE\n",
      "\n",
      "           * * *\n",
      "\n",
      "Machine precision = 2.220D-16\n",
      " N =           11     M =           10\n",
      "\n",
      "At X0         0 variables are exactly at the bounds\n",
      "\n",
      "At iterate    0    f=  7.17743D+00    |proj g|=  2.67277D-01\n"
     ]
    },
    {
     "name": "stderr",
     "output_type": "stream",
     "text": [
      " This problem is unconstrained.\n"
     ]
    },
    {
     "name": "stdout",
     "output_type": "stream",
     "text": [
      "\n",
      "At iterate    5    f=  7.04046D+00    |proj g|=  1.03930D-02\n",
      "\n",
      "At iterate   10    f=  7.03942D+00    |proj g|=  1.01555D-03\n",
      "\n",
      "At iterate   15    f=  7.03893D+00    |proj g|=  1.52879D-02\n",
      "\n",
      "At iterate   20    f=  7.03839D+00    |proj g|=  4.06640D-04\n",
      "\n",
      "At iterate   25    f=  7.03835D+00    |proj g|=  1.33166D-03\n",
      "\n",
      "At iterate   30    f=  7.03718D+00    |proj g|=  1.62459D-02\n",
      "\n",
      "At iterate   35    f=  7.03646D+00    |proj g|=  4.25312D-03\n",
      "\n",
      "At iterate   40    f=  7.03623D+00    |proj g|=  1.79169D-02\n",
      "\n",
      "At iterate   45    f=  7.03536D+00    |proj g|=  1.20294D-02\n"
     ]
    },
    {
     "name": "stderr",
     "output_type": "stream",
     "text": [
      "/Users/sujaykumar/miniconda3/lib/python3.10/site-packages/statsmodels/base/model.py:607: ConvergenceWarning: Maximum Likelihood optimization failed to converge. Check mle_retvals\n",
      "  warnings.warn(\"Maximum Likelihood optimization failed to \"\n"
     ]
    },
    {
     "name": "stdout",
     "output_type": "stream",
     "text": [
      "\n",
      "At iterate   50    f=  7.03475D+00    |proj g|=  8.11649D-03\n",
      "\n",
      "           * * *\n",
      "\n",
      "Tit   = total number of iterations\n",
      "Tnf   = total number of function evaluations\n",
      "Tnint = total number of segments explored during Cauchy searches\n",
      "Skip  = number of BFGS updates skipped\n",
      "Nact  = number of active bounds at final generalized Cauchy point\n",
      "Projg = norm of the final projected gradient\n",
      "F     = final function value\n",
      "\n",
      "           * * *\n",
      "\n",
      "   N    Tit     Tnf  Tnint  Skip  Nact     Projg        F\n",
      "   11     50     60      1     0     0   8.116D-03   7.035D+00\n",
      "  F =   7.0347538898063853     \n",
      "\n",
      "STOP: TOTAL NO. of ITERATIONS REACHED LIMIT                 \n",
      "The MAPE Score is :  26.316988681319053\n",
      "The MAE Score is : 179.91533241130637\n",
      "The MAPE Score is :  26.316988681319053\n",
      "The MAE Score is : 179.91533241130637\n",
      "The MAPE Score is :  20.491824185795686\n",
      "The MAE Score is : 179.91533241130637\n",
      "The MAPE Score is :  20.491824185795686\n",
      "The MAE Score is : 179.91533241130637\n"
     ]
    },
    {
     "name": "stderr",
     "output_type": "stream",
     "text": [
      "/Users/sujaykumar/miniconda3/lib/python3.10/site-packages/statsmodels/tsa/base/tsa_model.py:473: ValueWarning: No frequency information was provided, so inferred frequency D will be used.\n",
      "  self._init_dates(dates, freq)\n",
      "/Users/sujaykumar/miniconda3/lib/python3.10/site-packages/statsmodels/tsa/base/tsa_model.py:473: ValueWarning: No frequency information was provided, so inferred frequency D will be used.\n",
      "  self._init_dates(dates, freq)\n",
      "/Users/sujaykumar/miniconda3/lib/python3.10/site-packages/statsmodels/tsa/statespace/representation.py:374: FutureWarning: Unknown keyword arguments: dict_keys(['orders']).Passing unknown keyword arguments will raise a TypeError beginning in version 0.15.\n",
      "  warnings.warn(msg, FutureWarning)\n"
     ]
    },
    {
     "name": "stdout",
     "output_type": "stream",
     "text": [
      "RUNNING THE L-BFGS-B CODE\n",
      "\n",
      "           * * *\n",
      "\n",
      "Machine precision = 2.220D-16\n",
      " N =           11     M =           10\n",
      "\n",
      "At X0         0 variables are exactly at the bounds\n",
      "\n",
      "At iterate    0    f=  7.17743D+00    |proj g|=  2.67277D-01\n"
     ]
    },
    {
     "name": "stderr",
     "output_type": "stream",
     "text": [
      " This problem is unconstrained.\n"
     ]
    },
    {
     "name": "stdout",
     "output_type": "stream",
     "text": [
      "\n",
      "At iterate    5    f=  7.04046D+00    |proj g|=  1.03930D-02\n",
      "\n",
      "At iterate   10    f=  7.03942D+00    |proj g|=  1.01555D-03\n",
      "\n",
      "At iterate   15    f=  7.03893D+00    |proj g|=  1.52879D-02\n",
      "\n",
      "At iterate   20    f=  7.03839D+00    |proj g|=  4.06640D-04\n",
      "\n",
      "At iterate   25    f=  7.03835D+00    |proj g|=  1.33166D-03\n",
      "\n",
      "At iterate   30    f=  7.03718D+00    |proj g|=  1.62459D-02\n",
      "\n",
      "At iterate   35    f=  7.03646D+00    |proj g|=  4.25312D-03\n",
      "\n",
      "At iterate   40    f=  7.03623D+00    |proj g|=  1.79169D-02\n",
      "\n",
      "At iterate   45    f=  7.03536D+00    |proj g|=  1.20294D-02\n"
     ]
    },
    {
     "name": "stderr",
     "output_type": "stream",
     "text": [
      "/Users/sujaykumar/miniconda3/lib/python3.10/site-packages/statsmodels/base/model.py:607: ConvergenceWarning: Maximum Likelihood optimization failed to converge. Check mle_retvals\n",
      "  warnings.warn(\"Maximum Likelihood optimization failed to \"\n"
     ]
    },
    {
     "name": "stdout",
     "output_type": "stream",
     "text": [
      "\n",
      "At iterate   50    f=  7.03475D+00    |proj g|=  8.11649D-03\n",
      "\n",
      "           * * *\n",
      "\n",
      "Tit   = total number of iterations\n",
      "Tnf   = total number of function evaluations\n",
      "Tnint = total number of segments explored during Cauchy searches\n",
      "Skip  = number of BFGS updates skipped\n",
      "Nact  = number of active bounds at final generalized Cauchy point\n",
      "Projg = norm of the final projected gradient\n",
      "F     = final function value\n",
      "\n",
      "           * * *\n",
      "\n",
      "   N    Tit     Tnf  Tnint  Skip  Nact     Projg        F\n",
      "   11     50     60      1     0     0   8.116D-03   7.035D+00\n",
      "  F =   7.0347538898063853     \n",
      "\n",
      "STOP: TOTAL NO. of ITERATIONS REACHED LIMIT                 \n",
      "The MAPE Score is :  26.316988681319053\n",
      "The MAE Score is : 179.91533241130637\n",
      "The MAPE Score is :  26.316988681319053\n",
      "The MAE Score is : 179.91533241130637\n",
      "The MAPE Score is :  20.491824185795686\n",
      "The MAE Score is : 179.91533241130637\n",
      "The MAPE Score is :  20.491824185795686\n",
      "The MAE Score is : 179.91533241130637\n"
     ]
    }
   ],
   "source": [
    "orders = [(0,2,1),(8,0,8),(8,1,8),(9,0,7),(9,1,7),(8,0,9),(8,1,9)]\n",
    "for o in orders:\n",
    "    try:\n",
    "        res = SARIMAX(df1_train,orders=o,seasonal_order=(3,0,6,7)).fit()\n",
    "        results2.append((3,6,res.aic,res.bic,get_MAPE_MAE(df1_train,res)[0],get_MAPE_MAE(df1_train,res)[1],get_MAPE_MAE_test(df1_test,res)[0],get_MAPE_MAE_test(df1_test,res)[1]))\n",
    "    except:\n",
    "        results2.append((3,6,None,None,None,None,None,None))\n",
    "results2 = pd.DataFrame(results2,columns=['P','Q','AIC','BIC','MAPE_train','MAE_test','MAPE_test','MAE_test'])"
   ]
  },
  {
   "cell_type": "code",
   "execution_count": 22,
   "id": "2fc59617",
   "metadata": {},
   "outputs": [],
   "source": [
    "results2.to_csv(\"sarima_results2.csv\")"
   ]
  },
  {
   "cell_type": "code",
   "execution_count": null,
   "id": "2221af90",
   "metadata": {},
   "outputs": [],
   "source": []
  }
 ],
 "metadata": {
  "kernelspec": {
   "display_name": "Python 3 (ipykernel)",
   "language": "python",
   "name": "python3"
  },
  "language_info": {
   "codemirror_mode": {
    "name": "ipython",
    "version": 3
   },
   "file_extension": ".py",
   "mimetype": "text/x-python",
   "name": "python",
   "nbconvert_exporter": "python",
   "pygments_lexer": "ipython3",
   "version": "3.10.10"
  }
 },
 "nbformat": 4,
 "nbformat_minor": 5
}
