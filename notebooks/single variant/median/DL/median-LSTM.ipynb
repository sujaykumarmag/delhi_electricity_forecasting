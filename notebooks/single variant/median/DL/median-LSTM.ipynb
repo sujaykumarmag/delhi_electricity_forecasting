{
 "cells": [
  {
   "cell_type": "code",
   "execution_count": 1,
   "id": "037cc7ca",
   "metadata": {},
   "outputs": [],
   "source": [
    "import pandas as pd\n",
    "import numpy as np\n",
    "from keras.models import Sequential\n",
    "from keras.layers import LSTM, Dense"
   ]
  },
  {
   "cell_type": "code",
   "execution_count": 2,
   "id": "8f8b23c3",
   "metadata": {},
   "outputs": [],
   "source": [
    "data = pd.read_csv(\"../../../../main/sub_data/single_variant/median/train/train_median.csv\",index_col=\"Date\",parse_dates=True)\n",
    "df_test = pd.read_csv(\"../../../../main/sub_data/single_variant/median/test/test_median.csv\",index_col=\"Date\",parse_dates=True)"
   ]
  },
  {
   "cell_type": "code",
   "execution_count": 3,
   "id": "a1ebcb23",
   "metadata": {},
   "outputs": [],
   "source": [
    "# Data preparation\n",
    "data = np.array(data)\n",
    "sequence_length = 10  # Length of input sequences\n",
    "n_features = 1  # Number of features (variables) in your time series data"
   ]
  },
  {
   "cell_type": "code",
   "execution_count": 4,
   "id": "190ca5dc",
   "metadata": {},
   "outputs": [],
   "source": [
    "# Create input sequences and corresponding output values\n",
    "sequences = []\n",
    "targets = []\n",
    "for i in range(len(data) - sequence_length):\n",
    "    sequences.append(data[i : i + sequence_length])\n",
    "    targets.append(data[i + sequence_length])"
   ]
  },
  {
   "cell_type": "code",
   "execution_count": 5,
   "id": "95aa2acb",
   "metadata": {},
   "outputs": [],
   "source": [
    "# Convert lists to NumPy arrays\n",
    "sequences = np.array(sequences)\n",
    "targets = np.array(targets)\n",
    "\n",
    "# Reshape the input sequences to fit the LSTM input shape\n",
    "sequences = sequences.reshape((sequences.shape[0], sequence_length, n_features))\n"
   ]
  },
  {
   "cell_type": "code",
   "execution_count": 6,
   "id": "bccc330d",
   "metadata": {},
   "outputs": [],
   "source": [
    "# Split the data into training and testing sets\n",
    "train_size = int(0.8 * len(sequences))\n",
    "train_sequences = sequences[:train_size]\n",
    "train_targets = targets[:train_size]\n",
    "test_sequences = sequences[train_size:]\n",
    "test_targets = targets[train_size:]"
   ]
  },
  {
   "cell_type": "code",
   "execution_count": 7,
   "id": "b515cdcb",
   "metadata": {},
   "outputs": [],
   "source": [
    "# Calculate MAPE (Mean Absolute Percentage Error)\n",
    "def calculate_mape(y_true, y_pred):\n",
    "    return np.mean(np.abs((y_true - y_pred) / y_true)) * 100\n",
    "\n",
    "# Calculate MAE (Mean Absolute Error)\n",
    "def calculate_mae(y_true, y_pred):\n",
    "    return np.mean(np.abs(y_true - y_pred))"
   ]
  },
  {
   "cell_type": "code",
   "execution_count": 8,
   "id": "6f91087c",
   "metadata": {},
   "outputs": [
    {
     "name": "stdout",
     "output_type": "stream",
     "text": [
      "Metal device set to: Apple M1\n"
     ]
    }
   ],
   "source": [
    "# Model definition\n",
    "model = Sequential()\n",
    "model.add(LSTM(50, input_shape=(sequence_length, n_features)))\n",
    "model.add(Dense(1))  # Output layer with one neuron for regression\n"
   ]
  },
  {
   "cell_type": "code",
   "execution_count": 9,
   "id": "b0f4ac12",
   "metadata": {
    "scrolled": true
   },
   "outputs": [
    {
     "name": "stdout",
     "output_type": "stream",
     "text": [
      "Epoch 1/50\n"
     ]
    },
    {
     "name": "stderr",
     "output_type": "stream",
     "text": [
      "2023-07-17 19:59:29.411775: W tensorflow/tsl/platform/profile_utils/cpu_utils.cc:128] Failed to get CPU frequency: 0 Hz\n"
     ]
    },
    {
     "name": "stdout",
     "output_type": "stream",
     "text": [
      "92/92 [==============================] - 3s 7ms/step - loss: 19063842.0000\n",
      "Epoch 2/50\n",
      "92/92 [==============================] - 1s 6ms/step - loss: 19056824.0000\n",
      "Epoch 3/50\n",
      "92/92 [==============================] - 1s 7ms/step - loss: 19050516.0000\n",
      "Epoch 4/50\n",
      "92/92 [==============================] - 1s 6ms/step - loss: 19044212.0000\n",
      "Epoch 5/50\n",
      "92/92 [==============================] - 1s 7ms/step - loss: 19036478.0000\n",
      "Epoch 6/50\n",
      "92/92 [==============================] - 1s 9ms/step - loss: 19027928.0000\n",
      "Epoch 7/50\n",
      "92/92 [==============================] - 1s 8ms/step - loss: 19020266.0000\n",
      "Epoch 8/50\n",
      "92/92 [==============================] - 1s 9ms/step - loss: 19012804.0000\n",
      "Epoch 9/50\n",
      "92/92 [==============================] - 1s 7ms/step - loss: 19005460.0000\n",
      "Epoch 10/50\n",
      "92/92 [==============================] - 1s 7ms/step - loss: 18998162.0000\n",
      "Epoch 11/50\n",
      "92/92 [==============================] - 1s 6ms/step - loss: 18990920.0000\n",
      "Epoch 12/50\n",
      "92/92 [==============================] - 1s 6ms/step - loss: 18983716.0000\n",
      "Epoch 13/50\n",
      "92/92 [==============================] - 1s 6ms/step - loss: 18976528.0000\n",
      "Epoch 14/50\n",
      "92/92 [==============================] - 1s 6ms/step - loss: 18969364.0000\n",
      "Epoch 15/50\n",
      "92/92 [==============================] - 1s 6ms/step - loss: 18962210.0000\n",
      "Epoch 16/50\n",
      "92/92 [==============================] - 1s 6ms/step - loss: 18955070.0000\n",
      "Epoch 17/50\n",
      "92/92 [==============================] - 1s 6ms/step - loss: 18947946.0000\n",
      "Epoch 18/50\n",
      "92/92 [==============================] - 1s 6ms/step - loss: 18940828.0000\n",
      "Epoch 19/50\n",
      "92/92 [==============================] - 1s 6ms/step - loss: 18933722.0000\n",
      "Epoch 20/50\n",
      "92/92 [==============================] - 1s 6ms/step - loss: 18926626.0000\n",
      "Epoch 21/50\n",
      "92/92 [==============================] - 1s 6ms/step - loss: 18919528.0000\n",
      "Epoch 22/50\n",
      "92/92 [==============================] - 1s 6ms/step - loss: 18912446.0000\n",
      "Epoch 23/50\n",
      "92/92 [==============================] - 1s 6ms/step - loss: 18905364.0000\n",
      "Epoch 24/50\n",
      "92/92 [==============================] - 1s 6ms/step - loss: 18898280.0000\n",
      "Epoch 25/50\n",
      "92/92 [==============================] - 1s 7ms/step - loss: 18891214.0000\n",
      "Epoch 26/50\n",
      "92/92 [==============================] - 1s 8ms/step - loss: 18884136.0000\n",
      "Epoch 27/50\n",
      "92/92 [==============================] - 1s 8ms/step - loss: 18877074.0000\n",
      "Epoch 28/50\n",
      "92/92 [==============================] - 1s 7ms/step - loss: 18870012.0000\n",
      "Epoch 29/50\n",
      "92/92 [==============================] - 1s 7ms/step - loss: 18862950.0000\n",
      "Epoch 30/50\n",
      "92/92 [==============================] - 1s 7ms/step - loss: 18855898.0000\n",
      "Epoch 31/50\n",
      "92/92 [==============================] - 1s 6ms/step - loss: 18848846.0000\n",
      "Epoch 32/50\n",
      "92/92 [==============================] - 1s 6ms/step - loss: 18841798.0000\n",
      "Epoch 33/50\n",
      "92/92 [==============================] - 1s 7ms/step - loss: 18834746.0000\n",
      "Epoch 34/50\n",
      "92/92 [==============================] - 1s 7ms/step - loss: 18827706.0000\n",
      "Epoch 35/50\n",
      "92/92 [==============================] - 1s 6ms/step - loss: 18820668.0000\n",
      "Epoch 36/50\n",
      "92/92 [==============================] - 1s 6ms/step - loss: 18813630.0000\n",
      "Epoch 37/50\n",
      "92/92 [==============================] - 1s 6ms/step - loss: 18806588.0000\n",
      "Epoch 38/50\n",
      "92/92 [==============================] - 1s 6ms/step - loss: 18799550.0000\n",
      "Epoch 39/50\n",
      "92/92 [==============================] - 1s 6ms/step - loss: 18792520.0000\n",
      "Epoch 40/50\n",
      "92/92 [==============================] - 1s 6ms/step - loss: 18785498.0000\n",
      "Epoch 41/50\n",
      "92/92 [==============================] - 1s 7ms/step - loss: 18778460.0000\n",
      "Epoch 42/50\n",
      "92/92 [==============================] - 1s 7ms/step - loss: 18771436.0000\n",
      "Epoch 43/50\n",
      "92/92 [==============================] - 1s 7ms/step - loss: 18764410.0000\n",
      "Epoch 44/50\n",
      "92/92 [==============================] - 1s 7ms/step - loss: 18757384.0000\n",
      "Epoch 45/50\n",
      "92/92 [==============================] - 1s 7ms/step - loss: 18750364.0000\n",
      "Epoch 46/50\n",
      "92/92 [==============================] - 1s 7ms/step - loss: 18743342.0000\n",
      "Epoch 47/50\n",
      "92/92 [==============================] - 1s 7ms/step - loss: 18736328.0000\n",
      "Epoch 48/50\n",
      "92/92 [==============================] - 1s 7ms/step - loss: 18729306.0000\n",
      "Epoch 49/50\n",
      "92/92 [==============================] - 1s 6ms/step - loss: 18722290.0000\n",
      "Epoch 50/50\n",
      "92/92 [==============================] - 1s 6ms/step - loss: 18715278.0000\n"
     ]
    },
    {
     "data": {
      "text/plain": [
       "<keras.callbacks.History at 0x17bfad600>"
      ]
     },
     "execution_count": 9,
     "metadata": {},
     "output_type": "execute_result"
    }
   ],
   "source": [
    "# Compile the model\n",
    "model.compile(optimizer='adam', loss='mse')\n",
    "\n",
    "# Model training\n",
    "model.fit(train_sequences,train_targets, epochs=50, batch_size=32)"
   ]
  },
  {
   "cell_type": "code",
   "execution_count": 10,
   "id": "ed3ed83c",
   "metadata": {},
   "outputs": [
    {
     "name": "stdout",
     "output_type": "stream",
     "text": [
      "23/23 [==============================] - 0s 4ms/step - loss: 22840528.0000\n",
      "Test loss: 22840528.0\n"
     ]
    }
   ],
   "source": [
    "loss = model.evaluate(test_sequences, test_targets)\n",
    "print(f'Test loss: {loss}')"
   ]
  },
  {
   "cell_type": "code",
   "execution_count": 11,
   "id": "f6001fcf",
   "metadata": {},
   "outputs": [
    {
     "name": "stdout",
     "output_type": "stream",
     "text": [
      "23/23 [==============================] - 0s 2ms/step\n",
      "MAPE: 99.05857269428449\n",
      "MAE: 4655.269122490915\n"
     ]
    }
   ],
   "source": [
    "predictions = model.predict(test_sequences)\n",
    "mape = calculate_mape(test_targets, predictions)\n",
    "print(f'MAPE: {mape}')\n",
    "mae = calculate_mae(test_targets, predictions)\n",
    "print(f'MAE: {mae}')"
   ]
  },
  {
   "cell_type": "code",
   "execution_count": 12,
   "id": "d4b567cb",
   "metadata": {},
   "outputs": [],
   "source": [
    "# Model definition\n",
    "model = Sequential()\n",
    "model.add(LSTM(50, input_shape=(sequence_length, n_features)))\n",
    "model.add(Dense(50))\n",
    "model.add(Dense(1))  # Output layer with one neuron for regression"
   ]
  },
  {
   "cell_type": "code",
   "execution_count": 13,
   "id": "3d107a24",
   "metadata": {
    "scrolled": true
   },
   "outputs": [
    {
     "name": "stdout",
     "output_type": "stream",
     "text": [
      "Epoch 1/50\n",
      "92/92 [==============================] - 2s 8ms/step - loss: 18991452.0000\n",
      "Epoch 2/50\n",
      "92/92 [==============================] - 1s 7ms/step - loss: 18681962.0000\n",
      "Epoch 3/50\n",
      "92/92 [==============================] - 1s 7ms/step - loss: 18075752.0000\n",
      "Epoch 4/50\n",
      "92/92 [==============================] - 1s 6ms/step - loss: 17173022.0000\n",
      "Epoch 5/50\n",
      "92/92 [==============================] - 1s 6ms/step - loss: 16009717.0000\n",
      "Epoch 6/50\n",
      "92/92 [==============================] - 1s 6ms/step - loss: 14649502.0000\n",
      "Epoch 7/50\n",
      "92/92 [==============================] - 1s 7ms/step - loss: 13157602.0000\n",
      "Epoch 8/50\n",
      "92/92 [==============================] - 1s 6ms/step - loss: 11596639.0000\n",
      "Epoch 9/50\n",
      "92/92 [==============================] - 1s 7ms/step - loss: 9933405.0000\n",
      "Epoch 10/50\n",
      "92/92 [==============================] - 1s 7ms/step - loss: 8377223.5000\n",
      "Epoch 11/50\n",
      "92/92 [==============================] - 1s 7ms/step - loss: 6937188.0000\n",
      "Epoch 12/50\n",
      "92/92 [==============================] - 1s 8ms/step - loss: 5639543.0000\n",
      "Epoch 13/50\n",
      "92/92 [==============================] - 1s 8ms/step - loss: 4508044.0000\n",
      "Epoch 14/50\n",
      "92/92 [==============================] - 1s 7ms/step - loss: 3556546.2500\n",
      "Epoch 15/50\n",
      "92/92 [==============================] - 1s 7ms/step - loss: 2784817.0000\n",
      "Epoch 16/50\n",
      "92/92 [==============================] - 1s 8ms/step - loss: 2185277.2500\n",
      "Epoch 17/50\n",
      "92/92 [==============================] - 1s 7ms/step - loss: 1738459.8750\n",
      "Epoch 18/50\n",
      "92/92 [==============================] - 1s 7ms/step - loss: 1420757.0000\n",
      "Epoch 19/50\n",
      "92/92 [==============================] - 1s 7ms/step - loss: 1204785.0000\n",
      "Epoch 20/50\n",
      "92/92 [==============================] - 1s 7ms/step - loss: 1066442.8750\n",
      "Epoch 21/50\n",
      "92/92 [==============================] - 1s 8ms/step - loss: 981744.9375\n",
      "Epoch 22/50\n",
      "92/92 [==============================] - 1s 7ms/step - loss: 932720.2500\n",
      "Epoch 23/50\n",
      "92/92 [==============================] - 1s 7ms/step - loss: 905983.9375\n",
      "Epoch 24/50\n",
      "92/92 [==============================] - 1s 7ms/step - loss: 892153.7500\n",
      "Epoch 25/50\n",
      "92/92 [==============================] - 1s 7ms/step - loss: 885248.6250\n",
      "Epoch 26/50\n",
      "92/92 [==============================] - 1s 7ms/step - loss: 881937.3750\n",
      "Epoch 27/50\n",
      "92/92 [==============================] - 1s 7ms/step - loss: 880497.7500\n",
      "Epoch 28/50\n",
      "92/92 [==============================] - 1s 6ms/step - loss: 880091.7500\n",
      "Epoch 29/50\n",
      "92/92 [==============================] - 1s 6ms/step - loss: 879732.1875\n",
      "Epoch 30/50\n",
      "92/92 [==============================] - 1s 6ms/step - loss: 879499.4375\n",
      "Epoch 31/50\n",
      "92/92 [==============================] - 1s 7ms/step - loss: 879565.3750\n",
      "Epoch 32/50\n",
      "92/92 [==============================] - 1s 7ms/step - loss: 879411.1875\n",
      "Epoch 33/50\n",
      "92/92 [==============================] - 1s 6ms/step - loss: 879458.7500\n",
      "Epoch 34/50\n",
      "92/92 [==============================] - 1s 6ms/step - loss: 879524.3750\n",
      "Epoch 35/50\n",
      "92/92 [==============================] - 1s 6ms/step - loss: 879471.5000\n",
      "Epoch 36/50\n",
      "92/92 [==============================] - 1s 7ms/step - loss: 879527.9375\n",
      "Epoch 37/50\n",
      "92/92 [==============================] - 1s 7ms/step - loss: 879567.5625\n",
      "Epoch 38/50\n",
      "92/92 [==============================] - 1s 8ms/step - loss: 879512.8125\n",
      "Epoch 39/50\n",
      "92/92 [==============================] - 1s 10ms/step - loss: 879593.9375\n",
      "Epoch 40/50\n",
      "92/92 [==============================] - 1s 10ms/step - loss: 879544.5000\n",
      "Epoch 41/50\n",
      "92/92 [==============================] - 1s 10ms/step - loss: 879556.3125\n",
      "Epoch 42/50\n",
      "92/92 [==============================] - 1s 10ms/step - loss: 879569.1250\n",
      "Epoch 43/50\n",
      "92/92 [==============================] - 1s 8ms/step - loss: 879535.7500\n",
      "Epoch 44/50\n",
      "92/92 [==============================] - 1s 9ms/step - loss: 879511.6875\n",
      "Epoch 45/50\n",
      "92/92 [==============================] - 1s 8ms/step - loss: 879696.8125\n",
      "Epoch 46/50\n",
      "92/92 [==============================] - 1s 8ms/step - loss: 879609.8750\n",
      "Epoch 47/50\n",
      "92/92 [==============================] - 1s 7ms/step - loss: 879679.4375\n",
      "Epoch 48/50\n",
      "92/92 [==============================] - 1s 7ms/step - loss: 879458.4375\n",
      "Epoch 49/50\n",
      "92/92 [==============================] - 1s 7ms/step - loss: 879663.0625\n",
      "Epoch 50/50\n",
      "92/92 [==============================] - 1s 7ms/step - loss: 879590.5625\n"
     ]
    },
    {
     "data": {
      "text/plain": [
       "<keras.callbacks.History at 0x2854c6f20>"
      ]
     },
     "execution_count": 13,
     "metadata": {},
     "output_type": "execute_result"
    }
   ],
   "source": [
    "# Compile the model\n",
    "model.compile(optimizer='adam', loss='mse')\n",
    "\n",
    "# Model training\n",
    "model.fit(train_sequences,train_targets, epochs=50, batch_size=32)"
   ]
  },
  {
   "cell_type": "code",
   "execution_count": 14,
   "id": "530b7ae0",
   "metadata": {},
   "outputs": [
    {
     "name": "stdout",
     "output_type": "stream",
     "text": [
      "23/23 [==============================] - 0s 3ms/step\n",
      "MAPE: 18.325663348670926\n",
      "MAE: 918.0482322225765\n"
     ]
    }
   ],
   "source": [
    "predictions = model.predict(test_sequences)\n",
    "mape = calculate_mape(test_targets, predictions)\n",
    "print(f'MAPE: {mape}')\n",
    "mae = calculate_mae(test_targets, predictions)\n",
    "print(f'MAE: {mae}')"
   ]
  },
  {
   "cell_type": "code",
   "execution_count": 15,
   "id": "f1f9f33c",
   "metadata": {},
   "outputs": [],
   "source": [
    "from keras.layers import Bidirectional\n",
    "\n",
    "# Model definition\n",
    "model = Sequential()\n",
    "model.add(Bidirectional(LSTM(50, input_shape=(sequence_length, n_features))))\n",
    "model.add(Dense(1))"
   ]
  },
  {
   "cell_type": "code",
   "execution_count": 16,
   "id": "eead4c0c",
   "metadata": {
    "scrolled": true
   },
   "outputs": [
    {
     "name": "stdout",
     "output_type": "stream",
     "text": [
      "Epoch 1/50\n",
      "92/92 [==============================] - 2s 11ms/step - loss: 19057866.0000\n",
      "Epoch 2/50\n",
      "92/92 [==============================] - 1s 10ms/step - loss: 19038034.0000\n",
      "Epoch 3/50\n",
      "92/92 [==============================] - 1s 10ms/step - loss: 19021164.0000\n",
      "Epoch 4/50\n",
      "92/92 [==============================] - 1s 10ms/step - loss: 19004350.0000\n",
      "Epoch 5/50\n",
      "92/92 [==============================] - 1s 10ms/step - loss: 18987556.0000\n",
      "Epoch 6/50\n",
      "92/92 [==============================] - 1s 10ms/step - loss: 18970794.0000\n",
      "Epoch 7/50\n",
      "92/92 [==============================] - 1s 10ms/step - loss: 18954042.0000\n",
      "Epoch 8/50\n",
      "92/92 [==============================] - 1s 10ms/step - loss: 18937312.0000\n",
      "Epoch 9/50\n",
      "92/92 [==============================] - 1s 10ms/step - loss: 18920596.0000\n",
      "Epoch 10/50\n",
      "92/92 [==============================] - 1s 10ms/step - loss: 18903886.0000\n",
      "Epoch 11/50\n",
      "92/92 [==============================] - 1s 10ms/step - loss: 18887198.0000\n",
      "Epoch 12/50\n",
      "92/92 [==============================] - 1s 10ms/step - loss: 18870518.0000\n",
      "Epoch 13/50\n",
      "92/92 [==============================] - 1s 10ms/step - loss: 18853844.0000\n",
      "Epoch 14/50\n",
      "92/92 [==============================] - 1s 10ms/step - loss: 18837184.0000\n",
      "Epoch 15/50\n",
      "92/92 [==============================] - 1s 10ms/step - loss: 18820524.0000\n",
      "Epoch 16/50\n",
      "92/92 [==============================] - 1s 10ms/step - loss: 18803890.0000\n",
      "Epoch 17/50\n",
      "92/92 [==============================] - 1s 10ms/step - loss: 18787256.0000\n",
      "Epoch 18/50\n",
      "92/92 [==============================] - 1s 10ms/step - loss: 18770636.0000\n",
      "Epoch 19/50\n",
      "92/92 [==============================] - 1s 10ms/step - loss: 18754028.0000\n",
      "Epoch 20/50\n",
      "92/92 [==============================] - 1s 12ms/step - loss: 18737424.0000\n",
      "Epoch 21/50\n",
      "92/92 [==============================] - 1s 14ms/step - loss: 18720838.0000\n",
      "Epoch 22/50\n",
      "92/92 [==============================] - 1s 15ms/step - loss: 18704254.0000\n",
      "Epoch 23/50\n",
      "92/92 [==============================] - 1s 15ms/step - loss: 18687684.0000\n",
      "Epoch 24/50\n",
      "92/92 [==============================] - 1s 14ms/step - loss: 18671122.0000\n",
      "Epoch 25/50\n",
      "92/92 [==============================] - 1s 12ms/step - loss: 18654574.0000\n",
      "Epoch 26/50\n",
      "92/92 [==============================] - 1s 12ms/step - loss: 18638032.0000\n",
      "Epoch 27/50\n",
      "92/92 [==============================] - 1s 14ms/step - loss: 18621494.0000\n",
      "Epoch 28/50\n",
      "92/92 [==============================] - 1s 12ms/step - loss: 18604966.0000\n",
      "Epoch 29/50\n",
      "92/92 [==============================] - 1s 12ms/step - loss: 18588456.0000\n",
      "Epoch 30/50\n",
      "92/92 [==============================] - 1s 12ms/step - loss: 18571950.0000\n",
      "Epoch 31/50\n",
      "92/92 [==============================] - 1s 12ms/step - loss: 18555440.0000\n",
      "Epoch 32/50\n",
      "92/92 [==============================] - 1s 12ms/step - loss: 18538142.0000\n",
      "Epoch 33/50\n",
      "92/92 [==============================] - 1s 12ms/step - loss: 18516498.0000\n",
      "Epoch 34/50\n",
      "92/92 [==============================] - 1s 12ms/step - loss: 18499642.0000\n",
      "Epoch 35/50\n",
      "92/92 [==============================] - 1s 11ms/step - loss: 18482826.0000\n",
      "Epoch 36/50\n",
      "92/92 [==============================] - 1s 12ms/step - loss: 18466038.0000\n",
      "Epoch 37/50\n",
      "92/92 [==============================] - 1s 12ms/step - loss: 18449280.0000\n",
      "Epoch 38/50\n",
      "92/92 [==============================] - 1s 13ms/step - loss: 18432546.0000\n",
      "Epoch 39/50\n",
      "92/92 [==============================] - 1s 12ms/step - loss: 18415826.0000\n",
      "Epoch 40/50\n",
      "92/92 [==============================] - 1s 12ms/step - loss: 18399132.0000\n",
      "Epoch 41/50\n",
      "92/92 [==============================] - 1s 11ms/step - loss: 18382462.0000\n",
      "Epoch 42/50\n",
      "92/92 [==============================] - 1s 11ms/step - loss: 18365800.0000\n",
      "Epoch 43/50\n",
      "92/92 [==============================] - 1s 11ms/step - loss: 18344134.0000\n",
      "Epoch 44/50\n",
      "92/92 [==============================] - 1s 14ms/step - loss: 18324110.0000\n",
      "Epoch 45/50\n",
      "92/92 [==============================] - 1s 14ms/step - loss: 18307126.0000\n",
      "Epoch 46/50\n",
      "92/92 [==============================] - 1s 14ms/step - loss: 18290190.0000\n",
      "Epoch 47/50\n",
      "92/92 [==============================] - 1s 14ms/step - loss: 18273272.0000\n",
      "Epoch 48/50\n",
      "92/92 [==============================] - 1s 13ms/step - loss: 18256394.0000\n",
      "Epoch 49/50\n",
      "92/92 [==============================] - 1s 12ms/step - loss: 18239542.0000\n",
      "Epoch 50/50\n",
      "92/92 [==============================] - 1s 12ms/step - loss: 18222714.0000\n"
     ]
    },
    {
     "data": {
      "text/plain": [
       "<keras.callbacks.History at 0x287bdd660>"
      ]
     },
     "execution_count": 16,
     "metadata": {},
     "output_type": "execute_result"
    }
   ],
   "source": [
    "# Compile the model\n",
    "model.compile(optimizer='adam', loss='mse')\n",
    "\n",
    "# Model training\n",
    "model.fit(train_sequences,train_targets, epochs=50, batch_size=32)"
   ]
  },
  {
   "cell_type": "code",
   "execution_count": 17,
   "id": "3b12750b",
   "metadata": {},
   "outputs": [
    {
     "name": "stdout",
     "output_type": "stream",
     "text": [
      "23/23 [==============================] - 0s 6ms/step\n",
      "MAPE: 97.7298548897968\n",
      "MAE: 4595.942508111032\n"
     ]
    }
   ],
   "source": [
    "predictions = model.predict(test_sequences)\n",
    "mape = calculate_mape(test_targets, predictions)\n",
    "print(f'MAPE: {mape}')\n",
    "mae = calculate_mae(test_targets, predictions)\n",
    "print(f'MAE: {mae}')"
   ]
  },
  {
   "cell_type": "code",
   "execution_count": 18,
   "id": "f3189952",
   "metadata": {},
   "outputs": [],
   "source": [
    "# Model definition\n",
    "model = Sequential()\n",
    "model.add(LSTM(50, input_shape=(sequence_length, n_features)))\n",
    "model.add(Dense(50))\n",
    "model.add(Dense(50))\n",
    "model.add(Dense(1))  # Output layer with one neuron for regression"
   ]
  },
  {
   "cell_type": "code",
   "execution_count": 19,
   "id": "29e8ee35",
   "metadata": {
    "scrolled": true
   },
   "outputs": [
    {
     "name": "stdout",
     "output_type": "stream",
     "text": [
      "Epoch 1/50\n",
      "92/92 [==============================] - 2s 10ms/step - loss: 18654854.0000\n",
      "Epoch 2/50\n",
      "92/92 [==============================] - 1s 9ms/step - loss: 13902018.0000\n",
      "Epoch 3/50\n",
      "92/92 [==============================] - 1s 9ms/step - loss: 4101155.5000\n",
      "Epoch 4/50\n",
      "92/92 [==============================] - 1s 9ms/step - loss: 932268.1250\n",
      "Epoch 5/50\n",
      "92/92 [==============================] - 1s 9ms/step - loss: 879926.7500\n",
      "Epoch 6/50\n",
      "92/92 [==============================] - 1s 9ms/step - loss: 880280.3750\n",
      "Epoch 7/50\n",
      "92/92 [==============================] - 1s 9ms/step - loss: 879848.6250\n",
      "Epoch 8/50\n",
      "92/92 [==============================] - 1s 9ms/step - loss: 881027.1250\n",
      "Epoch 9/50\n",
      "92/92 [==============================] - 1s 9ms/step - loss: 880547.7500\n",
      "Epoch 10/50\n",
      "92/92 [==============================] - 1s 9ms/step - loss: 880706.9375\n",
      "Epoch 11/50\n",
      "92/92 [==============================] - 1s 9ms/step - loss: 880871.5000\n",
      "Epoch 12/50\n",
      "92/92 [==============================] - 1s 9ms/step - loss: 880882.8125\n",
      "Epoch 13/50\n",
      "92/92 [==============================] - 1s 9ms/step - loss: 880363.7500\n",
      "Epoch 14/50\n",
      "92/92 [==============================] - 1s 9ms/step - loss: 880956.0625\n",
      "Epoch 15/50\n",
      "92/92 [==============================] - 1s 9ms/step - loss: 880260.5000\n",
      "Epoch 16/50\n",
      "92/92 [==============================] - 1s 9ms/step - loss: 881256.5000\n",
      "Epoch 17/50\n",
      "92/92 [==============================] - 1s 9ms/step - loss: 880913.0000\n",
      "Epoch 18/50\n",
      "92/92 [==============================] - 1s 9ms/step - loss: 882263.6250\n",
      "Epoch 19/50\n",
      "92/92 [==============================] - 1s 9ms/step - loss: 880507.0000\n",
      "Epoch 20/50\n",
      "92/92 [==============================] - 1s 9ms/step - loss: 880644.1875\n",
      "Epoch 21/50\n",
      "92/92 [==============================] - 1s 9ms/step - loss: 879957.9375\n",
      "Epoch 22/50\n",
      "92/92 [==============================] - 1s 9ms/step - loss: 880633.3750\n",
      "Epoch 23/50\n",
      "92/92 [==============================] - 1s 9ms/step - loss: 880289.6875\n",
      "Epoch 24/50\n",
      "92/92 [==============================] - 1s 9ms/step - loss: 881597.0000\n",
      "Epoch 25/50\n",
      "92/92 [==============================] - 1s 9ms/step - loss: 884052.3125\n",
      "Epoch 26/50\n",
      "92/92 [==============================] - 1s 9ms/step - loss: 881345.1250\n",
      "Epoch 27/50\n",
      "92/92 [==============================] - 1s 10ms/step - loss: 883094.2500\n",
      "Epoch 28/50\n",
      "92/92 [==============================] - 1s 11ms/step - loss: 880496.2500\n",
      "Epoch 29/50\n",
      "92/92 [==============================] - 1s 10ms/step - loss: 881029.1250\n",
      "Epoch 30/50\n",
      "92/92 [==============================] - 1s 9ms/step - loss: 880663.0000\n",
      "Epoch 31/50\n",
      "92/92 [==============================] - 1s 8ms/step - loss: 881209.8750\n",
      "Epoch 32/50\n",
      "92/92 [==============================] - 1s 9ms/step - loss: 880178.8125\n",
      "Epoch 33/50\n",
      "92/92 [==============================] - 1s 8ms/step - loss: 882087.1875\n",
      "Epoch 34/50\n",
      "92/92 [==============================] - 1s 9ms/step - loss: 880839.0625\n",
      "Epoch 35/50\n",
      "92/92 [==============================] - 1s 10ms/step - loss: 881076.1875\n",
      "Epoch 36/50\n",
      "92/92 [==============================] - 1s 9ms/step - loss: 879925.2500\n",
      "Epoch 37/50\n",
      "92/92 [==============================] - 1s 10ms/step - loss: 880466.6875\n",
      "Epoch 38/50\n",
      "92/92 [==============================] - 1s 9ms/step - loss: 881153.5625\n",
      "Epoch 39/50\n",
      "92/92 [==============================] - 1s 10ms/step - loss: 882999.4375\n",
      "Epoch 40/50\n",
      "92/92 [==============================] - 1s 9ms/step - loss: 881478.6875\n",
      "Epoch 41/50\n",
      "92/92 [==============================] - 1s 9ms/step - loss: 885292.2500\n",
      "Epoch 42/50\n",
      "92/92 [==============================] - 1s 9ms/step - loss: 882192.5000\n",
      "Epoch 43/50\n",
      "92/92 [==============================] - 1s 9ms/step - loss: 880880.0625\n",
      "Epoch 44/50\n",
      "92/92 [==============================] - 1s 9ms/step - loss: 881632.4375\n",
      "Epoch 45/50\n",
      "92/92 [==============================] - 1s 9ms/step - loss: 881963.6875\n",
      "Epoch 46/50\n",
      "92/92 [==============================] - 1s 9ms/step - loss: 881822.1875\n",
      "Epoch 47/50\n",
      "92/92 [==============================] - 1s 9ms/step - loss: 882570.9375\n",
      "Epoch 48/50\n",
      "92/92 [==============================] - 1s 9ms/step - loss: 881442.8750\n",
      "Epoch 49/50\n",
      "92/92 [==============================] - 1s 9ms/step - loss: 882760.1875\n",
      "Epoch 50/50\n",
      "92/92 [==============================] - 1s 9ms/step - loss: 880775.4375\n"
     ]
    },
    {
     "data": {
      "text/plain": [
       "<keras.callbacks.History at 0x29ad05d50>"
      ]
     },
     "execution_count": 19,
     "metadata": {},
     "output_type": "execute_result"
    }
   ],
   "source": [
    "# Compile the model\n",
    "model.compile(optimizer='adam', loss='mse')\n",
    "\n",
    "# Model training\n",
    "model.fit(train_sequences,train_targets, epochs=50, batch_size=32)"
   ]
  },
  {
   "cell_type": "code",
   "execution_count": 20,
   "id": "9005c4e3",
   "metadata": {},
   "outputs": [
    {
     "name": "stdout",
     "output_type": "stream",
     "text": [
      "23/23 [==============================] - 0s 3ms/step\n",
      "MAPE: 18.448600169097645\n",
      "MAE: 909.4797167304422\n"
     ]
    }
   ],
   "source": [
    "predictions = model.predict(test_sequences)\n",
    "mape = calculate_mape(test_targets, predictions)\n",
    "print(f'MAPE: {mape}')\n",
    "mae = calculate_mae(test_targets, predictions)\n",
    "print(f'MAE: {mae}')"
   ]
  },
  {
   "cell_type": "code",
   "execution_count": 21,
   "id": "2ad585a6",
   "metadata": {},
   "outputs": [],
   "source": [
    "# Model definition\n",
    "model = Sequential()\n",
    "model.add(LSTM(50, input_shape=(sequence_length, n_features)))\n",
    "model.add(Dense(50))\n",
    "model.add(Dense(50))\n",
    "model.add(Dense(50))\n",
    "model.add(Dense(50))\n",
    "model.add(Dense(1))  # Output layer with one neuron for regression"
   ]
  },
  {
   "cell_type": "code",
   "execution_count": 22,
   "id": "d1ef61d7",
   "metadata": {
    "scrolled": true
   },
   "outputs": [
    {
     "name": "stdout",
     "output_type": "stream",
     "text": [
      "Epoch 1/50\n",
      "92/92 [==============================] - 2s 11ms/step - loss: 12717062.0000\n",
      "Epoch 2/50\n",
      "92/92 [==============================] - 1s 10ms/step - loss: 895645.6875\n",
      "Epoch 3/50\n",
      "92/92 [==============================] - 1s 10ms/step - loss: 886181.6875\n",
      "Epoch 4/50\n",
      "92/92 [==============================] - 1s 10ms/step - loss: 892677.3125\n",
      "Epoch 5/50\n",
      "92/92 [==============================] - 1s 10ms/step - loss: 884031.6875\n",
      "Epoch 6/50\n",
      "92/92 [==============================] - 1s 10ms/step - loss: 890310.0625\n",
      "Epoch 7/50\n",
      "92/92 [==============================] - 1s 10ms/step - loss: 888010.2500\n",
      "Epoch 8/50\n",
      "92/92 [==============================] - 1s 10ms/step - loss: 890939.5625\n",
      "Epoch 9/50\n",
      "92/92 [==============================] - 1s 10ms/step - loss: 884166.9375\n",
      "Epoch 10/50\n",
      "92/92 [==============================] - 1s 10ms/step - loss: 885567.0000\n",
      "Epoch 11/50\n",
      "92/92 [==============================] - 1s 10ms/step - loss: 883802.3125\n",
      "Epoch 12/50\n",
      "92/92 [==============================] - 1s 10ms/step - loss: 886211.2500\n",
      "Epoch 13/50\n",
      "92/92 [==============================] - 1s 11ms/step - loss: 885494.3125\n",
      "Epoch 14/50\n",
      "92/92 [==============================] - 1s 11ms/step - loss: 887112.9375\n",
      "Epoch 15/50\n",
      "92/92 [==============================] - 1s 9ms/step - loss: 892493.5000\n",
      "Epoch 16/50\n",
      "92/92 [==============================] - 1s 9ms/step - loss: 887559.7500\n",
      "Epoch 17/50\n",
      "92/92 [==============================] - 1s 9ms/step - loss: 887579.0000\n",
      "Epoch 18/50\n",
      "92/92 [==============================] - 1s 9ms/step - loss: 888392.6875\n",
      "Epoch 19/50\n",
      "92/92 [==============================] - 1s 9ms/step - loss: 887518.1875\n",
      "Epoch 20/50\n",
      "92/92 [==============================] - 1s 9ms/step - loss: 888746.0625\n",
      "Epoch 21/50\n",
      "92/92 [==============================] - 1s 11ms/step - loss: 888163.5625\n",
      "Epoch 22/50\n",
      "92/92 [==============================] - 1s 12ms/step - loss: 887990.6250\n",
      "Epoch 23/50\n",
      "92/92 [==============================] - 1s 12ms/step - loss: 886082.6875\n",
      "Epoch 24/50\n",
      "92/92 [==============================] - 1s 12ms/step - loss: 894382.2500\n",
      "Epoch 25/50\n",
      "92/92 [==============================] - 1s 10ms/step - loss: 887169.0000\n",
      "Epoch 26/50\n",
      "92/92 [==============================] - 1s 10ms/step - loss: 886333.6875\n",
      "Epoch 27/50\n",
      "92/92 [==============================] - 1s 11ms/step - loss: 887440.3125\n",
      "Epoch 28/50\n",
      "92/92 [==============================] - 1s 12ms/step - loss: 890173.8750\n",
      "Epoch 29/50\n",
      "92/92 [==============================] - 1s 11ms/step - loss: 897766.8750\n",
      "Epoch 30/50\n",
      "92/92 [==============================] - 1s 11ms/step - loss: 888361.0625\n",
      "Epoch 31/50\n",
      "92/92 [==============================] - 1s 9ms/step - loss: 893420.1250\n",
      "Epoch 32/50\n",
      "92/92 [==============================] - 1s 8ms/step - loss: 886204.1250\n",
      "Epoch 33/50\n",
      "92/92 [==============================] - 1s 8ms/step - loss: 890444.5000\n",
      "Epoch 34/50\n",
      "92/92 [==============================] - 1s 8ms/step - loss: 890082.8125\n",
      "Epoch 35/50\n",
      "92/92 [==============================] - 1s 8ms/step - loss: 882577.9375\n",
      "Epoch 36/50\n",
      "92/92 [==============================] - 1s 10ms/step - loss: 883729.1875\n",
      "Epoch 37/50\n",
      "92/92 [==============================] - 1s 9ms/step - loss: 891624.4375\n",
      "Epoch 38/50\n",
      "92/92 [==============================] - 1s 10ms/step - loss: 890085.8750\n",
      "Epoch 39/50\n",
      "92/92 [==============================] - 1s 9ms/step - loss: 885013.8750\n",
      "Epoch 40/50\n",
      "92/92 [==============================] - 1s 9ms/step - loss: 893334.6250\n",
      "Epoch 41/50\n",
      "92/92 [==============================] - 1s 10ms/step - loss: 888691.9375\n",
      "Epoch 42/50\n",
      "92/92 [==============================] - 1s 11ms/step - loss: 886206.2500\n",
      "Epoch 43/50\n",
      "92/92 [==============================] - 1s 13ms/step - loss: 890424.5000\n",
      "Epoch 44/50\n",
      "92/92 [==============================] - 1s 12ms/step - loss: 890682.1250\n",
      "Epoch 45/50\n",
      "92/92 [==============================] - 1s 12ms/step - loss: 885141.6875\n",
      "Epoch 46/50\n",
      "92/92 [==============================] - 1s 10ms/step - loss: 892022.2500\n",
      "Epoch 47/50\n",
      "92/92 [==============================] - 1s 10ms/step - loss: 896050.3125\n",
      "Epoch 48/50\n",
      "92/92 [==============================] - 1s 10ms/step - loss: 891159.4375\n",
      "Epoch 49/50\n",
      "92/92 [==============================] - 1s 10ms/step - loss: 880418.5000\n",
      "Epoch 50/50\n",
      "92/92 [==============================] - 1s 10ms/step - loss: 890870.5625\n"
     ]
    },
    {
     "data": {
      "text/plain": [
       "<keras.callbacks.History at 0x29d4ebaf0>"
      ]
     },
     "execution_count": 22,
     "metadata": {},
     "output_type": "execute_result"
    }
   ],
   "source": [
    "# Compile the model\n",
    "model.compile(optimizer='adam', loss='mse')\n",
    "\n",
    "# Model training\n",
    "model.fit(train_sequences,train_targets, epochs=50, batch_size=32)"
   ]
  },
  {
   "cell_type": "code",
   "execution_count": 23,
   "id": "899066a9",
   "metadata": {},
   "outputs": [
    {
     "name": "stdout",
     "output_type": "stream",
     "text": [
      "23/23 [==============================] - 0s 4ms/step\n",
      "MAPE: 18.26762687349575\n",
      "MAE: 936.2346825839711\n"
     ]
    }
   ],
   "source": [
    "predictions = model.predict(test_sequences)\n",
    "mape = calculate_mape(test_targets, predictions)\n",
    "print(f'MAPE: {mape}')\n",
    "mae = calculate_mae(test_targets, predictions)\n",
    "print(f'MAE: {mae}')"
   ]
  },
  {
   "cell_type": "code",
   "execution_count": null,
   "id": "d0cffe15",
   "metadata": {},
   "outputs": [],
   "source": []
  }
 ],
 "metadata": {
  "kernelspec": {
   "display_name": "Python 3.10 (tensorflow)",
   "language": "python",
   "name": "tensorflow"
  },
  "language_info": {
   "codemirror_mode": {
    "name": "ipython",
    "version": 3
   },
   "file_extension": ".py",
   "mimetype": "text/x-python",
   "name": "python",
   "nbconvert_exporter": "python",
   "pygments_lexer": "ipython3",
   "version": "3.10.11"
  }
 },
 "nbformat": 4,
 "nbformat_minor": 5
}
