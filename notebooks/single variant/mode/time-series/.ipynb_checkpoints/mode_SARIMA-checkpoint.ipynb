{
 "cells": [
  {
   "cell_type": "markdown",
   "id": "40002108",
   "metadata": {},
   "source": [
    "## Results of the No null and No Imputation Data\n",
    "<hr/>\n",
    "\n",
    "</h3>We considered the data which has no null values and no imputation techniques used where all the values are dropped off....</h3>\n",
    "\n",
    "\n",
    "<h4>        Aims and Goals of this Experiment</h4>\n",
    "<ul>\n",
    "    <li> What are MAPE and MAE scores of train and test data </li>\n",
    "    <li> Levraging SARIMA models to capture seasonal difference </li>\n",
    "</ul>\n",
    "    "
   ]
  },
  {
   "cell_type": "code",
   "execution_count": 1,
   "id": "e00fc5af",
   "metadata": {},
   "outputs": [],
   "source": [
    "import pandas as pd\n",
    "import numpy as np\n",
    "import joblib\n",
    "import pmdarima as pm\n",
    "import matplotlib.pyplot as plt\n",
    "from statsmodels.tsa.statespace.sarimax import SARIMAX\n",
    "from statsmodels.graphics.tsaplots import plot_acf, plot_pacf"
   ]
  },
  {
   "cell_type": "code",
   "execution_count": 2,
   "id": "0f5cee08",
   "metadata": {},
   "outputs": [],
   "source": [
    "df1_train = pd.read_csv(\"../../../../main/sub_data/single_variant/no_null/train/train_no_null.csv\",index_col='Date',parse_dates=True)\n",
    "df1_test = pd.read_csv(\"../../../../main/sub_data/single_variant/no_null/test/test_no_null.csv\",index_col='Date',parse_dates=True)"
   ]
  },
  {
   "cell_type": "code",
   "execution_count": 3,
   "id": "81325e64",
   "metadata": {},
   "outputs": [
    {
     "data": {
      "text/html": [
       "<div>\n",
       "<style scoped>\n",
       "    .dataframe tbody tr th:only-of-type {\n",
       "        vertical-align: middle;\n",
       "    }\n",
       "\n",
       "    .dataframe tbody tr th {\n",
       "        vertical-align: top;\n",
       "    }\n",
       "\n",
       "    .dataframe thead th {\n",
       "        text-align: right;\n",
       "    }\n",
       "</style>\n",
       "<table border=\"1\" class=\"dataframe\">\n",
       "  <thead>\n",
       "    <tr style=\"text-align: right;\">\n",
       "      <th></th>\n",
       "      <th>Max.Demand met during the day (MW)</th>\n",
       "    </tr>\n",
       "    <tr>\n",
       "      <th>Date</th>\n",
       "      <th></th>\n",
       "    </tr>\n",
       "  </thead>\n",
       "  <tbody>\n",
       "    <tr>\n",
       "      <th>2013-04-01</th>\n",
       "      <td>2776.0</td>\n",
       "    </tr>\n",
       "    <tr>\n",
       "      <th>2013-04-02</th>\n",
       "      <td>3034.0</td>\n",
       "    </tr>\n",
       "    <tr>\n",
       "      <th>2013-04-03</th>\n",
       "      <td>2991.0</td>\n",
       "    </tr>\n",
       "    <tr>\n",
       "      <th>2013-04-04</th>\n",
       "      <td>3125.0</td>\n",
       "    </tr>\n",
       "    <tr>\n",
       "      <th>2013-04-05</th>\n",
       "      <td>3160.0</td>\n",
       "    </tr>\n",
       "    <tr>\n",
       "      <th>...</th>\n",
       "      <td>...</td>\n",
       "    </tr>\n",
       "    <tr>\n",
       "      <th>2023-04-26</th>\n",
       "      <td>4445.0</td>\n",
       "    </tr>\n",
       "    <tr>\n",
       "      <th>2023-04-27</th>\n",
       "      <td>4626.0</td>\n",
       "    </tr>\n",
       "    <tr>\n",
       "      <th>2023-04-28</th>\n",
       "      <td>4395.0</td>\n",
       "    </tr>\n",
       "    <tr>\n",
       "      <th>2023-04-29</th>\n",
       "      <td>4048.0</td>\n",
       "    </tr>\n",
       "    <tr>\n",
       "      <th>2023-04-30</th>\n",
       "      <td>3791.0</td>\n",
       "    </tr>\n",
       "  </tbody>\n",
       "</table>\n",
       "<p>3609 rows × 1 columns</p>\n",
       "</div>"
      ],
      "text/plain": [
       "            Max.Demand met during the day (MW)\n",
       "Date                                          \n",
       "2013-04-01                              2776.0\n",
       "2013-04-02                              3034.0\n",
       "2013-04-03                              2991.0\n",
       "2013-04-04                              3125.0\n",
       "2013-04-05                              3160.0\n",
       "...                                        ...\n",
       "2023-04-26                              4445.0\n",
       "2023-04-27                              4626.0\n",
       "2023-04-28                              4395.0\n",
       "2023-04-29                              4048.0\n",
       "2023-04-30                              3791.0\n",
       "\n",
       "[3609 rows x 1 columns]"
      ]
     },
     "execution_count": 3,
     "metadata": {},
     "output_type": "execute_result"
    }
   ],
   "source": [
    "df1_train"
   ]
  },
  {
   "cell_type": "code",
   "execution_count": 4,
   "id": "6c4e1703",
   "metadata": {},
   "outputs": [],
   "source": [
    "def get_MAPE_MAE_test(dataframe,results):\n",
    "    actual_values = np.array(dataframe)\n",
    "    predicted_values = np.array(pd.DataFrame(results.forecast(len(actual_values)))[\"predicted_mean\"])\n",
    "    APE = np.abs((actual_values - predicted_values) / actual_values) * 100\n",
    "    MAPE = np.mean(APE)\n",
    "    MAE = np.mean(np.abs(results.resid))\n",
    "    print(\"The MAPE Score is : \",MAPE)\n",
    "    print(\"The MAE Score is :\", MAE)\n",
    "    return MAPE, MAE\n",
    "\n",
    "def get_MAPE_MAE(dataframe,results):\n",
    "    actual_values = np.array(dataframe)\n",
    "    predicted_values = np.array(results.fittedvalues)\n",
    "    APE = np.abs((actual_values - predicted_values) / actual_values) * 100\n",
    "    MAPE = np.mean(APE)\n",
    "    MAE = np.mean(np.abs(results.resid))\n",
    "    print(\"The MAPE Score is : \",MAPE)\n",
    "    print(\"The MAE Score is :\", MAE)\n",
    "    return MAPE, MAE\n",
    "\n"
   ]
  },
  {
   "cell_type": "code",
   "execution_count": 5,
   "id": "2c24ba53",
   "metadata": {},
   "outputs": [
    {
     "name": "stderr",
     "output_type": "stream",
     "text": [
      "/Users/sujaykumar/miniconda3/lib/python3.10/site-packages/statsmodels/tsa/base/tsa_model.py:473: ValueWarning: A date index has been provided, but it has no associated frequency information and so will be ignored when e.g. forecasting.\n",
      "  self._init_dates(dates, freq)\n",
      "/Users/sujaykumar/miniconda3/lib/python3.10/site-packages/statsmodels/tsa/base/tsa_model.py:473: ValueWarning: A date index has been provided, but it has no associated frequency information and so will be ignored when e.g. forecasting.\n",
      "  self._init_dates(dates, freq)\n",
      " This problem is unconstrained.\n"
     ]
    },
    {
     "name": "stdout",
     "output_type": "stream",
     "text": [
      "RUNNING THE L-BFGS-B CODE\n",
      "\n",
      "           * * *\n",
      "\n",
      "Machine precision = 2.220D-16\n",
      " N =            3     M =           10\n",
      "\n",
      "At X0         0 variables are exactly at the bounds\n",
      "\n",
      "At iterate    0    f=  7.62575D+00    |proj g|=  1.58640D-01\n",
      "\n",
      "At iterate    5    f=  7.61320D+00    |proj g|=  1.58875D-03\n",
      "\n",
      "At iterate   10    f=  7.61310D+00    |proj g|=  5.77776D-03\n",
      "\n",
      "At iterate   15    f=  7.61308D+00    |proj g|=  5.34214D-05\n",
      "\n",
      "           * * *\n",
      "\n",
      "Tit   = total number of iterations\n",
      "Tnf   = total number of function evaluations\n",
      "Tnint = total number of segments explored during Cauchy searches\n",
      "Skip  = number of BFGS updates skipped\n",
      "Nact  = number of active bounds at final generalized Cauchy point\n",
      "Projg = norm of the final projected gradient\n",
      "F     = final function value\n",
      "\n",
      "           * * *\n",
      "\n",
      "   N    Tit     Tnf  Tnint  Skip  Nact     Projg        F\n",
      "    3     15     17      1     0     0   5.342D-05   7.613D+00\n",
      "  F =   7.6130774323304742     \n",
      "\n",
      "CONVERGENCE: REL_REDUCTION_OF_F_<=_FACTR*EPSMCH             \n",
      "                                       SARIMAX Results                                        \n",
      "==============================================================================================\n",
      "Dep. Variable:     Max.Demand met during the day (MW)   No. Observations:                 3609\n",
      "Model:                          SARIMAX(1, 0, [1], 7)   Log Likelihood              -27475.596\n",
      "Date:                                Fri, 21 Jul 2023   AIC                          54957.193\n",
      "Time:                                        06:49:47   BIC                          54975.766\n",
      "Sample:                                             0   HQIC                         54963.811\n",
      "                                               - 3609                                         \n",
      "Covariance Type:                                  opg                                         \n",
      "==============================================================================\n",
      "                 coef    std err          z      P>|z|      [0.025      0.975]\n",
      "------------------------------------------------------------------------------\n",
      "ar.S.L7        0.9962      0.001    791.767      0.000       0.994       0.999\n",
      "ma.S.L7       -0.2384      0.014    -17.187      0.000      -0.266      -0.211\n",
      "sigma2      2.443e+05   4652.502     52.508      0.000    2.35e+05    2.53e+05\n",
      "===================================================================================\n",
      "Ljung-Box (L1) (Q):                2341.76   Jarque-Bera (JB):               336.50\n",
      "Prob(Q):                              0.00   Prob(JB):                         0.00\n",
      "Heteroskedasticity (H):               2.16   Skew:                            -0.11\n",
      "Prob(H) (two-sided):                  0.00   Kurtosis:                         4.48\n",
      "===================================================================================\n",
      "\n",
      "Warnings:\n",
      "[1] Covariance matrix calculated using the outer product of gradients (complex-step).\n"
     ]
    }
   ],
   "source": [
    "sarima_1 = SARIMAX(df1_train,order=(0,0,0),seasonal_order=(1,0,1,7)).fit()\n",
    "print(sarima_1.summary())"
   ]
  },
  {
   "cell_type": "code",
   "execution_count": 6,
   "id": "604342fb",
   "metadata": {},
   "outputs": [
    {
     "name": "stdout",
     "output_type": "stream",
     "text": [
      "The MAPE Score is :  26.301174088270194\n",
      "The MAE Score is : 365.5628200817091\n",
      "--------------------------------------------------------------------\n",
      "The MAPE Score is :  17.40731017785386\n",
      "The MAE Score is : 365.5628200817091\n"
     ]
    },
    {
     "name": "stderr",
     "output_type": "stream",
     "text": [
      "/Users/sujaykumar/miniconda3/lib/python3.10/site-packages/statsmodels/tsa/base/tsa_model.py:836: ValueWarning: No supported index is available. Prediction results will be given with an integer index beginning at `start`.\n",
      "  return get_prediction_index(\n",
      "/Users/sujaykumar/miniconda3/lib/python3.10/site-packages/statsmodels/tsa/base/tsa_model.py:836: FutureWarning: No supported index is available. In the next version, calling this method in a model without a supported index will result in an exception.\n",
      "  return get_prediction_index(\n"
     ]
    },
    {
     "data": {
      "text/plain": [
       "(17.40731017785386, 365.5628200817091)"
      ]
     },
     "execution_count": 6,
     "metadata": {},
     "output_type": "execute_result"
    }
   ],
   "source": [
    "get_MAPE_MAE(df1_train,sarima_1)\n",
    "print(\"--------------------------------------------------------------------\")\n",
    "get_MAPE_MAE_test(df1_test,sarima_1)"
   ]
  },
  {
   "cell_type": "code",
   "execution_count": 7,
   "id": "f4bffd13",
   "metadata": {},
   "outputs": [
    {
     "name": "stderr",
     "output_type": "stream",
     "text": [
      "/Users/sujaykumar/miniconda3/lib/python3.10/site-packages/statsmodels/tsa/base/tsa_model.py:473: ValueWarning: A date index has been provided, but it has no associated frequency information and so will be ignored when e.g. forecasting.\n",
      "  self._init_dates(dates, freq)\n",
      "/Users/sujaykumar/miniconda3/lib/python3.10/site-packages/statsmodels/tsa/base/tsa_model.py:473: ValueWarning: A date index has been provided, but it has no associated frequency information and so will be ignored when e.g. forecasting.\n",
      "  self._init_dates(dates, freq)\n"
     ]
    },
    {
     "name": "stdout",
     "output_type": "stream",
     "text": [
      "RUNNING THE L-BFGS-B CODE\n",
      "\n",
      "           * * *\n",
      "\n",
      "Machine precision = 2.220D-16\n",
      " N =            3     M =           10\n",
      "\n",
      "At X0         0 variables are exactly at the bounds\n",
      "\n",
      "At iterate    0    f=  7.59703D+00    |proj g|=  6.51721D-02\n"
     ]
    },
    {
     "name": "stderr",
     "output_type": "stream",
     "text": [
      " This problem is unconstrained.\n"
     ]
    },
    {
     "name": "stdout",
     "output_type": "stream",
     "text": [
      "\n",
      "At iterate    5    f=  7.59462D+00    |proj g|=  1.69510D-03\n",
      "\n",
      "           * * *\n",
      "\n",
      "Tit   = total number of iterations\n",
      "Tnf   = total number of function evaluations\n",
      "Tnint = total number of segments explored during Cauchy searches\n",
      "Skip  = number of BFGS updates skipped\n",
      "Nact  = number of active bounds at final generalized Cauchy point\n",
      "Projg = norm of the final projected gradient\n",
      "F     = final function value\n",
      "\n",
      "           * * *\n",
      "\n",
      "   N    Tit     Tnf  Tnint  Skip  Nact     Projg        F\n",
      "    3      7     10      1     0     0   6.620D-06   7.595D+00\n",
      "  F =   7.5946161207235905     \n",
      "\n",
      "CONVERGENCE: NORM_OF_PROJECTED_GRADIENT_<=_PGTOL            \n",
      "                                       SARIMAX Results                                        \n",
      "==============================================================================================\n",
      "Dep. Variable:     Max.Demand met during the day (MW)   No. Observations:                 3609\n",
      "Model:                          SARIMAX(1, 1, [1], 7)   Log Likelihood              -27408.970\n",
      "Date:                                Fri, 21 Jul 2023   AIC                          54823.939\n",
      "Time:                                        06:49:48   BIC                          54842.507\n",
      "Sample:                                             0   HQIC                         54830.556\n",
      "                                               - 3609                                         \n",
      "Covariance Type:                                  opg                                         \n",
      "==============================================================================\n",
      "                 coef    std err          z      P>|z|      [0.025      0.975]\n",
      "------------------------------------------------------------------------------\n",
      "ar.S.L7       -0.1303      0.054     -2.407      0.016      -0.236      -0.024\n",
      "ma.S.L7       -0.1220      0.056     -2.179      0.029      -0.232      -0.012\n",
      "sigma2      2.387e+05   4419.083     54.024      0.000     2.3e+05    2.47e+05\n",
      "===================================================================================\n",
      "Ljung-Box (L1) (Q):                2336.94   Jarque-Bera (JB):               350.59\n",
      "Prob(Q):                              0.00   Prob(JB):                         0.00\n",
      "Heteroskedasticity (H):               2.18   Skew:                            -0.14\n",
      "Prob(H) (two-sided):                  0.00   Kurtosis:                         4.50\n",
      "===================================================================================\n",
      "\n",
      "Warnings:\n",
      "[1] Covariance matrix calculated using the outer product of gradients (complex-step).\n"
     ]
    }
   ],
   "source": [
    "sarima_2 = SARIMAX(df1_train,order=(0,0,0),seasonal_order=(1,1,1,7)).fit()\n",
    "print(sarima_2.summary())"
   ]
  },
  {
   "cell_type": "code",
   "execution_count": 8,
   "id": "34eac336",
   "metadata": {},
   "outputs": [
    {
     "name": "stdout",
     "output_type": "stream",
     "text": [
      "The MAPE Score is :  26.461574913092015\n",
      "The MAE Score is : 364.6288041337103\n",
      "--------------------------------------------------------------------\n",
      "The MAPE Score is :  16.882523113420817\n",
      "The MAE Score is : 364.6288041337103\n"
     ]
    },
    {
     "name": "stderr",
     "output_type": "stream",
     "text": [
      "/Users/sujaykumar/miniconda3/lib/python3.10/site-packages/statsmodels/tsa/base/tsa_model.py:836: ValueWarning: No supported index is available. Prediction results will be given with an integer index beginning at `start`.\n",
      "  return get_prediction_index(\n",
      "/Users/sujaykumar/miniconda3/lib/python3.10/site-packages/statsmodels/tsa/base/tsa_model.py:836: FutureWarning: No supported index is available. In the next version, calling this method in a model without a supported index will result in an exception.\n",
      "  return get_prediction_index(\n"
     ]
    },
    {
     "data": {
      "text/plain": [
       "(16.882523113420817, 364.6288041337103)"
      ]
     },
     "execution_count": 8,
     "metadata": {},
     "output_type": "execute_result"
    }
   ],
   "source": [
    "get_MAPE_MAE(df1_train,sarima_2)\n",
    "print(\"--------------------------------------------------------------------\")\n",
    "get_MAPE_MAE_test(df1_test,sarima_2)"
   ]
  },
  {
   "cell_type": "markdown",
   "id": "eb8c16ef",
   "metadata": {},
   "source": [
    "## Brute Force Approach without the non-seasonal Component\n",
    "\n",
    "<p>This experiment only captures the non-seasonal component for the original df with the length of Seasonal Cycle 7</p>\n",
    "\n",
    "    Inference Results\n",
    "<ul>\n",
    "<li>SARIMA(0,0,0)(3,0,6,7) has the highest and lowest AIC and BIC</li>\n",
    "</ul>"
   ]
  },
  {
   "cell_type": "code",
   "execution_count": 9,
   "id": "78a9e3d0",
   "metadata": {},
   "outputs": [],
   "source": [
    "# results1 = []\n",
    "# for i in range(7):\n",
    "#     for j in range(7):\n",
    "#         try:\n",
    "#             x = SARIMAX(df1_train,order=(0,0,0),seasonal_order=(i,0,j,7)).fit()\n",
    "#             results1.append((i,j,x.aic,x.bic))\n",
    "#         except:\n",
    "#             results1.append(i,j,None,None)"
   ]
  },
  {
   "cell_type": "code",
   "execution_count": 10,
   "id": "57924b55",
   "metadata": {},
   "outputs": [
    {
     "data": {
      "text/html": [
       "<div>\n",
       "<style scoped>\n",
       "    .dataframe tbody tr th:only-of-type {\n",
       "        vertical-align: middle;\n",
       "    }\n",
       "\n",
       "    .dataframe tbody tr th {\n",
       "        vertical-align: top;\n",
       "    }\n",
       "\n",
       "    .dataframe thead th {\n",
       "        text-align: right;\n",
       "    }\n",
       "</style>\n",
       "<table border=\"1\" class=\"dataframe\">\n",
       "  <thead>\n",
       "    <tr style=\"text-align: right;\">\n",
       "      <th></th>\n",
       "      <th>Unnamed: 0</th>\n",
       "      <th>0</th>\n",
       "      <th>1</th>\n",
       "      <th>2</th>\n",
       "      <th>3</th>\n",
       "    </tr>\n",
       "  </thead>\n",
       "  <tbody>\n",
       "    <tr>\n",
       "      <th>27</th>\n",
       "      <td>27</td>\n",
       "      <td>3</td>\n",
       "      <td>6</td>\n",
       "      <td>54736.140205</td>\n",
       "      <td>54798.052065</td>\n",
       "    </tr>\n",
       "    <tr>\n",
       "      <th>40</th>\n",
       "      <td>40</td>\n",
       "      <td>5</td>\n",
       "      <td>5</td>\n",
       "      <td>54795.938742</td>\n",
       "      <td>54864.041788</td>\n",
       "    </tr>\n",
       "    <tr>\n",
       "      <th>41</th>\n",
       "      <td>41</td>\n",
       "      <td>5</td>\n",
       "      <td>6</td>\n",
       "      <td>54807.020736</td>\n",
       "      <td>54881.314968</td>\n",
       "    </tr>\n",
       "    <tr>\n",
       "      <th>48</th>\n",
       "      <td>48</td>\n",
       "      <td>6</td>\n",
       "      <td>6</td>\n",
       "      <td>54810.917915</td>\n",
       "      <td>54891.403333</td>\n",
       "    </tr>\n",
       "    <tr>\n",
       "      <th>47</th>\n",
       "      <td>47</td>\n",
       "      <td>6</td>\n",
       "      <td>5</td>\n",
       "      <td>54824.481621</td>\n",
       "      <td>54898.775853</td>\n",
       "    </tr>\n",
       "    <tr>\n",
       "      <th>45</th>\n",
       "      <td>45</td>\n",
       "      <td>6</td>\n",
       "      <td>3</td>\n",
       "      <td>54827.299734</td>\n",
       "      <td>54889.211594</td>\n",
       "    </tr>\n",
       "    <tr>\n",
       "      <th>46</th>\n",
       "      <td>46</td>\n",
       "      <td>6</td>\n",
       "      <td>4</td>\n",
       "      <td>54828.763309</td>\n",
       "      <td>54896.866355</td>\n",
       "    </tr>\n",
       "    <tr>\n",
       "      <th>33</th>\n",
       "      <td>33</td>\n",
       "      <td>4</td>\n",
       "      <td>5</td>\n",
       "      <td>54834.178215</td>\n",
       "      <td>54896.090075</td>\n",
       "    </tr>\n",
       "    <tr>\n",
       "      <th>44</th>\n",
       "      <td>44</td>\n",
       "      <td>6</td>\n",
       "      <td>2</td>\n",
       "      <td>54845.765219</td>\n",
       "      <td>54901.485893</td>\n",
       "    </tr>\n",
       "    <tr>\n",
       "      <th>11</th>\n",
       "      <td>11</td>\n",
       "      <td>1</td>\n",
       "      <td>4</td>\n",
       "      <td>54876.728596</td>\n",
       "      <td>54913.875712</td>\n",
       "    </tr>\n",
       "    <tr>\n",
       "      <th>25</th>\n",
       "      <td>25</td>\n",
       "      <td>3</td>\n",
       "      <td>4</td>\n",
       "      <td>54877.840592</td>\n",
       "      <td>54927.370080</td>\n",
       "    </tr>\n",
       "    <tr>\n",
       "      <th>32</th>\n",
       "      <td>32</td>\n",
       "      <td>4</td>\n",
       "      <td>4</td>\n",
       "      <td>54878.700576</td>\n",
       "      <td>54934.421250</td>\n",
       "    </tr>\n",
       "    <tr>\n",
       "      <th>18</th>\n",
       "      <td>18</td>\n",
       "      <td>2</td>\n",
       "      <td>4</td>\n",
       "      <td>54878.831779</td>\n",
       "      <td>54922.170081</td>\n",
       "    </tr>\n",
       "    <tr>\n",
       "      <th>13</th>\n",
       "      <td>13</td>\n",
       "      <td>1</td>\n",
       "      <td>6</td>\n",
       "      <td>54879.559198</td>\n",
       "      <td>54929.088686</td>\n",
       "    </tr>\n",
       "    <tr>\n",
       "      <th>38</th>\n",
       "      <td>38</td>\n",
       "      <td>5</td>\n",
       "      <td>3</td>\n",
       "      <td>54879.585976</td>\n",
       "      <td>54935.306650</td>\n",
       "    </tr>\n",
       "    <tr>\n",
       "      <th>31</th>\n",
       "      <td>31</td>\n",
       "      <td>4</td>\n",
       "      <td>3</td>\n",
       "      <td>54879.969201</td>\n",
       "      <td>54929.498689</td>\n",
       "    </tr>\n",
       "    <tr>\n",
       "      <th>19</th>\n",
       "      <td>19</td>\n",
       "      <td>2</td>\n",
       "      <td>5</td>\n",
       "      <td>54880.794795</td>\n",
       "      <td>54930.324283</td>\n",
       "    </tr>\n",
       "    <tr>\n",
       "      <th>26</th>\n",
       "      <td>26</td>\n",
       "      <td>3</td>\n",
       "      <td>5</td>\n",
       "      <td>54880.836668</td>\n",
       "      <td>54936.557342</td>\n",
       "    </tr>\n",
       "    <tr>\n",
       "      <th>23</th>\n",
       "      <td>23</td>\n",
       "      <td>3</td>\n",
       "      <td>2</td>\n",
       "      <td>54880.973387</td>\n",
       "      <td>54918.120503</td>\n",
       "    </tr>\n",
       "    <tr>\n",
       "      <th>39</th>\n",
       "      <td>39</td>\n",
       "      <td>5</td>\n",
       "      <td>4</td>\n",
       "      <td>54881.548257</td>\n",
       "      <td>54943.460117</td>\n",
       "    </tr>\n",
       "    <tr>\n",
       "      <th>34</th>\n",
       "      <td>34</td>\n",
       "      <td>4</td>\n",
       "      <td>6</td>\n",
       "      <td>54881.704752</td>\n",
       "      <td>54949.807798</td>\n",
       "    </tr>\n",
       "    <tr>\n",
       "      <th>20</th>\n",
       "      <td>20</td>\n",
       "      <td>2</td>\n",
       "      <td>6</td>\n",
       "      <td>54881.952583</td>\n",
       "      <td>54937.673257</td>\n",
       "    </tr>\n",
       "    <tr>\n",
       "      <th>12</th>\n",
       "      <td>12</td>\n",
       "      <td>1</td>\n",
       "      <td>5</td>\n",
       "      <td>54882.247323</td>\n",
       "      <td>54925.585625</td>\n",
       "    </tr>\n",
       "    <tr>\n",
       "      <th>30</th>\n",
       "      <td>30</td>\n",
       "      <td>4</td>\n",
       "      <td>2</td>\n",
       "      <td>54882.503803</td>\n",
       "      <td>54925.842105</td>\n",
       "    </tr>\n",
       "    <tr>\n",
       "      <th>24</th>\n",
       "      <td>24</td>\n",
       "      <td>3</td>\n",
       "      <td>3</td>\n",
       "      <td>54882.671229</td>\n",
       "      <td>54926.009531</td>\n",
       "    </tr>\n",
       "    <tr>\n",
       "      <th>37</th>\n",
       "      <td>37</td>\n",
       "      <td>5</td>\n",
       "      <td>2</td>\n",
       "      <td>54883.632958</td>\n",
       "      <td>54933.162446</td>\n",
       "    </tr>\n",
       "    <tr>\n",
       "      <th>17</th>\n",
       "      <td>17</td>\n",
       "      <td>2</td>\n",
       "      <td>3</td>\n",
       "      <td>54890.692299</td>\n",
       "      <td>54927.839415</td>\n",
       "    </tr>\n",
       "    <tr>\n",
       "      <th>42</th>\n",
       "      <td>42</td>\n",
       "      <td>6</td>\n",
       "      <td>0</td>\n",
       "      <td>54892.373129</td>\n",
       "      <td>54935.711431</td>\n",
       "    </tr>\n",
       "    <tr>\n",
       "      <th>36</th>\n",
       "      <td>36</td>\n",
       "      <td>5</td>\n",
       "      <td>1</td>\n",
       "      <td>54892.612258</td>\n",
       "      <td>54935.950560</td>\n",
       "    </tr>\n",
       "    <tr>\n",
       "      <th>35</th>\n",
       "      <td>35</td>\n",
       "      <td>5</td>\n",
       "      <td>0</td>\n",
       "      <td>54892.882208</td>\n",
       "      <td>54930.029324</td>\n",
       "    </tr>\n",
       "    <tr>\n",
       "      <th>43</th>\n",
       "      <td>43</td>\n",
       "      <td>6</td>\n",
       "      <td>1</td>\n",
       "      <td>54894.028560</td>\n",
       "      <td>54943.558048</td>\n",
       "    </tr>\n",
       "    <tr>\n",
       "      <th>10</th>\n",
       "      <td>10</td>\n",
       "      <td>1</td>\n",
       "      <td>3</td>\n",
       "      <td>54909.607559</td>\n",
       "      <td>54940.563489</td>\n",
       "    </tr>\n",
       "    <tr>\n",
       "      <th>16</th>\n",
       "      <td>16</td>\n",
       "      <td>2</td>\n",
       "      <td>2</td>\n",
       "      <td>54914.236009</td>\n",
       "      <td>54945.191939</td>\n",
       "    </tr>\n",
       "    <tr>\n",
       "      <th>29</th>\n",
       "      <td>29</td>\n",
       "      <td>4</td>\n",
       "      <td>1</td>\n",
       "      <td>54921.608954</td>\n",
       "      <td>54958.756070</td>\n",
       "    </tr>\n",
       "    <tr>\n",
       "      <th>28</th>\n",
       "      <td>28</td>\n",
       "      <td>4</td>\n",
       "      <td>0</td>\n",
       "      <td>54943.596629</td>\n",
       "      <td>54974.552559</td>\n",
       "    </tr>\n",
       "    <tr>\n",
       "      <th>21</th>\n",
       "      <td>21</td>\n",
       "      <td>3</td>\n",
       "      <td>0</td>\n",
       "      <td>54948.827847</td>\n",
       "      <td>54973.592591</td>\n",
       "    </tr>\n",
       "    <tr>\n",
       "      <th>9</th>\n",
       "      <td>9</td>\n",
       "      <td>1</td>\n",
       "      <td>2</td>\n",
       "      <td>54948.868769</td>\n",
       "      <td>54973.633513</td>\n",
       "    </tr>\n",
       "    <tr>\n",
       "      <th>22</th>\n",
       "      <td>22</td>\n",
       "      <td>3</td>\n",
       "      <td>1</td>\n",
       "      <td>54949.536154</td>\n",
       "      <td>54980.492084</td>\n",
       "    </tr>\n",
       "    <tr>\n",
       "      <th>15</th>\n",
       "      <td>15</td>\n",
       "      <td>2</td>\n",
       "      <td>1</td>\n",
       "      <td>54951.489751</td>\n",
       "      <td>54976.254495</td>\n",
       "    </tr>\n",
       "    <tr>\n",
       "      <th>14</th>\n",
       "      <td>14</td>\n",
       "      <td>2</td>\n",
       "      <td>0</td>\n",
       "      <td>54954.661761</td>\n",
       "      <td>54973.235319</td>\n",
       "    </tr>\n",
       "    <tr>\n",
       "      <th>8</th>\n",
       "      <td>8</td>\n",
       "      <td>1</td>\n",
       "      <td>1</td>\n",
       "      <td>54957.192907</td>\n",
       "      <td>54975.766465</td>\n",
       "    </tr>\n",
       "    <tr>\n",
       "      <th>7</th>\n",
       "      <td>7</td>\n",
       "      <td>1</td>\n",
       "      <td>0</td>\n",
       "      <td>55171.741534</td>\n",
       "      <td>55184.123906</td>\n",
       "    </tr>\n",
       "    <tr>\n",
       "      <th>3</th>\n",
       "      <td>3</td>\n",
       "      <td>0</td>\n",
       "      <td>3</td>\n",
       "      <td>61713.585958</td>\n",
       "      <td>61738.350702</td>\n",
       "    </tr>\n",
       "    <tr>\n",
       "      <th>5</th>\n",
       "      <td>5</td>\n",
       "      <td>0</td>\n",
       "      <td>5</td>\n",
       "      <td>62675.128570</td>\n",
       "      <td>62712.275686</td>\n",
       "    </tr>\n",
       "    <tr>\n",
       "      <th>6</th>\n",
       "      <td>6</td>\n",
       "      <td>0</td>\n",
       "      <td>6</td>\n",
       "      <td>62759.591961</td>\n",
       "      <td>62802.930263</td>\n",
       "    </tr>\n",
       "    <tr>\n",
       "      <th>2</th>\n",
       "      <td>2</td>\n",
       "      <td>0</td>\n",
       "      <td>2</td>\n",
       "      <td>63525.600833</td>\n",
       "      <td>63544.174391</td>\n",
       "    </tr>\n",
       "    <tr>\n",
       "      <th>4</th>\n",
       "      <td>4</td>\n",
       "      <td>0</td>\n",
       "      <td>4</td>\n",
       "      <td>63857.660397</td>\n",
       "      <td>63888.616327</td>\n",
       "    </tr>\n",
       "    <tr>\n",
       "      <th>1</th>\n",
       "      <td>1</td>\n",
       "      <td>0</td>\n",
       "      <td>1</td>\n",
       "      <td>66610.472806</td>\n",
       "      <td>66622.855178</td>\n",
       "    </tr>\n",
       "    <tr>\n",
       "      <th>0</th>\n",
       "      <td>0</td>\n",
       "      <td>0</td>\n",
       "      <td>0</td>\n",
       "      <td>70901.652838</td>\n",
       "      <td>70907.844024</td>\n",
       "    </tr>\n",
       "  </tbody>\n",
       "</table>\n",
       "</div>"
      ],
      "text/plain": [
       "    Unnamed: 0  0  1             2             3\n",
       "27          27  3  6  54736.140205  54798.052065\n",
       "40          40  5  5  54795.938742  54864.041788\n",
       "41          41  5  6  54807.020736  54881.314968\n",
       "48          48  6  6  54810.917915  54891.403333\n",
       "47          47  6  5  54824.481621  54898.775853\n",
       "45          45  6  3  54827.299734  54889.211594\n",
       "46          46  6  4  54828.763309  54896.866355\n",
       "33          33  4  5  54834.178215  54896.090075\n",
       "44          44  6  2  54845.765219  54901.485893\n",
       "11          11  1  4  54876.728596  54913.875712\n",
       "25          25  3  4  54877.840592  54927.370080\n",
       "32          32  4  4  54878.700576  54934.421250\n",
       "18          18  2  4  54878.831779  54922.170081\n",
       "13          13  1  6  54879.559198  54929.088686\n",
       "38          38  5  3  54879.585976  54935.306650\n",
       "31          31  4  3  54879.969201  54929.498689\n",
       "19          19  2  5  54880.794795  54930.324283\n",
       "26          26  3  5  54880.836668  54936.557342\n",
       "23          23  3  2  54880.973387  54918.120503\n",
       "39          39  5  4  54881.548257  54943.460117\n",
       "34          34  4  6  54881.704752  54949.807798\n",
       "20          20  2  6  54881.952583  54937.673257\n",
       "12          12  1  5  54882.247323  54925.585625\n",
       "30          30  4  2  54882.503803  54925.842105\n",
       "24          24  3  3  54882.671229  54926.009531\n",
       "37          37  5  2  54883.632958  54933.162446\n",
       "17          17  2  3  54890.692299  54927.839415\n",
       "42          42  6  0  54892.373129  54935.711431\n",
       "36          36  5  1  54892.612258  54935.950560\n",
       "35          35  5  0  54892.882208  54930.029324\n",
       "43          43  6  1  54894.028560  54943.558048\n",
       "10          10  1  3  54909.607559  54940.563489\n",
       "16          16  2  2  54914.236009  54945.191939\n",
       "29          29  4  1  54921.608954  54958.756070\n",
       "28          28  4  0  54943.596629  54974.552559\n",
       "21          21  3  0  54948.827847  54973.592591\n",
       "9            9  1  2  54948.868769  54973.633513\n",
       "22          22  3  1  54949.536154  54980.492084\n",
       "15          15  2  1  54951.489751  54976.254495\n",
       "14          14  2  0  54954.661761  54973.235319\n",
       "8            8  1  1  54957.192907  54975.766465\n",
       "7            7  1  0  55171.741534  55184.123906\n",
       "3            3  0  3  61713.585958  61738.350702\n",
       "5            5  0  5  62675.128570  62712.275686\n",
       "6            6  0  6  62759.591961  62802.930263\n",
       "2            2  0  2  63525.600833  63544.174391\n",
       "4            4  0  4  63857.660397  63888.616327\n",
       "1            1  0  1  66610.472806  66622.855178\n",
       "0            0  0  0  70901.652838  70907.844024"
      ]
     },
     "execution_count": 10,
     "metadata": {},
     "output_type": "execute_result"
    }
   ],
   "source": [
    "results1 = pd.read_csv(\"sarima_results1.csv\")\n",
    "results1.sort_values('2')"
   ]
  },
  {
   "cell_type": "code",
   "execution_count": 11,
   "id": "bfc455f6",
   "metadata": {},
   "outputs": [
    {
     "name": "stderr",
     "output_type": "stream",
     "text": [
      "/Users/sujaykumar/miniconda3/lib/python3.10/site-packages/statsmodels/tsa/base/tsa_model.py:473: ValueWarning: A date index has been provided, but it has no associated frequency information and so will be ignored when e.g. forecasting.\n",
      "  self._init_dates(dates, freq)\n",
      "/Users/sujaykumar/miniconda3/lib/python3.10/site-packages/statsmodels/tsa/base/tsa_model.py:473: ValueWarning: A date index has been provided, but it has no associated frequency information and so will be ignored when e.g. forecasting.\n",
      "  self._init_dates(dates, freq)\n",
      "/Users/sujaykumar/miniconda3/lib/python3.10/site-packages/statsmodels/tsa/statespace/representation.py:374: FutureWarning: Unknown keyword arguments: dict_keys(['solver', 'max_iter']).Passing unknown keyword arguments will raise a TypeError beginning in version 0.15.\n",
      "  warnings.warn(msg, FutureWarning)\n",
      " This problem is unconstrained.\n"
     ]
    },
    {
     "name": "stdout",
     "output_type": "stream",
     "text": [
      "RUNNING THE L-BFGS-B CODE\n",
      "\n",
      "           * * *\n",
      "\n",
      "Machine precision = 2.220D-16\n",
      " N =           10     M =           10\n",
      "\n",
      "At X0         0 variables are exactly at the bounds\n",
      "\n",
      "At iterate    0    f=  7.62165D+00    |proj g|=  1.90471D-01\n",
      "\n",
      "At iterate    5    f=  7.60103D+00    |proj g|=  1.13739D-03\n",
      "\n",
      "At iterate   10    f=  7.60095D+00    |proj g|=  6.04973D-03\n",
      "\n",
      "At iterate   15    f=  7.60092D+00    |proj g|=  6.04401D-04\n",
      "\n",
      "At iterate   20    f=  7.60076D+00    |proj g|=  5.65998D-03\n",
      "\n",
      "At iterate   25    f=  7.60047D+00    |proj g|=  1.85317D-02\n",
      "\n",
      "At iterate   30    f=  7.59562D+00    |proj g|=  2.28103D-02\n",
      "\n",
      "At iterate   35    f=  7.58913D+00    |proj g|=  2.51942D-02\n",
      "\n",
      "At iterate   40    f=  7.58477D+00    |proj g|=  2.37314D-03\n",
      "\n",
      "At iterate   45    f=  7.58348D+00    |proj g|=  1.05266D-02\n",
      "\n",
      "At iterate   50    f=  7.58051D+00    |proj g|=  5.66534D-03\n",
      "\n",
      "           * * *\n",
      "\n",
      "Tit   = total number of iterations\n",
      "Tnf   = total number of function evaluations\n",
      "Tnint = total number of segments explored during Cauchy searches\n",
      "Skip  = number of BFGS updates skipped\n",
      "Nact  = number of active bounds at final generalized Cauchy point\n",
      "Projg = norm of the final projected gradient\n",
      "F     = final function value\n",
      "\n",
      "           * * *\n",
      "\n",
      "   N    Tit     Tnf  Tnint  Skip  Nact     Projg        F\n",
      "   10     50     57      1     0     0   5.665D-03   7.581D+00\n",
      "  F =   7.5805126357436494     \n",
      "\n",
      "STOP: TOTAL NO. of ITERATIONS REACHED LIMIT                 \n"
     ]
    },
    {
     "name": "stderr",
     "output_type": "stream",
     "text": [
      "/Users/sujaykumar/miniconda3/lib/python3.10/site-packages/statsmodels/base/model.py:607: ConvergenceWarning: Maximum Likelihood optimization failed to converge. Check mle_retvals\n",
      "  warnings.warn(\"Maximum Likelihood optimization failed to \"\n"
     ]
    },
    {
     "name": "stdout",
     "output_type": "stream",
     "text": [
      "                                        SARIMAX Results                                         \n",
      "================================================================================================\n",
      "Dep. Variable:       Max.Demand met during the day (MW)   No. Observations:                 3609\n",
      "Model:             SARIMAX(3, 0, [1, 2, 3, 4, 5, 6], 7)   Log Likelihood              -27358.070\n",
      "Date:                                  Fri, 21 Jul 2023   AIC                          54736.140\n",
      "Time:                                          06:50:35   BIC                          54798.052\n",
      "Sample:                                               0   HQIC                         54758.201\n",
      "                                                 - 3609                                         \n",
      "Covariance Type:                                    opg                                         \n",
      "==============================================================================\n",
      "                 coef    std err          z      P>|z|      [0.025      0.975]\n",
      "------------------------------------------------------------------------------\n",
      "ar.S.L7        0.8654      0.150      5.755      0.000       0.571       1.160\n",
      "ar.S.L14       0.9995      0.276      3.621      0.000       0.459       1.541\n",
      "ar.S.L21      -0.8649      0.128     -6.753      0.000      -1.116      -0.614\n",
      "ma.S.L7       -0.1838      0.169     -1.090      0.276      -0.514       0.147\n",
      "ma.S.L14      -0.9145      0.191     -4.780      0.000      -1.290      -0.540\n",
      "ma.S.L21       0.3131      0.047      6.682      0.000       0.221       0.405\n",
      "ma.S.L28       0.0700      0.022      3.247      0.001       0.028       0.112\n",
      "ma.S.L35      -0.1174      0.016     -7.257      0.000      -0.149      -0.086\n",
      "ma.S.L42      -0.1430      0.028     -5.051      0.000      -0.199      -0.088\n",
      "sigma2       2.35e+05    2.2e-05   1.07e+10      0.000    2.35e+05    2.35e+05\n",
      "===================================================================================\n",
      "Ljung-Box (L1) (Q):                2312.78   Jarque-Bera (JB):               263.39\n",
      "Prob(Q):                              0.00   Prob(JB):                         0.00\n",
      "Heteroskedasticity (H):               2.16   Skew:                             0.03\n",
      "Prob(H) (two-sided):                  0.00   Kurtosis:                         4.32\n",
      "===================================================================================\n",
      "\n",
      "Warnings:\n",
      "[1] Covariance matrix calculated using the outer product of gradients (complex-step).\n",
      "[2] Covariance matrix is singular or near-singular, with condition number 2.53e+24. Standard errors may be unstable.\n"
     ]
    }
   ],
   "source": [
    "sarima_3 = SARIMAX(df1_train,order=(0,0,0),seasonal_order=(3,0,6,7),solver='lbfgs', max_iter=100).fit()\n",
    "print(sarima_3.summary())"
   ]
  },
  {
   "cell_type": "code",
   "execution_count": 12,
   "id": "332fb203",
   "metadata": {},
   "outputs": [
    {
     "name": "stdout",
     "output_type": "stream",
     "text": [
      "The MAPE Score is :  25.50512764363869\n",
      "The MAE Score is : 353.73948390930224\n",
      "--------------------------------------------------------------------\n",
      "The MAPE Score is :  15.67071404768637\n",
      "The MAE Score is : 353.73948390930224\n"
     ]
    },
    {
     "name": "stderr",
     "output_type": "stream",
     "text": [
      "/Users/sujaykumar/miniconda3/lib/python3.10/site-packages/statsmodels/tsa/base/tsa_model.py:836: ValueWarning: No supported index is available. Prediction results will be given with an integer index beginning at `start`.\n",
      "  return get_prediction_index(\n",
      "/Users/sujaykumar/miniconda3/lib/python3.10/site-packages/statsmodels/tsa/base/tsa_model.py:836: FutureWarning: No supported index is available. In the next version, calling this method in a model without a supported index will result in an exception.\n",
      "  return get_prediction_index(\n"
     ]
    },
    {
     "data": {
      "text/plain": [
       "(15.67071404768637, 353.73948390930224)"
      ]
     },
     "execution_count": 12,
     "metadata": {},
     "output_type": "execute_result"
    }
   ],
   "source": [
    "get_MAPE_MAE(df1_train,sarima_3)\n",
    "print(\"--------------------------------------------------------------------\")\n",
    "get_MAPE_MAE_test(df1_test,sarima_3)"
   ]
  },
  {
   "cell_type": "code",
   "execution_count": 13,
   "id": "e624b209",
   "metadata": {},
   "outputs": [
    {
     "name": "stderr",
     "output_type": "stream",
     "text": [
      "/Users/sujaykumar/miniconda3/lib/python3.10/site-packages/statsmodels/tsa/base/tsa_model.py:473: ValueWarning: A date index has been provided, but it has no associated frequency information and so will be ignored when e.g. forecasting.\n",
      "  self._init_dates(dates, freq)\n",
      "/Users/sujaykumar/miniconda3/lib/python3.10/site-packages/statsmodels/tsa/base/tsa_model.py:473: ValueWarning: A date index has been provided, but it has no associated frequency information and so will be ignored when e.g. forecasting.\n",
      "  self._init_dates(dates, freq)\n",
      "/Users/sujaykumar/miniconda3/lib/python3.10/site-packages/statsmodels/tsa/statespace/representation.py:374: FutureWarning: Unknown keyword arguments: dict_keys(['solver', 'max_iter']).Passing unknown keyword arguments will raise a TypeError beginning in version 0.15.\n",
      "  warnings.warn(msg, FutureWarning)\n"
     ]
    },
    {
     "name": "stdout",
     "output_type": "stream",
     "text": [
      "RUNNING THE L-BFGS-B CODE\n",
      "\n",
      "           * * *\n",
      "\n",
      "Machine precision = 2.220D-16\n",
      " N =           10     M =           10\n",
      "\n",
      "At X0         0 variables are exactly at the bounds\n",
      "\n",
      "At iterate    0    f=  7.60313D+00    |proj g|=  1.76084D-01\n"
     ]
    },
    {
     "name": "stderr",
     "output_type": "stream",
     "text": [
      " This problem is unconstrained.\n"
     ]
    },
    {
     "name": "stdout",
     "output_type": "stream",
     "text": [
      "\n",
      "At iterate    5    f=  7.58423D+00    |proj g|=  3.01869D-03\n",
      "\n",
      "At iterate   10    f=  7.58333D+00    |proj g|=  1.03130D-02\n",
      "\n",
      "At iterate   15    f=  7.58322D+00    |proj g|=  3.35583D-04\n",
      "\n",
      "At iterate   20    f=  7.58313D+00    |proj g|=  7.59424D-03\n",
      "\n",
      "At iterate   25    f=  7.58266D+00    |proj g|=  1.08773D-02\n",
      "\n",
      "At iterate   30    f=  7.58248D+00    |proj g|=  4.39850D-03\n",
      "\n",
      "At iterate   35    f=  7.58235D+00    |proj g|=  3.76493D-03\n",
      "\n",
      "At iterate   40    f=  7.58195D+00    |proj g|=  2.38546D-02\n",
      "\n",
      "At iterate   45    f=  7.58126D+00    |proj g|=  5.64833D-02\n"
     ]
    },
    {
     "name": "stderr",
     "output_type": "stream",
     "text": [
      "/Users/sujaykumar/miniconda3/lib/python3.10/site-packages/statsmodels/base/model.py:607: ConvergenceWarning: Maximum Likelihood optimization failed to converge. Check mle_retvals\n",
      "  warnings.warn(\"Maximum Likelihood optimization failed to \"\n"
     ]
    },
    {
     "name": "stdout",
     "output_type": "stream",
     "text": [
      "\n",
      "At iterate   50    f=  7.58040D+00    |proj g|=  4.59273D-02\n",
      "\n",
      "           * * *\n",
      "\n",
      "Tit   = total number of iterations\n",
      "Tnf   = total number of function evaluations\n",
      "Tnint = total number of segments explored during Cauchy searches\n",
      "Skip  = number of BFGS updates skipped\n",
      "Nact  = number of active bounds at final generalized Cauchy point\n",
      "Projg = norm of the final projected gradient\n",
      "F     = final function value\n",
      "\n",
      "           * * *\n",
      "\n",
      "   N    Tit     Tnf  Tnint  Skip  Nact     Projg        F\n",
      "   10     50     64      1     0     0   4.593D-02   7.580D+00\n",
      "  F =   7.5804043455322647     \n",
      "\n",
      "STOP: TOTAL NO. of ITERATIONS REACHED LIMIT                 \n",
      "                                        SARIMAX Results                                         \n",
      "================================================================================================\n",
      "Dep. Variable:       Max.Demand met during the day (MW)   No. Observations:                 3609\n",
      "Model:             SARIMAX(3, 1, [1, 2, 3, 4, 5, 6], 7)   Log Likelihood              -27357.679\n",
      "Date:                                  Fri, 21 Jul 2023   AIC                          54735.359\n",
      "Time:                                          06:51:25   BIC                          54797.251\n",
      "Sample:                                               0   HQIC                         54757.415\n",
      "                                                 - 3609                                         \n",
      "Covariance Type:                                    opg                                         \n",
      "==============================================================================\n",
      "                 coef    std err          z      P>|z|      [0.025      0.975]\n",
      "------------------------------------------------------------------------------\n",
      "ar.S.L7       -0.3716      0.121     -3.070      0.002      -0.609      -0.134\n",
      "ar.S.L14      -0.9647      0.039    -24.545      0.000      -1.042      -0.888\n",
      "ar.S.L21      -0.0501      0.118     -0.426      0.670      -0.281       0.181\n",
      "ma.S.L7        0.1141      0.121      0.942      0.346      -0.123       0.351\n",
      "ma.S.L14       0.9075      0.023     39.668      0.000       0.863       0.952\n",
      "ma.S.L21      -0.0853      0.113     -0.752      0.452      -0.308       0.137\n",
      "ma.S.L28       0.1565      0.028      5.522      0.000       0.101       0.212\n",
      "ma.S.L35       0.1443      0.017      8.472      0.000       0.111       0.178\n",
      "ma.S.L42       0.1235      0.021      5.939      0.000       0.083       0.164\n",
      "sigma2      2.355e+05   4501.857     52.309      0.000    2.27e+05    2.44e+05\n",
      "===================================================================================\n",
      "Ljung-Box (L1) (Q):                2278.87   Jarque-Bera (JB):               395.41\n",
      "Prob(Q):                              0.00   Prob(JB):                         0.00\n",
      "Heteroskedasticity (H):               2.22   Skew:                            -0.26\n",
      "Prob(H) (two-sided):                  0.00   Kurtosis:                         4.54\n",
      "===================================================================================\n",
      "\n",
      "Warnings:\n",
      "[1] Covariance matrix calculated using the outer product of gradients (complex-step).\n"
     ]
    }
   ],
   "source": [
    "sarima_4 = SARIMAX(df1_train,order=(0,0,0),seasonal_order=(3,1,6,7),solver='lbfgs', max_iter=100).fit()\n",
    "print(sarima_4.summary())"
   ]
  },
  {
   "cell_type": "code",
   "execution_count": 14,
   "id": "ca7ba1c9",
   "metadata": {},
   "outputs": [
    {
     "name": "stdout",
     "output_type": "stream",
     "text": [
      "The MAPE Score is :  26.82656543613603\n",
      "The MAE Score is : 358.6701425791413\n",
      "--------------------------------------------------------------------\n",
      "The MAPE Score is :  15.854739859101198\n",
      "The MAE Score is : 358.6701425791413\n"
     ]
    },
    {
     "name": "stderr",
     "output_type": "stream",
     "text": [
      "/Users/sujaykumar/miniconda3/lib/python3.10/site-packages/statsmodels/tsa/base/tsa_model.py:836: ValueWarning: No supported index is available. Prediction results will be given with an integer index beginning at `start`.\n",
      "  return get_prediction_index(\n",
      "/Users/sujaykumar/miniconda3/lib/python3.10/site-packages/statsmodels/tsa/base/tsa_model.py:836: FutureWarning: No supported index is available. In the next version, calling this method in a model without a supported index will result in an exception.\n",
      "  return get_prediction_index(\n"
     ]
    },
    {
     "data": {
      "text/plain": [
       "(15.854739859101198, 358.6701425791413)"
      ]
     },
     "execution_count": 14,
     "metadata": {},
     "output_type": "execute_result"
    }
   ],
   "source": [
    "get_MAPE_MAE(df1_train,sarima_4)\n",
    "print(\"--------------------------------------------------------------------\")\n",
    "get_MAPE_MAE_test(df1_test,sarima_4)"
   ]
  },
  {
   "cell_type": "markdown",
   "id": "ec603830",
   "metadata": {},
   "source": [
    "## Find P and Q for S"
   ]
  },
  {
   "cell_type": "code",
   "execution_count": 15,
   "id": "a02eaff7",
   "metadata": {},
   "outputs": [
    {
     "data": {
      "image/png": "[encoded data removed]",
      "text/plain": [
       "<Figure size 1200x800 with 2 Axes>"
      ]
     },
     "metadata": {},
     "output_type": "display_data"
    }
   ],
   "source": [
    "fig, (ax1,ax2) = plt.subplots(2,1,figsize=(12,8))\n",
    "plot_acf(df1_train,lags=[7,14,21,28,35],zero=False,ax=ax1)\n",
    "plot_pacf(df1_train,lags=[7,14,21,28,35],zero=False,ax=ax2)\n",
    "plt.show()"
   ]
  },
  {
   "cell_type": "code",
   "execution_count": 16,
   "id": "f2b93399",
   "metadata": {},
   "outputs": [
    {
     "data": {
      "image/png": "[encoded data removed]",
      "text/plain": [
       "<Figure size 1200x800 with 2 Axes>"
      ]
     },
     "metadata": {},
     "output_type": "display_data"
    }
   ],
   "source": [
    "fig, (ax1,ax2) = plt.subplots(2,1,figsize=(12,8))\n",
    "plot_acf(df1_train,lags=[30,60,90,120,150,180],zero=False,ax=ax1)\n",
    "plot_pacf(df1_train,lags=[30,60,90,120,150,180],zero=False,ax=ax2)\n",
    "plt.show()"
   ]
  },
  {
   "cell_type": "code",
   "execution_count": 17,
   "id": "081e99fd",
   "metadata": {},
   "outputs": [
    {
     "data": {
      "image/png": "[encoded data removed]",
      "text/plain": [
       "<Figure size 1200x800 with 2 Axes>"
      ]
     },
     "metadata": {},
     "output_type": "display_data"
    }
   ],
   "source": [
    "fig, (ax1,ax2) = plt.subplots(2,1,figsize=(12,8))\n",
    "plot_acf(df1_train,lags=[365,730,1095,1460],zero=False,ax=ax1)\n",
    "plot_pacf(df1_train,lags=[365,730,1095,1460],zero=False,ax=ax2)\n",
    "plt.show()"
   ]
  },
  {
   "cell_type": "code",
   "execution_count": 18,
   "id": "c0a53c28",
   "metadata": {},
   "outputs": [
    {
     "name": "stderr",
     "output_type": "stream",
     "text": [
      "/Users/sujaykumar/miniconda3/lib/python3.10/site-packages/statsmodels/tsa/base/tsa_model.py:473: ValueWarning: A date index has been provided, but it has no associated frequency information and so will be ignored when e.g. forecasting.\n",
      "  self._init_dates(dates, freq)\n",
      "/Users/sujaykumar/miniconda3/lib/python3.10/site-packages/statsmodels/tsa/base/tsa_model.py:473: ValueWarning: A date index has been provided, but it has no associated frequency information and so will be ignored when e.g. forecasting.\n",
      "  self._init_dates(dates, freq)\n",
      "/Users/sujaykumar/miniconda3/lib/python3.10/site-packages/statsmodels/tsa/statespace/representation.py:374: FutureWarning: Unknown keyword arguments: dict_keys(['orders', 'solver', 'max_iter']).Passing unknown keyword arguments will raise a TypeError beginning in version 0.15.\n",
      "  warnings.warn(msg, FutureWarning)\n",
      " This problem is unconstrained.\n"
     ]
    },
    {
     "name": "stdout",
     "output_type": "stream",
     "text": [
      "RUNNING THE L-BFGS-B CODE\n",
      "\n",
      "           * * *\n",
      "\n",
      "Machine precision = 2.220D-16\n",
      " N =           11     M =           10\n",
      "\n",
      "At X0         0 variables are exactly at the bounds\n",
      "\n",
      "At iterate    0    f=  7.09844D+00    |proj g|=  2.94981D-01\n",
      "\n",
      "At iterate    5    f=  6.96431D+00    |proj g|=  2.33318D-03\n",
      "\n",
      "At iterate   10    f=  6.96370D+00    |proj g|=  1.45109D-02\n",
      "\n",
      "At iterate   15    f=  6.95930D+00    |proj g|=  7.48870D-03\n",
      "\n",
      "At iterate   20    f=  6.95881D+00    |proj g|=  3.65300D-04\n",
      "\n",
      "At iterate   25    f=  6.95872D+00    |proj g|=  4.88745D-03\n",
      "\n",
      "At iterate   30    f=  6.95806D+00    |proj g|=  4.62817D-03\n",
      "\n",
      "At iterate   35    f=  6.95788D+00    |proj g|=  2.52900D-03\n",
      "\n",
      "At iterate   40    f=  6.95786D+00    |proj g|=  8.93481D-04\n",
      "\n",
      "At iterate   45    f=  6.95759D+00    |proj g|=  1.15110D-02\n"
     ]
    },
    {
     "name": "stderr",
     "output_type": "stream",
     "text": [
      "/Users/sujaykumar/miniconda3/lib/python3.10/site-packages/statsmodels/base/model.py:607: ConvergenceWarning: Maximum Likelihood optimization failed to converge. Check mle_retvals\n",
      "  warnings.warn(\"Maximum Likelihood optimization failed to \"\n"
     ]
    },
    {
     "name": "stdout",
     "output_type": "stream",
     "text": [
      "\n",
      "At iterate   50    f=  6.95643D+00    |proj g|=  1.37012D-02\n",
      "\n",
      "           * * *\n",
      "\n",
      "Tit   = total number of iterations\n",
      "Tnf   = total number of function evaluations\n",
      "Tnint = total number of segments explored during Cauchy searches\n",
      "Skip  = number of BFGS updates skipped\n",
      "Nact  = number of active bounds at final generalized Cauchy point\n",
      "Projg = norm of the final projected gradient\n",
      "F     = final function value\n",
      "\n",
      "           * * *\n",
      "\n",
      "   N    Tit     Tnf  Tnint  Skip  Nact     Projg        F\n",
      "   11     50     52      1     0     0   1.370D-02   6.956D+00\n",
      "  F =   6.9564294094762120     \n",
      "\n",
      "STOP: TOTAL NO. of ITERATIONS REACHED LIMIT                 \n",
      "The MAPE Score is :  26.673895829512162\n",
      "The MAE Score is : 176.53182280792674\n",
      "The MAPE Score is :  26.673895829512162\n",
      "The MAE Score is : 176.53182280792674\n",
      "The MAPE Score is :  20.554849471557585\n",
      "The MAE Score is : 176.53182280792674\n",
      "The MAPE Score is :  20.554849471557585\n",
      "The MAE Score is : 176.53182280792674\n"
     ]
    },
    {
     "name": "stderr",
     "output_type": "stream",
     "text": [
      "/Users/sujaykumar/miniconda3/lib/python3.10/site-packages/statsmodels/tsa/base/tsa_model.py:836: ValueWarning: No supported index is available. Prediction results will be given with an integer index beginning at `start`.\n",
      "  return get_prediction_index(\n",
      "/Users/sujaykumar/miniconda3/lib/python3.10/site-packages/statsmodels/tsa/base/tsa_model.py:836: FutureWarning: No supported index is available. In the next version, calling this method in a model without a supported index will result in an exception.\n",
      "  return get_prediction_index(\n",
      "/Users/sujaykumar/miniconda3/lib/python3.10/site-packages/statsmodels/tsa/base/tsa_model.py:836: ValueWarning: No supported index is available. Prediction results will be given with an integer index beginning at `start`.\n",
      "  return get_prediction_index(\n",
      "/Users/sujaykumar/miniconda3/lib/python3.10/site-packages/statsmodels/tsa/base/tsa_model.py:836: FutureWarning: No supported index is available. In the next version, calling this method in a model without a supported index will result in an exception.\n",
      "  return get_prediction_index(\n",
      "/Users/sujaykumar/miniconda3/lib/python3.10/site-packages/statsmodels/tsa/base/tsa_model.py:473: ValueWarning: A date index has been provided, but it has no associated frequency information and so will be ignored when e.g. forecasting.\n",
      "  self._init_dates(dates, freq)\n",
      "/Users/sujaykumar/miniconda3/lib/python3.10/site-packages/statsmodels/tsa/base/tsa_model.py:473: ValueWarning: A date index has been provided, but it has no associated frequency information and so will be ignored when e.g. forecasting.\n",
      "  self._init_dates(dates, freq)\n",
      "/Users/sujaykumar/miniconda3/lib/python3.10/site-packages/statsmodels/tsa/statespace/representation.py:374: FutureWarning: Unknown keyword arguments: dict_keys(['orders', 'solver', 'max_iter']).Passing unknown keyword arguments will raise a TypeError beginning in version 0.15.\n",
      "  warnings.warn(msg, FutureWarning)\n"
     ]
    },
    {
     "name": "stdout",
     "output_type": "stream",
     "text": [
      "RUNNING THE L-BFGS-B CODE\n",
      "\n",
      "           * * *\n",
      "\n",
      "Machine precision = 2.220D-16\n",
      " N =           11     M =           10\n",
      "\n",
      "At X0         0 variables are exactly at the bounds\n",
      "\n",
      "At iterate    0    f=  7.09844D+00    |proj g|=  2.94981D-01\n"
     ]
    },
    {
     "name": "stderr",
     "output_type": "stream",
     "text": [
      " This problem is unconstrained.\n"
     ]
    },
    {
     "name": "stdout",
     "output_type": "stream",
     "text": [
      "\n",
      "At iterate    5    f=  6.96431D+00    |proj g|=  2.33318D-03\n",
      "\n",
      "At iterate   10    f=  6.96370D+00    |proj g|=  1.45109D-02\n",
      "\n",
      "At iterate   15    f=  6.95930D+00    |proj g|=  7.48870D-03\n",
      "\n",
      "At iterate   20    f=  6.95881D+00    |proj g|=  3.65300D-04\n",
      "\n",
      "At iterate   25    f=  6.95872D+00    |proj g|=  4.88745D-03\n",
      "\n",
      "At iterate   30    f=  6.95806D+00    |proj g|=  4.62817D-03\n",
      "\n",
      "At iterate   35    f=  6.95788D+00    |proj g|=  2.52900D-03\n",
      "\n",
      "At iterate   40    f=  6.95786D+00    |proj g|=  8.93481D-04\n",
      "\n",
      "At iterate   45    f=  6.95759D+00    |proj g|=  1.15110D-02\n"
     ]
    },
    {
     "name": "stderr",
     "output_type": "stream",
     "text": [
      "/Users/sujaykumar/miniconda3/lib/python3.10/site-packages/statsmodels/base/model.py:607: ConvergenceWarning: Maximum Likelihood optimization failed to converge. Check mle_retvals\n",
      "  warnings.warn(\"Maximum Likelihood optimization failed to \"\n"
     ]
    },
    {
     "name": "stdout",
     "output_type": "stream",
     "text": [
      "\n",
      "At iterate   50    f=  6.95643D+00    |proj g|=  1.37012D-02\n",
      "\n",
      "           * * *\n",
      "\n",
      "Tit   = total number of iterations\n",
      "Tnf   = total number of function evaluations\n",
      "Tnint = total number of segments explored during Cauchy searches\n",
      "Skip  = number of BFGS updates skipped\n",
      "Nact  = number of active bounds at final generalized Cauchy point\n",
      "Projg = norm of the final projected gradient\n",
      "F     = final function value\n",
      "\n",
      "           * * *\n",
      "\n",
      "   N    Tit     Tnf  Tnint  Skip  Nact     Projg        F\n",
      "   11     50     52      1     0     0   1.370D-02   6.956D+00\n",
      "  F =   6.9564294094762120     \n",
      "\n",
      "STOP: TOTAL NO. of ITERATIONS REACHED LIMIT                 \n",
      "The MAPE Score is :  26.673895829512162\n",
      "The MAE Score is : 176.53182280792674\n",
      "The MAPE Score is :  26.673895829512162\n",
      "The MAE Score is : 176.53182280792674\n",
      "The MAPE Score is :  20.554849471557585\n",
      "The MAE Score is : 176.53182280792674\n",
      "The MAPE Score is :  20.554849471557585\n",
      "The MAE Score is : 176.53182280792674\n"
     ]
    },
    {
     "name": "stderr",
     "output_type": "stream",
     "text": [
      "/Users/sujaykumar/miniconda3/lib/python3.10/site-packages/statsmodels/tsa/base/tsa_model.py:836: ValueWarning: No supported index is available. Prediction results will be given with an integer index beginning at `start`.\n",
      "  return get_prediction_index(\n",
      "/Users/sujaykumar/miniconda3/lib/python3.10/site-packages/statsmodels/tsa/base/tsa_model.py:836: FutureWarning: No supported index is available. In the next version, calling this method in a model without a supported index will result in an exception.\n",
      "  return get_prediction_index(\n",
      "/Users/sujaykumar/miniconda3/lib/python3.10/site-packages/statsmodels/tsa/base/tsa_model.py:836: ValueWarning: No supported index is available. Prediction results will be given with an integer index beginning at `start`.\n",
      "  return get_prediction_index(\n",
      "/Users/sujaykumar/miniconda3/lib/python3.10/site-packages/statsmodels/tsa/base/tsa_model.py:836: FutureWarning: No supported index is available. In the next version, calling this method in a model without a supported index will result in an exception.\n",
      "  return get_prediction_index(\n",
      "/Users/sujaykumar/miniconda3/lib/python3.10/site-packages/statsmodels/tsa/base/tsa_model.py:473: ValueWarning: A date index has been provided, but it has no associated frequency information and so will be ignored when e.g. forecasting.\n",
      "  self._init_dates(dates, freq)\n",
      "/Users/sujaykumar/miniconda3/lib/python3.10/site-packages/statsmodels/tsa/base/tsa_model.py:473: ValueWarning: A date index has been provided, but it has no associated frequency information and so will be ignored when e.g. forecasting.\n",
      "  self._init_dates(dates, freq)\n",
      "/Users/sujaykumar/miniconda3/lib/python3.10/site-packages/statsmodels/tsa/statespace/representation.py:374: FutureWarning: Unknown keyword arguments: dict_keys(['orders', 'solver', 'max_iter']).Passing unknown keyword arguments will raise a TypeError beginning in version 0.15.\n",
      "  warnings.warn(msg, FutureWarning)\n"
     ]
    },
    {
     "name": "stdout",
     "output_type": "stream",
     "text": [
      "RUNNING THE L-BFGS-B CODE\n",
      "\n",
      "           * * *\n",
      "\n",
      "Machine precision = 2.220D-16\n",
      " N =           11     M =           10\n",
      "\n",
      "At X0         0 variables are exactly at the bounds\n",
      "\n",
      "At iterate    0    f=  7.09844D+00    |proj g|=  2.94981D-01\n"
     ]
    },
    {
     "name": "stderr",
     "output_type": "stream",
     "text": [
      " This problem is unconstrained.\n"
     ]
    },
    {
     "name": "stdout",
     "output_type": "stream",
     "text": [
      "\n",
      "At iterate    5    f=  6.96431D+00    |proj g|=  2.33318D-03\n",
      "\n",
      "At iterate   10    f=  6.96370D+00    |proj g|=  1.45109D-02\n",
      "\n",
      "At iterate   15    f=  6.95930D+00    |proj g|=  7.48870D-03\n",
      "\n",
      "At iterate   20    f=  6.95881D+00    |proj g|=  3.65300D-04\n",
      "\n",
      "At iterate   25    f=  6.95872D+00    |proj g|=  4.88745D-03\n",
      "\n",
      "At iterate   30    f=  6.95806D+00    |proj g|=  4.62817D-03\n",
      "\n",
      "At iterate   35    f=  6.95788D+00    |proj g|=  2.52900D-03\n",
      "\n",
      "At iterate   40    f=  6.95786D+00    |proj g|=  8.93481D-04\n",
      "\n",
      "At iterate   45    f=  6.95759D+00    |proj g|=  1.15110D-02\n"
     ]
    },
    {
     "name": "stderr",
     "output_type": "stream",
     "text": [
      "/Users/sujaykumar/miniconda3/lib/python3.10/site-packages/statsmodels/base/model.py:607: ConvergenceWarning: Maximum Likelihood optimization failed to converge. Check mle_retvals\n",
      "  warnings.warn(\"Maximum Likelihood optimization failed to \"\n"
     ]
    },
    {
     "name": "stdout",
     "output_type": "stream",
     "text": [
      "\n",
      "At iterate   50    f=  6.95643D+00    |proj g|=  1.37012D-02\n",
      "\n",
      "           * * *\n",
      "\n",
      "Tit   = total number of iterations\n",
      "Tnf   = total number of function evaluations\n",
      "Tnint = total number of segments explored during Cauchy searches\n",
      "Skip  = number of BFGS updates skipped\n",
      "Nact  = number of active bounds at final generalized Cauchy point\n",
      "Projg = norm of the final projected gradient\n",
      "F     = final function value\n",
      "\n",
      "           * * *\n",
      "\n",
      "   N    Tit     Tnf  Tnint  Skip  Nact     Projg        F\n",
      "   11     50     52      1     0     0   1.370D-02   6.956D+00\n",
      "  F =   6.9564294094762120     \n",
      "\n",
      "STOP: TOTAL NO. of ITERATIONS REACHED LIMIT                 \n",
      "The MAPE Score is :  26.673895829512162\n",
      "The MAE Score is : 176.53182280792674\n",
      "The MAPE Score is :  26.673895829512162\n",
      "The MAE Score is : 176.53182280792674\n",
      "The MAPE Score is :  20.554849471557585\n",
      "The MAE Score is : 176.53182280792674\n",
      "The MAPE Score is :  20.554849471557585\n",
      "The MAE Score is : 176.53182280792674\n"
     ]
    },
    {
     "name": "stderr",
     "output_type": "stream",
     "text": [
      "/Users/sujaykumar/miniconda3/lib/python3.10/site-packages/statsmodels/tsa/base/tsa_model.py:836: ValueWarning: No supported index is available. Prediction results will be given with an integer index beginning at `start`.\n",
      "  return get_prediction_index(\n",
      "/Users/sujaykumar/miniconda3/lib/python3.10/site-packages/statsmodels/tsa/base/tsa_model.py:836: FutureWarning: No supported index is available. In the next version, calling this method in a model without a supported index will result in an exception.\n",
      "  return get_prediction_index(\n",
      "/Users/sujaykumar/miniconda3/lib/python3.10/site-packages/statsmodels/tsa/base/tsa_model.py:836: ValueWarning: No supported index is available. Prediction results will be given with an integer index beginning at `start`.\n",
      "  return get_prediction_index(\n",
      "/Users/sujaykumar/miniconda3/lib/python3.10/site-packages/statsmodels/tsa/base/tsa_model.py:836: FutureWarning: No supported index is available. In the next version, calling this method in a model without a supported index will result in an exception.\n",
      "  return get_prediction_index(\n",
      "/Users/sujaykumar/miniconda3/lib/python3.10/site-packages/statsmodels/tsa/base/tsa_model.py:473: ValueWarning: A date index has been provided, but it has no associated frequency information and so will be ignored when e.g. forecasting.\n",
      "  self._init_dates(dates, freq)\n",
      "/Users/sujaykumar/miniconda3/lib/python3.10/site-packages/statsmodels/tsa/base/tsa_model.py:473: ValueWarning: A date index has been provided, but it has no associated frequency information and so will be ignored when e.g. forecasting.\n",
      "  self._init_dates(dates, freq)\n",
      "/Users/sujaykumar/miniconda3/lib/python3.10/site-packages/statsmodels/tsa/statespace/representation.py:374: FutureWarning: Unknown keyword arguments: dict_keys(['orders', 'solver', 'max_iter']).Passing unknown keyword arguments will raise a TypeError beginning in version 0.15.\n",
      "  warnings.warn(msg, FutureWarning)\n",
      " This problem is unconstrained.\n"
     ]
    },
    {
     "name": "stdout",
     "output_type": "stream",
     "text": [
      "RUNNING THE L-BFGS-B CODE\n",
      "\n",
      "           * * *\n",
      "\n",
      "Machine precision = 2.220D-16\n",
      " N =           11     M =           10\n",
      "\n",
      "At X0         0 variables are exactly at the bounds\n",
      "\n",
      "At iterate    0    f=  7.09844D+00    |proj g|=  2.94981D-01\n",
      "\n",
      "At iterate    5    f=  6.96431D+00    |proj g|=  2.33318D-03\n",
      "\n",
      "At iterate   10    f=  6.96370D+00    |proj g|=  1.45109D-02\n",
      "\n",
      "At iterate   15    f=  6.95930D+00    |proj g|=  7.48870D-03\n",
      "\n",
      "At iterate   20    f=  6.95881D+00    |proj g|=  3.65300D-04\n",
      "\n",
      "At iterate   25    f=  6.95872D+00    |proj g|=  4.88745D-03\n",
      "\n",
      "At iterate   30    f=  6.95806D+00    |proj g|=  4.62817D-03\n",
      "\n",
      "At iterate   35    f=  6.95788D+00    |proj g|=  2.52900D-03\n",
      "\n",
      "At iterate   40    f=  6.95786D+00    |proj g|=  8.93481D-04\n",
      "\n",
      "At iterate   45    f=  6.95759D+00    |proj g|=  1.15110D-02\n"
     ]
    },
    {
     "name": "stderr",
     "output_type": "stream",
     "text": [
      "/Users/sujaykumar/miniconda3/lib/python3.10/site-packages/statsmodels/base/model.py:607: ConvergenceWarning: Maximum Likelihood optimization failed to converge. Check mle_retvals\n",
      "  warnings.warn(\"Maximum Likelihood optimization failed to \"\n"
     ]
    },
    {
     "name": "stdout",
     "output_type": "stream",
     "text": [
      "\n",
      "At iterate   50    f=  6.95643D+00    |proj g|=  1.37012D-02\n",
      "\n",
      "           * * *\n",
      "\n",
      "Tit   = total number of iterations\n",
      "Tnf   = total number of function evaluations\n",
      "Tnint = total number of segments explored during Cauchy searches\n",
      "Skip  = number of BFGS updates skipped\n",
      "Nact  = number of active bounds at final generalized Cauchy point\n",
      "Projg = norm of the final projected gradient\n",
      "F     = final function value\n",
      "\n",
      "           * * *\n",
      "\n",
      "   N    Tit     Tnf  Tnint  Skip  Nact     Projg        F\n",
      "   11     50     52      1     0     0   1.370D-02   6.956D+00\n",
      "  F =   6.9564294094762120     \n",
      "\n",
      "STOP: TOTAL NO. of ITERATIONS REACHED LIMIT                 \n",
      "The MAPE Score is :  26.673895829512162\n",
      "The MAE Score is : 176.53182280792674\n",
      "The MAPE Score is :  26.673895829512162\n",
      "The MAE Score is : 176.53182280792674\n",
      "The MAPE Score is :  20.554849471557585\n",
      "The MAE Score is : 176.53182280792674\n",
      "The MAPE Score is :  20.554849471557585\n",
      "The MAE Score is : 176.53182280792674\n"
     ]
    },
    {
     "name": "stderr",
     "output_type": "stream",
     "text": [
      "/Users/sujaykumar/miniconda3/lib/python3.10/site-packages/statsmodels/tsa/base/tsa_model.py:836: ValueWarning: No supported index is available. Prediction results will be given with an integer index beginning at `start`.\n",
      "  return get_prediction_index(\n",
      "/Users/sujaykumar/miniconda3/lib/python3.10/site-packages/statsmodels/tsa/base/tsa_model.py:836: FutureWarning: No supported index is available. In the next version, calling this method in a model without a supported index will result in an exception.\n",
      "  return get_prediction_index(\n",
      "/Users/sujaykumar/miniconda3/lib/python3.10/site-packages/statsmodels/tsa/base/tsa_model.py:836: ValueWarning: No supported index is available. Prediction results will be given with an integer index beginning at `start`.\n",
      "  return get_prediction_index(\n",
      "/Users/sujaykumar/miniconda3/lib/python3.10/site-packages/statsmodels/tsa/base/tsa_model.py:836: FutureWarning: No supported index is available. In the next version, calling this method in a model without a supported index will result in an exception.\n",
      "  return get_prediction_index(\n",
      "/Users/sujaykumar/miniconda3/lib/python3.10/site-packages/statsmodels/tsa/base/tsa_model.py:473: ValueWarning: A date index has been provided, but it has no associated frequency information and so will be ignored when e.g. forecasting.\n",
      "  self._init_dates(dates, freq)\n",
      "/Users/sujaykumar/miniconda3/lib/python3.10/site-packages/statsmodels/tsa/base/tsa_model.py:473: ValueWarning: A date index has been provided, but it has no associated frequency information and so will be ignored when e.g. forecasting.\n",
      "  self._init_dates(dates, freq)\n",
      "/Users/sujaykumar/miniconda3/lib/python3.10/site-packages/statsmodels/tsa/statespace/representation.py:374: FutureWarning: Unknown keyword arguments: dict_keys(['orders', 'solver', 'max_iter']).Passing unknown keyword arguments will raise a TypeError beginning in version 0.15.\n",
      "  warnings.warn(msg, FutureWarning)\n",
      " This problem is unconstrained.\n"
     ]
    },
    {
     "name": "stdout",
     "output_type": "stream",
     "text": [
      "RUNNING THE L-BFGS-B CODE\n",
      "\n",
      "           * * *\n",
      "\n",
      "Machine precision = 2.220D-16\n",
      " N =           11     M =           10\n",
      "\n",
      "At X0         0 variables are exactly at the bounds\n",
      "\n",
      "At iterate    0    f=  7.09844D+00    |proj g|=  2.94981D-01\n",
      "\n",
      "At iterate    5    f=  6.96431D+00    |proj g|=  2.33318D-03\n",
      "\n",
      "At iterate   10    f=  6.96370D+00    |proj g|=  1.45109D-02\n",
      "\n",
      "At iterate   15    f=  6.95930D+00    |proj g|=  7.48870D-03\n",
      "\n",
      "At iterate   20    f=  6.95881D+00    |proj g|=  3.65300D-04\n",
      "\n",
      "At iterate   25    f=  6.95872D+00    |proj g|=  4.88745D-03\n",
      "\n",
      "At iterate   30    f=  6.95806D+00    |proj g|=  4.62817D-03\n",
      "\n",
      "At iterate   35    f=  6.95788D+00    |proj g|=  2.52900D-03\n",
      "\n",
      "At iterate   40    f=  6.95786D+00    |proj g|=  8.93481D-04\n",
      "\n",
      "At iterate   45    f=  6.95759D+00    |proj g|=  1.15110D-02\n"
     ]
    },
    {
     "name": "stderr",
     "output_type": "stream",
     "text": [
      "/Users/sujaykumar/miniconda3/lib/python3.10/site-packages/statsmodels/base/model.py:607: ConvergenceWarning: Maximum Likelihood optimization failed to converge. Check mle_retvals\n",
      "  warnings.warn(\"Maximum Likelihood optimization failed to \"\n"
     ]
    },
    {
     "name": "stdout",
     "output_type": "stream",
     "text": [
      "\n",
      "At iterate   50    f=  6.95643D+00    |proj g|=  1.37012D-02\n",
      "\n",
      "           * * *\n",
      "\n",
      "Tit   = total number of iterations\n",
      "Tnf   = total number of function evaluations\n",
      "Tnint = total number of segments explored during Cauchy searches\n",
      "Skip  = number of BFGS updates skipped\n",
      "Nact  = number of active bounds at final generalized Cauchy point\n",
      "Projg = norm of the final projected gradient\n",
      "F     = final function value\n",
      "\n",
      "           * * *\n",
      "\n",
      "   N    Tit     Tnf  Tnint  Skip  Nact     Projg        F\n",
      "   11     50     52      1     0     0   1.370D-02   6.956D+00\n",
      "  F =   6.9564294094762120     \n",
      "\n",
      "STOP: TOTAL NO. of ITERATIONS REACHED LIMIT                 \n",
      "The MAPE Score is :  26.673895829512162\n",
      "The MAE Score is : 176.53182280792674\n",
      "The MAPE Score is :  26.673895829512162\n",
      "The MAE Score is : 176.53182280792674\n",
      "The MAPE Score is :  20.554849471557585\n",
      "The MAE Score is : 176.53182280792674\n",
      "The MAPE Score is :  20.554849471557585\n",
      "The MAE Score is : 176.53182280792674\n"
     ]
    },
    {
     "name": "stderr",
     "output_type": "stream",
     "text": [
      "/Users/sujaykumar/miniconda3/lib/python3.10/site-packages/statsmodels/tsa/base/tsa_model.py:836: ValueWarning: No supported index is available. Prediction results will be given with an integer index beginning at `start`.\n",
      "  return get_prediction_index(\n",
      "/Users/sujaykumar/miniconda3/lib/python3.10/site-packages/statsmodels/tsa/base/tsa_model.py:836: FutureWarning: No supported index is available. In the next version, calling this method in a model without a supported index will result in an exception.\n",
      "  return get_prediction_index(\n",
      "/Users/sujaykumar/miniconda3/lib/python3.10/site-packages/statsmodels/tsa/base/tsa_model.py:836: ValueWarning: No supported index is available. Prediction results will be given with an integer index beginning at `start`.\n",
      "  return get_prediction_index(\n",
      "/Users/sujaykumar/miniconda3/lib/python3.10/site-packages/statsmodels/tsa/base/tsa_model.py:836: FutureWarning: No supported index is available. In the next version, calling this method in a model without a supported index will result in an exception.\n",
      "  return get_prediction_index(\n",
      "/Users/sujaykumar/miniconda3/lib/python3.10/site-packages/statsmodels/tsa/base/tsa_model.py:473: ValueWarning: A date index has been provided, but it has no associated frequency information and so will be ignored when e.g. forecasting.\n",
      "  self._init_dates(dates, freq)\n",
      "/Users/sujaykumar/miniconda3/lib/python3.10/site-packages/statsmodels/tsa/base/tsa_model.py:473: ValueWarning: A date index has been provided, but it has no associated frequency information and so will be ignored when e.g. forecasting.\n",
      "  self._init_dates(dates, freq)\n",
      "/Users/sujaykumar/miniconda3/lib/python3.10/site-packages/statsmodels/tsa/statespace/representation.py:374: FutureWarning: Unknown keyword arguments: dict_keys(['orders', 'solver', 'max_iter']).Passing unknown keyword arguments will raise a TypeError beginning in version 0.15.\n",
      "  warnings.warn(msg, FutureWarning)\n"
     ]
    },
    {
     "name": "stdout",
     "output_type": "stream",
     "text": [
      "RUNNING THE L-BFGS-B CODE\n",
      "\n",
      "           * * *\n",
      "\n",
      "Machine precision = 2.220D-16\n",
      " N =           11     M =           10\n",
      "\n",
      "At X0         0 variables are exactly at the bounds\n",
      "\n",
      "At iterate    0    f=  7.09844D+00    |proj g|=  2.94981D-01\n"
     ]
    },
    {
     "name": "stderr",
     "output_type": "stream",
     "text": [
      " This problem is unconstrained.\n"
     ]
    },
    {
     "name": "stdout",
     "output_type": "stream",
     "text": [
      "\n",
      "At iterate    5    f=  6.96431D+00    |proj g|=  2.33318D-03\n",
      "\n",
      "At iterate   10    f=  6.96370D+00    |proj g|=  1.45109D-02\n",
      "\n",
      "At iterate   15    f=  6.95930D+00    |proj g|=  7.48870D-03\n",
      "\n",
      "At iterate   20    f=  6.95881D+00    |proj g|=  3.65300D-04\n",
      "\n",
      "At iterate   25    f=  6.95872D+00    |proj g|=  4.88745D-03\n",
      "\n",
      "At iterate   30    f=  6.95806D+00    |proj g|=  4.62817D-03\n",
      "\n",
      "At iterate   35    f=  6.95788D+00    |proj g|=  2.52900D-03\n",
      "\n",
      "At iterate   40    f=  6.95786D+00    |proj g|=  8.93481D-04\n",
      "\n",
      "At iterate   45    f=  6.95759D+00    |proj g|=  1.15110D-02\n"
     ]
    },
    {
     "name": "stderr",
     "output_type": "stream",
     "text": [
      "/Users/sujaykumar/miniconda3/lib/python3.10/site-packages/statsmodels/base/model.py:607: ConvergenceWarning: Maximum Likelihood optimization failed to converge. Check mle_retvals\n",
      "  warnings.warn(\"Maximum Likelihood optimization failed to \"\n"
     ]
    },
    {
     "name": "stdout",
     "output_type": "stream",
     "text": [
      "\n",
      "At iterate   50    f=  6.95643D+00    |proj g|=  1.37012D-02\n",
      "\n",
      "           * * *\n",
      "\n",
      "Tit   = total number of iterations\n",
      "Tnf   = total number of function evaluations\n",
      "Tnint = total number of segments explored during Cauchy searches\n",
      "Skip  = number of BFGS updates skipped\n",
      "Nact  = number of active bounds at final generalized Cauchy point\n",
      "Projg = norm of the final projected gradient\n",
      "F     = final function value\n",
      "\n",
      "           * * *\n",
      "\n",
      "   N    Tit     Tnf  Tnint  Skip  Nact     Projg        F\n",
      "   11     50     52      1     0     0   1.370D-02   6.956D+00\n",
      "  F =   6.9564294094762120     \n",
      "\n",
      "STOP: TOTAL NO. of ITERATIONS REACHED LIMIT                 \n",
      "The MAPE Score is :  26.673895829512162\n",
      "The MAE Score is : 176.53182280792674\n",
      "The MAPE Score is :  26.673895829512162\n",
      "The MAE Score is : 176.53182280792674\n",
      "The MAPE Score is :  20.554849471557585\n",
      "The MAE Score is : 176.53182280792674\n",
      "The MAPE Score is :  20.554849471557585\n",
      "The MAE Score is : 176.53182280792674\n"
     ]
    },
    {
     "name": "stderr",
     "output_type": "stream",
     "text": [
      "/Users/sujaykumar/miniconda3/lib/python3.10/site-packages/statsmodels/tsa/base/tsa_model.py:836: ValueWarning: No supported index is available. Prediction results will be given with an integer index beginning at `start`.\n",
      "  return get_prediction_index(\n",
      "/Users/sujaykumar/miniconda3/lib/python3.10/site-packages/statsmodels/tsa/base/tsa_model.py:836: FutureWarning: No supported index is available. In the next version, calling this method in a model without a supported index will result in an exception.\n",
      "  return get_prediction_index(\n",
      "/Users/sujaykumar/miniconda3/lib/python3.10/site-packages/statsmodels/tsa/base/tsa_model.py:836: ValueWarning: No supported index is available. Prediction results will be given with an integer index beginning at `start`.\n",
      "  return get_prediction_index(\n",
      "/Users/sujaykumar/miniconda3/lib/python3.10/site-packages/statsmodels/tsa/base/tsa_model.py:836: FutureWarning: No supported index is available. In the next version, calling this method in a model without a supported index will result in an exception.\n",
      "  return get_prediction_index(\n"
     ]
    }
   ],
   "source": [
    "orders = [(1,0,0),(2,0,0),(1,1,0),(1,2,0),(0,0,1),(0,1,1)]\n",
    "results2 = []\n",
    "for o in orders:\n",
    "    try:\n",
    "        res = SARIMAX(df1_train,orders=o,seasonal_order=(3,0,6,7),solver='lbfgs', max_iter=100).fit()\n",
    "        results2.append((3,6,res.aic,res.bic,get_MAPE_MAE(df1_train,res)[0],get_MAPE_MAE(df1_train,res)[1],get_MAPE_MAE_test(df1_test,res)[0],get_MAPE_MAE_test(df1_test,res)[1]))\n",
    "    except:\n",
    "        results2.append((3,6,None,None,None,None,None,None))\n"
   ]
  },
  {
   "cell_type": "code",
   "execution_count": 19,
   "id": "bc37e793",
   "metadata": {},
   "outputs": [
    {
     "name": "stderr",
     "output_type": "stream",
     "text": [
      "/Users/sujaykumar/miniconda3/lib/python3.10/site-packages/statsmodels/tsa/base/tsa_model.py:473: ValueWarning: A date index has been provided, but it has no associated frequency information and so will be ignored when e.g. forecasting.\n",
      "  self._init_dates(dates, freq)\n",
      "/Users/sujaykumar/miniconda3/lib/python3.10/site-packages/statsmodels/tsa/base/tsa_model.py:473: ValueWarning: A date index has been provided, but it has no associated frequency information and so will be ignored when e.g. forecasting.\n",
      "  self._init_dates(dates, freq)\n",
      "/Users/sujaykumar/miniconda3/lib/python3.10/site-packages/statsmodels/tsa/statespace/representation.py:374: FutureWarning: Unknown keyword arguments: dict_keys(['orders', 'solver', 'max_iter']).Passing unknown keyword arguments will raise a TypeError beginning in version 0.15.\n",
      "  warnings.warn(msg, FutureWarning)\n"
     ]
    },
    {
     "name": "stdout",
     "output_type": "stream",
     "text": [
      "RUNNING THE L-BFGS-B CODE\n",
      "\n",
      "           * * *\n",
      "\n",
      "Machine precision = 2.220D-16\n",
      " N =           11     M =           10\n",
      "\n",
      "At X0         0 variables are exactly at the bounds\n",
      "\n",
      "At iterate    0    f=  7.09844D+00    |proj g|=  2.94981D-01\n"
     ]
    },
    {
     "name": "stderr",
     "output_type": "stream",
     "text": [
      " This problem is unconstrained.\n"
     ]
    },
    {
     "name": "stdout",
     "output_type": "stream",
     "text": [
      "\n",
      "At iterate    5    f=  6.96431D+00    |proj g|=  2.33318D-03\n",
      "\n",
      "At iterate   10    f=  6.96370D+00    |proj g|=  1.45109D-02\n",
      "\n",
      "At iterate   15    f=  6.95930D+00    |proj g|=  7.48870D-03\n",
      "\n",
      "At iterate   20    f=  6.95881D+00    |proj g|=  3.65300D-04\n",
      "\n",
      "At iterate   25    f=  6.95872D+00    |proj g|=  4.88745D-03\n",
      "\n",
      "At iterate   30    f=  6.95806D+00    |proj g|=  4.62817D-03\n",
      "\n",
      "At iterate   35    f=  6.95788D+00    |proj g|=  2.52900D-03\n",
      "\n",
      "At iterate   40    f=  6.95786D+00    |proj g|=  8.93481D-04\n",
      "\n",
      "At iterate   45    f=  6.95759D+00    |proj g|=  1.15110D-02\n"
     ]
    },
    {
     "name": "stderr",
     "output_type": "stream",
     "text": [
      "/Users/sujaykumar/miniconda3/lib/python3.10/site-packages/statsmodels/base/model.py:607: ConvergenceWarning: Maximum Likelihood optimization failed to converge. Check mle_retvals\n",
      "  warnings.warn(\"Maximum Likelihood optimization failed to \"\n"
     ]
    },
    {
     "name": "stdout",
     "output_type": "stream",
     "text": [
      "\n",
      "At iterate   50    f=  6.95643D+00    |proj g|=  1.37012D-02\n",
      "\n",
      "           * * *\n",
      "\n",
      "Tit   = total number of iterations\n",
      "Tnf   = total number of function evaluations\n",
      "Tnint = total number of segments explored during Cauchy searches\n",
      "Skip  = number of BFGS updates skipped\n",
      "Nact  = number of active bounds at final generalized Cauchy point\n",
      "Projg = norm of the final projected gradient\n",
      "F     = final function value\n",
      "\n",
      "           * * *\n",
      "\n",
      "   N    Tit     Tnf  Tnint  Skip  Nact     Projg        F\n",
      "   11     50     52      1     0     0   1.370D-02   6.956D+00\n",
      "  F =   6.9564294094762120     \n",
      "\n",
      "STOP: TOTAL NO. of ITERATIONS REACHED LIMIT                 \n",
      "The MAPE Score is :  26.673895829512162\n",
      "The MAE Score is : 176.53182280792674\n",
      "The MAPE Score is :  26.673895829512162\n",
      "The MAE Score is : 176.53182280792674\n",
      "The MAPE Score is :  20.554849471557585\n",
      "The MAE Score is : 176.53182280792674\n",
      "The MAPE Score is :  20.554849471557585\n",
      "The MAE Score is : 176.53182280792674\n"
     ]
    },
    {
     "name": "stderr",
     "output_type": "stream",
     "text": [
      "/Users/sujaykumar/miniconda3/lib/python3.10/site-packages/statsmodels/tsa/base/tsa_model.py:836: ValueWarning: No supported index is available. Prediction results will be given with an integer index beginning at `start`.\n",
      "  return get_prediction_index(\n",
      "/Users/sujaykumar/miniconda3/lib/python3.10/site-packages/statsmodels/tsa/base/tsa_model.py:836: FutureWarning: No supported index is available. In the next version, calling this method in a model without a supported index will result in an exception.\n",
      "  return get_prediction_index(\n",
      "/Users/sujaykumar/miniconda3/lib/python3.10/site-packages/statsmodels/tsa/base/tsa_model.py:836: ValueWarning: No supported index is available. Prediction results will be given with an integer index beginning at `start`.\n",
      "  return get_prediction_index(\n",
      "/Users/sujaykumar/miniconda3/lib/python3.10/site-packages/statsmodels/tsa/base/tsa_model.py:836: FutureWarning: No supported index is available. In the next version, calling this method in a model without a supported index will result in an exception.\n",
      "  return get_prediction_index(\n",
      "/Users/sujaykumar/miniconda3/lib/python3.10/site-packages/statsmodels/tsa/base/tsa_model.py:473: ValueWarning: A date index has been provided, but it has no associated frequency information and so will be ignored when e.g. forecasting.\n",
      "  self._init_dates(dates, freq)\n",
      "/Users/sujaykumar/miniconda3/lib/python3.10/site-packages/statsmodels/tsa/base/tsa_model.py:473: ValueWarning: A date index has been provided, but it has no associated frequency information and so will be ignored when e.g. forecasting.\n",
      "  self._init_dates(dates, freq)\n",
      "/Users/sujaykumar/miniconda3/lib/python3.10/site-packages/statsmodels/tsa/statespace/representation.py:374: FutureWarning: Unknown keyword arguments: dict_keys(['orders', 'solver', 'max_iter']).Passing unknown keyword arguments will raise a TypeError beginning in version 0.15.\n",
      "  warnings.warn(msg, FutureWarning)\n",
      " This problem is unconstrained.\n"
     ]
    },
    {
     "name": "stdout",
     "output_type": "stream",
     "text": [
      "RUNNING THE L-BFGS-B CODE\n",
      "\n",
      "           * * *\n",
      "\n",
      "Machine precision = 2.220D-16\n",
      " N =           11     M =           10\n",
      "\n",
      "At X0         0 variables are exactly at the bounds\n",
      "\n",
      "At iterate    0    f=  7.09844D+00    |proj g|=  2.94981D-01\n",
      "\n",
      "At iterate    5    f=  6.96431D+00    |proj g|=  2.33318D-03\n",
      "\n",
      "At iterate   10    f=  6.96370D+00    |proj g|=  1.45109D-02\n",
      "\n",
      "At iterate   15    f=  6.95930D+00    |proj g|=  7.48870D-03\n",
      "\n",
      "At iterate   20    f=  6.95881D+00    |proj g|=  3.65300D-04\n",
      "\n",
      "At iterate   25    f=  6.95872D+00    |proj g|=  4.88745D-03\n",
      "\n",
      "At iterate   30    f=  6.95806D+00    |proj g|=  4.62817D-03\n",
      "\n",
      "At iterate   35    f=  6.95788D+00    |proj g|=  2.52900D-03\n",
      "\n",
      "At iterate   40    f=  6.95786D+00    |proj g|=  8.93481D-04\n",
      "\n",
      "At iterate   45    f=  6.95759D+00    |proj g|=  1.15110D-02\n"
     ]
    },
    {
     "name": "stderr",
     "output_type": "stream",
     "text": [
      "/Users/sujaykumar/miniconda3/lib/python3.10/site-packages/statsmodels/base/model.py:607: ConvergenceWarning: Maximum Likelihood optimization failed to converge. Check mle_retvals\n",
      "  warnings.warn(\"Maximum Likelihood optimization failed to \"\n"
     ]
    },
    {
     "name": "stdout",
     "output_type": "stream",
     "text": [
      "\n",
      "At iterate   50    f=  6.95643D+00    |proj g|=  1.37012D-02\n",
      "\n",
      "           * * *\n",
      "\n",
      "Tit   = total number of iterations\n",
      "Tnf   = total number of function evaluations\n",
      "Tnint = total number of segments explored during Cauchy searches\n",
      "Skip  = number of BFGS updates skipped\n",
      "Nact  = number of active bounds at final generalized Cauchy point\n",
      "Projg = norm of the final projected gradient\n",
      "F     = final function value\n",
      "\n",
      "           * * *\n",
      "\n",
      "   N    Tit     Tnf  Tnint  Skip  Nact     Projg        F\n",
      "   11     50     52      1     0     0   1.370D-02   6.956D+00\n",
      "  F =   6.9564294094762120     \n",
      "\n",
      "STOP: TOTAL NO. of ITERATIONS REACHED LIMIT                 \n",
      "The MAPE Score is :  26.673895829512162\n",
      "The MAE Score is : 176.53182280792674\n",
      "The MAPE Score is :  26.673895829512162\n",
      "The MAE Score is : 176.53182280792674\n",
      "The MAPE Score is :  20.554849471557585\n",
      "The MAE Score is : 176.53182280792674\n",
      "The MAPE Score is :  20.554849471557585\n",
      "The MAE Score is : 176.53182280792674\n"
     ]
    },
    {
     "name": "stderr",
     "output_type": "stream",
     "text": [
      "/Users/sujaykumar/miniconda3/lib/python3.10/site-packages/statsmodels/tsa/base/tsa_model.py:836: ValueWarning: No supported index is available. Prediction results will be given with an integer index beginning at `start`.\n",
      "  return get_prediction_index(\n",
      "/Users/sujaykumar/miniconda3/lib/python3.10/site-packages/statsmodels/tsa/base/tsa_model.py:836: FutureWarning: No supported index is available. In the next version, calling this method in a model without a supported index will result in an exception.\n",
      "  return get_prediction_index(\n",
      "/Users/sujaykumar/miniconda3/lib/python3.10/site-packages/statsmodels/tsa/base/tsa_model.py:836: ValueWarning: No supported index is available. Prediction results will be given with an integer index beginning at `start`.\n",
      "  return get_prediction_index(\n",
      "/Users/sujaykumar/miniconda3/lib/python3.10/site-packages/statsmodels/tsa/base/tsa_model.py:836: FutureWarning: No supported index is available. In the next version, calling this method in a model without a supported index will result in an exception.\n",
      "  return get_prediction_index(\n",
      "/Users/sujaykumar/miniconda3/lib/python3.10/site-packages/statsmodels/tsa/base/tsa_model.py:473: ValueWarning: A date index has been provided, but it has no associated frequency information and so will be ignored when e.g. forecasting.\n",
      "  self._init_dates(dates, freq)\n",
      "/Users/sujaykumar/miniconda3/lib/python3.10/site-packages/statsmodels/tsa/base/tsa_model.py:473: ValueWarning: A date index has been provided, but it has no associated frequency information and so will be ignored when e.g. forecasting.\n",
      "  self._init_dates(dates, freq)\n",
      "/Users/sujaykumar/miniconda3/lib/python3.10/site-packages/statsmodels/tsa/statespace/representation.py:374: FutureWarning: Unknown keyword arguments: dict_keys(['orders', 'solver', 'max_iter']).Passing unknown keyword arguments will raise a TypeError beginning in version 0.15.\n",
      "  warnings.warn(msg, FutureWarning)\n"
     ]
    },
    {
     "name": "stdout",
     "output_type": "stream",
     "text": [
      "RUNNING THE L-BFGS-B CODE\n",
      "\n",
      "           * * *\n",
      "\n",
      "Machine precision = 2.220D-16\n",
      " N =           11     M =           10\n",
      "\n",
      "At X0         0 variables are exactly at the bounds\n",
      "\n",
      "At iterate    0    f=  7.09844D+00    |proj g|=  2.94981D-01\n"
     ]
    },
    {
     "name": "stderr",
     "output_type": "stream",
     "text": [
      " This problem is unconstrained.\n"
     ]
    },
    {
     "name": "stdout",
     "output_type": "stream",
     "text": [
      "\n",
      "At iterate    5    f=  6.96431D+00    |proj g|=  2.33318D-03\n",
      "\n",
      "At iterate   10    f=  6.96370D+00    |proj g|=  1.45109D-02\n",
      "\n",
      "At iterate   15    f=  6.95930D+00    |proj g|=  7.48870D-03\n",
      "\n",
      "At iterate   20    f=  6.95881D+00    |proj g|=  3.65300D-04\n",
      "\n",
      "At iterate   25    f=  6.95872D+00    |proj g|=  4.88745D-03\n",
      "\n",
      "At iterate   30    f=  6.95806D+00    |proj g|=  4.62817D-03\n",
      "\n",
      "At iterate   35    f=  6.95788D+00    |proj g|=  2.52900D-03\n",
      "\n",
      "At iterate   40    f=  6.95786D+00    |proj g|=  8.93481D-04\n",
      "\n",
      "At iterate   45    f=  6.95759D+00    |proj g|=  1.15110D-02\n"
     ]
    },
    {
     "name": "stderr",
     "output_type": "stream",
     "text": [
      "/Users/sujaykumar/miniconda3/lib/python3.10/site-packages/statsmodels/base/model.py:607: ConvergenceWarning: Maximum Likelihood optimization failed to converge. Check mle_retvals\n",
      "  warnings.warn(\"Maximum Likelihood optimization failed to \"\n"
     ]
    },
    {
     "name": "stdout",
     "output_type": "stream",
     "text": [
      "\n",
      "At iterate   50    f=  6.95643D+00    |proj g|=  1.37012D-02\n",
      "\n",
      "           * * *\n",
      "\n",
      "Tit   = total number of iterations\n",
      "Tnf   = total number of function evaluations\n",
      "Tnint = total number of segments explored during Cauchy searches\n",
      "Skip  = number of BFGS updates skipped\n",
      "Nact  = number of active bounds at final generalized Cauchy point\n",
      "Projg = norm of the final projected gradient\n",
      "F     = final function value\n",
      "\n",
      "           * * *\n",
      "\n",
      "   N    Tit     Tnf  Tnint  Skip  Nact     Projg        F\n",
      "   11     50     52      1     0     0   1.370D-02   6.956D+00\n",
      "  F =   6.9564294094762120     \n",
      "\n",
      "STOP: TOTAL NO. of ITERATIONS REACHED LIMIT                 \n",
      "The MAPE Score is :  26.673895829512162\n",
      "The MAE Score is : 176.53182280792674\n",
      "The MAPE Score is :  26.673895829512162\n",
      "The MAE Score is : 176.53182280792674\n",
      "The MAPE Score is :  20.554849471557585\n",
      "The MAE Score is : 176.53182280792674\n",
      "The MAPE Score is :  20.554849471557585\n",
      "The MAE Score is : 176.53182280792674\n"
     ]
    },
    {
     "name": "stderr",
     "output_type": "stream",
     "text": [
      "/Users/sujaykumar/miniconda3/lib/python3.10/site-packages/statsmodels/tsa/base/tsa_model.py:836: ValueWarning: No supported index is available. Prediction results will be given with an integer index beginning at `start`.\n",
      "  return get_prediction_index(\n",
      "/Users/sujaykumar/miniconda3/lib/python3.10/site-packages/statsmodels/tsa/base/tsa_model.py:836: FutureWarning: No supported index is available. In the next version, calling this method in a model without a supported index will result in an exception.\n",
      "  return get_prediction_index(\n",
      "/Users/sujaykumar/miniconda3/lib/python3.10/site-packages/statsmodels/tsa/base/tsa_model.py:836: ValueWarning: No supported index is available. Prediction results will be given with an integer index beginning at `start`.\n",
      "  return get_prediction_index(\n",
      "/Users/sujaykumar/miniconda3/lib/python3.10/site-packages/statsmodels/tsa/base/tsa_model.py:836: FutureWarning: No supported index is available. In the next version, calling this method in a model without a supported index will result in an exception.\n",
      "  return get_prediction_index(\n",
      "/Users/sujaykumar/miniconda3/lib/python3.10/site-packages/statsmodels/tsa/base/tsa_model.py:473: ValueWarning: A date index has been provided, but it has no associated frequency information and so will be ignored when e.g. forecasting.\n",
      "  self._init_dates(dates, freq)\n",
      "/Users/sujaykumar/miniconda3/lib/python3.10/site-packages/statsmodels/tsa/base/tsa_model.py:473: ValueWarning: A date index has been provided, but it has no associated frequency information and so will be ignored when e.g. forecasting.\n",
      "  self._init_dates(dates, freq)\n",
      "/Users/sujaykumar/miniconda3/lib/python3.10/site-packages/statsmodels/tsa/statespace/representation.py:374: FutureWarning: Unknown keyword arguments: dict_keys(['orders', 'solver', 'max_iter']).Passing unknown keyword arguments will raise a TypeError beginning in version 0.15.\n",
      "  warnings.warn(msg, FutureWarning)\n",
      " This problem is unconstrained.\n"
     ]
    },
    {
     "name": "stdout",
     "output_type": "stream",
     "text": [
      "RUNNING THE L-BFGS-B CODE\n",
      "\n",
      "           * * *\n",
      "\n",
      "Machine precision = 2.220D-16\n",
      " N =           11     M =           10\n",
      "\n",
      "At X0         0 variables are exactly at the bounds\n",
      "\n",
      "At iterate    0    f=  7.09844D+00    |proj g|=  2.94981D-01\n",
      "\n",
      "At iterate    5    f=  6.96431D+00    |proj g|=  2.33318D-03\n",
      "\n",
      "At iterate   10    f=  6.96370D+00    |proj g|=  1.45109D-02\n",
      "\n",
      "At iterate   15    f=  6.95930D+00    |proj g|=  7.48870D-03\n",
      "\n",
      "At iterate   20    f=  6.95881D+00    |proj g|=  3.65300D-04\n",
      "\n",
      "At iterate   25    f=  6.95872D+00    |proj g|=  4.88745D-03\n",
      "\n",
      "At iterate   30    f=  6.95806D+00    |proj g|=  4.62817D-03\n",
      "\n",
      "At iterate   35    f=  6.95788D+00    |proj g|=  2.52900D-03\n",
      "\n",
      "At iterate   40    f=  6.95786D+00    |proj g|=  8.93481D-04\n",
      "\n",
      "At iterate   45    f=  6.95759D+00    |proj g|=  1.15110D-02\n"
     ]
    },
    {
     "name": "stderr",
     "output_type": "stream",
     "text": [
      "/Users/sujaykumar/miniconda3/lib/python3.10/site-packages/statsmodels/base/model.py:607: ConvergenceWarning: Maximum Likelihood optimization failed to converge. Check mle_retvals\n",
      "  warnings.warn(\"Maximum Likelihood optimization failed to \"\n"
     ]
    },
    {
     "name": "stdout",
     "output_type": "stream",
     "text": [
      "\n",
      "At iterate   50    f=  6.95643D+00    |proj g|=  1.37012D-02\n",
      "\n",
      "           * * *\n",
      "\n",
      "Tit   = total number of iterations\n",
      "Tnf   = total number of function evaluations\n",
      "Tnint = total number of segments explored during Cauchy searches\n",
      "Skip  = number of BFGS updates skipped\n",
      "Nact  = number of active bounds at final generalized Cauchy point\n",
      "Projg = norm of the final projected gradient\n",
      "F     = final function value\n",
      "\n",
      "           * * *\n",
      "\n",
      "   N    Tit     Tnf  Tnint  Skip  Nact     Projg        F\n",
      "   11     50     52      1     0     0   1.370D-02   6.956D+00\n",
      "  F =   6.9564294094762120     \n",
      "\n",
      "STOP: TOTAL NO. of ITERATIONS REACHED LIMIT                 \n",
      "The MAPE Score is :  26.673895829512162\n",
      "The MAE Score is : 176.53182280792674\n",
      "The MAPE Score is :  26.673895829512162\n",
      "The MAE Score is : 176.53182280792674\n",
      "The MAPE Score is :  20.554849471557585\n",
      "The MAE Score is : 176.53182280792674\n",
      "The MAPE Score is :  20.554849471557585\n",
      "The MAE Score is : 176.53182280792674\n"
     ]
    },
    {
     "name": "stderr",
     "output_type": "stream",
     "text": [
      "/Users/sujaykumar/miniconda3/lib/python3.10/site-packages/statsmodels/tsa/base/tsa_model.py:836: ValueWarning: No supported index is available. Prediction results will be given with an integer index beginning at `start`.\n",
      "  return get_prediction_index(\n",
      "/Users/sujaykumar/miniconda3/lib/python3.10/site-packages/statsmodels/tsa/base/tsa_model.py:836: FutureWarning: No supported index is available. In the next version, calling this method in a model without a supported index will result in an exception.\n",
      "  return get_prediction_index(\n",
      "/Users/sujaykumar/miniconda3/lib/python3.10/site-packages/statsmodels/tsa/base/tsa_model.py:836: ValueWarning: No supported index is available. Prediction results will be given with an integer index beginning at `start`.\n",
      "  return get_prediction_index(\n",
      "/Users/sujaykumar/miniconda3/lib/python3.10/site-packages/statsmodels/tsa/base/tsa_model.py:836: FutureWarning: No supported index is available. In the next version, calling this method in a model without a supported index will result in an exception.\n",
      "  return get_prediction_index(\n",
      "/Users/sujaykumar/miniconda3/lib/python3.10/site-packages/statsmodels/tsa/base/tsa_model.py:473: ValueWarning: A date index has been provided, but it has no associated frequency information and so will be ignored when e.g. forecasting.\n",
      "  self._init_dates(dates, freq)\n",
      "/Users/sujaykumar/miniconda3/lib/python3.10/site-packages/statsmodels/tsa/base/tsa_model.py:473: ValueWarning: A date index has been provided, but it has no associated frequency information and so will be ignored when e.g. forecasting.\n",
      "  self._init_dates(dates, freq)\n",
      "/Users/sujaykumar/miniconda3/lib/python3.10/site-packages/statsmodels/tsa/statespace/representation.py:374: FutureWarning: Unknown keyword arguments: dict_keys(['orders', 'solver', 'max_iter']).Passing unknown keyword arguments will raise a TypeError beginning in version 0.15.\n",
      "  warnings.warn(msg, FutureWarning)\n"
     ]
    },
    {
     "name": "stdout",
     "output_type": "stream",
     "text": [
      "RUNNING THE L-BFGS-B CODE\n",
      "\n",
      "           * * *\n",
      "\n",
      "Machine precision = 2.220D-16\n",
      " N =           11     M =           10\n",
      "\n",
      "At X0         0 variables are exactly at the bounds\n",
      "\n",
      "At iterate    0    f=  7.09844D+00    |proj g|=  2.94981D-01\n"
     ]
    },
    {
     "name": "stderr",
     "output_type": "stream",
     "text": [
      " This problem is unconstrained.\n"
     ]
    },
    {
     "name": "stdout",
     "output_type": "stream",
     "text": [
      "\n",
      "At iterate    5    f=  6.96431D+00    |proj g|=  2.33318D-03\n",
      "\n",
      "At iterate   10    f=  6.96370D+00    |proj g|=  1.45109D-02\n",
      "\n",
      "At iterate   15    f=  6.95930D+00    |proj g|=  7.48870D-03\n",
      "\n",
      "At iterate   20    f=  6.95881D+00    |proj g|=  3.65300D-04\n",
      "\n",
      "At iterate   25    f=  6.95872D+00    |proj g|=  4.88745D-03\n",
      "\n",
      "At iterate   30    f=  6.95806D+00    |proj g|=  4.62817D-03\n",
      "\n",
      "At iterate   35    f=  6.95788D+00    |proj g|=  2.52900D-03\n",
      "\n",
      "At iterate   40    f=  6.95786D+00    |proj g|=  8.93481D-04\n",
      "\n",
      "At iterate   45    f=  6.95759D+00    |proj g|=  1.15110D-02\n"
     ]
    },
    {
     "name": "stderr",
     "output_type": "stream",
     "text": [
      "/Users/sujaykumar/miniconda3/lib/python3.10/site-packages/statsmodels/base/model.py:607: ConvergenceWarning: Maximum Likelihood optimization failed to converge. Check mle_retvals\n",
      "  warnings.warn(\"Maximum Likelihood optimization failed to \"\n"
     ]
    },
    {
     "name": "stdout",
     "output_type": "stream",
     "text": [
      "\n",
      "At iterate   50    f=  6.95643D+00    |proj g|=  1.37012D-02\n",
      "\n",
      "           * * *\n",
      "\n",
      "Tit   = total number of iterations\n",
      "Tnf   = total number of function evaluations\n",
      "Tnint = total number of segments explored during Cauchy searches\n",
      "Skip  = number of BFGS updates skipped\n",
      "Nact  = number of active bounds at final generalized Cauchy point\n",
      "Projg = norm of the final projected gradient\n",
      "F     = final function value\n",
      "\n",
      "           * * *\n",
      "\n",
      "   N    Tit     Tnf  Tnint  Skip  Nact     Projg        F\n",
      "   11     50     52      1     0     0   1.370D-02   6.956D+00\n",
      "  F =   6.9564294094762120     \n",
      "\n",
      "STOP: TOTAL NO. of ITERATIONS REACHED LIMIT                 \n",
      "The MAPE Score is :  26.673895829512162\n",
      "The MAE Score is : 176.53182280792674\n",
      "The MAPE Score is :  26.673895829512162\n",
      "The MAE Score is : 176.53182280792674\n",
      "The MAPE Score is :  20.554849471557585\n",
      "The MAE Score is : 176.53182280792674\n",
      "The MAPE Score is :  20.554849471557585\n",
      "The MAE Score is : 176.53182280792674\n"
     ]
    },
    {
     "name": "stderr",
     "output_type": "stream",
     "text": [
      "/Users/sujaykumar/miniconda3/lib/python3.10/site-packages/statsmodels/tsa/base/tsa_model.py:836: ValueWarning: No supported index is available. Prediction results will be given with an integer index beginning at `start`.\n",
      "  return get_prediction_index(\n",
      "/Users/sujaykumar/miniconda3/lib/python3.10/site-packages/statsmodels/tsa/base/tsa_model.py:836: FutureWarning: No supported index is available. In the next version, calling this method in a model without a supported index will result in an exception.\n",
      "  return get_prediction_index(\n",
      "/Users/sujaykumar/miniconda3/lib/python3.10/site-packages/statsmodels/tsa/base/tsa_model.py:836: ValueWarning: No supported index is available. Prediction results will be given with an integer index beginning at `start`.\n",
      "  return get_prediction_index(\n",
      "/Users/sujaykumar/miniconda3/lib/python3.10/site-packages/statsmodels/tsa/base/tsa_model.py:836: FutureWarning: No supported index is available. In the next version, calling this method in a model without a supported index will result in an exception.\n",
      "  return get_prediction_index(\n",
      "/Users/sujaykumar/miniconda3/lib/python3.10/site-packages/statsmodels/tsa/base/tsa_model.py:473: ValueWarning: A date index has been provided, but it has no associated frequency information and so will be ignored when e.g. forecasting.\n",
      "  self._init_dates(dates, freq)\n",
      "/Users/sujaykumar/miniconda3/lib/python3.10/site-packages/statsmodels/tsa/base/tsa_model.py:473: ValueWarning: A date index has been provided, but it has no associated frequency information and so will be ignored when e.g. forecasting.\n",
      "  self._init_dates(dates, freq)\n",
      "/Users/sujaykumar/miniconda3/lib/python3.10/site-packages/statsmodels/tsa/statespace/representation.py:374: FutureWarning: Unknown keyword arguments: dict_keys(['orders', 'solver', 'max_iter']).Passing unknown keyword arguments will raise a TypeError beginning in version 0.15.\n",
      "  warnings.warn(msg, FutureWarning)\n"
     ]
    },
    {
     "name": "stdout",
     "output_type": "stream",
     "text": [
      "RUNNING THE L-BFGS-B CODE\n",
      "\n",
      "           * * *\n",
      "\n",
      "Machine precision = 2.220D-16\n",
      " N =           11     M =           10\n",
      "\n",
      "At X0         0 variables are exactly at the bounds\n",
      "\n",
      "At iterate    0    f=  7.09844D+00    |proj g|=  2.94981D-01\n"
     ]
    },
    {
     "name": "stderr",
     "output_type": "stream",
     "text": [
      " This problem is unconstrained.\n"
     ]
    },
    {
     "name": "stdout",
     "output_type": "stream",
     "text": [
      "\n",
      "At iterate    5    f=  6.96431D+00    |proj g|=  2.33318D-03\n",
      "\n",
      "At iterate   10    f=  6.96370D+00    |proj g|=  1.45109D-02\n",
      "\n",
      "At iterate   15    f=  6.95930D+00    |proj g|=  7.48870D-03\n",
      "\n",
      "At iterate   20    f=  6.95881D+00    |proj g|=  3.65300D-04\n",
      "\n",
      "At iterate   25    f=  6.95872D+00    |proj g|=  4.88745D-03\n",
      "\n",
      "At iterate   30    f=  6.95806D+00    |proj g|=  4.62817D-03\n",
      "\n",
      "At iterate   35    f=  6.95788D+00    |proj g|=  2.52900D-03\n",
      "\n",
      "At iterate   40    f=  6.95786D+00    |proj g|=  8.93481D-04\n",
      "\n",
      "At iterate   45    f=  6.95759D+00    |proj g|=  1.15110D-02\n"
     ]
    },
    {
     "name": "stderr",
     "output_type": "stream",
     "text": [
      "/Users/sujaykumar/miniconda3/lib/python3.10/site-packages/statsmodels/base/model.py:607: ConvergenceWarning: Maximum Likelihood optimization failed to converge. Check mle_retvals\n",
      "  warnings.warn(\"Maximum Likelihood optimization failed to \"\n"
     ]
    },
    {
     "name": "stdout",
     "output_type": "stream",
     "text": [
      "\n",
      "At iterate   50    f=  6.95643D+00    |proj g|=  1.37012D-02\n",
      "\n",
      "           * * *\n",
      "\n",
      "Tit   = total number of iterations\n",
      "Tnf   = total number of function evaluations\n",
      "Tnint = total number of segments explored during Cauchy searches\n",
      "Skip  = number of BFGS updates skipped\n",
      "Nact  = number of active bounds at final generalized Cauchy point\n",
      "Projg = norm of the final projected gradient\n",
      "F     = final function value\n",
      "\n",
      "           * * *\n",
      "\n",
      "   N    Tit     Tnf  Tnint  Skip  Nact     Projg        F\n",
      "   11     50     52      1     0     0   1.370D-02   6.956D+00\n",
      "  F =   6.9564294094762120     \n",
      "\n",
      "STOP: TOTAL NO. of ITERATIONS REACHED LIMIT                 \n",
      "The MAPE Score is :  26.673895829512162\n",
      "The MAE Score is : 176.53182280792674\n",
      "The MAPE Score is :  26.673895829512162\n",
      "The MAE Score is : 176.53182280792674\n",
      "The MAPE Score is :  20.554849471557585\n",
      "The MAE Score is : 176.53182280792674\n",
      "The MAPE Score is :  20.554849471557585\n",
      "The MAE Score is : 176.53182280792674\n"
     ]
    },
    {
     "name": "stderr",
     "output_type": "stream",
     "text": [
      "/Users/sujaykumar/miniconda3/lib/python3.10/site-packages/statsmodels/tsa/base/tsa_model.py:836: ValueWarning: No supported index is available. Prediction results will be given with an integer index beginning at `start`.\n",
      "  return get_prediction_index(\n",
      "/Users/sujaykumar/miniconda3/lib/python3.10/site-packages/statsmodels/tsa/base/tsa_model.py:836: FutureWarning: No supported index is available. In the next version, calling this method in a model without a supported index will result in an exception.\n",
      "  return get_prediction_index(\n",
      "/Users/sujaykumar/miniconda3/lib/python3.10/site-packages/statsmodels/tsa/base/tsa_model.py:836: ValueWarning: No supported index is available. Prediction results will be given with an integer index beginning at `start`.\n",
      "  return get_prediction_index(\n",
      "/Users/sujaykumar/miniconda3/lib/python3.10/site-packages/statsmodels/tsa/base/tsa_model.py:836: FutureWarning: No supported index is available. In the next version, calling this method in a model without a supported index will result in an exception.\n",
      "  return get_prediction_index(\n",
      "/Users/sujaykumar/miniconda3/lib/python3.10/site-packages/statsmodels/tsa/base/tsa_model.py:473: ValueWarning: A date index has been provided, but it has no associated frequency information and so will be ignored when e.g. forecasting.\n",
      "  self._init_dates(dates, freq)\n",
      "/Users/sujaykumar/miniconda3/lib/python3.10/site-packages/statsmodels/tsa/base/tsa_model.py:473: ValueWarning: A date index has been provided, but it has no associated frequency information and so will be ignored when e.g. forecasting.\n",
      "  self._init_dates(dates, freq)\n",
      "/Users/sujaykumar/miniconda3/lib/python3.10/site-packages/statsmodels/tsa/statespace/representation.py:374: FutureWarning: Unknown keyword arguments: dict_keys(['orders', 'solver', 'max_iter']).Passing unknown keyword arguments will raise a TypeError beginning in version 0.15.\n",
      "  warnings.warn(msg, FutureWarning)\n"
     ]
    },
    {
     "name": "stdout",
     "output_type": "stream",
     "text": [
      "RUNNING THE L-BFGS-B CODE\n",
      "\n",
      "           * * *\n",
      "\n",
      "Machine precision = 2.220D-16\n",
      " N =           11     M =           10\n",
      "\n",
      "At X0         0 variables are exactly at the bounds\n",
      "\n",
      "At iterate    0    f=  7.09844D+00    |proj g|=  2.94981D-01\n"
     ]
    },
    {
     "name": "stderr",
     "output_type": "stream",
     "text": [
      " This problem is unconstrained.\n"
     ]
    },
    {
     "name": "stdout",
     "output_type": "stream",
     "text": [
      "\n",
      "At iterate    5    f=  6.96431D+00    |proj g|=  2.33318D-03\n",
      "\n",
      "At iterate   10    f=  6.96370D+00    |proj g|=  1.45109D-02\n",
      "\n",
      "At iterate   15    f=  6.95930D+00    |proj g|=  7.48870D-03\n",
      "\n",
      "At iterate   20    f=  6.95881D+00    |proj g|=  3.65300D-04\n",
      "\n",
      "At iterate   25    f=  6.95872D+00    |proj g|=  4.88745D-03\n",
      "\n",
      "At iterate   30    f=  6.95806D+00    |proj g|=  4.62817D-03\n",
      "\n",
      "At iterate   35    f=  6.95788D+00    |proj g|=  2.52900D-03\n",
      "\n",
      "At iterate   40    f=  6.95786D+00    |proj g|=  8.93481D-04\n",
      "\n",
      "At iterate   45    f=  6.95759D+00    |proj g|=  1.15110D-02\n"
     ]
    },
    {
     "name": "stderr",
     "output_type": "stream",
     "text": [
      "/Users/sujaykumar/miniconda3/lib/python3.10/site-packages/statsmodels/base/model.py:607: ConvergenceWarning: Maximum Likelihood optimization failed to converge. Check mle_retvals\n",
      "  warnings.warn(\"Maximum Likelihood optimization failed to \"\n"
     ]
    },
    {
     "name": "stdout",
     "output_type": "stream",
     "text": [
      "\n",
      "At iterate   50    f=  6.95643D+00    |proj g|=  1.37012D-02\n",
      "\n",
      "           * * *\n",
      "\n",
      "Tit   = total number of iterations\n",
      "Tnf   = total number of function evaluations\n",
      "Tnint = total number of segments explored during Cauchy searches\n",
      "Skip  = number of BFGS updates skipped\n",
      "Nact  = number of active bounds at final generalized Cauchy point\n",
      "Projg = norm of the final projected gradient\n",
      "F     = final function value\n",
      "\n",
      "           * * *\n",
      "\n",
      "   N    Tit     Tnf  Tnint  Skip  Nact     Projg        F\n",
      "   11     50     52      1     0     0   1.370D-02   6.956D+00\n",
      "  F =   6.9564294094762120     \n",
      "\n",
      "STOP: TOTAL NO. of ITERATIONS REACHED LIMIT                 \n",
      "The MAPE Score is :  26.673895829512162\n",
      "The MAE Score is : 176.53182280792674\n",
      "The MAPE Score is :  26.673895829512162\n",
      "The MAE Score is : 176.53182280792674\n",
      "The MAPE Score is :  20.554849471557585\n",
      "The MAE Score is : 176.53182280792674\n",
      "The MAPE Score is :  20.554849471557585\n",
      "The MAE Score is : 176.53182280792674\n"
     ]
    },
    {
     "name": "stderr",
     "output_type": "stream",
     "text": [
      "/Users/sujaykumar/miniconda3/lib/python3.10/site-packages/statsmodels/tsa/base/tsa_model.py:836: ValueWarning: No supported index is available. Prediction results will be given with an integer index beginning at `start`.\n",
      "  return get_prediction_index(\n",
      "/Users/sujaykumar/miniconda3/lib/python3.10/site-packages/statsmodels/tsa/base/tsa_model.py:836: FutureWarning: No supported index is available. In the next version, calling this method in a model without a supported index will result in an exception.\n",
      "  return get_prediction_index(\n",
      "/Users/sujaykumar/miniconda3/lib/python3.10/site-packages/statsmodels/tsa/base/tsa_model.py:836: ValueWarning: No supported index is available. Prediction results will be given with an integer index beginning at `start`.\n",
      "  return get_prediction_index(\n",
      "/Users/sujaykumar/miniconda3/lib/python3.10/site-packages/statsmodels/tsa/base/tsa_model.py:836: FutureWarning: No supported index is available. In the next version, calling this method in a model without a supported index will result in an exception.\n",
      "  return get_prediction_index(\n"
     ]
    }
   ],
   "source": [
    "orders = [(0,2,1),(8,0,8),(8,1,8),(9,0,7),(9,1,7),(8,0,9),(8,1,9)]\n",
    "for o in orders:\n",
    "    try:\n",
    "        res = SARIMAX(df1_train,orders=o,seasonal_order=(3,0,6,7),solver='lbfgs', max_iter=100).fit()\n",
    "        results2.append((3,6,res.aic,res.bic,get_MAPE_MAE(df1_train,res)[0],get_MAPE_MAE(df1_train,res)[1],get_MAPE_MAE_test(df1_test,res)[0],get_MAPE_MAE_test(df1_test,res)[1]))\n",
    "    except:\n",
    "        results2.append((3,6,None,None,None,None,None,None))\n",
    "results2 = pd.DataFrame(results2,columns=['P','Q','AIC','BIC','MAPE_train','MAE_train','MAPE_test','MAE_test'])"
   ]
  },
  {
   "cell_type": "code",
   "execution_count": 21,
   "id": "2fc59617",
   "metadata": {},
   "outputs": [],
   "source": [
    "results2.to_csv(\"sarima_results2.csv\")"
   ]
  },
  {
   "cell_type": "code",
   "execution_count": null,
   "id": "df3b2b51",
   "metadata": {},
   "outputs": [],
   "source": []
  }
 ],
 "metadata": {
  "kernelspec": {
   "display_name": "Python 3 (ipykernel)",
   "language": "python",
   "name": "python3"
  },
  "language_info": {
   "codemirror_mode": {
    "name": "ipython",
    "version": 3
   },
   "file_extension": ".py",
   "mimetype": "text/x-python",
   "name": "python",
   "nbconvert_exporter": "python",
   "pygments_lexer": "ipython3",
   "version": "3.10.10"
  }
 },
 "nbformat": 4,
 "nbformat_minor": 5
}
