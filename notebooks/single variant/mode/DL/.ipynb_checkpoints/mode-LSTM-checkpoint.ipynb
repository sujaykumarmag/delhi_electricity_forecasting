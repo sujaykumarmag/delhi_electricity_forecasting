{
 "cells": [
  {
   "cell_type": "code",
   "execution_count": 1,
   "id": "037cc7ca",
   "metadata": {},
   "outputs": [],
   "source": [
    "import pandas as pd\n",
    "import numpy as np\n",
    "from keras.models import Sequential\n",
    "from keras.layers import LSTM, Dense"
   ]
  },
  {
   "cell_type": "code",
   "execution_count": 2,
   "id": "8f8b23c3",
   "metadata": {},
   "outputs": [],
   "source": [
    "data = pd.read_csv(\"../../../../main/sub_data/single_variant/mode/train/train_mode.csv\",index_col=\"Date\",parse_dates=True)\n",
    "df_test = pd.read_csv(\"../../../../main/sub_data/single_variant/mode/test/test_mode.csv\",index_col=\"Date\",parse_dates=True)"
   ]
  },
  {
   "cell_type": "code",
   "execution_count": 3,
   "id": "a1ebcb23",
   "metadata": {},
   "outputs": [],
   "source": [
    "# Data preparation\n",
    "data = np.array(data)\n",
    "sequence_length = 10  # Length of input sequences\n",
    "n_features = 1  # Number of features (variables) in your time series data"
   ]
  },
  {
   "cell_type": "code",
   "execution_count": 4,
   "id": "190ca5dc",
   "metadata": {},
   "outputs": [],
   "source": [
    "# Create input sequences and corresponding output values\n",
    "sequences = []\n",
    "targets = []\n",
    "for i in range(len(data) - sequence_length):\n",
    "    sequences.append(data[i : i + sequence_length])\n",
    "    targets.append(data[i + sequence_length])"
   ]
  },
  {
   "cell_type": "code",
   "execution_count": 5,
   "id": "95aa2acb",
   "metadata": {},
   "outputs": [],
   "source": [
    "# Convert lists to NumPy arrays\n",
    "sequences = np.array(sequences)\n",
    "targets = np.array(targets)\n",
    "\n",
    "# Reshape the input sequences to fit the LSTM input shape\n",
    "sequences = sequences.reshape((sequences.shape[0], sequence_length, n_features))\n"
   ]
  },
  {
   "cell_type": "code",
   "execution_count": 6,
   "id": "bccc330d",
   "metadata": {},
   "outputs": [],
   "source": [
    "# Split the data into training and testing sets\n",
    "train_size = int(0.8 * len(sequences))\n",
    "train_sequences = sequences[:train_size]\n",
    "train_targets = targets[:train_size]\n",
    "test_sequences = sequences[train_size:]\n",
    "test_targets = targets[train_size:]"
   ]
  },
  {
   "cell_type": "code",
   "execution_count": 7,
   "id": "b515cdcb",
   "metadata": {},
   "outputs": [],
   "source": [
    "# Calculate MAPE (Mean Absolute Percentage Error)\n",
    "def calculate_mape(y_true, y_pred):\n",
    "    return np.mean(np.abs((y_true - y_pred) / y_true)) * 100\n",
    "\n",
    "# Calculate MAE (Mean Absolute Error)\n",
    "def calculate_mae(y_true, y_pred):\n",
    "    return np.mean(np.abs(y_true - y_pred))"
   ]
  },
  {
   "cell_type": "code",
   "execution_count": 8,
   "id": "6f91087c",
   "metadata": {},
   "outputs": [
    {
     "name": "stdout",
     "output_type": "stream",
     "text": [
      "Metal device set to: Apple M1\n"
     ]
    }
   ],
   "source": [
    "# Model definition\n",
    "model = Sequential()\n",
    "model.add(LSTM(50, input_shape=(sequence_length, n_features)))\n",
    "model.add(Dense(1))  # Output layer with one neuron for regression\n"
   ]
  },
  {
   "cell_type": "code",
   "execution_count": 9,
   "id": "b0f4ac12",
   "metadata": {
    "scrolled": true
   },
   "outputs": [
    {
     "name": "stdout",
     "output_type": "stream",
     "text": [
      "Epoch 1/50\n"
     ]
    },
    {
     "name": "stderr",
     "output_type": "stream",
     "text": [
      "2023-07-17 20:04:50.401033: W tensorflow/tsl/platform/profile_utils/cpu_utils.cc:128] Failed to get CPU frequency: 0 Hz\n"
     ]
    },
    {
     "name": "stdout",
     "output_type": "stream",
     "text": [
      "92/92 [==============================] - 3s 7ms/step - loss: 18909816.0000\n",
      "Epoch 2/50\n",
      "92/92 [==============================] - 1s 6ms/step - loss: 18900038.0000\n",
      "Epoch 3/50\n",
      "92/92 [==============================] - 1s 6ms/step - loss: 18890934.0000\n",
      "Epoch 4/50\n",
      "92/92 [==============================] - 1s 6ms/step - loss: 18881986.0000\n",
      "Epoch 5/50\n",
      "92/92 [==============================] - 1s 6ms/step - loss: 18873080.0000\n",
      "Epoch 6/50\n",
      "92/92 [==============================] - 1s 6ms/step - loss: 18864200.0000\n",
      "Epoch 7/50\n",
      "92/92 [==============================] - 1s 6ms/step - loss: 18855332.0000\n",
      "Epoch 8/50\n",
      "92/92 [==============================] - 1s 6ms/step - loss: 18846476.0000\n",
      "Epoch 9/50\n",
      "92/92 [==============================] - 1s 6ms/step - loss: 18837626.0000\n",
      "Epoch 10/50\n",
      "92/92 [==============================] - 1s 6ms/step - loss: 18828784.0000\n",
      "Epoch 11/50\n",
      "92/92 [==============================] - 1s 6ms/step - loss: 18819956.0000\n",
      "Epoch 12/50\n",
      "92/92 [==============================] - 1s 6ms/step - loss: 18811126.0000\n",
      "Epoch 13/50\n",
      "92/92 [==============================] - 1s 6ms/step - loss: 18802310.0000\n",
      "Epoch 14/50\n",
      "92/92 [==============================] - 1s 6ms/step - loss: 18793490.0000\n",
      "Epoch 15/50\n",
      "92/92 [==============================] - 1s 6ms/step - loss: 18784680.0000\n",
      "Epoch 16/50\n",
      "92/92 [==============================] - 1s 6ms/step - loss: 18775872.0000\n",
      "Epoch 17/50\n",
      "92/92 [==============================] - 1s 6ms/step - loss: 18767064.0000\n",
      "Epoch 18/50\n",
      "92/92 [==============================] - 1s 6ms/step - loss: 18758268.0000\n",
      "Epoch 19/50\n",
      "92/92 [==============================] - 1s 9ms/step - loss: 18749466.0000\n",
      "Epoch 20/50\n",
      "92/92 [==============================] - 1s 10ms/step - loss: 18740680.0000\n",
      "Epoch 21/50\n",
      "92/92 [==============================] - 1s 10ms/step - loss: 18731892.0000\n",
      "Epoch 22/50\n",
      "92/92 [==============================] - 1s 9ms/step - loss: 18723108.0000\n",
      "Epoch 23/50\n",
      "92/92 [==============================] - 1s 9ms/step - loss: 18714322.0000\n",
      "Epoch 24/50\n",
      "92/92 [==============================] - 1s 9ms/step - loss: 18705540.0000\n",
      "Epoch 25/50\n",
      "92/92 [==============================] - 1s 8ms/step - loss: 18696768.0000\n",
      "Epoch 26/50\n",
      "92/92 [==============================] - 1s 7ms/step - loss: 18685158.0000\n",
      "Epoch 27/50\n",
      "92/92 [==============================] - 1s 8ms/step - loss: 18673842.0000\n",
      "Epoch 28/50\n",
      "92/92 [==============================] - 1s 7ms/step - loss: 18664690.0000\n",
      "Epoch 29/50\n",
      "92/92 [==============================] - 1s 7ms/step - loss: 18655580.0000\n",
      "Epoch 30/50\n",
      "92/92 [==============================] - 1s 9ms/step - loss: 18646486.0000\n",
      "Epoch 31/50\n",
      "92/92 [==============================] - 1s 8ms/step - loss: 18637420.0000\n",
      "Epoch 32/50\n",
      "92/92 [==============================] - 1s 7ms/step - loss: 18628366.0000\n",
      "Epoch 33/50\n",
      "92/92 [==============================] - 1s 7ms/step - loss: 18619330.0000\n",
      "Epoch 34/50\n",
      "92/92 [==============================] - 1s 7ms/step - loss: 18610300.0000\n",
      "Epoch 35/50\n",
      "92/92 [==============================] - 1s 7ms/step - loss: 18601290.0000\n",
      "Epoch 36/50\n",
      "92/92 [==============================] - 1s 8ms/step - loss: 18592290.0000\n",
      "Epoch 37/50\n",
      "92/92 [==============================] - 1s 7ms/step - loss: 18583304.0000\n",
      "Epoch 38/50\n",
      "92/92 [==============================] - 1s 7ms/step - loss: 18574322.0000\n",
      "Epoch 39/50\n",
      "92/92 [==============================] - 1s 7ms/step - loss: 18565344.0000\n",
      "Epoch 40/50\n",
      "92/92 [==============================] - 1s 7ms/step - loss: 18556386.0000\n",
      "Epoch 41/50\n",
      "92/92 [==============================] - 1s 7ms/step - loss: 18547426.0000\n",
      "Epoch 42/50\n",
      "92/92 [==============================] - 1s 7ms/step - loss: 18538470.0000\n",
      "Epoch 43/50\n",
      "92/92 [==============================] - 1s 7ms/step - loss: 18529522.0000\n",
      "Epoch 44/50\n",
      "92/92 [==============================] - 1s 7ms/step - loss: 18520584.0000\n",
      "Epoch 45/50\n",
      "92/92 [==============================] - 1s 8ms/step - loss: 18511648.0000\n",
      "Epoch 46/50\n",
      "92/92 [==============================] - 1s 7ms/step - loss: 18502714.0000\n",
      "Epoch 47/50\n",
      "92/92 [==============================] - 1s 8ms/step - loss: 18493798.0000\n",
      "Epoch 48/50\n",
      "92/92 [==============================] - 1s 7ms/step - loss: 18484878.0000\n",
      "Epoch 49/50\n",
      "92/92 [==============================] - 1s 7ms/step - loss: 18475964.0000\n",
      "Epoch 50/50\n",
      "92/92 [==============================] - 1s 7ms/step - loss: 18467050.0000\n"
     ]
    },
    {
     "data": {
      "text/plain": [
       "<keras.callbacks.History at 0x1681ad600>"
      ]
     },
     "execution_count": 9,
     "metadata": {},
     "output_type": "execute_result"
    }
   ],
   "source": [
    "# Compile the model\n",
    "model.compile(optimizer='adam', loss='mse')\n",
    "\n",
    "# Model training\n",
    "model.fit(train_sequences,train_targets, epochs=50, batch_size=32)"
   ]
  },
  {
   "cell_type": "code",
   "execution_count": 10,
   "id": "ed3ed83c",
   "metadata": {},
   "outputs": [
    {
     "name": "stdout",
     "output_type": "stream",
     "text": [
      "23/23 [==============================] - 0s 4ms/step - loss: 22675274.0000\n",
      "Test loss: 22675274.0\n"
     ]
    }
   ],
   "source": [
    "loss = model.evaluate(test_sequences, test_targets)\n",
    "print(f'Test loss: {loss}')"
   ]
  },
  {
   "cell_type": "code",
   "execution_count": 11,
   "id": "f6001fcf",
   "metadata": {},
   "outputs": [
    {
     "name": "stdout",
     "output_type": "stream",
     "text": [
      "23/23 [==============================] - 0s 3ms/step\n",
      "MAPE: 98.78446857653708\n",
      "MAE: 4636.028482839364\n"
     ]
    }
   ],
   "source": [
    "predictions = model.predict(test_sequences)\n",
    "mape = calculate_mape(test_targets, predictions)\n",
    "print(f'MAPE: {mape}')\n",
    "mae = calculate_mae(test_targets, predictions)\n",
    "print(f'MAE: {mae}')"
   ]
  },
  {
   "cell_type": "code",
   "execution_count": 12,
   "id": "d4b567cb",
   "metadata": {},
   "outputs": [],
   "source": [
    "# Model definition\n",
    "model = Sequential()\n",
    "model.add(LSTM(50, input_shape=(sequence_length, n_features)))\n",
    "model.add(Dense(50))\n",
    "model.add(Dense(1))  # Output layer with one neuron for regression"
   ]
  },
  {
   "cell_type": "code",
   "execution_count": 13,
   "id": "3d107a24",
   "metadata": {
    "scrolled": true
   },
   "outputs": [
    {
     "name": "stdout",
     "output_type": "stream",
     "text": [
      "Epoch 1/50\n",
      "92/92 [==============================] - 2s 8ms/step - loss: 18850108.0000\n",
      "Epoch 2/50\n",
      "92/92 [==============================] - 1s 7ms/step - loss: 18629330.0000\n",
      "Epoch 3/50\n",
      "92/92 [==============================] - 1s 7ms/step - loss: 18205050.0000\n",
      "Epoch 4/50\n",
      "92/92 [==============================] - 1s 7ms/step - loss: 17574574.0000\n",
      "Epoch 5/50\n",
      "92/92 [==============================] - 1s 7ms/step - loss: 16760045.0000\n",
      "Epoch 6/50\n",
      "92/92 [==============================] - 1s 7ms/step - loss: 15790579.0000\n",
      "Epoch 7/50\n",
      "92/92 [==============================] - 1s 7ms/step - loss: 14696901.0000\n",
      "Epoch 8/50\n",
      "92/92 [==============================] - 1s 7ms/step - loss: 13512201.0000\n",
      "Epoch 9/50\n",
      "92/92 [==============================] - 1s 7ms/step - loss: 12271161.0000\n",
      "Epoch 10/50\n",
      "92/92 [==============================] - 1s 7ms/step - loss: 10888192.0000\n",
      "Epoch 11/50\n",
      "92/92 [==============================] - 1s 7ms/step - loss: 9576710.0000\n",
      "Epoch 12/50\n",
      "92/92 [==============================] - 1s 7ms/step - loss: 8333175.5000\n",
      "Epoch 13/50\n",
      "92/92 [==============================] - 1s 7ms/step - loss: 7159200.0000\n",
      "Epoch 14/50\n",
      "92/92 [==============================] - 1s 7ms/step - loss: 6075783.0000\n",
      "Epoch 15/50\n",
      "92/92 [==============================] - 1s 8ms/step - loss: 5095531.5000\n",
      "Epoch 16/50\n",
      "92/92 [==============================] - 1s 9ms/step - loss: 4229738.0000\n",
      "Epoch 17/50\n",
      "92/92 [==============================] - 1s 9ms/step - loss: 3482719.2500\n",
      "Epoch 18/50\n",
      "92/92 [==============================] - 1s 7ms/step - loss: 2854887.5000\n",
      "Epoch 19/50\n",
      "92/92 [==============================] - 1s 7ms/step - loss: 2341678.7500\n",
      "Epoch 20/50\n",
      "92/92 [==============================] - 1s 7ms/step - loss: 1933761.6250\n",
      "Epoch 21/50\n",
      "92/92 [==============================] - 1s 6ms/step - loss: 1619786.7500\n",
      "Epoch 22/50\n",
      "92/92 [==============================] - 1s 7ms/step - loss: 1385740.5000\n",
      "Epoch 23/50\n",
      "92/92 [==============================] - 1s 8ms/step - loss: 1217210.8750\n",
      "Epoch 24/50\n",
      "92/92 [==============================] - 1s 7ms/step - loss: 1099938.0000\n",
      "Epoch 25/50\n",
      "92/92 [==============================] - 1s 7ms/step - loss: 1021718.5000\n",
      "Epoch 26/50\n",
      "92/92 [==============================] - 1s 8ms/step - loss: 971525.3125\n",
      "Epoch 27/50\n",
      "92/92 [==============================] - 1s 7ms/step - loss: 940282.2500\n",
      "Epoch 28/50\n",
      "92/92 [==============================] - 1s 7ms/step - loss: 921906.7500\n",
      "Epoch 29/50\n",
      "92/92 [==============================] - 1s 7ms/step - loss: 911488.9375\n",
      "Epoch 30/50\n",
      "92/92 [==============================] - 1s 7ms/step - loss: 905728.0000\n",
      "Epoch 31/50\n",
      "92/92 [==============================] - 1s 7ms/step - loss: 902737.3125\n",
      "Epoch 32/50\n",
      "92/92 [==============================] - 1s 7ms/step - loss: 901075.0000\n",
      "Epoch 33/50\n",
      "92/92 [==============================] - 1s 8ms/step - loss: 900323.0625\n",
      "Epoch 34/50\n",
      "92/92 [==============================] - 1s 9ms/step - loss: 899974.2500\n",
      "Epoch 35/50\n",
      "92/92 [==============================] - 1s 9ms/step - loss: 899823.3750\n",
      "Epoch 36/50\n",
      "92/92 [==============================] - 1s 10ms/step - loss: 899781.8750\n",
      "Epoch 37/50\n",
      "92/92 [==============================] - 1s 9ms/step - loss: 899767.7500\n",
      "Epoch 38/50\n",
      "92/92 [==============================] - 1s 9ms/step - loss: 899729.0625\n",
      "Epoch 39/50\n",
      "92/92 [==============================] - 1s 9ms/step - loss: 899696.8125\n",
      "Epoch 40/50\n",
      "92/92 [==============================] - 1s 9ms/step - loss: 899724.6875\n",
      "Epoch 41/50\n",
      "92/92 [==============================] - 1s 10ms/step - loss: 899754.0000\n",
      "Epoch 42/50\n",
      "92/92 [==============================] - 1s 8ms/step - loss: 899710.6250\n",
      "Epoch 43/50\n",
      "92/92 [==============================] - 1s 8ms/step - loss: 899765.7500\n",
      "Epoch 44/50\n",
      "92/92 [==============================] - 1s 7ms/step - loss: 899745.6875\n",
      "Epoch 45/50\n",
      "92/92 [==============================] - 1s 7ms/step - loss: 900029.6875\n",
      "Epoch 46/50\n",
      "92/92 [==============================] - 1s 7ms/step - loss: 899827.6250\n",
      "Epoch 47/50\n",
      "92/92 [==============================] - 1s 7ms/step - loss: 899788.6875\n",
      "Epoch 48/50\n",
      "92/92 [==============================] - 1s 7ms/step - loss: 899844.4375\n",
      "Epoch 49/50\n",
      "92/92 [==============================] - 1s 7ms/step - loss: 899801.8125\n",
      "Epoch 50/50\n",
      "92/92 [==============================] - 1s 7ms/step - loss: 899777.5000\n"
     ]
    },
    {
     "data": {
      "text/plain": [
       "<keras.callbacks.History at 0x17978b0a0>"
      ]
     },
     "execution_count": 13,
     "metadata": {},
     "output_type": "execute_result"
    }
   ],
   "source": [
    "# Compile the model\n",
    "model.compile(optimizer='adam', loss='mse')\n",
    "\n",
    "# Model training\n",
    "model.fit(train_sequences,train_targets, epochs=50, batch_size=32)"
   ]
  },
  {
   "cell_type": "code",
   "execution_count": 14,
   "id": "530b7ae0",
   "metadata": {},
   "outputs": [
    {
     "name": "stdout",
     "output_type": "stream",
     "text": [
      "23/23 [==============================] - 0s 3ms/step\n",
      "MAPE: 18.529365689158624\n",
      "MAE: 926.9216378348215\n"
     ]
    }
   ],
   "source": [
    "predictions = model.predict(test_sequences)\n",
    "mape = calculate_mape(test_targets, predictions)\n",
    "print(f'MAPE: {mape}')\n",
    "mae = calculate_mae(test_targets, predictions)\n",
    "print(f'MAE: {mae}')"
   ]
  },
  {
   "cell_type": "code",
   "execution_count": 15,
   "id": "f1f9f33c",
   "metadata": {},
   "outputs": [],
   "source": [
    "from keras.layers import Bidirectional\n",
    "\n",
    "# Model definition\n",
    "model = Sequential()\n",
    "model.add(Bidirectional(LSTM(50, input_shape=(sequence_length, n_features))))\n",
    "model.add(Dense(1))"
   ]
  },
  {
   "cell_type": "code",
   "execution_count": 16,
   "id": "eead4c0c",
   "metadata": {
    "scrolled": true
   },
   "outputs": [
    {
     "name": "stdout",
     "output_type": "stream",
     "text": [
      "Epoch 1/50\n",
      "92/92 [==============================] - 2s 11ms/step - loss: 18906286.0000\n",
      "Epoch 2/50\n",
      "92/92 [==============================] - 1s 10ms/step - loss: 18883178.0000\n",
      "Epoch 3/50\n",
      "92/92 [==============================] - 1s 10ms/step - loss: 18861204.0000\n",
      "Epoch 4/50\n",
      "92/92 [==============================] - 1s 10ms/step - loss: 18839280.0000\n",
      "Epoch 5/50\n",
      "92/92 [==============================] - 1s 11ms/step - loss: 18817362.0000\n",
      "Epoch 6/50\n",
      "92/92 [==============================] - 1s 11ms/step - loss: 18795472.0000\n",
      "Epoch 7/50\n",
      "92/92 [==============================] - 1s 10ms/step - loss: 18773592.0000\n",
      "Epoch 8/50\n",
      "92/92 [==============================] - 1s 10ms/step - loss: 18751734.0000\n",
      "Epoch 9/50\n",
      "92/92 [==============================] - 1s 10ms/step - loss: 18729896.0000\n",
      "Epoch 10/50\n",
      "92/92 [==============================] - 1s 10ms/step - loss: 18708066.0000\n",
      "Epoch 11/50\n",
      "92/92 [==============================] - 1s 13ms/step - loss: 18686262.0000\n",
      "Epoch 12/50\n",
      "92/92 [==============================] - 1s 14ms/step - loss: 18664480.0000\n",
      "Epoch 13/50\n",
      "92/92 [==============================] - 1s 13ms/step - loss: 18642696.0000\n",
      "Epoch 14/50\n",
      "92/92 [==============================] - 1s 13ms/step - loss: 18620954.0000\n",
      "Epoch 15/50\n",
      "92/92 [==============================] - 1s 13ms/step - loss: 18599214.0000\n",
      "Epoch 16/50\n",
      "92/92 [==============================] - 1s 13ms/step - loss: 18577494.0000\n",
      "Epoch 17/50\n",
      "92/92 [==============================] - 1s 13ms/step - loss: 18555788.0000\n",
      "Epoch 18/50\n",
      "92/92 [==============================] - 1s 13ms/step - loss: 18534108.0000\n",
      "Epoch 19/50\n",
      "92/92 [==============================] - 1s 12ms/step - loss: 18512438.0000\n",
      "Epoch 20/50\n",
      "92/92 [==============================] - 1s 12ms/step - loss: 18490788.0000\n",
      "Epoch 21/50\n",
      "92/92 [==============================] - 1s 12ms/step - loss: 18469154.0000\n",
      "Epoch 22/50\n",
      "92/92 [==============================] - 1s 11ms/step - loss: 18447538.0000\n",
      "Epoch 23/50\n",
      "92/92 [==============================] - 1s 11ms/step - loss: 18425940.0000\n",
      "Epoch 24/50\n",
      "92/92 [==============================] - 1s 11ms/step - loss: 18404348.0000\n",
      "Epoch 25/50\n",
      "92/92 [==============================] - 1s 11ms/step - loss: 18382786.0000\n",
      "Epoch 26/50\n",
      "92/92 [==============================] - 1s 12ms/step - loss: 18361244.0000\n",
      "Epoch 27/50\n",
      "92/92 [==============================] - 1s 12ms/step - loss: 18339708.0000\n",
      "Epoch 28/50\n",
      "92/92 [==============================] - 1s 12ms/step - loss: 18318186.0000\n",
      "Epoch 29/50\n",
      "92/92 [==============================] - 1s 11ms/step - loss: 18296676.0000\n",
      "Epoch 30/50\n",
      "92/92 [==============================] - 1s 12ms/step - loss: 18275186.0000\n",
      "Epoch 31/50\n",
      "92/92 [==============================] - 1s 10ms/step - loss: 18253704.0000\n",
      "Epoch 32/50\n",
      "92/92 [==============================] - 1s 10ms/step - loss: 18232246.0000\n",
      "Epoch 33/50\n",
      "92/92 [==============================] - 1s 11ms/step - loss: 18210788.0000\n",
      "Epoch 34/50\n",
      "92/92 [==============================] - 1s 11ms/step - loss: 18189364.0000\n",
      "Epoch 35/50\n",
      "92/92 [==============================] - 1s 11ms/step - loss: 18167940.0000\n",
      "Epoch 36/50\n",
      "92/92 [==============================] - 1s 11ms/step - loss: 18146536.0000\n",
      "Epoch 37/50\n",
      "92/92 [==============================] - 1s 10ms/step - loss: 18125146.0000\n",
      "Epoch 38/50\n",
      "92/92 [==============================] - 1s 10ms/step - loss: 18103772.0000\n",
      "Epoch 39/50\n",
      "92/92 [==============================] - 1s 10ms/step - loss: 18082410.0000\n",
      "Epoch 40/50\n",
      "92/92 [==============================] - 1s 10ms/step - loss: 18061060.0000\n",
      "Epoch 41/50\n",
      "92/92 [==============================] - 1s 10ms/step - loss: 18039736.0000\n",
      "Epoch 42/50\n",
      "92/92 [==============================] - 1s 10ms/step - loss: 18018418.0000\n",
      "Epoch 43/50\n",
      "92/92 [==============================] - 1s 10ms/step - loss: 17997120.0000\n",
      "Epoch 44/50\n",
      "92/92 [==============================] - 1s 10ms/step - loss: 17975828.0000\n",
      "Epoch 45/50\n",
      "92/92 [==============================] - 1s 10ms/step - loss: 17954554.0000\n",
      "Epoch 46/50\n",
      "92/92 [==============================] - 1s 10ms/step - loss: 17933302.0000\n",
      "Epoch 47/50\n",
      "92/92 [==============================] - 1s 10ms/step - loss: 17912050.0000\n",
      "Epoch 48/50\n",
      "92/92 [==============================] - 1s 10ms/step - loss: 17890816.0000\n",
      "Epoch 49/50\n",
      "92/92 [==============================] - 1s 10ms/step - loss: 17869596.0000\n",
      "Epoch 50/50\n",
      "92/92 [==============================] - 1s 10ms/step - loss: 17848384.0000\n"
     ]
    },
    {
     "data": {
      "text/plain": [
       "<keras.callbacks.History at 0x17e9dd660>"
      ]
     },
     "execution_count": 16,
     "metadata": {},
     "output_type": "execute_result"
    }
   ],
   "source": [
    "# Compile the model\n",
    "model.compile(optimizer='adam', loss='mse')\n",
    "\n",
    "# Model training\n",
    "model.fit(train_sequences,train_targets, epochs=50, batch_size=32)"
   ]
  },
  {
   "cell_type": "code",
   "execution_count": 17,
   "id": "3b12750b",
   "metadata": {},
   "outputs": [
    {
     "name": "stdout",
     "output_type": "stream",
     "text": [
      "23/23 [==============================] - 0s 5ms/step\n",
      "MAPE: 97.09574558248788\n",
      "MAE: 4560.800787374276\n"
     ]
    }
   ],
   "source": [
    "predictions = model.predict(test_sequences)\n",
    "mape = calculate_mape(test_targets, predictions)\n",
    "print(f'MAPE: {mape}')\n",
    "mae = calculate_mae(test_targets, predictions)\n",
    "print(f'MAE: {mae}')"
   ]
  },
  {
   "cell_type": "code",
   "execution_count": 18,
   "id": "f3189952",
   "metadata": {},
   "outputs": [],
   "source": [
    "# Model definition\n",
    "model = Sequential()\n",
    "model.add(LSTM(50, input_shape=(sequence_length, n_features)))\n",
    "model.add(Dense(50))\n",
    "model.add(Dense(50))\n",
    "model.add(Dense(1))  # Output layer with one neuron for regression"
   ]
  },
  {
   "cell_type": "code",
   "execution_count": 19,
   "id": "29e8ee35",
   "metadata": {
    "scrolled": true
   },
   "outputs": [
    {
     "name": "stdout",
     "output_type": "stream",
     "text": [
      "Epoch 1/50\n",
      "92/92 [==============================] - 1s 9ms/step - loss: 18669978.0000\n",
      "Epoch 2/50\n",
      "92/92 [==============================] - 1s 8ms/step - loss: 15626326.0000\n",
      "Epoch 3/50\n",
      "92/92 [==============================] - 1s 9ms/step - loss: 6936592.0000\n",
      "Epoch 4/50\n",
      "92/92 [==============================] - 1s 8ms/step - loss: 1361932.0000\n",
      "Epoch 5/50\n",
      "92/92 [==============================] - 1s 8ms/step - loss: 901935.5000\n",
      "Epoch 6/50\n",
      "92/92 [==============================] - 1s 8ms/step - loss: 899688.8750\n",
      "Epoch 7/50\n",
      "92/92 [==============================] - 1s 8ms/step - loss: 900615.2500\n",
      "Epoch 8/50\n",
      "92/92 [==============================] - 1s 8ms/step - loss: 900848.3750\n",
      "Epoch 9/50\n",
      "92/92 [==============================] - 1s 8ms/step - loss: 900565.0000\n",
      "Epoch 10/50\n",
      "92/92 [==============================] - 1s 8ms/step - loss: 900565.5625\n",
      "Epoch 11/50\n",
      "92/92 [==============================] - 1s 8ms/step - loss: 901371.6250\n",
      "Epoch 12/50\n",
      "92/92 [==============================] - 1s 8ms/step - loss: 901049.0625\n",
      "Epoch 13/50\n",
      "92/92 [==============================] - 1s 8ms/step - loss: 901034.8125\n",
      "Epoch 14/50\n",
      "92/92 [==============================] - 1s 9ms/step - loss: 900569.3125\n",
      "Epoch 15/50\n",
      "92/92 [==============================] - 1s 9ms/step - loss: 901380.2500\n",
      "Epoch 16/50\n",
      "92/92 [==============================] - 1s 8ms/step - loss: 901233.5625\n",
      "Epoch 17/50\n",
      "92/92 [==============================] - 1s 8ms/step - loss: 901259.6250\n",
      "Epoch 18/50\n",
      "92/92 [==============================] - 1s 8ms/step - loss: 901167.0625\n",
      "Epoch 19/50\n",
      "92/92 [==============================] - 1s 8ms/step - loss: 900952.3125\n",
      "Epoch 20/50\n",
      "92/92 [==============================] - 1s 8ms/step - loss: 901585.1250\n",
      "Epoch 21/50\n",
      "92/92 [==============================] - 1s 8ms/step - loss: 901157.8125\n",
      "Epoch 22/50\n",
      "92/92 [==============================] - 1s 8ms/step - loss: 901092.6875\n",
      "Epoch 23/50\n",
      "92/92 [==============================] - 1s 8ms/step - loss: 900986.4375\n",
      "Epoch 24/50\n",
      "92/92 [==============================] - 1s 8ms/step - loss: 900929.3125\n",
      "Epoch 25/50\n",
      "92/92 [==============================] - 1s 8ms/step - loss: 900845.1875\n",
      "Epoch 26/50\n",
      "92/92 [==============================] - 1s 8ms/step - loss: 901390.5000\n",
      "Epoch 27/50\n",
      "92/92 [==============================] - 1s 8ms/step - loss: 900846.3750\n",
      "Epoch 28/50\n",
      "92/92 [==============================] - 1s 8ms/step - loss: 900323.3125\n",
      "Epoch 29/50\n",
      "92/92 [==============================] - 1s 8ms/step - loss: 901733.3125\n",
      "Epoch 30/50\n",
      "92/92 [==============================] - 1s 8ms/step - loss: 900662.5625\n",
      "Epoch 31/50\n",
      "92/92 [==============================] - 1s 8ms/step - loss: 903400.7500\n",
      "Epoch 32/50\n",
      "92/92 [==============================] - 1s 8ms/step - loss: 901753.0000\n",
      "Epoch 33/50\n",
      "92/92 [==============================] - 1s 8ms/step - loss: 899746.1875\n",
      "Epoch 34/50\n",
      "92/92 [==============================] - 1s 9ms/step - loss: 900790.0625\n",
      "Epoch 35/50\n",
      "92/92 [==============================] - 1s 8ms/step - loss: 899832.4375\n",
      "Epoch 36/50\n",
      "92/92 [==============================] - 1s 8ms/step - loss: 902058.0000\n",
      "Epoch 37/50\n",
      "92/92 [==============================] - 1s 9ms/step - loss: 898745.9375\n",
      "Epoch 38/50\n",
      "92/92 [==============================] - 1s 9ms/step - loss: 903056.5000\n",
      "Epoch 39/50\n",
      "92/92 [==============================] - 1s 9ms/step - loss: 902391.1250\n",
      "Epoch 40/50\n",
      "92/92 [==============================] - 1s 8ms/step - loss: 905778.1875\n",
      "Epoch 41/50\n",
      "92/92 [==============================] - 1s 8ms/step - loss: 901843.8750\n",
      "Epoch 42/50\n",
      "92/92 [==============================] - 1s 8ms/step - loss: 901891.2500\n",
      "Epoch 43/50\n",
      "92/92 [==============================] - 1s 8ms/step - loss: 903387.8125\n",
      "Epoch 44/50\n",
      "92/92 [==============================] - 1s 8ms/step - loss: 903251.1250\n",
      "Epoch 45/50\n",
      "92/92 [==============================] - 1s 9ms/step - loss: 902981.7500\n",
      "Epoch 46/50\n",
      "92/92 [==============================] - 1s 8ms/step - loss: 901513.4375\n",
      "Epoch 47/50\n",
      "92/92 [==============================] - 1s 8ms/step - loss: 900348.0000\n",
      "Epoch 48/50\n",
      "92/92 [==============================] - 1s 8ms/step - loss: 901253.0000\n",
      "Epoch 49/50\n",
      "92/92 [==============================] - 1s 8ms/step - loss: 900954.0625\n",
      "Epoch 50/50\n",
      "92/92 [==============================] - 1s 9ms/step - loss: 900829.1250\n"
     ]
    },
    {
     "data": {
      "text/plain": [
       "<keras.callbacks.History at 0x287350f70>"
      ]
     },
     "execution_count": 19,
     "metadata": {},
     "output_type": "execute_result"
    }
   ],
   "source": [
    "# Compile the model\n",
    "model.compile(optimizer='adam', loss='mse')\n",
    "\n",
    "# Model training\n",
    "model.fit(train_sequences,train_targets, epochs=50, batch_size=32)"
   ]
  },
  {
   "cell_type": "code",
   "execution_count": 20,
   "id": "9005c4e3",
   "metadata": {},
   "outputs": [
    {
     "name": "stdout",
     "output_type": "stream",
     "text": [
      "23/23 [==============================] - 0s 3ms/step\n",
      "MAPE: 18.516766287628837\n",
      "MAE: 928.7559078709609\n"
     ]
    }
   ],
   "source": [
    "predictions = model.predict(test_sequences)\n",
    "mape = calculate_mape(test_targets, predictions)\n",
    "print(f'MAPE: {mape}')\n",
    "mae = calculate_mae(test_targets, predictions)\n",
    "print(f'MAE: {mae}')"
   ]
  },
  {
   "cell_type": "code",
   "execution_count": 21,
   "id": "2ad585a6",
   "metadata": {},
   "outputs": [],
   "source": [
    "# Model definition\n",
    "model = Sequential()\n",
    "model.add(LSTM(50, input_shape=(sequence_length, n_features)))\n",
    "model.add(Dense(50))\n",
    "model.add(Dense(50))\n",
    "model.add(Dense(50))\n",
    "model.add(Dense(50))\n",
    "model.add(Dense(1))  # Output layer with one neuron for regression"
   ]
  },
  {
   "cell_type": "code",
   "execution_count": 22,
   "id": "d1ef61d7",
   "metadata": {
    "scrolled": true
   },
   "outputs": [
    {
     "name": "stdout",
     "output_type": "stream",
     "text": [
      "Epoch 1/50\n",
      "92/92 [==============================] - 2s 12ms/step - loss: 11965635.0000\n",
      "Epoch 2/50\n",
      "92/92 [==============================] - 1s 11ms/step - loss: 912442.6875\n",
      "Epoch 3/50\n",
      "92/92 [==============================] - 1s 9ms/step - loss: 901930.5625\n",
      "Epoch 4/50\n",
      "92/92 [==============================] - 1s 9ms/step - loss: 914841.5000\n",
      "Epoch 5/50\n",
      "92/92 [==============================] - 1s 10ms/step - loss: 902568.5000\n",
      "Epoch 6/50\n",
      "92/92 [==============================] - 1s 9ms/step - loss: 905407.4375\n",
      "Epoch 7/50\n",
      "92/92 [==============================] - 1s 9ms/step - loss: 903763.3125\n",
      "Epoch 8/50\n",
      "92/92 [==============================] - 1s 9ms/step - loss: 905574.8750\n",
      "Epoch 9/50\n",
      "92/92 [==============================] - 1s 10ms/step - loss: 904553.7500\n",
      "Epoch 10/50\n",
      "92/92 [==============================] - 1s 10ms/step - loss: 913339.7500\n",
      "Epoch 11/50\n",
      "92/92 [==============================] - 1s 11ms/step - loss: 908970.1250\n",
      "Epoch 12/50\n",
      "92/92 [==============================] - 1s 11ms/step - loss: 916371.5625\n",
      "Epoch 13/50\n",
      "92/92 [==============================] - 1s 11ms/step - loss: 913503.0000\n",
      "Epoch 14/50\n",
      "92/92 [==============================] - 1s 11ms/step - loss: 911310.6875\n",
      "Epoch 15/50\n",
      "92/92 [==============================] - 1s 10ms/step - loss: 910216.5000\n",
      "Epoch 16/50\n",
      "92/92 [==============================] - 1s 10ms/step - loss: 912556.8750\n",
      "Epoch 17/50\n",
      "92/92 [==============================] - 1s 10ms/step - loss: 905813.1875\n",
      "Epoch 18/50\n",
      "92/92 [==============================] - 1s 11ms/step - loss: 911203.6250\n",
      "Epoch 19/50\n",
      "92/92 [==============================] - 1s 11ms/step - loss: 907064.7500\n",
      "Epoch 20/50\n",
      "92/92 [==============================] - 1s 10ms/step - loss: 917061.1875\n",
      "Epoch 21/50\n",
      "92/92 [==============================] - 1s 10ms/step - loss: 903952.1250\n",
      "Epoch 22/50\n",
      "92/92 [==============================] - 1s 10ms/step - loss: 908297.5625\n",
      "Epoch 23/50\n",
      "92/92 [==============================] - 1s 10ms/step - loss: 908889.3125\n",
      "Epoch 24/50\n",
      "92/92 [==============================] - 1s 10ms/step - loss: 936634.8750\n",
      "Epoch 25/50\n",
      "92/92 [==============================] - 1s 9ms/step - loss: 906856.0000\n",
      "Epoch 26/50\n",
      "92/92 [==============================] - 1s 9ms/step - loss: 908792.7500\n",
      "Epoch 27/50\n",
      "92/92 [==============================] - 1s 9ms/step - loss: 914769.8750\n",
      "Epoch 28/50\n",
      "92/92 [==============================] - 1s 11ms/step - loss: 905529.4375\n",
      "Epoch 29/50\n",
      "92/92 [==============================] - 1s 11ms/step - loss: 904259.5625\n",
      "Epoch 30/50\n",
      "92/92 [==============================] - 1s 11ms/step - loss: 918986.8125\n",
      "Epoch 31/50\n",
      "92/92 [==============================] - 1s 11ms/step - loss: 913900.1250\n",
      "Epoch 32/50\n",
      "92/92 [==============================] - 1s 11ms/step - loss: 906664.9375\n",
      "Epoch 33/50\n",
      "92/92 [==============================] - 1s 10ms/step - loss: 909997.4375\n",
      "Epoch 34/50\n",
      "92/92 [==============================] - 1s 10ms/step - loss: 914415.3750\n",
      "Epoch 35/50\n",
      "92/92 [==============================] - 1s 10ms/step - loss: 910273.2500\n",
      "Epoch 36/50\n",
      "92/92 [==============================] - 1s 10ms/step - loss: 913107.3125\n",
      "Epoch 37/50\n",
      "92/92 [==============================] - 1s 10ms/step - loss: 910691.0000\n",
      "Epoch 38/50\n",
      "92/92 [==============================] - 1s 10ms/step - loss: 911210.3125\n",
      "Epoch 39/50\n",
      "92/92 [==============================] - 1s 10ms/step - loss: 912581.0000\n",
      "Epoch 40/50\n",
      "92/92 [==============================] - 1s 10ms/step - loss: 920268.5000\n",
      "Epoch 41/50\n",
      "92/92 [==============================] - 1s 10ms/step - loss: 912111.5000\n",
      "Epoch 42/50\n",
      "92/92 [==============================] - 1s 11ms/step - loss: 913260.7500\n",
      "Epoch 43/50\n",
      "92/92 [==============================] - 1s 10ms/step - loss: 911177.1875\n",
      "Epoch 44/50\n",
      "92/92 [==============================] - 1s 10ms/step - loss: 906967.1250\n",
      "Epoch 45/50\n",
      "92/92 [==============================] - 1s 10ms/step - loss: 906521.0000\n",
      "Epoch 46/50\n",
      "92/92 [==============================] - 1s 11ms/step - loss: 910619.5625\n",
      "Epoch 47/50\n",
      "92/92 [==============================] - 1s 11ms/step - loss: 909190.1250\n",
      "Epoch 48/50\n",
      "92/92 [==============================] - 1s 10ms/step - loss: 919265.3125\n",
      "Epoch 49/50\n",
      "92/92 [==============================] - 1s 10ms/step - loss: 915092.3750\n",
      "Epoch 50/50\n",
      "92/92 [==============================] - 1s 9ms/step - loss: 907494.5625\n"
     ]
    },
    {
     "data": {
      "text/plain": [
       "<keras.callbacks.History at 0x282f6b910>"
      ]
     },
     "execution_count": 22,
     "metadata": {},
     "output_type": "execute_result"
    }
   ],
   "source": [
    "# Compile the model\n",
    "model.compile(optimizer='adam', loss='mse')\n",
    "\n",
    "# Model training\n",
    "model.fit(train_sequences,train_targets, epochs=50, batch_size=32)"
   ]
  },
  {
   "cell_type": "code",
   "execution_count": 23,
   "id": "899066a9",
   "metadata": {},
   "outputs": [
    {
     "name": "stdout",
     "output_type": "stream",
     "text": [
      "23/23 [==============================] - 0s 3ms/step\n",
      "MAPE: 18.602433141588502\n",
      "MAE: 920.225479644983\n"
     ]
    }
   ],
   "source": [
    "predictions = model.predict(test_sequences)\n",
    "mape = calculate_mape(test_targets, predictions)\n",
    "print(f'MAPE: {mape}')\n",
    "mae = calculate_mae(test_targets, predictions)\n",
    "print(f'MAE: {mae}')"
   ]
  },
  {
   "cell_type": "code",
   "execution_count": null,
   "id": "d0cffe15",
   "metadata": {},
   "outputs": [],
   "source": []
  }
 ],
 "metadata": {
  "kernelspec": {
   "display_name": "Python 3.10 (tensorflow)",
   "language": "python",
   "name": "tensorflow"
  },
  "language_info": {
   "codemirror_mode": {
    "name": "ipython",
    "version": 3
   },
   "file_extension": ".py",
   "mimetype": "text/x-python",
   "name": "python",
   "nbconvert_exporter": "python",
   "pygments_lexer": "ipython3",
   "version": "3.10.11"
  }
 },
 "nbformat": 4,
 "nbformat_minor": 5
}
