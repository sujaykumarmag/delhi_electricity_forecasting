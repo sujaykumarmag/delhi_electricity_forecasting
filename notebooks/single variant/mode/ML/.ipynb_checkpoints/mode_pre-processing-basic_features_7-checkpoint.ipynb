{
 "cells": [
  {
   "cell_type": "code",
   "execution_count": 1,
   "id": "1e6f9c59",
   "metadata": {},
   "outputs": [],
   "source": [
    "import pandas as pd\n",
    "import numpy as np\n",
    "import os\n",
    "import matplotlib.pyplot as plt\n",
    "from sklearn.linear_model import Ridge\n",
    "from sklearn.model_selection import cross_val_score\n",
    "from sklearn.model_selection import train_test_split\n",
    "from sklearn.metrics import r2_score\n",
    "from sklearn.metrics import mean_absolute_percentage_error as MAPE"
   ]
  },
  {
   "cell_type": "code",
   "execution_count": 2,
   "id": "2958d288",
   "metadata": {},
   "outputs": [],
   "source": [
    "df = pd.read_csv(\"../../../../main/sub_data/single_variant/mode/train/train_mode.csv\",index_col=\"Date\",parse_dates=True)\n",
    "df_test = pd.read_csv(\"../../../../main/sub_data/single_variant/mode/test/test_mode.csv\",index_col=\"Date\",parse_dates=True)"
   ]
  },
  {
   "cell_type": "code",
   "execution_count": 3,
   "id": "394e26d3",
   "metadata": {},
   "outputs": [
    {
     "data": {
      "text/html": [
       "<div>\n",
       "<style scoped>\n",
       "    .dataframe tbody tr th:only-of-type {\n",
       "        vertical-align: middle;\n",
       "    }\n",
       "\n",
       "    .dataframe tbody tr th {\n",
       "        vertical-align: top;\n",
       "    }\n",
       "\n",
       "    .dataframe thead th {\n",
       "        text-align: right;\n",
       "    }\n",
       "</style>\n",
       "<table border=\"1\" class=\"dataframe\">\n",
       "  <thead>\n",
       "    <tr style=\"text-align: right;\">\n",
       "      <th></th>\n",
       "      <th>Max.Demand met during the day (MW)</th>\n",
       "    </tr>\n",
       "    <tr>\n",
       "      <th>Date</th>\n",
       "      <th></th>\n",
       "    </tr>\n",
       "  </thead>\n",
       "  <tbody>\n",
       "    <tr>\n",
       "      <th>2013-04-01</th>\n",
       "      <td>2776.0</td>\n",
       "    </tr>\n",
       "    <tr>\n",
       "      <th>2013-04-02</th>\n",
       "      <td>3034.0</td>\n",
       "    </tr>\n",
       "    <tr>\n",
       "      <th>2013-04-03</th>\n",
       "      <td>2991.0</td>\n",
       "    </tr>\n",
       "    <tr>\n",
       "      <th>2013-04-04</th>\n",
       "      <td>3125.0</td>\n",
       "    </tr>\n",
       "    <tr>\n",
       "      <th>2013-04-05</th>\n",
       "      <td>3160.0</td>\n",
       "    </tr>\n",
       "    <tr>\n",
       "      <th>...</th>\n",
       "      <td>...</td>\n",
       "    </tr>\n",
       "    <tr>\n",
       "      <th>2023-04-26</th>\n",
       "      <td>4445.0</td>\n",
       "    </tr>\n",
       "    <tr>\n",
       "      <th>2023-04-27</th>\n",
       "      <td>4626.0</td>\n",
       "    </tr>\n",
       "    <tr>\n",
       "      <th>2023-04-28</th>\n",
       "      <td>4395.0</td>\n",
       "    </tr>\n",
       "    <tr>\n",
       "      <th>2023-04-29</th>\n",
       "      <td>4048.0</td>\n",
       "    </tr>\n",
       "    <tr>\n",
       "      <th>2023-04-30</th>\n",
       "      <td>3791.0</td>\n",
       "    </tr>\n",
       "  </tbody>\n",
       "</table>\n",
       "<p>3682 rows × 1 columns</p>\n",
       "</div>"
      ],
      "text/plain": [
       "            Max.Demand met during the day (MW)\n",
       "Date                                          \n",
       "2013-04-01                              2776.0\n",
       "2013-04-02                              3034.0\n",
       "2013-04-03                              2991.0\n",
       "2013-04-04                              3125.0\n",
       "2013-04-05                              3160.0\n",
       "...                                        ...\n",
       "2023-04-26                              4445.0\n",
       "2023-04-27                              4626.0\n",
       "2023-04-28                              4395.0\n",
       "2023-04-29                              4048.0\n",
       "2023-04-30                              3791.0\n",
       "\n",
       "[3682 rows x 1 columns]"
      ]
     },
     "execution_count": 3,
     "metadata": {},
     "output_type": "execute_result"
    }
   ],
   "source": [
    "df"
   ]
  },
  {
   "cell_type": "markdown",
   "id": "a715e6ef",
   "metadata": {},
   "source": [
    "## Transforming Data\n",
    "    \n",
    "    The Steps adopted for Transformation are\n",
    "<ul>\n",
    "    <li>Rolling Window</li>\n",
    "    <li>Outliers Replacement</li>\n",
    "</ul>"
   ]
  },
  {
   "cell_type": "code",
   "execution_count": 4,
   "id": "a3d56169",
   "metadata": {},
   "outputs": [],
   "source": [
    "# We use Aggregate method (for this, we need a function)\n",
    "def percent_change(series):\n",
    "    prev = series[:-1]\n",
    "    last = series[-1:]\n",
    "    change = (last-np.sum(prev))/np.sum(prev)\n",
    "    return change\n",
    "\n",
    "def replace_outliers(series):\n",
    "    mean_diff = np.abs(series - np.mean(series))\n",
    "    # Criteria for detecting outliers\n",
    "    this_mask = mean_diff > (np.std(series) * 3)\n",
    "    # replace it with median\n",
    "    series[this_mask] = np.nanmedian(series)\n",
    "    return series"
   ]
  },
  {
   "cell_type": "code",
   "execution_count": 5,
   "id": "e58dbb29",
   "metadata": {},
   "outputs": [],
   "source": [
    "'''\n",
    "    Rolling : A rolling window of every size (n) is applied to every column\n",
    "    After applying an n size NaN Values will be available\n",
    "    \n",
    "'''\n",
    "df_per_ch = df.rolling(10).aggregate(percent_change).dropna()"
   ]
  },
  {
   "cell_type": "code",
   "execution_count": 6,
   "id": "2cb72a95",
   "metadata": {},
   "outputs": [
    {
     "data": {
      "text/html": [
       "<div>\n",
       "<style scoped>\n",
       "    .dataframe tbody tr th:only-of-type {\n",
       "        vertical-align: middle;\n",
       "    }\n",
       "\n",
       "    .dataframe tbody tr th {\n",
       "        vertical-align: top;\n",
       "    }\n",
       "\n",
       "    .dataframe thead th {\n",
       "        text-align: right;\n",
       "    }\n",
       "</style>\n",
       "<table border=\"1\" class=\"dataframe\">\n",
       "  <thead>\n",
       "    <tr style=\"text-align: right;\">\n",
       "      <th></th>\n",
       "      <th>Max.Demand met during the day (MW)</th>\n",
       "    </tr>\n",
       "    <tr>\n",
       "      <th>Date</th>\n",
       "      <th></th>\n",
       "    </tr>\n",
       "  </thead>\n",
       "  <tbody>\n",
       "    <tr>\n",
       "      <th>2013-04-10</th>\n",
       "      <td>-0.879993</td>\n",
       "    </tr>\n",
       "    <tr>\n",
       "      <th>2013-04-11</th>\n",
       "      <td>-0.875218</td>\n",
       "    </tr>\n",
       "    <tr>\n",
       "      <th>2013-04-12</th>\n",
       "      <td>-0.878073</td>\n",
       "    </tr>\n",
       "    <tr>\n",
       "      <th>2013-04-13</th>\n",
       "      <td>-0.879480</td>\n",
       "    </tr>\n",
       "    <tr>\n",
       "      <th>2013-04-14</th>\n",
       "      <td>-0.893184</td>\n",
       "    </tr>\n",
       "    <tr>\n",
       "      <th>...</th>\n",
       "      <td>...</td>\n",
       "    </tr>\n",
       "    <tr>\n",
       "      <th>2023-04-26</th>\n",
       "      <td>-0.893719</td>\n",
       "    </tr>\n",
       "    <tr>\n",
       "      <th>2023-04-27</th>\n",
       "      <td>-0.887743</td>\n",
       "    </tr>\n",
       "    <tr>\n",
       "      <th>2023-04-28</th>\n",
       "      <td>-0.891511</td>\n",
       "    </tr>\n",
       "    <tr>\n",
       "      <th>2023-04-29</th>\n",
       "      <td>-0.897968</td>\n",
       "    </tr>\n",
       "    <tr>\n",
       "      <th>2023-04-30</th>\n",
       "      <td>-0.902026</td>\n",
       "    </tr>\n",
       "  </tbody>\n",
       "</table>\n",
       "<p>3673 rows × 1 columns</p>\n",
       "</div>"
      ],
      "text/plain": [
       "            Max.Demand met during the day (MW)\n",
       "Date                                          \n",
       "2013-04-10                           -0.879993\n",
       "2013-04-11                           -0.875218\n",
       "2013-04-12                           -0.878073\n",
       "2013-04-13                           -0.879480\n",
       "2013-04-14                           -0.893184\n",
       "...                                        ...\n",
       "2023-04-26                           -0.893719\n",
       "2023-04-27                           -0.887743\n",
       "2023-04-28                           -0.891511\n",
       "2023-04-29                           -0.897968\n",
       "2023-04-30                           -0.902026\n",
       "\n",
       "[3673 rows x 1 columns]"
      ]
     },
     "execution_count": 6,
     "metadata": {},
     "output_type": "execute_result"
    }
   ],
   "source": [
    "df_per_ch"
   ]
  },
  {
   "cell_type": "code",
   "execution_count": 7,
   "id": "49d0be7d",
   "metadata": {},
   "outputs": [
    {
     "data": {
      "image/png": "[encoded data removed]",
      "text/plain": [
       "<Figure size 640x480 with 1 Axes>"
      ]
     },
     "metadata": {},
     "output_type": "display_data"
    }
   ],
   "source": [
    "# Now Visualize it\n",
    "df_per_ch.loc[:\"2014\"].plot()\n",
    "plt.show()"
   ]
  },
  {
   "cell_type": "code",
   "execution_count": 8,
   "id": "cc82c94c",
   "metadata": {},
   "outputs": [],
   "source": [
    "df_per_ch = df_per_ch.apply(lambda col : replace_outliers(col))"
   ]
  },
  {
   "cell_type": "code",
   "execution_count": 9,
   "id": "07727ad5",
   "metadata": {},
   "outputs": [
    {
     "data": {
      "image/png": "[encoded data removed]",
      "text/plain": [
       "<Figure size 640x480 with 1 Axes>"
      ]
     },
     "metadata": {},
     "output_type": "display_data"
    }
   ],
   "source": [
    "# Now Visualize it\n",
    "df_per_ch.loc[:\"2014\"].plot()\n",
    "plt.show()"
   ]
  },
  {
   "cell_type": "code",
   "execution_count": 10,
   "id": "66c65e96",
   "metadata": {},
   "outputs": [],
   "source": [
    "features_basic = df_per_ch.rolling(7,min_periods=5, closed='right').aggregate([np.max,np.min,np.mean,np.std]).dropna()"
   ]
  },
  {
   "cell_type": "code",
   "execution_count": 11,
   "id": "ae59dbdc",
   "metadata": {},
   "outputs": [
    {
     "data": {
      "text/html": [
       "<div>\n",
       "<style scoped>\n",
       "    .dataframe tbody tr th:only-of-type {\n",
       "        vertical-align: middle;\n",
       "    }\n",
       "\n",
       "    .dataframe tbody tr th {\n",
       "        vertical-align: top;\n",
       "    }\n",
       "\n",
       "    .dataframe thead tr th {\n",
       "        text-align: left;\n",
       "    }\n",
       "\n",
       "    .dataframe thead tr:last-of-type th {\n",
       "        text-align: right;\n",
       "    }\n",
       "</style>\n",
       "<table border=\"1\" class=\"dataframe\">\n",
       "  <thead>\n",
       "    <tr>\n",
       "      <th></th>\n",
       "      <th colspan=\"4\" halign=\"left\">Max.Demand met during the day (MW)</th>\n",
       "    </tr>\n",
       "    <tr>\n",
       "      <th></th>\n",
       "      <th>amax</th>\n",
       "      <th>amin</th>\n",
       "      <th>mean</th>\n",
       "      <th>std</th>\n",
       "    </tr>\n",
       "    <tr>\n",
       "      <th>Date</th>\n",
       "      <th></th>\n",
       "      <th></th>\n",
       "      <th></th>\n",
       "      <th></th>\n",
       "    </tr>\n",
       "  </thead>\n",
       "  <tbody>\n",
       "    <tr>\n",
       "      <th>2023-05-14</th>\n",
       "      <td>-0.863081</td>\n",
       "      <td>-0.871281</td>\n",
       "      <td>-0.867774</td>\n",
       "      <td>0.003343</td>\n",
       "    </tr>\n",
       "    <tr>\n",
       "      <th>2023-05-15</th>\n",
       "      <td>-0.863081</td>\n",
       "      <td>-0.871281</td>\n",
       "      <td>-0.867105</td>\n",
       "      <td>0.003408</td>\n",
       "    </tr>\n",
       "    <tr>\n",
       "      <th>2023-05-16</th>\n",
       "      <td>-0.863081</td>\n",
       "      <td>-0.871281</td>\n",
       "      <td>-0.867353</td>\n",
       "      <td>0.003179</td>\n",
       "    </tr>\n",
       "    <tr>\n",
       "      <th>2023-05-17</th>\n",
       "      <td>-0.863081</td>\n",
       "      <td>-0.871281</td>\n",
       "      <td>-0.867346</td>\n",
       "      <td>0.003172</td>\n",
       "    </tr>\n",
       "    <tr>\n",
       "      <th>2023-05-18</th>\n",
       "      <td>-0.863081</td>\n",
       "      <td>-0.880159</td>\n",
       "      <td>-0.869069</td>\n",
       "      <td>0.005819</td>\n",
       "    </tr>\n",
       "    <tr>\n",
       "      <th>2023-05-19</th>\n",
       "      <td>-0.863764</td>\n",
       "      <td>-0.885684</td>\n",
       "      <td>-0.872298</td>\n",
       "      <td>0.007857</td>\n",
       "    </tr>\n",
       "    <tr>\n",
       "      <th>2023-05-20</th>\n",
       "      <td>-0.863764</td>\n",
       "      <td>-0.889092</td>\n",
       "      <td>-0.875599</td>\n",
       "      <td>0.009454</td>\n",
       "    </tr>\n",
       "    <tr>\n",
       "      <th>2023-05-21</th>\n",
       "      <td>-0.863764</td>\n",
       "      <td>-0.889092</td>\n",
       "      <td>-0.876714</td>\n",
       "      <td>0.009319</td>\n",
       "    </tr>\n",
       "    <tr>\n",
       "      <th>2023-05-22</th>\n",
       "      <td>-0.868835</td>\n",
       "      <td>-0.889092</td>\n",
       "      <td>-0.877811</td>\n",
       "      <td>0.007882</td>\n",
       "    </tr>\n",
       "    <tr>\n",
       "      <th>2023-05-23</th>\n",
       "      <td>-0.867543</td>\n",
       "      <td>-0.889092</td>\n",
       "      <td>-0.877627</td>\n",
       "      <td>0.008138</td>\n",
       "    </tr>\n",
       "    <tr>\n",
       "      <th>2023-05-24</th>\n",
       "      <td>-0.867543</td>\n",
       "      <td>-0.889092</td>\n",
       "      <td>-0.879532</td>\n",
       "      <td>0.007709</td>\n",
       "    </tr>\n",
       "    <tr>\n",
       "      <th>2023-05-25</th>\n",
       "      <td>-0.867543</td>\n",
       "      <td>-0.895520</td>\n",
       "      <td>-0.881727</td>\n",
       "      <td>0.009815</td>\n",
       "    </tr>\n",
       "    <tr>\n",
       "      <th>2023-05-26</th>\n",
       "      <td>-0.867543</td>\n",
       "      <td>-0.906149</td>\n",
       "      <td>-0.884650</td>\n",
       "      <td>0.013534</td>\n",
       "    </tr>\n",
       "    <tr>\n",
       "      <th>2023-05-27</th>\n",
       "      <td>-0.867543</td>\n",
       "      <td>-0.906149</td>\n",
       "      <td>-0.886699</td>\n",
       "      <td>0.015289</td>\n",
       "    </tr>\n",
       "    <tr>\n",
       "      <th>2023-05-28</th>\n",
       "      <td>-0.867543</td>\n",
       "      <td>-0.907654</td>\n",
       "      <td>-0.890780</td>\n",
       "      <td>0.016669</td>\n",
       "    </tr>\n",
       "    <tr>\n",
       "      <th>2023-05-29</th>\n",
       "      <td>-0.867543</td>\n",
       "      <td>-0.907654</td>\n",
       "      <td>-0.895772</td>\n",
       "      <td>0.015069</td>\n",
       "    </tr>\n",
       "    <tr>\n",
       "      <th>2023-05-30</th>\n",
       "      <td>-0.883720</td>\n",
       "      <td>-0.907654</td>\n",
       "      <td>-0.900909</td>\n",
       "      <td>0.008569</td>\n",
       "    </tr>\n",
       "    <tr>\n",
       "      <th>2023-05-31</th>\n",
       "      <td>-0.895520</td>\n",
       "      <td>-0.909672</td>\n",
       "      <td>-0.904616</td>\n",
       "      <td>0.004577</td>\n",
       "    </tr>\n",
       "  </tbody>\n",
       "</table>\n",
       "</div>"
      ],
      "text/plain": [
       "           Max.Demand met during the day (MW)                              \n",
       "                                         amax      amin      mean       std\n",
       "Date                                                                       \n",
       "2023-05-14                          -0.863081 -0.871281 -0.867774  0.003343\n",
       "2023-05-15                          -0.863081 -0.871281 -0.867105  0.003408\n",
       "2023-05-16                          -0.863081 -0.871281 -0.867353  0.003179\n",
       "2023-05-17                          -0.863081 -0.871281 -0.867346  0.003172\n",
       "2023-05-18                          -0.863081 -0.880159 -0.869069  0.005819\n",
       "2023-05-19                          -0.863764 -0.885684 -0.872298  0.007857\n",
       "2023-05-20                          -0.863764 -0.889092 -0.875599  0.009454\n",
       "2023-05-21                          -0.863764 -0.889092 -0.876714  0.009319\n",
       "2023-05-22                          -0.868835 -0.889092 -0.877811  0.007882\n",
       "2023-05-23                          -0.867543 -0.889092 -0.877627  0.008138\n",
       "2023-05-24                          -0.867543 -0.889092 -0.879532  0.007709\n",
       "2023-05-25                          -0.867543 -0.895520 -0.881727  0.009815\n",
       "2023-05-26                          -0.867543 -0.906149 -0.884650  0.013534\n",
       "2023-05-27                          -0.867543 -0.906149 -0.886699  0.015289\n",
       "2023-05-28                          -0.867543 -0.907654 -0.890780  0.016669\n",
       "2023-05-29                          -0.867543 -0.907654 -0.895772  0.015069\n",
       "2023-05-30                          -0.883720 -0.907654 -0.900909  0.008569\n",
       "2023-05-31                          -0.895520 -0.909672 -0.904616  0.004577"
      ]
     },
     "execution_count": 11,
     "metadata": {},
     "output_type": "execute_result"
    }
   ],
   "source": [
    "df_test1 = df_test.rolling(10).aggregate(percent_change).dropna()\n",
    "features_basic_test1 = df_test1.rolling(7,min_periods=5, closed='right').aggregate([np.max,np.min,np.mean,np.std]).dropna()\n",
    "features_basic_test1.dropna()"
   ]
  },
  {
   "cell_type": "code",
   "execution_count": 12,
   "id": "9dd3d12f",
   "metadata": {},
   "outputs": [],
   "source": [
    "cols = features_basic.columns\n",
    "X_train = features_basic\n",
    "y_train = df.loc[\"2013-04-14\":]\n",
    "X_test = features_basic_test1.dropna()\n",
    "y_test = df_test.loc['2023-05-14':]"
   ]
  },
  {
   "cell_type": "code",
   "execution_count": 13,
   "id": "5c3bd423",
   "metadata": {},
   "outputs": [
    {
     "data": {
      "text/plain": [
       "0.1778231290178359"
      ]
     },
     "execution_count": 13,
     "metadata": {},
     "output_type": "execute_result"
    }
   ],
   "source": [
    "# Fit the Ridge model\n",
    "model = Ridge()\n",
    "model.fit(X_train, y_train)\n",
    "y_pred = model.predict(X_test)\n",
    "MAPE(y_test,y_pred)"
   ]
  },
  {
   "cell_type": "code",
   "execution_count": 14,
   "id": "7c2ab979",
   "metadata": {},
   "outputs": [
    {
     "data": {
      "text/plain": [
       "0.10302164627522609"
      ]
     },
     "execution_count": 14,
     "metadata": {},
     "output_type": "execute_result"
    }
   ],
   "source": [
    "from sklearn.linear_model import Lasso\n",
    "lasso = Lasso(alpha=0.1)\n",
    "lasso.fit(X_train, y_train)\n",
    "y_pred = lasso.predict(X_test)\n",
    "MAPE(y_test,y_pred)"
   ]
  },
  {
   "cell_type": "code",
   "execution_count": 15,
   "id": "64bb0a0c",
   "metadata": {},
   "outputs": [
    {
     "name": "stderr",
     "output_type": "stream",
     "text": [
      "/Users/sujaykumar/miniconda3/lib/python3.10/site-packages/sklearn/ensemble/_gb.py:437: DataConversionWarning: A column-vector y was passed when a 1d array was expected. Please change the shape of y to (n_samples, ), for example using ravel().\n",
      "  y = column_or_1d(y, warn=True)\n"
     ]
    },
    {
     "data": {
      "text/plain": [
       "0.1332195420468311"
      ]
     },
     "execution_count": 15,
     "metadata": {},
     "output_type": "execute_result"
    }
   ],
   "source": [
    "from sklearn.ensemble import GradientBoostingRegressor\n",
    "gbm = GradientBoostingRegressor()\n",
    "gbm.fit(X_train, y_train)\n",
    "y_pred = gbm.predict(X_test)\n",
    "MAPE(y_pred,y_test)"
   ]
  },
  {
   "cell_type": "code",
   "execution_count": 16,
   "id": "3c5e09bd",
   "metadata": {},
   "outputs": [
    {
     "name": "stderr",
     "output_type": "stream",
     "text": [
      "/Users/sujaykumar/miniconda3/lib/python3.10/site-packages/sklearn/utils/validation.py:1143: DataConversionWarning: A column-vector y was passed when a 1d array was expected. Please change the shape of y to (n_samples, ), for example using ravel().\n",
      "  y = column_or_1d(y, warn=True)\n"
     ]
    },
    {
     "data": {
      "text/plain": [
       "0.21381705006054214"
      ]
     },
     "execution_count": 16,
     "metadata": {},
     "output_type": "execute_result"
    }
   ],
   "source": [
    "from sklearn.svm import SVR\n",
    "from sklearn.preprocessing import StandardScaler\n",
    "scaler = StandardScaler()\n",
    "X_train_scaled = scaler.fit_transform(X_train)\n",
    "X_test_scaled = scaler.transform(X_test)\n",
    "svr = SVR()\n",
    "svr.fit(X_train_scaled, y_train)\n",
    "y_pred = svr.predict(X_test_scaled)\n",
    "MAPE(y_test,y_pred)"
   ]
  },
  {
   "cell_type": "markdown",
   "id": "fb910fc1",
   "metadata": {},
   "source": [
    "## Without Rolling"
   ]
  },
  {
   "cell_type": "code",
   "execution_count": 17,
   "id": "88232ee0",
   "metadata": {},
   "outputs": [],
   "source": [
    "features_basic_no = df.rolling(7,min_periods=5, closed='right').aggregate([np.max,np.min,np.mean,np.std])"
   ]
  },
  {
   "cell_type": "code",
   "execution_count": 18,
   "id": "9d0d5941",
   "metadata": {},
   "outputs": [
    {
     "data": {
      "text/html": [
       "<div>\n",
       "<style scoped>\n",
       "    .dataframe tbody tr th:only-of-type {\n",
       "        vertical-align: middle;\n",
       "    }\n",
       "\n",
       "    .dataframe tbody tr th {\n",
       "        vertical-align: top;\n",
       "    }\n",
       "\n",
       "    .dataframe thead tr th {\n",
       "        text-align: left;\n",
       "    }\n",
       "\n",
       "    .dataframe thead tr:last-of-type th {\n",
       "        text-align: right;\n",
       "    }\n",
       "</style>\n",
       "<table border=\"1\" class=\"dataframe\">\n",
       "  <thead>\n",
       "    <tr>\n",
       "      <th></th>\n",
       "      <th colspan=\"4\" halign=\"left\">Max.Demand met during the day (MW)</th>\n",
       "    </tr>\n",
       "    <tr>\n",
       "      <th></th>\n",
       "      <th>amax</th>\n",
       "      <th>amin</th>\n",
       "      <th>mean</th>\n",
       "      <th>std</th>\n",
       "    </tr>\n",
       "    <tr>\n",
       "      <th>Date</th>\n",
       "      <th></th>\n",
       "      <th></th>\n",
       "      <th></th>\n",
       "      <th></th>\n",
       "    </tr>\n",
       "  </thead>\n",
       "  <tbody>\n",
       "    <tr>\n",
       "      <th>2023-05-05</th>\n",
       "      <td>3944.0</td>\n",
       "      <td>3607.0</td>\n",
       "      <td>3768.600000</td>\n",
       "      <td>160.840915</td>\n",
       "    </tr>\n",
       "    <tr>\n",
       "      <th>2023-05-06</th>\n",
       "      <td>3944.0</td>\n",
       "      <td>3607.0</td>\n",
       "      <td>3778.166667</td>\n",
       "      <td>145.756532</td>\n",
       "    </tr>\n",
       "    <tr>\n",
       "      <th>2023-05-07</th>\n",
       "      <td>3944.0</td>\n",
       "      <td>3607.0</td>\n",
       "      <td>3783.571429</td>\n",
       "      <td>133.823089</td>\n",
       "    </tr>\n",
       "    <tr>\n",
       "      <th>2023-05-08</th>\n",
       "      <td>4460.0</td>\n",
       "      <td>3670.0</td>\n",
       "      <td>3905.428571</td>\n",
       "      <td>267.670729</td>\n",
       "    </tr>\n",
       "    <tr>\n",
       "      <th>2023-05-09</th>\n",
       "      <td>4518.0</td>\n",
       "      <td>3670.0</td>\n",
       "      <td>4024.857143</td>\n",
       "      <td>330.496308</td>\n",
       "    </tr>\n",
       "    <tr>\n",
       "      <th>2023-05-10</th>\n",
       "      <td>4595.0</td>\n",
       "      <td>3670.0</td>\n",
       "      <td>4117.857143</td>\n",
       "      <td>390.159979</td>\n",
       "    </tr>\n",
       "    <tr>\n",
       "      <th>2023-05-11</th>\n",
       "      <td>4808.0</td>\n",
       "      <td>3816.0</td>\n",
       "      <td>4280.428571</td>\n",
       "      <td>409.076952</td>\n",
       "    </tr>\n",
       "    <tr>\n",
       "      <th>2023-05-12</th>\n",
       "      <td>5145.0</td>\n",
       "      <td>3816.0</td>\n",
       "      <td>4452.571429</td>\n",
       "      <td>487.890649</td>\n",
       "    </tr>\n",
       "    <tr>\n",
       "      <th>2023-05-13</th>\n",
       "      <td>5197.0</td>\n",
       "      <td>3816.0</td>\n",
       "      <td>4648.428571</td>\n",
       "      <td>469.269950</td>\n",
       "    </tr>\n",
       "    <tr>\n",
       "      <th>2023-05-14</th>\n",
       "      <td>5197.0</td>\n",
       "      <td>4460.0</td>\n",
       "      <td>4844.428571</td>\n",
       "      <td>329.285518</td>\n",
       "    </tr>\n",
       "    <tr>\n",
       "      <th>2023-05-15</th>\n",
       "      <td>5661.0</td>\n",
       "      <td>4518.0</td>\n",
       "      <td>5016.000000</td>\n",
       "      <td>400.732662</td>\n",
       "    </tr>\n",
       "    <tr>\n",
       "      <th>2023-05-16</th>\n",
       "      <td>5691.0</td>\n",
       "      <td>4595.0</td>\n",
       "      <td>5183.571429</td>\n",
       "      <td>403.025995</td>\n",
       "    </tr>\n",
       "    <tr>\n",
       "      <th>2023-05-17</th>\n",
       "      <td>5867.0</td>\n",
       "      <td>4808.0</td>\n",
       "      <td>5365.285714</td>\n",
       "      <td>379.494714</td>\n",
       "    </tr>\n",
       "    <tr>\n",
       "      <th>2023-05-18</th>\n",
       "      <td>5867.0</td>\n",
       "      <td>5145.0</td>\n",
       "      <td>5477.428571</td>\n",
       "      <td>293.641424</td>\n",
       "    </tr>\n",
       "    <tr>\n",
       "      <th>2023-05-19</th>\n",
       "      <td>5867.0</td>\n",
       "      <td>5188.0</td>\n",
       "      <td>5522.142857</td>\n",
       "      <td>256.002883</td>\n",
       "    </tr>\n",
       "    <tr>\n",
       "      <th>2023-05-20</th>\n",
       "      <td>5867.0</td>\n",
       "      <td>5188.0</td>\n",
       "      <td>5549.857143</td>\n",
       "      <td>223.356538</td>\n",
       "    </tr>\n",
       "    <tr>\n",
       "      <th>2023-05-21</th>\n",
       "      <td>5948.0</td>\n",
       "      <td>5391.0</td>\n",
       "      <td>5658.428571</td>\n",
       "      <td>201.821586</td>\n",
       "    </tr>\n",
       "    <tr>\n",
       "      <th>2023-05-22</th>\n",
       "      <td>6427.0</td>\n",
       "      <td>5391.0</td>\n",
       "      <td>5767.857143</td>\n",
       "      <td>353.851395</td>\n",
       "    </tr>\n",
       "    <tr>\n",
       "      <th>2023-05-23</th>\n",
       "      <td>6785.0</td>\n",
       "      <td>5391.0</td>\n",
       "      <td>5924.142857</td>\n",
       "      <td>517.841813</td>\n",
       "    </tr>\n",
       "    <tr>\n",
       "      <th>2023-05-24</th>\n",
       "      <td>6785.0</td>\n",
       "      <td>5391.0</td>\n",
       "      <td>5963.428571</td>\n",
       "      <td>523.187939</td>\n",
       "    </tr>\n",
       "    <tr>\n",
       "      <th>2023-05-25</th>\n",
       "      <td>6785.0</td>\n",
       "      <td>5391.0</td>\n",
       "      <td>5960.000000</td>\n",
       "      <td>526.090613</td>\n",
       "    </tr>\n",
       "    <tr>\n",
       "      <th>2023-05-26</th>\n",
       "      <td>6785.0</td>\n",
       "      <td>4991.0</td>\n",
       "      <td>5893.285714</td>\n",
       "      <td>621.346579</td>\n",
       "    </tr>\n",
       "    <tr>\n",
       "      <th>2023-05-27</th>\n",
       "      <td>6785.0</td>\n",
       "      <td>4991.0</td>\n",
       "      <td>5844.714286</td>\n",
       "      <td>677.872828</td>\n",
       "    </tr>\n",
       "    <tr>\n",
       "      <th>2023-05-28</th>\n",
       "      <td>6785.0</td>\n",
       "      <td>4780.0</td>\n",
       "      <td>5677.857143</td>\n",
       "      <td>783.701565</td>\n",
       "    </tr>\n",
       "    <tr>\n",
       "      <th>2023-05-29</th>\n",
       "      <td>6785.0</td>\n",
       "      <td>4780.0</td>\n",
       "      <td>5442.857143</td>\n",
       "      <td>768.103602</td>\n",
       "    </tr>\n",
       "    <tr>\n",
       "      <th>2023-05-30</th>\n",
       "      <td>6142.0</td>\n",
       "      <td>4780.0</td>\n",
       "      <td>5169.428571</td>\n",
       "      <td>506.989434</td>\n",
       "    </tr>\n",
       "    <tr>\n",
       "      <th>2023-05-31</th>\n",
       "      <td>5569.0</td>\n",
       "      <td>4462.0</td>\n",
       "      <td>4929.428571</td>\n",
       "      <td>339.997479</td>\n",
       "    </tr>\n",
       "  </tbody>\n",
       "</table>\n",
       "</div>"
      ],
      "text/plain": [
       "           Max.Demand met during the day (MW)                                 \n",
       "                                         amax    amin         mean         std\n",
       "Date                                                                          \n",
       "2023-05-05                             3944.0  3607.0  3768.600000  160.840915\n",
       "2023-05-06                             3944.0  3607.0  3778.166667  145.756532\n",
       "2023-05-07                             3944.0  3607.0  3783.571429  133.823089\n",
       "2023-05-08                             4460.0  3670.0  3905.428571  267.670729\n",
       "2023-05-09                             4518.0  3670.0  4024.857143  330.496308\n",
       "2023-05-10                             4595.0  3670.0  4117.857143  390.159979\n",
       "2023-05-11                             4808.0  3816.0  4280.428571  409.076952\n",
       "2023-05-12                             5145.0  3816.0  4452.571429  487.890649\n",
       "2023-05-13                             5197.0  3816.0  4648.428571  469.269950\n",
       "2023-05-14                             5197.0  4460.0  4844.428571  329.285518\n",
       "2023-05-15                             5661.0  4518.0  5016.000000  400.732662\n",
       "2023-05-16                             5691.0  4595.0  5183.571429  403.025995\n",
       "2023-05-17                             5867.0  4808.0  5365.285714  379.494714\n",
       "2023-05-18                             5867.0  5145.0  5477.428571  293.641424\n",
       "2023-05-19                             5867.0  5188.0  5522.142857  256.002883\n",
       "2023-05-20                             5867.0  5188.0  5549.857143  223.356538\n",
       "2023-05-21                             5948.0  5391.0  5658.428571  201.821586\n",
       "2023-05-22                             6427.0  5391.0  5767.857143  353.851395\n",
       "2023-05-23                             6785.0  5391.0  5924.142857  517.841813\n",
       "2023-05-24                             6785.0  5391.0  5963.428571  523.187939\n",
       "2023-05-25                             6785.0  5391.0  5960.000000  526.090613\n",
       "2023-05-26                             6785.0  4991.0  5893.285714  621.346579\n",
       "2023-05-27                             6785.0  4991.0  5844.714286  677.872828\n",
       "2023-05-28                             6785.0  4780.0  5677.857143  783.701565\n",
       "2023-05-29                             6785.0  4780.0  5442.857143  768.103602\n",
       "2023-05-30                             6142.0  4780.0  5169.428571  506.989434\n",
       "2023-05-31                             5569.0  4462.0  4929.428571  339.997479"
      ]
     },
     "execution_count": 18,
     "metadata": {},
     "output_type": "execute_result"
    }
   ],
   "source": [
    "features_basic_no = features_basic_no.dropna()\n",
    "features_basic_test2 = df_test.rolling(7,min_periods=5, closed='right').aggregate([np.max,np.min,np.mean,np.std])\n",
    "features_basic_test2.dropna()"
   ]
  },
  {
   "cell_type": "code",
   "execution_count": 19,
   "id": "9e1cc88d",
   "metadata": {},
   "outputs": [],
   "source": [
    "cols = features_basic.columns\n",
    "X_train_no = features_basic\n",
    "y_train_no = df.loc['2013-04-05':]\n",
    "X_test_no = features_basic_test2.dropna()\n",
    "y_test_no =df_test.loc['2023-05-05':]"
   ]
  },
  {
   "cell_type": "code",
   "execution_count": 20,
   "id": "70e6822b",
   "metadata": {},
   "outputs": [
    {
     "data": {
      "text/plain": [
       "0.1778231290178359"
      ]
     },
     "execution_count": 20,
     "metadata": {},
     "output_type": "execute_result"
    }
   ],
   "source": [
    "# Fit the Ridge model\n",
    "model = Ridge()\n",
    "model.fit(X_train, y_train)\n",
    "y_pred = model.predict(X_test)\n",
    "MAPE(y_test,y_pred)"
   ]
  },
  {
   "cell_type": "code",
   "execution_count": 21,
   "id": "fcb36392",
   "metadata": {},
   "outputs": [
    {
     "data": {
      "text/plain": [
       "0.10302164627522609"
      ]
     },
     "execution_count": 21,
     "metadata": {},
     "output_type": "execute_result"
    }
   ],
   "source": [
    "from sklearn.linear_model import Lasso\n",
    "lasso = Lasso(alpha=0.1)\n",
    "lasso.fit(X_train, y_train)\n",
    "y_pred = lasso.predict(X_test)\n",
    "MAPE(y_test,y_pred)"
   ]
  },
  {
   "cell_type": "code",
   "execution_count": 22,
   "id": "9e6a7152",
   "metadata": {},
   "outputs": [
    {
     "name": "stderr",
     "output_type": "stream",
     "text": [
      "/Users/sujaykumar/miniconda3/lib/python3.10/site-packages/sklearn/ensemble/_gb.py:437: DataConversionWarning: A column-vector y was passed when a 1d array was expected. Please change the shape of y to (n_samples, ), for example using ravel().\n",
      "  y = column_or_1d(y, warn=True)\n"
     ]
    },
    {
     "data": {
      "text/plain": [
       "0.13617749701023182"
      ]
     },
     "execution_count": 22,
     "metadata": {},
     "output_type": "execute_result"
    }
   ],
   "source": [
    "from sklearn.ensemble import GradientBoostingRegressor\n",
    "gbm = GradientBoostingRegressor()\n",
    "gbm.fit(X_train, y_train)\n",
    "y_pred = gbm.predict(X_test)\n",
    "MAPE(y_pred,y_test)"
   ]
  },
  {
   "cell_type": "code",
   "execution_count": 23,
   "id": "71bc5728",
   "metadata": {},
   "outputs": [
    {
     "name": "stderr",
     "output_type": "stream",
     "text": [
      "/Users/sujaykumar/miniconda3/lib/python3.10/site-packages/sklearn/utils/validation.py:1143: DataConversionWarning: A column-vector y was passed when a 1d array was expected. Please change the shape of y to (n_samples, ), for example using ravel().\n",
      "  y = column_or_1d(y, warn=True)\n"
     ]
    },
    {
     "data": {
      "text/plain": [
       "0.21381705006054214"
      ]
     },
     "execution_count": 23,
     "metadata": {},
     "output_type": "execute_result"
    }
   ],
   "source": [
    "from sklearn.svm import SVR\n",
    "from sklearn.preprocessing import StandardScaler\n",
    "scaler = StandardScaler()\n",
    "X_train_scaled = scaler.fit_transform(X_train)\n",
    "X_test_scaled = scaler.transform(X_test)\n",
    "svr = SVR()\n",
    "svr.fit(X_train_scaled, y_train)\n",
    "y_pred = svr.predict(X_test_scaled)\n",
    "MAPE(y_test,y_pred)"
   ]
  },
  {
   "cell_type": "code",
   "execution_count": null,
   "id": "640d2175",
   "metadata": {},
   "outputs": [],
   "source": []
  }
 ],
 "metadata": {
  "kernelspec": {
   "display_name": "Python 3 (ipykernel)",
   "language": "python",
   "name": "python3"
  },
  "language_info": {
   "codemirror_mode": {
    "name": "ipython",
    "version": 3
   },
   "file_extension": ".py",
   "mimetype": "text/x-python",
   "name": "python",
   "nbconvert_exporter": "python",
   "pygments_lexer": "ipython3",
   "version": "3.10.10"
  }
 },
 "nbformat": 4,
 "nbformat_minor": 5
}
