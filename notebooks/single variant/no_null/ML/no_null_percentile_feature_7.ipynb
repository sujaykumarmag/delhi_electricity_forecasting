{
 "cells": [
  {
   "cell_type": "code",
   "execution_count": 1,
   "id": "27025b64",
   "metadata": {},
   "outputs": [],
   "source": [
    "import pandas as pd\n",
    "import numpy as np\n",
    "import matplotlib.pyplot as plt\n",
    "from functools import partial\n",
    "from sklearn.linear_model import Ridge\n",
    "from sklearn.model_selection import cross_val_score\n",
    "from sklearn.model_selection import train_test_split\n",
    "from sklearn.metrics import r2_score\n",
    "from sklearn.metrics import mean_absolute_percentage_error as MAPE"
   ]
  },
  {
   "cell_type": "code",
   "execution_count": 2,
   "id": "0a8c8055",
   "metadata": {},
   "outputs": [],
   "source": [
    "df = pd.read_csv(\"../../../../main/sub_data/single_variant/no_null/train/train_no_null.csv\",index_col=\"Date\",parse_dates=True)\n",
    "df_test = pd.read_csv(\"../../../../main/sub_data/single_variant/no_null/test/test_no_null.csv\",index_col=\"Date\",parse_dates=True)"
   ]
  },
  {
   "cell_type": "code",
   "execution_count": 3,
   "id": "c6973de0",
   "metadata": {},
   "outputs": [],
   "source": [
    "df"
   ]
  },
  {
   "cell_type": "markdown",
   "id": "8cb2e3e9",
   "metadata": {},
   "source": [
    "## Transforming Data\n",
    "    \n",
    "    The Steps adopted for Transformation are\n",
    "<ul>\n",
    "    <li>Rolling Window</li>\n",
    "    <li>Outliers Replacement</li>\n",
    "</ul>"
   ]
  },
  {
   "cell_type": "code",
   "execution_count": 4,
   "id": "8d645eea",
   "metadata": {},
   "outputs": [],
   "source": [
    "# We use Aggregate method (for this, we need a function)\n",
    "def percent_change(series):\n",
    "    prev = series[:-1]\n",
    "    last = series[-1:]\n",
    "    change = (last-np.sum(prev))/np.sum(prev)\n",
    "    return change\n",
    "\n",
    "def replace_outliers(series):\n",
    "    mean_diff = np.abs(series - np.mean(series))\n",
    "    # Criteria for detecting outliers\n",
    "    this_mask = mean_diff > (np.std(series) * 3)\n",
    "    # replace it with median\n",
    "    series[this_mask] = np.nanmedian(series)\n",
    "    return series"
   ]
  },
  {
   "cell_type": "code",
   "execution_count": 5,
   "id": "98245cba",
   "metadata": {},
   "outputs": [],
   "source": [
    "'''\n",
    "    Rolling : A rolling window of every size (n) is applied to every column\n",
    "    After applying an n size NaN Values will be available\n",
    "    \n",
    "'''\n",
    "df_per_ch = df.rolling(10).aggregate(percent_change).dropna()"
   ]
  },
  {
   "cell_type": "code",
   "execution_count": 6,
   "id": "d414421b",
   "metadata": {},
   "outputs": [],
   "source": [
    "percentile_we_want = [1, 10, 25, 50, 75, 90, 99]\n",
    "percentile_funcs = [partial(np.percentile, q=perc) for perc in percentile_we_want ]\n",
    "feature_percentile = df_per_ch[\"Max.Demand met during the day (MW)\"].rolling(7,min_periods=5,closed='right').aggregate(percentile_funcs)"
   ]
  },
  {
   "cell_type": "code",
   "execution_count": 7,
   "id": "9675a2d4",
   "metadata": {},
   "outputs": [],
   "source": [
    "feature_percentile = feature_percentile.dropna()\n",
    "feature_percentile.columns =['1','10','25','50','75','90','99']"
   ]
  },
  {
   "cell_type": "code",
   "execution_count": 8,
   "id": "6d60a251",
   "metadata": {},
   "outputs": [],
   "source": [
    "feature_percentile"
   ]
  },
  {
   "cell_type": "code",
   "execution_count": 9,
   "id": "371c50d6",
   "metadata": {},
   "outputs": [],
   "source": [
    "ax = feature_percentile.plot(cmap=plt.cm.viridis)\n",
    "ax.legend(percentile_we_want, loc=(1.01, .5))\n",
    "plt.show()"
   ]
  },
  {
   "cell_type": "code",
   "execution_count": 10,
   "id": "cea1504f",
   "metadata": {},
   "outputs": [],
   "source": [
    "feature_percentile"
   ]
  },
  {
   "cell_type": "code",
   "execution_count": 11,
   "id": "d41c067a",
   "metadata": {},
   "outputs": [],
   "source": [
    "df_test1 = df_test.rolling(10).aggregate(percent_change).dropna()\n",
    "percentile_we_want = [1, 10, 25, 50, 75, 90, 99]\n",
    "percentile_funcs = [partial(np.percentile, q=perc) for perc in percentile_we_want ]\n",
    "feature_percentile_test = df_test1[\"Max.Demand met during the day (MW)\"].rolling(7,min_periods=5,closed='right').aggregate(percentile_funcs)\n",
    "feature_percentile_test.columns = feature_percentile.columns"
   ]
  },
  {
   "cell_type": "code",
   "execution_count": 12,
   "id": "9d4b5370",
   "metadata": {},
   "outputs": [],
   "source": [
    "cols = feature_percentile.columns\n",
    "X_train = feature_percentile\n",
    "y_train = df.loc['2013-04-14':]\n",
    "X_test = feature_percentile_test.dropna()\n",
    "y_test = df_test.loc['2023-05-14':]"
   ]
  },
  {
   "cell_type": "code",
   "execution_count": 13,
   "id": "7f399225",
   "metadata": {},
   "outputs": [],
   "source": [
    "# Fit the Ridge model\n",
    "model = Ridge()\n",
    "model.fit(X_train, y_train)\n",
    "y_pred = model.predict(X_test)\n",
    "MAPE(y_test,y_pred)"
   ]
  },
  {
   "cell_type": "code",
   "execution_count": 14,
   "id": "b7afc1ea",
   "metadata": {},
   "outputs": [],
   "source": [
    "from sklearn.linear_model import Lasso\n",
    "lasso = Lasso(alpha=0.1)\n",
    "lasso.fit(X_train, y_train)\n",
    "y_pred = lasso.predict(X_test)\n",
    "MAPE(y_test,y_pred)"
   ]
  },
  {
   "cell_type": "code",
   "execution_count": 15,
   "id": "aa8e6ac7",
   "metadata": {},
   "outputs": [],
   "source": [
    "from sklearn.ensemble import GradientBoostingRegressor\n",
    "gbm = GradientBoostingRegressor()\n",
    "gbm.fit(X_train, y_train)\n",
    "y_pred = gbm.predict(X_test)\n",
    "MAPE(y_pred,y_test)"
   ]
  },
  {
   "cell_type": "code",
   "execution_count": 16,
   "id": "5f5b96bc",
   "metadata": {},
   "outputs": [],
   "source": [
    "from sklearn.svm import SVR\n",
    "from sklearn.preprocessing import StandardScaler\n",
    "scaler = StandardScaler()\n",
    "X_train_scaled = scaler.fit_transform(X_train)\n",
    "X_test_scaled = scaler.transform(X_test)\n",
    "svr = SVR()\n",
    "svr.fit(X_train_scaled, y_train)\n",
    "y_pred = svr.predict(X_test_scaled)\n",
    "MAPE(y_test,y_pred)"
   ]
  },
  {
   "cell_type": "markdown",
   "id": "91337820",
   "metadata": {},
   "source": [
    "## Without Rolling"
   ]
  },
  {
   "cell_type": "code",
   "execution_count": 17,
   "id": "6fa73316",
   "metadata": {},
   "outputs": [],
   "source": [
    "percentile_we_want = [1, 10, 25, 50, 75, 90, 99]\n",
    "percentile_funcs = [partial(np.percentile, q=perc) for perc in percentile_we_want ]\n",
    "feature_percentile_no = df[\"Max.Demand met during the day (MW)\"].rolling(7,min_periods=5,closed='right').aggregate(percentile_funcs)"
   ]
  },
  {
   "cell_type": "code",
   "execution_count": 18,
   "id": "7336a721",
   "metadata": {},
   "outputs": [],
   "source": [
    "feature_percentile_no = feature_percentile_no.dropna()\n",
    "feature_percentile_no.columns =['1','10','25','50','75','90','99']"
   ]
  },
  {
   "cell_type": "code",
   "execution_count": 19,
   "id": "2d964f72",
   "metadata": {},
   "outputs": [],
   "source": [
    "ax = feature_percentile_no.plot(cmap=plt.cm.viridis)\n",
    "ax.legend(percentile_we_want, loc=(1.01, .5))\n",
    "plt.show()"
   ]
  },
  {
   "cell_type": "code",
   "execution_count": 20,
   "id": "5ed693fc",
   "metadata": {},
   "outputs": [],
   "source": [
    "percentile_we_want = [1, 10, 25, 50, 75, 90, 99]\n",
    "percentile_funcs = [partial(np.percentile, q=perc) for perc in percentile_we_want ]\n",
    "feature_percentile_test2 = df_test[\"Max.Demand met during the day (MW)\"].rolling(7,min_periods=5,closed='right').aggregate(percentile_funcs)\n",
    "feature_percentile_test2.columns = feature_percentile.columns"
   ]
  },
  {
   "cell_type": "code",
   "execution_count": 21,
   "id": "6ad71159",
   "metadata": {},
   "outputs": [],
   "source": [
    "cols = feature_percentile_no.columns\n",
    "X_train_no = feature_percentile_no\n",
    "y_train_no = df.loc['2013-04-05':]\n",
    "X_test_no = feature_percentile_test2.dropna()\n",
    "y_test_no = df_test.loc['2023-05-05':]"
   ]
  },
  {
   "cell_type": "code",
   "execution_count": 22,
   "id": "39eb8031",
   "metadata": {},
   "outputs": [],
   "source": [
    "# Fit the Ridge model\n",
    "model = Ridge()\n",
    "model.fit(X_train_no, y_train_no)\n",
    "y_pred = model.predict(X_test_no)\n",
    "MAPE(y_test_no,y_pred)"
   ]
  },
  {
   "cell_type": "code",
   "execution_count": 23,
   "id": "13bf5147",
   "metadata": {},
   "outputs": [],
   "source": [
    "from sklearn.linear_model import Lasso\n",
    "lasso = Lasso(alpha=0.1)\n",
    "lasso.fit(X_train_no, y_train_no)\n",
    "y_pred = lasso.predict(X_test_no)\n",
    "MAPE(y_test_no,y_pred)"
   ]
  },
  {
   "cell_type": "code",
   "execution_count": 24,
   "id": "83b7ea07",
   "metadata": {},
   "outputs": [],
   "source": [
    "from sklearn.ensemble import GradientBoostingRegressor\n",
    "gbm = GradientBoostingRegressor()\n",
    "gbm.fit(X_train_no, y_train_no)\n",
    "y_pred = gbm.predict(X_test_no)\n",
    "MAPE(y_pred,y_test_no)"
   ]
  },
  {
   "cell_type": "code",
   "execution_count": 25,
   "id": "1c3e0862",
   "metadata": {},
   "outputs": [],
   "source": [
    "from sklearn.svm import SVR\n",
    "from sklearn.preprocessing import StandardScaler\n",
    "scaler = StandardScaler()\n",
    "X_train_scaled = scaler.fit_transform(X_train_no)\n",
    "X_test_scaled = scaler.transform(X_test_no)\n",
    "svr = SVR()\n",
    "svr.fit(X_train_scaled, y_train_no)\n",
    "y_pred = svr.predict(X_test_scaled)\n",
    "MAPE(y_test_no,y_pred)"
   ]
  },
  {
   "cell_type": "code",
   "execution_count": null,
   "id": "9c006253",
   "metadata": {},
   "outputs": [],
   "source": []
  }
 ],
 "metadata": {
  "kernelspec": {
   "display_name": "Python 3 (ipykernel)",
   "language": "python",
   "name": "python3"
  },
  "language_info": {
   "codemirror_mode": {
    "name": "ipython",
    "version": 3
   },
   "file_extension": ".py",
   "mimetype": "text/x-python",
   "name": "python",
   "nbconvert_exporter": "python",
   "pygments_lexer": "ipython3",
   "version": "3.10.10"
  }
 },
 "nbformat": 4,
 "nbformat_minor": 5
}
