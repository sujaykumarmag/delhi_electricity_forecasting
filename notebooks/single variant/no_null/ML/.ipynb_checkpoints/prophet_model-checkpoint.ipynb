{
 "cells": [
  {
   "cell_type": "code",
   "execution_count": 4,
   "id": "04f1c65a",
   "metadata": {},
   "outputs": [
    {
     "name": "stderr",
     "output_type": "stream",
     "text": [
      "19:02:33 - cmdstanpy - INFO - Chain [1] start processing\n",
      "19:02:33 - cmdstanpy - INFO - Chain [1] done processing\n"
     ]
    },
    {
     "data": {
      "text/plain": [
       "0.1375173865085602"
      ]
     },
     "execution_count": 4,
     "metadata": {},
     "output_type": "execute_result"
    }
   ],
   "source": [
    "import pandas as pd\n",
    "from prophet import Prophet\n",
    "from sklearn.metrics import mean_absolute_percentage_error as MAPE\n",
    "model = Prophet()\n",
    "df_p = pd.read_csv(\"../../../../main/sub_data/single_variant/no_null/train/train_no_null.csv\")\n",
    "df = pd.read_csv(\"../../../../main/sub_data/single_variant/no_null/train/train_no_null.csv\",index_col=\"Date\",parse_dates=True)\n",
    "df_test = pd.read_csv(\"../../../../main/sub_data/single_variant/no_null/test/test_no_null.csv\",index_col=\"Date\",parse_dates=True)\n",
    "df_p.columns = ['ds','y']\n",
    "model.fit(df_p)\n",
    "future_dates = model.make_future_dataframe(periods=31)[3609:]\n",
    "forecast = model.predict(future_dates)\n",
    "MAPE(forecast['trend'],df_test)"
   ]
  },
  {
   "cell_type": "code",
   "execution_count": null,
   "id": "d2659f2d",
   "metadata": {},
   "outputs": [],
   "source": []
  }
 ],
 "metadata": {
  "kernelspec": {
   "display_name": "Python 3 (ipykernel)",
   "language": "python",
   "name": "python3"
  },
  "language_info": {
   "codemirror_mode": {
    "name": "ipython",
    "version": 3
   },
   "file_extension": ".py",
   "mimetype": "text/x-python",
   "name": "python",
   "nbconvert_exporter": "python",
   "pygments_lexer": "ipython3",
   "version": "3.10.10"
  }
 },
 "nbformat": 4,
 "nbformat_minor": 5
}
