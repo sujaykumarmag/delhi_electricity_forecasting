{
 "cells": [
  {
   "cell_type": "code",
   "execution_count": 1,
   "id": "037cc7ca",
   "metadata": {},
   "outputs": [],
   "source": [
    "import pandas as pd\n",
    "import numpy as np\n",
    "from keras.models import Sequential\n",
    "from keras.layers import LSTM, Dense"
   ]
  },
  {
   "cell_type": "code",
   "execution_count": 2,
   "id": "8f8b23c3",
   "metadata": {},
   "outputs": [],
   "source": [
    "data = pd.read_csv(\"../../../../main/sub_data/single_variant/no_null/train/train_no_null.csv\",index_col=\"Date\",parse_dates=True)\n",
    "df_test = pd.read_csv(\"../../../../main/sub_data/single_variant/no_null/test/test_no_null.csv\",index_col=\"Date\",parse_dates=True)"
   ]
  },
  {
   "cell_type": "code",
   "execution_count": 3,
   "id": "a1ebcb23",
   "metadata": {},
   "outputs": [],
   "source": [
    "# Data preparation\n",
    "data = np.array(data)\n",
    "sequence_length = 10  # Length of input sequences\n",
    "n_features = 1  # Number of features (variables) in your time series data"
   ]
  },
  {
   "cell_type": "code",
   "execution_count": 4,
   "id": "190ca5dc",
   "metadata": {},
   "outputs": [],
   "source": [
    "# Create input sequences and corresponding output values\n",
    "sequences = []\n",
    "targets = []\n",
    "for i in range(len(data) - sequence_length):\n",
    "    sequences.append(data[i : i + sequence_length])\n",
    "    targets.append(data[i + sequence_length])"
   ]
  },
  {
   "cell_type": "code",
   "execution_count": 5,
   "id": "95aa2acb",
   "metadata": {},
   "outputs": [],
   "source": [
    "# Convert lists to NumPy arrays\n",
    "sequences = np.array(sequences)\n",
    "targets = np.array(targets)\n",
    "\n",
    "# Reshape the input sequences to fit the LSTM input shape\n",
    "sequences = sequences.reshape((sequences.shape[0], sequence_length, n_features))\n"
   ]
  },
  {
   "cell_type": "code",
   "execution_count": 6,
   "id": "bccc330d",
   "metadata": {},
   "outputs": [],
   "source": [
    "# Split the data into training and testing sets\n",
    "train_size = int(0.8 * len(sequences))\n",
    "train_sequences = sequences[:train_size]\n",
    "train_targets = targets[:train_size]\n",
    "test_sequences = sequences[train_size:]\n",
    "test_targets = targets[train_size:]"
   ]
  },
  {
   "cell_type": "code",
   "execution_count": 7,
   "id": "b515cdcb",
   "metadata": {},
   "outputs": [],
   "source": [
    "# Calculate MAPE (Mean Absolute Percentage Error)\n",
    "def calculate_mape(y_true, y_pred):\n",
    "    return np.mean(np.abs((y_true - y_pred) / y_true)) * 100\n",
    "\n",
    "# Calculate MAE (Mean Absolute Error)\n",
    "def calculate_mae(y_true, y_pred):\n",
    "    return np.mean(np.abs(y_true - y_pred))"
   ]
  },
  {
   "cell_type": "code",
   "execution_count": 8,
   "id": "6f91087c",
   "metadata": {},
   "outputs": [
    {
     "name": "stdout",
     "output_type": "stream",
     "text": [
      "Metal device set to: Apple M1\n"
     ]
    }
   ],
   "source": [
    "# Model definition\n",
    "model = Sequential()\n",
    "model.add(LSTM(50, input_shape=(sequence_length, n_features)))\n",
    "model.add(Dense(1))  # Output layer with one neuron for regression\n"
   ]
  },
  {
   "cell_type": "code",
   "execution_count": 9,
   "id": "b0f4ac12",
   "metadata": {
    "scrolled": true
   },
   "outputs": [
    {
     "name": "stdout",
     "output_type": "stream",
     "text": [
      "Epoch 1/50\n"
     ]
    },
    {
     "name": "stderr",
     "output_type": "stream",
     "text": [
      "2023-07-17 19:51:32.712278: W tensorflow/tsl/platform/profile_utils/cpu_utils.cc:128] Failed to get CPU frequency: 0 Hz\n"
     ]
    },
    {
     "name": "stdout",
     "output_type": "stream",
     "text": [
      "90/90 [==============================] - 3s 8ms/step - loss: 19094554.0000\n",
      "Epoch 2/50\n",
      "90/90 [==============================] - 1s 6ms/step - loss: 19085362.0000\n",
      "Epoch 3/50\n",
      "90/90 [==============================] - 1s 7ms/step - loss: 19078250.0000\n",
      "Epoch 4/50\n",
      "90/90 [==============================] - 1s 7ms/step - loss: 19071120.0000\n",
      "Epoch 5/50\n",
      "90/90 [==============================] - 1s 6ms/step - loss: 19064008.0000\n",
      "Epoch 6/50\n",
      "90/90 [==============================] - 1s 6ms/step - loss: 19056890.0000\n",
      "Epoch 7/50\n",
      "90/90 [==============================] - 1s 6ms/step - loss: 19049778.0000\n",
      "Epoch 8/50\n",
      "90/90 [==============================] - 1s 6ms/step - loss: 19042672.0000\n",
      "Epoch 9/50\n",
      "90/90 [==============================] - 1s 6ms/step - loss: 19035560.0000\n",
      "Epoch 10/50\n",
      "90/90 [==============================] - 1s 6ms/step - loss: 19028450.0000\n",
      "Epoch 11/50\n",
      "90/90 [==============================] - 1s 6ms/step - loss: 19021344.0000\n",
      "Epoch 12/50\n",
      "90/90 [==============================] - 1s 7ms/step - loss: 19014240.0000\n",
      "Epoch 13/50\n",
      "90/90 [==============================] - 1s 6ms/step - loss: 19007146.0000\n",
      "Epoch 14/50\n",
      "90/90 [==============================] - 1s 6ms/step - loss: 19000044.0000\n",
      "Epoch 15/50\n",
      "90/90 [==============================] - 1s 6ms/step - loss: 18992948.0000\n",
      "Epoch 16/50\n",
      "90/90 [==============================] - 1s 6ms/step - loss: 18985854.0000\n",
      "Epoch 17/50\n",
      "90/90 [==============================] - 1s 7ms/step - loss: 18978756.0000\n",
      "Epoch 18/50\n",
      "90/90 [==============================] - 1s 6ms/step - loss: 18971666.0000\n",
      "Epoch 19/50\n",
      "90/90 [==============================] - 1s 6ms/step - loss: 18964572.0000\n",
      "Epoch 20/50\n",
      "90/90 [==============================] - 1s 6ms/step - loss: 18957498.0000\n",
      "Epoch 21/50\n",
      "90/90 [==============================] - 1s 6ms/step - loss: 18950408.0000\n",
      "Epoch 22/50\n",
      "90/90 [==============================] - 1s 6ms/step - loss: 18943328.0000\n",
      "Epoch 23/50\n",
      "90/90 [==============================] - 1s 6ms/step - loss: 18936238.0000\n",
      "Epoch 24/50\n",
      "90/90 [==============================] - 1s 6ms/step - loss: 18929152.0000\n",
      "Epoch 25/50\n",
      "90/90 [==============================] - 1s 6ms/step - loss: 18922080.0000\n",
      "Epoch 26/50\n",
      "90/90 [==============================] - 1s 6ms/step - loss: 18915006.0000\n",
      "Epoch 27/50\n",
      "90/90 [==============================] - 1s 6ms/step - loss: 18907926.0000\n",
      "Epoch 28/50\n",
      "90/90 [==============================] - 1s 6ms/step - loss: 18900858.0000\n",
      "Epoch 29/50\n",
      "90/90 [==============================] - 1s 6ms/step - loss: 18893780.0000\n",
      "Epoch 30/50\n",
      "90/90 [==============================] - 1s 6ms/step - loss: 18886704.0000\n",
      "Epoch 31/50\n",
      "90/90 [==============================] - 1s 7ms/step - loss: 18879634.0000\n",
      "Epoch 32/50\n",
      "90/90 [==============================] - 1s 7ms/step - loss: 18872572.0000\n",
      "Epoch 33/50\n",
      "90/90 [==============================] - 1s 6ms/step - loss: 18865508.0000\n",
      "Epoch 34/50\n",
      "90/90 [==============================] - 1s 6ms/step - loss: 18858440.0000\n",
      "Epoch 35/50\n",
      "90/90 [==============================] - 1s 7ms/step - loss: 18851380.0000\n",
      "Epoch 36/50\n",
      "90/90 [==============================] - 1s 6ms/step - loss: 18844316.0000\n",
      "Epoch 37/50\n",
      "90/90 [==============================] - 1s 6ms/step - loss: 18837256.0000\n",
      "Epoch 38/50\n",
      "90/90 [==============================] - 1s 6ms/step - loss: 18830198.0000\n",
      "Epoch 39/50\n",
      "90/90 [==============================] - 1s 6ms/step - loss: 18823138.0000\n",
      "Epoch 40/50\n",
      "90/90 [==============================] - 1s 6ms/step - loss: 18816086.0000\n",
      "Epoch 41/50\n",
      "90/90 [==============================] - 1s 7ms/step - loss: 18809028.0000\n",
      "Epoch 42/50\n",
      "90/90 [==============================] - 1s 6ms/step - loss: 18801978.0000\n",
      "Epoch 43/50\n",
      "90/90 [==============================] - 1s 6ms/step - loss: 18794930.0000\n",
      "Epoch 44/50\n",
      "90/90 [==============================] - 1s 6ms/step - loss: 18787876.0000\n",
      "Epoch 45/50\n",
      "90/90 [==============================] - 1s 6ms/step - loss: 18780826.0000\n",
      "Epoch 46/50\n",
      "90/90 [==============================] - 1s 6ms/step - loss: 18773770.0000\n",
      "Epoch 47/50\n",
      "90/90 [==============================] - 1s 6ms/step - loss: 18766730.0000\n",
      "Epoch 48/50\n",
      "90/90 [==============================] - 1s 7ms/step - loss: 18759688.0000\n",
      "Epoch 49/50\n",
      "90/90 [==============================] - 1s 7ms/step - loss: 18752644.0000\n",
      "Epoch 50/50\n",
      "90/90 [==============================] - 1s 7ms/step - loss: 18745606.0000\n"
     ]
    },
    {
     "data": {
      "text/plain": [
       "<keras.callbacks.History at 0x2859ad570>"
      ]
     },
     "execution_count": 9,
     "metadata": {},
     "output_type": "execute_result"
    }
   ],
   "source": [
    "# Compile the model\n",
    "model.compile(optimizer='adam', loss='mse')\n",
    "\n",
    "# Model training\n",
    "model.fit(train_sequences,train_targets, epochs=50, batch_size=32)"
   ]
  },
  {
   "cell_type": "code",
   "execution_count": 10,
   "id": "ed3ed83c",
   "metadata": {},
   "outputs": [
    {
     "name": "stdout",
     "output_type": "stream",
     "text": [
      "23/23 [==============================] - 0s 7ms/step - loss: 22994848.0000\n",
      "Test loss: 22994848.0\n"
     ]
    }
   ],
   "source": [
    "loss = model.evaluate(test_sequences, test_targets)\n",
    "print(f'Test loss: {loss}')"
   ]
  },
  {
   "cell_type": "code",
   "execution_count": 11,
   "id": "f6001fcf",
   "metadata": {},
   "outputs": [
    {
     "name": "stdout",
     "output_type": "stream",
     "text": [
      "23/23 [==============================] - 0s 3ms/step\n",
      "MAPE: 99.07652870428267\n",
      "MAE: 4670.473712582058\n"
     ]
    }
   ],
   "source": [
    "predictions = model.predict(test_sequences)\n",
    "mape = calculate_mape(test_targets, predictions)\n",
    "print(f'MAPE: {mape}')\n",
    "mae = calculate_mae(test_targets, predictions)\n",
    "print(f'MAE: {mae}')"
   ]
  },
  {
   "cell_type": "code",
   "execution_count": 12,
   "id": "d4b567cb",
   "metadata": {},
   "outputs": [],
   "source": [
    "# Model definition\n",
    "model = Sequential()\n",
    "model.add(LSTM(50, input_shape=(sequence_length, n_features)))\n",
    "model.add(Dense(50))\n",
    "model.add(Dense(1))  # Output layer with one neuron for regression"
   ]
  },
  {
   "cell_type": "code",
   "execution_count": 13,
   "id": "3d107a24",
   "metadata": {
    "scrolled": true
   },
   "outputs": [
    {
     "name": "stdout",
     "output_type": "stream",
     "text": [
      "Epoch 1/50\n",
      "90/90 [==============================] - 1s 7ms/step - loss: 19025258.0000\n",
      "Epoch 2/50\n",
      "90/90 [==============================] - 1s 6ms/step - loss: 18782760.0000\n",
      "Epoch 3/50\n",
      "90/90 [==============================] - 1s 6ms/step - loss: 18304490.0000\n",
      "Epoch 4/50\n",
      "90/90 [==============================] - 1s 6ms/step - loss: 17583970.0000\n",
      "Epoch 5/50\n",
      "90/90 [==============================] - 1s 6ms/step - loss: 16649463.0000\n",
      "Epoch 6/50\n",
      "90/90 [==============================] - 1s 6ms/step - loss: 15540221.0000\n",
      "Epoch 7/50\n",
      "90/90 [==============================] - 1s 6ms/step - loss: 14297032.0000\n",
      "Epoch 8/50\n",
      "90/90 [==============================] - 1s 6ms/step - loss: 12965377.0000\n",
      "Epoch 9/50\n",
      "90/90 [==============================] - 1s 6ms/step - loss: 11587285.0000\n",
      "Epoch 10/50\n",
      "90/90 [==============================] - 1s 6ms/step - loss: 10203443.0000\n",
      "Epoch 11/50\n",
      "90/90 [==============================] - 1s 6ms/step - loss: 8851817.0000\n",
      "Epoch 12/50\n",
      "90/90 [==============================] - 1s 6ms/step - loss: 7566644.5000\n",
      "Epoch 13/50\n",
      "90/90 [==============================] - 1s 6ms/step - loss: 6375346.5000\n",
      "Epoch 14/50\n",
      "90/90 [==============================] - 1s 7ms/step - loss: 5297305.5000\n",
      "Epoch 15/50\n",
      "90/90 [==============================] - 1s 6ms/step - loss: 4348718.0000\n",
      "Epoch 16/50\n",
      "90/90 [==============================] - 1s 6ms/step - loss: 3535874.2500\n",
      "Epoch 17/50\n",
      "90/90 [==============================] - 1s 6ms/step - loss: 2860095.2500\n",
      "Epoch 18/50\n",
      "90/90 [==============================] - 1s 6ms/step - loss: 2315400.0000\n",
      "Epoch 19/50\n",
      "90/90 [==============================] - 1s 6ms/step - loss: 1889474.0000\n",
      "Epoch 20/50\n",
      "90/90 [==============================] - 1s 7ms/step - loss: 1569177.0000\n",
      "Epoch 21/50\n",
      "90/90 [==============================] - 1s 8ms/step - loss: 1336933.5000\n",
      "Epoch 22/50\n",
      "90/90 [==============================] - 1s 7ms/step - loss: 1174603.3750\n",
      "Epoch 23/50\n",
      "90/90 [==============================] - 1s 6ms/step - loss: 1065882.1250\n",
      "Epoch 24/50\n",
      "90/90 [==============================] - 1s 6ms/step - loss: 995851.3750\n",
      "Epoch 25/50\n",
      "90/90 [==============================] - 1s 6ms/step - loss: 952722.1250\n",
      "Epoch 26/50\n",
      "90/90 [==============================] - 1s 6ms/step - loss: 927259.6250\n",
      "Epoch 27/50\n",
      "90/90 [==============================] - 1s 6ms/step - loss: 912859.1875\n",
      "Epoch 28/50\n",
      "90/90 [==============================] - 1s 6ms/step - loss: 905156.2500\n",
      "Epoch 29/50\n",
      "90/90 [==============================] - 1s 6ms/step - loss: 901300.6875\n",
      "Epoch 30/50\n",
      "90/90 [==============================] - 1s 6ms/step - loss: 899324.5625\n",
      "Epoch 31/50\n",
      "90/90 [==============================] - 1s 6ms/step - loss: 898398.3750\n",
      "Epoch 32/50\n",
      "90/90 [==============================] - 1s 6ms/step - loss: 898018.8125\n",
      "Epoch 33/50\n",
      "90/90 [==============================] - 1s 6ms/step - loss: 897856.4375\n",
      "Epoch 34/50\n",
      "90/90 [==============================] - 1s 6ms/step - loss: 897790.2500\n",
      "Epoch 35/50\n",
      "90/90 [==============================] - 1s 6ms/step - loss: 897730.4375\n",
      "Epoch 36/50\n",
      "90/90 [==============================] - 1s 6ms/step - loss: 897721.6875\n",
      "Epoch 37/50\n",
      "90/90 [==============================] - 1s 7ms/step - loss: 897734.1250\n",
      "Epoch 38/50\n",
      "90/90 [==============================] - 1s 6ms/step - loss: 897809.3125\n",
      "Epoch 39/50\n",
      "90/90 [==============================] - 1s 6ms/step - loss: 897787.1250\n",
      "Epoch 40/50\n",
      "90/90 [==============================] - 1s 6ms/step - loss: 897781.6250\n",
      "Epoch 41/50\n",
      "90/90 [==============================] - 1s 6ms/step - loss: 897863.2500\n",
      "Epoch 42/50\n",
      "90/90 [==============================] - 1s 6ms/step - loss: 897833.0625\n",
      "Epoch 43/50\n",
      "90/90 [==============================] - 1s 6ms/step - loss: 897744.6250\n",
      "Epoch 44/50\n",
      "90/90 [==============================] - 1s 6ms/step - loss: 925208.1250\n",
      "Epoch 45/50\n",
      "90/90 [==============================] - 1s 6ms/step - loss: 930661.6250\n",
      "Epoch 46/50\n",
      "90/90 [==============================] - 1s 6ms/step - loss: 904967.0000\n",
      "Epoch 47/50\n",
      "90/90 [==============================] - 1s 6ms/step - loss: 899204.0625\n",
      "Epoch 48/50\n",
      "90/90 [==============================] - 1s 6ms/step - loss: 898187.8125\n",
      "Epoch 49/50\n",
      "90/90 [==============================] - 1s 6ms/step - loss: 897863.9375\n",
      "Epoch 50/50\n",
      "90/90 [==============================] - 1s 6ms/step - loss: 897928.3750\n"
     ]
    },
    {
     "data": {
      "text/plain": [
       "<keras.callbacks.History at 0x28d34ee60>"
      ]
     },
     "execution_count": 13,
     "metadata": {},
     "output_type": "execute_result"
    }
   ],
   "source": [
    "# Compile the model\n",
    "model.compile(optimizer='adam', loss='mse')\n",
    "\n",
    "# Model training\n",
    "model.fit(train_sequences,train_targets, epochs=50, batch_size=32)"
   ]
  },
  {
   "cell_type": "code",
   "execution_count": 14,
   "id": "530b7ae0",
   "metadata": {},
   "outputs": [
    {
     "name": "stdout",
     "output_type": "stream",
     "text": [
      "23/23 [==============================] - 0s 3ms/step\n",
      "MAPE: 18.571450086993273\n",
      "MAE: 929.9962348090278\n"
     ]
    }
   ],
   "source": [
    "predictions = model.predict(test_sequences)\n",
    "mape = calculate_mape(test_targets, predictions)\n",
    "print(f'MAPE: {mape}')\n",
    "mae = calculate_mae(test_targets, predictions)\n",
    "print(f'MAE: {mae}')"
   ]
  },
  {
   "cell_type": "code",
   "execution_count": 15,
   "id": "f1f9f33c",
   "metadata": {},
   "outputs": [],
   "source": [
    "from keras.layers import Bidirectional\n",
    "\n",
    "# Model definition\n",
    "model = Sequential()\n",
    "model.add(Bidirectional(LSTM(50, input_shape=(sequence_length, n_features))))\n",
    "model.add(Dense(1))"
   ]
  },
  {
   "cell_type": "code",
   "execution_count": 16,
   "id": "eead4c0c",
   "metadata": {
    "scrolled": true
   },
   "outputs": [
    {
     "name": "stdout",
     "output_type": "stream",
     "text": [
      "Epoch 1/50\n",
      "90/90 [==============================] - 2s 11ms/step - loss: 19080358.0000\n",
      "Epoch 2/50\n",
      "90/90 [==============================] - 1s 10ms/step - loss: 19059158.0000\n",
      "Epoch 3/50\n",
      "90/90 [==============================] - 1s 10ms/step - loss: 19039422.0000\n",
      "Epoch 4/50\n",
      "90/90 [==============================] - 1s 10ms/step - loss: 19019726.0000\n",
      "Epoch 5/50\n",
      "90/90 [==============================] - 1s 10ms/step - loss: 19000060.0000\n",
      "Epoch 6/50\n",
      "90/90 [==============================] - 1s 10ms/step - loss: 18980438.0000\n",
      "Epoch 7/50\n",
      "90/90 [==============================] - 1s 10ms/step - loss: 18960820.0000\n",
      "Epoch 8/50\n",
      "90/90 [==============================] - 1s 10ms/step - loss: 18941222.0000\n",
      "Epoch 9/50\n",
      "90/90 [==============================] - 1s 10ms/step - loss: 18921644.0000\n",
      "Epoch 10/50\n",
      "90/90 [==============================] - 1s 10ms/step - loss: 18902080.0000\n",
      "Epoch 11/50\n",
      "90/90 [==============================] - 1s 10ms/step - loss: 18882536.0000\n",
      "Epoch 12/50\n",
      "90/90 [==============================] - 1s 10ms/step - loss: 18863000.0000\n",
      "Epoch 13/50\n",
      "90/90 [==============================] - 1s 10ms/step - loss: 18843486.0000\n",
      "Epoch 14/50\n",
      "90/90 [==============================] - 1s 10ms/step - loss: 18823986.0000\n",
      "Epoch 15/50\n",
      "90/90 [==============================] - 1s 11ms/step - loss: 18804502.0000\n",
      "Epoch 16/50\n",
      "90/90 [==============================] - 1s 10ms/step - loss: 18785032.0000\n",
      "Epoch 17/50\n",
      "90/90 [==============================] - 1s 10ms/step - loss: 18765568.0000\n",
      "Epoch 18/50\n",
      "90/90 [==============================] - 1s 11ms/step - loss: 18746132.0000\n",
      "Epoch 19/50\n",
      "90/90 [==============================] - 1s 10ms/step - loss: 18726702.0000\n",
      "Epoch 20/50\n",
      "90/90 [==============================] - 1s 10ms/step - loss: 18707278.0000\n",
      "Epoch 21/50\n",
      "90/90 [==============================] - 1s 10ms/step - loss: 18687878.0000\n",
      "Epoch 22/50\n",
      "90/90 [==============================] - 1s 10ms/step - loss: 18668482.0000\n",
      "Epoch 23/50\n",
      "90/90 [==============================] - 1s 10ms/step - loss: 18649112.0000\n",
      "Epoch 24/50\n",
      "90/90 [==============================] - 1s 10ms/step - loss: 18629744.0000\n",
      "Epoch 25/50\n",
      "90/90 [==============================] - 1s 11ms/step - loss: 18610388.0000\n",
      "Epoch 26/50\n",
      "90/90 [==============================] - 1s 12ms/step - loss: 18591056.0000\n",
      "Epoch 27/50\n",
      "90/90 [==============================] - 1s 10ms/step - loss: 18571724.0000\n",
      "Epoch 28/50\n",
      "90/90 [==============================] - 1s 11ms/step - loss: 18552422.0000\n",
      "Epoch 29/50\n",
      "90/90 [==============================] - 1s 10ms/step - loss: 18533120.0000\n",
      "Epoch 30/50\n",
      "90/90 [==============================] - 1s 10ms/step - loss: 18513830.0000\n",
      "Epoch 31/50\n",
      "90/90 [==============================] - 1s 10ms/step - loss: 18494550.0000\n",
      "Epoch 32/50\n",
      "90/90 [==============================] - 1s 11ms/step - loss: 18475294.0000\n",
      "Epoch 33/50\n",
      "90/90 [==============================] - 1s 11ms/step - loss: 18456046.0000\n",
      "Epoch 34/50\n",
      "90/90 [==============================] - 1s 12ms/step - loss: 18436800.0000\n",
      "Epoch 35/50\n",
      "90/90 [==============================] - 1s 10ms/step - loss: 18417582.0000\n",
      "Epoch 36/50\n",
      "90/90 [==============================] - 1s 10ms/step - loss: 18398368.0000\n",
      "Epoch 37/50\n",
      "90/90 [==============================] - 1s 10ms/step - loss: 18379168.0000\n",
      "Epoch 38/50\n",
      "90/90 [==============================] - 1s 10ms/step - loss: 18359974.0000\n",
      "Epoch 39/50\n",
      "90/90 [==============================] - 1s 10ms/step - loss: 18340796.0000\n",
      "Epoch 40/50\n",
      "90/90 [==============================] - 1s 10ms/step - loss: 18321628.0000\n",
      "Epoch 41/50\n",
      "90/90 [==============================] - 1s 10ms/step - loss: 18302468.0000\n",
      "Epoch 42/50\n",
      "90/90 [==============================] - 1s 10ms/step - loss: 18283320.0000\n",
      "Epoch 43/50\n",
      "90/90 [==============================] - 1s 10ms/step - loss: 18264188.0000\n",
      "Epoch 44/50\n",
      "90/90 [==============================] - 1s 10ms/step - loss: 18245064.0000\n",
      "Epoch 45/50\n",
      "90/90 [==============================] - 1s 10ms/step - loss: 18225956.0000\n",
      "Epoch 46/50\n",
      "90/90 [==============================] - 1s 10ms/step - loss: 18206854.0000\n",
      "Epoch 47/50\n",
      "90/90 [==============================] - 1s 10ms/step - loss: 18187762.0000\n",
      "Epoch 48/50\n",
      "90/90 [==============================] - 1s 10ms/step - loss: 18167942.0000\n",
      "Epoch 49/50\n",
      "90/90 [==============================] - 1s 10ms/step - loss: 18141334.0000\n",
      "Epoch 50/50\n",
      "90/90 [==============================] - 1s 11ms/step - loss: 18121916.0000\n"
     ]
    },
    {
     "data": {
      "text/plain": [
       "<keras.callbacks.History at 0x2967dd5a0>"
      ]
     },
     "execution_count": 16,
     "metadata": {},
     "output_type": "execute_result"
    }
   ],
   "source": [
    "# Compile the model\n",
    "model.compile(optimizer='adam', loss='mse')\n",
    "\n",
    "# Model training\n",
    "model.fit(train_sequences,train_targets, epochs=50, batch_size=32)"
   ]
  },
  {
   "cell_type": "code",
   "execution_count": 17,
   "id": "3b12750b",
   "metadata": {},
   "outputs": [
    {
     "name": "stdout",
     "output_type": "stream",
     "text": [
      "23/23 [==============================] - 0s 5ms/step\n",
      "MAPE: 97.395866834904\n",
      "MAE: 4595.242149013943\n"
     ]
    }
   ],
   "source": [
    "predictions = model.predict(test_sequences)\n",
    "mape = calculate_mape(test_targets, predictions)\n",
    "print(f'MAPE: {mape}')\n",
    "mae = calculate_mae(test_targets, predictions)\n",
    "print(f'MAE: {mae}')"
   ]
  },
  {
   "cell_type": "code",
   "execution_count": 18,
   "id": "f3189952",
   "metadata": {},
   "outputs": [],
   "source": [
    "# Model definition\n",
    "model = Sequential()\n",
    "model.add(LSTM(50, input_shape=(sequence_length, n_features)))\n",
    "model.add(Dense(50))\n",
    "model.add(Dense(50))\n",
    "model.add(Dense(1))  # Output layer with one neuron for regression"
   ]
  },
  {
   "cell_type": "code",
   "execution_count": 19,
   "id": "29e8ee35",
   "metadata": {
    "scrolled": true
   },
   "outputs": [
    {
     "name": "stdout",
     "output_type": "stream",
     "text": [
      "Epoch 1/50\n",
      "90/90 [==============================] - 2s 9ms/step - loss: 18740752.0000\n",
      "Epoch 2/50\n",
      "90/90 [==============================] - 1s 8ms/step - loss: 14845654.0000\n",
      "Epoch 3/50\n",
      "90/90 [==============================] - 1s 8ms/step - loss: 5610649.0000\n",
      "Epoch 4/50\n",
      "90/90 [==============================] - 1s 8ms/step - loss: 1108595.8750\n",
      "Epoch 5/50\n",
      "90/90 [==============================] - 1s 8ms/step - loss: 898422.1875\n",
      "Epoch 6/50\n",
      "90/90 [==============================] - 1s 8ms/step - loss: 898664.8125\n",
      "Epoch 7/50\n",
      "90/90 [==============================] - 1s 8ms/step - loss: 899509.9375\n",
      "Epoch 8/50\n",
      "90/90 [==============================] - 1s 8ms/step - loss: 898018.7500\n",
      "Epoch 9/50\n",
      "90/90 [==============================] - 1s 8ms/step - loss: 898431.1250\n",
      "Epoch 10/50\n",
      "90/90 [==============================] - 1s 8ms/step - loss: 898313.9375\n",
      "Epoch 11/50\n",
      "90/90 [==============================] - 1s 8ms/step - loss: 898057.6875\n",
      "Epoch 12/50\n",
      "90/90 [==============================] - 1s 8ms/step - loss: 899532.8125\n",
      "Epoch 13/50\n",
      "90/90 [==============================] - 1s 8ms/step - loss: 898796.3750\n",
      "Epoch 14/50\n",
      "90/90 [==============================] - 1s 8ms/step - loss: 897930.6875\n",
      "Epoch 15/50\n",
      "90/90 [==============================] - 1s 8ms/step - loss: 899898.8750\n",
      "Epoch 16/50\n",
      "90/90 [==============================] - 1s 8ms/step - loss: 898002.1875\n",
      "Epoch 17/50\n",
      "90/90 [==============================] - 1s 9ms/step - loss: 898636.3750\n",
      "Epoch 18/50\n",
      "90/90 [==============================] - 1s 11ms/step - loss: 899597.0000\n",
      "Epoch 19/50\n",
      "90/90 [==============================] - 1s 9ms/step - loss: 898887.2500\n",
      "Epoch 20/50\n",
      "90/90 [==============================] - 1s 8ms/step - loss: 898683.7500\n",
      "Epoch 21/50\n",
      "90/90 [==============================] - 1s 9ms/step - loss: 898182.0000\n",
      "Epoch 22/50\n",
      "90/90 [==============================] - 1s 9ms/step - loss: 899570.9375\n",
      "Epoch 23/50\n",
      "90/90 [==============================] - 1s 8ms/step - loss: 898948.8750\n",
      "Epoch 24/50\n",
      "90/90 [==============================] - 1s 9ms/step - loss: 899306.7500\n",
      "Epoch 25/50\n",
      "90/90 [==============================] - 1s 10ms/step - loss: 899815.8750\n",
      "Epoch 26/50\n",
      "90/90 [==============================] - 1s 9ms/step - loss: 898336.1250\n",
      "Epoch 27/50\n",
      "90/90 [==============================] - 1s 9ms/step - loss: 899663.5000\n",
      "Epoch 28/50\n",
      "90/90 [==============================] - 1s 9ms/step - loss: 899452.1250\n",
      "Epoch 29/50\n",
      "90/90 [==============================] - 1s 9ms/step - loss: 899207.9375\n",
      "Epoch 30/50\n",
      "90/90 [==============================] - 1s 8ms/step - loss: 898201.3750\n",
      "Epoch 31/50\n",
      "90/90 [==============================] - 1s 8ms/step - loss: 899261.7500\n",
      "Epoch 32/50\n",
      "90/90 [==============================] - 1s 8ms/step - loss: 898964.8750\n",
      "Epoch 33/50\n",
      "90/90 [==============================] - 1s 8ms/step - loss: 899063.0000\n",
      "Epoch 34/50\n",
      "90/90 [==============================] - 1s 8ms/step - loss: 900264.7500\n",
      "Epoch 35/50\n",
      "90/90 [==============================] - 1s 8ms/step - loss: 899550.3125\n",
      "Epoch 36/50\n",
      "90/90 [==============================] - 1s 8ms/step - loss: 900571.6250\n",
      "Epoch 37/50\n",
      "90/90 [==============================] - 1s 8ms/step - loss: 899121.8750\n",
      "Epoch 38/50\n",
      "90/90 [==============================] - 1s 8ms/step - loss: 901902.0625\n",
      "Epoch 39/50\n",
      "90/90 [==============================] - 1s 8ms/step - loss: 898557.8750\n",
      "Epoch 40/50\n",
      "90/90 [==============================] - 1s 8ms/step - loss: 898888.9375\n",
      "Epoch 41/50\n",
      "90/90 [==============================] - 1s 8ms/step - loss: 899041.2500\n",
      "Epoch 42/50\n",
      "90/90 [==============================] - 1s 8ms/step - loss: 903262.5000\n",
      "Epoch 43/50\n",
      "90/90 [==============================] - 1s 8ms/step - loss: 900385.6250\n",
      "Epoch 44/50\n",
      "90/90 [==============================] - 1s 9ms/step - loss: 899620.5625\n",
      "Epoch 45/50\n",
      "90/90 [==============================] - 1s 8ms/step - loss: 901056.1250\n",
      "Epoch 46/50\n",
      "90/90 [==============================] - 1s 8ms/step - loss: 898855.1250\n",
      "Epoch 47/50\n",
      "90/90 [==============================] - 1s 8ms/step - loss: 900340.8750\n",
      "Epoch 48/50\n",
      "90/90 [==============================] - 1s 9ms/step - loss: 902185.3750\n",
      "Epoch 49/50\n",
      "90/90 [==============================] - 1s 8ms/step - loss: 900250.4375\n",
      "Epoch 50/50\n",
      "90/90 [==============================] - 1s 8ms/step - loss: 897894.1875\n"
     ]
    },
    {
     "data": {
      "text/plain": [
       "<keras.callbacks.History at 0x28ec05c90>"
      ]
     },
     "execution_count": 19,
     "metadata": {},
     "output_type": "execute_result"
    }
   ],
   "source": [
    "# Compile the model\n",
    "model.compile(optimizer='adam', loss='mse')\n",
    "\n",
    "# Model training\n",
    "model.fit(train_sequences,train_targets, epochs=50, batch_size=32)"
   ]
  },
  {
   "cell_type": "code",
   "execution_count": 20,
   "id": "9005c4e3",
   "metadata": {},
   "outputs": [
    {
     "name": "stdout",
     "output_type": "stream",
     "text": [
      "23/23 [==============================] - 0s 3ms/step\n",
      "MAPE: 18.560853739147674\n",
      "MAE: 932.3807929144965\n"
     ]
    }
   ],
   "source": [
    "predictions = model.predict(test_sequences)\n",
    "mape = calculate_mape(test_targets, predictions)\n",
    "print(f'MAPE: {mape}')\n",
    "mae = calculate_mae(test_targets, predictions)\n",
    "print(f'MAE: {mae}')"
   ]
  },
  {
   "cell_type": "code",
   "execution_count": 21,
   "id": "2ad585a6",
   "metadata": {},
   "outputs": [],
   "source": [
    "# Model definition\n",
    "model = Sequential()\n",
    "model.add(LSTM(50, input_shape=(sequence_length, n_features)))\n",
    "model.add(Dense(50))\n",
    "model.add(Dense(50))\n",
    "model.add(Dense(50))\n",
    "model.add(Dense(50))\n",
    "model.add(Dense(1))  # Output layer with one neuron for regression"
   ]
  },
  {
   "cell_type": "code",
   "execution_count": 22,
   "id": "d1ef61d7",
   "metadata": {
    "scrolled": true
   },
   "outputs": [
    {
     "name": "stdout",
     "output_type": "stream",
     "text": [
      "Epoch 1/50\n",
      "90/90 [==============================] - 2s 10ms/step - loss: 12457199.0000\n",
      "Epoch 2/50\n",
      "90/90 [==============================] - 1s 9ms/step - loss: 913411.5625\n",
      "Epoch 3/50\n",
      "90/90 [==============================] - 1s 9ms/step - loss: 901185.8750\n",
      "Epoch 4/50\n",
      "90/90 [==============================] - 1s 9ms/step - loss: 905593.6250\n",
      "Epoch 5/50\n",
      "90/90 [==============================] - 1s 9ms/step - loss: 903957.3125\n",
      "Epoch 6/50\n",
      "90/90 [==============================] - 1s 9ms/step - loss: 910295.1875\n",
      "Epoch 7/50\n",
      "90/90 [==============================] - 1s 9ms/step - loss: 903236.5625\n",
      "Epoch 8/50\n",
      "90/90 [==============================] - 1s 9ms/step - loss: 908903.0625\n",
      "Epoch 9/50\n",
      "90/90 [==============================] - 1s 9ms/step - loss: 903100.5000\n",
      "Epoch 10/50\n",
      "90/90 [==============================] - 1s 9ms/step - loss: 901539.5000\n",
      "Epoch 11/50\n",
      "90/90 [==============================] - 1s 9ms/step - loss: 905228.5625\n",
      "Epoch 12/50\n",
      "90/90 [==============================] - 1s 9ms/step - loss: 911925.8125\n",
      "Epoch 13/50\n",
      "90/90 [==============================] - 1s 9ms/step - loss: 914005.8750\n",
      "Epoch 14/50\n",
      "90/90 [==============================] - 1s 9ms/step - loss: 920567.0000\n",
      "Epoch 15/50\n",
      "90/90 [==============================] - 1s 9ms/step - loss: 906153.6875\n",
      "Epoch 16/50\n",
      "90/90 [==============================] - 1s 10ms/step - loss: 903144.6250\n",
      "Epoch 17/50\n",
      "90/90 [==============================] - 1s 12ms/step - loss: 908631.3125\n",
      "Epoch 18/50\n",
      "90/90 [==============================] - 1s 11ms/step - loss: 917000.0000\n",
      "Epoch 19/50\n",
      "90/90 [==============================] - 1s 10ms/step - loss: 909619.5000\n",
      "Epoch 20/50\n",
      "90/90 [==============================] - 1s 10ms/step - loss: 915156.0625\n",
      "Epoch 21/50\n",
      "90/90 [==============================] - 1s 9ms/step - loss: 910430.8125\n",
      "Epoch 22/50\n",
      "90/90 [==============================] - 1s 9ms/step - loss: 906876.8125\n",
      "Epoch 23/50\n",
      "90/90 [==============================] - 1s 9ms/step - loss: 903088.5000\n",
      "Epoch 24/50\n",
      "90/90 [==============================] - 1s 9ms/step - loss: 904771.9375\n",
      "Epoch 25/50\n",
      "90/90 [==============================] - 1s 9ms/step - loss: 918911.0000\n",
      "Epoch 26/50\n",
      "90/90 [==============================] - 1s 9ms/step - loss: 901541.1875\n",
      "Epoch 27/50\n",
      "90/90 [==============================] - 1s 9ms/step - loss: 905294.0625\n",
      "Epoch 28/50\n",
      "90/90 [==============================] - 1s 9ms/step - loss: 911966.2500\n",
      "Epoch 29/50\n",
      "90/90 [==============================] - 1s 9ms/step - loss: 907671.8125\n",
      "Epoch 30/50\n",
      "90/90 [==============================] - 1s 9ms/step - loss: 903898.3750\n",
      "Epoch 31/50\n",
      "90/90 [==============================] - 1s 9ms/step - loss: 909947.4375\n",
      "Epoch 32/50\n",
      "90/90 [==============================] - 1s 9ms/step - loss: 916996.0625\n",
      "Epoch 33/50\n",
      "90/90 [==============================] - 1s 9ms/step - loss: 912458.0000\n",
      "Epoch 34/50\n",
      "90/90 [==============================] - 1s 9ms/step - loss: 902476.7500\n",
      "Epoch 35/50\n",
      "90/90 [==============================] - 1s 9ms/step - loss: 910901.0625\n",
      "Epoch 36/50\n",
      "90/90 [==============================] - 1s 9ms/step - loss: 926957.1250\n",
      "Epoch 37/50\n",
      "90/90 [==============================] - 1s 10ms/step - loss: 904845.1250\n",
      "Epoch 38/50\n",
      "90/90 [==============================] - 1s 10ms/step - loss: 913030.8750\n",
      "Epoch 39/50\n",
      "90/90 [==============================] - 1s 9ms/step - loss: 906707.5625\n",
      "Epoch 40/50\n",
      "90/90 [==============================] - 1s 9ms/step - loss: 923136.8125\n",
      "Epoch 41/50\n",
      "90/90 [==============================] - 1s 9ms/step - loss: 917391.9375\n",
      "Epoch 42/50\n",
      "90/90 [==============================] - 1s 9ms/step - loss: 907930.1875\n",
      "Epoch 43/50\n",
      "90/90 [==============================] - 1s 9ms/step - loss: 909898.2500\n",
      "Epoch 44/50\n",
      "90/90 [==============================] - 1s 8ms/step - loss: 908442.8750\n",
      "Epoch 45/50\n",
      "90/90 [==============================] - 1s 9ms/step - loss: 901513.0000\n",
      "Epoch 46/50\n",
      "90/90 [==============================] - 1s 9ms/step - loss: 913312.0625\n",
      "Epoch 47/50\n",
      "90/90 [==============================] - 1s 9ms/step - loss: 906949.3125\n",
      "Epoch 48/50\n",
      "90/90 [==============================] - 1s 9ms/step - loss: 906547.0625\n",
      "Epoch 49/50\n",
      "90/90 [==============================] - 1s 9ms/step - loss: 902141.5000\n",
      "Epoch 50/50\n",
      "90/90 [==============================] - 1s 9ms/step - loss: 905691.3750\n"
     ]
    },
    {
     "data": {
      "text/plain": [
       "<keras.callbacks.History at 0x2c67e7850>"
      ]
     },
     "execution_count": 22,
     "metadata": {},
     "output_type": "execute_result"
    }
   ],
   "source": [
    "# Compile the model\n",
    "model.compile(optimizer='adam', loss='mse')\n",
    "\n",
    "# Model training\n",
    "model.fit(train_sequences,train_targets, epochs=50, batch_size=32)"
   ]
  },
  {
   "cell_type": "code",
   "execution_count": 23,
   "id": "899066a9",
   "metadata": {},
   "outputs": [
    {
     "name": "stdout",
     "output_type": "stream",
     "text": [
      "23/23 [==============================] - 0s 3ms/step\n",
      "MAPE: 18.909146911505534\n",
      "MAE: 911.4487901475694\n"
     ]
    }
   ],
   "source": [
    "predictions = model.predict(test_sequences)\n",
    "mape = calculate_mape(test_targets, predictions)\n",
    "print(f'MAPE: {mape}')\n",
    "mae = calculate_mae(test_targets, predictions)\n",
    "print(f'MAE: {mae}')"
   ]
  },
  {
   "cell_type": "code",
   "execution_count": null,
   "id": "d0cffe15",
   "metadata": {},
   "outputs": [],
   "source": []
  }
 ],
 "metadata": {
  "kernelspec": {
   "display_name": "Python 3.10 (tensorflow)",
   "language": "python",
   "name": "tensorflow"
  },
  "language_info": {
   "codemirror_mode": {
    "name": "ipython",
    "version": 3
   },
   "file_extension": ".py",
   "mimetype": "text/x-python",
   "name": "python",
   "nbconvert_exporter": "python",
   "pygments_lexer": "ipython3",
   "version": "3.10.11"
  }
 },
 "nbformat": 4,
 "nbformat_minor": 5
}
