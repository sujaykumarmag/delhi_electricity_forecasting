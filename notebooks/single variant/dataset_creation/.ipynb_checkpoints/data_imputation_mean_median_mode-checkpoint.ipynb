{
 "cells": [
  {
   "cell_type": "code",
   "execution_count": 1,
   "id": "9eb69bd4",
   "metadata": {},
   "outputs": [],
   "source": [
    "import pandas as pd\n",
    "import numpy as np"
   ]
  },
  {
   "cell_type": "code",
   "execution_count": 2,
   "id": "fa8161d2",
   "metadata": {},
   "outputs": [],
   "source": [
    "df = pd.read_csv(\"../../../main/sub_data/single_variant/sin_ndlc_psp.csv\")"
   ]
  },
  {
   "cell_type": "code",
   "execution_count": 3,
   "id": "57ad6854",
   "metadata": {},
   "outputs": [
    {
     "data": {
      "text/html": [
       "<div>\n",
       "<style scoped>\n",
       "    .dataframe tbody tr th:only-of-type {\n",
       "        vertical-align: middle;\n",
       "    }\n",
       "\n",
       "    .dataframe tbody tr th {\n",
       "        vertical-align: top;\n",
       "    }\n",
       "\n",
       "    .dataframe thead th {\n",
       "        text-align: right;\n",
       "    }\n",
       "</style>\n",
       "<table border=\"1\" class=\"dataframe\">\n",
       "  <thead>\n",
       "    <tr style=\"text-align: right;\">\n",
       "      <th></th>\n",
       "      <th>Unnamed: 0</th>\n",
       "      <th>Date</th>\n",
       "      <th>Max.Demand met during the day (MW)</th>\n",
       "    </tr>\n",
       "  </thead>\n",
       "  <tbody>\n",
       "    <tr>\n",
       "      <th>0</th>\n",
       "      <td>0</td>\n",
       "      <td>2013-04-01</td>\n",
       "      <td>2776.0</td>\n",
       "    </tr>\n",
       "    <tr>\n",
       "      <th>1</th>\n",
       "      <td>1</td>\n",
       "      <td>2013-04-02</td>\n",
       "      <td>3034.0</td>\n",
       "    </tr>\n",
       "    <tr>\n",
       "      <th>2</th>\n",
       "      <td>2</td>\n",
       "      <td>2013-04-03</td>\n",
       "      <td>2991.0</td>\n",
       "    </tr>\n",
       "    <tr>\n",
       "      <th>3</th>\n",
       "      <td>3</td>\n",
       "      <td>2013-04-04</td>\n",
       "      <td>3125.0</td>\n",
       "    </tr>\n",
       "    <tr>\n",
       "      <th>4</th>\n",
       "      <td>4</td>\n",
       "      <td>2013-04-05</td>\n",
       "      <td>3160.0</td>\n",
       "    </tr>\n",
       "    <tr>\n",
       "      <th>...</th>\n",
       "      <td>...</td>\n",
       "      <td>...</td>\n",
       "      <td>...</td>\n",
       "    </tr>\n",
       "    <tr>\n",
       "      <th>3708</th>\n",
       "      <td>3708</td>\n",
       "      <td>2023-05-27</td>\n",
       "      <td>5051.0</td>\n",
       "    </tr>\n",
       "    <tr>\n",
       "      <th>3709</th>\n",
       "      <td>3709</td>\n",
       "      <td>2023-05-28</td>\n",
       "      <td>4780.0</td>\n",
       "    </tr>\n",
       "    <tr>\n",
       "      <th>3710</th>\n",
       "      <td>3710</td>\n",
       "      <td>2023-05-29</td>\n",
       "      <td>4782.0</td>\n",
       "    </tr>\n",
       "    <tr>\n",
       "      <th>3711</th>\n",
       "      <td>3711</td>\n",
       "      <td>2023-05-30</td>\n",
       "      <td>4871.0</td>\n",
       "    </tr>\n",
       "    <tr>\n",
       "      <th>3712</th>\n",
       "      <td>3712</td>\n",
       "      <td>2023-05-31</td>\n",
       "      <td>4462.0</td>\n",
       "    </tr>\n",
       "  </tbody>\n",
       "</table>\n",
       "<p>3713 rows × 3 columns</p>\n",
       "</div>"
      ],
      "text/plain": [
       "      Unnamed: 0        Date  Max.Demand met during the day (MW)\n",
       "0              0  2013-04-01                              2776.0\n",
       "1              1  2013-04-02                              3034.0\n",
       "2              2  2013-04-03                              2991.0\n",
       "3              3  2013-04-04                              3125.0\n",
       "4              4  2013-04-05                              3160.0\n",
       "...          ...         ...                                 ...\n",
       "3708        3708  2023-05-27                              5051.0\n",
       "3709        3709  2023-05-28                              4780.0\n",
       "3710        3710  2023-05-29                              4782.0\n",
       "3711        3711  2023-05-30                              4871.0\n",
       "3712        3712  2023-05-31                              4462.0\n",
       "\n",
       "[3713 rows x 3 columns]"
      ]
     },
     "execution_count": 3,
     "metadata": {},
     "output_type": "execute_result"
    }
   ],
   "source": [
    "df"
   ]
  },
  {
   "cell_type": "code",
   "execution_count": 4,
   "id": "c45eeb9f",
   "metadata": {},
   "outputs": [
    {
     "data": {
      "text/plain": [
       "Unnamed: 0                             0\n",
       "Date                                   0\n",
       "Max.Demand met during the day (MW)    73\n",
       "dtype: int64"
      ]
     },
     "execution_count": 4,
     "metadata": {},
     "output_type": "execute_result"
    }
   ],
   "source": [
    "df.isnull().sum()"
   ]
  },
  {
   "cell_type": "code",
   "execution_count": 5,
   "id": "2f2bea18",
   "metadata": {},
   "outputs": [],
   "source": [
    "null_dates = []\n",
    "for i in range(len(df)):\n",
    "    if pd.isnull(df.iloc[i][2]):\n",
    "        null_dates.append(df.iloc[i][0])"
   ]
  },
  {
   "cell_type": "code",
   "execution_count": 6,
   "id": "9450e848",
   "metadata": {},
   "outputs": [
    {
     "data": {
      "text/plain": [
       "[60,\n",
       " 64,\n",
       " 89,\n",
       " 118,\n",
       " 136,\n",
       " 150,\n",
       " 151,\n",
       " 167,\n",
       " 173,\n",
       " 176,\n",
       " 198,\n",
       " 762,\n",
       " 824,\n",
       " 833,\n",
       " 834,\n",
       " 1005,\n",
       " 1006,\n",
       " 1007,\n",
       " 1008,\n",
       " 1009,\n",
       " 1010,\n",
       " 1011,\n",
       " 1012,\n",
       " 1013,\n",
       " 1014,\n",
       " 1015,\n",
       " 1016,\n",
       " 1017,\n",
       " 1018,\n",
       " 1019,\n",
       " 1020,\n",
       " 1021,\n",
       " 1022,\n",
       " 1023,\n",
       " 1024,\n",
       " 1025,\n",
       " 1026,\n",
       " 1027,\n",
       " 1028,\n",
       " 1029,\n",
       " 1030,\n",
       " 1031,\n",
       " 1032,\n",
       " 1033,\n",
       " 1034,\n",
       " 1035,\n",
       " 1072,\n",
       " 1088,\n",
       " 1090,\n",
       " 1741,\n",
       " 2235,\n",
       " 2388,\n",
       " 2408,\n",
       " 2410,\n",
       " 2419,\n",
       " 2480,\n",
       " 2511,\n",
       " 2512,\n",
       " 2572,\n",
       " 2662,\n",
       " 2663,\n",
       " 2694,\n",
       " 2724,\n",
       " 2767,\n",
       " 2784,\n",
       " 2815,\n",
       " 2816,\n",
       " 3270,\n",
       " 3271,\n",
       " 3286,\n",
       " 3353,\n",
       " 3454,\n",
       " 3455]"
      ]
     },
     "execution_count": 6,
     "metadata": {},
     "output_type": "execute_result"
    }
   ],
   "source": [
    "null_dates"
   ]
  },
  {
   "cell_type": "markdown",
   "id": "9a043602",
   "metadata": {},
   "source": [
    "## Mean Imputation"
   ]
  },
  {
   "cell_type": "code",
   "execution_count": 7,
   "id": "0a9f7af1",
   "metadata": {},
   "outputs": [],
   "source": [
    "df_mean = df.fillna(df[\"Max.Demand met during the day (MW)\"].mean())"
   ]
  },
  {
   "cell_type": "code",
   "execution_count": 8,
   "id": "106fca0e",
   "metadata": {},
   "outputs": [
    {
     "data": {
      "text/plain": [
       "Unnamed: 0                            0\n",
       "Date                                  0\n",
       "Max.Demand met during the day (MW)    0\n",
       "dtype: int64"
      ]
     },
     "execution_count": 8,
     "metadata": {},
     "output_type": "execute_result"
    }
   ],
   "source": [
    "df_mean.isnull().sum()"
   ]
  },
  {
   "cell_type": "code",
   "execution_count": 9,
   "id": "da3315d5",
   "metadata": {},
   "outputs": [
    {
     "data": {
      "text/plain": [
       "Unnamed: 0                                     60\n",
       "Date                                   2013-05-31\n",
       "Max.Demand met during the day (MW)    4356.582692\n",
       "Name: 60, dtype: object"
      ]
     },
     "execution_count": 9,
     "metadata": {},
     "output_type": "execute_result"
    }
   ],
   "source": [
    "df_mean.iloc[null_dates[0]]"
   ]
  },
  {
   "cell_type": "markdown",
   "id": "30f28f43",
   "metadata": {},
   "source": [
    "## Median Imputation"
   ]
  },
  {
   "cell_type": "code",
   "execution_count": 10,
   "id": "b7282c52",
   "metadata": {},
   "outputs": [],
   "source": [
    "df_median = df.fillna(df[\"Max.Demand met during the day (MW)\"].median())"
   ]
  },
  {
   "cell_type": "code",
   "execution_count": 11,
   "id": "294f625f",
   "metadata": {},
   "outputs": [
    {
     "data": {
      "text/plain": [
       "Unnamed: 0                            0\n",
       "Date                                  0\n",
       "Max.Demand met during the day (MW)    0\n",
       "dtype: int64"
      ]
     },
     "execution_count": 11,
     "metadata": {},
     "output_type": "execute_result"
    }
   ],
   "source": [
    "df_median.isnull().sum()"
   ]
  },
  {
   "cell_type": "code",
   "execution_count": 12,
   "id": "ca8ffd99",
   "metadata": {},
   "outputs": [
    {
     "data": {
      "text/plain": [
       "Unnamed: 0                                    60\n",
       "Date                                  2013-05-31\n",
       "Max.Demand met during the day (MW)        4182.0\n",
       "Name: 60, dtype: object"
      ]
     },
     "execution_count": 12,
     "metadata": {},
     "output_type": "execute_result"
    }
   ],
   "source": [
    "df_median.iloc[null_dates[0]]"
   ]
  },
  {
   "cell_type": "markdown",
   "id": "6562544a",
   "metadata": {},
   "source": [
    "## Mode Imputation"
   ]
  },
  {
   "cell_type": "code",
   "execution_count": 13,
   "id": "5ea8d0e9",
   "metadata": {},
   "outputs": [],
   "source": [
    "df_mode = df.fillna(df[\"Max.Demand met during the day (MW)\"].mode().iloc[0])"
   ]
  },
  {
   "cell_type": "code",
   "execution_count": 14,
   "id": "212a0e3c",
   "metadata": {},
   "outputs": [
    {
     "data": {
      "text/plain": [
       "Unnamed: 0                            0\n",
       "Date                                  0\n",
       "Max.Demand met during the day (MW)    0\n",
       "dtype: int64"
      ]
     },
     "execution_count": 14,
     "metadata": {},
     "output_type": "execute_result"
    }
   ],
   "source": [
    "df_mode.isnull().sum()"
   ]
  },
  {
   "cell_type": "code",
   "execution_count": 15,
   "id": "50b4ab09",
   "metadata": {},
   "outputs": [
    {
     "data": {
      "text/plain": [
       "Unnamed: 0                                    60\n",
       "Date                                  2013-05-31\n",
       "Max.Demand met during the day (MW)        3309.0\n",
       "Name: 60, dtype: object"
      ]
     },
     "execution_count": 15,
     "metadata": {},
     "output_type": "execute_result"
    }
   ],
   "source": [
    "df_mode.iloc[null_dates[0]]"
   ]
  },
  {
   "cell_type": "markdown",
   "id": "cf0b13b7",
   "metadata": {},
   "source": [
    "## Save all those as CSV"
   ]
  },
  {
   "cell_type": "code",
   "execution_count": 16,
   "id": "d1d0a8b1",
   "metadata": {},
   "outputs": [],
   "source": [
    "df_mean.to_csv(\"../../../main/sub_data/single_variant/sin_ndlc_psp_mean.csv\")\n",
    "df_median.to_csv(\"../../../main/sub_data/single_variant/sin_ndlc_psp_median.csv\")\n",
    "df_mode.to_csv(\"../../../main/sub_data/single_variant/sin_ndlc_psp_mode.csv\")"
   ]
  },
  {
   "cell_type": "code",
   "execution_count": null,
   "id": "234d52de",
   "metadata": {},
   "outputs": [],
   "source": []
  }
 ],
 "metadata": {
  "kernelspec": {
   "display_name": "Python 3 (ipykernel)",
   "language": "python",
   "name": "python3"
  },
  "language_info": {
   "codemirror_mode": {
    "name": "ipython",
    "version": 3
   },
   "file_extension": ".py",
   "mimetype": "text/x-python",
   "name": "python",
   "nbconvert_exporter": "python",
   "pygments_lexer": "ipython3",
   "version": "3.10.10"
  }
 },
 "nbformat": 4,
 "nbformat_minor": 5
}
