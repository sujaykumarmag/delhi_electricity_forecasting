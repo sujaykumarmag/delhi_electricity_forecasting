{
 "cells": [
  {
   "cell_type": "markdown",
   "id": "40002108",
   "metadata": {},
   "source": [
    "## Results of the No null and No Imputation Data\n",
    "<hr/>\n",
    "\n",
    "</h3>We considered the data which has no null values and no imputation techniques used where all the values are dropped off....</h3>\n",
    "\n",
    "\n",
    "<h4>        Aims and Goals of this Experiment</h4>\n",
    "<ul>\n",
    "    <li> What are MAPE and MAE scores of train and test data </li>\n",
    "    <li> Levraging SARIMA models to capture seasonal difference </li>\n",
    "</ul>\n",
    "    "
   ]
  },
  {
   "cell_type": "code",
   "execution_count": 2,
   "id": "e00fc5af",
   "metadata": {},
   "outputs": [],
   "source": [
    "import pandas as pd\n",
    "import numpy as np\n",
    "import joblib\n",
    "import pmdarima as pm\n",
    "import matplotlib.pyplot as plt\n",
    "from statsmodels.tsa.statespace.sarimax import SARIMAX\n",
    "from statsmodels.graphics.tsaplots import plot_acf, plot_pacf"
   ]
  },
  {
   "cell_type": "code",
   "execution_count": 3,
   "id": "0f5cee08",
   "metadata": {},
   "outputs": [],
   "source": [
    "df1_train = pd.read_csv(\"../../../../main/sub_data/single_variant/inter-linear/train/train_inter-linear.csv\",index_col='Date',parse_dates=True)\n",
    "df1_test = pd.read_csv(\"../../../../main/sub_data/single_variant/inter-linear/test/test_inter-linear.csv\",index_col='Date',parse_dates=True)"
   ]
  },
  {
   "cell_type": "code",
   "execution_count": 4,
   "id": "81325e64",
   "metadata": {},
   "outputs": [
    {
     "data": {
      "text/html": [
       "<div>\n",
       "<style scoped>\n",
       "    .dataframe tbody tr th:only-of-type {\n",
       "        vertical-align: middle;\n",
       "    }\n",
       "\n",
       "    .dataframe tbody tr th {\n",
       "        vertical-align: top;\n",
       "    }\n",
       "\n",
       "    .dataframe thead th {\n",
       "        text-align: right;\n",
       "    }\n",
       "</style>\n",
       "<table border=\"1\" class=\"dataframe\">\n",
       "  <thead>\n",
       "    <tr style=\"text-align: right;\">\n",
       "      <th></th>\n",
       "      <th>Max.Demand met during the day (MW)</th>\n",
       "    </tr>\n",
       "    <tr>\n",
       "      <th>Date</th>\n",
       "      <th></th>\n",
       "    </tr>\n",
       "  </thead>\n",
       "  <tbody>\n",
       "    <tr>\n",
       "      <th>2013-04-01</th>\n",
       "      <td>2776.0</td>\n",
       "    </tr>\n",
       "    <tr>\n",
       "      <th>2013-04-02</th>\n",
       "      <td>3034.0</td>\n",
       "    </tr>\n",
       "    <tr>\n",
       "      <th>2013-04-03</th>\n",
       "      <td>2991.0</td>\n",
       "    </tr>\n",
       "    <tr>\n",
       "      <th>2013-04-04</th>\n",
       "      <td>3125.0</td>\n",
       "    </tr>\n",
       "    <tr>\n",
       "      <th>2013-04-05</th>\n",
       "      <td>3160.0</td>\n",
       "    </tr>\n",
       "    <tr>\n",
       "      <th>...</th>\n",
       "      <td>...</td>\n",
       "    </tr>\n",
       "    <tr>\n",
       "      <th>2023-04-26</th>\n",
       "      <td>4445.0</td>\n",
       "    </tr>\n",
       "    <tr>\n",
       "      <th>2023-04-27</th>\n",
       "      <td>4626.0</td>\n",
       "    </tr>\n",
       "    <tr>\n",
       "      <th>2023-04-28</th>\n",
       "      <td>4395.0</td>\n",
       "    </tr>\n",
       "    <tr>\n",
       "      <th>2023-04-29</th>\n",
       "      <td>4048.0</td>\n",
       "    </tr>\n",
       "    <tr>\n",
       "      <th>2023-04-30</th>\n",
       "      <td>3791.0</td>\n",
       "    </tr>\n",
       "  </tbody>\n",
       "</table>\n",
       "<p>3682 rows × 1 columns</p>\n",
       "</div>"
      ],
      "text/plain": [
       "            Max.Demand met during the day (MW)\n",
       "Date                                          \n",
       "2013-04-01                              2776.0\n",
       "2013-04-02                              3034.0\n",
       "2013-04-03                              2991.0\n",
       "2013-04-04                              3125.0\n",
       "2013-04-05                              3160.0\n",
       "...                                        ...\n",
       "2023-04-26                              4445.0\n",
       "2023-04-27                              4626.0\n",
       "2023-04-28                              4395.0\n",
       "2023-04-29                              4048.0\n",
       "2023-04-30                              3791.0\n",
       "\n",
       "[3682 rows x 1 columns]"
      ]
     },
     "execution_count": 4,
     "metadata": {},
     "output_type": "execute_result"
    }
   ],
   "source": [
    "df1_train"
   ]
  },
  {
   "cell_type": "code",
   "execution_count": 5,
   "id": "6c4e1703",
   "metadata": {},
   "outputs": [],
   "source": [
    "def get_MAPE_MAE_test(dataframe,results):\n",
    "    actual_values = np.array(dataframe)\n",
    "    predicted_values = np.array(pd.DataFrame(results.forecast(len(actual_values)))[\"predicted_mean\"])\n",
    "    APE = np.abs((actual_values - predicted_values) / actual_values) * 100\n",
    "    MAPE = np.mean(APE)\n",
    "    MAE = np.mean(np.abs(results.resid))\n",
    "    print(\"The MAPE Score is : \",MAPE)\n",
    "    print(\"The MAE Score is :\", MAE)\n",
    "    return MAPE, MAE\n",
    "\n",
    "def get_MAPE_MAE(dataframe,results):\n",
    "    actual_values = np.array(dataframe)\n",
    "    predicted_values = np.array(results.fittedvalues)\n",
    "    APE = np.abs((actual_values - predicted_values) / actual_values) * 100\n",
    "    MAPE = np.mean(APE)\n",
    "    MAE = np.mean(np.abs(results.resid))\n",
    "    print(\"The MAPE Score is : \",MAPE)\n",
    "    print(\"The MAE Score is :\", MAE)\n",
    "    return MAPE, MAE\n",
    "\n"
   ]
  },
  {
   "cell_type": "code",
   "execution_count": 6,
   "id": "2c24ba53",
   "metadata": {},
   "outputs": [
    {
     "name": "stderr",
     "output_type": "stream",
     "text": [
      "/Users/sujaykumar/miniconda3/lib/python3.10/site-packages/statsmodels/tsa/base/tsa_model.py:473: ValueWarning: No frequency information was provided, so inferred frequency D will be used.\n",
      "  self._init_dates(dates, freq)\n",
      "/Users/sujaykumar/miniconda3/lib/python3.10/site-packages/statsmodels/tsa/base/tsa_model.py:473: ValueWarning: No frequency information was provided, so inferred frequency D will be used.\n",
      "  self._init_dates(dates, freq)\n"
     ]
    },
    {
     "name": "stdout",
     "output_type": "stream",
     "text": [
      "RUNNING THE L-BFGS-B CODE\n",
      "\n",
      "           * * *\n",
      "\n",
      "Machine precision = 2.220D-16\n",
      " N =            3     M =           10\n",
      "\n",
      "At X0         0 variables are exactly at the bounds\n",
      "\n",
      "At iterate    0    f=  7.61389D+00    |proj g|=  1.54849D-01\n",
      "\n",
      "At iterate    5    f=  7.60195D+00    |proj g|=  1.97137D-03\n",
      "\n",
      "At iterate   10    f=  7.60182D+00    |proj g|=  3.46186D-03\n"
     ]
    },
    {
     "name": "stderr",
     "output_type": "stream",
     "text": [
      " This problem is unconstrained.\n"
     ]
    },
    {
     "name": "stdout",
     "output_type": "stream",
     "text": [
      "\n",
      "At iterate   15    f=  7.60181D+00    |proj g|=  1.91942D-03\n",
      "\n",
      "At iterate   20    f=  7.60166D+00    |proj g|=  9.71392D-03\n",
      "\n",
      "At iterate   25    f=  7.60160D+00    |proj g|=  5.80540D-06\n",
      "\n",
      "           * * *\n",
      "\n",
      "Tit   = total number of iterations\n",
      "Tnf   = total number of function evaluations\n",
      "Tnint = total number of segments explored during Cauchy searches\n",
      "Skip  = number of BFGS updates skipped\n",
      "Nact  = number of active bounds at final generalized Cauchy point\n",
      "Projg = norm of the final projected gradient\n",
      "F     = final function value\n",
      "\n",
      "           * * *\n",
      "\n",
      "   N    Tit     Tnf  Tnint  Skip  Nact     Projg        F\n",
      "    3     25     29      1     0     0   5.805D-06   7.602D+00\n",
      "  F =   7.6016044721445750     \n",
      "\n",
      "CONVERGENCE: NORM_OF_PROJECTED_GRADIENT_<=_PGTOL            \n",
      "                                       SARIMAX Results                                        \n",
      "==============================================================================================\n",
      "Dep. Variable:     Max.Demand met during the day (MW)   No. Observations:                 3682\n",
      "Model:                          SARIMAX(1, 0, [1], 7)   Log Likelihood              -27989.108\n",
      "Date:                                Fri, 21 Jul 2023   AIC                          55984.215\n",
      "Time:                                        22:39:51   BIC                          56002.849\n",
      "Sample:                                    04-01-2013   HQIC                         55990.848\n",
      "                                         - 04-30-2023                                         \n",
      "Covariance Type:                                  opg                                         \n",
      "==============================================================================\n",
      "                 coef    std err          z      P>|z|      [0.025      0.975]\n",
      "------------------------------------------------------------------------------\n",
      "ar.S.L7        0.9963      0.001    829.976      0.000       0.994       0.999\n",
      "ma.S.L7       -0.2415      0.013    -18.285      0.000      -0.267      -0.216\n",
      "sigma2      2.326e+05   4228.693     54.999      0.000    2.24e+05    2.41e+05\n",
      "===================================================================================\n",
      "Ljung-Box (L1) (Q):                2428.39   Jarque-Bera (JB):               371.52\n",
      "Prob(Q):                              0.00   Prob(JB):                         0.00\n",
      "Heteroskedasticity (H):               2.16   Skew:                            -0.11\n",
      "Prob(H) (two-sided):                  0.00   Kurtosis:                         4.54\n",
      "===================================================================================\n",
      "\n",
      "Warnings:\n",
      "[1] Covariance matrix calculated using the outer product of gradients (complex-step).\n"
     ]
    }
   ],
   "source": [
    "sarima_1 = SARIMAX(df1_train,order=(0,0,0),seasonal_order=(1,0,1,7)).fit()\n",
    "print(sarima_1.summary())"
   ]
  },
  {
   "cell_type": "code",
   "execution_count": 7,
   "id": "604342fb",
   "metadata": {},
   "outputs": [
    {
     "name": "stdout",
     "output_type": "stream",
     "text": [
      "The MAPE Score is :  26.212657013708725\n",
      "The MAE Score is : 359.9176732561132\n",
      "--------------------------------------------------------------------\n",
      "The MAPE Score is :  17.401003575574133\n",
      "The MAE Score is : 359.9176732561132\n"
     ]
    },
    {
     "data": {
      "text/plain": [
       "(17.401003575574133, 359.9176732561132)"
      ]
     },
     "execution_count": 7,
     "metadata": {},
     "output_type": "execute_result"
    }
   ],
   "source": [
    "get_MAPE_MAE(df1_train,sarima_1)\n",
    "print(\"--------------------------------------------------------------------\")\n",
    "get_MAPE_MAE_test(df1_test,sarima_1)"
   ]
  },
  {
   "cell_type": "code",
   "execution_count": 8,
   "id": "f4bffd13",
   "metadata": {},
   "outputs": [
    {
     "name": "stderr",
     "output_type": "stream",
     "text": [
      "/Users/sujaykumar/miniconda3/lib/python3.10/site-packages/statsmodels/tsa/base/tsa_model.py:473: ValueWarning: No frequency information was provided, so inferred frequency D will be used.\n",
      "  self._init_dates(dates, freq)\n",
      "/Users/sujaykumar/miniconda3/lib/python3.10/site-packages/statsmodels/tsa/base/tsa_model.py:473: ValueWarning: No frequency information was provided, so inferred frequency D will be used.\n",
      "  self._init_dates(dates, freq)\n",
      " This problem is unconstrained.\n"
     ]
    },
    {
     "name": "stdout",
     "output_type": "stream",
     "text": [
      "RUNNING THE L-BFGS-B CODE\n",
      "\n",
      "           * * *\n",
      "\n",
      "Machine precision = 2.220D-16\n",
      " N =            3     M =           10\n",
      "\n",
      "At X0         0 variables are exactly at the bounds\n",
      "\n",
      "At iterate    0    f=  7.58657D+00    |proj g|=  7.24412D-02\n",
      "\n",
      "At iterate    5    f=  7.58360D+00    |proj g|=  7.83516D-04\n",
      "\n",
      "           * * *\n",
      "\n",
      "Tit   = total number of iterations\n",
      "Tnf   = total number of function evaluations\n",
      "Tnint = total number of segments explored during Cauchy searches\n",
      "Skip  = number of BFGS updates skipped\n",
      "Nact  = number of active bounds at final generalized Cauchy point\n",
      "Projg = norm of the final projected gradient\n",
      "F     = final function value\n",
      "\n",
      "           * * *\n",
      "\n",
      "   N    Tit     Tnf  Tnint  Skip  Nact     Projg        F\n",
      "    3      7     10      1     0     0   5.546D-06   7.584D+00\n",
      "  F =   7.5835965113465109     \n",
      "\n",
      "CONVERGENCE: NORM_OF_PROJECTED_GRADIENT_<=_PGTOL            \n",
      "                                       SARIMAX Results                                        \n",
      "==============================================================================================\n",
      "Dep. Variable:     Max.Demand met during the day (MW)   No. Observations:                 3682\n",
      "Model:                          SARIMAX(1, 1, [1], 7)   Log Likelihood              -27922.802\n",
      "Date:                                Fri, 21 Jul 2023   AIC                          55851.605\n",
      "Time:                                        22:39:57   BIC                          55870.233\n",
      "Sample:                                    04-01-2013   HQIC                         55858.236\n",
      "                                         - 04-30-2023                                         \n",
      "Covariance Type:                                  opg                                         \n",
      "==============================================================================\n",
      "                 coef    std err          z      P>|z|      [0.025      0.975]\n",
      "------------------------------------------------------------------------------\n",
      "ar.S.L7       -0.1337      0.053     -2.523      0.012      -0.238      -0.030\n",
      "ma.S.L7       -0.1225      0.055     -2.239      0.025      -0.230      -0.015\n",
      "sigma2      2.333e+05   4225.596     55.201      0.000    2.25e+05    2.42e+05\n",
      "===================================================================================\n",
      "Ljung-Box (L1) (Q):                2423.48   Jarque-Bera (JB):               386.43\n",
      "Prob(Q):                              0.00   Prob(JB):                         0.00\n",
      "Heteroskedasticity (H):               2.18   Skew:                            -0.15\n",
      "Prob(H) (two-sided):                  0.00   Kurtosis:                         4.56\n",
      "===================================================================================\n",
      "\n",
      "Warnings:\n",
      "[1] Covariance matrix calculated using the outer product of gradients (complex-step).\n"
     ]
    }
   ],
   "source": [
    "sarima_2 = SARIMAX(df1_train,order=(0,0,0),seasonal_order=(1,1,1,7)).fit()\n",
    "print(sarima_2.summary())"
   ]
  },
  {
   "cell_type": "code",
   "execution_count": 9,
   "id": "34eac336",
   "metadata": {},
   "outputs": [
    {
     "name": "stdout",
     "output_type": "stream",
     "text": [
      "The MAPE Score is :  26.372266893176334\n",
      "The MAE Score is : 359.0173504882623\n",
      "--------------------------------------------------------------------\n",
      "The MAPE Score is :  16.871285763378122\n",
      "The MAE Score is : 359.0173504882623\n"
     ]
    },
    {
     "data": {
      "text/plain": [
       "(16.871285763378122, 359.0173504882623)"
      ]
     },
     "execution_count": 9,
     "metadata": {},
     "output_type": "execute_result"
    }
   ],
   "source": [
    "get_MAPE_MAE(df1_train,sarima_2)\n",
    "print(\"--------------------------------------------------------------------\")\n",
    "get_MAPE_MAE_test(df1_test,sarima_2)"
   ]
  },
  {
   "cell_type": "markdown",
   "id": "eb8c16ef",
   "metadata": {},
   "source": [
    "## Brute Force Approach without the non-seasonal Component\n",
    "\n",
    "<p>This experiment only captures the non-seasonal component for the original df with the length of Seasonal Cycle 7</p>\n",
    "\n",
    "    Inference Results\n",
    "<ul>\n",
    "<li>SARIMA(0,0,0)(3,0,6,7) has the highest and lowest AIC and BIC</li>\n",
    "</ul>"
   ]
  },
  {
   "cell_type": "code",
   "execution_count": 10,
   "id": "78a9e3d0",
   "metadata": {},
   "outputs": [],
   "source": [
    "# results1 = []\n",
    "# for i in range(7):\n",
    "#     for j in range(7):\n",
    "#         try:\n",
    "#             x = SARIMAX(df1_train,order=(0,0,0),seasonal_order=(i,0,j,7)).fit()\n",
    "#             results1.append((i,j,x.aic,x.bic))\n",
    "#         except:\n",
    "#             results1.append(i,j,None,None)\n",
    "# results1 = pd.DataFrame(results1,columns=['i','j','AIC','BIC'])\n",
    "# results1.to_csv(\"sarima_results1.csv\")"
   ]
  },
  {
   "cell_type": "code",
   "execution_count": 11,
   "id": "57924b55",
   "metadata": {},
   "outputs": [],
   "source": [
    "results1 = pd.read_csv(\"sarima_results1.csv\")"
   ]
  },
  {
   "cell_type": "code",
   "execution_count": 12,
   "id": "623c2dbf",
   "metadata": {},
   "outputs": [
    {
     "data": {
      "text/html": [
       "<div>\n",
       "<style scoped>\n",
       "    .dataframe tbody tr th:only-of-type {\n",
       "        vertical-align: middle;\n",
       "    }\n",
       "\n",
       "    .dataframe tbody tr th {\n",
       "        vertical-align: top;\n",
       "    }\n",
       "\n",
       "    .dataframe thead th {\n",
       "        text-align: right;\n",
       "    }\n",
       "</style>\n",
       "<table border=\"1\" class=\"dataframe\">\n",
       "  <thead>\n",
       "    <tr style=\"text-align: right;\">\n",
       "      <th></th>\n",
       "      <th>Unnamed: 0</th>\n",
       "      <th>i</th>\n",
       "      <th>j</th>\n",
       "      <th>AIC</th>\n",
       "      <th>BIC</th>\n",
       "    </tr>\n",
       "  </thead>\n",
       "  <tbody>\n",
       "    <tr>\n",
       "      <th>45</th>\n",
       "      <td>45</td>\n",
       "      <td>6</td>\n",
       "      <td>3</td>\n",
       "      <td>55773.403356</td>\n",
       "      <td>55835.515470</td>\n",
       "    </tr>\n",
       "    <tr>\n",
       "      <th>41</th>\n",
       "      <td>41</td>\n",
       "      <td>5</td>\n",
       "      <td>6</td>\n",
       "      <td>55773.671691</td>\n",
       "      <td>55848.206227</td>\n",
       "    </tr>\n",
       "    <tr>\n",
       "      <th>40</th>\n",
       "      <td>40</td>\n",
       "      <td>5</td>\n",
       "      <td>5</td>\n",
       "      <td>55779.547783</td>\n",
       "      <td>55847.871108</td>\n",
       "    </tr>\n",
       "    <tr>\n",
       "      <th>46</th>\n",
       "      <td>46</td>\n",
       "      <td>6</td>\n",
       "      <td>4</td>\n",
       "      <td>55835.729228</td>\n",
       "      <td>55904.052553</td>\n",
       "    </tr>\n",
       "    <tr>\n",
       "      <th>47</th>\n",
       "      <td>47</td>\n",
       "      <td>6</td>\n",
       "      <td>5</td>\n",
       "      <td>55838.249984</td>\n",
       "      <td>55912.784520</td>\n",
       "    </tr>\n",
       "  </tbody>\n",
       "</table>\n",
       "</div>"
      ],
      "text/plain": [
       "    Unnamed: 0  i  j           AIC           BIC\n",
       "45          45  6  3  55773.403356  55835.515470\n",
       "41          41  5  6  55773.671691  55848.206227\n",
       "40          40  5  5  55779.547783  55847.871108\n",
       "46          46  6  4  55835.729228  55904.052553\n",
       "47          47  6  5  55838.249984  55912.784520"
      ]
     },
     "execution_count": 12,
     "metadata": {},
     "output_type": "execute_result"
    }
   ],
   "source": [
    "results1.sort_values('AIC').head()"
   ]
  },
  {
   "cell_type": "code",
   "execution_count": 13,
   "id": "bfc455f6",
   "metadata": {},
   "outputs": [
    {
     "name": "stderr",
     "output_type": "stream",
     "text": [
      "/Users/sujaykumar/miniconda3/lib/python3.10/site-packages/statsmodels/tsa/base/tsa_model.py:473: ValueWarning: No frequency information was provided, so inferred frequency D will be used.\n",
      "  self._init_dates(dates, freq)\n",
      "/Users/sujaykumar/miniconda3/lib/python3.10/site-packages/statsmodels/tsa/base/tsa_model.py:473: ValueWarning: No frequency information was provided, so inferred frequency D will be used.\n",
      "  self._init_dates(dates, freq)\n",
      " This problem is unconstrained.\n"
     ]
    },
    {
     "name": "stdout",
     "output_type": "stream",
     "text": [
      "RUNNING THE L-BFGS-B CODE\n",
      "\n",
      "           * * *\n",
      "\n",
      "Machine precision = 2.220D-16\n",
      " N =           10     M =           10\n",
      "\n",
      "At X0         0 variables are exactly at the bounds\n",
      "\n",
      "At iterate    0    f=  7.60438D+00    |proj g|=  1.41938D-01\n",
      "\n",
      "At iterate    5    f=  7.59046D+00    |proj g|=  1.26251D-02\n",
      "\n",
      "At iterate   10    f=  7.58939D+00    |proj g|=  6.41316D-03\n",
      "\n",
      "At iterate   15    f=  7.58825D+00    |proj g|=  6.98392D-03\n",
      "\n",
      "At iterate   20    f=  7.58740D+00    |proj g|=  2.90108D-02\n",
      "\n",
      "At iterate   25    f=  7.58170D+00    |proj g|=  2.25096D-02\n",
      "\n",
      "At iterate   30    f=  7.57669D+00    |proj g|=  5.85703D-02\n",
      "\n",
      "At iterate   35    f=  7.57175D+00    |proj g|=  1.39078D-02\n",
      "\n",
      "At iterate   40    f=  7.57140D+00    |proj g|=  2.13727D-03\n",
      "\n",
      "At iterate   45    f=  7.57128D+00    |proj g|=  2.94243D-02\n",
      "\n",
      "At iterate   50    f=  7.57108D+00    |proj g|=  3.09194D-03\n",
      "\n",
      "           * * *\n",
      "\n",
      "Tit   = total number of iterations\n",
      "Tnf   = total number of function evaluations\n",
      "Tnint = total number of segments explored during Cauchy searches\n",
      "Skip  = number of BFGS updates skipped\n",
      "Nact  = number of active bounds at final generalized Cauchy point\n",
      "Projg = norm of the final projected gradient\n",
      "F     = final function value\n",
      "\n",
      "           * * *\n",
      "\n",
      "   N    Tit     Tnf  Tnint  Skip  Nact     Projg        F\n",
      "   10     50     71      1     0     0   3.092D-03   7.571D+00\n",
      "  F =   7.5710759582018206     \n",
      "\n",
      "STOP: TOTAL NO. of ITERATIONS REACHED LIMIT                 \n"
     ]
    },
    {
     "name": "stderr",
     "output_type": "stream",
     "text": [
      "/Users/sujaykumar/miniconda3/lib/python3.10/site-packages/statsmodels/base/model.py:607: ConvergenceWarning: Maximum Likelihood optimization failed to converge. Check mle_retvals\n",
      "  warnings.warn(\"Maximum Likelihood optimization failed to \"\n"
     ]
    },
    {
     "name": "stdout",
     "output_type": "stream",
     "text": [
      "                                       SARIMAX Results                                        \n",
      "==============================================================================================\n",
      "Dep. Variable:     Max.Demand met during the day (MW)   No. Observations:                 3682\n",
      "Model:                    SARIMAX(6, 0, [1, 2, 3], 7)   Log Likelihood              -27876.702\n",
      "Date:                                Fri, 21 Jul 2023   AIC                          55773.403\n",
      "Time:                                        22:41:01   BIC                          55835.515\n",
      "Sample:                                    04-01-2013   HQIC                         55795.513\n",
      "                                         - 04-30-2023                                         \n",
      "Covariance Type:                                  opg                                         \n",
      "==============================================================================\n",
      "                 coef    std err          z      P>|z|      [0.025      0.975]\n",
      "------------------------------------------------------------------------------\n",
      "ar.S.L7        1.5340      0.056     27.385      0.000       1.424       1.644\n",
      "ar.S.L14       0.5083      0.139      3.647      0.000       0.235       0.781\n",
      "ar.S.L21      -1.6452      0.111    -14.834      0.000      -1.863      -1.428\n",
      "ar.S.L28       0.3716      0.029     12.640      0.000       0.314       0.429\n",
      "ar.S.L35       0.1130      0.025      4.584      0.000       0.065       0.161\n",
      "ar.S.L42       0.1182      0.015      7.856      0.000       0.089       0.148\n",
      "ma.S.L7       -0.8593      0.056    -15.436      0.000      -0.968      -0.750\n",
      "ma.S.L14      -0.8633      0.103     -8.403      0.000      -1.065      -0.662\n",
      "ma.S.L21       0.9929      0.055     17.995      0.000       0.885       1.101\n",
      "sigma2      2.279e+05   9.78e-07   2.33e+11      0.000    2.28e+05    2.28e+05\n",
      "===================================================================================\n",
      "Ljung-Box (L1) (Q):                2404.71   Jarque-Bera (JB):               657.10\n",
      "Prob(Q):                              0.00   Prob(JB):                         0.00\n",
      "Heteroskedasticity (H):               2.35   Skew:                            -0.14\n",
      "Prob(H) (two-sided):                  0.00   Kurtosis:                         5.05\n",
      "===================================================================================\n",
      "\n",
      "Warnings:\n",
      "[1] Covariance matrix calculated using the outer product of gradients (complex-step).\n",
      "[2] Covariance matrix is singular or near-singular, with condition number 5.68e+26. Standard errors may be unstable.\n"
     ]
    }
   ],
   "source": [
    "sarima_3 = SARIMAX(df1_train,order=(0,0,0),seasonal_order=(6,0,3,7)).fit()\n",
    "print(sarima_3.summary())"
   ]
  },
  {
   "cell_type": "code",
   "execution_count": 14,
   "id": "332fb203",
   "metadata": {},
   "outputs": [
    {
     "name": "stdout",
     "output_type": "stream",
     "text": [
      "The MAPE Score is :  26.42519995292293\n",
      "The MAE Score is : 336.53489708199567\n",
      "--------------------------------------------------------------------\n",
      "The MAPE Score is :  15.304119441481912\n",
      "The MAE Score is : 336.53489708199567\n"
     ]
    },
    {
     "data": {
      "text/plain": [
       "(15.304119441481912, 336.53489708199567)"
      ]
     },
     "execution_count": 14,
     "metadata": {},
     "output_type": "execute_result"
    }
   ],
   "source": [
    "get_MAPE_MAE(df1_train,sarima_3)\n",
    "print(\"--------------------------------------------------------------------\")\n",
    "get_MAPE_MAE_test(df1_test,sarima_3)"
   ]
  },
  {
   "cell_type": "code",
   "execution_count": 15,
   "id": "e624b209",
   "metadata": {},
   "outputs": [
    {
     "name": "stderr",
     "output_type": "stream",
     "text": [
      "/Users/sujaykumar/miniconda3/lib/python3.10/site-packages/statsmodels/tsa/base/tsa_model.py:473: ValueWarning: No frequency information was provided, so inferred frequency D will be used.\n",
      "  self._init_dates(dates, freq)\n",
      "/Users/sujaykumar/miniconda3/lib/python3.10/site-packages/statsmodels/tsa/base/tsa_model.py:473: ValueWarning: No frequency information was provided, so inferred frequency D will be used.\n",
      "  self._init_dates(dates, freq)\n",
      " This problem is unconstrained.\n"
     ]
    },
    {
     "name": "stdout",
     "output_type": "stream",
     "text": [
      "RUNNING THE L-BFGS-B CODE\n",
      "\n",
      "           * * *\n",
      "\n",
      "Machine precision = 2.220D-16\n",
      " N =           10     M =           10\n",
      "\n",
      "At X0         0 variables are exactly at the bounds\n",
      "\n",
      "At iterate    0    f=  7.58662D+00    |proj g|=  1.37846D-01\n",
      "\n",
      "At iterate    5    f=  7.57350D+00    |proj g|=  1.48631D-02\n",
      "\n",
      "At iterate   10    f=  7.57174D+00    |proj g|=  3.99376D-04\n",
      "\n",
      "At iterate   15    f=  7.57174D+00    |proj g|=  6.55897D-04\n",
      "\n",
      "At iterate   20    f=  7.57166D+00    |proj g|=  1.08431D-02\n",
      "\n",
      "At iterate   25    f=  7.56990D+00    |proj g|=  4.57289D-02\n",
      "\n",
      "At iterate   30    f=  7.56298D+00    |proj g|=  8.86260D-03\n",
      "\n",
      "At iterate   35    f=  7.56070D+00    |proj g|=  6.54172D-03\n",
      "\n",
      "At iterate   40    f=  7.55666D+00    |proj g|=  4.59393D-02\n",
      "\n",
      "At iterate   45    f=  7.55166D+00    |proj g|=  5.22645D-03\n"
     ]
    },
    {
     "name": "stderr",
     "output_type": "stream",
     "text": [
      "/Users/sujaykumar/miniconda3/lib/python3.10/site-packages/statsmodels/base/model.py:607: ConvergenceWarning: Maximum Likelihood optimization failed to converge. Check mle_retvals\n",
      "  warnings.warn(\"Maximum Likelihood optimization failed to \"\n"
     ]
    },
    {
     "name": "stdout",
     "output_type": "stream",
     "text": [
      "\n",
      "At iterate   50    f=  7.55130D+00    |proj g|=  9.95905D-03\n",
      "\n",
      "           * * *\n",
      "\n",
      "Tit   = total number of iterations\n",
      "Tnf   = total number of function evaluations\n",
      "Tnint = total number of segments explored during Cauchy searches\n",
      "Skip  = number of BFGS updates skipped\n",
      "Nact  = number of active bounds at final generalized Cauchy point\n",
      "Projg = norm of the final projected gradient\n",
      "F     = final function value\n",
      "\n",
      "           * * *\n",
      "\n",
      "   N    Tit     Tnf  Tnint  Skip  Nact     Projg        F\n",
      "   10     50     70      1     0     0   9.959D-03   7.551D+00\n",
      "  F =   7.5513044512336984     \n",
      "\n",
      "STOP: TOTAL NO. of ITERATIONS REACHED LIMIT                 \n",
      "                                       SARIMAX Results                                        \n",
      "==============================================================================================\n",
      "Dep. Variable:     Max.Demand met during the day (MW)   No. Observations:                 3682\n",
      "Model:                    SARIMAX(6, 1, [1, 2, 3], 7)   Log Likelihood              -27803.903\n",
      "Date:                                Fri, 21 Jul 2023   AIC                          55627.806\n",
      "Time:                                        22:42:01   BIC                          55689.899\n",
      "Sample:                                    04-01-2013   HQIC                         55649.911\n",
      "                                         - 04-30-2023                                         \n",
      "Covariance Type:                                  opg                                         \n",
      "==============================================================================\n",
      "                 coef    std err          z      P>|z|      [0.025      0.975]\n",
      "------------------------------------------------------------------------------\n",
      "ar.S.L7        0.5558      0.046     12.134      0.000       0.466       0.646\n",
      "ar.S.L14       0.9867      0.067     14.725      0.000       0.855       1.118\n",
      "ar.S.L21      -0.6006      0.029    -20.873      0.000      -0.657      -0.544\n",
      "ar.S.L28      -0.1924      0.022     -8.858      0.000      -0.235      -0.150\n",
      "ar.S.L35      -0.1116      0.016     -6.860      0.000      -0.143      -0.080\n",
      "ar.S.L42      -0.0208      0.015     -1.422      0.155      -0.050       0.008\n",
      "ma.S.L7       -0.8749      0.043    -20.475      0.000      -0.959      -0.791\n",
      "ma.S.L14      -0.8027      0.078    -10.256      0.000      -0.956      -0.649\n",
      "ma.S.L21       0.9589      0.042     22.706      0.000       0.876       1.042\n",
      "sigma2      2.286e+05   4188.984     54.571      0.000     2.2e+05    2.37e+05\n",
      "===================================================================================\n",
      "Ljung-Box (L1) (Q):                2390.73   Jarque-Bera (JB):               615.37\n",
      "Prob(Q):                              0.00   Prob(JB):                         0.00\n",
      "Heteroskedasticity (H):               2.34   Skew:                            -0.16\n",
      "Prob(H) (two-sided):                  0.00   Kurtosis:                         4.98\n",
      "===================================================================================\n",
      "\n",
      "Warnings:\n",
      "[1] Covariance matrix calculated using the outer product of gradients (complex-step).\n"
     ]
    }
   ],
   "source": [
    "sarima_4 = SARIMAX(df1_train,order=(0,0,0),seasonal_order=(6,1,3,7)).fit()\n",
    "print(sarima_4.summary())"
   ]
  },
  {
   "cell_type": "code",
   "execution_count": 16,
   "id": "ca7ba1c9",
   "metadata": {},
   "outputs": [
    {
     "name": "stdout",
     "output_type": "stream",
     "text": [
      "The MAPE Score is :  26.44254270617914\n",
      "The MAE Score is : 339.2704180564676\n",
      "--------------------------------------------------------------------\n",
      "The MAPE Score is :  15.210082053918544\n",
      "The MAE Score is : 339.2704180564676\n"
     ]
    },
    {
     "data": {
      "text/plain": [
       "(15.210082053918544, 339.2704180564676)"
      ]
     },
     "execution_count": 16,
     "metadata": {},
     "output_type": "execute_result"
    }
   ],
   "source": [
    "get_MAPE_MAE(df1_train,sarima_4)\n",
    "print(\"--------------------------------------------------------------------\")\n",
    "get_MAPE_MAE_test(df1_test,sarima_4)"
   ]
  },
  {
   "cell_type": "markdown",
   "id": "ec603830",
   "metadata": {},
   "source": [
    "## Find P and Q for S"
   ]
  },
  {
   "cell_type": "code",
   "execution_count": 17,
   "id": "a02eaff7",
   "metadata": {},
   "outputs": [
    {
     "data": {
      "image/png": "[encoded data removed]",
      "text/plain": [
       "<Figure size 1200x800 with 2 Axes>"
      ]
     },
     "metadata": {},
     "output_type": "display_data"
    }
   ],
   "source": [
    "fig, (ax1,ax2) = plt.subplots(2,1,figsize=(12,8))\n",
    "plot_acf(df1_train,lags=[7,14,21,28,35],zero=False,ax=ax1)\n",
    "plot_pacf(df1_train,lags=[7,14,21,28,35],zero=False,ax=ax2)\n",
    "plt.show()"
   ]
  },
  {
   "cell_type": "code",
   "execution_count": 18,
   "id": "f2b93399",
   "metadata": {},
   "outputs": [
    {
     "data": {
      "image/png": "[encoded data removed]",
      "text/plain": [
       "<Figure size 1200x800 with 2 Axes>"
      ]
     },
     "metadata": {},
     "output_type": "display_data"
    }
   ],
   "source": [
    "fig, (ax1,ax2) = plt.subplots(2,1,figsize=(12,8))\n",
    "plot_acf(df1_train,lags=[30,60,90,120,150,180],zero=False,ax=ax1)\n",
    "plot_pacf(df1_train,lags=[30,60,90,120,150,180],zero=False,ax=ax2)\n",
    "plt.show()"
   ]
  },
  {
   "cell_type": "code",
   "execution_count": 19,
   "id": "081e99fd",
   "metadata": {},
   "outputs": [
    {
     "data": {
      "image/png": "[encoded data removed]",
      "text/plain": [
       "<Figure size 1200x800 with 2 Axes>"
      ]
     },
     "metadata": {},
     "output_type": "display_data"
    }
   ],
   "source": [
    "fig, (ax1,ax2) = plt.subplots(2,1,figsize=(12,8))\n",
    "plot_acf(df1_train,lags=[365,730,1095,1460],zero=False,ax=ax1)\n",
    "plot_pacf(df1_train,lags=[365,730,1095,1460],zero=False,ax=ax2)\n",
    "plt.show()"
   ]
  },
  {
   "cell_type": "code",
   "execution_count": 20,
   "id": "c0a53c28",
   "metadata": {
    "scrolled": true
   },
   "outputs": [
    {
     "name": "stderr",
     "output_type": "stream",
     "text": [
      "/Users/sujaykumar/miniconda3/lib/python3.10/site-packages/statsmodels/tsa/base/tsa_model.py:473: ValueWarning: No frequency information was provided, so inferred frequency D will be used.\n",
      "  self._init_dates(dates, freq)\n",
      "/Users/sujaykumar/miniconda3/lib/python3.10/site-packages/statsmodels/tsa/base/tsa_model.py:473: ValueWarning: No frequency information was provided, so inferred frequency D will be used.\n",
      "  self._init_dates(dates, freq)\n",
      "/Users/sujaykumar/miniconda3/lib/python3.10/site-packages/statsmodels/tsa/statespace/representation.py:374: FutureWarning: Unknown keyword arguments: dict_keys(['orders']).Passing unknown keyword arguments will raise a TypeError beginning in version 0.15.\n",
      "  warnings.warn(msg, FutureWarning)\n"
     ]
    },
    {
     "name": "stdout",
     "output_type": "stream",
     "text": [
      "RUNNING THE L-BFGS-B CODE\n",
      "\n",
      "           * * *\n",
      "\n",
      "Machine precision = 2.220D-16\n",
      " N =           11     M =           10\n",
      "\n",
      "At X0         0 variables are exactly at the bounds\n",
      "\n",
      "At iterate    0    f=  7.06968D+00    |proj g|=  2.92894D-01\n"
     ]
    },
    {
     "name": "stderr",
     "output_type": "stream",
     "text": [
      " This problem is unconstrained.\n"
     ]
    },
    {
     "name": "stdout",
     "output_type": "stream",
     "text": [
      "\n",
      "At iterate    5    f=  6.92055D+00    |proj g|=  1.88107D-02\n",
      "\n",
      "At iterate   10    f=  6.91669D+00    |proj g|=  1.15779D-03\n",
      "\n",
      "At iterate   15    f=  6.91632D+00    |proj g|=  1.13286D-02\n",
      "\n",
      "At iterate   20    f=  6.91558D+00    |proj g|=  7.28998D-04\n",
      "\n",
      "At iterate   25    f=  6.91549D+00    |proj g|=  6.29292D-03\n",
      "\n",
      "At iterate   30    f=  6.91406D+00    |proj g|=  2.21634D-02\n",
      "\n",
      "At iterate   35    f=  6.91314D+00    |proj g|=  1.32072D-02\n",
      "\n",
      "At iterate   40    f=  6.91270D+00    |proj g|=  4.87040D-03\n",
      "\n",
      "At iterate   45    f=  6.91240D+00    |proj g|=  2.27397D-02\n"
     ]
    },
    {
     "name": "stderr",
     "output_type": "stream",
     "text": [
      "/Users/sujaykumar/miniconda3/lib/python3.10/site-packages/statsmodels/base/model.py:607: ConvergenceWarning: Maximum Likelihood optimization failed to converge. Check mle_retvals\n",
      "  warnings.warn(\"Maximum Likelihood optimization failed to \"\n"
     ]
    },
    {
     "name": "stdout",
     "output_type": "stream",
     "text": [
      "\n",
      "At iterate   50    f=  6.91142D+00    |proj g|=  2.51455D-02\n",
      "\n",
      "           * * *\n",
      "\n",
      "Tit   = total number of iterations\n",
      "Tnf   = total number of function evaluations\n",
      "Tnint = total number of segments explored during Cauchy searches\n",
      "Skip  = number of BFGS updates skipped\n",
      "Nact  = number of active bounds at final generalized Cauchy point\n",
      "Projg = norm of the final projected gradient\n",
      "F     = final function value\n",
      "\n",
      "           * * *\n",
      "\n",
      "   N    Tit     Tnf  Tnint  Skip  Nact     Projg        F\n",
      "   11     50     61      1     0     0   2.515D-02   6.911D+00\n",
      "  F =   6.9114200309706479     \n",
      "\n",
      "STOP: TOTAL NO. of ITERATIONS REACHED LIMIT                 \n",
      "The MAPE Score is :  26.556703263721076\n",
      "The MAE Score is : 167.0327075594457\n",
      "The MAPE Score is :  26.556703263721076\n",
      "The MAE Score is : 167.0327075594457\n",
      "The MAPE Score is :  19.905056225091265\n",
      "The MAE Score is : 167.0327075594457\n",
      "The MAPE Score is :  19.905056225091265\n",
      "The MAE Score is : 167.0327075594457\n"
     ]
    },
    {
     "name": "stderr",
     "output_type": "stream",
     "text": [
      "/Users/sujaykumar/miniconda3/lib/python3.10/site-packages/statsmodels/tsa/base/tsa_model.py:473: ValueWarning: No frequency information was provided, so inferred frequency D will be used.\n",
      "  self._init_dates(dates, freq)\n",
      "/Users/sujaykumar/miniconda3/lib/python3.10/site-packages/statsmodels/tsa/base/tsa_model.py:473: ValueWarning: No frequency information was provided, so inferred frequency D will be used.\n",
      "  self._init_dates(dates, freq)\n",
      "/Users/sujaykumar/miniconda3/lib/python3.10/site-packages/statsmodels/tsa/statespace/representation.py:374: FutureWarning: Unknown keyword arguments: dict_keys(['orders']).Passing unknown keyword arguments will raise a TypeError beginning in version 0.15.\n",
      "  warnings.warn(msg, FutureWarning)\n",
      " This problem is unconstrained.\n"
     ]
    },
    {
     "name": "stdout",
     "output_type": "stream",
     "text": [
      "RUNNING THE L-BFGS-B CODE\n",
      "\n",
      "           * * *\n",
      "\n",
      "Machine precision = 2.220D-16\n",
      " N =           11     M =           10\n",
      "\n",
      "At X0         0 variables are exactly at the bounds\n",
      "\n",
      "At iterate    0    f=  7.06968D+00    |proj g|=  2.92894D-01\n",
      "\n",
      "At iterate    5    f=  6.92055D+00    |proj g|=  1.88107D-02\n",
      "\n",
      "At iterate   10    f=  6.91669D+00    |proj g|=  1.15779D-03\n",
      "\n",
      "At iterate   15    f=  6.91632D+00    |proj g|=  1.13286D-02\n",
      "\n",
      "At iterate   20    f=  6.91558D+00    |proj g|=  7.28998D-04\n",
      "\n",
      "At iterate   25    f=  6.91549D+00    |proj g|=  6.29292D-03\n",
      "\n",
      "At iterate   30    f=  6.91406D+00    |proj g|=  2.21634D-02\n",
      "\n",
      "At iterate   35    f=  6.91314D+00    |proj g|=  1.32072D-02\n",
      "\n",
      "At iterate   40    f=  6.91270D+00    |proj g|=  4.87040D-03\n",
      "\n",
      "At iterate   45    f=  6.91240D+00    |proj g|=  2.27397D-02\n"
     ]
    },
    {
     "name": "stderr",
     "output_type": "stream",
     "text": [
      "/Users/sujaykumar/miniconda3/lib/python3.10/site-packages/statsmodels/base/model.py:607: ConvergenceWarning: Maximum Likelihood optimization failed to converge. Check mle_retvals\n",
      "  warnings.warn(\"Maximum Likelihood optimization failed to \"\n"
     ]
    },
    {
     "name": "stdout",
     "output_type": "stream",
     "text": [
      "\n",
      "At iterate   50    f=  6.91142D+00    |proj g|=  2.51455D-02\n",
      "\n",
      "           * * *\n",
      "\n",
      "Tit   = total number of iterations\n",
      "Tnf   = total number of function evaluations\n",
      "Tnint = total number of segments explored during Cauchy searches\n",
      "Skip  = number of BFGS updates skipped\n",
      "Nact  = number of active bounds at final generalized Cauchy point\n",
      "Projg = norm of the final projected gradient\n",
      "F     = final function value\n",
      "\n",
      "           * * *\n",
      "\n",
      "   N    Tit     Tnf  Tnint  Skip  Nact     Projg        F\n",
      "   11     50     61      1     0     0   2.515D-02   6.911D+00\n",
      "  F =   6.9114200309706479     \n",
      "\n",
      "STOP: TOTAL NO. of ITERATIONS REACHED LIMIT                 \n",
      "The MAPE Score is :  26.556703263721076\n",
      "The MAE Score is : 167.0327075594457\n",
      "The MAPE Score is :  26.556703263721076\n",
      "The MAE Score is : 167.0327075594457\n",
      "The MAPE Score is :  19.905056225091265\n",
      "The MAE Score is : 167.0327075594457\n",
      "The MAPE Score is :  19.905056225091265\n",
      "The MAE Score is : 167.0327075594457\n"
     ]
    },
    {
     "name": "stderr",
     "output_type": "stream",
     "text": [
      "/Users/sujaykumar/miniconda3/lib/python3.10/site-packages/statsmodels/tsa/base/tsa_model.py:473: ValueWarning: No frequency information was provided, so inferred frequency D will be used.\n",
      "  self._init_dates(dates, freq)\n",
      "/Users/sujaykumar/miniconda3/lib/python3.10/site-packages/statsmodels/tsa/base/tsa_model.py:473: ValueWarning: No frequency information was provided, so inferred frequency D will be used.\n",
      "  self._init_dates(dates, freq)\n",
      "/Users/sujaykumar/miniconda3/lib/python3.10/site-packages/statsmodels/tsa/statespace/representation.py:374: FutureWarning: Unknown keyword arguments: dict_keys(['orders']).Passing unknown keyword arguments will raise a TypeError beginning in version 0.15.\n",
      "  warnings.warn(msg, FutureWarning)\n"
     ]
    },
    {
     "name": "stdout",
     "output_type": "stream",
     "text": [
      "RUNNING THE L-BFGS-B CODE\n",
      "\n",
      "           * * *\n",
      "\n",
      "Machine precision = 2.220D-16\n",
      " N =           11     M =           10\n",
      "\n",
      "At X0         0 variables are exactly at the bounds\n",
      "\n",
      "At iterate    0    f=  7.06968D+00    |proj g|=  2.92894D-01\n"
     ]
    },
    {
     "name": "stderr",
     "output_type": "stream",
     "text": [
      " This problem is unconstrained.\n"
     ]
    },
    {
     "name": "stdout",
     "output_type": "stream",
     "text": [
      "\n",
      "At iterate    5    f=  6.92055D+00    |proj g|=  1.88107D-02\n",
      "\n",
      "At iterate   10    f=  6.91669D+00    |proj g|=  1.15779D-03\n",
      "\n",
      "At iterate   15    f=  6.91632D+00    |proj g|=  1.13286D-02\n",
      "\n",
      "At iterate   20    f=  6.91558D+00    |proj g|=  7.28998D-04\n",
      "\n",
      "At iterate   25    f=  6.91549D+00    |proj g|=  6.29292D-03\n",
      "\n",
      "At iterate   30    f=  6.91406D+00    |proj g|=  2.21634D-02\n",
      "\n",
      "At iterate   35    f=  6.91314D+00    |proj g|=  1.32072D-02\n",
      "\n",
      "At iterate   40    f=  6.91270D+00    |proj g|=  4.87040D-03\n",
      "\n",
      "At iterate   45    f=  6.91240D+00    |proj g|=  2.27397D-02\n"
     ]
    },
    {
     "name": "stderr",
     "output_type": "stream",
     "text": [
      "/Users/sujaykumar/miniconda3/lib/python3.10/site-packages/statsmodels/base/model.py:607: ConvergenceWarning: Maximum Likelihood optimization failed to converge. Check mle_retvals\n",
      "  warnings.warn(\"Maximum Likelihood optimization failed to \"\n"
     ]
    },
    {
     "name": "stdout",
     "output_type": "stream",
     "text": [
      "\n",
      "At iterate   50    f=  6.91142D+00    |proj g|=  2.51455D-02\n",
      "\n",
      "           * * *\n",
      "\n",
      "Tit   = total number of iterations\n",
      "Tnf   = total number of function evaluations\n",
      "Tnint = total number of segments explored during Cauchy searches\n",
      "Skip  = number of BFGS updates skipped\n",
      "Nact  = number of active bounds at final generalized Cauchy point\n",
      "Projg = norm of the final projected gradient\n",
      "F     = final function value\n",
      "\n",
      "           * * *\n",
      "\n",
      "   N    Tit     Tnf  Tnint  Skip  Nact     Projg        F\n",
      "   11     50     61      1     0     0   2.515D-02   6.911D+00\n",
      "  F =   6.9114200309706479     \n",
      "\n",
      "STOP: TOTAL NO. of ITERATIONS REACHED LIMIT                 \n",
      "The MAPE Score is :  26.556703263721076\n",
      "The MAE Score is : 167.0327075594457\n",
      "The MAPE Score is :  26.556703263721076\n",
      "The MAE Score is : 167.0327075594457\n",
      "The MAPE Score is :  19.905056225091265\n",
      "The MAE Score is : 167.0327075594457\n",
      "The MAPE Score is :  19.905056225091265\n",
      "The MAE Score is : 167.0327075594457\n"
     ]
    },
    {
     "name": "stderr",
     "output_type": "stream",
     "text": [
      "/Users/sujaykumar/miniconda3/lib/python3.10/site-packages/statsmodels/tsa/base/tsa_model.py:473: ValueWarning: No frequency information was provided, so inferred frequency D will be used.\n",
      "  self._init_dates(dates, freq)\n",
      "/Users/sujaykumar/miniconda3/lib/python3.10/site-packages/statsmodels/tsa/base/tsa_model.py:473: ValueWarning: No frequency information was provided, so inferred frequency D will be used.\n",
      "  self._init_dates(dates, freq)\n",
      "/Users/sujaykumar/miniconda3/lib/python3.10/site-packages/statsmodels/tsa/statespace/representation.py:374: FutureWarning: Unknown keyword arguments: dict_keys(['orders']).Passing unknown keyword arguments will raise a TypeError beginning in version 0.15.\n",
      "  warnings.warn(msg, FutureWarning)\n"
     ]
    },
    {
     "name": "stdout",
     "output_type": "stream",
     "text": [
      "RUNNING THE L-BFGS-B CODE\n",
      "\n",
      "           * * *\n",
      "\n",
      "Machine precision = 2.220D-16\n",
      " N =           11     M =           10\n",
      "\n",
      "At X0         0 variables are exactly at the bounds\n",
      "\n",
      "At iterate    0    f=  7.06968D+00    |proj g|=  2.92894D-01\n"
     ]
    },
    {
     "name": "stderr",
     "output_type": "stream",
     "text": [
      " This problem is unconstrained.\n"
     ]
    },
    {
     "name": "stdout",
     "output_type": "stream",
     "text": [
      "\n",
      "At iterate    5    f=  6.92055D+00    |proj g|=  1.88107D-02\n",
      "\n",
      "At iterate   10    f=  6.91669D+00    |proj g|=  1.15779D-03\n",
      "\n",
      "At iterate   15    f=  6.91632D+00    |proj g|=  1.13286D-02\n",
      "\n",
      "At iterate   20    f=  6.91558D+00    |proj g|=  7.28998D-04\n",
      "\n",
      "At iterate   25    f=  6.91549D+00    |proj g|=  6.29292D-03\n",
      "\n",
      "At iterate   30    f=  6.91406D+00    |proj g|=  2.21634D-02\n",
      "\n",
      "At iterate   35    f=  6.91314D+00    |proj g|=  1.32072D-02\n",
      "\n",
      "At iterate   40    f=  6.91270D+00    |proj g|=  4.87040D-03\n",
      "\n",
      "At iterate   45    f=  6.91240D+00    |proj g|=  2.27397D-02\n"
     ]
    },
    {
     "name": "stderr",
     "output_type": "stream",
     "text": [
      "/Users/sujaykumar/miniconda3/lib/python3.10/site-packages/statsmodels/base/model.py:607: ConvergenceWarning: Maximum Likelihood optimization failed to converge. Check mle_retvals\n",
      "  warnings.warn(\"Maximum Likelihood optimization failed to \"\n"
     ]
    },
    {
     "name": "stdout",
     "output_type": "stream",
     "text": [
      "\n",
      "At iterate   50    f=  6.91142D+00    |proj g|=  2.51455D-02\n",
      "\n",
      "           * * *\n",
      "\n",
      "Tit   = total number of iterations\n",
      "Tnf   = total number of function evaluations\n",
      "Tnint = total number of segments explored during Cauchy searches\n",
      "Skip  = number of BFGS updates skipped\n",
      "Nact  = number of active bounds at final generalized Cauchy point\n",
      "Projg = norm of the final projected gradient\n",
      "F     = final function value\n",
      "\n",
      "           * * *\n",
      "\n",
      "   N    Tit     Tnf  Tnint  Skip  Nact     Projg        F\n",
      "   11     50     61      1     0     0   2.515D-02   6.911D+00\n",
      "  F =   6.9114200309706479     \n",
      "\n",
      "STOP: TOTAL NO. of ITERATIONS REACHED LIMIT                 \n",
      "The MAPE Score is :  26.556703263721076\n",
      "The MAE Score is : 167.0327075594457\n",
      "The MAPE Score is :  26.556703263721076\n",
      "The MAE Score is : 167.0327075594457\n",
      "The MAPE Score is :  19.905056225091265\n",
      "The MAE Score is : 167.0327075594457\n",
      "The MAPE Score is :  19.905056225091265\n",
      "The MAE Score is : 167.0327075594457\n"
     ]
    },
    {
     "name": "stderr",
     "output_type": "stream",
     "text": [
      "/Users/sujaykumar/miniconda3/lib/python3.10/site-packages/statsmodels/tsa/base/tsa_model.py:473: ValueWarning: No frequency information was provided, so inferred frequency D will be used.\n",
      "  self._init_dates(dates, freq)\n",
      "/Users/sujaykumar/miniconda3/lib/python3.10/site-packages/statsmodels/tsa/base/tsa_model.py:473: ValueWarning: No frequency information was provided, so inferred frequency D will be used.\n",
      "  self._init_dates(dates, freq)\n",
      "/Users/sujaykumar/miniconda3/lib/python3.10/site-packages/statsmodels/tsa/statespace/representation.py:374: FutureWarning: Unknown keyword arguments: dict_keys(['orders']).Passing unknown keyword arguments will raise a TypeError beginning in version 0.15.\n",
      "  warnings.warn(msg, FutureWarning)\n",
      " This problem is unconstrained.\n"
     ]
    },
    {
     "name": "stdout",
     "output_type": "stream",
     "text": [
      "RUNNING THE L-BFGS-B CODE\n",
      "\n",
      "           * * *\n",
      "\n",
      "Machine precision = 2.220D-16\n",
      " N =           11     M =           10\n",
      "\n",
      "At X0         0 variables are exactly at the bounds\n",
      "\n",
      "At iterate    0    f=  7.06968D+00    |proj g|=  2.92894D-01\n",
      "\n",
      "At iterate    5    f=  6.92055D+00    |proj g|=  1.88107D-02\n",
      "\n",
      "At iterate   10    f=  6.91669D+00    |proj g|=  1.15779D-03\n",
      "\n",
      "At iterate   15    f=  6.91632D+00    |proj g|=  1.13286D-02\n",
      "\n",
      "At iterate   20    f=  6.91558D+00    |proj g|=  7.28998D-04\n",
      "\n",
      "At iterate   25    f=  6.91549D+00    |proj g|=  6.29292D-03\n",
      "\n",
      "At iterate   30    f=  6.91406D+00    |proj g|=  2.21634D-02\n",
      "\n",
      "At iterate   35    f=  6.91314D+00    |proj g|=  1.32072D-02\n",
      "\n",
      "At iterate   40    f=  6.91270D+00    |proj g|=  4.87040D-03\n",
      "\n",
      "At iterate   45    f=  6.91240D+00    |proj g|=  2.27397D-02\n"
     ]
    },
    {
     "name": "stderr",
     "output_type": "stream",
     "text": [
      "/Users/sujaykumar/miniconda3/lib/python3.10/site-packages/statsmodels/base/model.py:607: ConvergenceWarning: Maximum Likelihood optimization failed to converge. Check mle_retvals\n",
      "  warnings.warn(\"Maximum Likelihood optimization failed to \"\n"
     ]
    },
    {
     "name": "stdout",
     "output_type": "stream",
     "text": [
      "\n",
      "At iterate   50    f=  6.91142D+00    |proj g|=  2.51455D-02\n",
      "\n",
      "           * * *\n",
      "\n",
      "Tit   = total number of iterations\n",
      "Tnf   = total number of function evaluations\n",
      "Tnint = total number of segments explored during Cauchy searches\n",
      "Skip  = number of BFGS updates skipped\n",
      "Nact  = number of active bounds at final generalized Cauchy point\n",
      "Projg = norm of the final projected gradient\n",
      "F     = final function value\n",
      "\n",
      "           * * *\n",
      "\n",
      "   N    Tit     Tnf  Tnint  Skip  Nact     Projg        F\n",
      "   11     50     61      1     0     0   2.515D-02   6.911D+00\n",
      "  F =   6.9114200309706479     \n",
      "\n",
      "STOP: TOTAL NO. of ITERATIONS REACHED LIMIT                 \n",
      "The MAPE Score is :  26.556703263721076\n",
      "The MAE Score is : 167.0327075594457\n",
      "The MAPE Score is :  26.556703263721076\n",
      "The MAE Score is : 167.0327075594457\n",
      "The MAPE Score is :  19.905056225091265\n",
      "The MAE Score is : 167.0327075594457\n",
      "The MAPE Score is :  19.905056225091265\n",
      "The MAE Score is : 167.0327075594457\n"
     ]
    },
    {
     "name": "stderr",
     "output_type": "stream",
     "text": [
      "/Users/sujaykumar/miniconda3/lib/python3.10/site-packages/statsmodels/tsa/base/tsa_model.py:473: ValueWarning: No frequency information was provided, so inferred frequency D will be used.\n",
      "  self._init_dates(dates, freq)\n",
      "/Users/sujaykumar/miniconda3/lib/python3.10/site-packages/statsmodels/tsa/base/tsa_model.py:473: ValueWarning: No frequency information was provided, so inferred frequency D will be used.\n",
      "  self._init_dates(dates, freq)\n",
      "/Users/sujaykumar/miniconda3/lib/python3.10/site-packages/statsmodels/tsa/statespace/representation.py:374: FutureWarning: Unknown keyword arguments: dict_keys(['orders']).Passing unknown keyword arguments will raise a TypeError beginning in version 0.15.\n",
      "  warnings.warn(msg, FutureWarning)\n"
     ]
    },
    {
     "name": "stdout",
     "output_type": "stream",
     "text": [
      "RUNNING THE L-BFGS-B CODE\n",
      "\n",
      "           * * *\n",
      "\n",
      "Machine precision = 2.220D-16\n",
      " N =           11     M =           10\n",
      "\n",
      "At X0         0 variables are exactly at the bounds\n",
      "\n",
      "At iterate    0    f=  7.06968D+00    |proj g|=  2.92894D-01\n"
     ]
    },
    {
     "name": "stderr",
     "output_type": "stream",
     "text": [
      " This problem is unconstrained.\n"
     ]
    },
    {
     "name": "stdout",
     "output_type": "stream",
     "text": [
      "\n",
      "At iterate    5    f=  6.92055D+00    |proj g|=  1.88107D-02\n",
      "\n",
      "At iterate   10    f=  6.91669D+00    |proj g|=  1.15779D-03\n",
      "\n",
      "At iterate   15    f=  6.91632D+00    |proj g|=  1.13286D-02\n",
      "\n",
      "At iterate   20    f=  6.91558D+00    |proj g|=  7.28998D-04\n",
      "\n",
      "At iterate   25    f=  6.91549D+00    |proj g|=  6.29292D-03\n",
      "\n",
      "At iterate   30    f=  6.91406D+00    |proj g|=  2.21634D-02\n",
      "\n",
      "At iterate   35    f=  6.91314D+00    |proj g|=  1.32072D-02\n",
      "\n",
      "At iterate   40    f=  6.91270D+00    |proj g|=  4.87040D-03\n",
      "\n",
      "At iterate   45    f=  6.91240D+00    |proj g|=  2.27397D-02\n"
     ]
    },
    {
     "name": "stderr",
     "output_type": "stream",
     "text": [
      "/Users/sujaykumar/miniconda3/lib/python3.10/site-packages/statsmodels/base/model.py:607: ConvergenceWarning: Maximum Likelihood optimization failed to converge. Check mle_retvals\n",
      "  warnings.warn(\"Maximum Likelihood optimization failed to \"\n"
     ]
    },
    {
     "name": "stdout",
     "output_type": "stream",
     "text": [
      "\n",
      "At iterate   50    f=  6.91142D+00    |proj g|=  2.51455D-02\n",
      "\n",
      "           * * *\n",
      "\n",
      "Tit   = total number of iterations\n",
      "Tnf   = total number of function evaluations\n",
      "Tnint = total number of segments explored during Cauchy searches\n",
      "Skip  = number of BFGS updates skipped\n",
      "Nact  = number of active bounds at final generalized Cauchy point\n",
      "Projg = norm of the final projected gradient\n",
      "F     = final function value\n",
      "\n",
      "           * * *\n",
      "\n",
      "   N    Tit     Tnf  Tnint  Skip  Nact     Projg        F\n",
      "   11     50     61      1     0     0   2.515D-02   6.911D+00\n",
      "  F =   6.9114200309706479     \n",
      "\n",
      "STOP: TOTAL NO. of ITERATIONS REACHED LIMIT                 \n",
      "The MAPE Score is :  26.556703263721076\n",
      "The MAE Score is : 167.0327075594457\n",
      "The MAPE Score is :  26.556703263721076\n",
      "The MAE Score is : 167.0327075594457\n",
      "The MAPE Score is :  19.905056225091265\n",
      "The MAE Score is : 167.0327075594457\n",
      "The MAPE Score is :  19.905056225091265\n",
      "The MAE Score is : 167.0327075594457\n"
     ]
    },
    {
     "name": "stderr",
     "output_type": "stream",
     "text": [
      "/Users/sujaykumar/miniconda3/lib/python3.10/site-packages/statsmodels/tsa/base/tsa_model.py:473: ValueWarning: No frequency information was provided, so inferred frequency D will be used.\n",
      "  self._init_dates(dates, freq)\n",
      "/Users/sujaykumar/miniconda3/lib/python3.10/site-packages/statsmodels/tsa/base/tsa_model.py:473: ValueWarning: No frequency information was provided, so inferred frequency D will be used.\n",
      "  self._init_dates(dates, freq)\n",
      "/Users/sujaykumar/miniconda3/lib/python3.10/site-packages/statsmodels/tsa/statespace/representation.py:374: FutureWarning: Unknown keyword arguments: dict_keys(['orders']).Passing unknown keyword arguments will raise a TypeError beginning in version 0.15.\n",
      "  warnings.warn(msg, FutureWarning)\n"
     ]
    },
    {
     "name": "stdout",
     "output_type": "stream",
     "text": [
      "RUNNING THE L-BFGS-B CODE\n",
      "\n",
      "           * * *\n",
      "\n",
      "Machine precision = 2.220D-16\n",
      " N =           11     M =           10\n",
      "\n",
      "At X0         0 variables are exactly at the bounds\n",
      "\n",
      "At iterate    0    f=  7.06968D+00    |proj g|=  2.92894D-01\n"
     ]
    },
    {
     "name": "stderr",
     "output_type": "stream",
     "text": [
      " This problem is unconstrained.\n"
     ]
    },
    {
     "name": "stdout",
     "output_type": "stream",
     "text": [
      "\n",
      "At iterate    5    f=  6.92055D+00    |proj g|=  1.88107D-02\n",
      "\n",
      "At iterate   10    f=  6.91669D+00    |proj g|=  1.15779D-03\n",
      "\n",
      "At iterate   15    f=  6.91632D+00    |proj g|=  1.13286D-02\n",
      "\n",
      "At iterate   20    f=  6.91558D+00    |proj g|=  7.28998D-04\n",
      "\n",
      "At iterate   25    f=  6.91549D+00    |proj g|=  6.29292D-03\n",
      "\n",
      "At iterate   30    f=  6.91406D+00    |proj g|=  2.21634D-02\n",
      "\n",
      "At iterate   35    f=  6.91314D+00    |proj g|=  1.32072D-02\n",
      "\n",
      "At iterate   40    f=  6.91270D+00    |proj g|=  4.87040D-03\n",
      "\n",
      "At iterate   45    f=  6.91240D+00    |proj g|=  2.27397D-02\n"
     ]
    },
    {
     "name": "stderr",
     "output_type": "stream",
     "text": [
      "/Users/sujaykumar/miniconda3/lib/python3.10/site-packages/statsmodels/base/model.py:607: ConvergenceWarning: Maximum Likelihood optimization failed to converge. Check mle_retvals\n",
      "  warnings.warn(\"Maximum Likelihood optimization failed to \"\n"
     ]
    },
    {
     "name": "stdout",
     "output_type": "stream",
     "text": [
      "\n",
      "At iterate   50    f=  6.91142D+00    |proj g|=  2.51455D-02\n",
      "\n",
      "           * * *\n",
      "\n",
      "Tit   = total number of iterations\n",
      "Tnf   = total number of function evaluations\n",
      "Tnint = total number of segments explored during Cauchy searches\n",
      "Skip  = number of BFGS updates skipped\n",
      "Nact  = number of active bounds at final generalized Cauchy point\n",
      "Projg = norm of the final projected gradient\n",
      "F     = final function value\n",
      "\n",
      "           * * *\n",
      "\n",
      "   N    Tit     Tnf  Tnint  Skip  Nact     Projg        F\n",
      "   11     50     61      1     0     0   2.515D-02   6.911D+00\n",
      "  F =   6.9114200309706479     \n",
      "\n",
      "STOP: TOTAL NO. of ITERATIONS REACHED LIMIT                 \n",
      "The MAPE Score is :  26.556703263721076\n",
      "The MAE Score is : 167.0327075594457\n",
      "The MAPE Score is :  26.556703263721076\n",
      "The MAE Score is : 167.0327075594457\n",
      "The MAPE Score is :  19.905056225091265\n",
      "The MAE Score is : 167.0327075594457\n",
      "The MAPE Score is :  19.905056225091265\n",
      "The MAE Score is : 167.0327075594457\n"
     ]
    },
    {
     "name": "stderr",
     "output_type": "stream",
     "text": [
      "/Users/sujaykumar/miniconda3/lib/python3.10/site-packages/statsmodels/tsa/base/tsa_model.py:473: ValueWarning: No frequency information was provided, so inferred frequency D will be used.\n",
      "  self._init_dates(dates, freq)\n",
      "/Users/sujaykumar/miniconda3/lib/python3.10/site-packages/statsmodels/tsa/base/tsa_model.py:473: ValueWarning: No frequency information was provided, so inferred frequency D will be used.\n",
      "  self._init_dates(dates, freq)\n",
      "/Users/sujaykumar/miniconda3/lib/python3.10/site-packages/statsmodels/tsa/statespace/representation.py:374: FutureWarning: Unknown keyword arguments: dict_keys(['orders']).Passing unknown keyword arguments will raise a TypeError beginning in version 0.15.\n",
      "  warnings.warn(msg, FutureWarning)\n"
     ]
    },
    {
     "name": "stdout",
     "output_type": "stream",
     "text": [
      "RUNNING THE L-BFGS-B CODE\n",
      "\n",
      "           * * *\n",
      "\n",
      "Machine precision = 2.220D-16\n",
      " N =           11     M =           10\n",
      "\n",
      "At X0         0 variables are exactly at the bounds\n",
      "\n",
      "At iterate    0    f=  7.06968D+00    |proj g|=  2.92894D-01\n"
     ]
    },
    {
     "name": "stderr",
     "output_type": "stream",
     "text": [
      " This problem is unconstrained.\n"
     ]
    },
    {
     "name": "stdout",
     "output_type": "stream",
     "text": [
      "\n",
      "At iterate    5    f=  6.92055D+00    |proj g|=  1.88107D-02\n",
      "\n",
      "At iterate   10    f=  6.91669D+00    |proj g|=  1.15779D-03\n",
      "\n",
      "At iterate   15    f=  6.91632D+00    |proj g|=  1.13286D-02\n",
      "\n",
      "At iterate   20    f=  6.91558D+00    |proj g|=  7.28998D-04\n",
      "\n",
      "At iterate   25    f=  6.91549D+00    |proj g|=  6.29292D-03\n",
      "\n",
      "At iterate   30    f=  6.91406D+00    |proj g|=  2.21634D-02\n",
      "\n",
      "At iterate   35    f=  6.91314D+00    |proj g|=  1.32072D-02\n",
      "\n",
      "At iterate   40    f=  6.91270D+00    |proj g|=  4.87040D-03\n",
      "\n",
      "At iterate   45    f=  6.91240D+00    |proj g|=  2.27397D-02\n"
     ]
    },
    {
     "name": "stderr",
     "output_type": "stream",
     "text": [
      "/Users/sujaykumar/miniconda3/lib/python3.10/site-packages/statsmodels/base/model.py:607: ConvergenceWarning: Maximum Likelihood optimization failed to converge. Check mle_retvals\n",
      "  warnings.warn(\"Maximum Likelihood optimization failed to \"\n"
     ]
    },
    {
     "name": "stdout",
     "output_type": "stream",
     "text": [
      "\n",
      "At iterate   50    f=  6.91142D+00    |proj g|=  2.51455D-02\n",
      "\n",
      "           * * *\n",
      "\n",
      "Tit   = total number of iterations\n",
      "Tnf   = total number of function evaluations\n",
      "Tnint = total number of segments explored during Cauchy searches\n",
      "Skip  = number of BFGS updates skipped\n",
      "Nact  = number of active bounds at final generalized Cauchy point\n",
      "Projg = norm of the final projected gradient\n",
      "F     = final function value\n",
      "\n",
      "           * * *\n",
      "\n",
      "   N    Tit     Tnf  Tnint  Skip  Nact     Projg        F\n",
      "   11     50     61      1     0     0   2.515D-02   6.911D+00\n",
      "  F =   6.9114200309706479     \n",
      "\n",
      "STOP: TOTAL NO. of ITERATIONS REACHED LIMIT                 \n",
      "The MAPE Score is :  26.556703263721076\n",
      "The MAE Score is : 167.0327075594457\n",
      "The MAPE Score is :  26.556703263721076\n",
      "The MAE Score is : 167.0327075594457\n",
      "The MAPE Score is :  19.905056225091265\n",
      "The MAE Score is : 167.0327075594457\n",
      "The MAPE Score is :  19.905056225091265\n",
      "The MAE Score is : 167.0327075594457\n"
     ]
    },
    {
     "name": "stderr",
     "output_type": "stream",
     "text": [
      "/Users/sujaykumar/miniconda3/lib/python3.10/site-packages/statsmodels/tsa/base/tsa_model.py:473: ValueWarning: No frequency information was provided, so inferred frequency D will be used.\n",
      "  self._init_dates(dates, freq)\n",
      "/Users/sujaykumar/miniconda3/lib/python3.10/site-packages/statsmodels/tsa/base/tsa_model.py:473: ValueWarning: No frequency information was provided, so inferred frequency D will be used.\n",
      "  self._init_dates(dates, freq)\n",
      "/Users/sujaykumar/miniconda3/lib/python3.10/site-packages/statsmodels/tsa/statespace/representation.py:374: FutureWarning: Unknown keyword arguments: dict_keys(['orders']).Passing unknown keyword arguments will raise a TypeError beginning in version 0.15.\n",
      "  warnings.warn(msg, FutureWarning)\n",
      " This problem is unconstrained.\n"
     ]
    },
    {
     "name": "stdout",
     "output_type": "stream",
     "text": [
      "RUNNING THE L-BFGS-B CODE\n",
      "\n",
      "           * * *\n",
      "\n",
      "Machine precision = 2.220D-16\n",
      " N =           11     M =           10\n",
      "\n",
      "At X0         0 variables are exactly at the bounds\n",
      "\n",
      "At iterate    0    f=  7.06968D+00    |proj g|=  2.92894D-01\n",
      "\n",
      "At iterate    5    f=  6.92055D+00    |proj g|=  1.88107D-02\n",
      "\n",
      "At iterate   10    f=  6.91669D+00    |proj g|=  1.15779D-03\n",
      "\n",
      "At iterate   15    f=  6.91632D+00    |proj g|=  1.13286D-02\n",
      "\n",
      "At iterate   20    f=  6.91558D+00    |proj g|=  7.28998D-04\n",
      "\n",
      "At iterate   25    f=  6.91549D+00    |proj g|=  6.29292D-03\n",
      "\n",
      "At iterate   30    f=  6.91406D+00    |proj g|=  2.21634D-02\n",
      "\n",
      "At iterate   35    f=  6.91314D+00    |proj g|=  1.32072D-02\n",
      "\n",
      "At iterate   40    f=  6.91270D+00    |proj g|=  4.87040D-03\n",
      "\n",
      "At iterate   45    f=  6.91240D+00    |proj g|=  2.27397D-02\n"
     ]
    },
    {
     "name": "stderr",
     "output_type": "stream",
     "text": [
      "/Users/sujaykumar/miniconda3/lib/python3.10/site-packages/statsmodels/base/model.py:607: ConvergenceWarning: Maximum Likelihood optimization failed to converge. Check mle_retvals\n",
      "  warnings.warn(\"Maximum Likelihood optimization failed to \"\n"
     ]
    },
    {
     "name": "stdout",
     "output_type": "stream",
     "text": [
      "\n",
      "At iterate   50    f=  6.91142D+00    |proj g|=  2.51455D-02\n",
      "\n",
      "           * * *\n",
      "\n",
      "Tit   = total number of iterations\n",
      "Tnf   = total number of function evaluations\n",
      "Tnint = total number of segments explored during Cauchy searches\n",
      "Skip  = number of BFGS updates skipped\n",
      "Nact  = number of active bounds at final generalized Cauchy point\n",
      "Projg = norm of the final projected gradient\n",
      "F     = final function value\n",
      "\n",
      "           * * *\n",
      "\n",
      "   N    Tit     Tnf  Tnint  Skip  Nact     Projg        F\n",
      "   11     50     61      1     0     0   2.515D-02   6.911D+00\n",
      "  F =   6.9114200309706479     \n",
      "\n",
      "STOP: TOTAL NO. of ITERATIONS REACHED LIMIT                 \n",
      "The MAPE Score is :  26.556703263721076\n",
      "The MAE Score is : 167.0327075594457\n",
      "The MAPE Score is :  26.556703263721076\n",
      "The MAE Score is : 167.0327075594457\n",
      "The MAPE Score is :  19.905056225091265\n",
      "The MAE Score is : 167.0327075594457\n",
      "The MAPE Score is :  19.905056225091265\n",
      "The MAE Score is : 167.0327075594457\n"
     ]
    },
    {
     "name": "stderr",
     "output_type": "stream",
     "text": [
      "/Users/sujaykumar/miniconda3/lib/python3.10/site-packages/statsmodels/tsa/base/tsa_model.py:473: ValueWarning: No frequency information was provided, so inferred frequency D will be used.\n",
      "  self._init_dates(dates, freq)\n",
      "/Users/sujaykumar/miniconda3/lib/python3.10/site-packages/statsmodels/tsa/base/tsa_model.py:473: ValueWarning: No frequency information was provided, so inferred frequency D will be used.\n",
      "  self._init_dates(dates, freq)\n",
      "/Users/sujaykumar/miniconda3/lib/python3.10/site-packages/statsmodels/tsa/statespace/representation.py:374: FutureWarning: Unknown keyword arguments: dict_keys(['orders']).Passing unknown keyword arguments will raise a TypeError beginning in version 0.15.\n",
      "  warnings.warn(msg, FutureWarning)\n"
     ]
    },
    {
     "name": "stdout",
     "output_type": "stream",
     "text": [
      "RUNNING THE L-BFGS-B CODE\n",
      "\n",
      "           * * *\n",
      "\n",
      "Machine precision = 2.220D-16\n",
      " N =           11     M =           10\n",
      "\n",
      "At X0         0 variables are exactly at the bounds\n",
      "\n",
      "At iterate    0    f=  7.06968D+00    |proj g|=  2.92894D-01\n"
     ]
    },
    {
     "name": "stderr",
     "output_type": "stream",
     "text": [
      " This problem is unconstrained.\n"
     ]
    },
    {
     "name": "stdout",
     "output_type": "stream",
     "text": [
      "\n",
      "At iterate    5    f=  6.92055D+00    |proj g|=  1.88107D-02\n",
      "\n",
      "At iterate   10    f=  6.91669D+00    |proj g|=  1.15779D-03\n",
      "\n",
      "At iterate   15    f=  6.91632D+00    |proj g|=  1.13286D-02\n",
      "\n",
      "At iterate   20    f=  6.91558D+00    |proj g|=  7.28998D-04\n",
      "\n",
      "At iterate   25    f=  6.91549D+00    |proj g|=  6.29292D-03\n",
      "\n",
      "At iterate   30    f=  6.91406D+00    |proj g|=  2.21634D-02\n",
      "\n",
      "At iterate   35    f=  6.91314D+00    |proj g|=  1.32072D-02\n",
      "\n",
      "At iterate   40    f=  6.91270D+00    |proj g|=  4.87040D-03\n",
      "\n",
      "At iterate   45    f=  6.91240D+00    |proj g|=  2.27397D-02\n"
     ]
    },
    {
     "name": "stderr",
     "output_type": "stream",
     "text": [
      "/Users/sujaykumar/miniconda3/lib/python3.10/site-packages/statsmodels/base/model.py:607: ConvergenceWarning: Maximum Likelihood optimization failed to converge. Check mle_retvals\n",
      "  warnings.warn(\"Maximum Likelihood optimization failed to \"\n"
     ]
    },
    {
     "name": "stdout",
     "output_type": "stream",
     "text": [
      "\n",
      "At iterate   50    f=  6.91142D+00    |proj g|=  2.51455D-02\n",
      "\n",
      "           * * *\n",
      "\n",
      "Tit   = total number of iterations\n",
      "Tnf   = total number of function evaluations\n",
      "Tnint = total number of segments explored during Cauchy searches\n",
      "Skip  = number of BFGS updates skipped\n",
      "Nact  = number of active bounds at final generalized Cauchy point\n",
      "Projg = norm of the final projected gradient\n",
      "F     = final function value\n",
      "\n",
      "           * * *\n",
      "\n",
      "   N    Tit     Tnf  Tnint  Skip  Nact     Projg        F\n",
      "   11     50     61      1     0     0   2.515D-02   6.911D+00\n",
      "  F =   6.9114200309706479     \n",
      "\n",
      "STOP: TOTAL NO. of ITERATIONS REACHED LIMIT                 \n",
      "The MAPE Score is :  26.556703263721076\n",
      "The MAE Score is : 167.0327075594457\n",
      "The MAPE Score is :  26.556703263721076\n",
      "The MAE Score is : 167.0327075594457\n",
      "The MAPE Score is :  19.905056225091265\n",
      "The MAE Score is : 167.0327075594457\n",
      "The MAPE Score is :  19.905056225091265\n",
      "The MAE Score is : 167.0327075594457\n"
     ]
    },
    {
     "name": "stderr",
     "output_type": "stream",
     "text": [
      "/Users/sujaykumar/miniconda3/lib/python3.10/site-packages/statsmodels/tsa/base/tsa_model.py:473: ValueWarning: No frequency information was provided, so inferred frequency D will be used.\n",
      "  self._init_dates(dates, freq)\n",
      "/Users/sujaykumar/miniconda3/lib/python3.10/site-packages/statsmodels/tsa/base/tsa_model.py:473: ValueWarning: No frequency information was provided, so inferred frequency D will be used.\n",
      "  self._init_dates(dates, freq)\n",
      "/Users/sujaykumar/miniconda3/lib/python3.10/site-packages/statsmodels/tsa/statespace/representation.py:374: FutureWarning: Unknown keyword arguments: dict_keys(['orders']).Passing unknown keyword arguments will raise a TypeError beginning in version 0.15.\n",
      "  warnings.warn(msg, FutureWarning)\n"
     ]
    },
    {
     "name": "stdout",
     "output_type": "stream",
     "text": [
      "RUNNING THE L-BFGS-B CODE\n",
      "\n",
      "           * * *\n",
      "\n",
      "Machine precision = 2.220D-16\n",
      " N =           11     M =           10\n",
      "\n",
      "At X0         0 variables are exactly at the bounds\n",
      "\n",
      "At iterate    0    f=  7.06968D+00    |proj g|=  2.92894D-01\n"
     ]
    },
    {
     "name": "stderr",
     "output_type": "stream",
     "text": [
      " This problem is unconstrained.\n"
     ]
    },
    {
     "name": "stdout",
     "output_type": "stream",
     "text": [
      "\n",
      "At iterate    5    f=  6.92055D+00    |proj g|=  1.88107D-02\n",
      "\n",
      "At iterate   10    f=  6.91669D+00    |proj g|=  1.15779D-03\n",
      "\n",
      "At iterate   15    f=  6.91632D+00    |proj g|=  1.13286D-02\n",
      "\n",
      "At iterate   20    f=  6.91558D+00    |proj g|=  7.28998D-04\n",
      "\n",
      "At iterate   25    f=  6.91549D+00    |proj g|=  6.29292D-03\n",
      "\n",
      "At iterate   30    f=  6.91406D+00    |proj g|=  2.21634D-02\n",
      "\n",
      "At iterate   35    f=  6.91314D+00    |proj g|=  1.32072D-02\n",
      "\n",
      "At iterate   40    f=  6.91270D+00    |proj g|=  4.87040D-03\n",
      "\n",
      "At iterate   45    f=  6.91240D+00    |proj g|=  2.27397D-02\n"
     ]
    },
    {
     "name": "stderr",
     "output_type": "stream",
     "text": [
      "/Users/sujaykumar/miniconda3/lib/python3.10/site-packages/statsmodels/base/model.py:607: ConvergenceWarning: Maximum Likelihood optimization failed to converge. Check mle_retvals\n",
      "  warnings.warn(\"Maximum Likelihood optimization failed to \"\n"
     ]
    },
    {
     "name": "stdout",
     "output_type": "stream",
     "text": [
      "\n",
      "At iterate   50    f=  6.91142D+00    |proj g|=  2.51455D-02\n",
      "\n",
      "           * * *\n",
      "\n",
      "Tit   = total number of iterations\n",
      "Tnf   = total number of function evaluations\n",
      "Tnint = total number of segments explored during Cauchy searches\n",
      "Skip  = number of BFGS updates skipped\n",
      "Nact  = number of active bounds at final generalized Cauchy point\n",
      "Projg = norm of the final projected gradient\n",
      "F     = final function value\n",
      "\n",
      "           * * *\n",
      "\n",
      "   N    Tit     Tnf  Tnint  Skip  Nact     Projg        F\n",
      "   11     50     61      1     0     0   2.515D-02   6.911D+00\n",
      "  F =   6.9114200309706479     \n",
      "\n",
      "STOP: TOTAL NO. of ITERATIONS REACHED LIMIT                 \n",
      "The MAPE Score is :  26.556703263721076\n",
      "The MAE Score is : 167.0327075594457\n",
      "The MAPE Score is :  26.556703263721076\n",
      "The MAE Score is : 167.0327075594457\n",
      "The MAPE Score is :  19.905056225091265\n",
      "The MAE Score is : 167.0327075594457\n",
      "The MAPE Score is :  19.905056225091265\n",
      "The MAE Score is : 167.0327075594457\n"
     ]
    },
    {
     "name": "stderr",
     "output_type": "stream",
     "text": [
      "/Users/sujaykumar/miniconda3/lib/python3.10/site-packages/statsmodels/tsa/base/tsa_model.py:473: ValueWarning: No frequency information was provided, so inferred frequency D will be used.\n",
      "  self._init_dates(dates, freq)\n",
      "/Users/sujaykumar/miniconda3/lib/python3.10/site-packages/statsmodels/tsa/base/tsa_model.py:473: ValueWarning: No frequency information was provided, so inferred frequency D will be used.\n",
      "  self._init_dates(dates, freq)\n",
      "/Users/sujaykumar/miniconda3/lib/python3.10/site-packages/statsmodels/tsa/statespace/representation.py:374: FutureWarning: Unknown keyword arguments: dict_keys(['orders']).Passing unknown keyword arguments will raise a TypeError beginning in version 0.15.\n",
      "  warnings.warn(msg, FutureWarning)\n"
     ]
    },
    {
     "name": "stdout",
     "output_type": "stream",
     "text": [
      "RUNNING THE L-BFGS-B CODE\n",
      "\n",
      "           * * *\n",
      "\n",
      "Machine precision = 2.220D-16\n",
      " N =           11     M =           10\n",
      "\n",
      "At X0         0 variables are exactly at the bounds\n",
      "\n",
      "At iterate    0    f=  7.06968D+00    |proj g|=  2.92894D-01\n"
     ]
    },
    {
     "name": "stderr",
     "output_type": "stream",
     "text": [
      " This problem is unconstrained.\n"
     ]
    },
    {
     "name": "stdout",
     "output_type": "stream",
     "text": [
      "\n",
      "At iterate    5    f=  6.92055D+00    |proj g|=  1.88107D-02\n",
      "\n",
      "At iterate   10    f=  6.91669D+00    |proj g|=  1.15779D-03\n",
      "\n",
      "At iterate   15    f=  6.91632D+00    |proj g|=  1.13286D-02\n",
      "\n",
      "At iterate   20    f=  6.91558D+00    |proj g|=  7.28998D-04\n",
      "\n",
      "At iterate   25    f=  6.91549D+00    |proj g|=  6.29292D-03\n",
      "\n",
      "At iterate   30    f=  6.91406D+00    |proj g|=  2.21634D-02\n",
      "\n",
      "At iterate   35    f=  6.91314D+00    |proj g|=  1.32072D-02\n",
      "\n",
      "At iterate   40    f=  6.91270D+00    |proj g|=  4.87040D-03\n",
      "\n",
      "At iterate   45    f=  6.91240D+00    |proj g|=  2.27397D-02\n"
     ]
    },
    {
     "name": "stderr",
     "output_type": "stream",
     "text": [
      "/Users/sujaykumar/miniconda3/lib/python3.10/site-packages/statsmodels/base/model.py:607: ConvergenceWarning: Maximum Likelihood optimization failed to converge. Check mle_retvals\n",
      "  warnings.warn(\"Maximum Likelihood optimization failed to \"\n"
     ]
    },
    {
     "name": "stdout",
     "output_type": "stream",
     "text": [
      "\n",
      "At iterate   50    f=  6.91142D+00    |proj g|=  2.51455D-02\n",
      "\n",
      "           * * *\n",
      "\n",
      "Tit   = total number of iterations\n",
      "Tnf   = total number of function evaluations\n",
      "Tnint = total number of segments explored during Cauchy searches\n",
      "Skip  = number of BFGS updates skipped\n",
      "Nact  = number of active bounds at final generalized Cauchy point\n",
      "Projg = norm of the final projected gradient\n",
      "F     = final function value\n",
      "\n",
      "           * * *\n",
      "\n",
      "   N    Tit     Tnf  Tnint  Skip  Nact     Projg        F\n",
      "   11     50     61      1     0     0   2.515D-02   6.911D+00\n",
      "  F =   6.9114200309706479     \n",
      "\n",
      "STOP: TOTAL NO. of ITERATIONS REACHED LIMIT                 \n",
      "The MAPE Score is :  26.556703263721076\n",
      "The MAE Score is : 167.0327075594457\n",
      "The MAPE Score is :  26.556703263721076\n",
      "The MAE Score is : 167.0327075594457\n",
      "The MAPE Score is :  19.905056225091265\n",
      "The MAE Score is : 167.0327075594457\n",
      "The MAPE Score is :  19.905056225091265\n",
      "The MAE Score is : 167.0327075594457\n"
     ]
    },
    {
     "name": "stderr",
     "output_type": "stream",
     "text": [
      "/Users/sujaykumar/miniconda3/lib/python3.10/site-packages/statsmodels/tsa/base/tsa_model.py:473: ValueWarning: No frequency information was provided, so inferred frequency D will be used.\n",
      "  self._init_dates(dates, freq)\n",
      "/Users/sujaykumar/miniconda3/lib/python3.10/site-packages/statsmodels/tsa/base/tsa_model.py:473: ValueWarning: No frequency information was provided, so inferred frequency D will be used.\n",
      "  self._init_dates(dates, freq)\n",
      "/Users/sujaykumar/miniconda3/lib/python3.10/site-packages/statsmodels/tsa/statespace/representation.py:374: FutureWarning: Unknown keyword arguments: dict_keys(['orders']).Passing unknown keyword arguments will raise a TypeError beginning in version 0.15.\n",
      "  warnings.warn(msg, FutureWarning)\n",
      " This problem is unconstrained.\n"
     ]
    },
    {
     "name": "stdout",
     "output_type": "stream",
     "text": [
      "RUNNING THE L-BFGS-B CODE\n",
      "\n",
      "           * * *\n",
      "\n",
      "Machine precision = 2.220D-16\n",
      " N =           11     M =           10\n",
      "\n",
      "At X0         0 variables are exactly at the bounds\n",
      "\n",
      "At iterate    0    f=  7.06968D+00    |proj g|=  2.92894D-01\n",
      "\n",
      "At iterate    5    f=  6.92055D+00    |proj g|=  1.88107D-02\n",
      "\n",
      "At iterate   10    f=  6.91669D+00    |proj g|=  1.15779D-03\n",
      "\n",
      "At iterate   15    f=  6.91632D+00    |proj g|=  1.13286D-02\n",
      "\n",
      "At iterate   20    f=  6.91558D+00    |proj g|=  7.28998D-04\n",
      "\n",
      "At iterate   25    f=  6.91549D+00    |proj g|=  6.29292D-03\n",
      "\n",
      "At iterate   30    f=  6.91406D+00    |proj g|=  2.21634D-02\n",
      "\n",
      "At iterate   35    f=  6.91314D+00    |proj g|=  1.32072D-02\n",
      "\n",
      "At iterate   40    f=  6.91270D+00    |proj g|=  4.87040D-03\n",
      "\n",
      "At iterate   45    f=  6.91240D+00    |proj g|=  2.27397D-02\n"
     ]
    },
    {
     "name": "stderr",
     "output_type": "stream",
     "text": [
      "/Users/sujaykumar/miniconda3/lib/python3.10/site-packages/statsmodels/base/model.py:607: ConvergenceWarning: Maximum Likelihood optimization failed to converge. Check mle_retvals\n",
      "  warnings.warn(\"Maximum Likelihood optimization failed to \"\n"
     ]
    },
    {
     "name": "stdout",
     "output_type": "stream",
     "text": [
      "\n",
      "At iterate   50    f=  6.91142D+00    |proj g|=  2.51455D-02\n",
      "\n",
      "           * * *\n",
      "\n",
      "Tit   = total number of iterations\n",
      "Tnf   = total number of function evaluations\n",
      "Tnint = total number of segments explored during Cauchy searches\n",
      "Skip  = number of BFGS updates skipped\n",
      "Nact  = number of active bounds at final generalized Cauchy point\n",
      "Projg = norm of the final projected gradient\n",
      "F     = final function value\n",
      "\n",
      "           * * *\n",
      "\n",
      "   N    Tit     Tnf  Tnint  Skip  Nact     Projg        F\n",
      "   11     50     61      1     0     0   2.515D-02   6.911D+00\n",
      "  F =   6.9114200309706479     \n",
      "\n",
      "STOP: TOTAL NO. of ITERATIONS REACHED LIMIT                 \n",
      "The MAPE Score is :  26.556703263721076\n",
      "The MAE Score is : 167.0327075594457\n",
      "The MAPE Score is :  26.556703263721076\n",
      "The MAE Score is : 167.0327075594457\n",
      "The MAPE Score is :  19.905056225091265\n",
      "The MAE Score is : 167.0327075594457\n",
      "The MAPE Score is :  19.905056225091265\n",
      "The MAE Score is : 167.0327075594457\n"
     ]
    }
   ],
   "source": [
    "orders = [(1,0,0),(2,0,0),(1,1,0),(1,2,0),(0,0,1),(0,1,1),(0,2,1),(8,0,8),(8,1,8),(9,0,7),(9,1,7),(8,0,9),(8,1,9)]\n",
    "results2 = []\n",
    "for o in orders:\n",
    "    try:\n",
    "        res = SARIMAX(df1_train,orders=o,seasonal_order=(6,0,3,7)).fit()\n",
    "        results2.append((3,6,res.aic,res.bic,get_MAPE_MAE(df1_train,res)[0],get_MAPE_MAE(df1_train,res)[1],get_MAPE_MAE_test(df1_test,res)[0],get_MAPE_MAE_test(df1_test,res)[1]))\n",
    "    except:\n",
    "        results2.append((3,6,None,None,None,None,None,None))\n",
    "results2 = pd.DataFrame(results2,columns=['P','Q','AIC','BIC','MAPE_train','MAE_test','MAPE_test','MAE_test'])"
   ]
  },
  {
   "cell_type": "code",
   "execution_count": 21,
   "id": "2fc59617",
   "metadata": {},
   "outputs": [],
   "source": [
    "results2.to_csv(\"sarima_results2.csv\")"
   ]
  },
  {
   "cell_type": "code",
   "execution_count": null,
   "id": "3c44cf38",
   "metadata": {},
   "outputs": [],
   "source": []
  }
 ],
 "metadata": {
  "kernelspec": {
   "display_name": "Python 3 (ipykernel)",
   "language": "python",
   "name": "python3"
  },
  "language_info": {
   "codemirror_mode": {
    "name": "ipython",
    "version": 3
   },
   "file_extension": ".py",
   "mimetype": "text/x-python",
   "name": "python",
   "nbconvert_exporter": "python",
   "pygments_lexer": "ipython3",
   "version": "3.10.10"
  }
 },
 "nbformat": 4,
 "nbformat_minor": 5
}
