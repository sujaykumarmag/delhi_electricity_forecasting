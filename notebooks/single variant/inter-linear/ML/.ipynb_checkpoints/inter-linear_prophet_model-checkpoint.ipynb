{
 "cells": [
  {
   "cell_type": "code",
   "execution_count": 1,
   "id": "04f1c65a",
   "metadata": {},
   "outputs": [
    {
     "name": "stderr",
     "output_type": "stream",
     "text": [
      "Importing plotly failed. Interactive plots will not work.\n",
      "19:50:06 - cmdstanpy - INFO - Chain [1] start processing\n",
      "19:50:07 - cmdstanpy - INFO - Chain [1] done processing\n"
     ]
    }
   ],
   "source": [
    "import pandas as pd\n",
    "from prophet import Prophet\n",
    "from sklearn.metrics import mean_absolute_percentage_error as MAPE\n",
    "model = Prophet()\n",
    "df_p = pd.read_csv(\"../../../../main/sub_data/single_variant/inter-linear/train/train_inter-linear.csv\")\n",
    "df = pd.read_csv(\"../../../../main/sub_data/single_variant/inter-linear/train/train_inter-linear.csv\",index_col=\"Date\",parse_dates=True)\n",
    "df_test = pd.read_csv(\"../../../../main/sub_data/single_variant/inter-linear/test/test_inter-linear.csv\",index_col=\"Date\",parse_dates=True)\n",
    "df_p.columns = ['ds','y']\n",
    "model.fit(df_p)\n",
    "future_dates = model.make_future_dataframe(periods=31)[3682:]\n",
    "forecast = model.predict(future_dates)"
   ]
  },
  {
   "cell_type": "code",
   "execution_count": 2,
   "id": "d2659f2d",
   "metadata": {},
   "outputs": [
    {
     "data": {
      "text/plain": [
       "0.137478706637357"
      ]
     },
     "execution_count": 2,
     "metadata": {},
     "output_type": "execute_result"
    }
   ],
   "source": [
    "MAPE(forecast['trend'],df_test)"
   ]
  },
  {
   "cell_type": "code",
   "execution_count": null,
   "id": "5d7b54a8",
   "metadata": {},
   "outputs": [],
   "source": []
  }
 ],
 "metadata": {
  "kernelspec": {
   "display_name": "Python 3 (ipykernel)",
   "language": "python",
   "name": "python3"
  },
  "language_info": {
   "codemirror_mode": {
    "name": "ipython",
    "version": 3
   },
   "file_extension": ".py",
   "mimetype": "text/x-python",
   "name": "python",
   "nbconvert_exporter": "python",
   "pygments_lexer": "ipython3",
   "version": "3.10.10"
  }
 },
 "nbformat": 4,
 "nbformat_minor": 5
}
