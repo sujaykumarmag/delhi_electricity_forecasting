{
 "cells": [
  {
   "cell_type": "code",
   "execution_count": 1,
   "id": "037cc7ca",
   "metadata": {},
   "outputs": [],
   "source": [
    "import pandas as pd\n",
    "import numpy as np\n",
    "from keras.models import Sequential\n",
    "from keras.layers import LSTM, Dense"
   ]
  },
  {
   "cell_type": "code",
   "execution_count": 2,
   "id": "8f8b23c3",
   "metadata": {},
   "outputs": [],
   "source": [
    "data = pd.read_csv(\"../../../../main/sub_data/single_variant/inter-linear/train/train_inter-linear.csv\",index_col=\"Date\",parse_dates=True)\n",
    "df_test = pd.read_csv(\"../../../../main/sub_data/single_variant/inter-linear/test/test_inter-linear.csv\",index_col=\"Date\",parse_dates=True)"
   ]
  },
  {
   "cell_type": "code",
   "execution_count": 3,
   "id": "a1ebcb23",
   "metadata": {},
   "outputs": [],
   "source": [
    "# Data preparation\n",
    "data = np.array(data)\n",
    "sequence_length = 10  # Length of input sequences\n",
    "n_features = 1  # Number of features (variables) in your time series data"
   ]
  },
  {
   "cell_type": "code",
   "execution_count": 4,
   "id": "190ca5dc",
   "metadata": {},
   "outputs": [],
   "source": [
    "# Create input sequences and corresponding output values\n",
    "sequences = []\n",
    "targets = []\n",
    "for i in range(len(data) - sequence_length):\n",
    "    sequences.append(data[i : i + sequence_length])\n",
    "    targets.append(data[i + sequence_length])"
   ]
  },
  {
   "cell_type": "code",
   "execution_count": 5,
   "id": "95aa2acb",
   "metadata": {},
   "outputs": [],
   "source": [
    "# Convert lists to NumPy arrays\n",
    "sequences = np.array(sequences)\n",
    "targets = np.array(targets)\n",
    "\n",
    "# Reshape the input sequences to fit the LSTM input shape\n",
    "sequences = sequences.reshape((sequences.shape[0], sequence_length, n_features))\n"
   ]
  },
  {
   "cell_type": "code",
   "execution_count": 6,
   "id": "bccc330d",
   "metadata": {},
   "outputs": [],
   "source": [
    "# Split the data into training and testing sets\n",
    "train_size = int(0.8 * len(sequences))\n",
    "train_sequences = sequences[:train_size]\n",
    "train_targets = targets[:train_size]\n",
    "test_sequences = sequences[train_size:]\n",
    "test_targets = targets[train_size:]"
   ]
  },
  {
   "cell_type": "code",
   "execution_count": 7,
   "id": "b515cdcb",
   "metadata": {},
   "outputs": [],
   "source": [
    "# Calculate MAPE (Mean Absolute Percentage Error)\n",
    "def calculate_mape(y_true, y_pred):\n",
    "    return np.mean(np.abs((y_true - y_pred) / y_true)) * 100\n",
    "\n",
    "# Calculate MAE (Mean Absolute Error)\n",
    "def calculate_mae(y_true, y_pred):\n",
    "    return np.mean(np.abs(y_true - y_pred))"
   ]
  },
  {
   "cell_type": "code",
   "execution_count": 8,
   "id": "6f91087c",
   "metadata": {},
   "outputs": [
    {
     "name": "stdout",
     "output_type": "stream",
     "text": [
      "Metal device set to: Apple M1\n"
     ]
    }
   ],
   "source": [
    "# Model definition\n",
    "model = Sequential()\n",
    "model.add(LSTM(50, input_shape=(sequence_length, n_features)))\n",
    "model.add(Dense(1))  # Output layer with one neuron for regression\n"
   ]
  },
  {
   "cell_type": "code",
   "execution_count": 9,
   "id": "b0f4ac12",
   "metadata": {
    "scrolled": true
   },
   "outputs": [
    {
     "name": "stdout",
     "output_type": "stream",
     "text": [
      "Epoch 1/50\n"
     ]
    },
    {
     "name": "stderr",
     "output_type": "stream",
     "text": [
      "2023-07-17 20:09:45.924225: W tensorflow/tsl/platform/profile_utils/cpu_utils.cc:128] Failed to get CPU frequency: 0 Hz\n"
     ]
    },
    {
     "name": "stdout",
     "output_type": "stream",
     "text": [
      "92/92 [==============================] - 3s 8ms/step - loss: 19012944.0000\n",
      "Epoch 2/50\n",
      "92/92 [==============================] - 1s 7ms/step - loss: 19001336.0000\n",
      "Epoch 3/50\n",
      "92/92 [==============================] - 1s 7ms/step - loss: 18990306.0000\n",
      "Epoch 4/50\n",
      "92/92 [==============================] - 1s 9ms/step - loss: 18979304.0000\n",
      "Epoch 5/50\n",
      "92/92 [==============================] - 1s 8ms/step - loss: 18968312.0000\n",
      "Epoch 6/50\n",
      "92/92 [==============================] - 1s 8ms/step - loss: 18957326.0000\n",
      "Epoch 7/50\n",
      "92/92 [==============================] - 1s 7ms/step - loss: 18946358.0000\n",
      "Epoch 8/50\n",
      "92/92 [==============================] - 1s 7ms/step - loss: 18935384.0000\n",
      "Epoch 9/50\n",
      "92/92 [==============================] - 1s 7ms/step - loss: 18924420.0000\n",
      "Epoch 10/50\n",
      "92/92 [==============================] - 1s 8ms/step - loss: 18913464.0000\n",
      "Epoch 11/50\n",
      "92/92 [==============================] - 1s 8ms/step - loss: 18902490.0000\n",
      "Epoch 12/50\n",
      "92/92 [==============================] - 1s 8ms/step - loss: 18889110.0000\n",
      "Epoch 13/50\n",
      "92/92 [==============================] - 1s 7ms/step - loss: 18876440.0000\n",
      "Epoch 14/50\n",
      "92/92 [==============================] - 1s 8ms/step - loss: 18864286.0000\n",
      "Epoch 15/50\n",
      "92/92 [==============================] - 1s 7ms/step - loss: 18852330.0000\n",
      "Epoch 16/50\n",
      "92/92 [==============================] - 1s 7ms/step - loss: 18840480.0000\n",
      "Epoch 17/50\n",
      "92/92 [==============================] - 1s 7ms/step - loss: 18828710.0000\n",
      "Epoch 18/50\n",
      "92/92 [==============================] - 1s 7ms/step - loss: 18816986.0000\n",
      "Epoch 19/50\n",
      "92/92 [==============================] - 1s 7ms/step - loss: 18805296.0000\n",
      "Epoch 20/50\n",
      "92/92 [==============================] - 1s 7ms/step - loss: 18793656.0000\n",
      "Epoch 21/50\n",
      "92/92 [==============================] - 1s 8ms/step - loss: 18782032.0000\n",
      "Epoch 22/50\n",
      "92/92 [==============================] - 1s 8ms/step - loss: 18770426.0000\n",
      "Epoch 23/50\n",
      "92/92 [==============================] - 1s 7ms/step - loss: 18758848.0000\n",
      "Epoch 24/50\n",
      "92/92 [==============================] - 1s 6ms/step - loss: 18747284.0000\n",
      "Epoch 25/50\n",
      "92/92 [==============================] - 1s 7ms/step - loss: 18735732.0000\n",
      "Epoch 26/50\n",
      "92/92 [==============================] - 1s 6ms/step - loss: 18724200.0000\n",
      "Epoch 27/50\n",
      "92/92 [==============================] - 1s 7ms/step - loss: 18712668.0000\n",
      "Epoch 28/50\n",
      "92/92 [==============================] - 1s 7ms/step - loss: 18701154.0000\n",
      "Epoch 29/50\n",
      "92/92 [==============================] - 1s 7ms/step - loss: 18689640.0000\n",
      "Epoch 30/50\n",
      "92/92 [==============================] - 1s 7ms/step - loss: 18678152.0000\n",
      "Epoch 31/50\n",
      "92/92 [==============================] - 1s 7ms/step - loss: 18666666.0000\n",
      "Epoch 32/50\n",
      "92/92 [==============================] - 1s 10ms/step - loss: 18655186.0000\n",
      "Epoch 33/50\n",
      "92/92 [==============================] - 1s 9ms/step - loss: 18643712.0000\n",
      "Epoch 34/50\n",
      "92/92 [==============================] - 1s 9ms/step - loss: 18632250.0000\n",
      "Epoch 35/50\n",
      "92/92 [==============================] - 1s 9ms/step - loss: 18620800.0000\n",
      "Epoch 36/50\n",
      "92/92 [==============================] - 1s 9ms/step - loss: 18609342.0000\n",
      "Epoch 37/50\n",
      "92/92 [==============================] - 1s 9ms/step - loss: 18597908.0000\n",
      "Epoch 38/50\n",
      "92/92 [==============================] - 1s 9ms/step - loss: 18586462.0000\n",
      "Epoch 39/50\n",
      "92/92 [==============================] - 1s 7ms/step - loss: 18575036.0000\n",
      "Epoch 40/50\n",
      "92/92 [==============================] - 1s 8ms/step - loss: 18563604.0000\n",
      "Epoch 41/50\n",
      "92/92 [==============================] - 1s 8ms/step - loss: 18552186.0000\n",
      "Epoch 42/50\n",
      "92/92 [==============================] - 1s 10ms/step - loss: 18540768.0000\n",
      "Epoch 43/50\n",
      "92/92 [==============================] - 1s 9ms/step - loss: 18529358.0000\n",
      "Epoch 44/50\n",
      "92/92 [==============================] - 1s 10ms/step - loss: 18517952.0000\n",
      "Epoch 45/50\n",
      "92/92 [==============================] - 1s 10ms/step - loss: 18506550.0000\n",
      "Epoch 46/50\n",
      "92/92 [==============================] - 1s 9ms/step - loss: 18495156.0000\n",
      "Epoch 47/50\n",
      "92/92 [==============================] - 1s 9ms/step - loss: 18483762.0000\n",
      "Epoch 48/50\n",
      "92/92 [==============================] - 1s 10ms/step - loss: 18472378.0000\n",
      "Epoch 49/50\n",
      "92/92 [==============================] - 1s 9ms/step - loss: 18460992.0000\n",
      "Epoch 50/50\n",
      "92/92 [==============================] - 1s 9ms/step - loss: 18449610.0000\n"
     ]
    },
    {
     "data": {
      "text/plain": [
       "<keras.callbacks.History at 0x284da93f0>"
      ]
     },
     "execution_count": 9,
     "metadata": {},
     "output_type": "execute_result"
    }
   ],
   "source": [
    "# Compile the model\n",
    "model.compile(optimizer='adam', loss='mse')\n",
    "\n",
    "# Model training\n",
    "model.fit(train_sequences,train_targets, epochs=50, batch_size=32)"
   ]
  },
  {
   "cell_type": "code",
   "execution_count": 10,
   "id": "ed3ed83c",
   "metadata": {},
   "outputs": [
    {
     "name": "stdout",
     "output_type": "stream",
     "text": [
      "23/23 [==============================] - 0s 6ms/step - loss: 22645310.0000\n",
      "Test loss: 22645310.0\n"
     ]
    }
   ],
   "source": [
    "loss = model.evaluate(test_sequences, test_targets)\n",
    "print(f'Test loss: {loss}')"
   ]
  },
  {
   "cell_type": "code",
   "execution_count": 11,
   "id": "f6001fcf",
   "metadata": {},
   "outputs": [
    {
     "name": "stdout",
     "output_type": "stream",
     "text": [
      "23/23 [==============================] - 0s 4ms/step\n",
      "MAPE: 98.44700172194236\n",
      "MAE: 4633.463455771102\n"
     ]
    }
   ],
   "source": [
    "predictions = model.predict(test_sequences)\n",
    "mape = calculate_mape(test_targets, predictions)\n",
    "print(f'MAPE: {mape}')\n",
    "mae = calculate_mae(test_targets, predictions)\n",
    "print(f'MAE: {mae}')"
   ]
  },
  {
   "cell_type": "code",
   "execution_count": 12,
   "id": "d4b567cb",
   "metadata": {},
   "outputs": [],
   "source": [
    "# Model definition\n",
    "model = Sequential()\n",
    "model.add(LSTM(50, input_shape=(sequence_length, n_features)))\n",
    "model.add(Dense(50))\n",
    "model.add(Dense(1))  # Output layer with one neuron for regression"
   ]
  },
  {
   "cell_type": "code",
   "execution_count": 13,
   "id": "3d107a24",
   "metadata": {
    "scrolled": true
   },
   "outputs": [
    {
     "name": "stdout",
     "output_type": "stream",
     "text": [
      "Epoch 1/50\n",
      "92/92 [==============================] - 2s 10ms/step - loss: 18956970.0000\n",
      "Epoch 2/50\n",
      "92/92 [==============================] - 1s 9ms/step - loss: 18674372.0000\n",
      "Epoch 3/50\n",
      "92/92 [==============================] - 1s 8ms/step - loss: 18104640.0000\n",
      "Epoch 4/50\n",
      "92/92 [==============================] - 1s 8ms/step - loss: 17259740.0000\n",
      "Epoch 5/50\n",
      "92/92 [==============================] - 1s 8ms/step - loss: 16181405.0000\n",
      "Epoch 6/50\n",
      "92/92 [==============================] - 1s 10ms/step - loss: 14917903.0000\n",
      "Epoch 7/50\n",
      "92/92 [==============================] - 1s 8ms/step - loss: 13524182.0000\n",
      "Epoch 8/50\n",
      "92/92 [==============================] - 1s 8ms/step - loss: 12054044.0000\n",
      "Epoch 9/50\n",
      "92/92 [==============================] - 1s 8ms/step - loss: 10558694.0000\n",
      "Epoch 10/50\n",
      "92/92 [==============================] - 1s 8ms/step - loss: 9088566.0000\n",
      "Epoch 11/50\n",
      "92/92 [==============================] - 1s 8ms/step - loss: 7687464.0000\n",
      "Epoch 12/50\n",
      "92/92 [==============================] - 1s 8ms/step - loss: 6392562.5000\n",
      "Epoch 13/50\n",
      "92/92 [==============================] - 1s 8ms/step - loss: 5229312.0000\n",
      "Epoch 14/50\n",
      "92/92 [==============================] - 1s 8ms/step - loss: 4217721.0000\n",
      "Epoch 15/50\n",
      "92/92 [==============================] - 1s 8ms/step - loss: 3365894.5000\n",
      "Epoch 16/50\n",
      "92/92 [==============================] - 1s 8ms/step - loss: 2673990.0000\n",
      "Epoch 17/50\n",
      "92/92 [==============================] - 1s 8ms/step - loss: 2131542.0000\n",
      "Epoch 18/50\n",
      "92/92 [==============================] - 1s 7ms/step - loss: 1722686.8750\n",
      "Epoch 19/50\n",
      "92/92 [==============================] - 1s 7ms/step - loss: 1426473.0000\n",
      "Epoch 20/50\n",
      "92/92 [==============================] - 1s 7ms/step - loss: 1222388.3750\n",
      "Epoch 21/50\n",
      "92/92 [==============================] - 1s 7ms/step - loss: 1087432.8750\n",
      "Epoch 22/50\n",
      "92/92 [==============================] - 1s 8ms/step - loss: 992486.4375\n",
      "Epoch 23/50\n",
      "92/92 [==============================] - 1s 7ms/step - loss: 938810.7500\n",
      "Epoch 24/50\n",
      "92/92 [==============================] - 1s 7ms/step - loss: 913483.5000\n",
      "Epoch 25/50\n",
      "92/92 [==============================] - 1s 7ms/step - loss: 901482.8750\n",
      "Epoch 26/50\n",
      "92/92 [==============================] - 1s 7ms/step - loss: 896073.1250\n",
      "Epoch 27/50\n",
      "92/92 [==============================] - 1s 7ms/step - loss: 893765.3750\n",
      "Epoch 28/50\n",
      "92/92 [==============================] - 1s 7ms/step - loss: 892793.5000\n",
      "Epoch 29/50\n",
      "92/92 [==============================] - 1s 7ms/step - loss: 892599.8125\n",
      "Epoch 30/50\n",
      "92/92 [==============================] - 1s 7ms/step - loss: 892367.0000\n",
      "Epoch 31/50\n",
      "92/92 [==============================] - 1s 7ms/step - loss: 892441.3750\n",
      "Epoch 32/50\n",
      "92/92 [==============================] - 1s 7ms/step - loss: 892289.3750\n",
      "Epoch 33/50\n",
      "92/92 [==============================] - 1s 7ms/step - loss: 892472.5625\n",
      "Epoch 34/50\n",
      "92/92 [==============================] - 1s 7ms/step - loss: 892353.3125\n",
      "Epoch 35/50\n",
      "92/92 [==============================] - 1s 8ms/step - loss: 892517.8750\n",
      "Epoch 36/50\n",
      "92/92 [==============================] - 1s 9ms/step - loss: 892372.7500\n",
      "Epoch 37/50\n",
      "92/92 [==============================] - 1s 9ms/step - loss: 892344.1875\n",
      "Epoch 38/50\n",
      "92/92 [==============================] - 1s 10ms/step - loss: 892335.7500\n",
      "Epoch 39/50\n",
      "92/92 [==============================] - 1s 10ms/step - loss: 892311.0625\n",
      "Epoch 40/50\n",
      "92/92 [==============================] - 1s 10ms/step - loss: 892275.9375\n",
      "Epoch 41/50\n",
      "92/92 [==============================] - 1s 9ms/step - loss: 892365.1250\n",
      "Epoch 42/50\n",
      "92/92 [==============================] - 1s 10ms/step - loss: 892637.7500\n",
      "Epoch 43/50\n",
      "92/92 [==============================] - 1s 10ms/step - loss: 892394.3750\n",
      "Epoch 44/50\n",
      "92/92 [==============================] - 1s 10ms/step - loss: 892322.8125\n",
      "Epoch 45/50\n",
      "92/92 [==============================] - 1s 9ms/step - loss: 892370.0000\n",
      "Epoch 46/50\n",
      "92/92 [==============================] - 1s 10ms/step - loss: 892365.2500\n",
      "Epoch 47/50\n",
      "92/92 [==============================] - 1s 9ms/step - loss: 892514.8125\n",
      "Epoch 48/50\n",
      "92/92 [==============================] - 1s 10ms/step - loss: 892511.6250\n",
      "Epoch 49/50\n",
      "92/92 [==============================] - 1s 9ms/step - loss: 892338.6250\n",
      "Epoch 50/50\n",
      "92/92 [==============================] - 1s 10ms/step - loss: 892383.3750\n"
     ]
    },
    {
     "data": {
      "text/plain": [
       "<keras.callbacks.History at 0x28ecc2c80>"
      ]
     },
     "execution_count": 13,
     "metadata": {},
     "output_type": "execute_result"
    }
   ],
   "source": [
    "# Compile the model\n",
    "model.compile(optimizer='adam', loss='mse')\n",
    "\n",
    "# Model training\n",
    "model.fit(train_sequences,train_targets, epochs=50, batch_size=32)"
   ]
  },
  {
   "cell_type": "code",
   "execution_count": 14,
   "id": "530b7ae0",
   "metadata": {},
   "outputs": [
    {
     "name": "stdout",
     "output_type": "stream",
     "text": [
      "23/23 [==============================] - 0s 4ms/step\n",
      "MAPE: 18.468334005409357\n",
      "MAE: 924.7889183407738\n"
     ]
    }
   ],
   "source": [
    "predictions = model.predict(test_sequences)\n",
    "mape = calculate_mape(test_targets, predictions)\n",
    "print(f'MAPE: {mape}')\n",
    "mae = calculate_mae(test_targets, predictions)\n",
    "print(f'MAE: {mae}')"
   ]
  },
  {
   "cell_type": "code",
   "execution_count": 15,
   "id": "f1f9f33c",
   "metadata": {},
   "outputs": [],
   "source": [
    "from keras.layers import Bidirectional\n",
    "\n",
    "# Model definition\n",
    "model = Sequential()\n",
    "model.add(Bidirectional(LSTM(50, input_shape=(sequence_length, n_features))))\n",
    "model.add(Dense(1))"
   ]
  },
  {
   "cell_type": "code",
   "execution_count": 16,
   "id": "eead4c0c",
   "metadata": {
    "scrolled": true
   },
   "outputs": [
    {
     "name": "stdout",
     "output_type": "stream",
     "text": [
      "Epoch 1/50\n",
      "92/92 [==============================] - 3s 15ms/step - loss: 19018160.0000\n",
      "Epoch 2/50\n",
      "92/92 [==============================] - 1s 15ms/step - loss: 19001130.0000\n",
      "Epoch 3/50\n",
      "92/92 [==============================] - 1s 15ms/step - loss: 18984352.0000\n",
      "Epoch 4/50\n",
      "92/92 [==============================] - 1s 13ms/step - loss: 18967642.0000\n",
      "Epoch 5/50\n",
      "92/92 [==============================] - 1s 12ms/step - loss: 18950946.0000\n",
      "Epoch 6/50\n",
      "92/92 [==============================] - 1s 12ms/step - loss: 18934262.0000\n",
      "Epoch 7/50\n",
      "92/92 [==============================] - 1s 12ms/step - loss: 18917594.0000\n",
      "Epoch 8/50\n",
      "92/92 [==============================] - 1s 12ms/step - loss: 18900934.0000\n",
      "Epoch 9/50\n",
      "92/92 [==============================] - 1s 12ms/step - loss: 18884288.0000\n",
      "Epoch 10/50\n",
      "92/92 [==============================] - 1s 12ms/step - loss: 18867648.0000\n",
      "Epoch 11/50\n",
      "92/92 [==============================] - 1s 12ms/step - loss: 18851024.0000\n",
      "Epoch 12/50\n",
      "92/92 [==============================] - 1s 12ms/step - loss: 18834396.0000\n",
      "Epoch 13/50\n",
      "92/92 [==============================] - 1s 12ms/step - loss: 18817794.0000\n",
      "Epoch 14/50\n",
      "92/92 [==============================] - 1s 11ms/step - loss: 18801188.0000\n",
      "Epoch 15/50\n",
      "92/92 [==============================] - 1s 11ms/step - loss: 18782634.0000\n",
      "Epoch 16/50\n",
      "92/92 [==============================] - 1s 12ms/step - loss: 18765280.0000\n",
      "Epoch 17/50\n",
      "92/92 [==============================] - 1s 12ms/step - loss: 18748358.0000\n",
      "Epoch 18/50\n",
      "92/92 [==============================] - 1s 12ms/step - loss: 18731470.0000\n",
      "Epoch 19/50\n",
      "92/92 [==============================] - 1s 12ms/step - loss: 18714604.0000\n",
      "Epoch 20/50\n",
      "92/92 [==============================] - 1s 12ms/step - loss: 18697766.0000\n",
      "Epoch 21/50\n",
      "92/92 [==============================] - 1s 12ms/step - loss: 18680954.0000\n",
      "Epoch 22/50\n",
      "92/92 [==============================] - 1s 12ms/step - loss: 18664160.0000\n",
      "Epoch 23/50\n",
      "92/92 [==============================] - 1s 12ms/step - loss: 18647396.0000\n",
      "Epoch 24/50\n",
      "92/92 [==============================] - 1s 12ms/step - loss: 18630644.0000\n",
      "Epoch 25/50\n",
      "92/92 [==============================] - 1s 12ms/step - loss: 18613912.0000\n",
      "Epoch 26/50\n",
      "92/92 [==============================] - 1s 12ms/step - loss: 18597186.0000\n",
      "Epoch 27/50\n",
      "92/92 [==============================] - 1s 12ms/step - loss: 18580492.0000\n",
      "Epoch 28/50\n",
      "92/92 [==============================] - 1s 11ms/step - loss: 18563800.0000\n",
      "Epoch 29/50\n",
      "92/92 [==============================] - 1s 10ms/step - loss: 18547124.0000\n",
      "Epoch 30/50\n",
      "92/92 [==============================] - 1s 11ms/step - loss: 18530466.0000\n",
      "Epoch 31/50\n",
      "92/92 [==============================] - 1s 11ms/step - loss: 18513818.0000\n",
      "Epoch 32/50\n",
      "92/92 [==============================] - 1s 11ms/step - loss: 18497178.0000\n",
      "Epoch 33/50\n",
      "92/92 [==============================] - 1s 10ms/step - loss: 18480550.0000\n",
      "Epoch 34/50\n",
      "92/92 [==============================] - 1s 10ms/step - loss: 18463940.0000\n",
      "Epoch 35/50\n",
      "92/92 [==============================] - 1s 10ms/step - loss: 18447334.0000\n",
      "Epoch 36/50\n",
      "92/92 [==============================] - 1s 10ms/step - loss: 18430746.0000\n",
      "Epoch 37/50\n",
      "92/92 [==============================] - 1s 10ms/step - loss: 18414158.0000\n",
      "Epoch 38/50\n",
      "92/92 [==============================] - 1s 10ms/step - loss: 18397580.0000\n",
      "Epoch 39/50\n",
      "92/92 [==============================] - 1s 10ms/step - loss: 18381016.0000\n",
      "Epoch 40/50\n",
      "92/92 [==============================] - 1s 10ms/step - loss: 18364466.0000\n",
      "Epoch 41/50\n",
      "92/92 [==============================] - 1s 10ms/step - loss: 18347926.0000\n",
      "Epoch 42/50\n",
      "92/92 [==============================] - 1s 10ms/step - loss: 18331394.0000\n",
      "Epoch 43/50\n",
      "92/92 [==============================] - 1s 10ms/step - loss: 18314878.0000\n",
      "Epoch 44/50\n",
      "92/92 [==============================] - 1s 10ms/step - loss: 18298364.0000\n",
      "Epoch 45/50\n",
      "92/92 [==============================] - 1s 10ms/step - loss: 18281860.0000\n",
      "Epoch 46/50\n",
      "92/92 [==============================] - 1s 10ms/step - loss: 18265358.0000\n",
      "Epoch 47/50\n",
      "92/92 [==============================] - 1s 10ms/step - loss: 18248874.0000\n",
      "Epoch 48/50\n",
      "92/92 [==============================] - 1s 10ms/step - loss: 18232398.0000\n",
      "Epoch 49/50\n",
      "92/92 [==============================] - 1s 10ms/step - loss: 18215932.0000\n",
      "Epoch 50/50\n",
      "92/92 [==============================] - 1s 10ms/step - loss: 18199472.0000\n"
     ]
    },
    {
     "data": {
      "text/plain": [
       "<keras.callbacks.History at 0x2920d9cc0>"
      ]
     },
     "execution_count": 16,
     "metadata": {},
     "output_type": "execute_result"
    }
   ],
   "source": [
    "# Compile the model\n",
    "model.compile(optimizer='adam', loss='mse')\n",
    "\n",
    "# Model training\n",
    "model.fit(train_sequences,train_targets, epochs=50, batch_size=32)"
   ]
  },
  {
   "cell_type": "code",
   "execution_count": 17,
   "id": "3b12750b",
   "metadata": {},
   "outputs": [
    {
     "name": "stdout",
     "output_type": "stream",
     "text": [
      "23/23 [==============================] - 0s 5ms/step\n",
      "MAPE: 97.76957163001737\n",
      "MAE: 4603.190414999618\n"
     ]
    }
   ],
   "source": [
    "predictions = model.predict(test_sequences)\n",
    "mape = calculate_mape(test_targets, predictions)\n",
    "print(f'MAPE: {mape}')\n",
    "mae = calculate_mae(test_targets, predictions)\n",
    "print(f'MAE: {mae}')"
   ]
  },
  {
   "cell_type": "code",
   "execution_count": 18,
   "id": "f3189952",
   "metadata": {},
   "outputs": [],
   "source": [
    "# Model definition\n",
    "model = Sequential()\n",
    "model.add(LSTM(50, input_shape=(sequence_length, n_features)))\n",
    "model.add(Dense(50))\n",
    "model.add(Dense(50))\n",
    "model.add(Dense(1))  # Output layer with one neuron for regression"
   ]
  },
  {
   "cell_type": "code",
   "execution_count": 19,
   "id": "29e8ee35",
   "metadata": {
    "scrolled": true
   },
   "outputs": [
    {
     "name": "stdout",
     "output_type": "stream",
     "text": [
      "Epoch 1/50\n",
      "92/92 [==============================] - 1s 9ms/step - loss: 18664838.0000\n",
      "Epoch 2/50\n",
      "92/92 [==============================] - 1s 8ms/step - loss: 14012318.0000\n",
      "Epoch 3/50\n",
      "92/92 [==============================] - 1s 8ms/step - loss: 4159502.2500\n",
      "Epoch 4/50\n",
      "92/92 [==============================] - 1s 8ms/step - loss: 944377.8125\n",
      "Epoch 5/50\n",
      "92/92 [==============================] - 1s 8ms/step - loss: 893066.9375\n",
      "Epoch 6/50\n",
      "92/92 [==============================] - 1s 8ms/step - loss: 892607.4375\n",
      "Epoch 7/50\n",
      "92/92 [==============================] - 1s 8ms/step - loss: 893613.1250\n",
      "Epoch 8/50\n",
      "92/92 [==============================] - 1s 8ms/step - loss: 893014.1250\n",
      "Epoch 9/50\n",
      "92/92 [==============================] - 1s 9ms/step - loss: 893579.8125\n",
      "Epoch 10/50\n",
      "92/92 [==============================] - 1s 9ms/step - loss: 893484.3750\n",
      "Epoch 11/50\n",
      "92/92 [==============================] - 1s 9ms/step - loss: 893076.8125\n",
      "Epoch 12/50\n",
      "92/92 [==============================] - 1s 8ms/step - loss: 893905.6250\n",
      "Epoch 13/50\n",
      "92/92 [==============================] - 1s 8ms/step - loss: 892553.7500\n",
      "Epoch 14/50\n",
      "92/92 [==============================] - 1s 8ms/step - loss: 893296.6875\n",
      "Epoch 15/50\n",
      "92/92 [==============================] - 1s 8ms/step - loss: 893982.0625\n",
      "Epoch 16/50\n",
      "92/92 [==============================] - 1s 8ms/step - loss: 893019.8750\n",
      "Epoch 17/50\n",
      "92/92 [==============================] - 1s 8ms/step - loss: 892749.3125\n",
      "Epoch 18/50\n",
      "92/92 [==============================] - 1s 8ms/step - loss: 894139.0625\n",
      "Epoch 19/50\n",
      "92/92 [==============================] - 1s 8ms/step - loss: 893804.9375\n",
      "Epoch 20/50\n",
      "92/92 [==============================] - 1s 8ms/step - loss: 892199.5625\n",
      "Epoch 21/50\n",
      "92/92 [==============================] - 1s 8ms/step - loss: 897762.3750\n",
      "Epoch 22/50\n",
      "92/92 [==============================] - 1s 8ms/step - loss: 893509.0625\n",
      "Epoch 23/50\n",
      "92/92 [==============================] - 1s 8ms/step - loss: 893841.3125\n",
      "Epoch 24/50\n",
      "92/92 [==============================] - 1s 8ms/step - loss: 893619.3125\n",
      "Epoch 25/50\n",
      "92/92 [==============================] - 1s 8ms/step - loss: 893225.3125\n",
      "Epoch 26/50\n",
      "92/92 [==============================] - 1s 8ms/step - loss: 892931.3750\n",
      "Epoch 27/50\n",
      "92/92 [==============================] - 1s 8ms/step - loss: 893519.5000\n",
      "Epoch 28/50\n",
      "92/92 [==============================] - 1s 8ms/step - loss: 893612.3125\n",
      "Epoch 29/50\n",
      "92/92 [==============================] - 1s 8ms/step - loss: 894524.7500\n",
      "Epoch 30/50\n",
      "92/92 [==============================] - 1s 8ms/step - loss: 892486.5000\n",
      "Epoch 31/50\n",
      "92/92 [==============================] - 1s 8ms/step - loss: 893584.4375\n",
      "Epoch 32/50\n",
      "92/92 [==============================] - 1s 8ms/step - loss: 894348.3125\n",
      "Epoch 33/50\n",
      "92/92 [==============================] - 1s 8ms/step - loss: 894079.5000\n",
      "Epoch 34/50\n",
      "92/92 [==============================] - 1s 8ms/step - loss: 893484.8125\n",
      "Epoch 35/50\n",
      "92/92 [==============================] - 1s 8ms/step - loss: 893329.1875\n",
      "Epoch 36/50\n",
      "92/92 [==============================] - 1s 8ms/step - loss: 895310.3750\n",
      "Epoch 37/50\n",
      "92/92 [==============================] - 1s 8ms/step - loss: 894252.4375\n",
      "Epoch 38/50\n",
      "92/92 [==============================] - 1s 8ms/step - loss: 897041.9375\n",
      "Epoch 39/50\n",
      "92/92 [==============================] - 1s 8ms/step - loss: 897013.8125\n",
      "Epoch 40/50\n",
      "92/92 [==============================] - 1s 8ms/step - loss: 894116.5000\n",
      "Epoch 41/50\n",
      "92/92 [==============================] - 1s 8ms/step - loss: 895274.3750\n",
      "Epoch 42/50\n",
      "92/92 [==============================] - 1s 9ms/step - loss: 894101.9375\n",
      "Epoch 43/50\n",
      "92/92 [==============================] - 1s 9ms/step - loss: 894091.8750\n",
      "Epoch 44/50\n",
      "92/92 [==============================] - 1s 8ms/step - loss: 894719.1875\n",
      "Epoch 45/50\n",
      "92/92 [==============================] - 1s 9ms/step - loss: 895366.6875\n",
      "Epoch 46/50\n",
      "92/92 [==============================] - 1s 8ms/step - loss: 893746.3750\n",
      "Epoch 47/50\n",
      "92/92 [==============================] - 1s 8ms/step - loss: 893659.8125\n",
      "Epoch 48/50\n",
      "92/92 [==============================] - 1s 8ms/step - loss: 893547.8125\n",
      "Epoch 49/50\n",
      "92/92 [==============================] - 1s 8ms/step - loss: 892887.5000\n",
      "Epoch 50/50\n",
      "92/92 [==============================] - 1s 8ms/step - loss: 894752.9375\n"
     ]
    },
    {
     "data": {
      "text/plain": [
       "<keras.callbacks.History at 0x29b450a00>"
      ]
     },
     "execution_count": 19,
     "metadata": {},
     "output_type": "execute_result"
    }
   ],
   "source": [
    "# Compile the model\n",
    "model.compile(optimizer='adam', loss='mse')\n",
    "\n",
    "# Model training\n",
    "model.fit(train_sequences,train_targets, epochs=50, batch_size=32)"
   ]
  },
  {
   "cell_type": "code",
   "execution_count": 20,
   "id": "9005c4e3",
   "metadata": {},
   "outputs": [
    {
     "name": "stdout",
     "output_type": "stream",
     "text": [
      "23/23 [==============================] - 0s 3ms/step\n",
      "MAPE: 18.478037790114687\n",
      "MAE: 923.4133257599915\n"
     ]
    }
   ],
   "source": [
    "predictions = model.predict(test_sequences)\n",
    "mape = calculate_mape(test_targets, predictions)\n",
    "print(f'MAPE: {mape}')\n",
    "mae = calculate_mae(test_targets, predictions)\n",
    "print(f'MAE: {mae}')"
   ]
  },
  {
   "cell_type": "code",
   "execution_count": 21,
   "id": "2ad585a6",
   "metadata": {},
   "outputs": [],
   "source": [
    "# Model definition\n",
    "model = Sequential()\n",
    "model.add(LSTM(50, input_shape=(sequence_length, n_features)))\n",
    "model.add(Dense(50))\n",
    "model.add(Dense(50))\n",
    "model.add(Dense(50))\n",
    "model.add(Dense(50))\n",
    "model.add(Dense(1))  # Output layer with one neuron for regression"
   ]
  },
  {
   "cell_type": "code",
   "execution_count": 22,
   "id": "d1ef61d7",
   "metadata": {
    "scrolled": true
   },
   "outputs": [
    {
     "name": "stdout",
     "output_type": "stream",
     "text": [
      "Epoch 1/50\n",
      "92/92 [==============================] - 2s 10ms/step - loss: 12059331.0000\n",
      "Epoch 2/50\n",
      "92/92 [==============================] - 1s 9ms/step - loss: 908346.6875\n",
      "Epoch 3/50\n",
      "92/92 [==============================] - 1s 9ms/step - loss: 901273.6875\n",
      "Epoch 4/50\n",
      "92/92 [==============================] - 1s 9ms/step - loss: 895244.0000\n",
      "Epoch 5/50\n",
      "92/92 [==============================] - 1s 9ms/step - loss: 901011.2500\n",
      "Epoch 6/50\n",
      "92/92 [==============================] - 1s 9ms/step - loss: 902874.9375\n",
      "Epoch 7/50\n",
      "92/92 [==============================] - 1s 9ms/step - loss: 901734.0000\n",
      "Epoch 8/50\n",
      "92/92 [==============================] - 1s 9ms/step - loss: 895077.3750\n",
      "Epoch 9/50\n",
      "92/92 [==============================] - 1s 9ms/step - loss: 898610.5625\n",
      "Epoch 10/50\n",
      "92/92 [==============================] - 1s 9ms/step - loss: 895992.5000\n",
      "Epoch 11/50\n",
      "92/92 [==============================] - 1s 9ms/step - loss: 903463.0625\n",
      "Epoch 12/50\n",
      "92/92 [==============================] - 1s 9ms/step - loss: 898159.1250\n",
      "Epoch 13/50\n",
      "92/92 [==============================] - 1s 9ms/step - loss: 904991.8750\n",
      "Epoch 14/50\n",
      "92/92 [==============================] - 1s 9ms/step - loss: 898850.4375\n",
      "Epoch 15/50\n",
      "92/92 [==============================] - 1s 9ms/step - loss: 898004.3125\n",
      "Epoch 16/50\n",
      "92/92 [==============================] - 1s 9ms/step - loss: 899292.1875\n",
      "Epoch 17/50\n",
      "92/92 [==============================] - 1s 9ms/step - loss: 899809.3750\n",
      "Epoch 18/50\n",
      "92/92 [==============================] - 1s 9ms/step - loss: 905624.4375\n",
      "Epoch 19/50\n",
      "92/92 [==============================] - 1s 9ms/step - loss: 904563.6875\n",
      "Epoch 20/50\n",
      "92/92 [==============================] - 1s 9ms/step - loss: 904762.0625\n",
      "Epoch 21/50\n",
      "92/92 [==============================] - 1s 9ms/step - loss: 903819.8125\n",
      "Epoch 22/50\n",
      "92/92 [==============================] - 1s 9ms/step - loss: 901485.9375\n",
      "Epoch 23/50\n",
      "92/92 [==============================] - 1s 9ms/step - loss: 899010.1875\n",
      "Epoch 24/50\n",
      "92/92 [==============================] - 1s 9ms/step - loss: 909136.8750\n",
      "Epoch 25/50\n",
      "92/92 [==============================] - 1s 8ms/step - loss: 899476.6250\n",
      "Epoch 26/50\n",
      "92/92 [==============================] - 1s 9ms/step - loss: 896461.6875\n",
      "Epoch 27/50\n",
      "92/92 [==============================] - 1s 9ms/step - loss: 907843.8125\n",
      "Epoch 28/50\n",
      "92/92 [==============================] - 1s 9ms/step - loss: 923536.8750\n",
      "Epoch 29/50\n",
      "92/92 [==============================] - 1s 9ms/step - loss: 907763.6250\n",
      "Epoch 30/50\n",
      "92/92 [==============================] - 1s 9ms/step - loss: 911661.6875\n",
      "Epoch 31/50\n",
      "92/92 [==============================] - 1s 9ms/step - loss: 905662.4375\n",
      "Epoch 32/50\n",
      "92/92 [==============================] - 1s 9ms/step - loss: 911092.4375\n",
      "Epoch 33/50\n",
      "92/92 [==============================] - 1s 8ms/step - loss: 930713.0000\n",
      "Epoch 34/50\n",
      "92/92 [==============================] - 1s 8ms/step - loss: 904265.7500\n",
      "Epoch 35/50\n",
      "92/92 [==============================] - 1s 9ms/step - loss: 904890.1875\n",
      "Epoch 36/50\n",
      "92/92 [==============================] - 1s 8ms/step - loss: 898503.9375\n",
      "Epoch 37/50\n",
      "92/92 [==============================] - 1s 8ms/step - loss: 902592.4375\n",
      "Epoch 38/50\n",
      "92/92 [==============================] - 1s 8ms/step - loss: 907410.0000\n",
      "Epoch 39/50\n",
      "92/92 [==============================] - 1s 9ms/step - loss: 906384.0625\n",
      "Epoch 40/50\n",
      "92/92 [==============================] - 1s 9ms/step - loss: 906060.6875\n",
      "Epoch 41/50\n",
      "92/92 [==============================] - 1s 10ms/step - loss: 895892.6250\n",
      "Epoch 42/50\n",
      "92/92 [==============================] - 1s 10ms/step - loss: 922658.9375\n",
      "Epoch 43/50\n",
      "92/92 [==============================] - 1s 9ms/step - loss: 902071.7500\n",
      "Epoch 44/50\n",
      "92/92 [==============================] - 1s 9ms/step - loss: 905294.6250\n",
      "Epoch 45/50\n",
      "92/92 [==============================] - 1s 9ms/step - loss: 902164.1250\n",
      "Epoch 46/50\n",
      "92/92 [==============================] - 1s 9ms/step - loss: 900107.4375\n",
      "Epoch 47/50\n",
      "92/92 [==============================] - 1s 9ms/step - loss: 903409.3750\n",
      "Epoch 48/50\n",
      "92/92 [==============================] - 1s 9ms/step - loss: 910153.3750\n",
      "Epoch 49/50\n",
      "92/92 [==============================] - 1s 9ms/step - loss: 901642.1875\n",
      "Epoch 50/50\n",
      "92/92 [==============================] - 1s 9ms/step - loss: 894321.6875\n"
     ]
    },
    {
     "data": {
      "text/plain": [
       "<keras.callbacks.History at 0x296b8e380>"
      ]
     },
     "execution_count": 22,
     "metadata": {},
     "output_type": "execute_result"
    }
   ],
   "source": [
    "# Compile the model\n",
    "model.compile(optimizer='adam', loss='mse')\n",
    "\n",
    "# Model training\n",
    "model.fit(train_sequences,train_targets, epochs=50, batch_size=32)"
   ]
  },
  {
   "cell_type": "code",
   "execution_count": 23,
   "id": "899066a9",
   "metadata": {},
   "outputs": [
    {
     "name": "stdout",
     "output_type": "stream",
     "text": [
      "23/23 [==============================] - 0s 3ms/step\n",
      "MAPE: 18.41426917500871\n",
      "MAE: 942.4087498671344\n"
     ]
    }
   ],
   "source": [
    "predictions = model.predict(test_sequences)\n",
    "mape = calculate_mape(test_targets, predictions)\n",
    "print(f'MAPE: {mape}')\n",
    "mae = calculate_mae(test_targets, predictions)\n",
    "print(f'MAE: {mae}')"
   ]
  },
  {
   "cell_type": "code",
   "execution_count": null,
   "id": "d0cffe15",
   "metadata": {},
   "outputs": [],
   "source": []
  }
 ],
 "metadata": {
  "kernelspec": {
   "display_name": "Python 3.10 (tensorflow)",
   "language": "python",
   "name": "tensorflow"
  },
  "language_info": {
   "codemirror_mode": {
    "name": "ipython",
    "version": 3
   },
   "file_extension": ".py",
   "mimetype": "text/x-python",
   "name": "python",
   "nbconvert_exporter": "python",
   "pygments_lexer": "ipython3",
   "version": "3.10.11"
  }
 },
 "nbformat": 4,
 "nbformat_minor": 5
}
