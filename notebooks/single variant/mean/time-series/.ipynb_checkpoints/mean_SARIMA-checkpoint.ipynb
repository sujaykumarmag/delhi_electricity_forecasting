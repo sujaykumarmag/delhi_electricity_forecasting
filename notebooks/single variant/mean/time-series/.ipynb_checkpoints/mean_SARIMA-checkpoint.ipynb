{
 "cells": [
  {
   "cell_type": "markdown",
   "id": "40002108",
   "metadata": {},
   "source": [
    "## Results of the Mean Imputation Data\n",
    "<hr/>\n",
    "\n",
    "</h3>We considered the data which has mean imputation techniques used where all the values are dropped off....</h3>\n",
    "\n",
    "\n",
    "<h4>        Aims and Goals of this Experiment</h4>\n",
    "<ul>\n",
    "    <li> What are MAPE and MAE scores of train and test data </li>\n",
    "    <li> Levraging SARIMA models to capture seasonal difference </li>\n",
    "</ul>\n",
    "    "
   ]
  },
  {
   "cell_type": "code",
   "execution_count": 1,
   "id": "e00fc5af",
   "metadata": {},
   "outputs": [],
   "source": [
    "import pandas as pd\n",
    "import numpy as np\n",
    "import joblib\n",
    "import pmdarima as pm\n",
    "import matplotlib.pyplot as plt\n",
    "from statsmodels.tsa.statespace.sarimax import SARIMAX\n",
    "from statsmodels.graphics.tsaplots import plot_acf, plot_pacf"
   ]
  },
  {
   "cell_type": "code",
   "execution_count": 2,
   "id": "0f5cee08",
   "metadata": {},
   "outputs": [],
   "source": [
    "df1_train = pd.read_csv(\"../../../../main/sub_data/single_variant/mean/train/train_mean.csv\",index_col='Date',parse_dates=True)\n",
    "df1_test = pd.read_csv(\"../../../../main/sub_data/single_variant/mean/test/test_mean.csv\",index_col='Date',parse_dates=True)"
   ]
  },
  {
   "cell_type": "code",
   "execution_count": 3,
   "id": "81325e64",
   "metadata": {},
   "outputs": [
    {
     "data": {
      "text/html": [
       "<div>\n",
       "<style scoped>\n",
       "    .dataframe tbody tr th:only-of-type {\n",
       "        vertical-align: middle;\n",
       "    }\n",
       "\n",
       "    .dataframe tbody tr th {\n",
       "        vertical-align: top;\n",
       "    }\n",
       "\n",
       "    .dataframe thead th {\n",
       "        text-align: right;\n",
       "    }\n",
       "</style>\n",
       "<table border=\"1\" class=\"dataframe\">\n",
       "  <thead>\n",
       "    <tr style=\"text-align: right;\">\n",
       "      <th></th>\n",
       "      <th>Max.Demand met during the day (MW)</th>\n",
       "    </tr>\n",
       "    <tr>\n",
       "      <th>Date</th>\n",
       "      <th></th>\n",
       "    </tr>\n",
       "  </thead>\n",
       "  <tbody>\n",
       "    <tr>\n",
       "      <th>2013-04-01</th>\n",
       "      <td>2776.0</td>\n",
       "    </tr>\n",
       "    <tr>\n",
       "      <th>2013-04-02</th>\n",
       "      <td>3034.0</td>\n",
       "    </tr>\n",
       "    <tr>\n",
       "      <th>2013-04-03</th>\n",
       "      <td>2991.0</td>\n",
       "    </tr>\n",
       "    <tr>\n",
       "      <th>2013-04-04</th>\n",
       "      <td>3125.0</td>\n",
       "    </tr>\n",
       "    <tr>\n",
       "      <th>2013-04-05</th>\n",
       "      <td>3160.0</td>\n",
       "    </tr>\n",
       "    <tr>\n",
       "      <th>...</th>\n",
       "      <td>...</td>\n",
       "    </tr>\n",
       "    <tr>\n",
       "      <th>2023-04-26</th>\n",
       "      <td>4445.0</td>\n",
       "    </tr>\n",
       "    <tr>\n",
       "      <th>2023-04-27</th>\n",
       "      <td>4626.0</td>\n",
       "    </tr>\n",
       "    <tr>\n",
       "      <th>2023-04-28</th>\n",
       "      <td>4395.0</td>\n",
       "    </tr>\n",
       "    <tr>\n",
       "      <th>2023-04-29</th>\n",
       "      <td>4048.0</td>\n",
       "    </tr>\n",
       "    <tr>\n",
       "      <th>2023-04-30</th>\n",
       "      <td>3791.0</td>\n",
       "    </tr>\n",
       "  </tbody>\n",
       "</table>\n",
       "<p>3682 rows × 1 columns</p>\n",
       "</div>"
      ],
      "text/plain": [
       "            Max.Demand met during the day (MW)\n",
       "Date                                          \n",
       "2013-04-01                              2776.0\n",
       "2013-04-02                              3034.0\n",
       "2013-04-03                              2991.0\n",
       "2013-04-04                              3125.0\n",
       "2013-04-05                              3160.0\n",
       "...                                        ...\n",
       "2023-04-26                              4445.0\n",
       "2023-04-27                              4626.0\n",
       "2023-04-28                              4395.0\n",
       "2023-04-29                              4048.0\n",
       "2023-04-30                              3791.0\n",
       "\n",
       "[3682 rows x 1 columns]"
      ]
     },
     "execution_count": 3,
     "metadata": {},
     "output_type": "execute_result"
    }
   ],
   "source": [
    "df1_train"
   ]
  },
  {
   "cell_type": "code",
   "execution_count": 4,
   "id": "6c4e1703",
   "metadata": {},
   "outputs": [],
   "source": [
    "def get_MAPE_MAE_test(dataframe,results):\n",
    "    actual_values = np.array(dataframe)\n",
    "    predicted_values = np.array(pd.DataFrame(results.forecast(len(actual_values)))[\"predicted_mean\"])\n",
    "    APE = np.abs((actual_values - predicted_values) / actual_values) * 100\n",
    "    MAPE = np.mean(APE)\n",
    "    MAE = np.mean(np.abs(results.resid))\n",
    "    print(\"The MAPE Score is : \",MAPE)\n",
    "    print(\"The MAE Score is :\", MAE)\n",
    "    return MAPE, MAE\n",
    "\n",
    "def get_MAPE_MAE(dataframe,results):\n",
    "    actual_values = np.array(dataframe)\n",
    "    predicted_values = np.array(results.fittedvalues)\n",
    "    APE = np.abs((actual_values - predicted_values) / actual_values) * 100\n",
    "    MAPE = np.mean(APE)\n",
    "    MAE = np.mean(np.abs(results.resid))\n",
    "    print(\"The MAPE Score is : \",MAPE)\n",
    "    print(\"The MAE Score is :\", MAE)\n",
    "    return MAPE, MAE\n",
    "\n"
   ]
  },
  {
   "cell_type": "code",
   "execution_count": 5,
   "id": "2c24ba53",
   "metadata": {},
   "outputs": [
    {
     "name": "stderr",
     "output_type": "stream",
     "text": [
      "/Users/sujaykumar/miniconda3/lib/python3.10/site-packages/statsmodels/tsa/base/tsa_model.py:473: ValueWarning: No frequency information was provided, so inferred frequency D will be used.\n",
      "  self._init_dates(dates, freq)\n",
      "/Users/sujaykumar/miniconda3/lib/python3.10/site-packages/statsmodels/tsa/base/tsa_model.py:473: ValueWarning: No frequency information was provided, so inferred frequency D will be used.\n",
      "  self._init_dates(dates, freq)\n",
      " This problem is unconstrained.\n"
     ]
    },
    {
     "name": "stdout",
     "output_type": "stream",
     "text": [
      "RUNNING THE L-BFGS-B CODE\n",
      "\n",
      "           * * *\n",
      "\n",
      "Machine precision = 2.220D-16\n",
      " N =            3     M =           10\n",
      "\n",
      "At X0         0 variables are exactly at the bounds\n",
      "\n",
      "At iterate    0    f=  7.65341D+00    |proj g|=  2.32925D-01\n",
      "\n",
      "At iterate    5    f=  7.62563D+00    |proj g|=  5.90917D-04\n",
      "\n",
      "At iterate   10    f=  7.62560D+00    |proj g|=  5.91348D-03\n",
      "\n",
      "At iterate   15    f=  7.62555D+00    |proj g|=  2.62069D-05\n",
      "\n",
      "           * * *\n",
      "\n",
      "Tit   = total number of iterations\n",
      "Tnf   = total number of function evaluations\n",
      "Tnint = total number of segments explored during Cauchy searches\n",
      "Skip  = number of BFGS updates skipped\n",
      "Nact  = number of active bounds at final generalized Cauchy point\n",
      "Projg = norm of the final projected gradient\n",
      "F     = final function value\n",
      "\n",
      "           * * *\n",
      "\n",
      "   N    Tit     Tnf  Tnint  Skip  Nact     Projg        F\n",
      "    3     16     18      1     0     0   2.621D-05   7.626D+00\n",
      "  F =   7.6255545937961298     \n",
      "\n",
      "CONVERGENCE: REL_REDUCTION_OF_F_<=_FACTR*EPSMCH             \n",
      "                                       SARIMAX Results                                        \n",
      "==============================================================================================\n",
      "Dep. Variable:     Max.Demand met during the day (MW)   No. Observations:                 3682\n",
      "Model:                          SARIMAX(1, 0, [1], 7)   Log Likelihood              -28077.292\n",
      "Date:                                Tue, 18 Jul 2023   AIC                          56160.584\n",
      "Time:                                        08:05:32   BIC                          56179.218\n",
      "Sample:                                    04-01-2013   HQIC                         56167.217\n",
      "                                         - 04-30-2023                                         \n",
      "Covariance Type:                                  opg                                         \n",
      "==============================================================================\n",
      "                 coef    std err          z      P>|z|      [0.025      0.975]\n",
      "------------------------------------------------------------------------------\n",
      "ar.S.L7        0.9963      0.001    811.910      0.000       0.994       0.999\n",
      "ma.S.L7       -0.2560      0.014    -18.725      0.000      -0.283      -0.229\n",
      "sigma2      2.472e+05   4523.419     54.648      0.000    2.38e+05    2.56e+05\n",
      "===================================================================================\n",
      "Ljung-Box (L1) (Q):                2178.74   Jarque-Bera (JB):               416.28\n",
      "Prob(Q):                              0.00   Prob(JB):                         0.00\n",
      "Heteroskedasticity (H):               2.14   Skew:                            -0.06\n",
      "Prob(H) (two-sided):                  0.00   Kurtosis:                         4.64\n",
      "===================================================================================\n",
      "\n",
      "Warnings:\n",
      "[1] Covariance matrix calculated using the outer product of gradients (complex-step).\n"
     ]
    }
   ],
   "source": [
    "sarima_1 = SARIMAX(df1_train,order=(0,0,0),seasonal_order=(1,0,1,7)).fit()\n",
    "print(sarima_1.summary())"
   ]
  },
  {
   "cell_type": "code",
   "execution_count": 6,
   "id": "604342fb",
   "metadata": {},
   "outputs": [
    {
     "name": "stdout",
     "output_type": "stream",
     "text": [
      "The MAPE Score is :  25.973903526649206\n",
      "The MAE Score is : 369.3504785860667\n",
      "--------------------------------------------------------------------\n",
      "The MAPE Score is :  17.382692084020835\n",
      "The MAE Score is : 369.3504785860667\n"
     ]
    },
    {
     "data": {
      "text/plain": [
       "(17.382692084020835, 369.3504785860667)"
      ]
     },
     "execution_count": 6,
     "metadata": {},
     "output_type": "execute_result"
    }
   ],
   "source": [
    "get_MAPE_MAE(df1_train,sarima_1)\n",
    "print(\"--------------------------------------------------------------------\")\n",
    "get_MAPE_MAE_test(df1_test,sarima_1)"
   ]
  },
  {
   "cell_type": "code",
   "execution_count": 7,
   "id": "f4bffd13",
   "metadata": {},
   "outputs": [
    {
     "name": "stderr",
     "output_type": "stream",
     "text": [
      "/Users/sujaykumar/miniconda3/lib/python3.10/site-packages/statsmodels/tsa/base/tsa_model.py:473: ValueWarning: No frequency information was provided, so inferred frequency D will be used.\n",
      "  self._init_dates(dates, freq)\n",
      "/Users/sujaykumar/miniconda3/lib/python3.10/site-packages/statsmodels/tsa/base/tsa_model.py:473: ValueWarning: No frequency information was provided, so inferred frequency D will be used.\n",
      "  self._init_dates(dates, freq)\n",
      " This problem is unconstrained.\n"
     ]
    },
    {
     "name": "stdout",
     "output_type": "stream",
     "text": [
      "RUNNING THE L-BFGS-B CODE\n",
      "\n",
      "           * * *\n",
      "\n",
      "Machine precision = 2.220D-16\n",
      " N =            3     M =           10\n",
      "\n",
      "At X0         0 variables are exactly at the bounds\n",
      "\n",
      "At iterate    0    f=  7.61424D+00    |proj g|=  1.16311D-01\n",
      "\n",
      "           * * *\n",
      "\n",
      "Tit   = total number of iterations\n",
      "Tnf   = total number of function evaluations\n",
      "Tnint = total number of segments explored during Cauchy searches\n",
      "Skip  = number of BFGS updates skipped\n",
      "Nact  = number of active bounds at final generalized Cauchy point\n",
      "Projg = norm of the final projected gradient\n",
      "F     = final function value\n",
      "\n",
      "           * * *\n",
      "\n",
      "   N    Tit     Tnf  Tnint  Skip  Nact     Projg        F\n",
      "    3      4      7      1     0     0   4.773D-05   7.607D+00\n",
      "  F =   7.6073807935051168     \n",
      "\n",
      "CONVERGENCE: REL_REDUCTION_OF_F_<=_FACTR*EPSMCH             \n",
      "                                       SARIMAX Results                                        \n",
      "==============================================================================================\n",
      "Dep. Variable:     Max.Demand met during the day (MW)   No. Observations:                 3682\n",
      "Model:                          SARIMAX(1, 1, [1], 7)   Log Likelihood              -28010.376\n",
      "Date:                                Tue, 18 Jul 2023   AIC                          56026.752\n",
      "Time:                                        08:05:33   BIC                          56045.380\n",
      "Sample:                                    04-01-2013   HQIC                         56033.384\n",
      "                                         - 04-30-2023                                         \n",
      "Covariance Type:                                  opg                                         \n",
      "==============================================================================\n",
      "                 coef    std err          z      P>|z|      [0.025      0.975]\n",
      "------------------------------------------------------------------------------\n",
      "ar.S.L7       -0.1415      0.049     -2.898      0.004      -0.237      -0.046\n",
      "ma.S.L7       -0.1306      0.051     -2.565      0.010      -0.230      -0.031\n",
      "sigma2      2.433e+05   4358.671     55.810      0.000    2.35e+05    2.52e+05\n",
      "===================================================================================\n",
      "Ljung-Box (L1) (Q):                2173.47   Jarque-Bera (JB):               430.03\n",
      "Prob(Q):                              0.00   Prob(JB):                         0.00\n",
      "Heteroskedasticity (H):               2.15   Skew:                            -0.09\n",
      "Prob(H) (two-sided):                  0.00   Kurtosis:                         4.67\n",
      "===================================================================================\n",
      "\n",
      "Warnings:\n",
      "[1] Covariance matrix calculated using the outer product of gradients (complex-step).\n"
     ]
    }
   ],
   "source": [
    "sarima_2 = SARIMAX(df1_train,order=(0,0,0),seasonal_order=(1,1,1,7)).fit()\n",
    "print(sarima_2.summary())"
   ]
  },
  {
   "cell_type": "code",
   "execution_count": 8,
   "id": "34eac336",
   "metadata": {},
   "outputs": [
    {
     "name": "stdout",
     "output_type": "stream",
     "text": [
      "The MAPE Score is :  26.14127576947424\n",
      "The MAE Score is : 368.4135612205466\n",
      "--------------------------------------------------------------------\n",
      "The MAPE Score is :  16.831859947999142\n",
      "The MAE Score is : 368.4135612205466\n"
     ]
    },
    {
     "data": {
      "text/plain": [
       "(16.831859947999142, 368.4135612205466)"
      ]
     },
     "execution_count": 8,
     "metadata": {},
     "output_type": "execute_result"
    }
   ],
   "source": [
    "get_MAPE_MAE(df1_train,sarima_2)\n",
    "print(\"--------------------------------------------------------------------\")\n",
    "get_MAPE_MAE_test(df1_test,sarima_2)"
   ]
  },
  {
   "cell_type": "markdown",
   "id": "eb8c16ef",
   "metadata": {},
   "source": [
    "## Brute Force Approach without the non-seasonal Component\n",
    "\n",
    "<p>This experiment only captures the non-seasonal component for the original df with the length of Seasonal Cycle 7</p>\n",
    "\n",
    "    Inference Results\n",
    "<ul>\n",
    "<li>SARIMA(0,0,0)(3,0,6,7) has the highest and lowest AIC and BIC</li>\n",
    "</ul>"
   ]
  },
  {
   "cell_type": "code",
   "execution_count": 9,
   "id": "78a9e3d0",
   "metadata": {},
   "outputs": [],
   "source": [
    "# results1 = []\n",
    "# for i in range(7):\n",
    "#     for j in range(7):\n",
    "#         try:\n",
    "#             x = SARIMAX(df1_train,order=(0,0,0),seasonal_order=(i,0,j,7)).fit()\n",
    "#             results1.append((i,j,x.aic,x.bic))\n",
    "#         except:\n",
    "#             results1.append(i,j,None,None)"
   ]
  },
  {
   "cell_type": "code",
   "execution_count": 10,
   "id": "745740de",
   "metadata": {},
   "outputs": [],
   "source": [
    "# results1 = pd.DataFrame(results1,columns=['P','Q','AIC','BIC'])\n",
    "# results1.to_csv(\"sarima_results1.csv\")"
   ]
  },
  {
   "cell_type": "code",
   "execution_count": 11,
   "id": "57924b55",
   "metadata": {},
   "outputs": [],
   "source": [
    "results1 = pd.read_csv(\"sarima_results1.csv\")"
   ]
  },
  {
   "cell_type": "code",
   "execution_count": 12,
   "id": "a77ab01e",
   "metadata": {},
   "outputs": [
    {
     "data": {
      "text/html": [
       "<div>\n",
       "<style scoped>\n",
       "    .dataframe tbody tr th:only-of-type {\n",
       "        vertical-align: middle;\n",
       "    }\n",
       "\n",
       "    .dataframe tbody tr th {\n",
       "        vertical-align: top;\n",
       "    }\n",
       "\n",
       "    .dataframe thead th {\n",
       "        text-align: right;\n",
       "    }\n",
       "</style>\n",
       "<table border=\"1\" class=\"dataframe\">\n",
       "  <thead>\n",
       "    <tr style=\"text-align: right;\">\n",
       "      <th></th>\n",
       "      <th>Unnamed: 0</th>\n",
       "      <th>P</th>\n",
       "      <th>Q</th>\n",
       "      <th>AIC</th>\n",
       "      <th>BIC</th>\n",
       "    </tr>\n",
       "  </thead>\n",
       "  <tbody>\n",
       "    <tr>\n",
       "      <th>44</th>\n",
       "      <td>44</td>\n",
       "      <td>6</td>\n",
       "      <td>2</td>\n",
       "      <td>55932.485392</td>\n",
       "      <td>55988.386294</td>\n",
       "    </tr>\n",
       "    <tr>\n",
       "      <th>27</th>\n",
       "      <td>27</td>\n",
       "      <td>3</td>\n",
       "      <td>6</td>\n",
       "      <td>55936.723793</td>\n",
       "      <td>55998.835906</td>\n",
       "    </tr>\n",
       "    <tr>\n",
       "      <th>48</th>\n",
       "      <td>48</td>\n",
       "      <td>6</td>\n",
       "      <td>6</td>\n",
       "      <td>55947.427344</td>\n",
       "      <td>56028.173091</td>\n",
       "    </tr>\n",
       "    <tr>\n",
       "      <th>40</th>\n",
       "      <td>40</td>\n",
       "      <td>5</td>\n",
       "      <td>5</td>\n",
       "      <td>55950.442307</td>\n",
       "      <td>56018.765631</td>\n",
       "    </tr>\n",
       "    <tr>\n",
       "      <th>41</th>\n",
       "      <td>41</td>\n",
       "      <td>5</td>\n",
       "      <td>6</td>\n",
       "      <td>55950.471725</td>\n",
       "      <td>56025.006261</td>\n",
       "    </tr>\n",
       "    <tr>\n",
       "      <th>45</th>\n",
       "      <td>45</td>\n",
       "      <td>6</td>\n",
       "      <td>3</td>\n",
       "      <td>55950.804298</td>\n",
       "      <td>56012.916411</td>\n",
       "    </tr>\n",
       "    <tr>\n",
       "      <th>24</th>\n",
       "      <td>24</td>\n",
       "      <td>3</td>\n",
       "      <td>3</td>\n",
       "      <td>56004.056047</td>\n",
       "      <td>56047.534526</td>\n",
       "    </tr>\n",
       "    <tr>\n",
       "      <th>47</th>\n",
       "      <td>47</td>\n",
       "      <td>6</td>\n",
       "      <td>5</td>\n",
       "      <td>56013.933209</td>\n",
       "      <td>56088.467745</td>\n",
       "    </tr>\n",
       "    <tr>\n",
       "      <th>46</th>\n",
       "      <td>46</td>\n",
       "      <td>6</td>\n",
       "      <td>4</td>\n",
       "      <td>56020.579782</td>\n",
       "      <td>56088.903107</td>\n",
       "    </tr>\n",
       "    <tr>\n",
       "      <th>25</th>\n",
       "      <td>25</td>\n",
       "      <td>3</td>\n",
       "      <td>4</td>\n",
       "      <td>56083.805820</td>\n",
       "      <td>56133.495511</td>\n",
       "    </tr>\n",
       "    <tr>\n",
       "      <th>20</th>\n",
       "      <td>20</td>\n",
       "      <td>2</td>\n",
       "      <td>6</td>\n",
       "      <td>56084.460717</td>\n",
       "      <td>56140.361619</td>\n",
       "    </tr>\n",
       "    <tr>\n",
       "      <th>18</th>\n",
       "      <td>18</td>\n",
       "      <td>2</td>\n",
       "      <td>4</td>\n",
       "      <td>56085.228466</td>\n",
       "      <td>56128.706945</td>\n",
       "    </tr>\n",
       "    <tr>\n",
       "      <th>32</th>\n",
       "      <td>32</td>\n",
       "      <td>4</td>\n",
       "      <td>4</td>\n",
       "      <td>56085.534308</td>\n",
       "      <td>56141.435210</td>\n",
       "    </tr>\n",
       "    <tr>\n",
       "      <th>33</th>\n",
       "      <td>33</td>\n",
       "      <td>4</td>\n",
       "      <td>5</td>\n",
       "      <td>56086.608039</td>\n",
       "      <td>56148.720152</td>\n",
       "    </tr>\n",
       "    <tr>\n",
       "      <th>26</th>\n",
       "      <td>26</td>\n",
       "      <td>3</td>\n",
       "      <td>5</td>\n",
       "      <td>56086.808706</td>\n",
       "      <td>56142.709609</td>\n",
       "    </tr>\n",
       "    <tr>\n",
       "      <th>38</th>\n",
       "      <td>38</td>\n",
       "      <td>5</td>\n",
       "      <td>3</td>\n",
       "      <td>56086.915086</td>\n",
       "      <td>56142.815989</td>\n",
       "    </tr>\n",
       "    <tr>\n",
       "      <th>31</th>\n",
       "      <td>31</td>\n",
       "      <td>4</td>\n",
       "      <td>3</td>\n",
       "      <td>56087.021247</td>\n",
       "      <td>56136.710938</td>\n",
       "    </tr>\n",
       "    <tr>\n",
       "      <th>11</th>\n",
       "      <td>11</td>\n",
       "      <td>1</td>\n",
       "      <td>4</td>\n",
       "      <td>56087.076458</td>\n",
       "      <td>56124.343726</td>\n",
       "    </tr>\n",
       "    <tr>\n",
       "      <th>34</th>\n",
       "      <td>34</td>\n",
       "      <td>4</td>\n",
       "      <td>6</td>\n",
       "      <td>56087.895219</td>\n",
       "      <td>56156.218544</td>\n",
       "    </tr>\n",
       "    <tr>\n",
       "      <th>12</th>\n",
       "      <td>12</td>\n",
       "      <td>1</td>\n",
       "      <td>5</td>\n",
       "      <td>56088.797744</td>\n",
       "      <td>56132.276223</td>\n",
       "    </tr>\n",
       "    <tr>\n",
       "      <th>13</th>\n",
       "      <td>13</td>\n",
       "      <td>1</td>\n",
       "      <td>6</td>\n",
       "      <td>56089.216693</td>\n",
       "      <td>56138.906384</td>\n",
       "    </tr>\n",
       "    <tr>\n",
       "      <th>19</th>\n",
       "      <td>19</td>\n",
       "      <td>2</td>\n",
       "      <td>5</td>\n",
       "      <td>56089.274024</td>\n",
       "      <td>56138.963715</td>\n",
       "    </tr>\n",
       "    <tr>\n",
       "      <th>39</th>\n",
       "      <td>39</td>\n",
       "      <td>5</td>\n",
       "      <td>4</td>\n",
       "      <td>56089.342397</td>\n",
       "      <td>56151.454510</td>\n",
       "    </tr>\n",
       "    <tr>\n",
       "      <th>23</th>\n",
       "      <td>23</td>\n",
       "      <td>3</td>\n",
       "      <td>2</td>\n",
       "      <td>56092.440986</td>\n",
       "      <td>56129.708254</td>\n",
       "    </tr>\n",
       "    <tr>\n",
       "      <th>30</th>\n",
       "      <td>30</td>\n",
       "      <td>4</td>\n",
       "      <td>2</td>\n",
       "      <td>56092.764759</td>\n",
       "      <td>56136.243238</td>\n",
       "    </tr>\n",
       "    <tr>\n",
       "      <th>37</th>\n",
       "      <td>37</td>\n",
       "      <td>5</td>\n",
       "      <td>2</td>\n",
       "      <td>56093.934498</td>\n",
       "      <td>56143.624189</td>\n",
       "    </tr>\n",
       "    <tr>\n",
       "      <th>36</th>\n",
       "      <td>36</td>\n",
       "      <td>5</td>\n",
       "      <td>1</td>\n",
       "      <td>56098.254663</td>\n",
       "      <td>56141.733142</td>\n",
       "    </tr>\n",
       "    <tr>\n",
       "      <th>42</th>\n",
       "      <td>42</td>\n",
       "      <td>6</td>\n",
       "      <td>0</td>\n",
       "      <td>56098.371814</td>\n",
       "      <td>56141.850294</td>\n",
       "    </tr>\n",
       "    <tr>\n",
       "      <th>35</th>\n",
       "      <td>35</td>\n",
       "      <td>5</td>\n",
       "      <td>0</td>\n",
       "      <td>56098.596102</td>\n",
       "      <td>56135.863370</td>\n",
       "    </tr>\n",
       "    <tr>\n",
       "      <th>43</th>\n",
       "      <td>43</td>\n",
       "      <td>6</td>\n",
       "      <td>1</td>\n",
       "      <td>56100.007834</td>\n",
       "      <td>56149.697525</td>\n",
       "    </tr>\n",
       "    <tr>\n",
       "      <th>17</th>\n",
       "      <td>17</td>\n",
       "      <td>2</td>\n",
       "      <td>3</td>\n",
       "      <td>56101.105762</td>\n",
       "      <td>56138.373030</td>\n",
       "    </tr>\n",
       "    <tr>\n",
       "      <th>16</th>\n",
       "      <td>16</td>\n",
       "      <td>2</td>\n",
       "      <td>2</td>\n",
       "      <td>56118.923885</td>\n",
       "      <td>56149.979942</td>\n",
       "    </tr>\n",
       "    <tr>\n",
       "      <th>10</th>\n",
       "      <td>10</td>\n",
       "      <td>1</td>\n",
       "      <td>3</td>\n",
       "      <td>56120.981718</td>\n",
       "      <td>56152.037775</td>\n",
       "    </tr>\n",
       "    <tr>\n",
       "      <th>29</th>\n",
       "      <td>29</td>\n",
       "      <td>4</td>\n",
       "      <td>1</td>\n",
       "      <td>56131.706828</td>\n",
       "      <td>56168.974096</td>\n",
       "    </tr>\n",
       "    <tr>\n",
       "      <th>9</th>\n",
       "      <td>9</td>\n",
       "      <td>1</td>\n",
       "      <td>2</td>\n",
       "      <td>56149.233475</td>\n",
       "      <td>56174.078320</td>\n",
       "    </tr>\n",
       "    <tr>\n",
       "      <th>28</th>\n",
       "      <td>28</td>\n",
       "      <td>4</td>\n",
       "      <td>0</td>\n",
       "      <td>56150.208849</td>\n",
       "      <td>56181.264906</td>\n",
       "    </tr>\n",
       "    <tr>\n",
       "      <th>21</th>\n",
       "      <td>21</td>\n",
       "      <td>3</td>\n",
       "      <td>0</td>\n",
       "      <td>56151.566556</td>\n",
       "      <td>56176.411401</td>\n",
       "    </tr>\n",
       "    <tr>\n",
       "      <th>22</th>\n",
       "      <td>22</td>\n",
       "      <td>3</td>\n",
       "      <td>1</td>\n",
       "      <td>56153.102120</td>\n",
       "      <td>56184.158177</td>\n",
       "    </tr>\n",
       "    <tr>\n",
       "      <th>15</th>\n",
       "      <td>15</td>\n",
       "      <td>2</td>\n",
       "      <td>1</td>\n",
       "      <td>56154.164161</td>\n",
       "      <td>56179.009006</td>\n",
       "    </tr>\n",
       "    <tr>\n",
       "      <th>14</th>\n",
       "      <td>14</td>\n",
       "      <td>2</td>\n",
       "      <td>0</td>\n",
       "      <td>56158.318472</td>\n",
       "      <td>56176.952106</td>\n",
       "    </tr>\n",
       "    <tr>\n",
       "      <th>8</th>\n",
       "      <td>8</td>\n",
       "      <td>1</td>\n",
       "      <td>1</td>\n",
       "      <td>56160.584029</td>\n",
       "      <td>56179.217663</td>\n",
       "    </tr>\n",
       "    <tr>\n",
       "      <th>7</th>\n",
       "      <td>7</td>\n",
       "      <td>1</td>\n",
       "      <td>0</td>\n",
       "      <td>56415.744513</td>\n",
       "      <td>56428.166936</td>\n",
       "    </tr>\n",
       "    <tr>\n",
       "      <th>6</th>\n",
       "      <td>6</td>\n",
       "      <td>0</td>\n",
       "      <td>6</td>\n",
       "      <td>59847.692248</td>\n",
       "      <td>59891.170727</td>\n",
       "    </tr>\n",
       "    <tr>\n",
       "      <th>4</th>\n",
       "      <td>4</td>\n",
       "      <td>0</td>\n",
       "      <td>4</td>\n",
       "      <td>61513.470292</td>\n",
       "      <td>61544.526349</td>\n",
       "    </tr>\n",
       "    <tr>\n",
       "      <th>5</th>\n",
       "      <td>5</td>\n",
       "      <td>0</td>\n",
       "      <td>5</td>\n",
       "      <td>62056.713266</td>\n",
       "      <td>62093.980534</td>\n",
       "    </tr>\n",
       "    <tr>\n",
       "      <th>3</th>\n",
       "      <td>3</td>\n",
       "      <td>0</td>\n",
       "      <td>3</td>\n",
       "      <td>63023.408246</td>\n",
       "      <td>63048.253092</td>\n",
       "    </tr>\n",
       "    <tr>\n",
       "      <th>2</th>\n",
       "      <td>2</td>\n",
       "      <td>0</td>\n",
       "      <td>2</td>\n",
       "      <td>64844.149845</td>\n",
       "      <td>64862.783479</td>\n",
       "    </tr>\n",
       "    <tr>\n",
       "      <th>1</th>\n",
       "      <td>1</td>\n",
       "      <td>0</td>\n",
       "      <td>1</td>\n",
       "      <td>67983.996431</td>\n",
       "      <td>67996.418854</td>\n",
       "    </tr>\n",
       "    <tr>\n",
       "      <th>0</th>\n",
       "      <td>0</td>\n",
       "      <td>0</td>\n",
       "      <td>0</td>\n",
       "      <td>72332.299343</td>\n",
       "      <td>72338.510555</td>\n",
       "    </tr>\n",
       "  </tbody>\n",
       "</table>\n",
       "</div>"
      ],
      "text/plain": [
       "    Unnamed: 0  P  Q           AIC           BIC\n",
       "44          44  6  2  55932.485392  55988.386294\n",
       "27          27  3  6  55936.723793  55998.835906\n",
       "48          48  6  6  55947.427344  56028.173091\n",
       "40          40  5  5  55950.442307  56018.765631\n",
       "41          41  5  6  55950.471725  56025.006261\n",
       "45          45  6  3  55950.804298  56012.916411\n",
       "24          24  3  3  56004.056047  56047.534526\n",
       "47          47  6  5  56013.933209  56088.467745\n",
       "46          46  6  4  56020.579782  56088.903107\n",
       "25          25  3  4  56083.805820  56133.495511\n",
       "20          20  2  6  56084.460717  56140.361619\n",
       "18          18  2  4  56085.228466  56128.706945\n",
       "32          32  4  4  56085.534308  56141.435210\n",
       "33          33  4  5  56086.608039  56148.720152\n",
       "26          26  3  5  56086.808706  56142.709609\n",
       "38          38  5  3  56086.915086  56142.815989\n",
       "31          31  4  3  56087.021247  56136.710938\n",
       "11          11  1  4  56087.076458  56124.343726\n",
       "34          34  4  6  56087.895219  56156.218544\n",
       "12          12  1  5  56088.797744  56132.276223\n",
       "13          13  1  6  56089.216693  56138.906384\n",
       "19          19  2  5  56089.274024  56138.963715\n",
       "39          39  5  4  56089.342397  56151.454510\n",
       "23          23  3  2  56092.440986  56129.708254\n",
       "30          30  4  2  56092.764759  56136.243238\n",
       "37          37  5  2  56093.934498  56143.624189\n",
       "36          36  5  1  56098.254663  56141.733142\n",
       "42          42  6  0  56098.371814  56141.850294\n",
       "35          35  5  0  56098.596102  56135.863370\n",
       "43          43  6  1  56100.007834  56149.697525\n",
       "17          17  2  3  56101.105762  56138.373030\n",
       "16          16  2  2  56118.923885  56149.979942\n",
       "10          10  1  3  56120.981718  56152.037775\n",
       "29          29  4  1  56131.706828  56168.974096\n",
       "9            9  1  2  56149.233475  56174.078320\n",
       "28          28  4  0  56150.208849  56181.264906\n",
       "21          21  3  0  56151.566556  56176.411401\n",
       "22          22  3  1  56153.102120  56184.158177\n",
       "15          15  2  1  56154.164161  56179.009006\n",
       "14          14  2  0  56158.318472  56176.952106\n",
       "8            8  1  1  56160.584029  56179.217663\n",
       "7            7  1  0  56415.744513  56428.166936\n",
       "6            6  0  6  59847.692248  59891.170727\n",
       "4            4  0  4  61513.470292  61544.526349\n",
       "5            5  0  5  62056.713266  62093.980534\n",
       "3            3  0  3  63023.408246  63048.253092\n",
       "2            2  0  2  64844.149845  64862.783479\n",
       "1            1  0  1  67983.996431  67996.418854\n",
       "0            0  0  0  72332.299343  72338.510555"
      ]
     },
     "execution_count": 12,
     "metadata": {},
     "output_type": "execute_result"
    }
   ],
   "source": [
    "results1.sort_values(\"AIC\")"
   ]
  },
  {
   "cell_type": "code",
   "execution_count": 13,
   "id": "bfc455f6",
   "metadata": {
    "scrolled": true
   },
   "outputs": [
    {
     "name": "stderr",
     "output_type": "stream",
     "text": [
      "/Users/sujaykumar/miniconda3/lib/python3.10/site-packages/statsmodels/tsa/base/tsa_model.py:473: ValueWarning: No frequency information was provided, so inferred frequency D will be used.\n",
      "  self._init_dates(dates, freq)\n",
      "/Users/sujaykumar/miniconda3/lib/python3.10/site-packages/statsmodels/tsa/base/tsa_model.py:473: ValueWarning: No frequency information was provided, so inferred frequency D will be used.\n",
      "  self._init_dates(dates, freq)\n"
     ]
    },
    {
     "name": "stdout",
     "output_type": "stream",
     "text": [
      "RUNNING THE L-BFGS-B CODE\n",
      "\n",
      "           * * *\n",
      "\n",
      "Machine precision = 2.220D-16\n",
      " N =            9     M =           10\n",
      "\n",
      "At X0         0 variables are exactly at the bounds\n",
      "\n",
      "At iterate    0    f=  7.63615D+00    |proj g|=  1.93576D-01\n"
     ]
    },
    {
     "name": "stderr",
     "output_type": "stream",
     "text": [
      " This problem is unconstrained.\n"
     ]
    },
    {
     "name": "stdout",
     "output_type": "stream",
     "text": [
      "\n",
      "At iterate    5    f=  7.61604D+00    |proj g|=  3.66827D-03\n",
      "\n",
      "At iterate   10    f=  7.61596D+00    |proj g|=  1.93075D-04\n",
      "\n",
      "At iterate   15    f=  7.61590D+00    |proj g|=  1.19248D-02\n",
      "\n",
      "At iterate   20    f=  7.61534D+00    |proj g|=  1.78757D-03\n",
      "\n",
      "At iterate   25    f=  7.61534D+00    |proj g|=  2.59230D-04\n",
      "\n",
      "At iterate   30    f=  7.61520D+00    |proj g|=  1.14377D-02\n",
      "\n",
      "At iterate   35    f=  7.61179D+00    |proj g|=  2.42883D-02\n",
      "\n",
      "At iterate   40    f=  7.60756D+00    |proj g|=  1.91005D-02\n",
      "\n",
      "At iterate   45    f=  7.60356D+00    |proj g|=  1.03504D-02\n",
      "\n",
      "At iterate   50    f=  7.59295D+00    |proj g|=  1.35378D-02\n",
      "\n",
      "           * * *\n",
      "\n",
      "Tit   = total number of iterations\n",
      "Tnf   = total number of function evaluations\n",
      "Tnint = total number of segments explored during Cauchy searches\n",
      "Skip  = number of BFGS updates skipped\n",
      "Nact  = number of active bounds at final generalized Cauchy point\n",
      "Projg = norm of the final projected gradient\n",
      "F     = final function value\n",
      "\n",
      "           * * *\n",
      "\n",
      "   N    Tit     Tnf  Tnint  Skip  Nact     Projg        F\n",
      "    9     50     58      1     0     0   1.354D-02   7.593D+00\n",
      "  F =   7.5929502161381919     \n",
      "\n",
      "STOP: TOTAL NO. of ITERATIONS REACHED LIMIT                 \n"
     ]
    },
    {
     "name": "stderr",
     "output_type": "stream",
     "text": [
      "/Users/sujaykumar/miniconda3/lib/python3.10/site-packages/statsmodels/base/model.py:607: ConvergenceWarning: Maximum Likelihood optimization failed to converge. Check mle_retvals\n",
      "  warnings.warn(\"Maximum Likelihood optimization failed to \"\n"
     ]
    },
    {
     "name": "stdout",
     "output_type": "stream",
     "text": [
      "                                       SARIMAX Results                                        \n",
      "==============================================================================================\n",
      "Dep. Variable:     Max.Demand met during the day (MW)   No. Observations:                 3682\n",
      "Model:                       SARIMAX(6, 0, [1, 2], 7)   Log Likelihood              -27957.243\n",
      "Date:                                Tue, 18 Jul 2023   AIC                          55932.485\n",
      "Time:                                        08:06:01   BIC                          55988.386\n",
      "Sample:                                    04-01-2013   HQIC                         55952.384\n",
      "                                         - 04-30-2023                                         \n",
      "Covariance Type:                                  opg                                         \n",
      "==============================================================================\n",
      "                 coef    std err          z      P>|z|      [0.025      0.975]\n",
      "------------------------------------------------------------------------------\n",
      "ar.S.L7        2.3276      0.047     49.248      0.000       2.235       2.420\n",
      "ar.S.L14      -1.5431      0.083    -18.657      0.000      -1.705      -1.381\n",
      "ar.S.L21       0.1727      0.044      3.935      0.000       0.087       0.259\n",
      "ar.S.L28       0.0255      0.044      0.584      0.559      -0.060       0.111\n",
      "ar.S.L35      -0.0877      0.044     -1.993      0.046      -0.174      -0.001\n",
      "ar.S.L42       0.1050      0.019      5.611      0.000       0.068       0.142\n",
      "ma.S.L7       -1.6801      0.047    -35.751      0.000      -1.772      -1.588\n",
      "ma.S.L14       0.6879      0.048     14.403      0.000       0.594       0.782\n",
      "sigma2      2.432e+05   2.43e-07      1e+12      0.000    2.43e+05    2.43e+05\n",
      "===================================================================================\n",
      "Ljung-Box (L1) (Q):                2166.98   Jarque-Bera (JB):               322.42\n",
      "Prob(Q):                              0.00   Prob(JB):                         0.00\n",
      "Heteroskedasticity (H):               2.17   Skew:                             0.02\n",
      "Prob(H) (two-sided):                  0.00   Kurtosis:                         4.45\n",
      "===================================================================================\n",
      "\n",
      "Warnings:\n",
      "[1] Covariance matrix calculated using the outer product of gradients (complex-step).\n",
      "[2] Covariance matrix is singular or near-singular, with condition number 3.13e+28. Standard errors may be unstable.\n"
     ]
    }
   ],
   "source": [
    "sarima_3 = SARIMAX(df1_train,order=(0,0,0),seasonal_order=(6,0,2,7)).fit()\n",
    "print(sarima_3.summary())"
   ]
  },
  {
   "cell_type": "code",
   "execution_count": 14,
   "id": "332fb203",
   "metadata": {},
   "outputs": [
    {
     "name": "stdout",
     "output_type": "stream",
     "text": [
      "The MAPE Score is :  25.355559951643233\n",
      "The MAE Score is : 361.1560365205253\n",
      "--------------------------------------------------------------------\n",
      "The MAPE Score is :  15.39890358399318\n",
      "The MAE Score is : 361.1560365205253\n"
     ]
    },
    {
     "data": {
      "text/plain": [
       "(15.39890358399318, 361.1560365205253)"
      ]
     },
     "execution_count": 14,
     "metadata": {},
     "output_type": "execute_result"
    }
   ],
   "source": [
    "get_MAPE_MAE(df1_train,sarima_3)\n",
    "print(\"--------------------------------------------------------------------\")\n",
    "get_MAPE_MAE_test(df1_test,sarima_3)"
   ]
  },
  {
   "cell_type": "code",
   "execution_count": 15,
   "id": "ae28bfcb",
   "metadata": {
    "scrolled": true
   },
   "outputs": [
    {
     "name": "stderr",
     "output_type": "stream",
     "text": [
      "/Users/sujaykumar/miniconda3/lib/python3.10/site-packages/statsmodels/tsa/base/tsa_model.py:473: ValueWarning: No frequency information was provided, so inferred frequency D will be used.\n",
      "  self._init_dates(dates, freq)\n",
      "/Users/sujaykumar/miniconda3/lib/python3.10/site-packages/statsmodels/tsa/base/tsa_model.py:473: ValueWarning: No frequency information was provided, so inferred frequency D will be used.\n",
      "  self._init_dates(dates, freq)\n"
     ]
    },
    {
     "name": "stdout",
     "output_type": "stream",
     "text": [
      "RUNNING THE L-BFGS-B CODE\n",
      "\n",
      "           * * *\n",
      "\n",
      "Machine precision = 2.220D-16\n",
      " N =            9     M =           10\n",
      "\n",
      "At X0         0 variables are exactly at the bounds\n",
      "\n",
      "At iterate    0    f=  7.61544D+00    |proj g|=  1.72630D-01\n"
     ]
    },
    {
     "name": "stderr",
     "output_type": "stream",
     "text": [
      " This problem is unconstrained.\n"
     ]
    },
    {
     "name": "stdout",
     "output_type": "stream",
     "text": [
      "\n",
      "At iterate    5    f=  7.59914D+00    |proj g|=  2.10757D-03\n",
      "\n",
      "At iterate   10    f=  7.59840D+00    |proj g|=  3.05860D-02\n",
      "\n",
      "At iterate   15    f=  7.59744D+00    |proj g|=  1.75997D-03\n",
      "\n",
      "At iterate   20    f=  7.59728D+00    |proj g|=  1.62990D-02\n",
      "\n",
      "At iterate   25    f=  7.59710D+00    |proj g|=  7.56177D-03\n",
      "\n",
      "At iterate   30    f=  7.59703D+00    |proj g|=  4.57572D-03\n",
      "\n",
      "At iterate   35    f=  7.59685D+00    |proj g|=  4.76477D-03\n",
      "\n",
      "At iterate   40    f=  7.59645D+00    |proj g|=  3.74005D-02\n",
      "\n",
      "At iterate   45    f=  7.59603D+00    |proj g|=  1.71667D-02\n"
     ]
    },
    {
     "name": "stderr",
     "output_type": "stream",
     "text": [
      "/Users/sujaykumar/miniconda3/lib/python3.10/site-packages/statsmodels/base/model.py:607: ConvergenceWarning: Maximum Likelihood optimization failed to converge. Check mle_retvals\n",
      "  warnings.warn(\"Maximum Likelihood optimization failed to \"\n"
     ]
    },
    {
     "name": "stdout",
     "output_type": "stream",
     "text": [
      "\n",
      "At iterate   50    f=  7.59600D+00    |proj g|=  3.25299D-03\n",
      "\n",
      "           * * *\n",
      "\n",
      "Tit   = total number of iterations\n",
      "Tnf   = total number of function evaluations\n",
      "Tnint = total number of segments explored during Cauchy searches\n",
      "Skip  = number of BFGS updates skipped\n",
      "Nact  = number of active bounds at final generalized Cauchy point\n",
      "Projg = norm of the final projected gradient\n",
      "F     = final function value\n",
      "\n",
      "           * * *\n",
      "\n",
      "   N    Tit     Tnf  Tnint  Skip  Nact     Projg        F\n",
      "    9     50     62      1     0     0   3.253D-03   7.596D+00\n",
      "  F =   7.5960029958749802     \n",
      "\n",
      "STOP: TOTAL NO. of ITERATIONS REACHED LIMIT                 \n",
      "                                       SARIMAX Results                                        \n",
      "==============================================================================================\n",
      "Dep. Variable:     Max.Demand met during the day (MW)   No. Observations:                 3682\n",
      "Model:                       SARIMAX(6, 1, [1, 2], 7)   Log Likelihood              -27968.483\n",
      "Date:                                Tue, 18 Jul 2023   AIC                          55954.966\n",
      "Time:                                        08:06:59   BIC                          56010.850\n",
      "Sample:                                    04-01-2013   HQIC                         55974.861\n",
      "                                         - 04-30-2023                                         \n",
      "Covariance Type:                                  opg                                         \n",
      "==============================================================================\n",
      "                 coef    std err          z      P>|z|      [0.025      0.975]\n",
      "------------------------------------------------------------------------------\n",
      "ar.S.L7       -0.3000      0.019    -16.103      0.000      -0.336      -0.263\n",
      "ar.S.L14      -1.0091      0.020    -51.463      0.000      -1.048      -0.971\n",
      "ar.S.L21      -0.2045      0.022     -9.473      0.000      -0.247      -0.162\n",
      "ar.S.L28       0.0925      0.022      4.227      0.000       0.050       0.135\n",
      "ar.S.L35       0.0855      0.015      5.524      0.000       0.055       0.116\n",
      "ar.S.L42       0.1288      0.015      8.656      0.000       0.100       0.158\n",
      "ma.S.L7        0.0220      0.013      1.662      0.097      -0.004       0.048\n",
      "ma.S.L14       0.9690      0.013     73.693      0.000       0.943       0.995\n",
      "sigma2      2.386e+05   4371.713     54.582      0.000     2.3e+05    2.47e+05\n",
      "===================================================================================\n",
      "Ljung-Box (L1) (Q):                2132.56   Jarque-Bera (JB):               437.86\n",
      "Prob(Q):                              0.00   Prob(JB):                         0.00\n",
      "Heteroskedasticity (H):               2.14   Skew:                            -0.17\n",
      "Prob(H) (two-sided):                  0.00   Kurtosis:                         4.66\n",
      "===================================================================================\n",
      "\n",
      "Warnings:\n",
      "[1] Covariance matrix calculated using the outer product of gradients (complex-step).\n"
     ]
    }
   ],
   "source": [
    "sarima_4 = SARIMAX(df1_train,order=(0,0,0),seasonal_order=(6,1,2,7)).fit()\n",
    "print(sarima_4.summary())"
   ]
  },
  {
   "cell_type": "code",
   "execution_count": 16,
   "id": "f449a7bb",
   "metadata": {},
   "outputs": [
    {
     "name": "stdout",
     "output_type": "stream",
     "text": [
      "The MAPE Score is :  26.404612179177168\n",
      "The MAE Score is : 363.6392151218639\n",
      "--------------------------------------------------------------------\n",
      "The MAPE Score is :  16.173448237493744\n",
      "The MAE Score is : 363.6392151218639\n"
     ]
    },
    {
     "data": {
      "text/plain": [
       "(16.173448237493744, 363.6392151218639)"
      ]
     },
     "execution_count": 16,
     "metadata": {},
     "output_type": "execute_result"
    }
   ],
   "source": [
    "get_MAPE_MAE(df1_train,sarima_4)\n",
    "print(\"--------------------------------------------------------------------\")\n",
    "get_MAPE_MAE_test(df1_test,sarima_4)"
   ]
  },
  {
   "cell_type": "code",
   "execution_count": 17,
   "id": "e624b209",
   "metadata": {
    "scrolled": true
   },
   "outputs": [
    {
     "name": "stderr",
     "output_type": "stream",
     "text": [
      "/Users/sujaykumar/miniconda3/lib/python3.10/site-packages/statsmodels/tsa/base/tsa_model.py:473: ValueWarning: No frequency information was provided, so inferred frequency D will be used.\n",
      "  self._init_dates(dates, freq)\n",
      "/Users/sujaykumar/miniconda3/lib/python3.10/site-packages/statsmodels/tsa/base/tsa_model.py:473: ValueWarning: No frequency information was provided, so inferred frequency D will be used.\n",
      "  self._init_dates(dates, freq)\n"
     ]
    },
    {
     "name": "stdout",
     "output_type": "stream",
     "text": [
      "RUNNING THE L-BFGS-B CODE\n",
      "\n",
      "           * * *\n",
      "\n",
      "Machine precision = 2.220D-16\n",
      " N =           10     M =           10\n",
      "\n",
      "At X0         0 variables are exactly at the bounds\n",
      "\n",
      "At iterate    0    f=  7.64904D+00    |proj g|=  2.72356D-01\n"
     ]
    },
    {
     "name": "stderr",
     "output_type": "stream",
     "text": [
      " This problem is unconstrained.\n"
     ]
    },
    {
     "name": "stdout",
     "output_type": "stream",
     "text": [
      "\n",
      "At iterate    5    f=  7.61422D+00    |proj g|=  1.01716D-03\n",
      "\n",
      "At iterate   10    f=  7.61415D+00    |proj g|=  4.32952D-03\n",
      "\n",
      "At iterate   15    f=  7.61408D+00    |proj g|=  2.60499D-03\n",
      "\n",
      "At iterate   20    f=  7.61386D+00    |proj g|=  1.94620D-03\n",
      "\n",
      "At iterate   25    f=  7.61363D+00    |proj g|=  2.55799D-02\n",
      "\n",
      "At iterate   30    f=  7.60722D+00    |proj g|=  3.71026D-02\n",
      "\n",
      "At iterate   35    f=  7.59847D+00    |proj g|=  2.53299D-02\n",
      "\n",
      "At iterate   40    f=  7.59687D+00    |proj g|=  1.55305D-02\n",
      "\n",
      "At iterate   45    f=  7.59526D+00    |proj g|=  1.81040D-02\n"
     ]
    },
    {
     "name": "stderr",
     "output_type": "stream",
     "text": [
      "/Users/sujaykumar/miniconda3/lib/python3.10/site-packages/statsmodels/base/model.py:607: ConvergenceWarning: Maximum Likelihood optimization failed to converge. Check mle_retvals\n",
      "  warnings.warn(\"Maximum Likelihood optimization failed to \"\n"
     ]
    },
    {
     "name": "stdout",
     "output_type": "stream",
     "text": [
      "\n",
      "At iterate   50    f=  7.59325D+00    |proj g|=  1.41708D-02\n",
      "\n",
      "           * * *\n",
      "\n",
      "Tit   = total number of iterations\n",
      "Tnf   = total number of function evaluations\n",
      "Tnint = total number of segments explored during Cauchy searches\n",
      "Skip  = number of BFGS updates skipped\n",
      "Nact  = number of active bounds at final generalized Cauchy point\n",
      "Projg = norm of the final projected gradient\n",
      "F     = final function value\n",
      "\n",
      "           * * *\n",
      "\n",
      "   N    Tit     Tnf  Tnint  Skip  Nact     Projg        F\n",
      "   10     50     66      1     0     0   1.417D-02   7.593D+00\n",
      "  F =   7.5932541815333359     \n",
      "\n",
      "STOP: TOTAL NO. of ITERATIONS REACHED LIMIT                 \n",
      "                                        SARIMAX Results                                         \n",
      "================================================================================================\n",
      "Dep. Variable:       Max.Demand met during the day (MW)   No. Observations:                 3682\n",
      "Model:             SARIMAX(3, 0, [1, 2, 3, 4, 5, 6], 7)   Log Likelihood              -27958.362\n",
      "Date:                                  Tue, 18 Jul 2023   AIC                          55936.724\n",
      "Time:                                          08:08:00   BIC                          55998.836\n",
      "Sample:                                      04-01-2013   HQIC                         55958.834\n",
      "                                           - 04-30-2023                                         \n",
      "Covariance Type:                                    opg                                         \n",
      "==============================================================================\n",
      "                 coef    std err          z      P>|z|      [0.025      0.975]\n",
      "------------------------------------------------------------------------------\n",
      "ar.S.L7        0.8745      0.021     41.477      0.000       0.833       0.916\n",
      "ar.S.L14       0.9997      0.023     44.393      0.000       0.956       1.044\n",
      "ar.S.L21      -0.8742      0.019    -45.223      0.000      -0.912      -0.836\n",
      "ma.S.L7       -0.2145      0.043     -5.013      0.000      -0.298      -0.131\n",
      "ma.S.L14      -0.9315      0.041    -22.800      0.000      -1.012      -0.851\n",
      "ma.S.L21       0.3190      0.022     14.433      0.000       0.276       0.362\n",
      "ma.S.L28       0.0678      0.020      3.365      0.001       0.028       0.107\n",
      "ma.S.L35      -0.0947      0.016     -6.081      0.000      -0.125      -0.064\n",
      "ma.S.L42      -0.1264      0.018     -7.190      0.000      -0.161      -0.092\n",
      "sigma2      2.392e+05   7.23e-07   3.31e+11      0.000    2.39e+05    2.39e+05\n",
      "===================================================================================\n",
      "Ljung-Box (L1) (Q):                2162.05   Jarque-Bera (JB):               345.04\n",
      "Prob(Q):                              0.00   Prob(JB):                         0.00\n",
      "Heteroskedasticity (H):               2.14   Skew:                             0.09\n",
      "Prob(H) (two-sided):                  0.00   Kurtosis:                         4.49\n",
      "===================================================================================\n",
      "\n",
      "Warnings:\n",
      "[1] Covariance matrix calculated using the outer product of gradients (complex-step).\n",
      "[2] Covariance matrix is singular or near-singular, with condition number 5.28e+25. Standard errors may be unstable.\n"
     ]
    }
   ],
   "source": [
    "sarima_5 = SARIMAX(df1_train,order=(0,0,0),seasonal_order=(3,0,6,7)).fit()\n",
    "print(sarima_5.summary())"
   ]
  },
  {
   "cell_type": "code",
   "execution_count": 18,
   "id": "ca7ba1c9",
   "metadata": {},
   "outputs": [
    {
     "name": "stdout",
     "output_type": "stream",
     "text": [
      "The MAPE Score is :  25.153171473647287\n",
      "The MAE Score is : 357.8210436027327\n",
      "--------------------------------------------------------------------\n",
      "The MAPE Score is :  15.758350602262558\n",
      "The MAE Score is : 357.8210436027327\n"
     ]
    },
    {
     "data": {
      "text/plain": [
       "(15.758350602262558, 357.8210436027327)"
      ]
     },
     "execution_count": 18,
     "metadata": {},
     "output_type": "execute_result"
    }
   ],
   "source": [
    "get_MAPE_MAE(df1_train,sarima_5)\n",
    "print(\"--------------------------------------------------------------------\")\n",
    "get_MAPE_MAE_test(df1_test,sarima_5)"
   ]
  },
  {
   "cell_type": "code",
   "execution_count": 19,
   "id": "53ed13c5",
   "metadata": {
    "scrolled": true
   },
   "outputs": [
    {
     "name": "stderr",
     "output_type": "stream",
     "text": [
      "/Users/sujaykumar/miniconda3/lib/python3.10/site-packages/statsmodels/tsa/base/tsa_model.py:473: ValueWarning: No frequency information was provided, so inferred frequency D will be used.\n",
      "  self._init_dates(dates, freq)\n",
      "/Users/sujaykumar/miniconda3/lib/python3.10/site-packages/statsmodels/tsa/base/tsa_model.py:473: ValueWarning: No frequency information was provided, so inferred frequency D will be used.\n",
      "  self._init_dates(dates, freq)\n"
     ]
    },
    {
     "name": "stdout",
     "output_type": "stream",
     "text": [
      "RUNNING THE L-BFGS-B CODE\n",
      "\n",
      "           * * *\n",
      "\n",
      "Machine precision = 2.220D-16\n",
      " N =           10     M =           10\n",
      "\n",
      "At X0         0 variables are exactly at the bounds\n",
      "\n",
      "At iterate    0    f=  7.63067D+00    |proj g|=  2.53807D-01\n"
     ]
    },
    {
     "name": "stderr",
     "output_type": "stream",
     "text": [
      " This problem is unconstrained.\n"
     ]
    },
    {
     "name": "stdout",
     "output_type": "stream",
     "text": [
      "\n",
      "At iterate    5    f=  7.59792D+00    |proj g|=  4.38751D-03\n",
      "\n",
      "At iterate   10    f=  7.59682D+00    |proj g|=  7.46728D-03\n",
      "\n",
      "At iterate   15    f=  7.59676D+00    |proj g|=  1.00566D-04\n",
      "\n",
      "At iterate   20    f=  7.59676D+00    |proj g|=  8.59846D-04\n",
      "\n",
      "           * * *\n",
      "\n",
      "Tit   = total number of iterations\n",
      "Tnf   = total number of function evaluations\n",
      "Tnint = total number of segments explored during Cauchy searches\n",
      "Skip  = number of BFGS updates skipped\n",
      "Nact  = number of active bounds at final generalized Cauchy point\n",
      "Projg = norm of the final projected gradient\n",
      "F     = final function value\n",
      "\n",
      "           * * *\n",
      "\n",
      "   N    Tit     Tnf  Tnint  Skip  Nact     Projg        F\n",
      "   10     24     28      1     0     0   2.053D-05   7.597D+00\n",
      "  F =   7.5967554170071043     \n",
      "\n",
      "CONVERGENCE: REL_REDUCTION_OF_F_<=_FACTR*EPSMCH             \n",
      "                                        SARIMAX Results                                         \n",
      "================================================================================================\n",
      "Dep. Variable:       Max.Demand met during the day (MW)   No. Observations:                 3682\n",
      "Model:             SARIMAX(3, 1, [1, 2, 3, 4, 5, 6], 7)   Log Likelihood              -27971.253\n",
      "Date:                                  Tue, 18 Jul 2023   AIC                          55962.507\n",
      "Time:                                          08:08:18   BIC                          56024.600\n",
      "Sample:                                      04-01-2013   HQIC                         55984.612\n",
      "                                           - 04-30-2023                                         \n",
      "Covariance Type:                                    opg                                         \n",
      "==============================================================================\n",
      "                 coef    std err          z      P>|z|      [0.025      0.975]\n",
      "------------------------------------------------------------------------------\n",
      "ar.S.L7       -0.1841      1.406     -0.131      0.896      -2.939       2.571\n",
      "ar.S.L14       0.0555      0.790      0.070      0.944      -1.493       1.604\n",
      "ar.S.L21      -0.1814      0.333     -0.544      0.586      -0.835       0.472\n",
      "ma.S.L7       -0.0968      1.406     -0.069      0.945      -2.852       2.658\n",
      "ma.S.L14      -0.0682      0.514     -0.133      0.895      -1.076       0.940\n",
      "ma.S.L21       0.2769      0.419      0.661      0.508      -0.544       1.097\n",
      "ma.S.L28       0.0657      0.210      0.313      0.755      -0.346       0.478\n",
      "ma.S.L35      -0.0011      0.191     -0.006      0.995      -0.376       0.374\n",
      "ma.S.L42       0.0367      0.066      0.556      0.578      -0.093       0.166\n",
      "sigma2      2.396e+05   4379.046     54.726      0.000    2.31e+05    2.48e+05\n",
      "===================================================================================\n",
      "Ljung-Box (L1) (Q):                2138.19   Jarque-Bera (JB):               476.49\n",
      "Prob(Q):                              0.00   Prob(JB):                         0.00\n",
      "Heteroskedasticity (H):               2.19   Skew:                            -0.18\n",
      "Prob(H) (two-sided):                  0.00   Kurtosis:                         4.73\n",
      "===================================================================================\n",
      "\n",
      "Warnings:\n",
      "[1] Covariance matrix calculated using the outer product of gradients (complex-step).\n"
     ]
    }
   ],
   "source": [
    "sarima_6 = SARIMAX(df1_train,order=(0,0,0),seasonal_order=(3,1,6,7)).fit()\n",
    "print(sarima_6.summary())"
   ]
  },
  {
   "cell_type": "code",
   "execution_count": 20,
   "id": "d8f9b4a1",
   "metadata": {},
   "outputs": [
    {
     "name": "stdout",
     "output_type": "stream",
     "text": [
      "The MAPE Score is :  26.44484406420435\n",
      "The MAE Score is : 363.37813133712984\n",
      "--------------------------------------------------------------------\n",
      "The MAPE Score is :  15.958727279432392\n",
      "The MAE Score is : 363.37813133712984\n"
     ]
    },
    {
     "data": {
      "text/plain": [
       "(15.958727279432392, 363.37813133712984)"
      ]
     },
     "execution_count": 20,
     "metadata": {},
     "output_type": "execute_result"
    }
   ],
   "source": [
    "get_MAPE_MAE(df1_train,sarima_6)\n",
    "print(\"--------------------------------------------------------------------\")\n",
    "get_MAPE_MAE_test(df1_test,sarima_6)"
   ]
  },
  {
   "cell_type": "markdown",
   "id": "ec603830",
   "metadata": {},
   "source": [
    "## Find P and Q for S"
   ]
  },
  {
   "cell_type": "code",
   "execution_count": 21,
   "id": "a02eaff7",
   "metadata": {},
   "outputs": [
    {
     "data": {
      "image/png": "[encoded data removed]",
      "text/plain": [
       "<Figure size 1200x800 with 2 Axes>"
      ]
     },
     "metadata": {},
     "output_type": "display_data"
    }
   ],
   "source": [
    "fig, (ax1,ax2) = plt.subplots(2,1,figsize=(12,8))\n",
    "plot_acf(df1_train,lags=[7,14,21,28,35],zero=False,ax=ax1)\n",
    "plot_pacf(df1_train,lags=[7,14,21,28,35],zero=False,ax=ax2)\n",
    "plt.show()"
   ]
  },
  {
   "cell_type": "code",
   "execution_count": 22,
   "id": "f2b93399",
   "metadata": {},
   "outputs": [
    {
     "data": {
      "image/png": "[encoded data removed]",
      "text/plain": [
       "<Figure size 1200x800 with 2 Axes>"
      ]
     },
     "metadata": {},
     "output_type": "display_data"
    }
   ],
   "source": [
    "fig, (ax1,ax2) = plt.subplots(2,1,figsize=(12,8))\n",
    "plot_acf(df1_train,lags=[30,60,90,120,150,180],zero=False,ax=ax1)\n",
    "plot_pacf(df1_train,lags=[30,60,90,120,150,180],zero=False,ax=ax2)\n",
    "plt.show()"
   ]
  },
  {
   "cell_type": "code",
   "execution_count": 23,
   "id": "081e99fd",
   "metadata": {},
   "outputs": [
    {
     "data": {
      "image/png": "[encoded data removed]",
      "text/plain": [
       "<Figure size 1200x800 with 2 Axes>"
      ]
     },
     "metadata": {},
     "output_type": "display_data"
    }
   ],
   "source": [
    "fig, (ax1,ax2) = plt.subplots(2,1,figsize=(12,8))\n",
    "plot_acf(df1_train,lags=[365,730,1095,1460],zero=False,ax=ax1)\n",
    "plot_pacf(df1_train,lags=[365,730,1095,1460],zero=False,ax=ax2)\n",
    "plt.show()"
   ]
  },
  {
   "cell_type": "code",
   "execution_count": 24,
   "id": "c0a53c28",
   "metadata": {
    "scrolled": true
   },
   "outputs": [
    {
     "name": "stderr",
     "output_type": "stream",
     "text": [
      "/Users/sujaykumar/miniconda3/lib/python3.10/site-packages/statsmodels/tsa/base/tsa_model.py:473: ValueWarning: No frequency information was provided, so inferred frequency D will be used.\n",
      "  self._init_dates(dates, freq)\n",
      "/Users/sujaykumar/miniconda3/lib/python3.10/site-packages/statsmodels/tsa/base/tsa_model.py:473: ValueWarning: No frequency information was provided, so inferred frequency D will be used.\n",
      "  self._init_dates(dates, freq)\n",
      "/Users/sujaykumar/miniconda3/lib/python3.10/site-packages/statsmodels/tsa/statespace/representation.py:374: FutureWarning: Unknown keyword arguments: dict_keys(['orders']).Passing unknown keyword arguments will raise a TypeError beginning in version 0.15.\n",
      "  warnings.warn(msg, FutureWarning)\n",
      " This problem is unconstrained.\n"
     ]
    },
    {
     "name": "stdout",
     "output_type": "stream",
     "text": [
      "RUNNING THE L-BFGS-B CODE\n",
      "\n",
      "           * * *\n",
      "\n",
      "Machine precision = 2.220D-16\n",
      " N =           10     M =           10\n",
      "\n",
      "At X0         0 variables are exactly at the bounds\n",
      "\n",
      "At iterate    0    f=  7.18905D+00    |proj g|=  2.59603D-01\n",
      "\n",
      "At iterate    5    f=  7.05049D+00    |proj g|=  1.91620D-02\n",
      "\n",
      "At iterate   10    f=  7.03857D+00    |proj g|=  1.54056D-03\n",
      "\n",
      "At iterate   15    f=  7.03856D+00    |proj g|=  2.30961D-03\n",
      "\n",
      "At iterate   20    f=  7.03788D+00    |proj g|=  1.74302D-02\n",
      "\n",
      "At iterate   25    f=  7.03770D+00    |proj g|=  3.74833D-04\n",
      "\n",
      "At iterate   30    f=  7.03760D+00    |proj g|=  6.29418D-03\n",
      "\n",
      "At iterate   35    f=  7.03662D+00    |proj g|=  1.33990D-02\n",
      "\n",
      "At iterate   40    f=  7.02893D+00    |proj g|=  3.81059D-02\n",
      "\n",
      "At iterate   45    f=  7.02513D+00    |proj g|=  3.35499D-03\n"
     ]
    },
    {
     "name": "stderr",
     "output_type": "stream",
     "text": [
      "/Users/sujaykumar/miniconda3/lib/python3.10/site-packages/statsmodels/base/model.py:607: ConvergenceWarning: Maximum Likelihood optimization failed to converge. Check mle_retvals\n",
      "  warnings.warn(\"Maximum Likelihood optimization failed to \"\n"
     ]
    },
    {
     "name": "stdout",
     "output_type": "stream",
     "text": [
      "\n",
      "At iterate   50    f=  7.02456D+00    |proj g|=  1.49818D-03\n",
      "\n",
      "           * * *\n",
      "\n",
      "Tit   = total number of iterations\n",
      "Tnf   = total number of function evaluations\n",
      "Tnint = total number of segments explored during Cauchy searches\n",
      "Skip  = number of BFGS updates skipped\n",
      "Nact  = number of active bounds at final generalized Cauchy point\n",
      "Projg = norm of the final projected gradient\n",
      "F     = final function value\n",
      "\n",
      "           * * *\n",
      "\n",
      "   N    Tit     Tnf  Tnint  Skip  Nact     Projg        F\n",
      "   10     50     68      1     0     0   1.498D-03   7.025D+00\n",
      "  F =   7.0245649158022516     \n",
      "\n",
      "STOP: TOTAL NO. of ITERATIONS REACHED LIMIT                 \n",
      "The MAPE Score is :  25.884755420311897\n",
      "The MAE Score is : 180.73993308981832\n",
      "The MAPE Score is :  25.884755420311897\n",
      "The MAE Score is : 180.73993308981832\n",
      "The MAPE Score is :  17.775239402312963\n",
      "The MAE Score is : 180.73993308981832\n",
      "The MAPE Score is :  17.775239402312963\n",
      "The MAE Score is : 180.73993308981832\n"
     ]
    },
    {
     "name": "stderr",
     "output_type": "stream",
     "text": [
      "/Users/sujaykumar/miniconda3/lib/python3.10/site-packages/statsmodels/tsa/base/tsa_model.py:473: ValueWarning: No frequency information was provided, so inferred frequency D will be used.\n",
      "  self._init_dates(dates, freq)\n",
      "/Users/sujaykumar/miniconda3/lib/python3.10/site-packages/statsmodels/tsa/base/tsa_model.py:473: ValueWarning: No frequency information was provided, so inferred frequency D will be used.\n",
      "  self._init_dates(dates, freq)\n",
      "/Users/sujaykumar/miniconda3/lib/python3.10/site-packages/statsmodels/tsa/statespace/representation.py:374: FutureWarning: Unknown keyword arguments: dict_keys(['orders']).Passing unknown keyword arguments will raise a TypeError beginning in version 0.15.\n",
      "  warnings.warn(msg, FutureWarning)\n"
     ]
    },
    {
     "name": "stdout",
     "output_type": "stream",
     "text": [
      "RUNNING THE L-BFGS-B CODE\n",
      "\n",
      "           * * *\n",
      "\n",
      "Machine precision = 2.220D-16\n",
      " N =           10     M =           10\n",
      "\n",
      "At X0         0 variables are exactly at the bounds\n",
      "\n",
      "At iterate    0    f=  7.18905D+00    |proj g|=  2.59603D-01\n"
     ]
    },
    {
     "name": "stderr",
     "output_type": "stream",
     "text": [
      " This problem is unconstrained.\n"
     ]
    },
    {
     "name": "stdout",
     "output_type": "stream",
     "text": [
      "\n",
      "At iterate    5    f=  7.05049D+00    |proj g|=  1.91620D-02\n",
      "\n",
      "At iterate   10    f=  7.03857D+00    |proj g|=  1.54056D-03\n",
      "\n",
      "At iterate   15    f=  7.03856D+00    |proj g|=  2.30961D-03\n",
      "\n",
      "At iterate   20    f=  7.03788D+00    |proj g|=  1.74302D-02\n",
      "\n",
      "At iterate   25    f=  7.03770D+00    |proj g|=  3.74833D-04\n",
      "\n",
      "At iterate   30    f=  7.03760D+00    |proj g|=  6.29418D-03\n",
      "\n",
      "At iterate   35    f=  7.03662D+00    |proj g|=  1.33990D-02\n",
      "\n",
      "At iterate   40    f=  7.02893D+00    |proj g|=  3.81059D-02\n",
      "\n",
      "At iterate   45    f=  7.02513D+00    |proj g|=  3.35499D-03\n"
     ]
    },
    {
     "name": "stderr",
     "output_type": "stream",
     "text": [
      "/Users/sujaykumar/miniconda3/lib/python3.10/site-packages/statsmodels/base/model.py:607: ConvergenceWarning: Maximum Likelihood optimization failed to converge. Check mle_retvals\n",
      "  warnings.warn(\"Maximum Likelihood optimization failed to \"\n"
     ]
    },
    {
     "name": "stdout",
     "output_type": "stream",
     "text": [
      "\n",
      "At iterate   50    f=  7.02456D+00    |proj g|=  1.49818D-03\n",
      "\n",
      "           * * *\n",
      "\n",
      "Tit   = total number of iterations\n",
      "Tnf   = total number of function evaluations\n",
      "Tnint = total number of segments explored during Cauchy searches\n",
      "Skip  = number of BFGS updates skipped\n",
      "Nact  = number of active bounds at final generalized Cauchy point\n",
      "Projg = norm of the final projected gradient\n",
      "F     = final function value\n",
      "\n",
      "           * * *\n",
      "\n",
      "   N    Tit     Tnf  Tnint  Skip  Nact     Projg        F\n",
      "   10     50     68      1     0     0   1.498D-03   7.025D+00\n",
      "  F =   7.0245649158022516     \n",
      "\n",
      "STOP: TOTAL NO. of ITERATIONS REACHED LIMIT                 \n",
      "The MAPE Score is :  25.884755420311897\n",
      "The MAE Score is : 180.73993308981832\n",
      "The MAPE Score is :  25.884755420311897\n",
      "The MAE Score is : 180.73993308981832\n",
      "The MAPE Score is :  17.775239402312963\n",
      "The MAE Score is : 180.73993308981832\n",
      "The MAPE Score is :  17.775239402312963\n",
      "The MAE Score is : 180.73993308981832\n"
     ]
    },
    {
     "name": "stderr",
     "output_type": "stream",
     "text": [
      "/Users/sujaykumar/miniconda3/lib/python3.10/site-packages/statsmodels/tsa/base/tsa_model.py:473: ValueWarning: No frequency information was provided, so inferred frequency D will be used.\n",
      "  self._init_dates(dates, freq)\n",
      "/Users/sujaykumar/miniconda3/lib/python3.10/site-packages/statsmodels/tsa/base/tsa_model.py:473: ValueWarning: No frequency information was provided, so inferred frequency D will be used.\n",
      "  self._init_dates(dates, freq)\n",
      "/Users/sujaykumar/miniconda3/lib/python3.10/site-packages/statsmodels/tsa/statespace/representation.py:374: FutureWarning: Unknown keyword arguments: dict_keys(['orders']).Passing unknown keyword arguments will raise a TypeError beginning in version 0.15.\n",
      "  warnings.warn(msg, FutureWarning)\n",
      " This problem is unconstrained.\n"
     ]
    },
    {
     "name": "stdout",
     "output_type": "stream",
     "text": [
      "RUNNING THE L-BFGS-B CODE\n",
      "\n",
      "           * * *\n",
      "\n",
      "Machine precision = 2.220D-16\n",
      " N =           10     M =           10\n",
      "\n",
      "At X0         0 variables are exactly at the bounds\n",
      "\n",
      "At iterate    0    f=  7.18905D+00    |proj g|=  2.59603D-01\n",
      "\n",
      "At iterate    5    f=  7.05049D+00    |proj g|=  1.91620D-02\n",
      "\n",
      "At iterate   10    f=  7.03857D+00    |proj g|=  1.54056D-03\n",
      "\n",
      "At iterate   15    f=  7.03856D+00    |proj g|=  2.30961D-03\n",
      "\n",
      "At iterate   20    f=  7.03788D+00    |proj g|=  1.74302D-02\n",
      "\n",
      "At iterate   25    f=  7.03770D+00    |proj g|=  3.74833D-04\n",
      "\n",
      "At iterate   30    f=  7.03760D+00    |proj g|=  6.29418D-03\n",
      "\n",
      "At iterate   35    f=  7.03662D+00    |proj g|=  1.33990D-02\n",
      "\n",
      "At iterate   40    f=  7.02893D+00    |proj g|=  3.81059D-02\n",
      "\n",
      "At iterate   45    f=  7.02513D+00    |proj g|=  3.35499D-03\n"
     ]
    },
    {
     "name": "stderr",
     "output_type": "stream",
     "text": [
      "/Users/sujaykumar/miniconda3/lib/python3.10/site-packages/statsmodels/base/model.py:607: ConvergenceWarning: Maximum Likelihood optimization failed to converge. Check mle_retvals\n",
      "  warnings.warn(\"Maximum Likelihood optimization failed to \"\n"
     ]
    },
    {
     "name": "stdout",
     "output_type": "stream",
     "text": [
      "\n",
      "At iterate   50    f=  7.02456D+00    |proj g|=  1.49818D-03\n",
      "\n",
      "           * * *\n",
      "\n",
      "Tit   = total number of iterations\n",
      "Tnf   = total number of function evaluations\n",
      "Tnint = total number of segments explored during Cauchy searches\n",
      "Skip  = number of BFGS updates skipped\n",
      "Nact  = number of active bounds at final generalized Cauchy point\n",
      "Projg = norm of the final projected gradient\n",
      "F     = final function value\n",
      "\n",
      "           * * *\n",
      "\n",
      "   N    Tit     Tnf  Tnint  Skip  Nact     Projg        F\n",
      "   10     50     68      1     0     0   1.498D-03   7.025D+00\n",
      "  F =   7.0245649158022516     \n",
      "\n",
      "STOP: TOTAL NO. of ITERATIONS REACHED LIMIT                 \n",
      "The MAPE Score is :  25.884755420311897\n",
      "The MAE Score is : 180.73993308981832\n",
      "The MAPE Score is :  25.884755420311897\n",
      "The MAE Score is : 180.73993308981832\n",
      "The MAPE Score is :  17.775239402312963\n",
      "The MAE Score is : 180.73993308981832\n",
      "The MAPE Score is :  17.775239402312963\n",
      "The MAE Score is : 180.73993308981832\n"
     ]
    },
    {
     "name": "stderr",
     "output_type": "stream",
     "text": [
      "/Users/sujaykumar/miniconda3/lib/python3.10/site-packages/statsmodels/tsa/base/tsa_model.py:473: ValueWarning: No frequency information was provided, so inferred frequency D will be used.\n",
      "  self._init_dates(dates, freq)\n",
      "/Users/sujaykumar/miniconda3/lib/python3.10/site-packages/statsmodels/tsa/base/tsa_model.py:473: ValueWarning: No frequency information was provided, so inferred frequency D will be used.\n",
      "  self._init_dates(dates, freq)\n",
      "/Users/sujaykumar/miniconda3/lib/python3.10/site-packages/statsmodels/tsa/statespace/representation.py:374: FutureWarning: Unknown keyword arguments: dict_keys(['orders']).Passing unknown keyword arguments will raise a TypeError beginning in version 0.15.\n",
      "  warnings.warn(msg, FutureWarning)\n"
     ]
    },
    {
     "name": "stdout",
     "output_type": "stream",
     "text": [
      "RUNNING THE L-BFGS-B CODE\n",
      "\n",
      "           * * *\n",
      "\n",
      "Machine precision = 2.220D-16\n",
      " N =           10     M =           10\n",
      "\n",
      "At X0         0 variables are exactly at the bounds\n",
      "\n",
      "At iterate    0    f=  7.18905D+00    |proj g|=  2.59603D-01\n"
     ]
    },
    {
     "name": "stderr",
     "output_type": "stream",
     "text": [
      " This problem is unconstrained.\n"
     ]
    },
    {
     "name": "stdout",
     "output_type": "stream",
     "text": [
      "\n",
      "At iterate    5    f=  7.05049D+00    |proj g|=  1.91620D-02\n",
      "\n",
      "At iterate   10    f=  7.03857D+00    |proj g|=  1.54056D-03\n",
      "\n",
      "At iterate   15    f=  7.03856D+00    |proj g|=  2.30961D-03\n",
      "\n",
      "At iterate   20    f=  7.03788D+00    |proj g|=  1.74302D-02\n",
      "\n",
      "At iterate   25    f=  7.03770D+00    |proj g|=  3.74833D-04\n",
      "\n",
      "At iterate   30    f=  7.03760D+00    |proj g|=  6.29418D-03\n",
      "\n",
      "At iterate   35    f=  7.03662D+00    |proj g|=  1.33990D-02\n",
      "\n",
      "At iterate   40    f=  7.02893D+00    |proj g|=  3.81059D-02\n",
      "\n",
      "At iterate   45    f=  7.02513D+00    |proj g|=  3.35499D-03\n"
     ]
    },
    {
     "name": "stderr",
     "output_type": "stream",
     "text": [
      "/Users/sujaykumar/miniconda3/lib/python3.10/site-packages/statsmodels/base/model.py:607: ConvergenceWarning: Maximum Likelihood optimization failed to converge. Check mle_retvals\n",
      "  warnings.warn(\"Maximum Likelihood optimization failed to \"\n"
     ]
    },
    {
     "name": "stdout",
     "output_type": "stream",
     "text": [
      "\n",
      "At iterate   50    f=  7.02456D+00    |proj g|=  1.49818D-03\n",
      "\n",
      "           * * *\n",
      "\n",
      "Tit   = total number of iterations\n",
      "Tnf   = total number of function evaluations\n",
      "Tnint = total number of segments explored during Cauchy searches\n",
      "Skip  = number of BFGS updates skipped\n",
      "Nact  = number of active bounds at final generalized Cauchy point\n",
      "Projg = norm of the final projected gradient\n",
      "F     = final function value\n",
      "\n",
      "           * * *\n",
      "\n",
      "   N    Tit     Tnf  Tnint  Skip  Nact     Projg        F\n",
      "   10     50     68      1     0     0   1.498D-03   7.025D+00\n",
      "  F =   7.0245649158022516     \n",
      "\n",
      "STOP: TOTAL NO. of ITERATIONS REACHED LIMIT                 \n",
      "The MAPE Score is :  25.884755420311897\n",
      "The MAE Score is : 180.73993308981832\n",
      "The MAPE Score is :  25.884755420311897\n",
      "The MAE Score is : 180.73993308981832\n",
      "The MAPE Score is :  17.775239402312963\n",
      "The MAE Score is : 180.73993308981832\n",
      "The MAPE Score is :  17.775239402312963\n",
      "The MAE Score is : 180.73993308981832\n"
     ]
    },
    {
     "name": "stderr",
     "output_type": "stream",
     "text": [
      "/Users/sujaykumar/miniconda3/lib/python3.10/site-packages/statsmodels/tsa/base/tsa_model.py:473: ValueWarning: No frequency information was provided, so inferred frequency D will be used.\n",
      "  self._init_dates(dates, freq)\n",
      "/Users/sujaykumar/miniconda3/lib/python3.10/site-packages/statsmodels/tsa/base/tsa_model.py:473: ValueWarning: No frequency information was provided, so inferred frequency D will be used.\n",
      "  self._init_dates(dates, freq)\n",
      "/Users/sujaykumar/miniconda3/lib/python3.10/site-packages/statsmodels/tsa/statespace/representation.py:374: FutureWarning: Unknown keyword arguments: dict_keys(['orders']).Passing unknown keyword arguments will raise a TypeError beginning in version 0.15.\n",
      "  warnings.warn(msg, FutureWarning)\n"
     ]
    },
    {
     "name": "stdout",
     "output_type": "stream",
     "text": [
      "RUNNING THE L-BFGS-B CODE\n",
      "\n",
      "           * * *\n",
      "\n",
      "Machine precision = 2.220D-16\n",
      " N =           10     M =           10\n",
      "\n",
      "At X0         0 variables are exactly at the bounds\n",
      "\n",
      "At iterate    0    f=  7.18905D+00    |proj g|=  2.59603D-01\n"
     ]
    },
    {
     "name": "stderr",
     "output_type": "stream",
     "text": [
      " This problem is unconstrained.\n"
     ]
    },
    {
     "name": "stdout",
     "output_type": "stream",
     "text": [
      "\n",
      "At iterate    5    f=  7.05049D+00    |proj g|=  1.91620D-02\n",
      "\n",
      "At iterate   10    f=  7.03857D+00    |proj g|=  1.54056D-03\n",
      "\n",
      "At iterate   15    f=  7.03856D+00    |proj g|=  2.30961D-03\n",
      "\n",
      "At iterate   20    f=  7.03788D+00    |proj g|=  1.74302D-02\n",
      "\n",
      "At iterate   25    f=  7.03770D+00    |proj g|=  3.74833D-04\n",
      "\n",
      "At iterate   30    f=  7.03760D+00    |proj g|=  6.29418D-03\n",
      "\n",
      "At iterate   35    f=  7.03662D+00    |proj g|=  1.33990D-02\n",
      "\n",
      "At iterate   40    f=  7.02893D+00    |proj g|=  3.81059D-02\n",
      "\n",
      "At iterate   45    f=  7.02513D+00    |proj g|=  3.35499D-03\n"
     ]
    },
    {
     "name": "stderr",
     "output_type": "stream",
     "text": [
      "/Users/sujaykumar/miniconda3/lib/python3.10/site-packages/statsmodels/base/model.py:607: ConvergenceWarning: Maximum Likelihood optimization failed to converge. Check mle_retvals\n",
      "  warnings.warn(\"Maximum Likelihood optimization failed to \"\n"
     ]
    },
    {
     "name": "stdout",
     "output_type": "stream",
     "text": [
      "\n",
      "At iterate   50    f=  7.02456D+00    |proj g|=  1.49818D-03\n",
      "\n",
      "           * * *\n",
      "\n",
      "Tit   = total number of iterations\n",
      "Tnf   = total number of function evaluations\n",
      "Tnint = total number of segments explored during Cauchy searches\n",
      "Skip  = number of BFGS updates skipped\n",
      "Nact  = number of active bounds at final generalized Cauchy point\n",
      "Projg = norm of the final projected gradient\n",
      "F     = final function value\n",
      "\n",
      "           * * *\n",
      "\n",
      "   N    Tit     Tnf  Tnint  Skip  Nact     Projg        F\n",
      "   10     50     68      1     0     0   1.498D-03   7.025D+00\n",
      "  F =   7.0245649158022516     \n",
      "\n",
      "STOP: TOTAL NO. of ITERATIONS REACHED LIMIT                 \n",
      "The MAPE Score is :  25.884755420311897\n",
      "The MAE Score is : 180.73993308981832\n",
      "The MAPE Score is :  25.884755420311897\n",
      "The MAE Score is : 180.73993308981832\n",
      "The MAPE Score is :  17.775239402312963\n",
      "The MAE Score is : 180.73993308981832\n",
      "The MAPE Score is :  17.775239402312963\n",
      "The MAE Score is : 180.73993308981832\n"
     ]
    },
    {
     "name": "stderr",
     "output_type": "stream",
     "text": [
      "/Users/sujaykumar/miniconda3/lib/python3.10/site-packages/statsmodels/tsa/base/tsa_model.py:473: ValueWarning: No frequency information was provided, so inferred frequency D will be used.\n",
      "  self._init_dates(dates, freq)\n",
      "/Users/sujaykumar/miniconda3/lib/python3.10/site-packages/statsmodels/tsa/base/tsa_model.py:473: ValueWarning: No frequency information was provided, so inferred frequency D will be used.\n",
      "  self._init_dates(dates, freq)\n",
      "/Users/sujaykumar/miniconda3/lib/python3.10/site-packages/statsmodels/tsa/statespace/representation.py:374: FutureWarning: Unknown keyword arguments: dict_keys(['orders']).Passing unknown keyword arguments will raise a TypeError beginning in version 0.15.\n",
      "  warnings.warn(msg, FutureWarning)\n",
      " This problem is unconstrained.\n"
     ]
    },
    {
     "name": "stdout",
     "output_type": "stream",
     "text": [
      "RUNNING THE L-BFGS-B CODE\n",
      "\n",
      "           * * *\n",
      "\n",
      "Machine precision = 2.220D-16\n",
      " N =           10     M =           10\n",
      "\n",
      "At X0         0 variables are exactly at the bounds\n",
      "\n",
      "At iterate    0    f=  7.18905D+00    |proj g|=  2.59603D-01\n",
      "\n",
      "At iterate    5    f=  7.05049D+00    |proj g|=  1.91620D-02\n",
      "\n",
      "At iterate   10    f=  7.03857D+00    |proj g|=  1.54056D-03\n",
      "\n",
      "At iterate   15    f=  7.03856D+00    |proj g|=  2.30961D-03\n",
      "\n",
      "At iterate   20    f=  7.03788D+00    |proj g|=  1.74302D-02\n",
      "\n",
      "At iterate   25    f=  7.03770D+00    |proj g|=  3.74833D-04\n",
      "\n",
      "At iterate   30    f=  7.03760D+00    |proj g|=  6.29418D-03\n",
      "\n",
      "At iterate   35    f=  7.03662D+00    |proj g|=  1.33990D-02\n",
      "\n",
      "At iterate   40    f=  7.02893D+00    |proj g|=  3.81059D-02\n",
      "\n",
      "At iterate   45    f=  7.02513D+00    |proj g|=  3.35499D-03\n"
     ]
    },
    {
     "name": "stderr",
     "output_type": "stream",
     "text": [
      "/Users/sujaykumar/miniconda3/lib/python3.10/site-packages/statsmodels/base/model.py:607: ConvergenceWarning: Maximum Likelihood optimization failed to converge. Check mle_retvals\n",
      "  warnings.warn(\"Maximum Likelihood optimization failed to \"\n"
     ]
    },
    {
     "name": "stdout",
     "output_type": "stream",
     "text": [
      "\n",
      "At iterate   50    f=  7.02456D+00    |proj g|=  1.49818D-03\n",
      "\n",
      "           * * *\n",
      "\n",
      "Tit   = total number of iterations\n",
      "Tnf   = total number of function evaluations\n",
      "Tnint = total number of segments explored during Cauchy searches\n",
      "Skip  = number of BFGS updates skipped\n",
      "Nact  = number of active bounds at final generalized Cauchy point\n",
      "Projg = norm of the final projected gradient\n",
      "F     = final function value\n",
      "\n",
      "           * * *\n",
      "\n",
      "   N    Tit     Tnf  Tnint  Skip  Nact     Projg        F\n",
      "   10     50     68      1     0     0   1.498D-03   7.025D+00\n",
      "  F =   7.0245649158022516     \n",
      "\n",
      "STOP: TOTAL NO. of ITERATIONS REACHED LIMIT                 \n",
      "The MAPE Score is :  25.884755420311897\n",
      "The MAE Score is : 180.73993308981832\n",
      "The MAPE Score is :  25.884755420311897\n",
      "The MAE Score is : 180.73993308981832\n",
      "The MAPE Score is :  17.775239402312963\n",
      "The MAE Score is : 180.73993308981832\n",
      "The MAPE Score is :  17.775239402312963\n",
      "The MAE Score is : 180.73993308981832\n"
     ]
    }
   ],
   "source": [
    "# orders = [(1,0,0),(2,0,0),(1,1,0),(1,2,0),(0,0,1),(0,1,1)]\n",
    "# results2 = []\n",
    "# for o in orders:\n",
    "#     try:\n",
    "#         res = SARIMAX(df1_train,orders=o,seasonal_order=(6,0,2,7)).fit()\n",
    "#         results2.append((3,6,res.aic,res.bic,get_MAPE_MAE(df1_train,res)[0],get_MAPE_MAE(df1_train,res)[1],get_MAPE_MAE_test(df1_test,res)[0],get_MAPE_MAE_test(df1_test,res)[1]))\n",
    "#     except:\n",
    "#         results2.append((3,6,None,None,None,None,None,None))\n"
   ]
  },
  {
   "cell_type": "code",
   "execution_count": 25,
   "id": "71f82397",
   "metadata": {},
   "outputs": [
    {
     "name": "stderr",
     "output_type": "stream",
     "text": [
      "/Users/sujaykumar/miniconda3/lib/python3.10/site-packages/statsmodels/tsa/base/tsa_model.py:473: ValueWarning: No frequency information was provided, so inferred frequency D will be used.\n",
      "  self._init_dates(dates, freq)\n",
      "/Users/sujaykumar/miniconda3/lib/python3.10/site-packages/statsmodels/tsa/base/tsa_model.py:473: ValueWarning: No frequency information was provided, so inferred frequency D will be used.\n",
      "  self._init_dates(dates, freq)\n",
      "/Users/sujaykumar/miniconda3/lib/python3.10/site-packages/statsmodels/tsa/statespace/representation.py:374: FutureWarning: Unknown keyword arguments: dict_keys(['orders']).Passing unknown keyword arguments will raise a TypeError beginning in version 0.15.\n",
      "  warnings.warn(msg, FutureWarning)\n"
     ]
    },
    {
     "name": "stdout",
     "output_type": "stream",
     "text": [
      "RUNNING THE L-BFGS-B CODE\n",
      "\n",
      "           * * *\n",
      "\n",
      "Machine precision = 2.220D-16\n",
      " N =           10     M =           10\n",
      "\n",
      "At X0         0 variables are exactly at the bounds\n",
      "\n",
      "At iterate    0    f=  7.18905D+00    |proj g|=  2.59603D-01\n"
     ]
    },
    {
     "name": "stderr",
     "output_type": "stream",
     "text": [
      " This problem is unconstrained.\n"
     ]
    },
    {
     "name": "stdout",
     "output_type": "stream",
     "text": [
      "\n",
      "At iterate    5    f=  7.05049D+00    |proj g|=  1.91620D-02\n",
      "\n",
      "At iterate   10    f=  7.03857D+00    |proj g|=  1.54056D-03\n",
      "\n",
      "At iterate   15    f=  7.03856D+00    |proj g|=  2.30961D-03\n",
      "\n",
      "At iterate   20    f=  7.03788D+00    |proj g|=  1.74302D-02\n",
      "\n",
      "At iterate   25    f=  7.03770D+00    |proj g|=  3.74833D-04\n",
      "\n",
      "At iterate   30    f=  7.03760D+00    |proj g|=  6.29418D-03\n",
      "\n",
      "At iterate   35    f=  7.03662D+00    |proj g|=  1.33990D-02\n",
      "\n",
      "At iterate   40    f=  7.02893D+00    |proj g|=  3.81059D-02\n",
      "\n",
      "At iterate   45    f=  7.02513D+00    |proj g|=  3.35499D-03\n"
     ]
    },
    {
     "name": "stderr",
     "output_type": "stream",
     "text": [
      "/Users/sujaykumar/miniconda3/lib/python3.10/site-packages/statsmodels/base/model.py:607: ConvergenceWarning: Maximum Likelihood optimization failed to converge. Check mle_retvals\n",
      "  warnings.warn(\"Maximum Likelihood optimization failed to \"\n"
     ]
    },
    {
     "name": "stdout",
     "output_type": "stream",
     "text": [
      "\n",
      "At iterate   50    f=  7.02456D+00    |proj g|=  1.49818D-03\n",
      "\n",
      "           * * *\n",
      "\n",
      "Tit   = total number of iterations\n",
      "Tnf   = total number of function evaluations\n",
      "Tnint = total number of segments explored during Cauchy searches\n",
      "Skip  = number of BFGS updates skipped\n",
      "Nact  = number of active bounds at final generalized Cauchy point\n",
      "Projg = norm of the final projected gradient\n",
      "F     = final function value\n",
      "\n",
      "           * * *\n",
      "\n",
      "   N    Tit     Tnf  Tnint  Skip  Nact     Projg        F\n",
      "   10     50     68      1     0     0   1.498D-03   7.025D+00\n",
      "  F =   7.0245649158022516     \n",
      "\n",
      "STOP: TOTAL NO. of ITERATIONS REACHED LIMIT                 \n",
      "The MAPE Score is :  25.884755420311897\n",
      "The MAE Score is : 180.73993308981832\n",
      "The MAPE Score is :  25.884755420311897\n",
      "The MAE Score is : 180.73993308981832\n",
      "The MAPE Score is :  17.775239402312963\n",
      "The MAE Score is : 180.73993308981832\n",
      "The MAPE Score is :  17.775239402312963\n",
      "The MAE Score is : 180.73993308981832\n"
     ]
    },
    {
     "name": "stderr",
     "output_type": "stream",
     "text": [
      "/Users/sujaykumar/miniconda3/lib/python3.10/site-packages/statsmodels/tsa/base/tsa_model.py:473: ValueWarning: No frequency information was provided, so inferred frequency D will be used.\n",
      "  self._init_dates(dates, freq)\n",
      "/Users/sujaykumar/miniconda3/lib/python3.10/site-packages/statsmodels/tsa/base/tsa_model.py:473: ValueWarning: No frequency information was provided, so inferred frequency D will be used.\n",
      "  self._init_dates(dates, freq)\n",
      "/Users/sujaykumar/miniconda3/lib/python3.10/site-packages/statsmodels/tsa/statespace/representation.py:374: FutureWarning: Unknown keyword arguments: dict_keys(['orders']).Passing unknown keyword arguments will raise a TypeError beginning in version 0.15.\n",
      "  warnings.warn(msg, FutureWarning)\n"
     ]
    },
    {
     "name": "stdout",
     "output_type": "stream",
     "text": [
      "RUNNING THE L-BFGS-B CODE\n",
      "\n",
      "           * * *\n",
      "\n",
      "Machine precision = 2.220D-16\n",
      " N =           10     M =           10\n",
      "\n",
      "At X0         0 variables are exactly at the bounds\n",
      "\n",
      "At iterate    0    f=  7.18905D+00    |proj g|=  2.59603D-01\n"
     ]
    },
    {
     "name": "stderr",
     "output_type": "stream",
     "text": [
      " This problem is unconstrained.\n"
     ]
    },
    {
     "name": "stdout",
     "output_type": "stream",
     "text": [
      "\n",
      "At iterate    5    f=  7.05049D+00    |proj g|=  1.91620D-02\n",
      "\n",
      "At iterate   10    f=  7.03857D+00    |proj g|=  1.54056D-03\n",
      "\n",
      "At iterate   15    f=  7.03856D+00    |proj g|=  2.30961D-03\n",
      "\n",
      "At iterate   20    f=  7.03788D+00    |proj g|=  1.74302D-02\n",
      "\n",
      "At iterate   25    f=  7.03770D+00    |proj g|=  3.74833D-04\n",
      "\n",
      "At iterate   30    f=  7.03760D+00    |proj g|=  6.29418D-03\n",
      "\n",
      "At iterate   35    f=  7.03662D+00    |proj g|=  1.33990D-02\n",
      "\n",
      "At iterate   40    f=  7.02893D+00    |proj g|=  3.81059D-02\n",
      "\n",
      "At iterate   45    f=  7.02513D+00    |proj g|=  3.35499D-03\n"
     ]
    },
    {
     "name": "stderr",
     "output_type": "stream",
     "text": [
      "/Users/sujaykumar/miniconda3/lib/python3.10/site-packages/statsmodels/base/model.py:607: ConvergenceWarning: Maximum Likelihood optimization failed to converge. Check mle_retvals\n",
      "  warnings.warn(\"Maximum Likelihood optimization failed to \"\n"
     ]
    },
    {
     "name": "stdout",
     "output_type": "stream",
     "text": [
      "\n",
      "At iterate   50    f=  7.02456D+00    |proj g|=  1.49818D-03\n",
      "\n",
      "           * * *\n",
      "\n",
      "Tit   = total number of iterations\n",
      "Tnf   = total number of function evaluations\n",
      "Tnint = total number of segments explored during Cauchy searches\n",
      "Skip  = number of BFGS updates skipped\n",
      "Nact  = number of active bounds at final generalized Cauchy point\n",
      "Projg = norm of the final projected gradient\n",
      "F     = final function value\n",
      "\n",
      "           * * *\n",
      "\n",
      "   N    Tit     Tnf  Tnint  Skip  Nact     Projg        F\n",
      "   10     50     68      1     0     0   1.498D-03   7.025D+00\n",
      "  F =   7.0245649158022516     \n",
      "\n",
      "STOP: TOTAL NO. of ITERATIONS REACHED LIMIT                 \n",
      "The MAPE Score is :  25.884755420311897\n",
      "The MAE Score is : 180.73993308981832\n",
      "The MAPE Score is :  25.884755420311897\n",
      "The MAE Score is : 180.73993308981832\n",
      "The MAPE Score is :  17.775239402312963\n",
      "The MAE Score is : 180.73993308981832\n",
      "The MAPE Score is :  17.775239402312963\n",
      "The MAE Score is : 180.73993308981832\n"
     ]
    },
    {
     "name": "stderr",
     "output_type": "stream",
     "text": [
      "/Users/sujaykumar/miniconda3/lib/python3.10/site-packages/statsmodels/tsa/base/tsa_model.py:473: ValueWarning: No frequency information was provided, so inferred frequency D will be used.\n",
      "  self._init_dates(dates, freq)\n",
      "/Users/sujaykumar/miniconda3/lib/python3.10/site-packages/statsmodels/tsa/base/tsa_model.py:473: ValueWarning: No frequency information was provided, so inferred frequency D will be used.\n",
      "  self._init_dates(dates, freq)\n",
      "/Users/sujaykumar/miniconda3/lib/python3.10/site-packages/statsmodels/tsa/statespace/representation.py:374: FutureWarning: Unknown keyword arguments: dict_keys(['orders']).Passing unknown keyword arguments will raise a TypeError beginning in version 0.15.\n",
      "  warnings.warn(msg, FutureWarning)\n"
     ]
    },
    {
     "name": "stdout",
     "output_type": "stream",
     "text": [
      "RUNNING THE L-BFGS-B CODE\n",
      "\n",
      "           * * *\n",
      "\n",
      "Machine precision = 2.220D-16\n",
      " N =           10     M =           10\n",
      "\n",
      "At X0         0 variables are exactly at the bounds\n",
      "\n",
      "At iterate    0    f=  7.18905D+00    |proj g|=  2.59603D-01\n"
     ]
    },
    {
     "name": "stderr",
     "output_type": "stream",
     "text": [
      " This problem is unconstrained.\n"
     ]
    },
    {
     "name": "stdout",
     "output_type": "stream",
     "text": [
      "\n",
      "At iterate    5    f=  7.05049D+00    |proj g|=  1.91620D-02\n",
      "\n",
      "At iterate   10    f=  7.03857D+00    |proj g|=  1.54056D-03\n",
      "\n",
      "At iterate   15    f=  7.03856D+00    |proj g|=  2.30961D-03\n",
      "\n",
      "At iterate   20    f=  7.03788D+00    |proj g|=  1.74302D-02\n",
      "\n",
      "At iterate   25    f=  7.03770D+00    |proj g|=  3.74833D-04\n",
      "\n",
      "At iterate   30    f=  7.03760D+00    |proj g|=  6.29418D-03\n",
      "\n",
      "At iterate   35    f=  7.03662D+00    |proj g|=  1.33990D-02\n",
      "\n",
      "At iterate   40    f=  7.02893D+00    |proj g|=  3.81059D-02\n",
      "\n",
      "At iterate   45    f=  7.02513D+00    |proj g|=  3.35499D-03\n"
     ]
    },
    {
     "name": "stderr",
     "output_type": "stream",
     "text": [
      "/Users/sujaykumar/miniconda3/lib/python3.10/site-packages/statsmodels/base/model.py:607: ConvergenceWarning: Maximum Likelihood optimization failed to converge. Check mle_retvals\n",
      "  warnings.warn(\"Maximum Likelihood optimization failed to \"\n"
     ]
    },
    {
     "name": "stdout",
     "output_type": "stream",
     "text": [
      "\n",
      "At iterate   50    f=  7.02456D+00    |proj g|=  1.49818D-03\n",
      "\n",
      "           * * *\n",
      "\n",
      "Tit   = total number of iterations\n",
      "Tnf   = total number of function evaluations\n",
      "Tnint = total number of segments explored during Cauchy searches\n",
      "Skip  = number of BFGS updates skipped\n",
      "Nact  = number of active bounds at final generalized Cauchy point\n",
      "Projg = norm of the final projected gradient\n",
      "F     = final function value\n",
      "\n",
      "           * * *\n",
      "\n",
      "   N    Tit     Tnf  Tnint  Skip  Nact     Projg        F\n",
      "   10     50     68      1     0     0   1.498D-03   7.025D+00\n",
      "  F =   7.0245649158022516     \n",
      "\n",
      "STOP: TOTAL NO. of ITERATIONS REACHED LIMIT                 \n",
      "The MAPE Score is :  25.884755420311897\n",
      "The MAE Score is : 180.73993308981832\n",
      "The MAPE Score is :  25.884755420311897\n",
      "The MAE Score is : 180.73993308981832\n",
      "The MAPE Score is :  17.775239402312963\n",
      "The MAE Score is : 180.73993308981832\n",
      "The MAPE Score is :  17.775239402312963\n",
      "The MAE Score is : 180.73993308981832\n"
     ]
    },
    {
     "name": "stderr",
     "output_type": "stream",
     "text": [
      "/Users/sujaykumar/miniconda3/lib/python3.10/site-packages/statsmodels/tsa/base/tsa_model.py:473: ValueWarning: No frequency information was provided, so inferred frequency D will be used.\n",
      "  self._init_dates(dates, freq)\n",
      "/Users/sujaykumar/miniconda3/lib/python3.10/site-packages/statsmodels/tsa/base/tsa_model.py:473: ValueWarning: No frequency information was provided, so inferred frequency D will be used.\n",
      "  self._init_dates(dates, freq)\n",
      "/Users/sujaykumar/miniconda3/lib/python3.10/site-packages/statsmodels/tsa/statespace/representation.py:374: FutureWarning: Unknown keyword arguments: dict_keys(['orders']).Passing unknown keyword arguments will raise a TypeError beginning in version 0.15.\n",
      "  warnings.warn(msg, FutureWarning)\n"
     ]
    },
    {
     "name": "stdout",
     "output_type": "stream",
     "text": [
      "RUNNING THE L-BFGS-B CODE\n",
      "\n",
      "           * * *\n",
      "\n",
      "Machine precision = 2.220D-16\n",
      " N =           10     M =           10\n",
      "\n",
      "At X0         0 variables are exactly at the bounds\n",
      "\n",
      "At iterate    0    f=  7.18905D+00    |proj g|=  2.59603D-01\n"
     ]
    },
    {
     "name": "stderr",
     "output_type": "stream",
     "text": [
      " This problem is unconstrained.\n"
     ]
    },
    {
     "name": "stdout",
     "output_type": "stream",
     "text": [
      "\n",
      "At iterate    5    f=  7.05049D+00    |proj g|=  1.91620D-02\n",
      "\n",
      "At iterate   10    f=  7.03857D+00    |proj g|=  1.54056D-03\n",
      "\n",
      "At iterate   15    f=  7.03856D+00    |proj g|=  2.30961D-03\n",
      "\n",
      "At iterate   20    f=  7.03788D+00    |proj g|=  1.74302D-02\n",
      "\n",
      "At iterate   25    f=  7.03770D+00    |proj g|=  3.74833D-04\n",
      "\n",
      "At iterate   30    f=  7.03760D+00    |proj g|=  6.29418D-03\n",
      "\n",
      "At iterate   35    f=  7.03662D+00    |proj g|=  1.33990D-02\n",
      "\n",
      "At iterate   40    f=  7.02893D+00    |proj g|=  3.81059D-02\n",
      "\n",
      "At iterate   45    f=  7.02513D+00    |proj g|=  3.35499D-03\n"
     ]
    },
    {
     "name": "stderr",
     "output_type": "stream",
     "text": [
      "/Users/sujaykumar/miniconda3/lib/python3.10/site-packages/statsmodels/base/model.py:607: ConvergenceWarning: Maximum Likelihood optimization failed to converge. Check mle_retvals\n",
      "  warnings.warn(\"Maximum Likelihood optimization failed to \"\n"
     ]
    },
    {
     "name": "stdout",
     "output_type": "stream",
     "text": [
      "\n",
      "At iterate   50    f=  7.02456D+00    |proj g|=  1.49818D-03\n",
      "\n",
      "           * * *\n",
      "\n",
      "Tit   = total number of iterations\n",
      "Tnf   = total number of function evaluations\n",
      "Tnint = total number of segments explored during Cauchy searches\n",
      "Skip  = number of BFGS updates skipped\n",
      "Nact  = number of active bounds at final generalized Cauchy point\n",
      "Projg = norm of the final projected gradient\n",
      "F     = final function value\n",
      "\n",
      "           * * *\n",
      "\n",
      "   N    Tit     Tnf  Tnint  Skip  Nact     Projg        F\n",
      "   10     50     68      1     0     0   1.498D-03   7.025D+00\n",
      "  F =   7.0245649158022516     \n",
      "\n",
      "STOP: TOTAL NO. of ITERATIONS REACHED LIMIT                 \n",
      "The MAPE Score is :  25.884755420311897\n",
      "The MAE Score is : 180.73993308981832\n",
      "The MAPE Score is :  25.884755420311897\n",
      "The MAE Score is : 180.73993308981832\n",
      "The MAPE Score is :  17.775239402312963\n",
      "The MAE Score is : 180.73993308981832\n",
      "The MAPE Score is :  17.775239402312963\n",
      "The MAE Score is : 180.73993308981832\n"
     ]
    },
    {
     "name": "stderr",
     "output_type": "stream",
     "text": [
      "/Users/sujaykumar/miniconda3/lib/python3.10/site-packages/statsmodels/tsa/base/tsa_model.py:473: ValueWarning: No frequency information was provided, so inferred frequency D will be used.\n",
      "  self._init_dates(dates, freq)\n",
      "/Users/sujaykumar/miniconda3/lib/python3.10/site-packages/statsmodels/tsa/base/tsa_model.py:473: ValueWarning: No frequency information was provided, so inferred frequency D will be used.\n",
      "  self._init_dates(dates, freq)\n",
      "/Users/sujaykumar/miniconda3/lib/python3.10/site-packages/statsmodels/tsa/statespace/representation.py:374: FutureWarning: Unknown keyword arguments: dict_keys(['orders']).Passing unknown keyword arguments will raise a TypeError beginning in version 0.15.\n",
      "  warnings.warn(msg, FutureWarning)\n",
      " This problem is unconstrained.\n"
     ]
    },
    {
     "name": "stdout",
     "output_type": "stream",
     "text": [
      "RUNNING THE L-BFGS-B CODE\n",
      "\n",
      "           * * *\n",
      "\n",
      "Machine precision = 2.220D-16\n",
      " N =           10     M =           10\n",
      "\n",
      "At X0         0 variables are exactly at the bounds\n",
      "\n",
      "At iterate    0    f=  7.18905D+00    |proj g|=  2.59603D-01\n",
      "\n",
      "At iterate    5    f=  7.05049D+00    |proj g|=  1.91620D-02\n",
      "\n",
      "At iterate   10    f=  7.03857D+00    |proj g|=  1.54056D-03\n",
      "\n",
      "At iterate   15    f=  7.03856D+00    |proj g|=  2.30961D-03\n",
      "\n",
      "At iterate   20    f=  7.03788D+00    |proj g|=  1.74302D-02\n",
      "\n",
      "At iterate   25    f=  7.03770D+00    |proj g|=  3.74833D-04\n",
      "\n",
      "At iterate   30    f=  7.03760D+00    |proj g|=  6.29418D-03\n",
      "\n",
      "At iterate   35    f=  7.03662D+00    |proj g|=  1.33990D-02\n",
      "\n",
      "At iterate   40    f=  7.02893D+00    |proj g|=  3.81059D-02\n",
      "\n",
      "At iterate   45    f=  7.02513D+00    |proj g|=  3.35499D-03\n"
     ]
    },
    {
     "name": "stderr",
     "output_type": "stream",
     "text": [
      "/Users/sujaykumar/miniconda3/lib/python3.10/site-packages/statsmodels/base/model.py:607: ConvergenceWarning: Maximum Likelihood optimization failed to converge. Check mle_retvals\n",
      "  warnings.warn(\"Maximum Likelihood optimization failed to \"\n"
     ]
    },
    {
     "name": "stdout",
     "output_type": "stream",
     "text": [
      "\n",
      "At iterate   50    f=  7.02456D+00    |proj g|=  1.49818D-03\n",
      "\n",
      "           * * *\n",
      "\n",
      "Tit   = total number of iterations\n",
      "Tnf   = total number of function evaluations\n",
      "Tnint = total number of segments explored during Cauchy searches\n",
      "Skip  = number of BFGS updates skipped\n",
      "Nact  = number of active bounds at final generalized Cauchy point\n",
      "Projg = norm of the final projected gradient\n",
      "F     = final function value\n",
      "\n",
      "           * * *\n",
      "\n",
      "   N    Tit     Tnf  Tnint  Skip  Nact     Projg        F\n",
      "   10     50     68      1     0     0   1.498D-03   7.025D+00\n",
      "  F =   7.0245649158022516     \n",
      "\n",
      "STOP: TOTAL NO. of ITERATIONS REACHED LIMIT                 \n",
      "The MAPE Score is :  25.884755420311897\n",
      "The MAE Score is : 180.73993308981832\n",
      "The MAPE Score is :  25.884755420311897\n",
      "The MAE Score is : 180.73993308981832\n",
      "The MAPE Score is :  17.775239402312963\n",
      "The MAE Score is : 180.73993308981832\n",
      "The MAPE Score is :  17.775239402312963\n",
      "The MAE Score is : 180.73993308981832\n"
     ]
    },
    {
     "name": "stderr",
     "output_type": "stream",
     "text": [
      "/Users/sujaykumar/miniconda3/lib/python3.10/site-packages/statsmodels/tsa/base/tsa_model.py:473: ValueWarning: No frequency information was provided, so inferred frequency D will be used.\n",
      "  self._init_dates(dates, freq)\n",
      "/Users/sujaykumar/miniconda3/lib/python3.10/site-packages/statsmodels/tsa/base/tsa_model.py:473: ValueWarning: No frequency information was provided, so inferred frequency D will be used.\n",
      "  self._init_dates(dates, freq)\n",
      "/Users/sujaykumar/miniconda3/lib/python3.10/site-packages/statsmodels/tsa/statespace/representation.py:374: FutureWarning: Unknown keyword arguments: dict_keys(['orders']).Passing unknown keyword arguments will raise a TypeError beginning in version 0.15.\n",
      "  warnings.warn(msg, FutureWarning)\n"
     ]
    },
    {
     "name": "stdout",
     "output_type": "stream",
     "text": [
      "RUNNING THE L-BFGS-B CODE\n",
      "\n",
      "           * * *\n",
      "\n",
      "Machine precision = 2.220D-16\n",
      " N =           10     M =           10\n",
      "\n",
      "At X0         0 variables are exactly at the bounds\n",
      "\n",
      "At iterate    0    f=  7.18905D+00    |proj g|=  2.59603D-01\n"
     ]
    },
    {
     "name": "stderr",
     "output_type": "stream",
     "text": [
      " This problem is unconstrained.\n"
     ]
    },
    {
     "name": "stdout",
     "output_type": "stream",
     "text": [
      "\n",
      "At iterate    5    f=  7.05049D+00    |proj g|=  1.91620D-02\n",
      "\n",
      "At iterate   10    f=  7.03857D+00    |proj g|=  1.54056D-03\n",
      "\n",
      "At iterate   15    f=  7.03856D+00    |proj g|=  2.30961D-03\n",
      "\n",
      "At iterate   20    f=  7.03788D+00    |proj g|=  1.74302D-02\n",
      "\n",
      "At iterate   25    f=  7.03770D+00    |proj g|=  3.74833D-04\n",
      "\n",
      "At iterate   30    f=  7.03760D+00    |proj g|=  6.29418D-03\n",
      "\n",
      "At iterate   35    f=  7.03662D+00    |proj g|=  1.33990D-02\n",
      "\n",
      "At iterate   40    f=  7.02893D+00    |proj g|=  3.81059D-02\n",
      "\n",
      "At iterate   45    f=  7.02513D+00    |proj g|=  3.35499D-03\n"
     ]
    },
    {
     "name": "stderr",
     "output_type": "stream",
     "text": [
      "/Users/sujaykumar/miniconda3/lib/python3.10/site-packages/statsmodels/base/model.py:607: ConvergenceWarning: Maximum Likelihood optimization failed to converge. Check mle_retvals\n",
      "  warnings.warn(\"Maximum Likelihood optimization failed to \"\n"
     ]
    },
    {
     "name": "stdout",
     "output_type": "stream",
     "text": [
      "\n",
      "At iterate   50    f=  7.02456D+00    |proj g|=  1.49818D-03\n",
      "\n",
      "           * * *\n",
      "\n",
      "Tit   = total number of iterations\n",
      "Tnf   = total number of function evaluations\n",
      "Tnint = total number of segments explored during Cauchy searches\n",
      "Skip  = number of BFGS updates skipped\n",
      "Nact  = number of active bounds at final generalized Cauchy point\n",
      "Projg = norm of the final projected gradient\n",
      "F     = final function value\n",
      "\n",
      "           * * *\n",
      "\n",
      "   N    Tit     Tnf  Tnint  Skip  Nact     Projg        F\n",
      "   10     50     68      1     0     0   1.498D-03   7.025D+00\n",
      "  F =   7.0245649158022516     \n",
      "\n",
      "STOP: TOTAL NO. of ITERATIONS REACHED LIMIT                 \n",
      "The MAPE Score is :  25.884755420311897\n",
      "The MAE Score is : 180.73993308981832\n",
      "The MAPE Score is :  25.884755420311897\n",
      "The MAE Score is : 180.73993308981832\n",
      "The MAPE Score is :  17.775239402312963\n",
      "The MAE Score is : 180.73993308981832\n",
      "The MAPE Score is :  17.775239402312963\n",
      "The MAE Score is : 180.73993308981832\n"
     ]
    },
    {
     "name": "stderr",
     "output_type": "stream",
     "text": [
      "/Users/sujaykumar/miniconda3/lib/python3.10/site-packages/statsmodels/tsa/base/tsa_model.py:473: ValueWarning: No frequency information was provided, so inferred frequency D will be used.\n",
      "  self._init_dates(dates, freq)\n",
      "/Users/sujaykumar/miniconda3/lib/python3.10/site-packages/statsmodels/tsa/base/tsa_model.py:473: ValueWarning: No frequency information was provided, so inferred frequency D will be used.\n",
      "  self._init_dates(dates, freq)\n",
      "/Users/sujaykumar/miniconda3/lib/python3.10/site-packages/statsmodels/tsa/statespace/representation.py:374: FutureWarning: Unknown keyword arguments: dict_keys(['orders']).Passing unknown keyword arguments will raise a TypeError beginning in version 0.15.\n",
      "  warnings.warn(msg, FutureWarning)\n"
     ]
    },
    {
     "name": "stdout",
     "output_type": "stream",
     "text": [
      "RUNNING THE L-BFGS-B CODE\n",
      "\n",
      "           * * *\n",
      "\n",
      "Machine precision = 2.220D-16\n",
      " N =           10     M =           10\n",
      "\n",
      "At X0         0 variables are exactly at the bounds\n",
      "\n",
      "At iterate    0    f=  7.18905D+00    |proj g|=  2.59603D-01\n"
     ]
    },
    {
     "name": "stderr",
     "output_type": "stream",
     "text": [
      " This problem is unconstrained.\n"
     ]
    },
    {
     "name": "stdout",
     "output_type": "stream",
     "text": [
      "\n",
      "At iterate    5    f=  7.05049D+00    |proj g|=  1.91620D-02\n",
      "\n",
      "At iterate   10    f=  7.03857D+00    |proj g|=  1.54056D-03\n",
      "\n",
      "At iterate   15    f=  7.03856D+00    |proj g|=  2.30961D-03\n",
      "\n",
      "At iterate   20    f=  7.03788D+00    |proj g|=  1.74302D-02\n",
      "\n",
      "At iterate   25    f=  7.03770D+00    |proj g|=  3.74833D-04\n",
      "\n",
      "At iterate   30    f=  7.03760D+00    |proj g|=  6.29418D-03\n",
      "\n",
      "At iterate   35    f=  7.03662D+00    |proj g|=  1.33990D-02\n",
      "\n",
      "At iterate   40    f=  7.02893D+00    |proj g|=  3.81059D-02\n",
      "\n",
      "At iterate   45    f=  7.02513D+00    |proj g|=  3.35499D-03\n"
     ]
    },
    {
     "name": "stderr",
     "output_type": "stream",
     "text": [
      "/Users/sujaykumar/miniconda3/lib/python3.10/site-packages/statsmodels/base/model.py:607: ConvergenceWarning: Maximum Likelihood optimization failed to converge. Check mle_retvals\n",
      "  warnings.warn(\"Maximum Likelihood optimization failed to \"\n"
     ]
    },
    {
     "name": "stdout",
     "output_type": "stream",
     "text": [
      "\n",
      "At iterate   50    f=  7.02456D+00    |proj g|=  1.49818D-03\n",
      "\n",
      "           * * *\n",
      "\n",
      "Tit   = total number of iterations\n",
      "Tnf   = total number of function evaluations\n",
      "Tnint = total number of segments explored during Cauchy searches\n",
      "Skip  = number of BFGS updates skipped\n",
      "Nact  = number of active bounds at final generalized Cauchy point\n",
      "Projg = norm of the final projected gradient\n",
      "F     = final function value\n",
      "\n",
      "           * * *\n",
      "\n",
      "   N    Tit     Tnf  Tnint  Skip  Nact     Projg        F\n",
      "   10     50     68      1     0     0   1.498D-03   7.025D+00\n",
      "  F =   7.0245649158022516     \n",
      "\n",
      "STOP: TOTAL NO. of ITERATIONS REACHED LIMIT                 \n",
      "The MAPE Score is :  25.884755420311897\n",
      "The MAE Score is : 180.73993308981832\n",
      "The MAPE Score is :  25.884755420311897\n",
      "The MAE Score is : 180.73993308981832\n",
      "The MAPE Score is :  17.775239402312963\n",
      "The MAE Score is : 180.73993308981832\n",
      "The MAPE Score is :  17.775239402312963\n",
      "The MAE Score is : 180.73993308981832\n"
     ]
    }
   ],
   "source": [
    "# orders = [(0,2,1),(8,0,8),(8,1,8),(9,0,7),(9,1,7),(8,0,9),(8,1,9)]\n",
    "# for o in orders:\n",
    "#     try:\n",
    "#         res = SARIMAX(df1_train,orders=o,seasonal_order=(6,0,2,7)).fit()\n",
    "#         results2.append((3,6,res.aic,res.bic,get_MAPE_MAE(df1_train,res)[0],get_MAPE_MAE(df1_train,res)[1],get_MAPE_MAE_test(df1_test,res)[0],get_MAPE_MAE_test(df1_test,res)[1]))\n",
    "#     except:\n",
    "#         results2.append((3,6,None,None,None,None,None,None))\n",
    "# results2 = pd.DataFrame(results2,columns=['P','Q','AIC','BIC','MAPE_train','MAE_train','MAPE_test','MAE_test'])"
   ]
  },
  {
   "cell_type": "code",
   "execution_count": 30,
   "id": "bc37e793",
   "metadata": {},
   "outputs": [],
   "source": [
    "results2 = pd.read_csv(\"sarima_results2.csv\")"
   ]
  },
  {
   "cell_type": "code",
   "execution_count": null,
   "id": "065aeed5",
   "metadata": {},
   "outputs": [],
   "source": []
  }
 ],
 "metadata": {
  "kernelspec": {
   "display_name": "Python 3 (ipykernel)",
   "language": "python",
   "name": "python3"
  },
  "language_info": {
   "codemirror_mode": {
    "name": "ipython",
    "version": 3
   },
   "file_extension": ".py",
   "mimetype": "text/x-python",
   "name": "python",
   "nbconvert_exporter": "python",
   "pygments_lexer": "ipython3",
   "version": "3.10.10"
  }
 },
 "nbformat": 4,
 "nbformat_minor": 5
}
