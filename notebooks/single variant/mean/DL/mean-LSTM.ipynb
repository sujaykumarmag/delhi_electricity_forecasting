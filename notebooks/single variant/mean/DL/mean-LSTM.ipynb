{
 "cells": [
  {
   "cell_type": "code",
   "execution_count": 1,
   "id": "037cc7ca",
   "metadata": {},
   "outputs": [],
   "source": [
    "import pandas as pd\n",
    "import numpy as np\n",
    "from keras.models import Sequential\n",
    "from keras.layers import LSTM, Dense"
   ]
  },
  {
   "cell_type": "code",
   "execution_count": 2,
   "id": "8f8b23c3",
   "metadata": {},
   "outputs": [],
   "source": [
    "data = pd.read_csv(\"../../../../main/sub_data/single_variant/mean/train/train_mean.csv\",index_col=\"Date\",parse_dates=True)\n",
    "df_test = pd.read_csv(\"../../../../main/sub_data/single_variant/mean/test/test_mean.csv\",index_col=\"Date\",parse_dates=True)"
   ]
  },
  {
   "cell_type": "code",
   "execution_count": 3,
   "id": "a1ebcb23",
   "metadata": {},
   "outputs": [],
   "source": [
    "# Data preparation\n",
    "data = np.array(data)\n",
    "sequence_length = 10  # Length of input sequences\n",
    "n_features = 1  # Number of features (variables) in your time series data"
   ]
  },
  {
   "cell_type": "code",
   "execution_count": 4,
   "id": "190ca5dc",
   "metadata": {},
   "outputs": [],
   "source": [
    "# Create input sequences and corresponding output values\n",
    "sequences = []\n",
    "targets = []\n",
    "for i in range(len(data) - sequence_length):\n",
    "    sequences.append(data[i : i + sequence_length])\n",
    "    targets.append(data[i + sequence_length])"
   ]
  },
  {
   "cell_type": "code",
   "execution_count": 5,
   "id": "95aa2acb",
   "metadata": {},
   "outputs": [],
   "source": [
    "# Convert lists to NumPy arrays\n",
    "sequences = np.array(sequences)\n",
    "targets = np.array(targets)\n",
    "\n",
    "# Reshape the input sequences to fit the LSTM input shape\n",
    "sequences = sequences.reshape((sequences.shape[0], sequence_length, n_features))\n"
   ]
  },
  {
   "cell_type": "code",
   "execution_count": 6,
   "id": "bccc330d",
   "metadata": {},
   "outputs": [],
   "source": [
    "# Split the data into training and testing sets\n",
    "train_size = int(0.8 * len(sequences))\n",
    "train_sequences = sequences[:train_size]\n",
    "train_targets = targets[:train_size]\n",
    "test_sequences = sequences[train_size:]\n",
    "test_targets = targets[train_size:]"
   ]
  },
  {
   "cell_type": "code",
   "execution_count": 7,
   "id": "b515cdcb",
   "metadata": {},
   "outputs": [],
   "source": [
    "# Calculate MAPE (Mean Absolute Percentage Error)\n",
    "def calculate_mape(y_true, y_pred):\n",
    "    return np.mean(np.abs((y_true - y_pred) / y_true)) * 100\n",
    "\n",
    "# Calculate MAE (Mean Absolute Error)\n",
    "def calculate_mae(y_true, y_pred):\n",
    "    return np.mean(np.abs(y_true - y_pred))"
   ]
  },
  {
   "cell_type": "code",
   "execution_count": 8,
   "id": "6f91087c",
   "metadata": {},
   "outputs": [
    {
     "name": "stdout",
     "output_type": "stream",
     "text": [
      "Metal device set to: Apple M1\n"
     ]
    }
   ],
   "source": [
    "# Model definition\n",
    "model = Sequential()\n",
    "model.add(LSTM(50, input_shape=(sequence_length, n_features)))\n",
    "model.add(Dense(1))  # Output layer with one neuron for regression\n"
   ]
  },
  {
   "cell_type": "code",
   "execution_count": 9,
   "id": "b0f4ac12",
   "metadata": {
    "scrolled": true
   },
   "outputs": [
    {
     "name": "stdout",
     "output_type": "stream",
     "text": [
      "Epoch 1/50\n"
     ]
    },
    {
     "name": "stderr",
     "output_type": "stream",
     "text": [
      "2023-07-17 19:55:36.108988: W tensorflow/tsl/platform/profile_utils/cpu_utils.cc:128] Failed to get CPU frequency: 0 Hz\n"
     ]
    },
    {
     "name": "stdout",
     "output_type": "stream",
     "text": [
      "92/92 [==============================] - 3s 7ms/step - loss: 19097710.0000\n",
      "Epoch 2/50\n",
      "92/92 [==============================] - 1s 6ms/step - loss: 19085000.0000\n",
      "Epoch 3/50\n",
      "92/92 [==============================] - 1s 6ms/step - loss: 19074930.0000\n",
      "Epoch 4/50\n",
      "92/92 [==============================] - 1s 6ms/step - loss: 19064870.0000\n",
      "Epoch 5/50\n",
      "92/92 [==============================] - 1s 6ms/step - loss: 19054824.0000\n",
      "Epoch 6/50\n",
      "92/92 [==============================] - 1s 6ms/step - loss: 19044784.0000\n",
      "Epoch 7/50\n",
      "92/92 [==============================] - 1s 6ms/step - loss: 19034746.0000\n",
      "Epoch 8/50\n",
      "92/92 [==============================] - 1s 6ms/step - loss: 19024716.0000\n",
      "Epoch 9/50\n",
      "92/92 [==============================] - 1s 6ms/step - loss: 19014684.0000\n",
      "Epoch 10/50\n",
      "92/92 [==============================] - 1s 6ms/step - loss: 19004662.0000\n",
      "Epoch 11/50\n",
      "92/92 [==============================] - 1s 6ms/step - loss: 18994646.0000\n",
      "Epoch 12/50\n",
      "92/92 [==============================] - 1s 6ms/step - loss: 18984636.0000\n",
      "Epoch 13/50\n",
      "92/92 [==============================] - 1s 6ms/step - loss: 18974634.0000\n",
      "Epoch 14/50\n",
      "92/92 [==============================] - 1s 6ms/step - loss: 18964628.0000\n",
      "Epoch 15/50\n",
      "92/92 [==============================] - 1s 6ms/step - loss: 18954628.0000\n",
      "Epoch 16/50\n",
      "92/92 [==============================] - 1s 6ms/step - loss: 18944628.0000\n",
      "Epoch 17/50\n",
      "92/92 [==============================] - 1s 6ms/step - loss: 18934638.0000\n",
      "Epoch 18/50\n",
      "92/92 [==============================] - 1s 6ms/step - loss: 18924648.0000\n",
      "Epoch 19/50\n",
      "92/92 [==============================] - 1s 6ms/step - loss: 18914670.0000\n",
      "Epoch 20/50\n",
      "92/92 [==============================] - 1s 6ms/step - loss: 18904690.0000\n",
      "Epoch 21/50\n",
      "92/92 [==============================] - 1s 6ms/step - loss: 18894702.0000\n",
      "Epoch 22/50\n",
      "92/92 [==============================] - 1s 6ms/step - loss: 18884738.0000\n",
      "Epoch 23/50\n",
      "92/92 [==============================] - 1s 6ms/step - loss: 18874760.0000\n",
      "Epoch 24/50\n",
      "92/92 [==============================] - 1s 6ms/step - loss: 18864792.0000\n",
      "Epoch 25/50\n",
      "92/92 [==============================] - 1s 6ms/step - loss: 18854828.0000\n",
      "Epoch 26/50\n",
      "92/92 [==============================] - 1s 6ms/step - loss: 18844300.0000\n",
      "Epoch 27/50\n",
      "92/92 [==============================] - 1s 6ms/step - loss: 18829684.0000\n",
      "Epoch 28/50\n",
      "92/92 [==============================] - 1s 6ms/step - loss: 18819348.0000\n",
      "Epoch 29/50\n",
      "92/92 [==============================] - 1s 6ms/step - loss: 18809032.0000\n",
      "Epoch 30/50\n",
      "92/92 [==============================] - 1s 6ms/step - loss: 18798742.0000\n",
      "Epoch 31/50\n",
      "92/92 [==============================] - 1s 6ms/step - loss: 18788484.0000\n",
      "Epoch 32/50\n",
      "92/92 [==============================] - 1s 6ms/step - loss: 18778238.0000\n",
      "Epoch 33/50\n",
      "92/92 [==============================] - 1s 6ms/step - loss: 18768010.0000\n",
      "Epoch 34/50\n",
      "92/92 [==============================] - 1s 6ms/step - loss: 18757796.0000\n",
      "Epoch 35/50\n",
      "92/92 [==============================] - 1s 6ms/step - loss: 18747596.0000\n",
      "Epoch 36/50\n",
      "92/92 [==============================] - 1s 6ms/step - loss: 18737400.0000\n",
      "Epoch 37/50\n",
      "92/92 [==============================] - 1s 6ms/step - loss: 18727226.0000\n",
      "Epoch 38/50\n",
      "92/92 [==============================] - 1s 7ms/step - loss: 18717062.0000\n",
      "Epoch 39/50\n",
      "92/92 [==============================] - 1s 7ms/step - loss: 18706904.0000\n",
      "Epoch 40/50\n",
      "92/92 [==============================] - 1s 7ms/step - loss: 18696754.0000\n",
      "Epoch 41/50\n",
      "92/92 [==============================] - 1s 7ms/step - loss: 18686618.0000\n",
      "Epoch 42/50\n",
      "92/92 [==============================] - 1s 7ms/step - loss: 18676476.0000\n",
      "Epoch 43/50\n",
      "92/92 [==============================] - 1s 7ms/step - loss: 18666354.0000\n",
      "Epoch 44/50\n",
      "92/92 [==============================] - 1s 6ms/step - loss: 18656230.0000\n",
      "Epoch 45/50\n",
      "92/92 [==============================] - 1s 6ms/step - loss: 18646118.0000\n",
      "Epoch 46/50\n",
      "92/92 [==============================] - 1s 6ms/step - loss: 18636016.0000\n",
      "Epoch 47/50\n",
      "92/92 [==============================] - 1s 6ms/step - loss: 18625914.0000\n",
      "Epoch 48/50\n",
      "92/92 [==============================] - 1s 6ms/step - loss: 18615820.0000\n",
      "Epoch 49/50\n",
      "92/92 [==============================] - 1s 6ms/step - loss: 18605724.0000\n",
      "Epoch 50/50\n",
      "92/92 [==============================] - 1s 6ms/step - loss: 18595638.0000\n"
     ]
    },
    {
     "data": {
      "text/plain": [
       "<keras.callbacks.History at 0x1605a93f0>"
      ]
     },
     "execution_count": 9,
     "metadata": {},
     "output_type": "execute_result"
    }
   ],
   "source": [
    "# Compile the model\n",
    "model.compile(optimizer='adam', loss='mse')\n",
    "\n",
    "# Model training\n",
    "model.fit(train_sequences,train_targets, epochs=50, batch_size=32)"
   ]
  },
  {
   "cell_type": "code",
   "execution_count": 10,
   "id": "ed3ed83c",
   "metadata": {},
   "outputs": [
    {
     "name": "stdout",
     "output_type": "stream",
     "text": [
      "23/23 [==============================] - 0s 4ms/step - loss: 22681932.0000\n",
      "Test loss: 22681932.0\n"
     ]
    }
   ],
   "source": [
    "loss = model.evaluate(test_sequences, test_targets)\n",
    "print(f'Test loss: {loss}')"
   ]
  },
  {
   "cell_type": "code",
   "execution_count": 11,
   "id": "f6001fcf",
   "metadata": {},
   "outputs": [
    {
     "name": "stdout",
     "output_type": "stream",
     "text": [
      "23/23 [==============================] - 0s 3ms/step\n",
      "MAPE: 98.64786802644096\n",
      "MAE: 4638.335427310211\n"
     ]
    }
   ],
   "source": [
    "predictions = model.predict(test_sequences)\n",
    "mape = calculate_mape(test_targets, predictions)\n",
    "print(f'MAPE: {mape}')\n",
    "mae = calculate_mae(test_targets, predictions)\n",
    "print(f'MAE: {mae}')"
   ]
  },
  {
   "cell_type": "code",
   "execution_count": 12,
   "id": "d4b567cb",
   "metadata": {},
   "outputs": [],
   "source": [
    "# Model definition\n",
    "model = Sequential()\n",
    "model.add(LSTM(50, input_shape=(sequence_length, n_features)))\n",
    "model.add(Dense(50))\n",
    "model.add(Dense(1))  # Output layer with one neuron for regression"
   ]
  },
  {
   "cell_type": "code",
   "execution_count": 13,
   "id": "3d107a24",
   "metadata": {
    "scrolled": true
   },
   "outputs": [
    {
     "name": "stdout",
     "output_type": "stream",
     "text": [
      "Epoch 1/50\n",
      "92/92 [==============================] - 1s 7ms/step - loss: 19028528.0000\n",
      "Epoch 2/50\n",
      "92/92 [==============================] - 1s 6ms/step - loss: 18770966.0000\n",
      "Epoch 3/50\n",
      "92/92 [==============================] - 1s 7ms/step - loss: 18272888.0000\n",
      "Epoch 4/50\n",
      "92/92 [==============================] - 1s 7ms/step - loss: 17535064.0000\n",
      "Epoch 5/50\n",
      "92/92 [==============================] - 1s 7ms/step - loss: 16587358.0000\n",
      "Epoch 6/50\n",
      "92/92 [==============================] - 1s 7ms/step - loss: 15467350.0000\n",
      "Epoch 7/50\n",
      "92/92 [==============================] - 1s 7ms/step - loss: 14216706.0000\n",
      "Epoch 8/50\n",
      "92/92 [==============================] - 1s 7ms/step - loss: 12878411.0000\n",
      "Epoch 9/50\n",
      "92/92 [==============================] - 1s 6ms/step - loss: 11494725.0000\n",
      "Epoch 10/50\n",
      "92/92 [==============================] - 1s 6ms/step - loss: 10108801.0000\n",
      "Epoch 11/50\n",
      "92/92 [==============================] - 1s 7ms/step - loss: 8757376.0000\n",
      "Epoch 12/50\n",
      "92/92 [==============================] - 1s 6ms/step - loss: 7473744.5000\n",
      "Epoch 13/50\n",
      "92/92 [==============================] - 1s 7ms/step - loss: 6285180.0000\n",
      "Epoch 14/50\n",
      "92/92 [==============================] - 1s 7ms/step - loss: 5213120.5000\n",
      "Epoch 15/50\n",
      "92/92 [==============================] - 1s 7ms/step - loss: 4270424.0000\n",
      "Epoch 16/50\n",
      "92/92 [==============================] - 1s 7ms/step - loss: 3464939.2500\n",
      "Epoch 17/50\n",
      "92/92 [==============================] - 1s 7ms/step - loss: 2796142.7500\n",
      "Epoch 18/50\n",
      "92/92 [==============================] - 1s 7ms/step - loss: 2259100.0000\n",
      "Epoch 19/50\n",
      "92/92 [==============================] - 1s 8ms/step - loss: 1840938.5000\n",
      "Epoch 20/50\n",
      "92/92 [==============================] - 1s 8ms/step - loss: 1527298.1250\n",
      "Epoch 21/50\n",
      "92/92 [==============================] - 1s 7ms/step - loss: 1300770.1250\n",
      "Epoch 22/50\n",
      "92/92 [==============================] - 1s 7ms/step - loss: 1143289.0000\n",
      "Epoch 23/50\n",
      "92/92 [==============================] - 1s 8ms/step - loss: 1037026.0000\n",
      "Epoch 24/50\n",
      "92/92 [==============================] - 1s 7ms/step - loss: 957705.0625\n",
      "Epoch 25/50\n",
      "92/92 [==============================] - 1s 8ms/step - loss: 917010.3125\n",
      "Epoch 26/50\n",
      "92/92 [==============================] - 1s 8ms/step - loss: 896765.1250\n",
      "Epoch 27/50\n",
      "92/92 [==============================] - 1s 7ms/step - loss: 887193.3125\n",
      "Epoch 28/50\n",
      "92/92 [==============================] - 1s 7ms/step - loss: 882852.8125\n",
      "Epoch 29/50\n",
      "92/92 [==============================] - 1s 7ms/step - loss: 880918.2500\n",
      "Epoch 30/50\n",
      "92/92 [==============================] - 1s 7ms/step - loss: 879978.0000\n",
      "Epoch 31/50\n",
      "92/92 [==============================] - 1s 7ms/step - loss: 879771.6875\n",
      "Epoch 32/50\n",
      "92/92 [==============================] - 1s 7ms/step - loss: 879556.6250\n",
      "Epoch 33/50\n",
      "92/92 [==============================] - 1s 7ms/step - loss: 879519.1875\n",
      "Epoch 34/50\n",
      "92/92 [==============================] - 1s 7ms/step - loss: 879554.1250\n",
      "Epoch 35/50\n",
      "92/92 [==============================] - 1s 7ms/step - loss: 879476.1875\n",
      "Epoch 36/50\n",
      "92/92 [==============================] - 1s 7ms/step - loss: 879533.6250\n",
      "Epoch 37/50\n",
      "92/92 [==============================] - 1s 7ms/step - loss: 879458.6875\n",
      "Epoch 38/50\n",
      "92/92 [==============================] - 1s 7ms/step - loss: 879625.6875\n",
      "Epoch 39/50\n",
      "92/92 [==============================] - 1s 6ms/step - loss: 879652.8750\n",
      "Epoch 40/50\n",
      "92/92 [==============================] - 1s 6ms/step - loss: 879527.8125\n",
      "Epoch 41/50\n",
      "92/92 [==============================] - 1s 6ms/step - loss: 879472.0625\n",
      "Epoch 42/50\n",
      "92/92 [==============================] - 1s 6ms/step - loss: 879497.6250\n",
      "Epoch 43/50\n",
      "92/92 [==============================] - 1s 7ms/step - loss: 879552.6250\n",
      "Epoch 44/50\n",
      "92/92 [==============================] - 1s 7ms/step - loss: 879669.0000\n",
      "Epoch 45/50\n",
      "92/92 [==============================] - 1s 7ms/step - loss: 879531.3750\n",
      "Epoch 46/50\n",
      "92/92 [==============================] - 1s 6ms/step - loss: 879767.5625\n",
      "Epoch 47/50\n",
      "92/92 [==============================] - 1s 7ms/step - loss: 879672.1250\n",
      "Epoch 48/50\n",
      "92/92 [==============================] - 1s 7ms/step - loss: 879607.8125\n",
      "Epoch 49/50\n",
      "92/92 [==============================] - 1s 7ms/step - loss: 879671.9375\n",
      "Epoch 50/50\n",
      "92/92 [==============================] - 1s 7ms/step - loss: 879592.7500\n"
     ]
    },
    {
     "data": {
      "text/plain": [
       "<keras.callbacks.History at 0x1684c6b30>"
      ]
     },
     "execution_count": 13,
     "metadata": {},
     "output_type": "execute_result"
    }
   ],
   "source": [
    "# Compile the model\n",
    "model.compile(optimizer='adam', loss='mse')\n",
    "\n",
    "# Model training\n",
    "model.fit(train_sequences,train_targets, epochs=50, batch_size=32)"
   ]
  },
  {
   "cell_type": "code",
   "execution_count": 14,
   "id": "530b7ae0",
   "metadata": {},
   "outputs": [
    {
     "name": "stdout",
     "output_type": "stream",
     "text": [
      "23/23 [==============================] - 0s 3ms/step\n",
      "MAPE: 18.340630464522008\n",
      "MAE: 916.3371094567634\n"
     ]
    }
   ],
   "source": [
    "predictions = model.predict(test_sequences)\n",
    "mape = calculate_mape(test_targets, predictions)\n",
    "print(f'MAPE: {mape}')\n",
    "mae = calculate_mae(test_targets, predictions)\n",
    "print(f'MAE: {mae}')"
   ]
  },
  {
   "cell_type": "code",
   "execution_count": 15,
   "id": "f1f9f33c",
   "metadata": {},
   "outputs": [],
   "source": [
    "from keras.layers import Bidirectional\n",
    "\n",
    "# Model definition\n",
    "model = Sequential()\n",
    "model.add(Bidirectional(LSTM(50, input_shape=(sequence_length, n_features))))\n",
    "model.add(Dense(1))"
   ]
  },
  {
   "cell_type": "code",
   "execution_count": 16,
   "id": "eead4c0c",
   "metadata": {
    "scrolled": true
   },
   "outputs": [
    {
     "name": "stdout",
     "output_type": "stream",
     "text": [
      "Epoch 1/50\n",
      "92/92 [==============================] - 2s 11ms/step - loss: 19082100.0000\n",
      "Epoch 2/50\n",
      "92/92 [==============================] - 1s 10ms/step - loss: 19058238.0000\n",
      "Epoch 3/50\n",
      "92/92 [==============================] - 1s 10ms/step - loss: 19036646.0000\n",
      "Epoch 4/50\n",
      "92/92 [==============================] - 1s 10ms/step - loss: 19015380.0000\n",
      "Epoch 5/50\n",
      "92/92 [==============================] - 1s 10ms/step - loss: 18994122.0000\n",
      "Epoch 6/50\n",
      "92/92 [==============================] - 1s 10ms/step - loss: 18972904.0000\n",
      "Epoch 7/50\n",
      "92/92 [==============================] - 1s 10ms/step - loss: 18950596.0000\n",
      "Epoch 8/50\n",
      "92/92 [==============================] - 1s 10ms/step - loss: 18926834.0000\n",
      "Epoch 9/50\n",
      "92/92 [==============================] - 1s 10ms/step - loss: 18904092.0000\n",
      "Epoch 10/50\n",
      "92/92 [==============================] - 1s 10ms/step - loss: 18881682.0000\n",
      "Epoch 11/50\n",
      "92/92 [==============================] - 1s 10ms/step - loss: 18859414.0000\n",
      "Epoch 12/50\n",
      "92/92 [==============================] - 1s 10ms/step - loss: 18837250.0000\n",
      "Epoch 13/50\n",
      "92/92 [==============================] - 1s 10ms/step - loss: 18815170.0000\n",
      "Epoch 14/50\n",
      "92/92 [==============================] - 1s 10ms/step - loss: 18793136.0000\n",
      "Epoch 15/50\n",
      "92/92 [==============================] - 1s 10ms/step - loss: 18771160.0000\n",
      "Epoch 16/50\n",
      "92/92 [==============================] - 1s 10ms/step - loss: 18749232.0000\n",
      "Epoch 17/50\n",
      "92/92 [==============================] - 1s 10ms/step - loss: 18727330.0000\n",
      "Epoch 18/50\n",
      "92/92 [==============================] - 1s 10ms/step - loss: 18705458.0000\n",
      "Epoch 19/50\n",
      "92/92 [==============================] - 1s 10ms/step - loss: 18683622.0000\n",
      "Epoch 20/50\n",
      "92/92 [==============================] - 1s 10ms/step - loss: 18661806.0000\n",
      "Epoch 21/50\n",
      "92/92 [==============================] - 1s 10ms/step - loss: 18640024.0000\n",
      "Epoch 22/50\n",
      "92/92 [==============================] - 1s 10ms/step - loss: 18618260.0000\n",
      "Epoch 23/50\n",
      "92/92 [==============================] - 1s 10ms/step - loss: 18596520.0000\n",
      "Epoch 24/50\n",
      "92/92 [==============================] - 1s 10ms/step - loss: 18574804.0000\n",
      "Epoch 25/50\n",
      "92/92 [==============================] - 1s 10ms/step - loss: 18553118.0000\n",
      "Epoch 26/50\n",
      "92/92 [==============================] - 1s 10ms/step - loss: 18531440.0000\n",
      "Epoch 27/50\n",
      "92/92 [==============================] - 1s 10ms/step - loss: 18509776.0000\n",
      "Epoch 28/50\n",
      "92/92 [==============================] - 1s 10ms/step - loss: 18488140.0000\n",
      "Epoch 29/50\n",
      "92/92 [==============================] - 1s 10ms/step - loss: 18466524.0000\n",
      "Epoch 30/50\n",
      "92/92 [==============================] - 1s 10ms/step - loss: 18444916.0000\n",
      "Epoch 31/50\n",
      "92/92 [==============================] - 1s 10ms/step - loss: 18423336.0000\n",
      "Epoch 32/50\n",
      "92/92 [==============================] - 1s 10ms/step - loss: 18401768.0000\n",
      "Epoch 33/50\n",
      "92/92 [==============================] - 1s 10ms/step - loss: 18380214.0000\n",
      "Epoch 34/50\n",
      "92/92 [==============================] - 1s 10ms/step - loss: 18358682.0000\n",
      "Epoch 35/50\n",
      "92/92 [==============================] - 1s 10ms/step - loss: 18337172.0000\n",
      "Epoch 36/50\n",
      "92/92 [==============================] - 1s 10ms/step - loss: 18315670.0000\n",
      "Epoch 37/50\n",
      "92/92 [==============================] - 1s 10ms/step - loss: 18294188.0000\n",
      "Epoch 38/50\n",
      "92/92 [==============================] - 1s 10ms/step - loss: 18272724.0000\n",
      "Epoch 39/50\n",
      "92/92 [==============================] - 1s 10ms/step - loss: 18251270.0000\n",
      "Epoch 40/50\n",
      "92/92 [==============================] - 1s 10ms/step - loss: 18229828.0000\n",
      "Epoch 41/50\n",
      "92/92 [==============================] - 1s 10ms/step - loss: 18208408.0000\n",
      "Epoch 42/50\n",
      "92/92 [==============================] - 1s 10ms/step - loss: 18187002.0000\n",
      "Epoch 43/50\n",
      "92/92 [==============================] - 1s 10ms/step - loss: 18165610.0000\n",
      "Epoch 44/50\n",
      "92/92 [==============================] - 1s 10ms/step - loss: 18144230.0000\n",
      "Epoch 45/50\n",
      "92/92 [==============================] - 1s 10ms/step - loss: 18122872.0000\n",
      "Epoch 46/50\n",
      "92/92 [==============================] - 1s 10ms/step - loss: 18101512.0000\n",
      "Epoch 47/50\n",
      "92/92 [==============================] - 1s 10ms/step - loss: 18080180.0000\n",
      "Epoch 48/50\n",
      "92/92 [==============================] - 1s 10ms/step - loss: 18058864.0000\n",
      "Epoch 49/50\n",
      "92/92 [==============================] - 1s 10ms/step - loss: 18037562.0000\n",
      "Epoch 50/50\n",
      "92/92 [==============================] - 1s 10ms/step - loss: 18016274.0000\n"
     ]
    },
    {
     "data": {
      "text/plain": [
       "<keras.callbacks.History at 0x16cbddcc0>"
      ]
     },
     "execution_count": 16,
     "metadata": {},
     "output_type": "execute_result"
    }
   ],
   "source": [
    "# Compile the model\n",
    "model.compile(optimizer='adam', loss='mse')\n",
    "\n",
    "# Model training\n",
    "model.fit(train_sequences,train_targets, epochs=50, batch_size=32)"
   ]
  },
  {
   "cell_type": "code",
   "execution_count": 17,
   "id": "3b12750b",
   "metadata": {},
   "outputs": [
    {
     "name": "stdout",
     "output_type": "stream",
     "text": [
      "23/23 [==============================] - 0s 5ms/step\n",
      "MAPE: 97.07856938301383\n",
      "MAE: 4568.2425127289125\n"
     ]
    }
   ],
   "source": [
    "predictions = model.predict(test_sequences)\n",
    "mape = calculate_mape(test_targets, predictions)\n",
    "print(f'MAPE: {mape}')\n",
    "mae = calculate_mae(test_targets, predictions)\n",
    "print(f'MAE: {mae}')"
   ]
  },
  {
   "cell_type": "code",
   "execution_count": 18,
   "id": "f3189952",
   "metadata": {},
   "outputs": [],
   "source": [
    "# Model definition\n",
    "model = Sequential()\n",
    "model.add(LSTM(50, input_shape=(sequence_length, n_features)))\n",
    "model.add(Dense(50))\n",
    "model.add(Dense(50))\n",
    "model.add(Dense(1))  # Output layer with one neuron for regression"
   ]
  },
  {
   "cell_type": "code",
   "execution_count": 19,
   "id": "29e8ee35",
   "metadata": {
    "scrolled": true
   },
   "outputs": [
    {
     "name": "stdout",
     "output_type": "stream",
     "text": [
      "Epoch 1/50\n",
      "92/92 [==============================] - 2s 9ms/step - loss: 18721652.0000\n",
      "Epoch 2/50\n",
      "92/92 [==============================] - 1s 8ms/step - loss: 14529951.0000\n",
      "Epoch 3/50\n",
      "92/92 [==============================] - 1s 8ms/step - loss: 5151812.0000\n",
      "Epoch 4/50\n",
      "92/92 [==============================] - 1s 8ms/step - loss: 1040317.4375\n",
      "Epoch 5/50\n",
      "92/92 [==============================] - 1s 8ms/step - loss: 879761.9375\n",
      "Epoch 6/50\n",
      "92/92 [==============================] - 1s 8ms/step - loss: 879680.4375\n",
      "Epoch 7/50\n",
      "92/92 [==============================] - 1s 8ms/step - loss: 880042.6875\n",
      "Epoch 8/50\n",
      "92/92 [==============================] - 1s 8ms/step - loss: 880436.3750\n",
      "Epoch 9/50\n",
      "92/92 [==============================] - 1s 8ms/step - loss: 880835.4375\n",
      "Epoch 10/50\n",
      "92/92 [==============================] - 1s 8ms/step - loss: 880683.7500\n",
      "Epoch 11/50\n",
      "92/92 [==============================] - 1s 8ms/step - loss: 879692.9375\n",
      "Epoch 12/50\n",
      "92/92 [==============================] - 1s 8ms/step - loss: 881484.6250\n",
      "Epoch 13/50\n",
      "92/92 [==============================] - 1s 8ms/step - loss: 880293.1875\n",
      "Epoch 14/50\n",
      "92/92 [==============================] - 1s 8ms/step - loss: 880169.8125\n",
      "Epoch 15/50\n",
      "92/92 [==============================] - 1s 8ms/step - loss: 880300.5625\n",
      "Epoch 16/50\n",
      "92/92 [==============================] - 1s 8ms/step - loss: 880387.6875\n",
      "Epoch 17/50\n",
      "92/92 [==============================] - 1s 8ms/step - loss: 879910.4375\n",
      "Epoch 18/50\n",
      "92/92 [==============================] - 1s 8ms/step - loss: 884254.5000\n",
      "Epoch 19/50\n",
      "92/92 [==============================] - 1s 8ms/step - loss: 880710.9375\n",
      "Epoch 20/50\n",
      "92/92 [==============================] - 1s 8ms/step - loss: 880225.4375\n",
      "Epoch 21/50\n",
      "92/92 [==============================] - 1s 8ms/step - loss: 880743.4375\n",
      "Epoch 22/50\n",
      "92/92 [==============================] - 1s 8ms/step - loss: 881074.0625\n",
      "Epoch 23/50\n",
      "92/92 [==============================] - 1s 8ms/step - loss: 880735.4375\n",
      "Epoch 24/50\n",
      "92/92 [==============================] - 1s 8ms/step - loss: 880333.4375\n",
      "Epoch 25/50\n",
      "92/92 [==============================] - 1s 8ms/step - loss: 880913.4375\n",
      "Epoch 26/50\n",
      "92/92 [==============================] - 1s 8ms/step - loss: 880812.1250\n",
      "Epoch 27/50\n",
      "92/92 [==============================] - 1s 8ms/step - loss: 880625.0000\n",
      "Epoch 28/50\n",
      "92/92 [==============================] - 1s 8ms/step - loss: 879685.1875\n",
      "Epoch 29/50\n",
      "92/92 [==============================] - 1s 8ms/step - loss: 880615.6250\n",
      "Epoch 30/50\n",
      "92/92 [==============================] - 1s 8ms/step - loss: 880505.6875\n",
      "Epoch 31/50\n",
      "92/92 [==============================] - 1s 8ms/step - loss: 880204.8750\n",
      "Epoch 32/50\n",
      "92/92 [==============================] - 1s 8ms/step - loss: 881185.5625\n",
      "Epoch 33/50\n",
      "92/92 [==============================] - 1s 8ms/step - loss: 881179.1875\n",
      "Epoch 34/50\n",
      "92/92 [==============================] - 1s 8ms/step - loss: 880921.5625\n",
      "Epoch 35/50\n",
      "92/92 [==============================] - 1s 8ms/step - loss: 882929.1250\n",
      "Epoch 36/50\n",
      "92/92 [==============================] - 1s 8ms/step - loss: 880772.8125\n",
      "Epoch 37/50\n",
      "92/92 [==============================] - 1s 8ms/step - loss: 881512.5000\n",
      "Epoch 38/50\n",
      "92/92 [==============================] - 1s 8ms/step - loss: 880084.5000\n",
      "Epoch 39/50\n",
      "92/92 [==============================] - 1s 8ms/step - loss: 885871.6875\n",
      "Epoch 40/50\n",
      "92/92 [==============================] - 1s 8ms/step - loss: 881002.3125\n",
      "Epoch 41/50\n",
      "92/92 [==============================] - 1s 8ms/step - loss: 880889.1875\n",
      "Epoch 42/50\n",
      "92/92 [==============================] - 1s 8ms/step - loss: 879949.8125\n",
      "Epoch 43/50\n",
      "92/92 [==============================] - 1s 8ms/step - loss: 882373.3125\n",
      "Epoch 44/50\n",
      "92/92 [==============================] - 1s 8ms/step - loss: 882486.0625\n",
      "Epoch 45/50\n",
      "92/92 [==============================] - 1s 9ms/step - loss: 882098.7500\n",
      "Epoch 46/50\n",
      "92/92 [==============================] - 1s 9ms/step - loss: 880181.2500\n",
      "Epoch 47/50\n",
      "92/92 [==============================] - 1s 8ms/step - loss: 883650.8750\n",
      "Epoch 48/50\n",
      "92/92 [==============================] - 1s 8ms/step - loss: 880946.6250\n",
      "Epoch 49/50\n",
      "92/92 [==============================] - 1s 8ms/step - loss: 883273.0625\n",
      "Epoch 50/50\n",
      "92/92 [==============================] - 1s 8ms/step - loss: 881808.9375\n"
     ]
    },
    {
     "data": {
      "text/plain": [
       "<keras.callbacks.History at 0x177e0a350>"
      ]
     },
     "execution_count": 19,
     "metadata": {},
     "output_type": "execute_result"
    }
   ],
   "source": [
    "# Compile the model\n",
    "model.compile(optimizer='adam', loss='mse')\n",
    "\n",
    "# Model training\n",
    "model.fit(train_sequences,train_targets, epochs=50, batch_size=32)"
   ]
  },
  {
   "cell_type": "code",
   "execution_count": 20,
   "id": "9005c4e3",
   "metadata": {},
   "outputs": [
    {
     "name": "stdout",
     "output_type": "stream",
     "text": [
      "23/23 [==============================] - 0s 3ms/step\n",
      "MAPE: 18.329551243286776\n",
      "MAE: 918.3336390060832\n"
     ]
    }
   ],
   "source": [
    "predictions = model.predict(test_sequences)\n",
    "mape = calculate_mape(test_targets, predictions)\n",
    "print(f'MAPE: {mape}')\n",
    "mae = calculate_mae(test_targets, predictions)\n",
    "print(f'MAE: {mae}')"
   ]
  },
  {
   "cell_type": "code",
   "execution_count": 21,
   "id": "2ad585a6",
   "metadata": {},
   "outputs": [],
   "source": [
    "# Model definition\n",
    "model = Sequential()\n",
    "model.add(LSTM(50, input_shape=(sequence_length, n_features)))\n",
    "model.add(Dense(50))\n",
    "model.add(Dense(50))\n",
    "model.add(Dense(50))\n",
    "model.add(Dense(50))\n",
    "model.add(Dense(1))  # Output layer with one neuron for regression"
   ]
  },
  {
   "cell_type": "code",
   "execution_count": 22,
   "id": "d1ef61d7",
   "metadata": {
    "scrolled": true
   },
   "outputs": [
    {
     "name": "stdout",
     "output_type": "stream",
     "text": [
      "Epoch 1/50\n",
      "92/92 [==============================] - 2s 10ms/step - loss: 12914373.0000\n",
      "Epoch 2/50\n",
      "92/92 [==============================] - 1s 9ms/step - loss: 906559.8125\n",
      "Epoch 3/50\n",
      "92/92 [==============================] - 1s 9ms/step - loss: 885048.3750\n",
      "Epoch 4/50\n",
      "92/92 [==============================] - 1s 9ms/step - loss: 883267.5625\n",
      "Epoch 5/50\n",
      "92/92 [==============================] - 1s 9ms/step - loss: 885292.8125\n",
      "Epoch 6/50\n",
      "92/92 [==============================] - 1s 9ms/step - loss: 889906.3125\n",
      "Epoch 7/50\n",
      "92/92 [==============================] - 1s 9ms/step - loss: 887736.0000\n",
      "Epoch 8/50\n",
      "92/92 [==============================] - 1s 9ms/step - loss: 883518.2500\n",
      "Epoch 9/50\n",
      "92/92 [==============================] - 1s 9ms/step - loss: 883330.5000\n",
      "Epoch 10/50\n",
      "92/92 [==============================] - 1s 9ms/step - loss: 885864.4375\n",
      "Epoch 11/50\n",
      "92/92 [==============================] - 1s 9ms/step - loss: 886161.5625\n",
      "Epoch 12/50\n",
      "92/92 [==============================] - 1s 12ms/step - loss: 887959.5000\n",
      "Epoch 13/50\n",
      "92/92 [==============================] - 1s 10ms/step - loss: 895496.6250\n",
      "Epoch 14/50\n",
      "92/92 [==============================] - 1s 10ms/step - loss: 883359.4375\n",
      "Epoch 15/50\n",
      "92/92 [==============================] - 1s 10ms/step - loss: 885770.3125\n",
      "Epoch 16/50\n",
      "92/92 [==============================] - 1s 10ms/step - loss: 894825.4375\n",
      "Epoch 17/50\n",
      "92/92 [==============================] - 1s 10ms/step - loss: 893876.4375\n",
      "Epoch 18/50\n",
      "92/92 [==============================] - 1s 9ms/step - loss: 891442.5625\n",
      "Epoch 19/50\n",
      "92/92 [==============================] - 1s 8ms/step - loss: 886300.9375\n",
      "Epoch 20/50\n",
      "92/92 [==============================] - 1s 9ms/step - loss: 887055.0000\n",
      "Epoch 21/50\n",
      "92/92 [==============================] - 1s 9ms/step - loss: 892104.5000\n",
      "Epoch 22/50\n",
      "92/92 [==============================] - 1s 9ms/step - loss: 890104.1250\n",
      "Epoch 23/50\n",
      "92/92 [==============================] - 1s 9ms/step - loss: 885043.6250\n",
      "Epoch 24/50\n",
      "92/92 [==============================] - 1s 9ms/step - loss: 892828.3125\n",
      "Epoch 25/50\n",
      "92/92 [==============================] - 1s 9ms/step - loss: 886268.8750\n",
      "Epoch 26/50\n",
      "92/92 [==============================] - 1s 9ms/step - loss: 892678.5625\n",
      "Epoch 27/50\n",
      "92/92 [==============================] - 1s 8ms/step - loss: 895714.3750\n",
      "Epoch 28/50\n",
      "92/92 [==============================] - 1s 9ms/step - loss: 897189.6875\n",
      "Epoch 29/50\n",
      "92/92 [==============================] - 1s 9ms/step - loss: 894188.7500\n",
      "Epoch 30/50\n",
      "92/92 [==============================] - 1s 11ms/step - loss: 890251.1875\n",
      "Epoch 31/50\n",
      "92/92 [==============================] - 1s 8ms/step - loss: 892702.7500\n",
      "Epoch 32/50\n",
      "92/92 [==============================] - 1s 8ms/step - loss: 886839.3750\n",
      "Epoch 33/50\n",
      "92/92 [==============================] - 1s 8ms/step - loss: 888806.6250\n",
      "Epoch 34/50\n",
      "92/92 [==============================] - 1s 8ms/step - loss: 888637.8750\n",
      "Epoch 35/50\n",
      "92/92 [==============================] - 1s 8ms/step - loss: 884635.0000\n",
      "Epoch 36/50\n",
      "92/92 [==============================] - 1s 8ms/step - loss: 888092.2500\n",
      "Epoch 37/50\n",
      "92/92 [==============================] - 1s 8ms/step - loss: 892379.0625\n",
      "Epoch 38/50\n",
      "92/92 [==============================] - 1s 8ms/step - loss: 890432.0625\n",
      "Epoch 39/50\n",
      "92/92 [==============================] - 1s 9ms/step - loss: 886615.8750\n",
      "Epoch 40/50\n",
      "92/92 [==============================] - 1s 9ms/step - loss: 884279.8750\n",
      "Epoch 41/50\n",
      "92/92 [==============================] - 1s 9ms/step - loss: 888936.6250\n",
      "Epoch 42/50\n",
      "92/92 [==============================] - 1s 10ms/step - loss: 887071.1250\n",
      "Epoch 43/50\n",
      "92/92 [==============================] - 1s 9ms/step - loss: 892612.5625\n",
      "Epoch 44/50\n",
      "92/92 [==============================] - 1s 9ms/step - loss: 884808.8750\n",
      "Epoch 45/50\n",
      "92/92 [==============================] - 1s 9ms/step - loss: 892033.8125\n",
      "Epoch 46/50\n",
      "92/92 [==============================] - 1s 9ms/step - loss: 888452.3125\n",
      "Epoch 47/50\n",
      "92/92 [==============================] - 1s 9ms/step - loss: 890299.2500\n",
      "Epoch 48/50\n",
      "92/92 [==============================] - 1s 9ms/step - loss: 893428.0000\n",
      "Epoch 49/50\n",
      "92/92 [==============================] - 1s 9ms/step - loss: 885099.3750\n",
      "Epoch 50/50\n",
      "92/92 [==============================] - 1s 10ms/step - loss: 886888.5000\n"
     ]
    },
    {
     "data": {
      "text/plain": [
       "<keras.callbacks.History at 0x1684c7370>"
      ]
     },
     "execution_count": 22,
     "metadata": {},
     "output_type": "execute_result"
    }
   ],
   "source": [
    "# Compile the model\n",
    "model.compile(optimizer='adam', loss='mse')\n",
    "\n",
    "# Model training\n",
    "model.fit(train_sequences,train_targets, epochs=50, batch_size=32)"
   ]
  },
  {
   "cell_type": "code",
   "execution_count": 23,
   "id": "899066a9",
   "metadata": {},
   "outputs": [
    {
     "name": "stdout",
     "output_type": "stream",
     "text": [
      "23/23 [==============================] - 0s 4ms/step\n",
      "MAPE: 18.365646233595328\n",
      "MAE: 913.0917458034896\n"
     ]
    }
   ],
   "source": [
    "predictions = model.predict(test_sequences)\n",
    "mape = calculate_mape(test_targets, predictions)\n",
    "print(f'MAPE: {mape}')\n",
    "mae = calculate_mae(test_targets, predictions)\n",
    "print(f'MAE: {mae}')"
   ]
  },
  {
   "cell_type": "code",
   "execution_count": null,
   "id": "d0cffe15",
   "metadata": {},
   "outputs": [],
   "source": []
  }
 ],
 "metadata": {
  "kernelspec": {
   "display_name": "Python 3.10 (tensorflow)",
   "language": "python",
   "name": "tensorflow"
  },
  "language_info": {
   "codemirror_mode": {
    "name": "ipython",
    "version": 3
   },
   "file_extension": ".py",
   "mimetype": "text/x-python",
   "name": "python",
   "nbconvert_exporter": "python",
   "pygments_lexer": "ipython3",
   "version": "3.10.11"
  }
 },
 "nbformat": 4,
 "nbformat_minor": 5
}
