{
 "cells": [
  {
   "cell_type": "code",
   "execution_count": 1,
   "id": "1d3f9859",
   "metadata": {},
   "outputs": [],
   "source": [
    "import pandas as pd\n",
    "import numpy as np\n",
    "import matplotlib.pyplot as plt\n",
    "from functools import partial\n",
    "from sklearn.linear_model import Ridge\n",
    "from sklearn.model_selection import cross_val_score\n",
    "from sklearn.model_selection import train_test_split\n",
    "from sklearn.metrics import r2_score\n",
    "from sklearn.metrics import mean_absolute_percentage_error as MAPE"
   ]
  },
  {
   "cell_type": "code",
   "execution_count": 2,
   "id": "d6483ffa",
   "metadata": {},
   "outputs": [],
   "source": [
    "df = pd.read_csv(\"../../../../main/sub_data/single_variant/mean/train/train_mean.csv\",index_col=\"Date\",parse_dates=True)\n",
    "df_test = pd.read_csv(\"../../../../main/sub_data/single_variant/mean/test/test_mean.csv\",index_col=\"Date\",parse_dates=True)"
   ]
  },
  {
   "cell_type": "markdown",
   "id": "e43732db",
   "metadata": {},
   "source": [
    "## Transforming Data\n",
    "    \n",
    "    The Steps adopted for Transformation are\n",
    "<ul>\n",
    "    <li>Rolling Window</li>\n",
    "    <li>Outliers Replacement</li>\n",
    "</ul>"
   ]
  },
  {
   "cell_type": "code",
   "execution_count": 3,
   "id": "29bcdfa8",
   "metadata": {},
   "outputs": [],
   "source": [
    "# We use Aggregate method (for this, we need a function)\n",
    "def percent_change(series):\n",
    "    prev = series[:-1]\n",
    "    last = series[-1:]\n",
    "    change = (last-np.sum(prev))/np.sum(prev)\n",
    "    return change\n",
    "\n",
    "def replace_outliers(series):\n",
    "    mean_diff = np.abs(series - np.mean(series))\n",
    "    # Criteria for detecting outliers\n",
    "    this_mask = mean_diff > (np.std(series) * 3)\n",
    "    # replace it with median\n",
    "    series[this_mask] = np.nanmedian(series)\n",
    "    return series"
   ]
  },
  {
   "cell_type": "markdown",
   "id": "79788820",
   "metadata": {},
   "source": [
    "## Creation of Rolling with \n",
    "<ul>\n",
    "<li> 7 days </li>\n",
    "<li> 30 days </li>\n",
    "</ul>"
   ]
  },
  {
   "cell_type": "code",
   "execution_count": 4,
   "id": "65634eef",
   "metadata": {},
   "outputs": [],
   "source": [
    "'''\n",
    "    Rolling : A rolling window of every size (n) is applied to every column\n",
    "    After applying an n size NaN Values will be available\n",
    "    \n",
    "'''\n",
    "df_per_ch_7  =  df.rolling(10).aggregate(percent_change).dropna()"
   ]
  },
  {
   "cell_type": "code",
   "execution_count": 5,
   "id": "8e43e263",
   "metadata": {},
   "outputs": [],
   "source": [
    "df_per_ch_7['day_of_week'] = df_per_ch_7.index.day_of_week\n",
    "df_per_ch_7['month_of_year'] = df_per_ch_7.index.month"
   ]
  },
  {
   "cell_type": "markdown",
   "id": "242aced7",
   "metadata": {},
   "source": [
    "## Full Analysis of 7 days"
   ]
  },
  {
   "cell_type": "code",
   "execution_count": 6,
   "id": "c0586134",
   "metadata": {},
   "outputs": [
    {
     "data": {
      "text/html": [
       "<div>\n",
       "<style scoped>\n",
       "    .dataframe tbody tr th:only-of-type {\n",
       "        vertical-align: middle;\n",
       "    }\n",
       "\n",
       "    .dataframe tbody tr th {\n",
       "        vertical-align: top;\n",
       "    }\n",
       "\n",
       "    .dataframe thead th {\n",
       "        text-align: right;\n",
       "    }\n",
       "</style>\n",
       "<table border=\"1\" class=\"dataframe\">\n",
       "  <thead>\n",
       "    <tr style=\"text-align: right;\">\n",
       "      <th></th>\n",
       "      <th>Max.Demand met during the day (MW)</th>\n",
       "      <th>day_of_week</th>\n",
       "      <th>month_of_year</th>\n",
       "    </tr>\n",
       "    <tr>\n",
       "      <th>Date</th>\n",
       "      <th></th>\n",
       "      <th></th>\n",
       "      <th></th>\n",
       "    </tr>\n",
       "  </thead>\n",
       "  <tbody>\n",
       "    <tr>\n",
       "      <th>2013-04-10</th>\n",
       "      <td>-0.879993</td>\n",
       "      <td>2</td>\n",
       "      <td>4</td>\n",
       "    </tr>\n",
       "    <tr>\n",
       "      <th>2013-04-11</th>\n",
       "      <td>-0.875218</td>\n",
       "      <td>3</td>\n",
       "      <td>4</td>\n",
       "    </tr>\n",
       "    <tr>\n",
       "      <th>2013-04-12</th>\n",
       "      <td>-0.878073</td>\n",
       "      <td>4</td>\n",
       "      <td>4</td>\n",
       "    </tr>\n",
       "    <tr>\n",
       "      <th>2013-04-13</th>\n",
       "      <td>-0.879480</td>\n",
       "      <td>5</td>\n",
       "      <td>4</td>\n",
       "    </tr>\n",
       "    <tr>\n",
       "      <th>2013-04-14</th>\n",
       "      <td>-0.893184</td>\n",
       "      <td>6</td>\n",
       "      <td>4</td>\n",
       "    </tr>\n",
       "    <tr>\n",
       "      <th>...</th>\n",
       "      <td>...</td>\n",
       "      <td>...</td>\n",
       "      <td>...</td>\n",
       "    </tr>\n",
       "    <tr>\n",
       "      <th>2023-04-26</th>\n",
       "      <td>-0.893719</td>\n",
       "      <td>2</td>\n",
       "      <td>4</td>\n",
       "    </tr>\n",
       "    <tr>\n",
       "      <th>2023-04-27</th>\n",
       "      <td>-0.887743</td>\n",
       "      <td>3</td>\n",
       "      <td>4</td>\n",
       "    </tr>\n",
       "    <tr>\n",
       "      <th>2023-04-28</th>\n",
       "      <td>-0.891511</td>\n",
       "      <td>4</td>\n",
       "      <td>4</td>\n",
       "    </tr>\n",
       "    <tr>\n",
       "      <th>2023-04-29</th>\n",
       "      <td>-0.897968</td>\n",
       "      <td>5</td>\n",
       "      <td>4</td>\n",
       "    </tr>\n",
       "    <tr>\n",
       "      <th>2023-04-30</th>\n",
       "      <td>-0.902026</td>\n",
       "      <td>6</td>\n",
       "      <td>4</td>\n",
       "    </tr>\n",
       "  </tbody>\n",
       "</table>\n",
       "<p>3673 rows × 3 columns</p>\n",
       "</div>"
      ],
      "text/plain": [
       "            Max.Demand met during the day (MW)  day_of_week  month_of_year\n",
       "Date                                                                      \n",
       "2013-04-10                           -0.879993            2              4\n",
       "2013-04-11                           -0.875218            3              4\n",
       "2013-04-12                           -0.878073            4              4\n",
       "2013-04-13                           -0.879480            5              4\n",
       "2013-04-14                           -0.893184            6              4\n",
       "...                                        ...          ...            ...\n",
       "2023-04-26                           -0.893719            2              4\n",
       "2023-04-27                           -0.887743            3              4\n",
       "2023-04-28                           -0.891511            4              4\n",
       "2023-04-29                           -0.897968            5              4\n",
       "2023-04-30                           -0.902026            6              4\n",
       "\n",
       "[3673 rows x 3 columns]"
      ]
     },
     "execution_count": 6,
     "metadata": {},
     "output_type": "execute_result"
    }
   ],
   "source": [
    "df_per_ch_7"
   ]
  },
  {
   "cell_type": "code",
   "execution_count": 7,
   "id": "0b386374",
   "metadata": {},
   "outputs": [],
   "source": [
    "day_shifts = np.arange(1, 8).astype(int)\n",
    "shifted_data = {i : df_per_ch_7[\"Max.Demand met during the day (MW)\"].shift(i) for i in day_shifts}\n",
    "shifted_data = pd.DataFrame(shifted_data)"
   ]
  },
  {
   "cell_type": "code",
   "execution_count": 8,
   "id": "82a9e981",
   "metadata": {},
   "outputs": [
    {
     "data": {
      "image/png": "[encoded data removed]",
      "text/plain": [
       "<Figure size 640x480 with 1 Axes>"
      ]
     },
     "metadata": {},
     "output_type": "display_data"
    }
   ],
   "source": [
    "# Visualize it\n",
    "ax = shifted_data.plot(cmap=plt.cm.viridis)\n",
    "df_per_ch_7[\"Max.Demand met during the day (MW)\"].plot(color='r', lw=2,ax=ax)\n",
    "ax.legend(loc='best')\n",
    "plt.show()"
   ]
  },
  {
   "cell_type": "markdown",
   "id": "007221c3",
   "metadata": {},
   "source": [
    "## Using Testing Data to calculate the MAPE scores"
   ]
  },
  {
   "cell_type": "code",
   "execution_count": 9,
   "id": "cc577383",
   "metadata": {},
   "outputs": [],
   "source": [
    "df_test_roll  =  df_test.rolling(10).aggregate(percent_change).dropna()\n",
    "day_shifts = np.arange(1, 8).astype(int)\n",
    "shifted_test_1 = {i : df_test_roll[\"Max.Demand met during the day (MW)\"].shift(i) for i in day_shifts}\n",
    "shifted_test_1 = pd.DataFrame(shifted_test_1)"
   ]
  },
  {
   "cell_type": "code",
   "execution_count": 10,
   "id": "a4985166",
   "metadata": {},
   "outputs": [],
   "source": [
    "X_train = shifted_data.dropna()\n",
    "y_train = df.loc['2013-04-17':]\n",
    "X_test = shifted_test_1.dropna()\n",
    "y_test = df_test.loc['2023-05-17':]"
   ]
  },
  {
   "cell_type": "code",
   "execution_count": 11,
   "id": "ae998ea5",
   "metadata": {},
   "outputs": [
    {
     "data": {
      "text/plain": [
       "0.1729710028754648"
      ]
     },
     "execution_count": 11,
     "metadata": {},
     "output_type": "execute_result"
    }
   ],
   "source": [
    "# Fit the Ridge model\n",
    "model = Ridge()\n",
    "model.fit(X_train, y_train)\n",
    "y_pred = model.predict(X_test)\n",
    "MAPE(y_test,y_pred)"
   ]
  },
  {
   "cell_type": "code",
   "execution_count": 12,
   "id": "8e4b12fd",
   "metadata": {},
   "outputs": [
    {
     "data": {
      "text/plain": [
       "0.15258425332515194"
      ]
     },
     "execution_count": 12,
     "metadata": {},
     "output_type": "execute_result"
    }
   ],
   "source": [
    "from sklearn.linear_model import Lasso\n",
    "lasso = Lasso(alpha=0.1)\n",
    "lasso.fit(X_train, y_train)\n",
    "y_pred = lasso.predict(X_test)\n",
    "MAPE(y_test,y_pred)"
   ]
  },
  {
   "cell_type": "code",
   "execution_count": 13,
   "id": "5bce4840",
   "metadata": {},
   "outputs": [
    {
     "name": "stderr",
     "output_type": "stream",
     "text": [
      "/Users/sujaykumar/miniconda3/lib/python3.10/site-packages/sklearn/ensemble/_gb.py:437: DataConversionWarning: A column-vector y was passed when a 1d array was expected. Please change the shape of y to (n_samples, ), for example using ravel().\n",
      "  y = column_or_1d(y, warn=True)\n"
     ]
    },
    {
     "data": {
      "text/plain": [
       "0.145190861823067"
      ]
     },
     "execution_count": 13,
     "metadata": {},
     "output_type": "execute_result"
    }
   ],
   "source": [
    "from sklearn.ensemble import GradientBoostingRegressor\n",
    "gbm = GradientBoostingRegressor()\n",
    "gbm.fit(X_train, y_train)\n",
    "y_pred = gbm.predict(X_test)\n",
    "MAPE(y_pred,y_test)"
   ]
  },
  {
   "cell_type": "code",
   "execution_count": 14,
   "id": "3fba9008",
   "metadata": {},
   "outputs": [
    {
     "name": "stderr",
     "output_type": "stream",
     "text": [
      "/Users/sujaykumar/miniconda3/lib/python3.10/site-packages/sklearn/utils/validation.py:1143: DataConversionWarning: A column-vector y was passed when a 1d array was expected. Please change the shape of y to (n_samples, ), for example using ravel().\n",
      "  y = column_or_1d(y, warn=True)\n"
     ]
    },
    {
     "data": {
      "text/plain": [
       "0.20132414515448885"
      ]
     },
     "execution_count": 14,
     "metadata": {},
     "output_type": "execute_result"
    }
   ],
   "source": [
    "from sklearn.svm import SVR\n",
    "from sklearn.preprocessing import StandardScaler\n",
    "scaler = StandardScaler()\n",
    "X_train_scaled = scaler.fit_transform(X_train)\n",
    "X_test_scaled = scaler.transform(X_test)\n",
    "svr = SVR()\n",
    "svr.fit(X_train_scaled, y_train)\n",
    "y_pred = svr.predict(X_test_scaled)\n",
    "MAPE(y_test,y_pred)"
   ]
  },
  {
   "cell_type": "markdown",
   "id": "082c3b23",
   "metadata": {},
   "source": [
    "## Including Date Features"
   ]
  },
  {
   "cell_type": "code",
   "execution_count": 15,
   "id": "be08d3f7",
   "metadata": {},
   "outputs": [],
   "source": [
    "shifted_data['day_of_week'] = shifted_data.index.day_of_week\n",
    "shifted_data['month_of_year'] = shifted_data.index.month\n",
    "# For test Extraction\n",
    "shifted_test_1['day_of_week'] = shifted_test_1.index.day_of_week\n",
    "shifted_test_1['month_of_year'] = shifted_test_1.index.month"
   ]
  },
  {
   "cell_type": "code",
   "execution_count": 16,
   "id": "d4542303",
   "metadata": {},
   "outputs": [],
   "source": [
    "X_train = shifted_data.dropna()\n",
    "y_train = df.loc['2013-04-17':]\n",
    "X_test = shifted_test_1.dropna()\n",
    "y_test = df_test.loc['2023-05-17':]"
   ]
  },
  {
   "cell_type": "code",
   "execution_count": 17,
   "id": "7f9d5a38",
   "metadata": {},
   "outputs": [],
   "source": [
    "X_train.columns = X_train.columns.astype(str)\n",
    "X_test.columns = X_train.columns.astype(str)"
   ]
  },
  {
   "cell_type": "code",
   "execution_count": 18,
   "id": "0d5effad",
   "metadata": {},
   "outputs": [
    {
     "data": {
      "text/plain": [
       "0.1737592343553073"
      ]
     },
     "execution_count": 18,
     "metadata": {},
     "output_type": "execute_result"
    }
   ],
   "source": [
    "# Fit the Ridge model\n",
    "model = Ridge()\n",
    "model.fit(X_train, y_train)\n",
    "y_pred = model.predict(X_test)\n",
    "MAPE(y_test,y_pred)"
   ]
  },
  {
   "cell_type": "code",
   "execution_count": 19,
   "id": "fc19b1a7",
   "metadata": {},
   "outputs": [
    {
     "data": {
      "text/plain": [
       "0.15426160386303556"
      ]
     },
     "execution_count": 19,
     "metadata": {},
     "output_type": "execute_result"
    }
   ],
   "source": [
    "from sklearn.linear_model import Lasso\n",
    "lasso = Lasso(alpha=0.1)\n",
    "lasso.fit(X_train, y_train)\n",
    "y_pred = lasso.predict(X_test)\n",
    "MAPE(y_test,y_pred)"
   ]
  },
  {
   "cell_type": "code",
   "execution_count": 20,
   "id": "890170ff",
   "metadata": {},
   "outputs": [
    {
     "name": "stderr",
     "output_type": "stream",
     "text": [
      "/Users/sujaykumar/miniconda3/lib/python3.10/site-packages/sklearn/ensemble/_gb.py:437: DataConversionWarning: A column-vector y was passed when a 1d array was expected. Please change the shape of y to (n_samples, ), for example using ravel().\n",
      "  y = column_or_1d(y, warn=True)\n"
     ]
    },
    {
     "data": {
      "text/plain": [
       "0.13136514243741776"
      ]
     },
     "execution_count": 20,
     "metadata": {},
     "output_type": "execute_result"
    }
   ],
   "source": [
    "from sklearn.ensemble import GradientBoostingRegressor\n",
    "gbm = GradientBoostingRegressor()\n",
    "gbm.fit(X_train, y_train)\n",
    "y_pred = gbm.predict(X_test)\n",
    "MAPE(y_pred,y_test)"
   ]
  },
  {
   "cell_type": "code",
   "execution_count": 21,
   "id": "35721722",
   "metadata": {},
   "outputs": [
    {
     "name": "stderr",
     "output_type": "stream",
     "text": [
      "/Users/sujaykumar/miniconda3/lib/python3.10/site-packages/sklearn/utils/validation.py:1143: DataConversionWarning: A column-vector y was passed when a 1d array was expected. Please change the shape of y to (n_samples, ), for example using ravel().\n",
      "  y = column_or_1d(y, warn=True)\n"
     ]
    },
    {
     "data": {
      "text/plain": [
       "0.2090074086318007"
      ]
     },
     "execution_count": 21,
     "metadata": {},
     "output_type": "execute_result"
    }
   ],
   "source": [
    "from sklearn.svm import SVR\n",
    "from sklearn.preprocessing import StandardScaler\n",
    "scaler = StandardScaler()\n",
    "X_train_scaled = scaler.fit_transform(X_train)\n",
    "X_test_scaled = scaler.transform(X_test)\n",
    "svr = SVR()\n",
    "svr.fit(X_train_scaled, y_train)\n",
    "y_pred = svr.predict(X_test_scaled)\n",
    "MAPE(y_test,y_pred)"
   ]
  },
  {
   "cell_type": "markdown",
   "id": "e4372f95",
   "metadata": {},
   "source": [
    "## Without Transformation"
   ]
  },
  {
   "cell_type": "code",
   "execution_count": 22,
   "id": "28366e6a",
   "metadata": {},
   "outputs": [],
   "source": [
    "day_shifts = np.arange(1, 8).astype(int)\n",
    "shifted_data_no = {i : df[\"Max.Demand met during the day (MW)\"].shift(i) for i in day_shifts}\n",
    "shifted_data_no = pd.DataFrame(shifted_data_no)"
   ]
  },
  {
   "cell_type": "code",
   "execution_count": 23,
   "id": "8fd1cfd6",
   "metadata": {},
   "outputs": [
    {
     "data": {
      "image/png": "[encoded data removed]",
      "text/plain": [
       "<Figure size 640x480 with 1 Axes>"
      ]
     },
     "metadata": {},
     "output_type": "display_data"
    }
   ],
   "source": [
    "# Visualize it\n",
    "ax = shifted_data_no.plot(cmap=plt.cm.viridis)\n",
    "df[\"Max.Demand met during the day (MW)\"].plot(color='r', lw=2,ax=ax)\n",
    "ax.legend(loc='best')\n",
    "plt.show()"
   ]
  },
  {
   "cell_type": "code",
   "execution_count": 24,
   "id": "f2e7e36a",
   "metadata": {},
   "outputs": [],
   "source": [
    "day_shifts = np.arange(1, 8).astype(int)\n",
    "shifted_test_2 = {i : df_test[\"Max.Demand met during the day (MW)\"].shift(i) for i in day_shifts}\n",
    "shifted_test_2 = pd.DataFrame(shifted_test_2)"
   ]
  },
  {
   "cell_type": "code",
   "execution_count": 25,
   "id": "032713de",
   "metadata": {},
   "outputs": [],
   "source": [
    "X_train_no = shifted_data_no.dropna()\n",
    "y_train_no = df.loc['2013-04-08':]\n",
    "X_test_no = shifted_test_2.dropna()\n",
    "y_test_no = df_test.loc['2023-05-08':]"
   ]
  },
  {
   "cell_type": "code",
   "execution_count": 26,
   "id": "ccf90e87",
   "metadata": {},
   "outputs": [
    {
     "data": {
      "text/plain": [
       "0.06525856099223898"
      ]
     },
     "execution_count": 26,
     "metadata": {},
     "output_type": "execute_result"
    }
   ],
   "source": [
    "# Fit the Ridge model\n",
    "model = Ridge()\n",
    "model.fit(X_train_no, y_train_no)\n",
    "y_pred = model.predict(X_test_no)\n",
    "MAPE(y_test_no,y_pred)"
   ]
  },
  {
   "cell_type": "code",
   "execution_count": 27,
   "id": "1e011730",
   "metadata": {},
   "outputs": [
    {
     "data": {
      "text/plain": [
       "0.06525853673110749"
      ]
     },
     "execution_count": 27,
     "metadata": {},
     "output_type": "execute_result"
    }
   ],
   "source": [
    "from sklearn.linear_model import Lasso\n",
    "lasso = Lasso(alpha=0.1)\n",
    "lasso.fit(X_train_no, y_train_no)\n",
    "y_pred = lasso.predict(X_test_no)\n",
    "MAPE(y_test_no,y_pred)"
   ]
  },
  {
   "cell_type": "code",
   "execution_count": 28,
   "id": "62b692d5",
   "metadata": {},
   "outputs": [
    {
     "name": "stderr",
     "output_type": "stream",
     "text": [
      "/Users/sujaykumar/miniconda3/lib/python3.10/site-packages/sklearn/ensemble/_gb.py:437: DataConversionWarning: A column-vector y was passed when a 1d array was expected. Please change the shape of y to (n_samples, ), for example using ravel().\n",
      "  y = column_or_1d(y, warn=True)\n"
     ]
    },
    {
     "data": {
      "text/plain": [
       "0.06325339359336778"
      ]
     },
     "execution_count": 28,
     "metadata": {},
     "output_type": "execute_result"
    }
   ],
   "source": [
    "from sklearn.ensemble import GradientBoostingRegressor\n",
    "gbm = GradientBoostingRegressor()\n",
    "gbm.fit(X_train_no, y_train_no)\n",
    "y_pred = gbm.predict(X_test_no)\n",
    "MAPE(y_pred,y_test_no)"
   ]
  },
  {
   "cell_type": "code",
   "execution_count": 29,
   "id": "7fed15b2",
   "metadata": {},
   "outputs": [
    {
     "name": "stderr",
     "output_type": "stream",
     "text": [
      "/Users/sujaykumar/miniconda3/lib/python3.10/site-packages/sklearn/utils/validation.py:1143: DataConversionWarning: A column-vector y was passed when a 1d array was expected. Please change the shape of y to (n_samples, ), for example using ravel().\n",
      "  y = column_or_1d(y, warn=True)\n"
     ]
    },
    {
     "data": {
      "text/plain": [
       "0.12017450300521472"
      ]
     },
     "execution_count": 29,
     "metadata": {},
     "output_type": "execute_result"
    }
   ],
   "source": [
    "from sklearn.svm import SVR\n",
    "from sklearn.preprocessing import StandardScaler\n",
    "scaler = StandardScaler()\n",
    "X_train_scaled = scaler.fit_transform(X_train_no)\n",
    "X_test_scaled = scaler.transform(X_test_no)\n",
    "svr = SVR()\n",
    "svr.fit(X_train_scaled, y_train_no)\n",
    "y_pred = svr.predict(X_test_scaled)\n",
    "MAPE(y_test_no,y_pred)"
   ]
  },
  {
   "cell_type": "markdown",
   "id": "ffb8bd92",
   "metadata": {},
   "source": [
    "## Including Date Features"
   ]
  },
  {
   "cell_type": "code",
   "execution_count": 30,
   "id": "a0dd6fbe",
   "metadata": {},
   "outputs": [],
   "source": [
    "shifted_data_no['day_of_week'] = shifted_data_no.index.day_of_week\n",
    "shifted_data_no['month_of_year'] = shifted_data_no.index.month\n",
    "# For test Extraction\n",
    "shifted_test_2['day_of_week'] = shifted_test_2.index.day_of_week\n",
    "shifted_test_2['month_of_year'] = shifted_test_2.index.month"
   ]
  },
  {
   "cell_type": "code",
   "execution_count": 31,
   "id": "4b72b6a3",
   "metadata": {},
   "outputs": [],
   "source": [
    "X_train_no = shifted_data_no.dropna()\n",
    "y_train_no = df.loc['2013-04-08':]\n",
    "X_test_no = shifted_test_2.dropna()\n",
    "y_test_no = df_test.loc['2023-05-08':]"
   ]
  },
  {
   "cell_type": "code",
   "execution_count": 32,
   "id": "a63339d1",
   "metadata": {},
   "outputs": [],
   "source": [
    "X_train_no.columns = X_train_no.columns.astype(str)\n",
    "X_test_no.columns = X_train_no.columns.astype(str)"
   ]
  },
  {
   "cell_type": "code",
   "execution_count": 33,
   "id": "7ba0cc0b",
   "metadata": {},
   "outputs": [
    {
     "data": {
      "text/plain": [
       "0.06383370913894597"
      ]
     },
     "execution_count": 33,
     "metadata": {},
     "output_type": "execute_result"
    }
   ],
   "source": [
    "# Fit the Ridge model\n",
    "model = Ridge()\n",
    "model.fit(X_train_no, y_train_no)\n",
    "y_pred = model.predict(X_test_no)\n",
    "MAPE(y_test_no,y_pred)"
   ]
  },
  {
   "cell_type": "code",
   "execution_count": 34,
   "id": "8302961d",
   "metadata": {},
   "outputs": [
    {
     "data": {
      "text/plain": [
       "0.06383505239459494"
      ]
     },
     "execution_count": 34,
     "metadata": {},
     "output_type": "execute_result"
    }
   ],
   "source": [
    "from sklearn.linear_model import Lasso\n",
    "lasso = Lasso(alpha=0.1)\n",
    "lasso.fit(X_train_no, y_train_no)\n",
    "y_pred = lasso.predict(X_test_no)\n",
    "MAPE(y_test_no,y_pred)"
   ]
  },
  {
   "cell_type": "code",
   "execution_count": 42,
   "id": "a5763ebe",
   "metadata": {},
   "outputs": [
    {
     "name": "stderr",
     "output_type": "stream",
     "text": [
      "/Users/sujaykumar/miniconda3/lib/python3.10/site-packages/sklearn/ensemble/_gb.py:437: DataConversionWarning: A column-vector y was passed when a 1d array was expected. Please change the shape of y to (n_samples, ), for example using ravel().\n",
      "  y = column_or_1d(y, warn=True)\n"
     ]
    },
    {
     "data": {
      "text/plain": [
       "0.05917886527934293"
      ]
     },
     "execution_count": 42,
     "metadata": {},
     "output_type": "execute_result"
    }
   ],
   "source": [
    "from sklearn.ensemble import GradientBoostingRegressor\n",
    "gbm = GradientBoostingRegressor(random_state=93)\n",
    "gbm.fit(X_train_no, y_train_no)\n",
    "y_pred = gbm.predict(X_test_no)\n",
    "MAPE(y_pred,y_test_no)"
   ]
  },
  {
   "cell_type": "code",
   "execution_count": 36,
   "id": "a7ff3724",
   "metadata": {},
   "outputs": [
    {
     "name": "stderr",
     "output_type": "stream",
     "text": [
      "/Users/sujaykumar/miniconda3/lib/python3.10/site-packages/sklearn/utils/validation.py:1143: DataConversionWarning: A column-vector y was passed when a 1d array was expected. Please change the shape of y to (n_samples, ), for example using ravel().\n",
      "  y = column_or_1d(y, warn=True)\n"
     ]
    },
    {
     "data": {
      "text/plain": [
       "0.1346141031475662"
      ]
     },
     "execution_count": 36,
     "metadata": {},
     "output_type": "execute_result"
    }
   ],
   "source": [
    "from sklearn.svm import SVR\n",
    "from sklearn.preprocessing import StandardScaler\n",
    "scaler = StandardScaler()\n",
    "X_train_scaled = scaler.fit_transform(X_train_no)\n",
    "X_test_scaled = scaler.transform(X_test_no)\n",
    "svr = SVR()\n",
    "svr.fit(X_train_scaled, y_train_no)\n",
    "y_pred = svr.predict(X_test_scaled)\n",
    "MAPE(y_test_no,y_pred)"
   ]
  },
  {
   "cell_type": "markdown",
   "id": "80f086c3",
   "metadata": {},
   "source": [
    "## Testing the Validation set"
   ]
  },
  {
   "cell_type": "code",
   "execution_count": 157,
   "id": "7b13e9de",
   "metadata": {},
   "outputs": [
    {
     "data": {
      "text/plain": [
       "0.040274843593048185"
      ]
     },
     "execution_count": 157,
     "metadata": {},
     "output_type": "execute_result"
    }
   ],
   "source": [
    "valid = pd.read_csv(\"../../../../ndlc_psp_validation.csv\")\n",
    "valid[\"Date (DD/MM/YYYY)\"] = pd.to_datetime(valid[\"Date (DD/MM/YYYY)\"],  format=\"%d/%m/%y\")\n",
    "valid = valid[[\"Date (DD/MM/YYYY)\",\"Max.Demand met during the day (MW)\"]]\n",
    "valid.set_index('Date (DD/MM/YYYY)', inplace=True)\n",
    "valid_t = valid['2023-06-08':]\n",
    "day_shifts = np.arange(1, 8).astype(int)\n",
    "valid_test = {i : valid[\"Max.Demand met during the day (MW)\"].shift(i) for i in day_shifts}\n",
    "valid_test = pd.DataFrame(valid_test)\n",
    "valid_test = valid_test.dropna()\n",
    "valid_test['day_of_week'] = valid_test.index.day_of_week\n",
    "valid_test['month_of_year'] = valid_test.index.month\n",
    "valid_test.columns = X_test_no.columns\n",
    "y_pred = gbm.predict(valid_test)\n",
    "MAPE(y_pred,valid_t)"
   ]
  },
  {
   "cell_type": "code",
   "execution_count": null,
   "id": "848f2211",
   "metadata": {},
   "outputs": [],
   "source": []
  }
 ],
 "metadata": {
  "kernelspec": {
   "display_name": "Python 3 (ipykernel)",
   "language": "python",
   "name": "python3"
  },
  "language_info": {
   "codemirror_mode": {
    "name": "ipython",
    "version": 3
   },
   "file_extension": ".py",
   "mimetype": "text/x-python",
   "name": "python",
   "nbconvert_exporter": "python",
   "pygments_lexer": "ipython3",
   "version": "3.10.10"
  }
 },
 "nbformat": 4,
 "nbformat_minor": 5
}
